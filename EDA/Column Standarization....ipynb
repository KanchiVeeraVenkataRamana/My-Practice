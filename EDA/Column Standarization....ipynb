{
 "cells": [
  {
   "cell_type": "markdown",
   "id": "0da4b7b2",
   "metadata": {},
   "source": [
    "# 1.Simple Imputer"
   ]
  },
  {
   "cell_type": "code",
   "execution_count": 1,
   "id": "809a32d7",
   "metadata": {},
   "outputs": [
    {
     "data": {
      "text/html": [
       "<div>\n",
       "<style scoped>\n",
       "    .dataframe tbody tr th:only-of-type {\n",
       "        vertical-align: middle;\n",
       "    }\n",
       "\n",
       "    .dataframe tbody tr th {\n",
       "        vertical-align: top;\n",
       "    }\n",
       "\n",
       "    .dataframe thead th {\n",
       "        text-align: right;\n",
       "    }\n",
       "</style>\n",
       "<table border=\"1\" class=\"dataframe\">\n",
       "  <thead>\n",
       "    <tr style=\"text-align: right;\">\n",
       "      <th></th>\n",
       "      <th>Col</th>\n",
       "    </tr>\n",
       "  </thead>\n",
       "  <tbody>\n",
       "    <tr>\n",
       "      <th>0</th>\n",
       "      <td>75.0</td>\n",
       "    </tr>\n",
       "    <tr>\n",
       "      <th>1</th>\n",
       "      <td>88.0</td>\n",
       "    </tr>\n",
       "    <tr>\n",
       "      <th>2</th>\n",
       "      <td>NaN</td>\n",
       "    </tr>\n",
       "    <tr>\n",
       "      <th>3</th>\n",
       "      <td>94.0</td>\n",
       "    </tr>\n",
       "    <tr>\n",
       "      <th>4</th>\n",
       "      <td>168.0</td>\n",
       "    </tr>\n",
       "    <tr>\n",
       "      <th>5</th>\n",
       "      <td>NaN</td>\n",
       "    </tr>\n",
       "    <tr>\n",
       "      <th>6</th>\n",
       "      <td>543.0</td>\n",
       "    </tr>\n",
       "  </tbody>\n",
       "</table>\n",
       "</div>"
      ],
      "text/plain": [
       "     Col\n",
       "0   75.0\n",
       "1   88.0\n",
       "2    NaN\n",
       "3   94.0\n",
       "4  168.0\n",
       "5    NaN\n",
       "6  543.0"
      ]
     },
     "execution_count": 1,
     "metadata": {},
     "output_type": "execute_result"
    }
   ],
   "source": [
    "from sklearn.impute import SimpleImputer\n",
    "import pandas as pd\n",
    "import numpy as np\n",
    "df2=pd.DataFrame()\n",
    "df2['Col']=[75,88,np.nan,94,168,np.nan,543]\n",
    "df2"
   ]
  },
  {
   "cell_type": "code",
   "execution_count": 2,
   "id": "7b993699",
   "metadata": {},
   "outputs": [
    {
     "data": {
      "text/plain": [
       "array([[ 75. ],\n",
       "       [ 88. ],\n",
       "       [193.6],\n",
       "       [ 94. ],\n",
       "       [168. ],\n",
       "       [193.6],\n",
       "       [543. ]])"
      ]
     },
     "execution_count": 2,
     "metadata": {},
     "output_type": "execute_result"
    }
   ],
   "source": [
    "#mean\n",
    "s_mean=SimpleImputer(strategy='mean')\n",
    "mean=s_mean.fit_transform(df2)\n",
    "mean"
   ]
  },
  {
   "cell_type": "code",
   "execution_count": 6,
   "id": "97ddcb9e",
   "metadata": {},
   "outputs": [
    {
     "data": {
      "text/plain": [
       "array([[ 75.],\n",
       "       [ 88.],\n",
       "       [ 94.],\n",
       "       [ 94.],\n",
       "       [168.],\n",
       "       [ 94.],\n",
       "       [543.]])"
      ]
     },
     "execution_count": 6,
     "metadata": {},
     "output_type": "execute_result"
    }
   ],
   "source": [
    "#median\n",
    "s_median=SimpleImputer(strategy='median')\n",
    "median=s_median.fit_transform(df2)\n",
    "median"
   ]
  },
  {
   "cell_type": "code",
   "execution_count": 10,
   "id": "3fd32698",
   "metadata": {},
   "outputs": [
    {
     "data": {
      "text/plain": [
       "array([[ 75.],\n",
       "       [ 88.],\n",
       "       [ 75.],\n",
       "       [ 94.],\n",
       "       [168.],\n",
       "       [ 75.],\n",
       "       [543.]])"
      ]
     },
     "execution_count": 10,
     "metadata": {},
     "output_type": "execute_result"
    }
   ],
   "source": [
    "#most frequent\n",
    "s_most_frequent=SimpleImputer(strategy='most_frequent')\n",
    "most_frequent=s_most_frequent.fit_transform(df2)\n",
    "most_frequent"
   ]
  },
  {
   "cell_type": "code",
   "execution_count": 11,
   "id": "2fa64b04",
   "metadata": {},
   "outputs": [
    {
     "data": {
      "text/plain": [
       "array([[ 75.],\n",
       "       [ 88.],\n",
       "       [  0.],\n",
       "       [ 94.],\n",
       "       [168.],\n",
       "       [  0.],\n",
       "       [543.]])"
      ]
     },
     "execution_count": 11,
     "metadata": {},
     "output_type": "execute_result"
    }
   ],
   "source": [
    "#constant\n",
    "con=SimpleImputer(strategy='constant')\n",
    "constant=con.fit_transform(df2)\n",
    "constant"
   ]
  },
  {
   "cell_type": "code",
   "execution_count": null,
   "id": "22ad29dd",
   "metadata": {},
   "outputs": [],
   "source": []
  },
  {
   "cell_type": "markdown",
   "id": "00e976b4",
   "metadata": {},
   "source": [
    "# 2.Dummies"
   ]
  },
  {
   "cell_type": "code",
   "execution_count": 12,
   "id": "eb8655d4",
   "metadata": {},
   "outputs": [
    {
     "data": {
      "text/html": [
       "<div>\n",
       "<style scoped>\n",
       "    .dataframe tbody tr th:only-of-type {\n",
       "        vertical-align: middle;\n",
       "    }\n",
       "\n",
       "    .dataframe tbody tr th {\n",
       "        vertical-align: top;\n",
       "    }\n",
       "\n",
       "    .dataframe thead th {\n",
       "        text-align: right;\n",
       "    }\n",
       "</style>\n",
       "<table border=\"1\" class=\"dataframe\">\n",
       "  <thead>\n",
       "    <tr style=\"text-align: right;\">\n",
       "      <th></th>\n",
       "      <th>total_bill</th>\n",
       "      <th>tip</th>\n",
       "      <th>sex</th>\n",
       "      <th>smoker</th>\n",
       "      <th>day</th>\n",
       "      <th>time</th>\n",
       "      <th>size</th>\n",
       "    </tr>\n",
       "  </thead>\n",
       "  <tbody>\n",
       "    <tr>\n",
       "      <th>0</th>\n",
       "      <td>16.99</td>\n",
       "      <td>1.01</td>\n",
       "      <td>Female</td>\n",
       "      <td>No</td>\n",
       "      <td>Sun</td>\n",
       "      <td>Dinner</td>\n",
       "      <td>2</td>\n",
       "    </tr>\n",
       "    <tr>\n",
       "      <th>1</th>\n",
       "      <td>10.34</td>\n",
       "      <td>1.66</td>\n",
       "      <td>Male</td>\n",
       "      <td>No</td>\n",
       "      <td>Sun</td>\n",
       "      <td>Dinner</td>\n",
       "      <td>3</td>\n",
       "    </tr>\n",
       "    <tr>\n",
       "      <th>2</th>\n",
       "      <td>21.01</td>\n",
       "      <td>3.50</td>\n",
       "      <td>Male</td>\n",
       "      <td>No</td>\n",
       "      <td>Sun</td>\n",
       "      <td>Dinner</td>\n",
       "      <td>3</td>\n",
       "    </tr>\n",
       "    <tr>\n",
       "      <th>3</th>\n",
       "      <td>23.68</td>\n",
       "      <td>3.31</td>\n",
       "      <td>Male</td>\n",
       "      <td>No</td>\n",
       "      <td>Sun</td>\n",
       "      <td>Dinner</td>\n",
       "      <td>2</td>\n",
       "    </tr>\n",
       "    <tr>\n",
       "      <th>4</th>\n",
       "      <td>24.59</td>\n",
       "      <td>3.61</td>\n",
       "      <td>Female</td>\n",
       "      <td>No</td>\n",
       "      <td>Sun</td>\n",
       "      <td>Dinner</td>\n",
       "      <td>4</td>\n",
       "    </tr>\n",
       "  </tbody>\n",
       "</table>\n",
       "</div>"
      ],
      "text/plain": [
       "   total_bill   tip     sex smoker  day    time  size\n",
       "0       16.99  1.01  Female     No  Sun  Dinner     2\n",
       "1       10.34  1.66    Male     No  Sun  Dinner     3\n",
       "2       21.01  3.50    Male     No  Sun  Dinner     3\n",
       "3       23.68  3.31    Male     No  Sun  Dinner     2\n",
       "4       24.59  3.61  Female     No  Sun  Dinner     4"
      ]
     },
     "execution_count": 12,
     "metadata": {},
     "output_type": "execute_result"
    }
   ],
   "source": [
    "import pandas as pd\n",
    "df=pd.read_csv('test.csv')\n",
    "df.head()"
   ]
  },
  {
   "cell_type": "code",
   "execution_count": 13,
   "id": "3a9c3d73",
   "metadata": {},
   "outputs": [
    {
     "data": {
      "text/html": [
       "<div>\n",
       "<style scoped>\n",
       "    .dataframe tbody tr th:only-of-type {\n",
       "        vertical-align: middle;\n",
       "    }\n",
       "\n",
       "    .dataframe tbody tr th {\n",
       "        vertical-align: top;\n",
       "    }\n",
       "\n",
       "    .dataframe thead th {\n",
       "        text-align: right;\n",
       "    }\n",
       "</style>\n",
       "<table border=\"1\" class=\"dataframe\">\n",
       "  <thead>\n",
       "    <tr style=\"text-align: right;\">\n",
       "      <th></th>\n",
       "      <th>total_bill</th>\n",
       "      <th>tip</th>\n",
       "      <th>size</th>\n",
       "      <th>sex_Female</th>\n",
       "      <th>sex_Male</th>\n",
       "      <th>smoker_No</th>\n",
       "      <th>smoker_Yes</th>\n",
       "      <th>day_Fri</th>\n",
       "      <th>day_Sat</th>\n",
       "      <th>day_Sun</th>\n",
       "      <th>day_Thur</th>\n",
       "      <th>time_Dinner</th>\n",
       "      <th>time_Lunch</th>\n",
       "    </tr>\n",
       "  </thead>\n",
       "  <tbody>\n",
       "    <tr>\n",
       "      <th>0</th>\n",
       "      <td>16.99</td>\n",
       "      <td>1.01</td>\n",
       "      <td>2</td>\n",
       "      <td>1</td>\n",
       "      <td>0</td>\n",
       "      <td>1</td>\n",
       "      <td>0</td>\n",
       "      <td>0</td>\n",
       "      <td>0</td>\n",
       "      <td>1</td>\n",
       "      <td>0</td>\n",
       "      <td>1</td>\n",
       "      <td>0</td>\n",
       "    </tr>\n",
       "    <tr>\n",
       "      <th>1</th>\n",
       "      <td>10.34</td>\n",
       "      <td>1.66</td>\n",
       "      <td>3</td>\n",
       "      <td>0</td>\n",
       "      <td>1</td>\n",
       "      <td>1</td>\n",
       "      <td>0</td>\n",
       "      <td>0</td>\n",
       "      <td>0</td>\n",
       "      <td>1</td>\n",
       "      <td>0</td>\n",
       "      <td>1</td>\n",
       "      <td>0</td>\n",
       "    </tr>\n",
       "    <tr>\n",
       "      <th>2</th>\n",
       "      <td>21.01</td>\n",
       "      <td>3.50</td>\n",
       "      <td>3</td>\n",
       "      <td>0</td>\n",
       "      <td>1</td>\n",
       "      <td>1</td>\n",
       "      <td>0</td>\n",
       "      <td>0</td>\n",
       "      <td>0</td>\n",
       "      <td>1</td>\n",
       "      <td>0</td>\n",
       "      <td>1</td>\n",
       "      <td>0</td>\n",
       "    </tr>\n",
       "    <tr>\n",
       "      <th>3</th>\n",
       "      <td>23.68</td>\n",
       "      <td>3.31</td>\n",
       "      <td>2</td>\n",
       "      <td>0</td>\n",
       "      <td>1</td>\n",
       "      <td>1</td>\n",
       "      <td>0</td>\n",
       "      <td>0</td>\n",
       "      <td>0</td>\n",
       "      <td>1</td>\n",
       "      <td>0</td>\n",
       "      <td>1</td>\n",
       "      <td>0</td>\n",
       "    </tr>\n",
       "    <tr>\n",
       "      <th>4</th>\n",
       "      <td>24.59</td>\n",
       "      <td>3.61</td>\n",
       "      <td>4</td>\n",
       "      <td>1</td>\n",
       "      <td>0</td>\n",
       "      <td>1</td>\n",
       "      <td>0</td>\n",
       "      <td>0</td>\n",
       "      <td>0</td>\n",
       "      <td>1</td>\n",
       "      <td>0</td>\n",
       "      <td>1</td>\n",
       "      <td>0</td>\n",
       "    </tr>\n",
       "  </tbody>\n",
       "</table>\n",
       "</div>"
      ],
      "text/plain": [
       "   total_bill   tip  size  sex_Female  sex_Male  smoker_No  smoker_Yes  \\\n",
       "0       16.99  1.01     2           1         0          1           0   \n",
       "1       10.34  1.66     3           0         1          1           0   \n",
       "2       21.01  3.50     3           0         1          1           0   \n",
       "3       23.68  3.31     2           0         1          1           0   \n",
       "4       24.59  3.61     4           1         0          1           0   \n",
       "\n",
       "   day_Fri  day_Sat  day_Sun  day_Thur  time_Dinner  time_Lunch  \n",
       "0        0        0        1         0            1           0  \n",
       "1        0        0        1         0            1           0  \n",
       "2        0        0        1         0            1           0  \n",
       "3        0        0        1         0            1           0  \n",
       "4        0        0        1         0            1           0  "
      ]
     },
     "execution_count": 13,
     "metadata": {},
     "output_type": "execute_result"
    }
   ],
   "source": [
    "dummies=pd.get_dummies(df)\n",
    "dummies.head()"
   ]
  },
  {
   "cell_type": "code",
   "execution_count": 20,
   "id": "c38038ee",
   "metadata": {},
   "outputs": [
    {
     "data": {
      "text/plain": [
       "Index(['total_bill', 'tip', 'size', 'sex_Female', 'sex_Male', 'smoker_No',\n",
       "       'smoker_Yes', 'day_Fri', 'day_Sat', 'day_Sun', 'day_Thur',\n",
       "       'time_Dinner', 'time_Lunch'],\n",
       "      dtype='object')"
      ]
     },
     "execution_count": 20,
     "metadata": {},
     "output_type": "execute_result"
    }
   ],
   "source": [
    "dummies.keys()"
   ]
  },
  {
   "cell_type": "code",
   "execution_count": null,
   "id": "2053a54c",
   "metadata": {},
   "outputs": [],
   "source": []
  },
  {
   "cell_type": "code",
   "execution_count": null,
   "id": "d14ff39b",
   "metadata": {},
   "outputs": [],
   "source": []
  },
  {
   "cell_type": "markdown",
   "id": "a23fb487",
   "metadata": {},
   "source": [
    "# 3.OneHotEncoding"
   ]
  },
  {
   "cell_type": "code",
   "execution_count": 18,
   "id": "4e469b36",
   "metadata": {},
   "outputs": [
    {
     "data": {
      "text/plain": [
       "OneHotEncoder(sparse=False)"
      ]
     },
     "execution_count": 18,
     "metadata": {},
     "output_type": "execute_result"
    }
   ],
   "source": [
    "from sklearn.preprocessing import OneHotEncoder\n",
    "oh_enc=OneHotEncoder(sparse=False)\n",
    "oh_enc"
   ]
  },
  {
   "cell_type": "code",
   "execution_count": 19,
   "id": "78947ef5",
   "metadata": {},
   "outputs": [
    {
     "data": {
      "text/plain": [
       "array([[1., 0., 1., ..., 0., 1., 0.],\n",
       "       [0., 1., 1., ..., 0., 1., 0.],\n",
       "       [0., 1., 1., ..., 0., 1., 0.],\n",
       "       ...,\n",
       "       [0., 1., 0., ..., 0., 1., 0.],\n",
       "       [0., 1., 1., ..., 0., 1., 0.],\n",
       "       [1., 0., 1., ..., 1., 1., 0.]])"
      ]
     },
     "execution_count": 19,
     "metadata": {},
     "output_type": "execute_result"
    }
   ],
   "source": [
    "one_hot_encode=oh_enc.fit_transform(df[['sex','smoker','day','time']])\n",
    "one_hot_encode"
   ]
  },
  {
   "cell_type": "code",
   "execution_count": 25,
   "id": "588512e1",
   "metadata": {},
   "outputs": [
    {
     "data": {
      "text/html": [
       "<div>\n",
       "<style scoped>\n",
       "    .dataframe tbody tr th:only-of-type {\n",
       "        vertical-align: middle;\n",
       "    }\n",
       "\n",
       "    .dataframe tbody tr th {\n",
       "        vertical-align: top;\n",
       "    }\n",
       "\n",
       "    .dataframe thead tr th {\n",
       "        text-align: left;\n",
       "    }\n",
       "</style>\n",
       "<table border=\"1\" class=\"dataframe\">\n",
       "  <thead>\n",
       "    <tr>\n",
       "      <th></th>\n",
       "      <th>sex_Female</th>\n",
       "      <th>sex_Male</th>\n",
       "      <th>smoker_No</th>\n",
       "      <th>smoker_Yes</th>\n",
       "      <th>day_Fri</th>\n",
       "      <th>day_Sat</th>\n",
       "      <th>day_Sun</th>\n",
       "      <th>day_Thur</th>\n",
       "      <th>time_Dinner</th>\n",
       "      <th>time_Lunch</th>\n",
       "    </tr>\n",
       "  </thead>\n",
       "  <tbody>\n",
       "    <tr>\n",
       "      <th>0</th>\n",
       "      <td>1.0</td>\n",
       "      <td>0.0</td>\n",
       "      <td>1.0</td>\n",
       "      <td>0.0</td>\n",
       "      <td>0.0</td>\n",
       "      <td>0.0</td>\n",
       "      <td>1.0</td>\n",
       "      <td>0.0</td>\n",
       "      <td>1.0</td>\n",
       "      <td>0.0</td>\n",
       "    </tr>\n",
       "    <tr>\n",
       "      <th>1</th>\n",
       "      <td>0.0</td>\n",
       "      <td>1.0</td>\n",
       "      <td>1.0</td>\n",
       "      <td>0.0</td>\n",
       "      <td>0.0</td>\n",
       "      <td>0.0</td>\n",
       "      <td>1.0</td>\n",
       "      <td>0.0</td>\n",
       "      <td>1.0</td>\n",
       "      <td>0.0</td>\n",
       "    </tr>\n",
       "    <tr>\n",
       "      <th>2</th>\n",
       "      <td>0.0</td>\n",
       "      <td>1.0</td>\n",
       "      <td>1.0</td>\n",
       "      <td>0.0</td>\n",
       "      <td>0.0</td>\n",
       "      <td>0.0</td>\n",
       "      <td>1.0</td>\n",
       "      <td>0.0</td>\n",
       "      <td>1.0</td>\n",
       "      <td>0.0</td>\n",
       "    </tr>\n",
       "    <tr>\n",
       "      <th>3</th>\n",
       "      <td>0.0</td>\n",
       "      <td>1.0</td>\n",
       "      <td>1.0</td>\n",
       "      <td>0.0</td>\n",
       "      <td>0.0</td>\n",
       "      <td>0.0</td>\n",
       "      <td>1.0</td>\n",
       "      <td>0.0</td>\n",
       "      <td>1.0</td>\n",
       "      <td>0.0</td>\n",
       "    </tr>\n",
       "    <tr>\n",
       "      <th>4</th>\n",
       "      <td>1.0</td>\n",
       "      <td>0.0</td>\n",
       "      <td>1.0</td>\n",
       "      <td>0.0</td>\n",
       "      <td>0.0</td>\n",
       "      <td>0.0</td>\n",
       "      <td>1.0</td>\n",
       "      <td>0.0</td>\n",
       "      <td>1.0</td>\n",
       "      <td>0.0</td>\n",
       "    </tr>\n",
       "  </tbody>\n",
       "</table>\n",
       "</div>"
      ],
      "text/plain": [
       "  sex_Female sex_Male smoker_No smoker_Yes day_Fri day_Sat day_Sun day_Thur  \\\n",
       "0        1.0      0.0       1.0        0.0     0.0     0.0     1.0      0.0   \n",
       "1        0.0      1.0       1.0        0.0     0.0     0.0     1.0      0.0   \n",
       "2        0.0      1.0       1.0        0.0     0.0     0.0     1.0      0.0   \n",
       "3        0.0      1.0       1.0        0.0     0.0     0.0     1.0      0.0   \n",
       "4        1.0      0.0       1.0        0.0     0.0     0.0     1.0      0.0   \n",
       "\n",
       "  time_Dinner time_Lunch  \n",
       "0         1.0        0.0  \n",
       "1         1.0        0.0  \n",
       "2         1.0        0.0  \n",
       "3         1.0        0.0  \n",
       "4         1.0        0.0  "
      ]
     },
     "execution_count": 25,
     "metadata": {},
     "output_type": "execute_result"
    }
   ],
   "source": [
    "one_hot_encode1=pd.DataFrame(one_hot_encode,columns=[['sex_Female', 'sex_Male', 'smoker_No','smoker_Yes', 'day_Fri', \n",
    "                                                     'day_Sat', 'day_Sun', 'day_Thur','time_Dinner', 'time_Lunch']])\n",
    "one_hot_encode1.head()"
   ]
  },
  {
   "cell_type": "code",
   "execution_count": null,
   "id": "48740703",
   "metadata": {},
   "outputs": [],
   "source": []
  },
  {
   "cell_type": "markdown",
   "id": "91766a57",
   "metadata": {},
   "source": [
    "# 4.LabelEncoder"
   ]
  },
  {
   "cell_type": "code",
   "execution_count": 28,
   "id": "a311b1bd",
   "metadata": {},
   "outputs": [
    {
     "data": {
      "text/html": [
       "<div>\n",
       "<style scoped>\n",
       "    .dataframe tbody tr th:only-of-type {\n",
       "        vertical-align: middle;\n",
       "    }\n",
       "\n",
       "    .dataframe tbody tr th {\n",
       "        vertical-align: top;\n",
       "    }\n",
       "\n",
       "    .dataframe thead th {\n",
       "        text-align: right;\n",
       "    }\n",
       "</style>\n",
       "<table border=\"1\" class=\"dataframe\">\n",
       "  <thead>\n",
       "    <tr style=\"text-align: right;\">\n",
       "      <th></th>\n",
       "      <th>Id</th>\n",
       "      <th>SepalLengthCm</th>\n",
       "      <th>SepalWidthCm</th>\n",
       "      <th>PetalLengthCm</th>\n",
       "      <th>PetalWidthCm</th>\n",
       "      <th>Species</th>\n",
       "    </tr>\n",
       "  </thead>\n",
       "  <tbody>\n",
       "    <tr>\n",
       "      <th>0</th>\n",
       "      <td>1</td>\n",
       "      <td>5.1</td>\n",
       "      <td>3.5</td>\n",
       "      <td>1.4</td>\n",
       "      <td>0.2</td>\n",
       "      <td>Iris-setosa</td>\n",
       "    </tr>\n",
       "    <tr>\n",
       "      <th>1</th>\n",
       "      <td>2</td>\n",
       "      <td>4.9</td>\n",
       "      <td>3.0</td>\n",
       "      <td>1.4</td>\n",
       "      <td>0.2</td>\n",
       "      <td>Iris-setosa</td>\n",
       "    </tr>\n",
       "    <tr>\n",
       "      <th>2</th>\n",
       "      <td>3</td>\n",
       "      <td>4.7</td>\n",
       "      <td>3.2</td>\n",
       "      <td>1.3</td>\n",
       "      <td>0.2</td>\n",
       "      <td>Iris-setosa</td>\n",
       "    </tr>\n",
       "    <tr>\n",
       "      <th>3</th>\n",
       "      <td>4</td>\n",
       "      <td>4.6</td>\n",
       "      <td>3.1</td>\n",
       "      <td>1.5</td>\n",
       "      <td>0.2</td>\n",
       "      <td>Iris-setosa</td>\n",
       "    </tr>\n",
       "    <tr>\n",
       "      <th>4</th>\n",
       "      <td>5</td>\n",
       "      <td>5.0</td>\n",
       "      <td>3.6</td>\n",
       "      <td>1.4</td>\n",
       "      <td>0.2</td>\n",
       "      <td>Iris-setosa</td>\n",
       "    </tr>\n",
       "  </tbody>\n",
       "</table>\n",
       "</div>"
      ],
      "text/plain": [
       "   Id  SepalLengthCm  SepalWidthCm  PetalLengthCm  PetalWidthCm      Species\n",
       "0   1            5.1           3.5            1.4           0.2  Iris-setosa\n",
       "1   2            4.9           3.0            1.4           0.2  Iris-setosa\n",
       "2   3            4.7           3.2            1.3           0.2  Iris-setosa\n",
       "3   4            4.6           3.1            1.5           0.2  Iris-setosa\n",
       "4   5            5.0           3.6            1.4           0.2  Iris-setosa"
      ]
     },
     "execution_count": 28,
     "metadata": {},
     "output_type": "execute_result"
    }
   ],
   "source": [
    "d1=pd.read_csv('iris.csv')\n",
    "d1.head()"
   ]
  },
  {
   "cell_type": "code",
   "execution_count": 29,
   "id": "2607f8fd",
   "metadata": {},
   "outputs": [
    {
     "data": {
      "text/plain": [
       "array(['Iris-setosa', 'Iris-versicolor', 'Iris-virginica'], dtype=object)"
      ]
     },
     "execution_count": 29,
     "metadata": {},
     "output_type": "execute_result"
    }
   ],
   "source": [
    "d1['Species'].unique()"
   ]
  },
  {
   "cell_type": "code",
   "execution_count": 30,
   "id": "cd557271",
   "metadata": {},
   "outputs": [
    {
     "data": {
      "text/plain": [
       "Iris-setosa        50\n",
       "Iris-versicolor    50\n",
       "Iris-virginica     50\n",
       "Name: Species, dtype: int64"
      ]
     },
     "execution_count": 30,
     "metadata": {},
     "output_type": "execute_result"
    }
   ],
   "source": [
    "d1['Species'].value_counts()"
   ]
  },
  {
   "cell_type": "code",
   "execution_count": 31,
   "id": "ab702f3f",
   "metadata": {},
   "outputs": [
    {
     "data": {
      "text/plain": [
       "LabelEncoder()"
      ]
     },
     "execution_count": 31,
     "metadata": {},
     "output_type": "execute_result"
    }
   ],
   "source": [
    "from sklearn.preprocessing import LabelEncoder\n",
    "le=LabelEncoder()\n",
    "le"
   ]
  },
  {
   "cell_type": "code",
   "execution_count": 32,
   "id": "acbe6047",
   "metadata": {},
   "outputs": [
    {
     "data": {
      "text/plain": [
       "array([0, 0, 0, 0, 0, 0, 0, 0, 0, 0, 0, 0, 0, 0, 0, 0, 0, 0, 0, 0, 0, 0,\n",
       "       0, 0, 0, 0, 0, 0, 0, 0, 0, 0, 0, 0, 0, 0, 0, 0, 0, 0, 0, 0, 0, 0,\n",
       "       0, 0, 0, 0, 0, 0, 1, 1, 1, 1, 1, 1, 1, 1, 1, 1, 1, 1, 1, 1, 1, 1,\n",
       "       1, 1, 1, 1, 1, 1, 1, 1, 1, 1, 1, 1, 1, 1, 1, 1, 1, 1, 1, 1, 1, 1,\n",
       "       1, 1, 1, 1, 1, 1, 1, 1, 1, 1, 1, 1, 2, 2, 2, 2, 2, 2, 2, 2, 2, 2,\n",
       "       2, 2, 2, 2, 2, 2, 2, 2, 2, 2, 2, 2, 2, 2, 2, 2, 2, 2, 2, 2, 2, 2,\n",
       "       2, 2, 2, 2, 2, 2, 2, 2, 2, 2, 2, 2, 2, 2, 2, 2, 2, 2])"
      ]
     },
     "execution_count": 32,
     "metadata": {},
     "output_type": "execute_result"
    }
   ],
   "source": [
    "df=le.fit_transform(d1['Species'])\n",
    "df"
   ]
  },
  {
   "cell_type": "code",
   "execution_count": 37,
   "id": "2ebb231d",
   "metadata": {},
   "outputs": [
    {
     "data": {
      "text/html": [
       "<div>\n",
       "<style scoped>\n",
       "    .dataframe tbody tr th:only-of-type {\n",
       "        vertical-align: middle;\n",
       "    }\n",
       "\n",
       "    .dataframe tbody tr th {\n",
       "        vertical-align: top;\n",
       "    }\n",
       "\n",
       "    .dataframe thead th {\n",
       "        text-align: right;\n",
       "    }\n",
       "</style>\n",
       "<table border=\"1\" class=\"dataframe\">\n",
       "  <thead>\n",
       "    <tr style=\"text-align: right;\">\n",
       "      <th></th>\n",
       "      <th>Id</th>\n",
       "      <th>SepalLengthCm</th>\n",
       "      <th>SepalWidthCm</th>\n",
       "      <th>PetalLengthCm</th>\n",
       "      <th>PetalWidthCm</th>\n",
       "      <th>Species</th>\n",
       "    </tr>\n",
       "  </thead>\n",
       "  <tbody>\n",
       "    <tr>\n",
       "      <th>0</th>\n",
       "      <td>1</td>\n",
       "      <td>5.1</td>\n",
       "      <td>3.5</td>\n",
       "      <td>1.4</td>\n",
       "      <td>0.2</td>\n",
       "      <td>0</td>\n",
       "    </tr>\n",
       "    <tr>\n",
       "      <th>1</th>\n",
       "      <td>2</td>\n",
       "      <td>4.9</td>\n",
       "      <td>3.0</td>\n",
       "      <td>1.4</td>\n",
       "      <td>0.2</td>\n",
       "      <td>0</td>\n",
       "    </tr>\n",
       "    <tr>\n",
       "      <th>2</th>\n",
       "      <td>3</td>\n",
       "      <td>4.7</td>\n",
       "      <td>3.2</td>\n",
       "      <td>1.3</td>\n",
       "      <td>0.2</td>\n",
       "      <td>0</td>\n",
       "    </tr>\n",
       "    <tr>\n",
       "      <th>3</th>\n",
       "      <td>4</td>\n",
       "      <td>4.6</td>\n",
       "      <td>3.1</td>\n",
       "      <td>1.5</td>\n",
       "      <td>0.2</td>\n",
       "      <td>0</td>\n",
       "    </tr>\n",
       "    <tr>\n",
       "      <th>4</th>\n",
       "      <td>5</td>\n",
       "      <td>5.0</td>\n",
       "      <td>3.6</td>\n",
       "      <td>1.4</td>\n",
       "      <td>0.2</td>\n",
       "      <td>0</td>\n",
       "    </tr>\n",
       "  </tbody>\n",
       "</table>\n",
       "</div>"
      ],
      "text/plain": [
       "   Id  SepalLengthCm  SepalWidthCm  PetalLengthCm  PetalWidthCm  Species\n",
       "0   1            5.1           3.5            1.4           0.2        0\n",
       "1   2            4.9           3.0            1.4           0.2        0\n",
       "2   3            4.7           3.2            1.3           0.2        0\n",
       "3   4            4.6           3.1            1.5           0.2        0\n",
       "4   5            5.0           3.6            1.4           0.2        0"
      ]
     },
     "execution_count": 37,
     "metadata": {},
     "output_type": "execute_result"
    }
   ],
   "source": [
    "d1['Species']=le.fit_transform(d1['Species'])\n",
    "d1.head()"
   ]
  },
  {
   "cell_type": "code",
   "execution_count": 38,
   "id": "f0b2c3e2",
   "metadata": {},
   "outputs": [
    {
     "data": {
      "text/plain": [
       "0    50\n",
       "1    50\n",
       "2    50\n",
       "Name: Species, dtype: int64"
      ]
     },
     "execution_count": 38,
     "metadata": {},
     "output_type": "execute_result"
    }
   ],
   "source": [
    "d1['Species'].value_counts()"
   ]
  },
  {
   "cell_type": "code",
   "execution_count": 39,
   "id": "bdc23693",
   "metadata": {},
   "outputs": [
    {
     "data": {
      "text/plain": [
       "dtype('int32')"
      ]
     },
     "execution_count": 39,
     "metadata": {},
     "output_type": "execute_result"
    }
   ],
   "source": [
    "d1['Species'].dtypes"
   ]
  },
  {
   "cell_type": "code",
   "execution_count": 40,
   "id": "c6ec91d0",
   "metadata": {},
   "outputs": [
    {
     "data": {
      "text/plain": [
       "array([0, 1, 2])"
      ]
     },
     "execution_count": 40,
     "metadata": {},
     "output_type": "execute_result"
    }
   ],
   "source": [
    "d1['Species'].unique()"
   ]
  },
  {
   "cell_type": "code",
   "execution_count": null,
   "id": "1aa80c0b",
   "metadata": {},
   "outputs": [],
   "source": []
  },
  {
   "cell_type": "code",
   "execution_count": null,
   "id": "f4929369",
   "metadata": {},
   "outputs": [],
   "source": []
  },
  {
   "cell_type": "markdown",
   "id": "c1ae041b",
   "metadata": {},
   "source": [
    "# 5.Standardization/Standard Scaler"
   ]
  },
  {
   "cell_type": "code",
   "execution_count": 5,
   "id": "11e174dc",
   "metadata": {},
   "outputs": [
    {
     "data": {
      "text/html": [
       "<div>\n",
       "<style scoped>\n",
       "    .dataframe tbody tr th:only-of-type {\n",
       "        vertical-align: middle;\n",
       "    }\n",
       "\n",
       "    .dataframe tbody tr th {\n",
       "        vertical-align: top;\n",
       "    }\n",
       "\n",
       "    .dataframe thead th {\n",
       "        text-align: right;\n",
       "    }\n",
       "</style>\n",
       "<table border=\"1\" class=\"dataframe\">\n",
       "  <thead>\n",
       "    <tr style=\"text-align: right;\">\n",
       "      <th></th>\n",
       "      <th>Head Size(cm^3)</th>\n",
       "      <th>Brain Weight(grams)</th>\n",
       "    </tr>\n",
       "  </thead>\n",
       "  <tbody>\n",
       "    <tr>\n",
       "      <th>0</th>\n",
       "      <td>4512</td>\n",
       "      <td>1530</td>\n",
       "    </tr>\n",
       "    <tr>\n",
       "      <th>1</th>\n",
       "      <td>3738</td>\n",
       "      <td>1297</td>\n",
       "    </tr>\n",
       "    <tr>\n",
       "      <th>2</th>\n",
       "      <td>4261</td>\n",
       "      <td>1335</td>\n",
       "    </tr>\n",
       "    <tr>\n",
       "      <th>3</th>\n",
       "      <td>3777</td>\n",
       "      <td>1282</td>\n",
       "    </tr>\n",
       "    <tr>\n",
       "      <th>4</th>\n",
       "      <td>4177</td>\n",
       "      <td>1590</td>\n",
       "    </tr>\n",
       "  </tbody>\n",
       "</table>\n",
       "</div>"
      ],
      "text/plain": [
       "   Head Size(cm^3)  Brain Weight(grams)\n",
       "0             4512                 1530\n",
       "1             3738                 1297\n",
       "2             4261                 1335\n",
       "3             3777                 1282\n",
       "4             4177                 1590"
      ]
     },
     "execution_count": 5,
     "metadata": {},
     "output_type": "execute_result"
    }
   ],
   "source": [
    "import pandas as pd\n",
    "df=pd.read_csv('headbrain.csv')\n",
    "df.head()"
   ]
  },
  {
   "cell_type": "code",
   "execution_count": 6,
   "id": "9271411b",
   "metadata": {},
   "outputs": [
    {
     "data": {
      "text/plain": [
       "<seaborn.axisgrid.PairGrid at 0x2b982d3e880>"
      ]
     },
     "execution_count": 6,
     "metadata": {},
     "output_type": "execute_result"
    },
    {
     "data": {
      "image/png": "[encoded data removed]",
      "text/plain": [
       "<Figure size 360x360 with 6 Axes>"
      ]
     },
     "metadata": {
      "needs_background": "light"
     },
     "output_type": "display_data"
    }
   ],
   "source": [
    "import seaborn as sn\n",
    "sn.pairplot(data=df)"
   ]
  },
  {
   "cell_type": "code",
   "execution_count": 7,
   "id": "94cd2ab6",
   "metadata": {},
   "outputs": [
    {
     "data": {
      "text/plain": [
       "StandardScaler()"
      ]
     },
     "execution_count": 7,
     "metadata": {},
     "output_type": "execute_result"
    }
   ],
   "source": [
    "from sklearn.preprocessing import StandardScaler\n",
    "sc=StandardScaler()\n",
    "sc"
   ]
  },
  {
   "cell_type": "code",
   "execution_count": 8,
   "id": "02fe92a0",
   "metadata": {},
   "outputs": [
    {
     "data": {
      "text/plain": [
       "array([[ 2.40886829,  2.0579083 ],\n",
       "       [ 0.28535333,  0.11763692],\n",
       "       [ 1.72023489,  0.43407603],\n",
       "       [ 0.39235214, -0.00727325],\n",
       "       [ 1.4897759 ,  2.557549  ],\n",
       "       [-0.13441126,  0.14261896],\n",
       "       [ 0.41430062,  0.97535345],\n",
       "       [-0.2057438 , -0.23211156],\n",
       "       [-0.05759159,  0.60062293],\n",
       "       [ 0.95478182,  0.76716983],\n",
       "       [-0.52399669,  0.47571276],\n",
       "       [ 0.98496097,  0.80880656],\n",
       "       [ 0.01648451,  0.60062293],\n",
       "       [ 1.57482624,  1.99128954],\n",
       "       [ 0.54324791, -0.62349678],\n",
       "       [ 0.66396452,  1.01699018],\n",
       "       [-0.37584448,  0.62560497],\n",
       "       [-0.46089482,  0.0760002 ],\n",
       "       [-1.47875536,  0.47571276],\n",
       "       [ 2.16743507,  0.97535345],\n",
       "       [ 0.66945164,  0.61727762],\n",
       "       [ 1.13036962,  0.03436347],\n",
       "       [ 0.46642825, -0.06556467],\n",
       "       [ 0.20853367, -0.10720139],\n",
       "       [ 3.05360475,  2.93227952],\n",
       "       [ 2.16469151,  1.84972468],\n",
       "       [ 1.10293403,  1.7248145 ],\n",
       "       [ 1.06452419,  1.68317778],\n",
       "       [-0.49381754,  0.22589241],\n",
       "       [ 1.48428878,  1.14190035],\n",
       "       [ 0.41978774,  0.29251117],\n",
       "       [ 0.44447977,  1.24182849],\n",
       "       [ 1.28675251,  0.67556904],\n",
       "       [ 1.44587895,  1.01699018],\n",
       "       [ 1.43764827,  1.24182849],\n",
       "       [ 0.49386384, -0.63182412],\n",
       "       [-0.2935377 ,  0.76716983],\n",
       "       [ 0.31278892,  0.55898621],\n",
       "       [-0.82304466, -0.39033112],\n",
       "       [-0.38956228, -0.27374829],\n",
       "       [ 0.89991063,  0.55898621],\n",
       "       [-0.35389601,  0.30916586],\n",
       "       [ 1.8683871 ,  2.01627157],\n",
       "       [ 0.46642825,  2.3910021 ],\n",
       "       [ 0.62829825,  0.47571276],\n",
       "       [ 1.09744691,  1.15855504],\n",
       "       [ 1.84918218,  1.85805202],\n",
       "       [-1.2867062 , -0.56520536],\n",
       "       [ 0.01922807,  0.23421975],\n",
       "       [ 0.02745875,  0.14261896],\n",
       "       [ 0.70511792, -0.49025926],\n",
       "       [ 0.4362491 ,  0.55898621],\n",
       "       [ 1.74492692,  0.43407603],\n",
       "       [ 1.17701013,  0.89208   ],\n",
       "       [ 1.0370886 ,  0.97535345],\n",
       "       [-0.4828433 , -0.48193191],\n",
       "       [ 0.70237436,  0.22589241],\n",
       "       [ 1.45959675,  2.30772865],\n",
       "       [ 0.82583453,  0.39243931],\n",
       "       [ 0.09604773, -0.50691395],\n",
       "       [ 0.63652893,  1.10026363],\n",
       "       [-0.66117466, -0.89829916],\n",
       "       [ 2.21681914,  0.39243931],\n",
       "       [ 1.69828641,  1.68317778],\n",
       "       [ 0.25517418,  1.5582676 ],\n",
       "       [-0.83676246, -1.23139296],\n",
       "       [-0.60081635,  0.22589241],\n",
       "       [-0.71878941, -1.07317341],\n",
       "       [ 2.18389643,  1.8913614 ],\n",
       "       [ 2.04946202,  1.10026363],\n",
       "       [ 1.02611436,  1.54161291],\n",
       "       [ 0.61458046,  0.89208   ],\n",
       "       [ 1.33613657,  0.80880656],\n",
       "       [ 1.16054877,  1.24182849],\n",
       "       [ 0.52129944, -0.35702174],\n",
       "       [-0.6584311 , -0.73175226],\n",
       "       [-0.20848736, -0.48193191],\n",
       "       [-0.746225  , -0.79004368],\n",
       "       [ 0.81211673, -0.2570936 ],\n",
       "       [ 0.55147859,  0.26752913],\n",
       "       [ 0.53776079, -0.31538501],\n",
       "       [ 0.60909334,  1.2251738 ],\n",
       "       [-1.05624721, -0.03225529],\n",
       "       [-0.15635973, -0.31538501],\n",
       "       [ 0.82034741,  0.21756506],\n",
       "       [ 0.59263198,  1.07528159],\n",
       "       [-0.89163365, -1.35630313],\n",
       "       [-0.62550839, -0.52356864],\n",
       "       [-0.35115245, -0.02392794],\n",
       "       [ 0.74901487,  1.30844725],\n",
       "       [ 1.44313539,  0.72553311],\n",
       "       [-0.86694161, -0.7567343 ],\n",
       "       [ 0.07684282, -0.44029519],\n",
       "       [ 0.72706639,  0.52567683],\n",
       "       [ 0.18109807,  0.05934551],\n",
       "       [ 0.39783926, -0.98157261],\n",
       "       [-0.44168991, -0.35702174],\n",
       "       [-0.3950494 , -1.25637499],\n",
       "       [ 0.05489434, -0.34036705],\n",
       "       [-0.42797211, -0.10720139],\n",
       "       [-0.3813316 , -0.54022333],\n",
       "       [ 0.54873503,  1.2251738 ],\n",
       "       [ 0.66396452,  2.54089431],\n",
       "       [ 0.07409926,  0.30916586],\n",
       "       [-0.0438738 ,  0.05934551],\n",
       "       [ 0.03843298, -0.19047484],\n",
       "       [ 1.09195979,  1.18353708],\n",
       "       [-0.6447133 , -0.47360457],\n",
       "       [ 0.7737069 ,  0.64225966],\n",
       "       [ 2.18389643,  2.80736935],\n",
       "       [ 0.16738028,  0.22589241],\n",
       "       [-0.30176838, -0.27374829],\n",
       "       [-0.17282109,  0.10098223],\n",
       "       [-0.10971922,  0.05934551],\n",
       "       [-0.68861025,  0.05934551],\n",
       "       [-0.37035736, -0.06556467],\n",
       "       [-0.12343702, -0.27374829],\n",
       "       [ 0.72980995, -0.10720139],\n",
       "       [ 1.31693166,  0.65891435],\n",
       "       [ 0.83132165,  0.14261896],\n",
       "       [-0.6447133 , -0.91495385],\n",
       "       [ 1.55287777, -0.22378422],\n",
       "       [ 2.34302287,  1.30844725],\n",
       "       [-0.05484804, -0.85666244],\n",
       "       [ 1.14408742,  0.19258303],\n",
       "       [ 0.40606994,  0.55898621],\n",
       "       [-0.66666178, -1.31466641],\n",
       "       [-1.39919214, -0.98157261],\n",
       "       [ 1.14957454,  0.2425471 ],\n",
       "       [-0.14264194,  0.14261896],\n",
       "       [ 0.08781705, -0.10720139],\n",
       "       [-0.27981991,  0.43407603],\n",
       "       [ 1.13036962,  1.3917207 ],\n",
       "       [ 0.09056061,  0.22589241],\n",
       "       [-2.13172249, -2.13074621],\n",
       "       [-0.54320161, -0.39865846],\n",
       "       [ 0.43076198, -0.19047484],\n",
       "       [-0.91083856, -0.98157261],\n",
       "       [-1.45406332, -1.68939693],\n",
       "       [-1.27024484, -1.29801172],\n",
       "       [-0.17007753, -0.10720139],\n",
       "       [-0.28530702, -0.2570936 ],\n",
       "       [-1.25927061, -0.69011554],\n",
       "       [-0.53771449,  0.05934551],\n",
       "       [ 0.73804063,  0.42574869],\n",
       "       [ 0.72706639,  0.80880656],\n",
       "       [-0.63922618, -1.18975623],\n",
       "       [-1.00686314, -0.3320397 ],\n",
       "       [-0.50204822,  0.47571276],\n",
       "       [-1.49247315, -0.95659058],\n",
       "       [-0.60630347,  0.32582055],\n",
       "       [-0.85322382, -0.28207563],\n",
       "       [ 0.12622688,  0.3174932 ],\n",
       "       [-0.53497093, -0.7567343 ],\n",
       "       [ 0.60086266,  0.75051514],\n",
       "       [-1.31139823, -0.93993589],\n",
       "       [-0.97394043, -0.14883811],\n",
       "       [ 0.20030299, -0.39865846],\n",
       "       [ 1.02062724,  0.15927365],\n",
       "       [-1.00137602, -0.34869439],\n",
       "       [-1.54460078, -1.70605162],\n",
       "       [ 0.39783926,  1.97463485],\n",
       "       [-0.23592295,  1.47499415],\n",
       "       [-0.93827416, -1.73103366],\n",
       "       [-0.37584448, -0.02392794],\n",
       "       [-1.51442163, -0.85666244],\n",
       "       [-1.05899077, -0.27374829],\n",
       "       [-0.75719924, -0.77338899],\n",
       "       [ 0.46368469,  0.75884249],\n",
       "       [-0.18653889,  0.19258303],\n",
       "       [-1.34157739, -0.67346085],\n",
       "       [-0.35938313, -0.35702174],\n",
       "       [-0.17282109,  0.27585648],\n",
       "       [ 0.2469435 , -0.02392794],\n",
       "       [-0.05210448,  0.55898621],\n",
       "       [-1.18245094, -0.85666244],\n",
       "       [-0.06856583, -0.60684209],\n",
       "       [-0.20025668, -1.29801172],\n",
       "       [ 0.94655114,  0.34247524],\n",
       "       [-0.27707635, -0.60684209],\n",
       "       [ 0.15091892,  0.05934551],\n",
       "       [-1.30591112, -1.52285003],\n",
       "       [ 1.01788369, -0.02392794],\n",
       "       [-1.24280925, -0.89829916],\n",
       "       [-0.42522855, -1.02320934],\n",
       "       [ 0.02197163, -0.64847881],\n",
       "       [-0.00546397, -0.9982273 ],\n",
       "       [-1.5500879 , -2.17238294],\n",
       "       [-0.6584311 , -0.3320397 ],\n",
       "       [ 0.18932875,  0.55898621],\n",
       "       [-1.2867062 , -0.38200377],\n",
       "       [-0.76817348, -0.65680616],\n",
       "       [-1.7393935 , -1.60612348],\n",
       "       [ 0.1454318 ,  0.60062293],\n",
       "       [-0.21397448, -0.27374829],\n",
       "       [-2.36218148, -1.72270631],\n",
       "       [-1.58026705, -1.35630313],\n",
       "       [-0.79560907, -0.52356864],\n",
       "       [-0.38681872, -0.35702174],\n",
       "       [-0.92455636, -0.52356864],\n",
       "       [-0.75171212, -1.56448676],\n",
       "       [-1.11386196, -0.39865846],\n",
       "       [-0.97942755, -1.48121331],\n",
       "       [ 0.59537554,  1.01699018],\n",
       "       [-1.55557502, -1.10648279],\n",
       "       [ 0.1591496 ,  0.18425568],\n",
       "       [-0.63648263, -0.52356864],\n",
       "       [ 0.99044809,  0.10930958],\n",
       "       [-0.86694161, -0.89829916],\n",
       "       [-2.50759013, -2.73031505],\n",
       "       [-1.91223774, -1.77267038],\n",
       "       [-0.14812905,  0.30916586],\n",
       "       [-1.90675062, -1.85594383],\n",
       "       [-1.76957265, -1.27302968],\n",
       "       [-0.1316677 , -0.27374829],\n",
       "       [-1.31139823, -0.48193191],\n",
       "       [-1.06447789, -0.85666244],\n",
       "       [-1.2729884 , -0.87331713],\n",
       "       [-1.00411958, -1.17310154],\n",
       "       [-0.6721489 , -1.27302968],\n",
       "       [-0.69409737, -0.81502571],\n",
       "       [-2.11251758, -2.25565639],\n",
       "       [ 0.29084045, -0.02392794],\n",
       "       [-0.42522855, -1.497868  ],\n",
       "       [ 0.03568942,  1.04197221],\n",
       "       [ 0.22499502,  0.14261896],\n",
       "       [-0.96022263, -0.30705767],\n",
       "       [ 1.563852  ,  0.80880656],\n",
       "       [ 0.27712265,  0.55898621],\n",
       "       [-1.14129755, -1.85594383],\n",
       "       [ 0.13994468,  0.55898621],\n",
       "       [ 0.19207231, -0.52356864],\n",
       "       [-1.15227179, -1.43957658],\n",
       "       [-0.6584311 , -0.56520536],\n",
       "       [-1.10014416, -1.48954065],\n",
       "       [-0.77366059, -0.93993589],\n",
       "       [-0.66666178, -1.35630313]])"
      ]
     },
     "execution_count": 8,
     "metadata": {},
     "output_type": "execute_result"
    }
   ],
   "source": [
    "df=sc.fit_transform(df)\n",
    "df"
   ]
  },
  {
   "cell_type": "code",
   "execution_count": null,
   "id": "273de2d8",
   "metadata": {},
   "outputs": [],
   "source": []
  },
  {
   "cell_type": "code",
   "execution_count": null,
   "id": "ea96d15f",
   "metadata": {},
   "outputs": [],
   "source": []
  },
  {
   "cell_type": "markdown",
   "id": "4d9048a0",
   "metadata": {},
   "source": [
    "# 6.Normalization/MinMaxSclaer"
   ]
  },
  {
   "cell_type": "code",
   "execution_count": 9,
   "id": "78e6a423",
   "metadata": {},
   "outputs": [
    {
     "data": {
      "text/plain": [
       "MinMaxScaler()"
      ]
     },
     "execution_count": 9,
     "metadata": {},
     "output_type": "execute_result"
    }
   ],
   "source": [
    "from sklearn.preprocessing import MinMaxScaler\n",
    "mms=MinMaxScaler()\n",
    "mms"
   ]
  },
  {
   "cell_type": "code",
   "execution_count": 12,
   "id": "c4c6c65f",
   "metadata": {},
   "outputs": [
    {
     "data": {
      "text/plain": [
       "array([[0.88406512, 0.84558824],\n",
       "       [0.50222003, 0.50294118],\n",
       "       [0.7602368 , 0.55882353],\n",
       "       [0.52146029, 0.48088235],\n",
       "       [0.71879625, 0.93382353],\n",
       "       [0.42673902, 0.50735294],\n",
       "       [0.52540701, 0.65441176],\n",
       "       [0.41391219, 0.44117647],\n",
       "       [0.44055254, 0.58823529],\n",
       "       [0.62259497, 0.61764706],\n",
       "       [0.35668476, 0.56617647],\n",
       "       [0.62802171, 0.625     ],\n",
       "       [0.45387272, 0.58823529],\n",
       "       [0.73408979, 0.83382353],\n",
       "       [0.54859398, 0.37205882],\n",
       "       [0.57030094, 0.66176471],\n",
       "       [0.38332511, 0.59264706],\n",
       "       [0.36803157, 0.49558824],\n",
       "       [0.18500247, 0.56617647],\n",
       "       [0.84065121, 0.65441176],\n",
       "       [0.57128762, 0.59117647],\n",
       "       [0.65416872, 0.48823529],\n",
       "       [0.53478046, 0.47058824],\n",
       "       [0.48840651, 0.46323529],\n",
       "       [1.        , 1.        ],\n",
       "       [0.84015787, 0.80882353],\n",
       "       [0.64923532, 0.78676471],\n",
       "       [0.64232856, 0.77941176],\n",
       "       [0.36211149, 0.52205882],\n",
       "       [0.71780957, 0.68382353],\n",
       "       [0.52639369, 0.53382353],\n",
       "       [0.53083374, 0.70147059],\n",
       "       [0.6822891 , 0.60147059],\n",
       "       [0.71090281, 0.66176471],\n",
       "       [0.70942279, 0.70147059],\n",
       "       [0.53971386, 0.37058824],\n",
       "       [0.39812531, 0.61764706],\n",
       "       [0.50715343, 0.58088235],\n",
       "       [0.30291071, 0.41323529],\n",
       "       [0.38085841, 0.43382353],\n",
       "       [0.61272817, 0.58088235],\n",
       "       [0.38727183, 0.53676471],\n",
       "       [0.78687716, 0.83823529],\n",
       "       [0.53478046, 0.90441176],\n",
       "       [0.56388752, 0.56617647],\n",
       "       [0.64824864, 0.68676471],\n",
       "       [0.78342378, 0.81029412],\n",
       "       [0.21953626, 0.38235294],\n",
       "       [0.45436606, 0.52352941],\n",
       "       [0.45584608, 0.50735294],\n",
       "       [0.57770104, 0.39558824],\n",
       "       [0.52935372, 0.58088235],\n",
       "       [0.76467686, 0.55882353],\n",
       "       [0.6625555 , 0.63970588],\n",
       "       [0.63739517, 0.65441176],\n",
       "       [0.36408485, 0.39705882],\n",
       "       [0.5772077 , 0.52205882],\n",
       "       [0.71336951, 0.88970588],\n",
       "       [0.59940799, 0.55147059],\n",
       "       [0.46817958, 0.39264706],\n",
       "       [0.56536754, 0.67647059],\n",
       "       [0.33201776, 0.32352941],\n",
       "       [0.84953133, 0.55147059],\n",
       "       [0.75629008, 0.77941176],\n",
       "       [0.49679329, 0.75735294],\n",
       "       [0.30044401, 0.26470588],\n",
       "       [0.34287124, 0.52205882],\n",
       "       [0.32165762, 0.29264706],\n",
       "       [0.84361125, 0.81617647],\n",
       "       [0.81943759, 0.67647059],\n",
       "       [0.63542181, 0.75441176],\n",
       "       [0.56142082, 0.63970588],\n",
       "       [0.69116922, 0.625     ],\n",
       "       [0.65959546, 0.70147059],\n",
       "       [0.54464726, 0.41911765],\n",
       "       [0.3325111 , 0.35294118],\n",
       "       [0.41341885, 0.39705882],\n",
       "       [0.31672422, 0.34264706],\n",
       "       [0.59694129, 0.43676471],\n",
       "       [0.550074  , 0.52941176],\n",
       "       [0.5476073 , 0.42647059],\n",
       "       [0.56043414, 0.69852941],\n",
       "       [0.26097681, 0.47647059],\n",
       "       [0.4227923 , 0.42647059],\n",
       "       [0.59842131, 0.52058824],\n",
       "       [0.5574741 , 0.67205882],\n",
       "       [0.29057721, 0.24264706],\n",
       "       [0.33843118, 0.38970588],\n",
       "       [0.38776517, 0.47794118],\n",
       "       [0.58559447, 0.71323529],\n",
       "       [0.71040947, 0.61029412],\n",
       "       [0.29501727, 0.34852941],\n",
       "       [0.4647262 , 0.40441176],\n",
       "       [0.58164776, 0.575     ],\n",
       "       [0.48347311, 0.49264706],\n",
       "       [0.52244697, 0.30882353],\n",
       "       [0.37148495, 0.41911765],\n",
       "       [0.37987173, 0.26029412],\n",
       "       [0.46077948, 0.42205882],\n",
       "       [0.37395165, 0.46323529],\n",
       "       [0.38233843, 0.38676471],\n",
       "       [0.54958066, 0.69852941],\n",
       "       [0.57030094, 0.93088235],\n",
       "       [0.46423286, 0.53676471],\n",
       "       [0.44301924, 0.49264706],\n",
       "       [0.45781944, 0.44852941],\n",
       "       [0.64726196, 0.69117647],\n",
       "       [0.3349778 , 0.39852941],\n",
       "       [0.59003453, 0.59558824],\n",
       "       [0.84361125, 0.97794118],\n",
       "       [0.48100641, 0.52205882],\n",
       "       [0.39664529, 0.43382353],\n",
       "       [0.41983226, 0.5       ],\n",
       "       [0.43117908, 0.49264706],\n",
       "       [0.32708436, 0.49264706],\n",
       "       [0.38431179, 0.47058824],\n",
       "       [0.42871238, 0.43382353],\n",
       "       [0.5821411 , 0.46323529],\n",
       "       [0.68771584, 0.59852941],\n",
       "       [0.60039467, 0.50735294],\n",
       "       [0.3349778 , 0.32058824],\n",
       "       [0.73014307, 0.44264706],\n",
       "       [0.87222496, 0.71323529],\n",
       "       [0.44104588, 0.33088235],\n",
       "       [0.65663542, 0.51617647],\n",
       "       [0.52392699, 0.58088235],\n",
       "       [0.33103108, 0.25      ],\n",
       "       [0.19930932, 0.30882353],\n",
       "       [0.6576221 , 0.525     ],\n",
       "       [0.425259  , 0.50735294],\n",
       "       [0.46669956, 0.46323529],\n",
       "       [0.40059201, 0.55882353],\n",
       "       [0.65416872, 0.72794118],\n",
       "       [0.4671929 , 0.52205882],\n",
       "       [0.06758757, 0.10588235],\n",
       "       [0.35323138, 0.41176471],\n",
       "       [0.52836704, 0.44852941],\n",
       "       [0.28712383, 0.30882353],\n",
       "       [0.18944253, 0.18382353],\n",
       "       [0.2224963 , 0.25294118],\n",
       "       [0.4203256 , 0.46323529],\n",
       "       [0.39960533, 0.43676471],\n",
       "       [0.22446966, 0.36029412],\n",
       "       [0.35421806, 0.49264706],\n",
       "       [0.58362111, 0.55735294],\n",
       "       [0.58164776, 0.625     ],\n",
       "       [0.33596448, 0.27205882],\n",
       "       [0.26985693, 0.42352941],\n",
       "       [0.36063148, 0.56617647],\n",
       "       [0.18253577, 0.31323529],\n",
       "       [0.34188456, 0.53970588],\n",
       "       [0.29748397, 0.43235294],\n",
       "       [0.47360631, 0.53823529],\n",
       "       [0.3547114 , 0.34852941],\n",
       "       [0.55895412, 0.61470588],\n",
       "       [0.2150962 , 0.31617647],\n",
       "       [0.27577701, 0.45588235],\n",
       "       [0.48692649, 0.41176471],\n",
       "       [0.63443513, 0.51029412],\n",
       "       [0.27084361, 0.42058824],\n",
       "       [0.17316231, 0.18088235],\n",
       "       [0.52244697, 0.83088235],\n",
       "       [0.40848545, 0.74264706],\n",
       "       [0.28219043, 0.17647059],\n",
       "       [0.38332511, 0.47794118],\n",
       "       [0.17858905, 0.33088235],\n",
       "       [0.26048347, 0.43382353],\n",
       "       [0.31475086, 0.34558824],\n",
       "       [0.53428712, 0.61617647],\n",
       "       [0.41736556, 0.51617647],\n",
       "       [0.20966946, 0.36323529],\n",
       "       [0.38628515, 0.41911765],\n",
       "       [0.41983226, 0.53088235],\n",
       "       [0.49531327, 0.47794118],\n",
       "       [0.44153922, 0.58088235],\n",
       "       [0.23828318, 0.33088235],\n",
       "       [0.43857918, 0.375     ],\n",
       "       [0.41489887, 0.25294118],\n",
       "       [0.62111495, 0.54264706],\n",
       "       [0.40108535, 0.375     ],\n",
       "       [0.47804637, 0.49264706],\n",
       "       [0.21608288, 0.21323529],\n",
       "       [0.63394179, 0.47794118],\n",
       "       [0.2274297 , 0.32352941],\n",
       "       [0.37444499, 0.30147059],\n",
       "       [0.4548594 , 0.36764706],\n",
       "       [0.449926  , 0.30588235],\n",
       "       [0.17217563, 0.09852941],\n",
       "       [0.3325111 , 0.42352941],\n",
       "       [0.48495313, 0.58088235],\n",
       "       [0.21953626, 0.41470588],\n",
       "       [0.3127775 , 0.36617647],\n",
       "       [0.13813518, 0.19852941],\n",
       "       [0.47705969, 0.58823529],\n",
       "       [0.41243217, 0.43382353],\n",
       "       [0.02614702, 0.17794118],\n",
       "       [0.16674889, 0.24264706],\n",
       "       [0.3078441 , 0.38970588],\n",
       "       [0.38135175, 0.41911765],\n",
       "       [0.28465713, 0.38970588],\n",
       "       [0.31573754, 0.20588235],\n",
       "       [0.25061667, 0.41176471],\n",
       "       [0.27479033, 0.22058824],\n",
       "       [0.55796744, 0.66176471],\n",
       "       [0.17118895, 0.28676471],\n",
       "       [0.47952639, 0.51470588],\n",
       "       [0.33645782, 0.38970588],\n",
       "       [0.62900839, 0.50147059],\n",
       "       [0.29501727, 0.32352941],\n",
       "       [0.        , 0.        ],\n",
       "       [0.10705476, 0.16911765],\n",
       "       [0.42427232, 0.53676471],\n",
       "       [0.10804144, 0.15441176],\n",
       "       [0.13270844, 0.25735294],\n",
       "       [0.42723236, 0.43382353],\n",
       "       [0.2150962 , 0.39705882],\n",
       "       [0.25949679, 0.33088235],\n",
       "       [0.22200296, 0.32794118],\n",
       "       [0.27035027, 0.275     ],\n",
       "       [0.3300444 , 0.25735294],\n",
       "       [0.32609768, 0.33823529],\n",
       "       [0.07104095, 0.08382353],\n",
       "       [0.50320671, 0.47794118],\n",
       "       [0.37444499, 0.21764706],\n",
       "       [0.4573261 , 0.66617647],\n",
       "       [0.49136655, 0.50735294],\n",
       "       [0.27824371, 0.42794118],\n",
       "       [0.73211643, 0.625     ],\n",
       "       [0.50074001, 0.58088235],\n",
       "       [0.24568328, 0.15441176],\n",
       "       [0.47607301, 0.58088235],\n",
       "       [0.48544647, 0.38970588],\n",
       "       [0.24370992, 0.22794118],\n",
       "       [0.3325111 , 0.38235294],\n",
       "       [0.25308337, 0.21911765],\n",
       "       [0.31179082, 0.31617647],\n",
       "       [0.33103108, 0.24264706]])"
      ]
     },
     "execution_count": 12,
     "metadata": {},
     "output_type": "execute_result"
    }
   ],
   "source": [
    "df1=mms.fit_transform(df)\n",
    "df1"
   ]
  },
  {
   "cell_type": "code",
   "execution_count": null,
   "id": "ce46fe29",
   "metadata": {},
   "outputs": [],
   "source": []
  },
  {
   "cell_type": "code",
   "execution_count": null,
   "id": "7710ee94",
   "metadata": {},
   "outputs": [],
   "source": []
  },
  {
   "cell_type": "code",
   "execution_count": null,
   "id": "d255286f",
   "metadata": {},
   "outputs": [],
   "source": []
  },
  {
   "cell_type": "code",
   "execution_count": null,
   "id": "16e4bc42",
   "metadata": {},
   "outputs": [],
   "source": []
  }
 ],
 "metadata": {
  "kernelspec": {
   "display_name": "Python 3 (ipykernel)",
   "language": "python",
   "name": "python3"
  },
  "language_info": {
   "codemirror_mode": {
    "name": "ipython",
    "version": 3
   },
   "file_extension": ".py",
   "mimetype": "text/x-python",
   "name": "python",
   "nbconvert_exporter": "python",
   "pygments_lexer": "ipython3",
   "version": "3.9.12"
  }
 },
 "nbformat": 4,
 "nbformat_minor": 5
}

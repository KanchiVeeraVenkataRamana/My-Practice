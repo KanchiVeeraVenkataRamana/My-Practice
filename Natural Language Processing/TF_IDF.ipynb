{
  "nbformat": 4,
  "nbformat_minor": 0,
  "metadata": {
    "colab": {
      "provenance": [],
      "gpuType": "T4"
    },
    "kernelspec": {
      "name": "python3",
      "display_name": "Python 3"
    },
    "language_info": {
      "name": "python"
    },
    "accelerator": "GPU"
  },
  "cells": [
    {
      "cell_type": "code",
      "source": [
        "!pip install gensim"
      ],
      "metadata": {
        "colab": {
          "base_uri": "https://localhost:8080/"
        },
        "id": "q5i7R82MGR2G",
        "outputId": "01c190ce-3f4d-41d6-b072-01efd074e23c"
      },
      "execution_count": 1,
      "outputs": [
        {
          "output_type": "stream",
          "name": "stdout",
          "text": [
            "Looking in indexes: https://pypi.org/simple, https://us-python.pkg.dev/colab-wheels/public/simple/\n",
            "Requirement already satisfied: gensim in /usr/local/lib/python3.10/dist-packages (4.3.1)\n",
            "Requirement already satisfied: numpy>=1.18.5 in /usr/local/lib/python3.10/dist-packages (from gensim) (1.22.4)\n",
            "Requirement already satisfied: scipy>=1.7.0 in /usr/local/lib/python3.10/dist-packages (from gensim) (1.10.1)\n",
            "Requirement already satisfied: smart-open>=1.8.1 in /usr/local/lib/python3.10/dist-packages (from gensim) (6.3.0)\n"
          ]
        }
      ]
    },
    {
      "cell_type": "code",
      "source": [
        "import gensim\n",
        "gensim.__version__"
      ],
      "metadata": {
        "colab": {
          "base_uri": "https://localhost:8080/",
          "height": 35
        },
        "id": "eVbdDlwhGR4R",
        "outputId": "e011ae2f-450d-4128-aa4e-f9ae6abc585e"
      },
      "execution_count": 3,
      "outputs": [
        {
          "output_type": "execute_result",
          "data": {
            "text/plain": [
              "'4.3.1'"
            ],
            "application/vnd.google.colaboratory.intrinsic+json": {
              "type": "string"
            }
          },
          "metadata": {},
          "execution_count": 3
        }
      ]
    },
    {
      "cell_type": "code",
      "source": [
        "import gensim.downloader as api\n",
        "print(list(gensim.downloader.info()['models'].keys()))"
      ],
      "metadata": {
        "colab": {
          "base_uri": "https://localhost:8080/"
        },
        "id": "BzSUFEPiGR6n",
        "outputId": "5626dcbb-1cc8-49e0-b6c9-7c8dceea2b80"
      },
      "execution_count": 4,
      "outputs": [
        {
          "output_type": "stream",
          "name": "stdout",
          "text": [
            "['fasttext-wiki-news-subwords-300', 'conceptnet-numberbatch-17-06-300', 'word2vec-ruscorpora-300', 'word2vec-google-news-300', 'glove-wiki-gigaword-50', 'glove-wiki-gigaword-100', 'glove-wiki-gigaword-200', 'glove-wiki-gigaword-300', 'glove-twitter-25', 'glove-twitter-50', 'glove-twitter-100', 'glove-twitter-200', '__testing_word2vec-matrix-synopsis']\n"
          ]
        }
      ]
    },
    {
      "cell_type": "code",
      "source": [
        "import gensim.downloader as api\n",
        "print(list(gensim.downloader.info()['models'].keys()))"
      ],
      "metadata": {
        "colab": {
          "base_uri": "https://localhost:8080/"
        },
        "id": "BhZKHIPVGR82",
        "outputId": "f8def2b4-cc42-4d37-d836-077074e39e8a"
      },
      "execution_count": 5,
      "outputs": [
        {
          "output_type": "stream",
          "name": "stdout",
          "text": [
            "['fasttext-wiki-news-subwords-300', 'conceptnet-numberbatch-17-06-300', 'word2vec-ruscorpora-300', 'word2vec-google-news-300', 'glove-wiki-gigaword-50', 'glove-wiki-gigaword-100', 'glove-wiki-gigaword-200', 'glove-wiki-gigaword-300', 'glove-twitter-25', 'glove-twitter-50', 'glove-twitter-100', 'glove-twitter-200', '__testing_word2vec-matrix-synopsis']\n"
          ]
        }
      ]
    },
    {
      "cell_type": "code",
      "source": [
        "wv = api.load('word2vec-google-news-300')\n",
        "wv"
      ],
      "metadata": {
        "id": "ydYmQJBLIjdv"
      },
      "execution_count": 6,
      "outputs": []
    },
    {
      "cell_type": "code",
      "source": [
        "wv.similarity(w1='profit', w2='gain')"
      ],
      "metadata": {
        "colab": {
          "base_uri": "https://localhost:8080/"
        },
        "id": "Fh9y-2HcGSBy",
        "outputId": "c7e9c8a9-df66-4e37-d154-6abd72d64741"
      },
      "execution_count": 7,
      "outputs": [
        {
          "output_type": "execute_result",
          "data": {
            "text/plain": [
              "0.28772825"
            ]
          },
          "metadata": {},
          "execution_count": 7
        }
      ]
    },
    {
      "cell_type": "code",
      "source": [
        "wv.most_similar('good')"
      ],
      "metadata": {
        "colab": {
          "base_uri": "https://localhost:8080/"
        },
        "id": "g7z0CaRxGSEF",
        "outputId": "567fb40e-54de-48d4-e830-39f137b0a4c1"
      },
      "execution_count": 8,
      "outputs": [
        {
          "output_type": "execute_result",
          "data": {
            "text/plain": [
              "[('great', 0.7291510105133057),\n",
              " ('bad', 0.7190051078796387),\n",
              " ('terrific', 0.6889115571975708),\n",
              " ('decent', 0.6837348341941833),\n",
              " ('nice', 0.6836092472076416),\n",
              " ('excellent', 0.644292950630188),\n",
              " ('fantastic', 0.6407778263092041),\n",
              " ('better', 0.6120728850364685),\n",
              " ('solid', 0.5806034803390503),\n",
              " ('lousy', 0.576420247554779)]"
            ]
          },
          "metadata": {},
          "execution_count": 8
        }
      ]
    },
    {
      "cell_type": "code",
      "source": [
        "wv.most_similar('cat')"
      ],
      "metadata": {
        "colab": {
          "base_uri": "https://localhost:8080/"
        },
        "id": "oVgcZ5b8GSGr",
        "outputId": "20f6be22-87bf-4799-e761-b05be9cf76fe"
      },
      "execution_count": 9,
      "outputs": [
        {
          "output_type": "execute_result",
          "data": {
            "text/plain": [
              "[('cats', 0.8099379539489746),\n",
              " ('dog', 0.760945737361908),\n",
              " ('kitten', 0.7464985251426697),\n",
              " ('feline', 0.7326234579086304),\n",
              " ('beagle', 0.7150582671165466),\n",
              " ('puppy', 0.7075453400611877),\n",
              " ('pup', 0.6934291124343872),\n",
              " ('pet', 0.6891531348228455),\n",
              " ('felines', 0.6755931973457336),\n",
              " ('chihuahua', 0.6709762215614319)]"
            ]
          },
          "metadata": {},
          "execution_count": 9
        }
      ]
    },
    {
      "cell_type": "code",
      "source": [],
      "metadata": {
        "id": "UU6frXlcGSVY"
      },
      "execution_count": null,
      "outputs": []
    },
    {
      "cell_type": "markdown",
      "source": [
        "News Classification"
      ],
      "metadata": {
        "id": "mgsnzUllI3ng"
      }
    },
    {
      "cell_type": "code",
      "source": [
        "import gensim.downloader as api\n",
        "wv = api.load('word2vec-google-news-300')\n",
        "wv.similarity(w1='great',w2='good')"
      ],
      "metadata": {
        "colab": {
          "base_uri": "https://localhost:8080/"
        },
        "id": "9evr_ItlGSXq",
        "outputId": "563a599d-4aed-4f8d-b7cc-f7cd6d36e14a"
      },
      "execution_count": 13,
      "outputs": [
        {
          "output_type": "execute_result",
          "data": {
            "text/plain": [
              "0.729151"
            ]
          },
          "metadata": {},
          "execution_count": 13
        }
      ]
    },
    {
      "cell_type": "code",
      "source": [
        "wv_great = wv['great']\n",
        "wv_good = wv['good']\n",
        "wv_great"
      ],
      "metadata": {
        "colab": {
          "base_uri": "https://localhost:8080/"
        },
        "id": "wdAzJhuHJvPw",
        "outputId": "7991005e-3359-403f-b001-82e4957613ce"
      },
      "execution_count": 14,
      "outputs": [
        {
          "output_type": "execute_result",
          "data": {
            "text/plain": [
              "array([ 7.17773438e-02,  2.08007812e-01, -2.84423828e-02,  1.78710938e-01,\n",
              "        1.32812500e-01, -9.96093750e-02,  9.61914062e-02, -1.16699219e-01,\n",
              "       -8.54492188e-03,  1.48437500e-01, -3.34472656e-02, -1.85546875e-01,\n",
              "        4.10156250e-02, -8.98437500e-02,  2.17285156e-02,  6.93359375e-02,\n",
              "        1.80664062e-01,  2.22656250e-01, -1.00585938e-01, -6.93359375e-02,\n",
              "        1.04427338e-04,  1.60156250e-01,  4.07714844e-02,  7.37304688e-02,\n",
              "        1.53320312e-01,  6.78710938e-02, -1.03027344e-01,  4.17480469e-02,\n",
              "        4.27246094e-02, -1.10351562e-01, -6.68945312e-02,  4.19921875e-02,\n",
              "        2.50000000e-01,  2.12890625e-01,  1.59179688e-01,  1.44653320e-02,\n",
              "       -4.88281250e-02,  1.39770508e-02,  3.55529785e-03,  2.09960938e-01,\n",
              "        1.52343750e-01, -7.32421875e-02,  2.16796875e-01, -5.76171875e-02,\n",
              "       -2.84423828e-02, -3.60107422e-03,  1.52343750e-01, -2.63671875e-02,\n",
              "        2.13623047e-02, -1.51367188e-01,  1.04003906e-01,  3.18359375e-01,\n",
              "       -1.85546875e-01,  3.68652344e-02, -1.10839844e-01, -3.17382812e-02,\n",
              "       -1.01562500e-01, -1.21093750e-01,  3.22265625e-01, -7.32421875e-02,\n",
              "       -1.52343750e-01,  2.67578125e-01, -1.50390625e-01, -1.23046875e-01,\n",
              "        1.07910156e-01,  6.68945312e-02, -2.13623047e-02, -1.00585938e-01,\n",
              "       -2.05078125e-01,  1.17675781e-01,  6.15234375e-02,  6.78710938e-02,\n",
              "        1.06933594e-01, -7.71484375e-02, -1.52343750e-01, -4.24194336e-03,\n",
              "       -1.45507812e-01,  2.53906250e-01,  4.80957031e-02,  9.71679688e-02,\n",
              "       -8.36181641e-03,  1.12792969e-01,  5.34667969e-02,  1.79443359e-02,\n",
              "       -5.63964844e-02, -3.30078125e-01, -9.76562500e-02,  1.42578125e-01,\n",
              "       -1.37695312e-01,  2.20947266e-02,  1.00097656e-01, -5.71289062e-02,\n",
              "       -1.56250000e-01, -6.37817383e-03, -9.37500000e-02, -4.68750000e-02,\n",
              "        8.59375000e-02,  3.06640625e-01, -1.11328125e-01, -1.94335938e-01,\n",
              "       -2.08007812e-01,  8.10546875e-02, -4.19921875e-02, -8.30078125e-02,\n",
              "       -1.04003906e-01,  2.92968750e-01,  2.39257812e-02, -3.85742188e-02,\n",
              "        3.56445312e-02, -1.04980469e-01, -6.54296875e-02,  2.79296875e-01,\n",
              "       -1.16210938e-01, -1.45874023e-02,  3.84765625e-01, -7.81250000e-02,\n",
              "       -2.92968750e-02, -1.35742188e-01, -5.39550781e-02, -5.49316406e-02,\n",
              "       -8.10546875e-02, -2.88085938e-02,  8.34960938e-02,  2.73437500e-01,\n",
              "       -6.20117188e-02, -4.78515625e-02, -1.09252930e-02, -1.13769531e-01,\n",
              "       -1.09863281e-01,  2.02148438e-01, -1.28906250e-01, -6.68945312e-02,\n",
              "       -2.67578125e-01,  9.61914062e-02,  1.04003906e-01, -1.69921875e-01,\n",
              "        5.56640625e-02,  1.54296875e-01,  8.05664062e-02,  2.19726562e-01,\n",
              "       -2.27539062e-01,  1.10351562e-01, -8.11767578e-03, -5.63964844e-02,\n",
              "       -9.03320312e-02, -7.76367188e-02, -3.61328125e-02,  3.61328125e-02,\n",
              "        1.58203125e-01, -1.56250000e-01,  2.26562500e-01,  2.85156250e-01,\n",
              "       -5.51757812e-02,  3.53515625e-01, -1.20605469e-01,  1.05957031e-01,\n",
              "        3.11279297e-02, -1.91406250e-01, -2.31445312e-01, -1.11816406e-01,\n",
              "        2.38037109e-03,  7.51953125e-02, -1.28784180e-02,  1.00585938e-01,\n",
              "        4.45312500e-01, -2.77343750e-01,  6.68945312e-02, -8.10546875e-02,\n",
              "        6.39648438e-02,  1.85546875e-02, -1.11328125e-01,  9.76562500e-02,\n",
              "        2.06054688e-01, -1.30859375e-01,  2.39257812e-02,  1.10839844e-01,\n",
              "        8.05664062e-02, -1.52343750e-01,  4.85229492e-03,  1.84326172e-02,\n",
              "       -9.17968750e-02, -2.41210938e-01,  8.39843750e-02, -1.00585938e-01,\n",
              "       -1.54296875e-01,  2.75878906e-02, -1.64062500e-01, -1.01562500e-01,\n",
              "       -6.07299805e-03,  1.33514404e-03, -2.53906250e-01,  3.14453125e-01,\n",
              "        1.31835938e-01, -1.31835938e-01,  2.17285156e-02, -1.56250000e-01,\n",
              "       -1.46484375e-01, -5.12695312e-02, -1.20605469e-01, -2.15820312e-01,\n",
              "        3.10058594e-02,  1.30859375e-01,  9.71679688e-02,  5.67626953e-03,\n",
              "        2.20947266e-02,  1.26953125e-01, -1.24511719e-02,  6.15234375e-02,\n",
              "       -2.23388672e-02,  2.50000000e-01, -7.17773438e-02,  1.58203125e-01,\n",
              "       -7.27539062e-02,  1.97753906e-02,  8.85009766e-03, -9.08203125e-02,\n",
              "        3.63281250e-01, -9.03320312e-02,  2.41699219e-02, -1.39770508e-02,\n",
              "       -5.10253906e-02,  2.40478516e-02,  5.88989258e-03, -1.02050781e-01,\n",
              "       -8.85009766e-03,  3.05175781e-02, -7.81250000e-02, -1.27929688e-01,\n",
              "        3.85742188e-02,  2.86865234e-02, -2.28515625e-01, -1.25122070e-02,\n",
              "        1.54296875e-01,  9.13085938e-02,  1.05468750e-01, -6.44531250e-02,\n",
              "       -1.28906250e-01, -1.02050781e-01, -2.16064453e-02, -3.29589844e-02,\n",
              "        7.47070312e-02,  3.78417969e-02,  7.42187500e-02, -1.23901367e-02,\n",
              "       -4.68750000e-02,  4.88281250e-03,  1.03515625e-01, -8.69140625e-02,\n",
              "       -2.26562500e-01, -2.53906250e-01,  3.58886719e-02,  4.45312500e-01,\n",
              "        5.56640625e-02,  1.59179688e-01,  2.71484375e-01, -1.08398438e-01,\n",
              "        6.25000000e-02, -5.59082031e-02, -2.50000000e-01, -1.55273438e-01,\n",
              "       -6.83593750e-02, -1.39648438e-01, -1.59179688e-01, -1.79443359e-02,\n",
              "        2.12402344e-02,  7.37304688e-02,  1.30859375e-01, -8.05664062e-02,\n",
              "        2.99072266e-02,  1.55639648e-02, -1.66015625e-01,  1.50390625e-01,\n",
              "       -6.77490234e-03,  1.01318359e-02,  1.14746094e-01, -1.48437500e-01,\n",
              "       -4.58984375e-02, -1.39648438e-01, -1.73828125e-01, -4.27246094e-02,\n",
              "       -5.81054688e-02,  5.22460938e-02, -1.11328125e-01,  8.44726562e-02,\n",
              "       -2.55126953e-02,  1.40625000e-01, -1.81640625e-01,  1.72119141e-02,\n",
              "       -1.37695312e-01, -1.47705078e-02, -1.14746094e-02,  6.44531250e-02,\n",
              "       -2.89062500e-01, -4.80957031e-02, -1.99218750e-01, -7.12890625e-02,\n",
              "        6.44531250e-02, -1.67968750e-01, -2.08740234e-02, -1.42578125e-01],\n",
              "      dtype=float32)"
            ]
          },
          "metadata": {},
          "execution_count": 14
        }
      ]
    },
    {
      "cell_type": "code",
      "source": [
        "from gensim.models import Word2Vec\n",
        "import pandas as pd\n",
        "df = pd.read_csv('/content/fake_or_real_news.csv')\n",
        "df.head()"
      ],
      "metadata": {
        "colab": {
          "base_uri": "https://localhost:8080/",
          "height": 206
        },
        "id": "9mE-854BJ36o",
        "outputId": "e1cbbf19-17f0-4ff6-b961-530412863f20"
      },
      "execution_count": 61,
      "outputs": [
        {
          "output_type": "execute_result",
          "data": {
            "text/plain": [
              "   Unnamed: 0                                              title  \\\n",
              "0        8476                       You Can Smell Hillary’s Fear   \n",
              "1       10294  Watch The Exact Moment Paul Ryan Committed Pol...   \n",
              "2        3608        Kerry to go to Paris in gesture of sympathy   \n",
              "3       10142  Bernie supporters on Twitter erupt in anger ag...   \n",
              "4         875   The Battle of New York: Why This Primary Matters   \n",
              "\n",
              "                                                text label  \n",
              "0  Daniel Greenfield, a Shillman Journalism Fello...  FAKE  \n",
              "1  Google Pinterest Digg Linkedin Reddit Stumbleu...  FAKE  \n",
              "2  U.S. Secretary of State John F. Kerry said Mon...  REAL  \n",
              "3  — Kaydee King (@KaydeeKing) November 9, 2016 T...  FAKE  \n",
              "4  It's primary day in New York and front-runners...  REAL  "
            ],
            "text/html": [
              "\n",
              "  <div id=\"df-f8a2ad71-d6a8-4677-86c8-7cd5230b65ab\">\n",
              "    <div class=\"colab-df-container\">\n",
              "      <div>\n",
              "<style scoped>\n",
              "    .dataframe tbody tr th:only-of-type {\n",
              "        vertical-align: middle;\n",
              "    }\n",
              "\n",
              "    .dataframe tbody tr th {\n",
              "        vertical-align: top;\n",
              "    }\n",
              "\n",
              "    .dataframe thead th {\n",
              "        text-align: right;\n",
              "    }\n",
              "</style>\n",
              "<table border=\"1\" class=\"dataframe\">\n",
              "  <thead>\n",
              "    <tr style=\"text-align: right;\">\n",
              "      <th></th>\n",
              "      <th>Unnamed: 0</th>\n",
              "      <th>title</th>\n",
              "      <th>text</th>\n",
              "      <th>label</th>\n",
              "    </tr>\n",
              "  </thead>\n",
              "  <tbody>\n",
              "    <tr>\n",
              "      <th>0</th>\n",
              "      <td>8476</td>\n",
              "      <td>You Can Smell Hillary’s Fear</td>\n",
              "      <td>Daniel Greenfield, a Shillman Journalism Fello...</td>\n",
              "      <td>FAKE</td>\n",
              "    </tr>\n",
              "    <tr>\n",
              "      <th>1</th>\n",
              "      <td>10294</td>\n",
              "      <td>Watch The Exact Moment Paul Ryan Committed Pol...</td>\n",
              "      <td>Google Pinterest Digg Linkedin Reddit Stumbleu...</td>\n",
              "      <td>FAKE</td>\n",
              "    </tr>\n",
              "    <tr>\n",
              "      <th>2</th>\n",
              "      <td>3608</td>\n",
              "      <td>Kerry to go to Paris in gesture of sympathy</td>\n",
              "      <td>U.S. Secretary of State John F. Kerry said Mon...</td>\n",
              "      <td>REAL</td>\n",
              "    </tr>\n",
              "    <tr>\n",
              "      <th>3</th>\n",
              "      <td>10142</td>\n",
              "      <td>Bernie supporters on Twitter erupt in anger ag...</td>\n",
              "      <td>— Kaydee King (@KaydeeKing) November 9, 2016 T...</td>\n",
              "      <td>FAKE</td>\n",
              "    </tr>\n",
              "    <tr>\n",
              "      <th>4</th>\n",
              "      <td>875</td>\n",
              "      <td>The Battle of New York: Why This Primary Matters</td>\n",
              "      <td>It's primary day in New York and front-runners...</td>\n",
              "      <td>REAL</td>\n",
              "    </tr>\n",
              "  </tbody>\n",
              "</table>\n",
              "</div>\n",
              "      <button class=\"colab-df-convert\" onclick=\"convertToInteractive('df-f8a2ad71-d6a8-4677-86c8-7cd5230b65ab')\"\n",
              "              title=\"Convert this dataframe to an interactive table.\"\n",
              "              style=\"display:none;\">\n",
              "        \n",
              "  <svg xmlns=\"http://www.w3.org/2000/svg\" height=\"24px\"viewBox=\"0 0 24 24\"\n",
              "       width=\"24px\">\n",
              "    <path d=\"M0 0h24v24H0V0z\" fill=\"none\"/>\n",
              "    <path d=\"M18.56 5.44l.94 2.06.94-2.06 2.06-.94-2.06-.94-.94-2.06-.94 2.06-2.06.94zm-11 1L8.5 8.5l.94-2.06 2.06-.94-2.06-.94L8.5 2.5l-.94 2.06-2.06.94zm10 10l.94 2.06.94-2.06 2.06-.94-2.06-.94-.94-2.06-.94 2.06-2.06.94z\"/><path d=\"M17.41 7.96l-1.37-1.37c-.4-.4-.92-.59-1.43-.59-.52 0-1.04.2-1.43.59L10.3 9.45l-7.72 7.72c-.78.78-.78 2.05 0 2.83L4 21.41c.39.39.9.59 1.41.59.51 0 1.02-.2 1.41-.59l7.78-7.78 2.81-2.81c.8-.78.8-2.07 0-2.86zM5.41 20L4 18.59l7.72-7.72 1.47 1.35L5.41 20z\"/>\n",
              "  </svg>\n",
              "      </button>\n",
              "      \n",
              "  <style>\n",
              "    .colab-df-container {\n",
              "      display:flex;\n",
              "      flex-wrap:wrap;\n",
              "      gap: 12px;\n",
              "    }\n",
              "\n",
              "    .colab-df-convert {\n",
              "      background-color: #E8F0FE;\n",
              "      border: none;\n",
              "      border-radius: 50%;\n",
              "      cursor: pointer;\n",
              "      display: none;\n",
              "      fill: #1967D2;\n",
              "      height: 32px;\n",
              "      padding: 0 0 0 0;\n",
              "      width: 32px;\n",
              "    }\n",
              "\n",
              "    .colab-df-convert:hover {\n",
              "      background-color: #E2EBFA;\n",
              "      box-shadow: 0px 1px 2px rgba(60, 64, 67, 0.3), 0px 1px 3px 1px rgba(60, 64, 67, 0.15);\n",
              "      fill: #174EA6;\n",
              "    }\n",
              "\n",
              "    [theme=dark] .colab-df-convert {\n",
              "      background-color: #3B4455;\n",
              "      fill: #D2E3FC;\n",
              "    }\n",
              "\n",
              "    [theme=dark] .colab-df-convert:hover {\n",
              "      background-color: #434B5C;\n",
              "      box-shadow: 0px 1px 3px 1px rgba(0, 0, 0, 0.15);\n",
              "      filter: drop-shadow(0px 1px 2px rgba(0, 0, 0, 0.3));\n",
              "      fill: #FFFFFF;\n",
              "    }\n",
              "  </style>\n",
              "\n",
              "      <script>\n",
              "        const buttonEl =\n",
              "          document.querySelector('#df-f8a2ad71-d6a8-4677-86c8-7cd5230b65ab button.colab-df-convert');\n",
              "        buttonEl.style.display =\n",
              "          google.colab.kernel.accessAllowed ? 'block' : 'none';\n",
              "\n",
              "        async function convertToInteractive(key) {\n",
              "          const element = document.querySelector('#df-f8a2ad71-d6a8-4677-86c8-7cd5230b65ab');\n",
              "          const dataTable =\n",
              "            await google.colab.kernel.invokeFunction('convertToInteractive',\n",
              "                                                     [key], {});\n",
              "          if (!dataTable) return;\n",
              "\n",
              "          const docLinkHtml = 'Like what you see? Visit the ' +\n",
              "            '<a target=\"_blank\" href=https://colab.research.google.com/notebooks/data_table.ipynb>data table notebook</a>'\n",
              "            + ' to learn more about interactive tables.';\n",
              "          element.innerHTML = '';\n",
              "          dataTable['output_type'] = 'display_data';\n",
              "          await google.colab.output.renderOutput(dataTable, element);\n",
              "          const docLink = document.createElement('div');\n",
              "          docLink.innerHTML = docLinkHtml;\n",
              "          element.appendChild(docLink);\n",
              "        }\n",
              "      </script>\n",
              "    </div>\n",
              "  </div>\n",
              "  "
            ]
          },
          "metadata": {},
          "execution_count": 61
        }
      ]
    },
    {
      "cell_type": "code",
      "source": [
        "df.shape"
      ],
      "metadata": {
        "colab": {
          "base_uri": "https://localhost:8080/"
        },
        "id": "DAaTWjONJ39G",
        "outputId": "d58ff29b-8f54-4159-ec1b-b1a38c9da2e3"
      },
      "execution_count": 62,
      "outputs": [
        {
          "output_type": "execute_result",
          "data": {
            "text/plain": [
              "(6335, 4)"
            ]
          },
          "metadata": {},
          "execution_count": 62
        }
      ]
    },
    {
      "cell_type": "code",
      "source": [
        "df.label.value_counts()"
      ],
      "metadata": {
        "colab": {
          "base_uri": "https://localhost:8080/"
        },
        "id": "gVAEUNNnJ3_o",
        "outputId": "91ea84b8-0bf2-4517-c71a-84a250b598f9"
      },
      "execution_count": 63,
      "outputs": [
        {
          "output_type": "execute_result",
          "data": {
            "text/plain": [
              "REAL    3171\n",
              "FAKE    3164\n",
              "Name: label, dtype: int64"
            ]
          },
          "metadata": {},
          "execution_count": 63
        }
      ]
    },
    {
      "cell_type": "code",
      "source": [
        "x = df['text']\n",
        "x"
      ],
      "metadata": {
        "colab": {
          "base_uri": "https://localhost:8080/"
        },
        "id": "J5Y7miPxJ4Es",
        "outputId": "76067e21-e667-4407-f14d-9b02059bcb65"
      },
      "execution_count": 64,
      "outputs": [
        {
          "output_type": "execute_result",
          "data": {
            "text/plain": [
              "0       Daniel Greenfield, a Shillman Journalism Fello...\n",
              "1       Google Pinterest Digg Linkedin Reddit Stumbleu...\n",
              "2       U.S. Secretary of State John F. Kerry said Mon...\n",
              "3       — Kaydee King (@KaydeeKing) November 9, 2016 T...\n",
              "4       It's primary day in New York and front-runners...\n",
              "                              ...                        \n",
              "6330    The State Department told the Republican Natio...\n",
              "6331    The ‘P’ in PBS Should Stand for ‘Plutocratic’ ...\n",
              "6332     Anti-Trump Protesters Are Tools of the Oligar...\n",
              "6333    ADDIS ABABA, Ethiopia —President Obama convene...\n",
              "6334    Jeb Bush Is Suddenly Attacking Trump. Here's W...\n",
              "Name: text, Length: 6335, dtype: object"
            ]
          },
          "metadata": {},
          "execution_count": 64
        }
      ]
    },
    {
      "cell_type": "code",
      "source": [
        "y = df['label']\n",
        "y"
      ],
      "metadata": {
        "colab": {
          "base_uri": "https://localhost:8080/"
        },
        "id": "-sUeL8WyJ4Hj",
        "outputId": "4bd93ece-5d60-496f-b6a4-0fa33a09f179"
      },
      "execution_count": 65,
      "outputs": [
        {
          "output_type": "execute_result",
          "data": {
            "text/plain": [
              "0       FAKE\n",
              "1       FAKE\n",
              "2       REAL\n",
              "3       FAKE\n",
              "4       REAL\n",
              "        ... \n",
              "6330    REAL\n",
              "6331    FAKE\n",
              "6332    FAKE\n",
              "6333    REAL\n",
              "6334    REAL\n",
              "Name: label, Length: 6335, dtype: object"
            ]
          },
          "metadata": {},
          "execution_count": 65
        }
      ]
    },
    {
      "cell_type": "code",
      "source": [
        "from sklearn.model_selection import train_test_split\n",
        "x_train, x_test, y_train, y_test = train_test_split(x,y,test_size=0.2,random_state=14)"
      ],
      "metadata": {
        "id": "d0HzMX3VKoZI"
      },
      "execution_count": 60,
      "outputs": []
    },
    {
      "cell_type": "code",
      "source": [
        "from sklearn.feature_extraction.text import CountVectorizer\n",
        "cv = CountVectorizer()\n",
        "x_train_tra = cv.fit_transform(x_train)\n",
        "x_train_tra"
      ],
      "metadata": {
        "colab": {
          "base_uri": "https://localhost:8080/"
        },
        "id": "vRKv1GpaKogJ",
        "outputId": "b13717f1-3083-4d87-e960-2d21a7ad63ba"
      },
      "execution_count": 70,
      "outputs": [
        {
          "output_type": "execute_result",
          "data": {
            "text/plain": [
              "<5068x62477 sparse matrix of type '<class 'numpy.int64'>'\n",
              "\twith 1746426 stored elements in Compressed Sparse Row format>"
            ]
          },
          "metadata": {},
          "execution_count": 70
        }
      ]
    },
    {
      "cell_type": "code",
      "source": [
        "x_test_trans = cv.transform(x_test)\n",
        "x_test_trans"
      ],
      "metadata": {
        "colab": {
          "base_uri": "https://localhost:8080/"
        },
        "id": "rFT9Kn_qKojd",
        "outputId": "4299834e-bfd5-49fe-9da2-87136f3d0aae"
      },
      "execution_count": 71,
      "outputs": [
        {
          "output_type": "execute_result",
          "data": {
            "text/plain": [
              "<1267x62477 sparse matrix of type '<class 'numpy.int64'>'\n",
              "\twith 406349 stored elements in Compressed Sparse Row format>"
            ]
          },
          "metadata": {},
          "execution_count": 71
        }
      ]
    },
    {
      "cell_type": "code",
      "source": [
        "from sklearn.preprocessing import LabelEncoder\n",
        "le = LabelEncoder()\n",
        "y_train_trans = le.fit_transform(y_train)\n",
        "y_train_trans"
      ],
      "metadata": {
        "colab": {
          "base_uri": "https://localhost:8080/"
        },
        "id": "pv3Zu3bOJ4KB",
        "outputId": "22927cf2-1070-4c0f-e40a-e912fe439eb9"
      },
      "execution_count": 72,
      "outputs": [
        {
          "output_type": "execute_result",
          "data": {
            "text/plain": [
              "array([0, 0, 1, ..., 1, 1, 1])"
            ]
          },
          "metadata": {},
          "execution_count": 72
        }
      ]
    },
    {
      "cell_type": "code",
      "source": [
        "y_test_trans = le.transform(y_test)\n",
        "y_test_trans"
      ],
      "metadata": {
        "colab": {
          "base_uri": "https://localhost:8080/"
        },
        "id": "xfAWzv6VJ4Mg",
        "outputId": "e85f80ff-3639-4cea-cdc8-e3e8d4afe69a"
      },
      "execution_count": 73,
      "outputs": [
        {
          "output_type": "execute_result",
          "data": {
            "text/plain": [
              "array([0, 0, 0, ..., 0, 0, 0])"
            ]
          },
          "metadata": {},
          "execution_count": 73
        }
      ]
    },
    {
      "cell_type": "code",
      "source": [
        "from sklearn.naive_bayes import MultinomialNB\n",
        "cls = MultinomialNB()\n",
        "cls.fit(x_train_tra, y_train_trans)\n",
        "cls"
      ],
      "metadata": {
        "colab": {
          "base_uri": "https://localhost:8080/",
          "height": 74
        },
        "id": "WXxuJuZSJ4PG",
        "outputId": "5edfb7c8-689c-4884-c923-99f5e2c72470"
      },
      "execution_count": 75,
      "outputs": [
        {
          "output_type": "execute_result",
          "data": {
            "text/plain": [
              "MultinomialNB()"
            ],
            "text/html": [
              "<style>#sk-container-id-1 {color: black;background-color: white;}#sk-container-id-1 pre{padding: 0;}#sk-container-id-1 div.sk-toggleable {background-color: white;}#sk-container-id-1 label.sk-toggleable__label {cursor: pointer;display: block;width: 100%;margin-bottom: 0;padding: 0.3em;box-sizing: border-box;text-align: center;}#sk-container-id-1 label.sk-toggleable__label-arrow:before {content: \"▸\";float: left;margin-right: 0.25em;color: #696969;}#sk-container-id-1 label.sk-toggleable__label-arrow:hover:before {color: black;}#sk-container-id-1 div.sk-estimator:hover label.sk-toggleable__label-arrow:before {color: black;}#sk-container-id-1 div.sk-toggleable__content {max-height: 0;max-width: 0;overflow: hidden;text-align: left;background-color: #f0f8ff;}#sk-container-id-1 div.sk-toggleable__content pre {margin: 0.2em;color: black;border-radius: 0.25em;background-color: #f0f8ff;}#sk-container-id-1 input.sk-toggleable__control:checked~div.sk-toggleable__content {max-height: 200px;max-width: 100%;overflow: auto;}#sk-container-id-1 input.sk-toggleable__control:checked~label.sk-toggleable__label-arrow:before {content: \"▾\";}#sk-container-id-1 div.sk-estimator input.sk-toggleable__control:checked~label.sk-toggleable__label {background-color: #d4ebff;}#sk-container-id-1 div.sk-label input.sk-toggleable__control:checked~label.sk-toggleable__label {background-color: #d4ebff;}#sk-container-id-1 input.sk-hidden--visually {border: 0;clip: rect(1px 1px 1px 1px);clip: rect(1px, 1px, 1px, 1px);height: 1px;margin: -1px;overflow: hidden;padding: 0;position: absolute;width: 1px;}#sk-container-id-1 div.sk-estimator {font-family: monospace;background-color: #f0f8ff;border: 1px dotted black;border-radius: 0.25em;box-sizing: border-box;margin-bottom: 0.5em;}#sk-container-id-1 div.sk-estimator:hover {background-color: #d4ebff;}#sk-container-id-1 div.sk-parallel-item::after {content: \"\";width: 100%;border-bottom: 1px solid gray;flex-grow: 1;}#sk-container-id-1 div.sk-label:hover label.sk-toggleable__label {background-color: #d4ebff;}#sk-container-id-1 div.sk-serial::before {content: \"\";position: absolute;border-left: 1px solid gray;box-sizing: border-box;top: 0;bottom: 0;left: 50%;z-index: 0;}#sk-container-id-1 div.sk-serial {display: flex;flex-direction: column;align-items: center;background-color: white;padding-right: 0.2em;padding-left: 0.2em;position: relative;}#sk-container-id-1 div.sk-item {position: relative;z-index: 1;}#sk-container-id-1 div.sk-parallel {display: flex;align-items: stretch;justify-content: center;background-color: white;position: relative;}#sk-container-id-1 div.sk-item::before, #sk-container-id-1 div.sk-parallel-item::before {content: \"\";position: absolute;border-left: 1px solid gray;box-sizing: border-box;top: 0;bottom: 0;left: 50%;z-index: -1;}#sk-container-id-1 div.sk-parallel-item {display: flex;flex-direction: column;z-index: 1;position: relative;background-color: white;}#sk-container-id-1 div.sk-parallel-item:first-child::after {align-self: flex-end;width: 50%;}#sk-container-id-1 div.sk-parallel-item:last-child::after {align-self: flex-start;width: 50%;}#sk-container-id-1 div.sk-parallel-item:only-child::after {width: 0;}#sk-container-id-1 div.sk-dashed-wrapped {border: 1px dashed gray;margin: 0 0.4em 0.5em 0.4em;box-sizing: border-box;padding-bottom: 0.4em;background-color: white;}#sk-container-id-1 div.sk-label label {font-family: monospace;font-weight: bold;display: inline-block;line-height: 1.2em;}#sk-container-id-1 div.sk-label-container {text-align: center;}#sk-container-id-1 div.sk-container {/* jupyter's `normalize.less` sets `[hidden] { display: none; }` but bootstrap.min.css set `[hidden] { display: none !important; }` so we also need the `!important` here to be able to override the default hidden behavior on the sphinx rendered scikit-learn.org. See: https://github.com/scikit-learn/scikit-learn/issues/21755 */display: inline-block !important;position: relative;}#sk-container-id-1 div.sk-text-repr-fallback {display: none;}</style><div id=\"sk-container-id-1\" class=\"sk-top-container\"><div class=\"sk-text-repr-fallback\"><pre>MultinomialNB()</pre><b>In a Jupyter environment, please rerun this cell to show the HTML representation or trust the notebook. <br />On GitHub, the HTML representation is unable to render, please try loading this page with nbviewer.org.</b></div><div class=\"sk-container\" hidden><div class=\"sk-item\"><div class=\"sk-estimator sk-toggleable\"><input class=\"sk-toggleable__control sk-hidden--visually\" id=\"sk-estimator-id-1\" type=\"checkbox\" checked><label for=\"sk-estimator-id-1\" class=\"sk-toggleable__label sk-toggleable__label-arrow\">MultinomialNB</label><div class=\"sk-toggleable__content\"><pre>MultinomialNB()</pre></div></div></div></div></div>"
            ]
          },
          "metadata": {},
          "execution_count": 75
        }
      ]
    },
    {
      "cell_type": "code",
      "source": [
        "cls.score(x_test_trans, y_test_trans)"
      ],
      "metadata": {
        "colab": {
          "base_uri": "https://localhost:8080/"
        },
        "id": "ohpQmO9nJ4Rs",
        "outputId": "0a31bf2a-aa95-4324-c33f-49d4de631b17"
      },
      "execution_count": 76,
      "outputs": [
        {
          "output_type": "execute_result",
          "data": {
            "text/plain": [
              "0.8784530386740331"
            ]
          },
          "metadata": {},
          "execution_count": 76
        }
      ]
    },
    {
      "cell_type": "code",
      "source": [
        "y_pred = cls.predict(x_test_trans)\n",
        "y_pred"
      ],
      "metadata": {
        "colab": {
          "base_uri": "https://localhost:8080/"
        },
        "id": "qY9TO_c-UmJb",
        "outputId": "d0e506f5-d83e-471a-b489-c81d41a7bdbc"
      },
      "execution_count": 77,
      "outputs": [
        {
          "output_type": "execute_result",
          "data": {
            "text/plain": [
              "array([0, 0, 0, ..., 0, 0, 1])"
            ]
          },
          "metadata": {},
          "execution_count": 77
        }
      ]
    },
    {
      "cell_type": "code",
      "source": [
        "from sklearn import metrics\n",
        "cm = metrics.confusion_matrix(y_pred, y_test_trans)\n",
        "cm"
      ],
      "metadata": {
        "colab": {
          "base_uri": "https://localhost:8080/"
        },
        "id": "irscx7xPJ4UC",
        "outputId": "b56fa957-abb8-4f78-d852-e1868088a4bc"
      },
      "execution_count": 80,
      "outputs": [
        {
          "output_type": "execute_result",
          "data": {
            "text/plain": [
              "array([[538,  50],\n",
              "       [104, 575]])"
            ]
          },
          "metadata": {},
          "execution_count": 80
        }
      ]
    },
    {
      "cell_type": "code",
      "source": [
        "print(metrics.classification_report(y_pred, y_test_trans))"
      ],
      "metadata": {
        "colab": {
          "base_uri": "https://localhost:8080/"
        },
        "id": "9slC3zyeJ4Wm",
        "outputId": "8182c940-5ae8-44a5-ddf1-50b28eca8b4e"
      },
      "execution_count": 81,
      "outputs": [
        {
          "output_type": "stream",
          "name": "stdout",
          "text": [
            "              precision    recall  f1-score   support\n",
            "\n",
            "           0       0.84      0.91      0.87       588\n",
            "           1       0.92      0.85      0.88       679\n",
            "\n",
            "    accuracy                           0.88      1267\n",
            "   macro avg       0.88      0.88      0.88      1267\n",
            "weighted avg       0.88      0.88      0.88      1267\n",
            "\n"
          ]
        }
      ]
    },
    {
      "cell_type": "code",
      "source": [
        "metrics.accuracy_score(y_pred, y_test_trans)"
      ],
      "metadata": {
        "colab": {
          "base_uri": "https://localhost:8080/"
        },
        "id": "7JbvcOCKJ4Yy",
        "outputId": "14444b31-5b98-4c57-8683-511dd2db9824"
      },
      "execution_count": 83,
      "outputs": [
        {
          "output_type": "execute_result",
          "data": {
            "text/plain": [
              "0.8784530386740331"
            ]
          },
          "metadata": {},
          "execution_count": 83
        }
      ]
    },
    {
      "cell_type": "code",
      "source": [],
      "metadata": {
        "id": "7RXQAhspJ4bT"
      },
      "execution_count": null,
      "outputs": []
    },
    {
      "cell_type": "code",
      "source": [],
      "metadata": {
        "id": "AYb7YtkoJ4oI"
      },
      "execution_count": null,
      "outputs": []
    }
  ]
}
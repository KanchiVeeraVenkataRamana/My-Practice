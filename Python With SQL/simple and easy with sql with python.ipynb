{
 "cells": [
  {
   "cell_type": "code",
   "execution_count": 1,
   "id": "e4cdefe3",
   "metadata": {},
   "outputs": [
    {
     "data": {
      "text/plain": [
       "<mysql.connector.connection.MySQLConnection at 0x1f917f0f430>"
      ]
     },
     "execution_count": 1,
     "metadata": {},
     "output_type": "execute_result"
    }
   ],
   "source": [
    "#sql connection\n",
    "import mysql.connector\n",
    "mydb=mysql.connector.connect(host='localhost',user='root',passwd='123456',auth_plugin='mysql_native_password')\n",
    "mydb"
   ]
  },
  {
   "cell_type": "code",
   "execution_count": 3,
   "id": "caa6ff15",
   "metadata": {},
   "outputs": [],
   "source": [
    "#create a database \n",
    "mycursor=mydb.cursor()\n",
    "mycursor.execute('CREATE DATABASE venkydb')"
   ]
  },
  {
   "cell_type": "code",
   "execution_count": 4,
   "id": "e2f852b7",
   "metadata": {},
   "outputs": [
    {
     "name": "stdout",
     "output_type": "stream",
     "text": [
      "('information_schema',)\n",
      "('mysql',)\n",
      "('mysql_cod',)\n",
      "('mysql_code',)\n",
      "('mysql_python',)\n",
      "('performance_schema',)\n",
      "('sys',)\n",
      "('testdb',)\n",
      "('tutorials',)\n",
      "('venky',)\n",
      "('venkydb',)\n"
     ]
    }
   ],
   "source": [
    "#Show The All Databases\n",
    "mycursor=mydb.cursor()\n",
    "mycursor.execute('SHOW DATABASES')\n",
    "for db in mycursor:\n",
    "    print(db)"
   ]
  },
  {
   "cell_type": "code",
   "execution_count": 5,
   "id": "288b953c",
   "metadata": {},
   "outputs": [],
   "source": [
    "#Create A Table\n",
    "import mysql.connector\n",
    "mydb=mysql.connector.connect(host='localhost',user='root',passwd='123456',auth_plugin='mysql_native_password'\n",
    "                            ,database='venkydb')\n",
    "mycursor=mydb.cursor()\n",
    "\n",
    "mycursor.execute(\"CREATE TABLE students (name varchar(255),age integer(10))\")"
   ]
  },
  {
   "cell_type": "code",
   "execution_count": 6,
   "id": "dd86b8f2",
   "metadata": {},
   "outputs": [],
   "source": [
    "for tb in mycursor:\n",
    "    print(tb)"
   ]
  },
  {
   "cell_type": "code",
   "execution_count": 7,
   "id": "88dceb8d",
   "metadata": {},
   "outputs": [],
   "source": [
    "#Insert the values\n",
    "import mysql.connector\n",
    "mydb=mysql.connector.connect(host='localhost',user='root',passwd='123456',auth_plugin='mysql_native_password'\n",
    "                            ,database='venkydb')\n",
    "\n",
    "mycursor=mydb.cursor()\n",
    "sqlformula=\"INSERT INTO students (name,age) values(%s,%s)\"\n",
    "students=[('Venky',22),\n",
    "          ('Shyam',23),\n",
    "          ('Chandu',21),\n",
    "          ('Hemanth',22),\n",
    "          ('Vinay',22)]\n",
    "mycursor.executemany(sqlformula,students)\n",
    "mydb.commit()"
   ]
  },
  {
   "cell_type": "code",
   "execution_count": 8,
   "id": "a7ebaf45",
   "metadata": {},
   "outputs": [],
   "source": [
    "#selecting and getting data\n",
    "import mysql.connector\n",
    "mydb=mysql.connector.connect(host='localhost',user='root',passwd='123456',auth_plugin='mysql_native_password',\n",
    "                            database='venkydb')\n",
    "\n",
    "mycursor=mydb.cursor()\n",
    "mycursor.execute(\"SELECT * FROM students\")\n",
    "result=mycursor.fetchall()"
   ]
  },
  {
   "cell_type": "code",
   "execution_count": 9,
   "id": "159d8e0b",
   "metadata": {},
   "outputs": [
    {
     "name": "stdout",
     "output_type": "stream",
     "text": [
      "('Venky', 22)\n",
      "('Shyam', 23)\n",
      "('Chandu', 21)\n",
      "('Hemanth', 22)\n",
      "('Vinay', 22)\n"
     ]
    }
   ],
   "source": [
    "for row in range(len(result)):\n",
    "    print(result[row])"
   ]
  },
  {
   "cell_type": "code",
   "execution_count": 10,
   "id": "52039d2b",
   "metadata": {},
   "outputs": [
    {
     "name": "stdout",
     "output_type": "stream",
     "text": [
      "(22,)\n",
      "(23,)\n",
      "(21,)\n",
      "(22,)\n",
      "(22,)\n"
     ]
    }
   ],
   "source": [
    "#specific rows\n",
    "import mysql.connector\n",
    "mydb=mysql.connector.connect(host='localhost',user='root',passwd='123456',auth_plugin='mysql_native_password',\n",
    "                            database='venkydb')\n",
    "\n",
    "mycursor=mydb.cursor()\n",
    "mycursor.execute(\"SELECT age FROM students\")\n",
    "result=mycursor.fetchall()\n",
    "for row in range(len(result)):\n",
    "    print(result[row])"
   ]
  },
  {
   "cell_type": "code",
   "execution_count": 11,
   "id": "97dce636",
   "metadata": {},
   "outputs": [
    {
     "name": "stdout",
     "output_type": "stream",
     "text": [
      "('Venky',)\n",
      "('Shyam',)\n",
      "('Chandu',)\n",
      "('Hemanth',)\n",
      "('Vinay',)\n"
     ]
    }
   ],
   "source": [
    "#specific rows\n",
    "import mysql.connector\n",
    "mydb=mysql.connector.connect(host='localhost',user='root',passwd='123456',auth_plugin='mysql_native_password',\n",
    "                            database='venkydb')\n",
    "\n",
    "mycursor=mydb.cursor()\n",
    "mycursor.execute(\"SELECT name FROM students\")\n",
    "result=mycursor.fetchall()\n",
    "for row in range(len(result)):\n",
    "    print(result[row])"
   ]
  },
  {
   "cell_type": "code",
   "execution_count": 2,
   "id": "694a1a9a",
   "metadata": {},
   "outputs": [
    {
     "name": "stdout",
     "output_type": "stream",
     "text": [
      "('Vinay', 22)\n"
     ]
    }
   ],
   "source": [
    "#query conditions with where and wildcards\n",
    "import mysql.connector\n",
    "mydb=mysql.connector.connect(host='localhost',user='root',passwd='123456',auth_plugin='mysql_native_password',\n",
    "                            database='venkydb')\n",
    "\n",
    "mycursor=mydb.cursor()\n",
    "mycursor.execute(\"SELECT *FROM students where name='vinay'\")\n",
    "result=mycursor.fetchall()\n",
    "for row in range(len(result)):\n",
    "    print(result[row])"
   ]
  },
  {
   "cell_type": "code",
   "execution_count": 3,
   "id": "c388141a",
   "metadata": {},
   "outputs": [
    {
     "name": "stdout",
     "output_type": "stream",
     "text": [
      "('Venky', 22)\n",
      "('Hemanth', 22)\n",
      "('Vinay', 22)\n"
     ]
    }
   ],
   "source": [
    "#query conditions with where and wildcards\n",
    "import mysql.connector\n",
    "mydb=mysql.connector.connect(host='localhost',user='root',passwd='123456',auth_plugin='mysql_native_password',\n",
    "                            database='venkydb')\n",
    "\n",
    "mycursor=mydb.cursor()\n",
    "mycursor.execute(\"SELECT *FROM students where age = 22\")\n",
    "result=mycursor.fetchall()\n",
    "for row in range(len(result)):\n",
    "    print(result[row])"
   ]
  },
  {
   "cell_type": "code",
   "execution_count": 4,
   "id": "9d4bfa95",
   "metadata": {},
   "outputs": [
    {
     "name": "stdout",
     "output_type": "stream",
     "text": [
      "('Chandu', 21)\n"
     ]
    }
   ],
   "source": [
    "#query conditions with where and wildcards\n",
    "import mysql.connector\n",
    "mydb=mysql.connector.connect(host='localhost',user='root',passwd='123456',auth_plugin='mysql_native_password',\n",
    "                            database='venkydb')\n",
    "\n",
    "mycursor=mydb.cursor()\n",
    "mycursor.execute(\"SELECT *FROM students where age=21\")\n",
    "result=mycursor.fetchall()\n",
    "for row in range(len(result)):\n",
    "    print(result[row])"
   ]
  },
  {
   "cell_type": "code",
   "execution_count": 11,
   "id": "7f408141",
   "metadata": {},
   "outputs": [
    {
     "name": "stdout",
     "output_type": "stream",
     "text": [
      "('Venky', 22)\n",
      "('Vinay', 22)\n"
     ]
    }
   ],
   "source": [
    "#query conditions with where and wildcards\n",
    "import mysql.connector\n",
    "mydb=mysql.connector.connect(host='localhost',user='root',passwd='123456',auth_plugin='mysql_native_password',\n",
    "                            database='venkydb')\n",
    "\n",
    "mycursor=mydb.cursor()\n",
    "mycursor.execute(\"SELECT *FROM students WHERE name LIKE 'V%' \")\n",
    "result=mycursor.fetchall()\n",
    "for row in range(len(result)):\n",
    "    print(result[row])"
   ]
  },
  {
   "cell_type": "code",
   "execution_count": 12,
   "id": "e7543627",
   "metadata": {},
   "outputs": [
    {
     "name": "stdout",
     "output_type": "stream",
     "text": [
      "('Venky', 22)\n",
      "('Vinay', 22)\n"
     ]
    }
   ],
   "source": [
    "#query conditions with where and wildcards\n",
    "import mysql.connector\n",
    "mydb=mysql.connector.connect(host='localhost',user='root',passwd='123456',auth_plugin='mysql_native_password',\n",
    "                            database='venkydb')\n",
    "\n",
    "mycursor=mydb.cursor()\n",
    "mycursor.execute(\"SELECT *FROM students WHERE name LIKE '%y' \")\n",
    "result=mycursor.fetchall()\n",
    "for row in range(len(result)):\n",
    "    print(result[row])"
   ]
  },
  {
   "cell_type": "code",
   "execution_count": 13,
   "id": "b9920ce2",
   "metadata": {},
   "outputs": [
    {
     "name": "stdout",
     "output_type": "stream",
     "text": [
      "('Shyam', 23)\n"
     ]
    }
   ],
   "source": [
    "#query conditions with where and wildcards\n",
    "import mysql.connector\n",
    "mydb=mysql.connector.connect(host='localhost',user='root',passwd='123456',auth_plugin='mysql_native_password',\n",
    "                            database='venkydb')\n",
    "\n",
    "mycursor=mydb.cursor()\n",
    "mycursor.execute(\"SELECT *FROM students WHERE name LIKE 'S%' \")\n",
    "result=mycursor.fetchall()\n",
    "for row in range(len(result)):\n",
    "    print(result[row])"
   ]
  },
  {
   "cell_type": "code",
   "execution_count": 14,
   "id": "f574527d",
   "metadata": {},
   "outputs": [
    {
     "name": "stdout",
     "output_type": "stream",
     "text": [
      "('Hemanth', 22)\n"
     ]
    }
   ],
   "source": [
    "#query conditions with where and wildcards\n",
    "import mysql.connector\n",
    "mydb=mysql.connector.connect(host='localhost',user='root',passwd='123456',auth_plugin='mysql_native_password',\n",
    "                            database='venkydb')\n",
    "\n",
    "mycursor=mydb.cursor()\n",
    "mycursor.execute(\"SELECT *FROM students WHERE name LIKE 'H%' \")\n",
    "result=mycursor.fetchall()\n",
    "for row in range(len(result)):\n",
    "    print(result[row])"
   ]
  },
  {
   "cell_type": "code",
   "execution_count": 16,
   "id": "22302ab6",
   "metadata": {},
   "outputs": [
    {
     "name": "stdout",
     "output_type": "stream",
     "text": [
      "('Hemanth', 22)\n"
     ]
    }
   ],
   "source": [
    "#query conditions with where and wildcards\n",
    "import mysql.connector\n",
    "mydb=mysql.connector.connect(host='localhost',user='root',passwd='123456',auth_plugin='mysql_native_password',\n",
    "                            database='venkydb')\n",
    "\n",
    "mycursor=mydb.cursor()\n",
    "mycursor.execute(\"SELECT *FROM students WHERE name LIKE '%h' \")\n",
    "result=mycursor.fetchall()\n",
    "for row in range(len(result)):\n",
    "    print(result[row])"
   ]
  },
  {
   "cell_type": "code",
   "execution_count": 17,
   "id": "e2dd57ea",
   "metadata": {},
   "outputs": [
    {
     "name": "stdout",
     "output_type": "stream",
     "text": [
      "('Venky', 22)\n"
     ]
    }
   ],
   "source": [
    "#query conditions with where and wildcards\n",
    "import mysql.connector\n",
    "mydb=mysql.connector.connect(host='localhost',user='root',passwd='123456',auth_plugin='mysql_native_password',\n",
    "                            database='venkydb')\n",
    "\n",
    "mycursor=mydb.cursor()\n",
    "mycursor.execute(\"SELECT *FROM students WHERE name LIKE '%en%' \")\n",
    "result=mycursor.fetchall()\n",
    "for row in range(len(result)):\n",
    "    print(result[row])"
   ]
  },
  {
   "cell_type": "code",
   "execution_count": 18,
   "id": "575c27f6",
   "metadata": {},
   "outputs": [
    {
     "name": "stdout",
     "output_type": "stream",
     "text": [
      "('Chandu', 21)\n",
      "('Hemanth', 22)\n"
     ]
    }
   ],
   "source": [
    "#query conditions with where and wildcards\n",
    "import mysql.connector\n",
    "mydb=mysql.connector.connect(host='localhost',user='root',passwd='123456',auth_plugin='mysql_native_password',\n",
    "                            database='venkydb')\n",
    "\n",
    "mycursor=mydb.cursor()\n",
    "mycursor.execute(\"SELECT *FROM students WHERE name LIKE '%an%' \")\n",
    "result=mycursor.fetchall()\n",
    "for row in range(len(result)):\n",
    "    print(result[row])"
   ]
  },
  {
   "cell_type": "code",
   "execution_count": 24,
   "id": "4004fd1c",
   "metadata": {},
   "outputs": [],
   "source": [
    "#updated entries and limiting queries\n",
    "import mysql.connector\n",
    "mydb=mysql.connector.connect(host='localhost',user='root',passwd='123456',auth_plugin='mysql_native_password',\n",
    "                            database='venkydb')\n",
    "\n",
    "mycursor=mydb.cursor()\n",
    "sql=\"update students set age=23 where name='chandu'\"\n",
    "mycursor.execute(sql)\n",
    "mydb.commit()"
   ]
  },
  {
   "cell_type": "code",
   "execution_count": 25,
   "id": "a7610b90",
   "metadata": {},
   "outputs": [
    {
     "name": "stdout",
     "output_type": "stream",
     "text": [
      "('Venky', 22)\n",
      "('Shyam', 23)\n",
      "('Chandu', 23)\n",
      "('Hemanth', 22)\n",
      "('Vinay', 22)\n"
     ]
    }
   ],
   "source": [
    "import mysql.connector\n",
    "mydb=mysql.connector.connect(host='localhost',user='root',passwd='123456',auth_plugin='mysql_native_password',\n",
    "                            database='venkydb')\n",
    "\n",
    "mycursor=mydb.cursor()\n",
    "mycursor.execute(\"SELECT *FROM students \")\n",
    "result=mycursor.fetchall()\n",
    "for row in range(len(result)):\n",
    "    print(result[row])"
   ]
  },
  {
   "cell_type": "code",
   "execution_count": 35,
   "id": "7bd668c8",
   "metadata": {},
   "outputs": [
    {
     "name": "stdout",
     "output_type": "stream",
     "text": [
      "('Venky', 22)\n",
      "('Shyam', 23)\n",
      "('Chandu', 23)\n"
     ]
    }
   ],
   "source": [
    "import mysql.connector\n",
    "mydb=mysql.connector.connect(host='localhost',user='root',passwd='123456',auth_plugin='mysql_native_password',\n",
    "                            database='venkydb')\n",
    "\n",
    "mycursor=mydb.cursor()\n",
    "mycursor.execute('SELECT * FROM students LIMIT 3')\n",
    "result=mycursor.fetchall()\n",
    "for row in range(len(result)):\n",
    "    print(result[row])"
   ]
  },
  {
   "cell_type": "code",
   "execution_count": 36,
   "id": "965afb02",
   "metadata": {},
   "outputs": [
    {
     "name": "stdout",
     "output_type": "stream",
     "text": [
      "('Chandu', 23)\n",
      "('Hemanth', 22)\n",
      "('Vinay', 22)\n"
     ]
    }
   ],
   "source": [
    "import mysql.connector\n",
    "mydb=mysql.connector.connect(host='localhost',user='root',passwd='123456',auth_plugin='mysql_native_password',\n",
    "                            database='venkydb')\n",
    "\n",
    "mycursor=mydb.cursor()\n",
    "mycursor.execute('SELECT * FROM students LIMIT 3 OFFSET 2')\n",
    "result=mycursor.fetchall()\n",
    "for row in range(len(result)):\n",
    "    print(result[row])"
   ]
  },
  {
   "cell_type": "code",
   "execution_count": 40,
   "id": "acc471ac",
   "metadata": {},
   "outputs": [
    {
     "name": "stdout",
     "output_type": "stream",
     "text": [
      "('Chandu', 23)\n",
      "('Hemanth', 22)\n",
      "('Shyam', 23)\n",
      "('Venky', 22)\n",
      "('Vinay', 22)\n"
     ]
    }
   ],
   "source": [
    "#ordering our queries and results\n",
    "import mysql.connector\n",
    "mydb=mysql.connector.connect(host='localhost',user='root',passwd='123456',auth_plugin='mysql_native_password',\n",
    "                            database='venkydb')\n",
    "\n",
    "mycursor=mydb.cursor()\n",
    "sql=\"SELECT * FROM students ORDER BY name\"\n",
    "mycursor.execute(sql)\n",
    "myresult=mycursor.fetchall()\n",
    "for r in range(len(myresult)):\n",
    "    print(myresult[r])"
   ]
  },
  {
   "cell_type": "code",
   "execution_count": 41,
   "id": "046e3dda",
   "metadata": {},
   "outputs": [
    {
     "name": "stdout",
     "output_type": "stream",
     "text": [
      "('Venky', 22)\n",
      "('Hemanth', 22)\n",
      "('Vinay', 22)\n",
      "('Shyam', 23)\n",
      "('Chandu', 23)\n"
     ]
    }
   ],
   "source": [
    "import mysql.connector\n",
    "mydb=mysql.connector.connect(host='localhost',user='root',passwd='123456',auth_plugin='mysql_native_password',\n",
    "                            database='venkydb')\n",
    "\n",
    "mycursor=mydb.cursor()\n",
    "sql=\"SELECT * FROM students ORDER BY age\"\n",
    "mycursor.execute(sql)\n",
    "myresult=mycursor.fetchall()\n",
    "for r in range(len(myresult)):\n",
    "    print(myresult[r])"
   ]
  },
  {
   "cell_type": "code",
   "execution_count": 43,
   "id": "c0c8d1a3",
   "metadata": {},
   "outputs": [
    {
     "name": "stdout",
     "output_type": "stream",
     "text": [
      "('Vinay', 22)\n",
      "('Venky', 22)\n",
      "('Shyam', 23)\n",
      "('Hemanth', 22)\n",
      "('Chandu', 23)\n"
     ]
    }
   ],
   "source": [
    "import mysql.connector\n",
    "mydb=mysql.connector.connect(host='localhost',user='root',passwd='123456',auth_plugin='mysql_native_password',\n",
    "                            database='venkydb')\n",
    "\n",
    "mycursor=mydb.cursor()\n",
    "sql=\"SELECT * FROM students ORDER BY name DESC\"\n",
    "mycursor.execute(sql)\n",
    "myresult=mycursor.fetchall()\n",
    "for r in range(len(myresult)):\n",
    "    print(myresult[r])"
   ]
  },
  {
   "cell_type": "code",
   "execution_count": 44,
   "id": "1c5f9b67",
   "metadata": {},
   "outputs": [
    {
     "name": "stdout",
     "output_type": "stream",
     "text": [
      "('Shyam', 23)\n",
      "('Chandu', 23)\n",
      "('Venky', 22)\n",
      "('Hemanth', 22)\n",
      "('Vinay', 22)\n"
     ]
    }
   ],
   "source": [
    "import mysql.connector\n",
    "mydb=mysql.connector.connect(host='localhost',user='root',passwd='123456',auth_plugin='mysql_native_password',\n",
    "                            database='venkydb')\n",
    "\n",
    "mycursor=mydb.cursor()\n",
    "sql=\"SELECT * FROM students ORDER BY age DESC\"\n",
    "mycursor.execute(sql)\n",
    "myresult=mycursor.fetchall()\n",
    "for r in range(len(myresult)):\n",
    "    print(myresult[r])"
   ]
  },
  {
   "cell_type": "code",
   "execution_count": 49,
   "id": "c4c57bd2",
   "metadata": {},
   "outputs": [],
   "source": [
    "#Delete entries and dropping tables\n",
    "import mysql.connector\n",
    "mydb=mysql.connector.connect(host='localhost',user='root',passwd='123456',auth_plugin='mysql_native_password',\n",
    "                            database='venkydb')\n",
    "\n",
    "mycursor=mydb.cursor()\n",
    "sql=\"DELETE FROM students WHERE name='Hemanth'\"\n",
    "mycursor.execute(sql)\n",
    "mydb.commit()"
   ]
  },
  {
   "cell_type": "code",
   "execution_count": 54,
   "id": "f1d786d3",
   "metadata": {},
   "outputs": [],
   "source": [
    "import mysql.connector\n",
    "mydb=mysql.connector.connect(host='localhost',user='root',passwd='123456',auth_plugin='mysql_native_password',\n",
    "                            database='venkydb')\n",
    "\n",
    "mycursor=mydb.cursor()\n",
    "sql=\"DELETE FROM students WHERE age=22\"\n",
    "mycursor.execute(sql)\n",
    "mydb.commit()"
   ]
  },
  {
   "cell_type": "code",
   "execution_count": 55,
   "id": "1017d6e0",
   "metadata": {},
   "outputs": [
    {
     "name": "stdout",
     "output_type": "stream",
     "text": [
      "('Shyam', 23)\n",
      "('Chandu', 23)\n"
     ]
    }
   ],
   "source": [
    "import mysql.connector\n",
    "mydb=mysql.connector.connect(host='localhost',user='root',passwd='123456',auth_plugin='mysql_native_password',\n",
    "                            database='venkydb')\n",
    "\n",
    "mycursor=mydb.cursor()\n",
    "mycursor.execute('SELECT * FROM students')\n",
    "result=mycursor.fetchall()\n",
    "for row in range(len(result)):\n",
    "    print(result[row])"
   ]
  },
  {
   "cell_type": "code",
   "execution_count": 56,
   "id": "29a2de05",
   "metadata": {},
   "outputs": [],
   "source": [
    "import mysql.connector\n",
    "mydb=mysql.connector.connect(host='localhost',user='root',passwd='123456',auth_plugin='mysql_native_password',\n",
    "                            database='venkydb')\n",
    "\n",
    "mycursor=mydb.cursor()\n",
    "sql=\"DELETE FROM students\"\n",
    "mycursor.execute(sql)\n",
    "mydb.commit()"
   ]
  },
  {
   "cell_type": "code",
   "execution_count": null,
   "id": "b2d3bcfc",
   "metadata": {},
   "outputs": [],
   "source": []
  },
  {
   "cell_type": "code",
   "execution_count": null,
   "id": "cc9c020e",
   "metadata": {},
   "outputs": [],
   "source": []
  },
  {
   "cell_type": "code",
   "execution_count": null,
   "id": "f480da1c",
   "metadata": {},
   "outputs": [],
   "source": []
  },
  {
   "cell_type": "code",
   "execution_count": null,
   "id": "5cf1709b",
   "metadata": {},
   "outputs": [],
   "source": []
  },
  {
   "cell_type": "code",
   "execution_count": null,
   "id": "a4d04246",
   "metadata": {},
   "outputs": [],
   "source": []
  },
  {
   "cell_type": "code",
   "execution_count": null,
   "id": "538ed845",
   "metadata": {},
   "outputs": [],
   "source": []
  },
  {
   "cell_type": "code",
   "execution_count": null,
   "id": "8934f17d",
   "metadata": {},
   "outputs": [],
   "source": []
  },
  {
   "cell_type": "code",
   "execution_count": null,
   "id": "c0ecabe7",
   "metadata": {},
   "outputs": [],
   "source": []
  },
  {
   "cell_type": "code",
   "execution_count": null,
   "id": "09e4df5a",
   "metadata": {},
   "outputs": [],
   "source": []
  },
  {
   "cell_type": "code",
   "execution_count": null,
   "id": "5e66600a",
   "metadata": {},
   "outputs": [],
   "source": []
  }
 ],
 "metadata": {
  "kernelspec": {
   "display_name": "Python 3 (ipykernel)",
   "language": "python",
   "name": "python3"
  },
  "language_info": {
   "codemirror_mode": {
    "name": "ipython",
    "version": 3
   },
   "file_extension": ".py",
   "mimetype": "text/x-python",
   "name": "python",
   "nbconvert_exporter": "python",
   "pygments_lexer": "ipython3",
   "version": "3.9.12"
  }
 },
 "nbformat": 4,
 "nbformat_minor": 5
}

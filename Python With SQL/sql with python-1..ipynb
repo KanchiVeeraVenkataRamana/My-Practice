{
 "cells": [
  {
   "cell_type": "code",
   "execution_count": 2,
   "id": "d6985268",
   "metadata": {},
   "outputs": [
    {
     "name": "stdout",
     "output_type": "stream",
     "text": [
      "Collecting mysql\n",
      "  Downloading mysql-0.0.3-py3-none-any.whl (1.2 kB)\n",
      "Collecting mysqlclient\n",
      "  Downloading mysqlclient-2.1.1-cp39-cp39-win_amd64.whl (178 kB)\n",
      "Installing collected packages: mysqlclient, mysql\n",
      "Successfully installed mysql-0.0.3 mysqlclient-2.1.1\n"
     ]
    }
   ],
   "source": [
    "!pip install mysql"
   ]
  },
  {
   "cell_type": "code",
   "execution_count": 4,
   "id": "d64a3bd2",
   "metadata": {},
   "outputs": [
    {
     "name": "stdout",
     "output_type": "stream",
     "text": [
      "Collecting mysql.connector\n",
      "  Downloading mysql-connector-2.2.9.tar.gz (11.9 MB)\n",
      "Building wheels for collected packages: mysql.connector\n",
      "  Building wheel for mysql.connector (setup.py): started\n",
      "  Building wheel for mysql.connector (setup.py): finished with status 'done'\n",
      "  Created wheel for mysql.connector: filename=mysql_connector-2.2.9-cp39-cp39-win_amd64.whl size=247961 sha256=bc95861d7823e06e7ab4eabd3f817583c4bce5cf2819f661627b94817892a409\n",
      "  Stored in directory: c:\\users\\91630\\appdata\\local\\pip\\cache\\wheels\\7b\\14\\39\\5aad423666e827dfe9a1fbcd111ac17171e7c9865d570780ce\n",
      "Successfully built mysql.connector\n",
      "Installing collected packages: mysql.connector\n",
      "Successfully installed mysql.connector-2.2.9\n"
     ]
    }
   ],
   "source": [
    "!pip install mysql.connector"
   ]
  },
  {
   "cell_type": "code",
   "execution_count": null,
   "id": "ac0626e4",
   "metadata": {},
   "outputs": [],
   "source": []
  },
  {
   "cell_type": "code",
   "execution_count": 1,
   "id": "30f801a1",
   "metadata": {},
   "outputs": [],
   "source": [
    "#import libaries\n",
    "import mysql.connector\n",
    "from mysql.connector import Error\n",
    "import pandas as pd"
   ]
  },
  {
   "cell_type": "code",
   "execution_count": 2,
   "id": "0a7e7d67",
   "metadata": {},
   "outputs": [
    {
     "name": "stdout",
     "output_type": "stream",
     "text": [
      "connection successfully\n"
     ]
    }
   ],
   "source": [
    "conn=mysql.connector.connect(host='localhost',user='root',password='123456',database='venky',\n",
    "                             auth_plugin='mysql_native_password')\n",
    "if conn.is_connected():\n",
    "    print('connection successfully')\n",
    "else:\n",
    "    print('connection failed')"
   ]
  },
  {
   "cell_type": "code",
   "execution_count": 3,
   "id": "3c5baa0c",
   "metadata": {},
   "outputs": [
    {
     "name": "stdout",
     "output_type": "stream",
     "text": [
      "MYSQL Database Connection Successful\n"
     ]
    }
   ],
   "source": [
    "def create_server_connection(host_name,user_name,user_password):\n",
    "    connection=None\n",
    "    try:\n",
    "        connection=mysql.connector.connect(host=host_name,user=user_name,passwd=user_password,\n",
    "                                           auth_plugin='mysql_native_password')\n",
    "        print('MYSQL Database Connection Successful')\n",
    "    except Error as err:\n",
    "        print(f\"Error:'{err}'\")\n",
    "    return connection\n",
    "\n",
    "#put our mysql terminal password\n",
    "pw='123456'\n",
    "\n",
    "#database name\n",
    "db='mysql_python'\n",
    "\n",
    "connection=create_server_connection('localhost','root',pw)"
   ]
  },
  {
   "cell_type": "code",
   "execution_count": 48,
   "id": "47f8e56f",
   "metadata": {},
   "outputs": [
    {
     "name": "stdout",
     "output_type": "stream",
     "text": [
      "Database create Successfully\n"
     ]
    }
   ],
   "source": [
    "#Create mysql_python\n",
    "def create_database(connection,query):\n",
    "    cursor=connection.cursor()\n",
    "    try:\n",
    "        cursor.execute(query)\n",
    "        print('Database create Successfully')\n",
    "    except Error as err:\n",
    "        print(f\"Error:'{err}'\")\n",
    "        \n",
    "create_database_query='Create database mysql_python'\n",
    "create_database(connection,create_database_query)"
   ]
  },
  {
   "cell_type": "code",
   "execution_count": 15,
   "id": "d515b77c",
   "metadata": {},
   "outputs": [],
   "source": [
    "#connect to database\n",
    "def create_db_connection(host_name,user_name,user_password,db_name):\n",
    "    connection = None\n",
    "    try:\n",
    "        connection=mysql.connector.connect(host=host_name,user=user_name,passwd=user_password,database=db_name,\n",
    "                                          auth_plugin='mysql_native_password')\n",
    "        print('MYSQL Database Connection Successfully')\n",
    "    except Error as err:\n",
    "        print(f\"Error:'{err}'\")\n",
    "    return connection"
   ]
  },
  {
   "cell_type": "code",
   "execution_count": 16,
   "id": "5e79e16e",
   "metadata": {},
   "outputs": [],
   "source": [
    "#Execute sql queries\n",
    "def execute_query(connection,query):\n",
    "    cursor=connection.cursor()\n",
    "    try:\n",
    "        cursor.execute(query)\n",
    "        connection.commit()\n",
    "        print('Query was Successfull')\n",
    "    except Error as err:\n",
    "        print(f\"Error:'{err}'\")"
   ]
  },
  {
   "cell_type": "code",
   "execution_count": 26,
   "id": "d480794b",
   "metadata": {},
   "outputs": [
    {
     "name": "stdout",
     "output_type": "stream",
     "text": [
      "MYSQL Database Connection Successfully\n",
      "Query was Successfull\n"
     ]
    }
   ],
   "source": [
    "#create the table\n",
    "create_order_table=\"\"\"\n",
    "create table flipkartorders(\n",
    "order_id int primary key,\n",
    "customer_name varchar(30) not null,\n",
    "product_name varchar(30) not null,\n",
    "date_ordered date,\n",
    "quantity int,\n",
    "unit_price float,\n",
    "phone_number varchar(20));\n",
    "\"\"\"\n",
    "\n",
    "#connection to the database\n",
    "connection=create_db_connection('localhost','root',pw,db)\n",
    "execute_query(connection,create_order_table)"
   ]
  },
  {
   "cell_type": "code",
   "execution_count": 30,
   "id": "ce016335",
   "metadata": {},
   "outputs": [
    {
     "name": "stdout",
     "output_type": "stream",
     "text": [
      "MYSQL Database Connection Successfully\n",
      "Query was Successfull\n"
     ]
    }
   ],
   "source": [
    "#insert data\n",
    "date_orders=\"\"\"\n",
    "insert into orders values\n",
    "(121, 'venky','laptop','2018-08-07',2,800,'8292898928'),\n",
    "(122, 'shyam','Books','2018-04-17',10,12,'4849849389'),\n",
    "(123, 'chandu','dress','2018-03-24',38,28,'9128395784'),\n",
    "(124, 'kishore','shoes','2018-03-20',18,38,'9128473829'),\n",
    "(125, 'vinay','headphones','2018-08-10',10,300,'6303444038');\n",
    "\"\"\"\n",
    "\n",
    "connection=create_db_connection('localhost','root',pw,db)\n",
    "execute_query(connection,date_orders)"
   ]
  },
  {
   "cell_type": "code",
   "execution_count": 31,
   "id": "65ea3820",
   "metadata": {},
   "outputs": [],
   "source": [
    "def read_query(connection,query):\n",
    "    cursor=connection.cursor()\n",
    "    result=None\n",
    "    try:\n",
    "        cursor.execute(query)\n",
    "        result=cursor.fetchall()\n",
    "        return result\n",
    "    except Error as err:\n",
    "        print(f\"Error:'{err}'\")"
   ]
  },
  {
   "cell_type": "code",
   "execution_count": 33,
   "id": "fe75d676",
   "metadata": {},
   "outputs": [
    {
     "name": "stdout",
     "output_type": "stream",
     "text": [
      "MYSQL Database Connection Successfully\n",
      "(11, 'venky', 'laptop', datetime.date(2018, 8, 7), 2, 800.0, '8292898928')\n",
      "(12, 'shyam', 'Books', datetime.date(2018, 4, 17), 10, 12.0, '4849849389')\n",
      "(13, 'chandu', 'dress', datetime.date(2018, 3, 24), 38, 28.0, '9128395784')\n",
      "(14, 'kishore', 'shoes', datetime.date(2018, 3, 20), 18, 38.0, '9128473829')\n",
      "(15, 'vinay', 'headphones', datetime.date(2018, 8, 10), 10, 300.0, '6303444038')\n",
      "(101, 'venky', 'laptop', datetime.date(2018, 8, 7), 2, 800.0, '8292898928')\n",
      "(102, 'shyam', 'Books', datetime.date(2018, 4, 17), 10, 12.0, '4849849389')\n",
      "(103, 'chandu', 'dress', datetime.date(2018, 3, 24), 38, 28.0, '9128395784')\n",
      "(104, 'kishore', 'shoes', datetime.date(2018, 3, 20), 18, 38.0, '9128473829')\n",
      "(105, 'vinay', 'headphones', datetime.date(2018, 8, 10), 10, 300.0, '6303444038')\n",
      "(111, 'venky', 'laptop', datetime.date(2018, 8, 7), 2, 800.0, '8292898928')\n",
      "(112, 'shyam', 'Books', datetime.date(2018, 4, 17), 10, 12.0, '4849849389')\n",
      "(113, 'chandu', 'dress', datetime.date(2018, 3, 24), 38, 28.0, '9128395784')\n",
      "(114, 'kishore', 'shoes', datetime.date(2018, 3, 20), 18, 38.0, '9128473829')\n",
      "(115, 'vinay', 'headphones', datetime.date(2018, 8, 10), 10, 300.0, '6303444038')\n",
      "(121, 'venky', 'laptop', datetime.date(2018, 8, 7), 2, 800.0, '8292898928')\n",
      "(122, 'shyam', 'Books', datetime.date(2018, 4, 17), 10, 12.0, '4849849389')\n",
      "(123, 'chandu', 'dress', datetime.date(2018, 3, 24), 38, 28.0, '9128395784')\n",
      "(124, 'kishore', 'shoes', datetime.date(2018, 3, 20), 18, 38.0, '9128473829')\n",
      "(125, 'vinay', 'headphones', datetime.date(2018, 8, 10), 10, 300.0, '6303444038')\n"
     ]
    }
   ],
   "source": [
    "#using the select statement\n",
    "q1=\"\"\"\n",
    "select * from orders;\n",
    "\"\"\"\n",
    "connection=create_db_connection('localhost','root',pw,db)\n",
    "results=read_query(connection,q1)\n",
    "for result in results:\n",
    "    print(result)"
   ]
  },
  {
   "cell_type": "code",
   "execution_count": 36,
   "id": "79fb26b1",
   "metadata": {},
   "outputs": [
    {
     "name": "stdout",
     "output_type": "stream",
     "text": [
      "MYSQL Database Connection Successfully\n",
      "('venky', '8292898928')\n",
      "('shyam', '4849849389')\n",
      "('chandu', '9128395784')\n",
      "('kishore', '9128473829')\n",
      "('vinay', '6303444038')\n",
      "('venky', '8292898928')\n",
      "('shyam', '4849849389')\n",
      "('chandu', '9128395784')\n",
      "('kishore', '9128473829')\n",
      "('vinay', '6303444038')\n",
      "('venky', '8292898928')\n",
      "('shyam', '4849849389')\n",
      "('chandu', '9128395784')\n",
      "('kishore', '9128473829')\n",
      "('vinay', '6303444038')\n",
      "('venky', '8292898928')\n",
      "('shyam', '4849849389')\n",
      "('chandu', '9128395784')\n",
      "('kishore', '9128473829')\n",
      "('vinay', '6303444038')\n"
     ]
    }
   ],
   "source": [
    "#using the select statement\n",
    "q2=\"\"\"\n",
    "select customer_name,phone_number from orders;\n",
    "\"\"\"\n",
    "connection=create_db_connection('localhost','root',pw,db)\n",
    "results=read_query(connection,q2)\n",
    "for result in results:\n",
    "    print(result)"
   ]
  },
  {
   "cell_type": "code",
   "execution_count": 37,
   "id": "3c8c17f2",
   "metadata": {},
   "outputs": [
    {
     "name": "stdout",
     "output_type": "stream",
     "text": [
      "MYSQL Database Connection Successfully\n",
      "(2018,)\n",
      "(2018,)\n",
      "(2018,)\n",
      "(2018,)\n",
      "(2018,)\n",
      "(2018,)\n",
      "(2018,)\n",
      "(2018,)\n",
      "(2018,)\n",
      "(2018,)\n",
      "(2018,)\n",
      "(2018,)\n",
      "(2018,)\n",
      "(2018,)\n",
      "(2018,)\n",
      "(2018,)\n",
      "(2018,)\n",
      "(2018,)\n",
      "(2018,)\n",
      "(2018,)\n"
     ]
    }
   ],
   "source": [
    "#using the select statement\n",
    "q3=\"\"\"\n",
    "select year(date_ordered) from orders;\n",
    "\"\"\"\n",
    "connection=create_db_connection('localhost','root',pw,db)\n",
    "results=read_query(connection,q3)\n",
    "for result in results:\n",
    "    print(result)"
   ]
  },
  {
   "cell_type": "code",
   "execution_count": 38,
   "id": "d7675e00",
   "metadata": {},
   "outputs": [
    {
     "name": "stdout",
     "output_type": "stream",
     "text": [
      "MYSQL Database Connection Successfully\n",
      "(2018,)\n"
     ]
    }
   ],
   "source": [
    "#using the select statement\n",
    "q4=\"\"\"\n",
    "select distinct year(date_ordered) from orders;\n",
    "\"\"\"\n",
    "connection=create_db_connection('localhost','root',pw,db)\n",
    "results=read_query(connection,q4)\n",
    "for result in results:\n",
    "    print(result)"
   ]
  },
  {
   "cell_type": "code",
   "execution_count": 39,
   "id": "da8ad851",
   "metadata": {},
   "outputs": [
    {
     "name": "stdout",
     "output_type": "stream",
     "text": [
      "MYSQL Database Connection Successfully\n",
      "(13, 'chandu', 'dress', datetime.date(2018, 3, 24), 38, 28.0, '9128395784')\n",
      "(14, 'kishore', 'shoes', datetime.date(2018, 3, 20), 18, 38.0, '9128473829')\n",
      "(103, 'chandu', 'dress', datetime.date(2018, 3, 24), 38, 28.0, '9128395784')\n",
      "(104, 'kishore', 'shoes', datetime.date(2018, 3, 20), 18, 38.0, '9128473829')\n",
      "(113, 'chandu', 'dress', datetime.date(2018, 3, 24), 38, 28.0, '9128395784')\n",
      "(114, 'kishore', 'shoes', datetime.date(2018, 3, 20), 18, 38.0, '9128473829')\n",
      "(123, 'chandu', 'dress', datetime.date(2018, 3, 24), 38, 28.0, '9128395784')\n",
      "(124, 'kishore', 'shoes', datetime.date(2018, 3, 20), 18, 38.0, '9128473829')\n"
     ]
    }
   ],
   "source": [
    "#using the select statement\n",
    "q5=\"\"\"\n",
    "select * from orders where date_ordered < '2018-04-17';\n",
    "\"\"\"\n",
    "connection=create_db_connection('localhost','root',pw,db)\n",
    "results=read_query(connection,q5)\n",
    "for result in results:\n",
    "    print(result)"
   ]
  },
  {
   "cell_type": "code",
   "execution_count": 40,
   "id": "ba41b550",
   "metadata": {},
   "outputs": [
    {
     "name": "stdout",
     "output_type": "stream",
     "text": [
      "MYSQL Database Connection Successfully\n",
      "(11, 'venky', 'laptop', datetime.date(2018, 8, 7), 2, 800.0, '8292898928')\n",
      "(15, 'vinay', 'headphones', datetime.date(2018, 8, 10), 10, 300.0, '6303444038')\n",
      "(101, 'venky', 'laptop', datetime.date(2018, 8, 7), 2, 800.0, '8292898928')\n",
      "(105, 'vinay', 'headphones', datetime.date(2018, 8, 10), 10, 300.0, '6303444038')\n",
      "(111, 'venky', 'laptop', datetime.date(2018, 8, 7), 2, 800.0, '8292898928')\n",
      "(115, 'vinay', 'headphones', datetime.date(2018, 8, 10), 10, 300.0, '6303444038')\n",
      "(121, 'venky', 'laptop', datetime.date(2018, 8, 7), 2, 800.0, '8292898928')\n",
      "(125, 'vinay', 'headphones', datetime.date(2018, 8, 10), 10, 300.0, '6303444038')\n"
     ]
    }
   ],
   "source": [
    "#using the select statement\n",
    "q6=\"\"\"\n",
    "select * from orders where date_ordered > '2018-04-17';\n",
    "\"\"\"\n",
    "connection=create_db_connection('localhost','root',pw,db)\n",
    "results=read_query(connection,q6)\n",
    "for result in results:\n",
    "    print(result)"
   ]
  },
  {
   "cell_type": "code",
   "execution_count": 41,
   "id": "6a2ea6be",
   "metadata": {},
   "outputs": [
    {
     "name": "stdout",
     "output_type": "stream",
     "text": [
      "MYSQL Database Connection Successfully\n",
      "(12, 'shyam', 'Books', datetime.date(2018, 4, 17), 10, 12.0, '4849849389')\n",
      "(102, 'shyam', 'Books', datetime.date(2018, 4, 17), 10, 12.0, '4849849389')\n",
      "(112, 'shyam', 'Books', datetime.date(2018, 4, 17), 10, 12.0, '4849849389')\n",
      "(122, 'shyam', 'Books', datetime.date(2018, 4, 17), 10, 12.0, '4849849389')\n",
      "(13, 'chandu', 'dress', datetime.date(2018, 3, 24), 38, 28.0, '9128395784')\n",
      "(103, 'chandu', 'dress', datetime.date(2018, 3, 24), 38, 28.0, '9128395784')\n",
      "(113, 'chandu', 'dress', datetime.date(2018, 3, 24), 38, 28.0, '9128395784')\n",
      "(123, 'chandu', 'dress', datetime.date(2018, 3, 24), 38, 28.0, '9128395784')\n",
      "(14, 'kishore', 'shoes', datetime.date(2018, 3, 20), 18, 38.0, '9128473829')\n",
      "(104, 'kishore', 'shoes', datetime.date(2018, 3, 20), 18, 38.0, '9128473829')\n",
      "(114, 'kishore', 'shoes', datetime.date(2018, 3, 20), 18, 38.0, '9128473829')\n",
      "(124, 'kishore', 'shoes', datetime.date(2018, 3, 20), 18, 38.0, '9128473829')\n",
      "(15, 'vinay', 'headphones', datetime.date(2018, 8, 10), 10, 300.0, '6303444038')\n",
      "(105, 'vinay', 'headphones', datetime.date(2018, 8, 10), 10, 300.0, '6303444038')\n",
      "(115, 'vinay', 'headphones', datetime.date(2018, 8, 10), 10, 300.0, '6303444038')\n",
      "(125, 'vinay', 'headphones', datetime.date(2018, 8, 10), 10, 300.0, '6303444038')\n",
      "(11, 'venky', 'laptop', datetime.date(2018, 8, 7), 2, 800.0, '8292898928')\n",
      "(101, 'venky', 'laptop', datetime.date(2018, 8, 7), 2, 800.0, '8292898928')\n",
      "(111, 'venky', 'laptop', datetime.date(2018, 8, 7), 2, 800.0, '8292898928')\n",
      "(121, 'venky', 'laptop', datetime.date(2018, 8, 7), 2, 800.0, '8292898928')\n"
     ]
    }
   ],
   "source": [
    "#using the select statement\n",
    "q5=\"\"\"\n",
    "select * from orders order by unit_price;\n",
    "\"\"\"\n",
    "connection=create_db_connection('localhost','root',pw,db)\n",
    "results=read_query(connection,q5)\n",
    "for result in results:\n",
    "    print(result)"
   ]
  },
  {
   "cell_type": "code",
   "execution_count": 42,
   "id": "9d7ea090",
   "metadata": {},
   "outputs": [
    {
     "data": {
      "text/html": [
       "<div>\n",
       "<style scoped>\n",
       "    .dataframe tbody tr th:only-of-type {\n",
       "        vertical-align: middle;\n",
       "    }\n",
       "\n",
       "    .dataframe tbody tr th {\n",
       "        vertical-align: top;\n",
       "    }\n",
       "\n",
       "    .dataframe thead th {\n",
       "        text-align: right;\n",
       "    }\n",
       "</style>\n",
       "<table border=\"1\" class=\"dataframe\">\n",
       "  <thead>\n",
       "    <tr style=\"text-align: right;\">\n",
       "      <th></th>\n",
       "      <th>order_id</th>\n",
       "      <th>customer_name</th>\n",
       "      <th>product_name</th>\n",
       "      <th>date_ordered</th>\n",
       "      <th>quantity</th>\n",
       "      <th>unit_price</th>\n",
       "      <th>phone_number</th>\n",
       "    </tr>\n",
       "  </thead>\n",
       "  <tbody>\n",
       "    <tr>\n",
       "      <th>0</th>\n",
       "      <td>12</td>\n",
       "      <td>shyam</td>\n",
       "      <td>Books</td>\n",
       "      <td>2018-04-17</td>\n",
       "      <td>10</td>\n",
       "      <td>12.0</td>\n",
       "      <td>4849849389</td>\n",
       "    </tr>\n",
       "    <tr>\n",
       "      <th>1</th>\n",
       "      <td>102</td>\n",
       "      <td>shyam</td>\n",
       "      <td>Books</td>\n",
       "      <td>2018-04-17</td>\n",
       "      <td>10</td>\n",
       "      <td>12.0</td>\n",
       "      <td>4849849389</td>\n",
       "    </tr>\n",
       "    <tr>\n",
       "      <th>2</th>\n",
       "      <td>112</td>\n",
       "      <td>shyam</td>\n",
       "      <td>Books</td>\n",
       "      <td>2018-04-17</td>\n",
       "      <td>10</td>\n",
       "      <td>12.0</td>\n",
       "      <td>4849849389</td>\n",
       "    </tr>\n",
       "    <tr>\n",
       "      <th>3</th>\n",
       "      <td>122</td>\n",
       "      <td>shyam</td>\n",
       "      <td>Books</td>\n",
       "      <td>2018-04-17</td>\n",
       "      <td>10</td>\n",
       "      <td>12.0</td>\n",
       "      <td>4849849389</td>\n",
       "    </tr>\n",
       "    <tr>\n",
       "      <th>4</th>\n",
       "      <td>13</td>\n",
       "      <td>chandu</td>\n",
       "      <td>dress</td>\n",
       "      <td>2018-03-24</td>\n",
       "      <td>38</td>\n",
       "      <td>28.0</td>\n",
       "      <td>9128395784</td>\n",
       "    </tr>\n",
       "    <tr>\n",
       "      <th>5</th>\n",
       "      <td>103</td>\n",
       "      <td>chandu</td>\n",
       "      <td>dress</td>\n",
       "      <td>2018-03-24</td>\n",
       "      <td>38</td>\n",
       "      <td>28.0</td>\n",
       "      <td>9128395784</td>\n",
       "    </tr>\n",
       "    <tr>\n",
       "      <th>6</th>\n",
       "      <td>113</td>\n",
       "      <td>chandu</td>\n",
       "      <td>dress</td>\n",
       "      <td>2018-03-24</td>\n",
       "      <td>38</td>\n",
       "      <td>28.0</td>\n",
       "      <td>9128395784</td>\n",
       "    </tr>\n",
       "    <tr>\n",
       "      <th>7</th>\n",
       "      <td>123</td>\n",
       "      <td>chandu</td>\n",
       "      <td>dress</td>\n",
       "      <td>2018-03-24</td>\n",
       "      <td>38</td>\n",
       "      <td>28.0</td>\n",
       "      <td>9128395784</td>\n",
       "    </tr>\n",
       "    <tr>\n",
       "      <th>8</th>\n",
       "      <td>14</td>\n",
       "      <td>kishore</td>\n",
       "      <td>shoes</td>\n",
       "      <td>2018-03-20</td>\n",
       "      <td>18</td>\n",
       "      <td>38.0</td>\n",
       "      <td>9128473829</td>\n",
       "    </tr>\n",
       "    <tr>\n",
       "      <th>9</th>\n",
       "      <td>104</td>\n",
       "      <td>kishore</td>\n",
       "      <td>shoes</td>\n",
       "      <td>2018-03-20</td>\n",
       "      <td>18</td>\n",
       "      <td>38.0</td>\n",
       "      <td>9128473829</td>\n",
       "    </tr>\n",
       "    <tr>\n",
       "      <th>10</th>\n",
       "      <td>114</td>\n",
       "      <td>kishore</td>\n",
       "      <td>shoes</td>\n",
       "      <td>2018-03-20</td>\n",
       "      <td>18</td>\n",
       "      <td>38.0</td>\n",
       "      <td>9128473829</td>\n",
       "    </tr>\n",
       "    <tr>\n",
       "      <th>11</th>\n",
       "      <td>124</td>\n",
       "      <td>kishore</td>\n",
       "      <td>shoes</td>\n",
       "      <td>2018-03-20</td>\n",
       "      <td>18</td>\n",
       "      <td>38.0</td>\n",
       "      <td>9128473829</td>\n",
       "    </tr>\n",
       "    <tr>\n",
       "      <th>12</th>\n",
       "      <td>15</td>\n",
       "      <td>vinay</td>\n",
       "      <td>headphones</td>\n",
       "      <td>2018-08-10</td>\n",
       "      <td>10</td>\n",
       "      <td>300.0</td>\n",
       "      <td>6303444038</td>\n",
       "    </tr>\n",
       "    <tr>\n",
       "      <th>13</th>\n",
       "      <td>105</td>\n",
       "      <td>vinay</td>\n",
       "      <td>headphones</td>\n",
       "      <td>2018-08-10</td>\n",
       "      <td>10</td>\n",
       "      <td>300.0</td>\n",
       "      <td>6303444038</td>\n",
       "    </tr>\n",
       "    <tr>\n",
       "      <th>14</th>\n",
       "      <td>115</td>\n",
       "      <td>vinay</td>\n",
       "      <td>headphones</td>\n",
       "      <td>2018-08-10</td>\n",
       "      <td>10</td>\n",
       "      <td>300.0</td>\n",
       "      <td>6303444038</td>\n",
       "    </tr>\n",
       "    <tr>\n",
       "      <th>15</th>\n",
       "      <td>125</td>\n",
       "      <td>vinay</td>\n",
       "      <td>headphones</td>\n",
       "      <td>2018-08-10</td>\n",
       "      <td>10</td>\n",
       "      <td>300.0</td>\n",
       "      <td>6303444038</td>\n",
       "    </tr>\n",
       "    <tr>\n",
       "      <th>16</th>\n",
       "      <td>11</td>\n",
       "      <td>venky</td>\n",
       "      <td>laptop</td>\n",
       "      <td>2018-08-07</td>\n",
       "      <td>2</td>\n",
       "      <td>800.0</td>\n",
       "      <td>8292898928</td>\n",
       "    </tr>\n",
       "    <tr>\n",
       "      <th>17</th>\n",
       "      <td>101</td>\n",
       "      <td>venky</td>\n",
       "      <td>laptop</td>\n",
       "      <td>2018-08-07</td>\n",
       "      <td>2</td>\n",
       "      <td>800.0</td>\n",
       "      <td>8292898928</td>\n",
       "    </tr>\n",
       "    <tr>\n",
       "      <th>18</th>\n",
       "      <td>111</td>\n",
       "      <td>venky</td>\n",
       "      <td>laptop</td>\n",
       "      <td>2018-08-07</td>\n",
       "      <td>2</td>\n",
       "      <td>800.0</td>\n",
       "      <td>8292898928</td>\n",
       "    </tr>\n",
       "    <tr>\n",
       "      <th>19</th>\n",
       "      <td>121</td>\n",
       "      <td>venky</td>\n",
       "      <td>laptop</td>\n",
       "      <td>2018-08-07</td>\n",
       "      <td>2</td>\n",
       "      <td>800.0</td>\n",
       "      <td>8292898928</td>\n",
       "    </tr>\n",
       "  </tbody>\n",
       "</table>\n",
       "</div>"
      ],
      "text/plain": [
       "    order_id customer_name product_name date_ordered  quantity  unit_price  \\\n",
       "0         12         shyam        Books   2018-04-17        10        12.0   \n",
       "1        102         shyam        Books   2018-04-17        10        12.0   \n",
       "2        112         shyam        Books   2018-04-17        10        12.0   \n",
       "3        122         shyam        Books   2018-04-17        10        12.0   \n",
       "4         13        chandu        dress   2018-03-24        38        28.0   \n",
       "5        103        chandu        dress   2018-03-24        38        28.0   \n",
       "6        113        chandu        dress   2018-03-24        38        28.0   \n",
       "7        123        chandu        dress   2018-03-24        38        28.0   \n",
       "8         14       kishore        shoes   2018-03-20        18        38.0   \n",
       "9        104       kishore        shoes   2018-03-20        18        38.0   \n",
       "10       114       kishore        shoes   2018-03-20        18        38.0   \n",
       "11       124       kishore        shoes   2018-03-20        18        38.0   \n",
       "12        15         vinay   headphones   2018-08-10        10       300.0   \n",
       "13       105         vinay   headphones   2018-08-10        10       300.0   \n",
       "14       115         vinay   headphones   2018-08-10        10       300.0   \n",
       "15       125         vinay   headphones   2018-08-10        10       300.0   \n",
       "16        11         venky       laptop   2018-08-07         2       800.0   \n",
       "17       101         venky       laptop   2018-08-07         2       800.0   \n",
       "18       111         venky       laptop   2018-08-07         2       800.0   \n",
       "19       121         venky       laptop   2018-08-07         2       800.0   \n",
       "\n",
       "   phone_number  \n",
       "0    4849849389  \n",
       "1    4849849389  \n",
       "2    4849849389  \n",
       "3    4849849389  \n",
       "4    9128395784  \n",
       "5    9128395784  \n",
       "6    9128395784  \n",
       "7    9128395784  \n",
       "8    9128473829  \n",
       "9    9128473829  \n",
       "10   9128473829  \n",
       "11   9128473829  \n",
       "12   6303444038  \n",
       "13   6303444038  \n",
       "14   6303444038  \n",
       "15   6303444038  \n",
       "16   8292898928  \n",
       "17   8292898928  \n",
       "18   8292898928  \n",
       "19   8292898928  "
      ]
     },
     "metadata": {},
     "output_type": "display_data"
    }
   ],
   "source": [
    "from_db=[]\n",
    "\n",
    "for result in results:\n",
    "    result=list(result)\n",
    "    from_db.append(result)\n",
    "columns=['order_id','customer_name','product_name','date_ordered','quantity','unit_price','phone_number']\n",
    "df=pd.DataFrame(from_db,columns=columns)\n",
    "display(df)"
   ]
  },
  {
   "cell_type": "code",
   "execution_count": 43,
   "id": "1d74e24a",
   "metadata": {},
   "outputs": [
    {
     "name": "stdout",
     "output_type": "stream",
     "text": [
      "MYSQL Database Connection Successfully\n",
      "Query was Successfull\n"
     ]
    }
   ],
   "source": [
    "#update command\n",
    "update=\"\"\" \n",
    "update orders \n",
    "set unit_price=45\n",
    "where order_id=14\n",
    "\"\"\"\n",
    "connection=create_db_connection('localhost','root',pw,db)\n",
    "execute_query(connection,update)"
   ]
  },
  {
   "cell_type": "code",
   "execution_count": 50,
   "id": "b27256b6",
   "metadata": {},
   "outputs": [
    {
     "name": "stdout",
     "output_type": "stream",
     "text": [
      "MYSQL Database Connection Successfully\n",
      "(103, 'chandu', 'dress', datetime.date(2018, 3, 24), 38, 28.0, '9128395784')\n"
     ]
    }
   ],
   "source": [
    "q8=\"\"\"\n",
    "select * from orders where order_id =103;\n",
    "\"\"\"\n",
    "connection=create_db_connection('localhost','root',pw,db)\n",
    "results=read_query(connection,q8)\n",
    "for result in results:\n",
    "    print(result)"
   ]
  },
  {
   "cell_type": "code",
   "execution_count": 51,
   "id": "ef065d87",
   "metadata": {},
   "outputs": [
    {
     "name": "stdout",
     "output_type": "stream",
     "text": [
      "MYSQL Database Connection Successfully\n",
      "Query was Successfull\n"
     ]
    }
   ],
   "source": [
    "#delete command\n",
    "delete_order=\"\"\"\n",
    "delete from orders\n",
    "where order_id=115;\n",
    "\"\"\"\n",
    "connection=create_db_connection('localhost','root',pw,db)\n",
    "execute_query(connection,delete_order)"
   ]
  },
  {
   "cell_type": "code",
   "execution_count": 52,
   "id": "bf44a51d",
   "metadata": {},
   "outputs": [
    {
     "name": "stdout",
     "output_type": "stream",
     "text": [
      "MYSQL Database Connection Successfully\n",
      "(11, 'venky', 'laptop', datetime.date(2018, 8, 7), 2, 800.0, '8292898928')\n",
      "(12, 'shyam', 'Books', datetime.date(2018, 4, 17), 10, 12.0, '4849849389')\n",
      "(13, 'chandu', 'dress', datetime.date(2018, 3, 24), 38, 28.0, '9128395784')\n",
      "(14, 'kishore', 'shoes', datetime.date(2018, 3, 20), 18, 45.0, '9128473829')\n",
      "(15, 'vinay', 'headphones', datetime.date(2018, 8, 10), 10, 300.0, '6303444038')\n",
      "(101, 'venky', 'laptop', datetime.date(2018, 8, 7), 2, 800.0, '8292898928')\n",
      "(102, 'shyam', 'Books', datetime.date(2018, 4, 17), 10, 12.0, '4849849389')\n",
      "(103, 'chandu', 'dress', datetime.date(2018, 3, 24), 38, 28.0, '9128395784')\n",
      "(104, 'kishore', 'shoes', datetime.date(2018, 3, 20), 18, 38.0, '9128473829')\n",
      "(105, 'vinay', 'headphones', datetime.date(2018, 8, 10), 10, 300.0, '6303444038')\n",
      "(111, 'venky', 'laptop', datetime.date(2018, 8, 7), 2, 800.0, '8292898928')\n",
      "(112, 'shyam', 'Books', datetime.date(2018, 4, 17), 10, 12.0, '4849849389')\n",
      "(113, 'chandu', 'dress', datetime.date(2018, 3, 24), 38, 28.0, '9128395784')\n",
      "(114, 'kishore', 'shoes', datetime.date(2018, 3, 20), 18, 38.0, '9128473829')\n",
      "(121, 'venky', 'laptop', datetime.date(2018, 8, 7), 2, 800.0, '8292898928')\n",
      "(122, 'shyam', 'Books', datetime.date(2018, 4, 17), 10, 12.0, '4849849389')\n",
      "(123, 'chandu', 'dress', datetime.date(2018, 3, 24), 38, 28.0, '9128395784')\n",
      "(124, 'kishore', 'shoes', datetime.date(2018, 3, 20), 18, 38.0, '9128473829')\n",
      "(125, 'vinay', 'headphones', datetime.date(2018, 8, 10), 10, 300.0, '6303444038')\n"
     ]
    }
   ],
   "source": [
    "q9=\"\"\"\n",
    "select * from orders;\n",
    "\"\"\"\n",
    "connection=create_db_connection('localhost','root',pw,db)\n",
    "results=read_query(connection,q9)\n",
    "for result in results:\n",
    "    print(result)"
   ]
  },
  {
   "cell_type": "code",
   "execution_count": null,
   "id": "aa0de472",
   "metadata": {},
   "outputs": [],
   "source": []
  },
  {
   "cell_type": "code",
   "execution_count": null,
   "id": "c705acd3",
   "metadata": {},
   "outputs": [],
   "source": []
  },
  {
   "cell_type": "code",
   "execution_count": null,
   "id": "f67554e5",
   "metadata": {},
   "outputs": [],
   "source": []
  }
 ],
 "metadata": {
  "kernelspec": {
   "display_name": "Python 3 (ipykernel)",
   "language": "python",
   "name": "python3"
  },
  "language_info": {
   "codemirror_mode": {
    "name": "ipython",
    "version": 3
   },
   "file_extension": ".py",
   "mimetype": "text/x-python",
   "name": "python",
   "nbconvert_exporter": "python",
   "pygments_lexer": "ipython3",
   "version": "3.9.12"
  }
 },
 "nbformat": 4,
 "nbformat_minor": 5
}

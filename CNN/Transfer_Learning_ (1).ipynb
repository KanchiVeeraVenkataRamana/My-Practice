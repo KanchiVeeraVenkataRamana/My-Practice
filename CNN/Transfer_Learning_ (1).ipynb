{
  "nbformat": 4,
  "nbformat_minor": 0,
  "metadata": {
    "colab": {
      "private_outputs": true,
      "provenance": [],
      "gpuType": "T4"
    },
    "kernelspec": {
      "name": "python3",
      "display_name": "Python 3"
    },
    "language_info": {
      "name": "python"
    },
    "accelerator": "GPU"
  },
  "cells": [
    {
      "cell_type": "code",
      "execution_count": null,
      "metadata": {
        "id": "o8_u8mpHNoEI"
      },
      "outputs": [],
      "source": [
        "import tensorflow_datasets as tfds\n",
        "import tensorflow as tf\n",
        "from tensorflow.keras.utils import to_categorical"
      ]
    },
    {
      "cell_type": "code",
      "source": [
        "(train_ds, train_labels), (test_ds, test_labels) = tfds.load(\"tf_flowers\", split=[\"train[:70%]\", \"train[:30%]\"],\n",
        "                                                             batch_size=-1, as_supervised=True)"
      ],
      "metadata": {
        "id": "T4j1KW3_OCtH"
      },
      "execution_count": null,
      "outputs": []
    },
    {
      "cell_type": "code",
      "source": [
        "print(train_ds.shape)\n",
        "print(train_ds[0].shape)"
      ],
      "metadata": {
        "id": "J0rhGYm_OECi"
      },
      "execution_count": null,
      "outputs": []
    },
    {
      "cell_type": "code",
      "source": [
        "#resizing images\n",
        "train_ds = tf.image.resize(train_ds, (150,150))\n",
        "test_ds = tf.image.resize(test_ds, (150,150))"
      ],
      "metadata": {
        "id": "6AAQeKcgQq6I"
      },
      "execution_count": null,
      "outputs": []
    },
    {
      "cell_type": "code",
      "source": [
        "train_labels"
      ],
      "metadata": {
        "id": "1IpTokUXQ5VB"
      },
      "execution_count": null,
      "outputs": []
    },
    {
      "cell_type": "code",
      "source": [
        "#Transform labels to correct format\n",
        "train_labels = to_categorical(train_labels, num_classes=5)\n",
        "test_labels = to_categorical(test_labels, num_classes=5)"
      ],
      "metadata": {
        "id": "0m1DwHwHRZyO"
      },
      "execution_count": null,
      "outputs": []
    },
    {
      "cell_type": "code",
      "source": [
        "train_labels[0]"
      ],
      "metadata": {
        "id": "DGXJeytrSUVz"
      },
      "execution_count": null,
      "outputs": []
    },
    {
      "cell_type": "code",
      "source": [
        "#use pretrained VGG16 image Classification model\n",
        "from tensorflow.keras.applications.vgg16 import VGG16\n",
        "from tensorflow.keras.applications.vgg16 import preprocess_input"
      ],
      "metadata": {
        "id": "rvyZFBGaR7q5"
      },
      "execution_count": null,
      "outputs": []
    },
    {
      "cell_type": "code",
      "source": [
        "#loading VGG16 model\n",
        "base_model = VGG16(weights='imagenet', include_top=False, input_shape=train_ds[0].shape)"
      ],
      "metadata": {
        "id": "tOLVjz1cSal1"
      },
      "execution_count": null,
      "outputs": []
    },
    {
      "cell_type": "code",
      "source": [
        "# will not train base model\n",
        "base_model.trainable = False\n",
        "#preprocessing input\n",
        "train_ds = preprocess_input(train_ds)\n",
        "test_ds = preprocess_input(test_ds)"
      ],
      "metadata": {
        "id": "VdJDY7bQS1sV"
      },
      "execution_count": null,
      "outputs": []
    },
    {
      "cell_type": "code",
      "source": [
        "# model details\n",
        "base_model.summary()"
      ],
      "metadata": {
        "id": "RojDOZT7TW7k"
      },
      "execution_count": null,
      "outputs": []
    },
    {
      "cell_type": "code",
      "source": [
        "#add our layers on top of the model\n",
        "from tensorflow.keras import layers, models\n",
        "flatten_layer = layers.Flatten()\n",
        "dense_layer_1 = layers.Dense(50, activation='relu')\n",
        "dense_layer_2 = layers.Dense(20, activation='relu')\n",
        "prediction_layer = layers.Dense(5, activation='softmax')\n",
        "\n",
        "ml= models.Sequential([base_model, flatten_layer, dense_layer_1, dense_layer_2, prediction_layer])"
      ],
      "metadata": {
        "id": "nLXkgtZ4TcBN"
      },
      "execution_count": null,
      "outputs": []
    },
    {
      "cell_type": "code",
      "source": [
        "from tensorflow.keras.callbacks import EarlyStopping\n",
        "ml.compile(optimizer='adam', loss='categorical_crossentropy', metrics=['accuracy'])"
      ],
      "metadata": {
        "id": "RJr0RzhZW0Hz"
      },
      "execution_count": null,
      "outputs": []
    },
    {
      "cell_type": "code",
      "source": [
        "es = EarlyStopping(monitor='val_accuracy', mode='max', patience=5, restore_best_weights=True)"
      ],
      "metadata": {
        "id": "VcrU_h0cXUrj"
      },
      "execution_count": null,
      "outputs": []
    },
    {
      "cell_type": "code",
      "source": [
        "ml.fit(train_ds, train_labels, epochs=10, validation_split=0.2, batch_size=32, callbacks=[es])"
      ],
      "metadata": {
        "id": "bcWQbyBCXkOL"
      },
      "execution_count": null,
      "outputs": []
    },
    {
      "cell_type": "code",
      "source": [
        "ml.evaluate(test_ds, test_labels)"
      ],
      "metadata": {
        "id": "K4V0dUXDXxhO"
      },
      "execution_count": null,
      "outputs": []
    },
    {
      "cell_type": "code",
      "source": [
        "#model build from scratch\n",
        "from tensorflow.keras import Sequential, layers\n",
        "from tensorflow.keras.callbacks import EarlyStopping\n",
        "from tensorflow.keras.layers.experimental.preprocessing import Rescaling\n",
        "\n",
        "# layers\n",
        "ml = Sequential()\n",
        "ml.add(Rescaling(1./255, input_shape=(150,150,3)))\n",
        "ml.add(layers.Conv2D(16,kernel_size=8, activation='relu'))\n",
        "ml.add(layers.MaxPooling2D(3))\n",
        "ml.add(layers.Conv2D(32,kernel_size=8, activation='relu'))\n",
        "ml.add(layers.MaxPooling2D(2))\n",
        "ml.add(layers.Conv2D(32,kernel_size=8, activation='relu'))\n",
        "ml.add(layers.MaxPooling2D(2))\n",
        "\n",
        "# Flatten\n",
        "ml.add(layers.Flatten())\n",
        "ml.add(layers.Dense(50, activation='relu'))\n",
        "ml.add(layers.Dense(20, activation='relu'))\n",
        "ml.add(layers.Dense(5, activation='softmax'))\n",
        "\n",
        "# Compile\n",
        "ml.compile(optimizer='adam', loss='categorical_crossentropy', metrics=['accuracy'],)\n",
        "\n",
        "es = EarlyStopping(monitor='val_accuracy', mode='max', patience=5, restore_best_weights=True)\n",
        "ml.fit(train_ds,train_labels, epochs=50, validation_split=0.2, batch_size=32, callbacks=[es])"
      ],
      "metadata": {
        "id": "DkVCnb_1YgxR"
      },
      "execution_count": null,
      "outputs": []
    },
    {
      "cell_type": "code",
      "source": [
        "ml.evaluate(test_ds, test_labels)"
      ],
      "metadata": {
        "id": "m1G8ynlWa9Cr"
      },
      "execution_count": null,
      "outputs": []
    },
    {
      "cell_type": "code",
      "source": [],
      "metadata": {
        "id": "dZo76jmtbdrm"
      },
      "execution_count": null,
      "outputs": []
    }
  ]
}
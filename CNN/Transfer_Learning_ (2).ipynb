{
  "nbformat": 4,
  "nbformat_minor": 0,
  "metadata": {
    "colab": {
      "provenance": [],
      "gpuType": "T4"
    },
    "kernelspec": {
      "name": "python3",
      "display_name": "Python 3"
    },
    "language_info": {
      "name": "python"
    },
    "accelerator": "GPU"
  },
  "cells": [
    {
      "cell_type": "code",
      "execution_count": 19,
      "metadata": {
        "id": "o8_u8mpHNoEI"
      },
      "outputs": [],
      "source": [
        "import tensorflow_datasets as tfds\n",
        "import tensorflow as tf\n",
        "from tensorflow.keras.utils import to_categorical"
      ]
    },
    {
      "cell_type": "code",
      "source": [
        "(train_ds, train_labels), (test_ds, test_labels) = tfds.load(\"tf_flowers\", split=[\"train[:70%]\", \"train[:30%]\"],\n",
        "                                                             batch_size=-1, as_supervised=True)"
      ],
      "metadata": {
        "id": "T4j1KW3_OCtH"
      },
      "execution_count": 2,
      "outputs": []
    },
    {
      "cell_type": "code",
      "source": [
        "print(train_ds.shape)\n",
        "print(train_ds[0].shape)"
      ],
      "metadata": {
        "id": "J0rhGYm_OECi",
        "colab": {
          "base_uri": "https://localhost:8080/"
        },
        "outputId": "05df8dff-3d6a-40fc-dfc9-aad031e25751"
      },
      "execution_count": 3,
      "outputs": [
        {
          "output_type": "stream",
          "name": "stdout",
          "text": [
            "(2569, 442, 1024, 3)\n",
            "(442, 1024, 3)\n"
          ]
        }
      ]
    },
    {
      "cell_type": "code",
      "source": [
        "#resizing images\n",
        "train_ds = tf.image.resize(train_ds, (150,150))\n",
        "test_ds = tf.image.resize(test_ds, (150,150))"
      ],
      "metadata": {
        "id": "6AAQeKcgQq6I"
      },
      "execution_count": 4,
      "outputs": []
    },
    {
      "cell_type": "code",
      "source": [
        "train_labels"
      ],
      "metadata": {
        "id": "1IpTokUXQ5VB",
        "colab": {
          "base_uri": "https://localhost:8080/"
        },
        "outputId": "6943aca2-d522-4240-b948-dd636013cd87"
      },
      "execution_count": 5,
      "outputs": [
        {
          "output_type": "execute_result",
          "data": {
            "text/plain": [
              "<tf.Tensor: shape=(2569,), dtype=int64, numpy=array([2, 3, 3, ..., 0, 2, 0])>"
            ]
          },
          "metadata": {},
          "execution_count": 5
        }
      ]
    },
    {
      "cell_type": "code",
      "source": [
        "#Transform labels to correct format\n",
        "train_labels = to_categorical(train_labels, num_classes=5)\n",
        "test_labels = to_categorical(test_labels, num_classes=5)"
      ],
      "metadata": {
        "id": "0m1DwHwHRZyO"
      },
      "execution_count": 6,
      "outputs": []
    },
    {
      "cell_type": "code",
      "source": [
        "train_labels[0]"
      ],
      "metadata": {
        "id": "DGXJeytrSUVz",
        "colab": {
          "base_uri": "https://localhost:8080/"
        },
        "outputId": "0f448c6f-fc5b-49f7-e55a-8f8518a5c279"
      },
      "execution_count": 7,
      "outputs": [
        {
          "output_type": "execute_result",
          "data": {
            "text/plain": [
              "array([0., 0., 1., 0., 0.], dtype=float32)"
            ]
          },
          "metadata": {},
          "execution_count": 7
        }
      ]
    },
    {
      "cell_type": "code",
      "source": [
        "#use pretrained VGG16 image Classification model\n",
        "from tensorflow.keras.applications.vgg16 import VGG16\n",
        "from tensorflow.keras.applications.vgg16 import preprocess_input"
      ],
      "metadata": {
        "id": "rvyZFBGaR7q5"
      },
      "execution_count": 8,
      "outputs": []
    },
    {
      "cell_type": "code",
      "source": [
        "#loading VGG16 model\n",
        "base_model = VGG16(weights='imagenet', include_top=False, input_shape=train_ds[0].shape)"
      ],
      "metadata": {
        "id": "tOLVjz1cSal1"
      },
      "execution_count": 9,
      "outputs": []
    },
    {
      "cell_type": "code",
      "source": [
        "# will not train base model\n",
        "base_model.trainable = False\n",
        "#preprocessing input\n",
        "train_ds = preprocess_input(train_ds)\n",
        "test_ds = preprocess_input(test_ds)"
      ],
      "metadata": {
        "id": "VdJDY7bQS1sV"
      },
      "execution_count": 10,
      "outputs": []
    },
    {
      "cell_type": "code",
      "source": [
        "# model details\n",
        "base_model.summary()"
      ],
      "metadata": {
        "id": "RojDOZT7TW7k",
        "colab": {
          "base_uri": "https://localhost:8080/"
        },
        "outputId": "c3ae18ef-73dc-418b-dab4-b1d0a2d541db"
      },
      "execution_count": 11,
      "outputs": [
        {
          "output_type": "stream",
          "name": "stdout",
          "text": [
            "Model: \"vgg16\"\n",
            "_________________________________________________________________\n",
            " Layer (type)                Output Shape              Param #   \n",
            "=================================================================\n",
            " input_1 (InputLayer)        [(None, 150, 150, 3)]     0         \n",
            "                                                                 \n",
            " block1_conv1 (Conv2D)       (None, 150, 150, 64)      1792      \n",
            "                                                                 \n",
            " block1_conv2 (Conv2D)       (None, 150, 150, 64)      36928     \n",
            "                                                                 \n",
            " block1_pool (MaxPooling2D)  (None, 75, 75, 64)        0         \n",
            "                                                                 \n",
            " block2_conv1 (Conv2D)       (None, 75, 75, 128)       73856     \n",
            "                                                                 \n",
            " block2_conv2 (Conv2D)       (None, 75, 75, 128)       147584    \n",
            "                                                                 \n",
            " block2_pool (MaxPooling2D)  (None, 37, 37, 128)       0         \n",
            "                                                                 \n",
            " block3_conv1 (Conv2D)       (None, 37, 37, 256)       295168    \n",
            "                                                                 \n",
            " block3_conv2 (Conv2D)       (None, 37, 37, 256)       590080    \n",
            "                                                                 \n",
            " block3_conv3 (Conv2D)       (None, 37, 37, 256)       590080    \n",
            "                                                                 \n",
            " block3_pool (MaxPooling2D)  (None, 18, 18, 256)       0         \n",
            "                                                                 \n",
            " block4_conv1 (Conv2D)       (None, 18, 18, 512)       1180160   \n",
            "                                                                 \n",
            " block4_conv2 (Conv2D)       (None, 18, 18, 512)       2359808   \n",
            "                                                                 \n",
            " block4_conv3 (Conv2D)       (None, 18, 18, 512)       2359808   \n",
            "                                                                 \n",
            " block4_pool (MaxPooling2D)  (None, 9, 9, 512)         0         \n",
            "                                                                 \n",
            " block5_conv1 (Conv2D)       (None, 9, 9, 512)         2359808   \n",
            "                                                                 \n",
            " block5_conv2 (Conv2D)       (None, 9, 9, 512)         2359808   \n",
            "                                                                 \n",
            " block5_conv3 (Conv2D)       (None, 9, 9, 512)         2359808   \n",
            "                                                                 \n",
            " block5_pool (MaxPooling2D)  (None, 4, 4, 512)         0         \n",
            "                                                                 \n",
            "=================================================================\n",
            "Total params: 14,714,688\n",
            "Trainable params: 0\n",
            "Non-trainable params: 14,714,688\n",
            "_________________________________________________________________\n"
          ]
        }
      ]
    },
    {
      "cell_type": "code",
      "source": [
        "#add our layers on top of the model\n",
        "from tensorflow.keras import layers, models\n",
        "flatten_layer = layers.Flatten()\n",
        "dense_layer_1 = layers.Dense(50, activation='relu')\n",
        "dense_layer_2 = layers.Dense(20, activation='relu')\n",
        "prediction_layer = layers.Dense(5, activation='softmax')\n",
        "\n",
        "ml= models.Sequential([base_model, flatten_layer, dense_layer_1, dense_layer_2, prediction_layer])"
      ],
      "metadata": {
        "id": "nLXkgtZ4TcBN"
      },
      "execution_count": 12,
      "outputs": []
    },
    {
      "cell_type": "code",
      "source": [
        "from tensorflow.keras.callbacks import EarlyStopping\n",
        "ml.compile(optimizer='adam', loss='categorical_crossentropy', metrics=['accuracy'])"
      ],
      "metadata": {
        "id": "RJr0RzhZW0Hz"
      },
      "execution_count": 13,
      "outputs": []
    },
    {
      "cell_type": "code",
      "source": [
        "es = EarlyStopping(monitor='val_accuracy', mode='max', patience=5, restore_best_weights=True)"
      ],
      "metadata": {
        "id": "VcrU_h0cXUrj"
      },
      "execution_count": 14,
      "outputs": []
    },
    {
      "cell_type": "code",
      "source": [
        "ml.fit(train_ds, train_labels, epochs=10, validation_split=0.2, batch_size=32, callbacks=[es])"
      ],
      "metadata": {
        "id": "bcWQbyBCXkOL",
        "colab": {
          "base_uri": "https://localhost:8080/"
        },
        "outputId": "05df5a72-62cf-4251-b6b5-0b662fdd5986"
      },
      "execution_count": 15,
      "outputs": [
        {
          "output_type": "stream",
          "name": "stdout",
          "text": [
            "Epoch 1/10\n",
            "65/65 [==============================] - 22s 126ms/step - loss: 1.9612 - accuracy: 0.4438 - val_loss: 1.1778 - val_accuracy: 0.5759\n",
            "Epoch 2/10\n",
            "65/65 [==============================] - 5s 82ms/step - loss: 0.8988 - accuracy: 0.6856 - val_loss: 1.0345 - val_accuracy: 0.6615\n",
            "Epoch 3/10\n",
            "65/65 [==============================] - 5s 81ms/step - loss: 0.5765 - accuracy: 0.7893 - val_loss: 0.9024 - val_accuracy: 0.7023\n",
            "Epoch 4/10\n",
            "65/65 [==============================] - 5s 81ms/step - loss: 0.4293 - accuracy: 0.8472 - val_loss: 0.8941 - val_accuracy: 0.7160\n",
            "Epoch 5/10\n",
            "65/65 [==============================] - 6s 86ms/step - loss: 0.2802 - accuracy: 0.8949 - val_loss: 0.9657 - val_accuracy: 0.7101\n",
            "Epoch 6/10\n",
            "65/65 [==============================] - 5s 81ms/step - loss: 0.2034 - accuracy: 0.9260 - val_loss: 1.0207 - val_accuracy: 0.7043\n",
            "Epoch 7/10\n",
            "65/65 [==============================] - 6s 86ms/step - loss: 0.1560 - accuracy: 0.9392 - val_loss: 1.0422 - val_accuracy: 0.6887\n",
            "Epoch 8/10\n",
            "65/65 [==============================] - 6s 86ms/step - loss: 0.1307 - accuracy: 0.9572 - val_loss: 1.1070 - val_accuracy: 0.7101\n",
            "Epoch 9/10\n",
            "65/65 [==============================] - 5s 83ms/step - loss: 0.1166 - accuracy: 0.9601 - val_loss: 1.1564 - val_accuracy: 0.6965\n"
          ]
        },
        {
          "output_type": "execute_result",
          "data": {
            "text/plain": [
              "<keras.callbacks.History at 0x7f69a42be140>"
            ]
          },
          "metadata": {},
          "execution_count": 15
        }
      ]
    },
    {
      "cell_type": "code",
      "source": [
        "ml.evaluate(test_ds, test_labels)"
      ],
      "metadata": {
        "id": "K4V0dUXDXxhO",
        "colab": {
          "base_uri": "https://localhost:8080/"
        },
        "outputId": "16b2ed9e-f5c1-47cb-ba1f-8ff1be6feea2"
      },
      "execution_count": 16,
      "outputs": [
        {
          "output_type": "stream",
          "name": "stdout",
          "text": [
            "35/35 [==============================] - 3s 99ms/step - loss: 0.2966 - accuracy: 0.9083\n"
          ]
        },
        {
          "output_type": "execute_result",
          "data": {
            "text/plain": [
              "[0.29659321904182434, 0.908265233039856]"
            ]
          },
          "metadata": {},
          "execution_count": 16
        }
      ]
    },
    {
      "cell_type": "code",
      "source": [
        "#model build from scratch\n",
        "from tensorflow.keras import Sequential, layers\n",
        "from tensorflow.keras.callbacks import EarlyStopping\n",
        "from tensorflow.keras.layers.experimental.preprocessing import Rescaling\n",
        "\n",
        "# layers\n",
        "ml = Sequential()\n",
        "ml.add(Rescaling(1./255, input_shape=(150,150,3)))\n",
        "ml.add(layers.Conv2D(16,kernel_size=8, activation='relu'))\n",
        "ml.add(layers.MaxPooling2D(3))\n",
        "ml.add(layers.Conv2D(32,kernel_size=8, activation='relu'))\n",
        "ml.add(layers.MaxPooling2D(2))\n",
        "ml.add(layers.Conv2D(32,kernel_size=8, activation='relu'))\n",
        "ml.add(layers.MaxPooling2D(2))\n",
        "\n",
        "# Flatten\n",
        "ml.add(layers.Flatten())\n",
        "ml.add(layers.Dense(50, activation='relu'))\n",
        "ml.add(layers.Dense(20, activation='relu'))\n",
        "ml.add(layers.Dense(5, activation='softmax'))\n",
        "\n",
        "# Compile\n",
        "ml.compile(optimizer='adam', loss='categorical_crossentropy', metrics=['accuracy'],)\n",
        "\n",
        "es = EarlyStopping(monitor='val_accuracy', mode='max', patience=5, restore_best_weights=True)\n",
        "ml.fit(train_ds,train_labels, epochs=50, validation_split=0.2, batch_size=32, callbacks=[es])"
      ],
      "metadata": {
        "id": "DkVCnb_1YgxR",
        "colab": {
          "base_uri": "https://localhost:8080/"
        },
        "outputId": "932dbe3e-78a2-468c-cc20-093f0c7772e7"
      },
      "execution_count": 17,
      "outputs": [
        {
          "output_type": "stream",
          "name": "stdout",
          "text": [
            "Epoch 1/50\n",
            "65/65 [==============================] - 6s 30ms/step - loss: 1.6007 - accuracy: 0.2467 - val_loss: 1.5680 - val_accuracy: 0.3152\n",
            "Epoch 2/50\n",
            "65/65 [==============================] - 1s 22ms/step - loss: 1.4468 - accuracy: 0.3591 - val_loss: 1.2718 - val_accuracy: 0.4533\n",
            "Epoch 3/50\n",
            "65/65 [==============================] - 1s 19ms/step - loss: 1.2717 - accuracy: 0.4448 - val_loss: 1.2500 - val_accuracy: 0.4222\n",
            "Epoch 4/50\n",
            "65/65 [==============================] - 1s 21ms/step - loss: 1.1894 - accuracy: 0.4852 - val_loss: 1.1649 - val_accuracy: 0.5156\n",
            "Epoch 5/50\n",
            "65/65 [==============================] - 1s 22ms/step - loss: 1.1489 - accuracy: 0.5241 - val_loss: 1.1630 - val_accuracy: 0.5039\n",
            "Epoch 6/50\n",
            "65/65 [==============================] - 1s 19ms/step - loss: 1.0982 - accuracy: 0.5401 - val_loss: 1.1351 - val_accuracy: 0.5253\n",
            "Epoch 7/50\n",
            "65/65 [==============================] - 1s 19ms/step - loss: 1.0622 - accuracy: 0.5650 - val_loss: 1.1370 - val_accuracy: 0.5097\n",
            "Epoch 8/50\n",
            "65/65 [==============================] - 1s 19ms/step - loss: 1.0041 - accuracy: 0.5908 - val_loss: 1.0877 - val_accuracy: 0.5331\n",
            "Epoch 9/50\n",
            "65/65 [==============================] - 1s 22ms/step - loss: 0.9411 - accuracy: 0.6083 - val_loss: 1.1843 - val_accuracy: 0.5506\n",
            "Epoch 10/50\n",
            "65/65 [==============================] - 1s 21ms/step - loss: 0.8994 - accuracy: 0.6292 - val_loss: 1.1154 - val_accuracy: 0.5623\n",
            "Epoch 11/50\n",
            "65/65 [==============================] - 1s 21ms/step - loss: 0.8327 - accuracy: 0.6657 - val_loss: 1.0433 - val_accuracy: 0.5817\n",
            "Epoch 12/50\n",
            "65/65 [==============================] - 1s 22ms/step - loss: 0.7745 - accuracy: 0.6891 - val_loss: 1.1144 - val_accuracy: 0.5642\n",
            "Epoch 13/50\n",
            "65/65 [==============================] - 1s 20ms/step - loss: 0.7310 - accuracy: 0.7085 - val_loss: 1.1492 - val_accuracy: 0.5720\n",
            "Epoch 14/50\n",
            "65/65 [==============================] - 1s 19ms/step - loss: 0.6433 - accuracy: 0.7470 - val_loss: 1.2026 - val_accuracy: 0.5778\n",
            "Epoch 15/50\n",
            "65/65 [==============================] - 1s 21ms/step - loss: 0.6049 - accuracy: 0.7655 - val_loss: 1.2984 - val_accuracy: 0.5311\n",
            "Epoch 16/50\n",
            "65/65 [==============================] - 1s 20ms/step - loss: 0.5540 - accuracy: 0.7830 - val_loss: 1.2893 - val_accuracy: 0.5642\n"
          ]
        },
        {
          "output_type": "execute_result",
          "data": {
            "text/plain": [
              "<keras.callbacks.History at 0x7f69917cea40>"
            ]
          },
          "metadata": {},
          "execution_count": 17
        }
      ]
    },
    {
      "cell_type": "code",
      "source": [
        "ml.evaluate(test_ds, test_labels)"
      ],
      "metadata": {
        "id": "m1G8ynlWa9Cr",
        "colab": {
          "base_uri": "https://localhost:8080/"
        },
        "outputId": "88a403f7-a125-4baa-87c5-9fd7f0312745"
      },
      "execution_count": 18,
      "outputs": [
        {
          "output_type": "stream",
          "name": "stdout",
          "text": [
            "35/35 [==============================] - 1s 16ms/step - loss: 0.7066 - accuracy: 0.7275\n"
          ]
        },
        {
          "output_type": "execute_result",
          "data": {
            "text/plain": [
              "[0.7066217064857483, 0.7275204062461853]"
            ]
          },
          "metadata": {},
          "execution_count": 18
        }
      ]
    },
    {
      "cell_type": "code",
      "source": [],
      "metadata": {
        "id": "dZo76jmtbdrm"
      },
      "execution_count": 18,
      "outputs": []
    }
  ]
}
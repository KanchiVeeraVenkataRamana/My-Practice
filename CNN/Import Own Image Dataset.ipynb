{
 "cells": [
  {
   "cell_type": "code",
   "execution_count": 8,
   "id": "91c1abc8",
   "metadata": {},
   "outputs": [
    {
     "name": "stdout",
     "output_type": "stream",
     "text": [
      "Defaulting to user installation because normal site-packages is not writeable\n",
      "Requirement already satisfied: bing-image-downloader in c:\\users\\91630\\appdata\\roaming\\python\\python310\\site-packages (1.1.2)\n"
     ]
    }
   ],
   "source": [
    "#pyorg.com\n",
    "!pip install bing-image-downloader"
   ]
  },
  {
   "cell_type": "code",
   "execution_count": 1,
   "id": "678062c3",
   "metadata": {},
   "outputs": [
    {
     "name": "stdout",
     "output_type": "stream",
     "text": [
      "Defaulting to user installation because normal site-packages is not writeable\n",
      "Requirement already satisfied: vinzy-imgdata-importer in c:\\users\\91630\\appdata\\roaming\\python\\python310\\site-packages (1.0.2)\n",
      "Requirement already satisfied: numpy in c:\\programdata\\anaconda3\\lib\\site-packages (from vinzy-imgdata-importer) (1.23.5)\n",
      "Requirement already satisfied: opencv-python in c:\\users\\91630\\appdata\\roaming\\python\\python310\\site-packages (from vinzy-imgdata-importer) (4.7.0.72)\n",
      "Requirement already satisfied: pickle-mixin in c:\\users\\91630\\appdata\\roaming\\python\\python310\\site-packages (from vinzy-imgdata-importer) (1.0.2)\n"
     ]
    }
   ],
   "source": [
    "# for the image importing files uses\n",
    "!pip install vinzy-imgdata-importer"
   ]
  },
  {
   "cell_type": "code",
   "execution_count": 9,
   "id": "b6b0a7c8",
   "metadata": {},
   "outputs": [],
   "source": [
    "#folder \n",
    "!mkdir images"
   ]
  },
  {
   "cell_type": "code",
   "execution_count": 11,
   "id": "0709e572",
   "metadata": {},
   "outputs": [
    {
     "name": "stdout",
     "output_type": "stream",
     "text": [
      "[%] Downloading Images to C:\\Users\\91630\\Convolutional Neural Networks (CNN) -- Deep Learning\\images\\apple fruit\n",
      "\n",
      "\n",
      "[!!]Indexing page: 1\n",
      "\n",
      "[%] Indexed 10 Images on Page 1.\n",
      "\n",
      "===============================================\n",
      "\n",
      "[%] Downloading Image #1 from http://www.onewheaton.com/untold/wp-content/uploads/2015/02/apples2.jpg\n",
      "[!] Issue getting: http://www.onewheaton.com/untold/wp-content/uploads/2015/02/apples2.jpg\n",
      "[!] Error:: HTTP Error 403: Forbidden\n",
      "[%] Downloading Image #1 from https://www.theayurveda.org/wp-content/uploads/2015/08/Apple-fruit.jpg\n",
      "[%] File Downloaded !\n",
      "\n",
      "[%] Downloading Image #2 from https://healthjade.com/wp-content/uploads/2017/10/apple-fruit.jpg\n",
      "[%] File Downloaded !\n",
      "\n",
      "[%] Downloading Image #3 from http://images6.fanpop.com/image/photos/34900000/Apple-fruit-34914774-693-693.jpg\n",
      "[%] File Downloaded !\n",
      "\n",
      "[%] Downloading Image #4 from http://www.chhajedgarden.com/media/catalog/product/cache/1/image/9df78eab33525d08d6e5fb8d27136e95/0/4/04_apples.jpg\n",
      "[Error]Invalid image, not saving http://www.chhajedgarden.com/media/catalog/product/cache/1/image/9df78eab33525d08d6e5fb8d27136e95/0/4/04_apples.jpg\n",
      "\n",
      "[!] Issue getting: http://www.chhajedgarden.com/media/catalog/product/cache/1/image/9df78eab33525d08d6e5fb8d27136e95/0/4/04_apples.jpg\n",
      "[!] Error:: Invalid image, not saving http://www.chhajedgarden.com/media/catalog/product/cache/1/image/9df78eab33525d08d6e5fb8d27136e95/0/4/04_apples.jpg\n",
      "\n",
      "[%] Downloading Image #4 from https://2.bp.blogspot.com/-M_Vmb930MtQ/T7pF_Pyx5bI/AAAAAAAABMM/Q_VtD-ILbig/s1600/apple2.jpg\n",
      "[%] File Downloaded !\n",
      "\n",
      "[%] Downloading Image #5 from http://upload.wikimedia.org/wikipedia/commons/e/ee/Apples.jpg\n",
      "[%] File Downloaded !\n",
      "\n",
      "[%] Downloading Image #6 from https://cdn.pixabay.com/photo/2016/09/20/07/25/food-1681977_960_720.png\n",
      "[%] File Downloaded !\n",
      "\n",
      "[%] Downloading Image #7 from http://aggie-horticulture.tamu.edu/vegetable/files/2011/10/apple26.jpg\n",
      "[%] File Downloaded !\n",
      "\n",
      "[%] Downloading Image #8 from https://get.pxhere.com/photo/apple-plant-fruit-flower-food-red-produce-healthy-flowering-plant-rose-family-land-plant-rose-order-944141.jpg\n",
      "[%] File Downloaded !\n",
      "\n",
      "\n",
      "\n",
      "[!!]Indexing page: 2\n",
      "\n",
      "[%] Indexed 35 Images on Page 2.\n",
      "\n",
      "===============================================\n",
      "\n",
      "[%] Downloading Image #9 from http://3.bp.blogspot.com/-0AHRTVSc3Ag/ToV1HFrBqNI/AAAAAAAABrw/xS_RI0ZKoeU/s1600/apple2.jpg\n",
      "[%] File Downloaded !\n",
      "\n",
      "[%] Downloading Image #10 from http://1.bp.blogspot.com/-hGb4D_dwsDM/Vel1d4dziLI/AAAAAAAAAWQ/mHnVocAaU4M/s1600/apples.png\n",
      "[%] File Downloaded !\n",
      "\n",
      "\n",
      "\n",
      "[%] Done. Downloaded 10 images.\n"
     ]
    }
   ],
   "source": [
    "from bing_image_downloader import downloader\n",
    "downloader.download('apple fruit',limit=10,output_dir='images')"
   ]
  },
  {
   "cell_type": "code",
   "execution_count": 12,
   "id": "ec918417",
   "metadata": {},
   "outputs": [
    {
     "name": "stdout",
     "output_type": "stream",
     "text": [
      "[%] Downloading Images to C:\\Users\\91630\\Convolutional Neural Networks (CNN) -- Deep Learning\\images\\orange fruit\n",
      "\n",
      "\n",
      "[!!]Indexing page: 1\n",
      "\n",
      "[%] Indexed 10 Images on Page 1.\n",
      "\n",
      "===============================================\n",
      "\n",
      "[%] Downloading Image #1 from https://healthjade.com/wp-content/uploads/2017/10/orange-fruit.jpg\n",
      "[%] File Downloaded !\n",
      "\n",
      "[%] Downloading Image #2 from https://www.rd.com/wp-content/uploads/2017/12/01_oranges_Finally—Here’s-Which-“Orange”-Came-First-the-Color-or-the-Fruit_691064353_Lucky-Business.jpg\n",
      "[!] Issue getting: https://www.rd.com/wp-content/uploads/2017/12/01_oranges_Finally—Here’s-Which-“Orange”-Came-First-the-Color-or-the-Fruit_691064353_Lucky-Business.jpg\n",
      "[!] Error:: 'ascii' codec can't encode character '\\u2014' in position 50: ordinal not in range(128)\n",
      "[%] Downloading Image #2 from http://3.bp.blogspot.com/-tVoQ9O2IU_E/UDzWrWgr2TI/AAAAAAAAIZ8/ojl3vvQ-XV8/s1600/Orange+Fruits+Wallpapers+1.jpg\n",
      "[%] File Downloaded !\n",
      "\n",
      "[%] Downloading Image #3 from https://upload.wikimedia.org/wikipedia/commons/c/c4/Orange-Fruit-Pieces.jpg\n",
      "[%] File Downloaded !\n",
      "\n",
      "[%] Downloading Image #4 from http://images6.fanpop.com/image/photos/34500000/Orange-Fruit-orange-34512881-2260-2175.jpg\n",
      "[%] File Downloaded !\n",
      "\n",
      "[%] Downloading Image #5 from http://images6.fanpop.com/image/photos/34500000/Orange-Fruit-orange-34512908-3160-2072.jpg\n",
      "[%] File Downloaded !\n",
      "\n",
      "[%] Downloading Image #6 from http://stockarch.com/files/10/03/orange_fruit.JPG\n",
      "[%] File Downloaded !\n",
      "\n",
      "[%] Downloading Image #7 from http://images6.fanpop.com/image/photos/34500000/Orange-Fruit-orange-34512922-2738-1825.jpg\n",
      "[%] File Downloaded !\n",
      "\n",
      "[%] Downloading Image #8 from https://4.bp.blogspot.com/-fHp9NqyaO_0/TtIQgYboHcI/AAAAAAAAAK0/jWIAVQcYG2k/s1600/About+Orange+fruit.JPG\n",
      "[%] File Downloaded !\n",
      "\n",
      "[%] Downloading Image #9 from http://www.hdwallpapersfreedownload.com/uploads/large/fruits/orange-fruit-with-leaf-hd.jpg\n",
      "[%] File Downloaded !\n",
      "\n",
      "\n",
      "\n",
      "[!!]Indexing page: 2\n",
      "\n",
      "[%] Indexed 35 Images on Page 2.\n",
      "\n",
      "===============================================\n",
      "\n",
      "[%] Downloading Image #10 from https://www.goodfreephotos.com/albums/plants/orange-fruit-picture.jpg\n",
      "[%] File Downloaded !\n",
      "\n",
      "\n",
      "\n",
      "[%] Done. Downloaded 10 images.\n"
     ]
    }
   ],
   "source": [
    "from bing_image_downloader import downloader\n",
    "downloader.download('orange fruit',limit=10,output_dir='images')"
   ]
  },
  {
   "cell_type": "code",
   "execution_count": 13,
   "id": "c5e86933",
   "metadata": {},
   "outputs": [
    {
     "name": "stdout",
     "output_type": "stream",
     "text": [
      "[%] Downloading Images to C:\\Users\\91630\\Convolutional Neural Networks (CNN) -- Deep Learning\\images\\banana fruit\n",
      "\n",
      "\n",
      "[!!]Indexing page: 1\n",
      "\n",
      "[%] Indexed 10 Images on Page 1.\n",
      "\n",
      "===============================================\n",
      "\n",
      "[%] Downloading Image #1 from https://media.npr.org/assets/img/2011/08/19/istock_000017061174small-6ca3bb7c8b6c768b92153932e822623a95065935.jpg\n",
      "[%] File Downloaded !\n",
      "\n",
      "[%] Downloading Image #2 from http://4.bp.blogspot.com/-PB1VYJjSCQE/UREBbiEkphI/AAAAAAAAARM/a1tawzVrOA0/s1600/banana.jpeg\n",
      "[%] File Downloaded !\n",
      "\n",
      "[%] Downloading Image #3 from https://upload.wikimedia.org/wikipedia/commons/8/8e/Banana_Fruit.JPG\n",
      "[%] File Downloaded !\n",
      "\n",
      "[%] Downloading Image #4 from http://ayay.co.uk/backgrounds/food_and_drink/fruit/peeled-banana.jpg\n",
      "[%] File Downloaded !\n",
      "\n",
      "[%] Downloading Image #5 from https://www.feedipedia.org/sites/default/files/images/banana_cavendish.jpg\n",
      "[%] File Downloaded !\n",
      "\n",
      "[%] Downloading Image #6 from http://4.bp.blogspot.com/-gcGCJsbTAY0/T7hKgxLiY7I/AAAAAAAAAL4/R4seeHldb_E/s1600/banana-fruit.jpg\n",
      "[%] File Downloaded !\n",
      "\n",
      "[%] Downloading Image #7 from https://get.pxhere.com/photo/plant-fruit-food-produce-yellow-banana-mature-flowering-plant-banana-da-terra-land-plant-banana-family-cooking-plantain-bunch-of-bananas-1294883.jpg\n",
      "[%] File Downloaded !\n",
      "\n",
      "[%] Downloading Image #8 from http://i.huffpost.com/gen/3733188/images/o-BANANAS-facebook.jpg\n",
      "[%] File Downloaded !\n",
      "\n",
      "[%] Downloading Image #9 from http://1.bp.blogspot.com/-21fVIVrAj4A/TrqC3J_HcPI/AAAAAAAAAFA/I4FTI8inqAg/s1600/Banana.png\n",
      "[%] File Downloaded !\n",
      "\n",
      "[%] Downloading Image #10 from https://static.independent.co.uk/s3fs-public/thumbnails/image/2013/04/22/18/24-Banana.jpg\n",
      "[%] File Downloaded !\n",
      "\n",
      "\n",
      "\n",
      "[%] Done. Downloaded 10 images.\n"
     ]
    }
   ],
   "source": [
    "from bing_image_downloader import downloader\n",
    "downloader.download('banana fruit',limit=10,output_dir='images')"
   ]
  },
  {
   "cell_type": "code",
   "execution_count": 14,
   "id": "139cfd90",
   "metadata": {},
   "outputs": [
    {
     "name": "stdout",
     "output_type": "stream",
     "text": [
      "[%] Downloading Images to C:\\Users\\91630\\Convolutional Neural Networks (CNN) -- Deep Learning\\images\\grapes fruit\n",
      "\n",
      "\n",
      "[!!]Indexing page: 1\n",
      "\n",
      "[%] Indexed 10 Images on Page 1.\n",
      "\n",
      "===============================================\n",
      "\n",
      "[%] Downloading Image #1 from http://images6.fanpop.com/image/photos/34700000/Grapes-fruit-34733392-2560-1600.jpg\n",
      "[%] File Downloaded !\n",
      "\n",
      "[%] Downloading Image #2 from https://static.pexels.com/photos/708777/pexels-photo-708777.jpeg\n",
      "[%] File Downloaded !\n",
      "\n",
      "[%] Downloading Image #3 from http://www.nogarlicnoonions.com/images/uploads/NEWS/grapes 2.jpg\n",
      "[!] Issue getting: http://www.nogarlicnoonions.com/images/uploads/NEWS/grapes 2.jpg\n",
      "[!] Error:: URL can't contain control characters. '/images/uploads/NEWS/grapes 2.jpg' (found at least ' ')\n",
      "[%] Downloading Image #3 from https://www.dailyharvestexpress.com/wp-content/uploads/2018/09/Green-Grapes-min.jpg\n",
      "[%] File Downloaded !\n",
      "\n",
      "[%] Downloading Image #4 from http://gardeningknowhow.com/wp-content/uploads/2013/10/grapes.jpg\n",
      "[%] File Downloaded !\n",
      "\n",
      "[%] Downloading Image #5 from http://3.bp.blogspot.com/-e2zJmbVgj8w/UARX35ide6I/AAAAAAAAPQE/CwTrp65smro/s1600/Grapes+(1).jpg\n",
      "[%] File Downloaded !\n",
      "\n",
      "[%] Downloading Image #6 from https://www.theayurveda.org/wp-content/uploads/2015/06/Grapes-on-grapevine.jpg\n",
      "[%] File Downloaded !\n",
      "\n",
      "[%] Downloading Image #7 from https://www.waimeanurseries.co.nz/assets/Uploads/Grape-green-iStock-000014085833Medium.jpg\n",
      "[%] File Downloaded !\n",
      "\n",
      "[%] Downloading Image #8 from http://niemagazine.com/wp-content/uploads/2014/09/grapes2.jpg\n",
      "[%] File Downloaded !\n",
      "\n",
      "[%] Downloading Image #9 from http://images6.fanpop.com/image/photos/34700000/Grapes-fruit-34733383-600-480.jpg\n",
      "[%] File Downloaded !\n",
      "\n",
      "\n",
      "\n",
      "[!!]Indexing page: 2\n",
      "\n",
      "[%] Indexed 35 Images on Page 2.\n",
      "\n",
      "===============================================\n",
      "\n",
      "[%] Downloading Image #10 from https://i2.wp.com/www.gardeningknowhow.com/wp-content/uploads/2018/12/grapes.jpg?fit=1254%2C836&amp;ssl=1\n",
      "[%] File Downloaded !\n",
      "\n",
      "\n",
      "\n",
      "[%] Done. Downloaded 10 images.\n"
     ]
    }
   ],
   "source": [
    "from bing_image_downloader import downloader\n",
    "downloader.download('grapes fruit',limit=10,output_dir='images')"
   ]
  },
  {
   "cell_type": "code",
   "execution_count": 2,
   "id": "d33e8983",
   "metadata": {},
   "outputs": [
    {
     "name": "stdout",
     "output_type": "stream",
     "text": [
      "Do you want to convert your image data to grey scale? y/n: n\n",
      "Do you want to resize your data? y/n [default:100x100]: n\n",
      "Generating, Shuffling & Mapping the Data...\n",
      "Do you want to normalize your data? y/n [recommended]: y\n",
      "Do you want to save your data? y/n [will be saved using pickle]: n\n"
     ]
    }
   ],
   "source": [
    "from vinzy_imgdata_importer import img_data_importer\n",
    "X,y,m=img_data_importer(\"C:\\\\Users\\\\91630\\\\OneDrive\\\\Desktop\\\\Fruits\")"
   ]
  },
  {
   "cell_type": "code",
   "execution_count": 3,
   "id": "82bd995a",
   "metadata": {},
   "outputs": [
    {
     "data": {
      "text/plain": [
       "{'Apples': 0, 'Banana': 1, 'Grapes': 2, 'Oranges': 3}"
      ]
     },
     "execution_count": 3,
     "metadata": {},
     "output_type": "execute_result"
    }
   ],
   "source": [
    "m"
   ]
  },
  {
   "cell_type": "code",
   "execution_count": 15,
   "id": "7f797ff4",
   "metadata": {},
   "outputs": [
    {
     "data": {
      "text/plain": [
       "array([[[[1.        , 1.        , 1.        ],\n",
       "         [1.        , 1.        , 1.        ],\n",
       "         [1.        , 1.        , 1.        ],\n",
       "         ...,\n",
       "         [0.42352941, 0.63921569, 0.91764706],\n",
       "         [0.58039216, 0.70196078, 0.93333333],\n",
       "         [0.45490196, 0.51372549, 0.80392157]],\n",
       "\n",
       "        [[1.        , 1.        , 1.        ],\n",
       "         [1.        , 1.        , 1.        ],\n",
       "         [1.        , 1.        , 1.        ],\n",
       "         ...,\n",
       "         [0.18823529, 0.42745098, 0.89019608],\n",
       "         [0.22352941, 0.43137255, 0.8627451 ],\n",
       "         [0.06666667, 0.17254902, 0.63921569]],\n",
       "\n",
       "        [[1.        , 1.        , 1.        ],\n",
       "         [1.        , 1.        , 1.        ],\n",
       "         [1.        , 1.        , 1.        ],\n",
       "         ...,\n",
       "         [0.18039216, 0.37647059, 0.87058824],\n",
       "         [0.21176471, 0.34117647, 0.76470588],\n",
       "         [0.09803922, 0.19607843, 0.6627451 ]],\n",
       "\n",
       "        ...,\n",
       "\n",
       "        [[1.        , 1.        , 1.        ],\n",
       "         [1.        , 1.        , 1.        ],\n",
       "         [0.98431373, 0.98039216, 0.99607843],\n",
       "         ...,\n",
       "         [0.92941176, 0.89411765, 0.97647059],\n",
       "         [0.92941176, 0.89019608, 0.98039216],\n",
       "         [0.92941176, 0.89019608, 0.98039216]],\n",
       "\n",
       "        [[1.        , 1.        , 1.        ],\n",
       "         [1.        , 1.        , 1.        ],\n",
       "         [1.        , 1.        , 1.        ],\n",
       "         ...,\n",
       "         [0.92941176, 0.89019608, 0.98039216],\n",
       "         [0.92941176, 0.89019608, 0.98039216],\n",
       "         [0.92941176, 0.89019608, 0.98039216]],\n",
       "\n",
       "        [[1.        , 1.        , 1.        ],\n",
       "         [1.        , 1.        , 1.        ],\n",
       "         [1.        , 1.        , 1.        ],\n",
       "         ...,\n",
       "         [0.9254902 , 0.88627451, 0.97647059],\n",
       "         [0.92941176, 0.89019608, 0.98039216],\n",
       "         [0.9254902 , 0.88627451, 0.97647059]]],\n",
       "\n",
       "\n",
       "       [[[1.        , 1.        , 1.        ],\n",
       "         [1.        , 1.        , 1.        ],\n",
       "         [1.        , 1.        , 1.        ],\n",
       "         ...,\n",
       "         [1.        , 1.        , 1.        ],\n",
       "         [1.        , 1.        , 1.        ],\n",
       "         [1.        , 1.        , 1.        ]],\n",
       "\n",
       "        [[1.        , 1.        , 1.        ],\n",
       "         [1.        , 1.        , 1.        ],\n",
       "         [1.        , 1.        , 1.        ],\n",
       "         ...,\n",
       "         [1.        , 1.        , 1.        ],\n",
       "         [1.        , 1.        , 1.        ],\n",
       "         [1.        , 1.        , 1.        ]],\n",
       "\n",
       "        [[1.        , 1.        , 1.        ],\n",
       "         [1.        , 1.        , 1.        ],\n",
       "         [1.        , 1.        , 1.        ],\n",
       "         ...,\n",
       "         [1.        , 1.        , 1.        ],\n",
       "         [1.        , 1.        , 1.        ],\n",
       "         [1.        , 1.        , 1.        ]],\n",
       "\n",
       "        ...,\n",
       "\n",
       "        [[1.        , 1.        , 1.        ],\n",
       "         [1.        , 1.        , 1.        ],\n",
       "         [1.        , 1.        , 1.        ],\n",
       "         ...,\n",
       "         [1.        , 1.        , 1.        ],\n",
       "         [1.        , 1.        , 1.        ],\n",
       "         [1.        , 1.        , 1.        ]],\n",
       "\n",
       "        [[1.        , 1.        , 1.        ],\n",
       "         [1.        , 1.        , 1.        ],\n",
       "         [1.        , 1.        , 1.        ],\n",
       "         ...,\n",
       "         [1.        , 1.        , 1.        ],\n",
       "         [1.        , 1.        , 1.        ],\n",
       "         [1.        , 1.        , 1.        ]],\n",
       "\n",
       "        [[1.        , 1.        , 1.        ],\n",
       "         [1.        , 1.        , 1.        ],\n",
       "         [1.        , 1.        , 1.        ],\n",
       "         ...,\n",
       "         [1.        , 1.        , 1.        ],\n",
       "         [1.        , 1.        , 1.        ],\n",
       "         [1.        , 1.        , 1.        ]]],\n",
       "\n",
       "\n",
       "       [[[0.99607843, 0.99607843, 0.99607843],\n",
       "         [0.99607843, 0.99607843, 0.99607843],\n",
       "         [0.99607843, 0.99607843, 0.99607843],\n",
       "         ...,\n",
       "         [1.        , 1.        , 1.        ],\n",
       "         [1.        , 1.        , 1.        ],\n",
       "         [1.        , 1.        , 1.        ]],\n",
       "\n",
       "        [[0.99607843, 0.99607843, 0.99607843],\n",
       "         [0.99607843, 0.99607843, 0.99607843],\n",
       "         [0.99607843, 0.99607843, 0.99607843],\n",
       "         ...,\n",
       "         [1.        , 1.        , 1.        ],\n",
       "         [1.        , 1.        , 1.        ],\n",
       "         [1.        , 1.        , 1.        ]],\n",
       "\n",
       "        [[0.99607843, 0.99607843, 0.99607843],\n",
       "         [0.99607843, 0.99607843, 0.99607843],\n",
       "         [0.99607843, 0.99607843, 0.99607843],\n",
       "         ...,\n",
       "         [1.        , 1.        , 1.        ],\n",
       "         [1.        , 1.        , 1.        ],\n",
       "         [1.        , 1.        , 1.        ]],\n",
       "\n",
       "        ...,\n",
       "\n",
       "        [[0.99607843, 0.99607843, 0.99607843],\n",
       "         [0.99607843, 0.99607843, 0.99607843],\n",
       "         [0.99607843, 0.99607843, 0.99607843],\n",
       "         ...,\n",
       "         [0.99607843, 0.99215686, 1.        ],\n",
       "         [0.99607843, 0.99215686, 1.        ],\n",
       "         [0.99607843, 0.99215686, 1.        ]],\n",
       "\n",
       "        [[0.99607843, 0.99607843, 0.99607843],\n",
       "         [0.99607843, 0.99607843, 0.99607843],\n",
       "         [0.99607843, 0.99607843, 0.99607843],\n",
       "         ...,\n",
       "         [0.99607843, 0.99215686, 1.        ],\n",
       "         [0.99607843, 0.99215686, 1.        ],\n",
       "         [0.99607843, 0.99215686, 1.        ]],\n",
       "\n",
       "        [[0.99607843, 0.99607843, 0.99607843],\n",
       "         [0.99607843, 0.99607843, 0.99607843],\n",
       "         [0.99607843, 0.99607843, 0.99607843],\n",
       "         ...,\n",
       "         [0.99607843, 0.99215686, 1.        ],\n",
       "         [0.99607843, 0.99215686, 1.        ],\n",
       "         [0.99607843, 0.99215686, 1.        ]]],\n",
       "\n",
       "\n",
       "       ...,\n",
       "\n",
       "\n",
       "       [[[0.30196078, 0.60784314, 0.78823529],\n",
       "         [0.44705882, 0.72941176, 0.81568627],\n",
       "         [0.45098039, 0.74117647, 0.84313725],\n",
       "         ...,\n",
       "         [0.27843137, 0.83137255, 0.89019608],\n",
       "         [0.24705882, 0.79215686, 0.86666667],\n",
       "         [0.22352941, 0.76470588, 0.83529412]],\n",
       "\n",
       "        [[0.29019608, 0.69803922, 0.66666667],\n",
       "         [0.30196078, 0.53333333, 0.64705882],\n",
       "         [0.20784314, 0.51764706, 0.61960784],\n",
       "         ...,\n",
       "         [0.34117647, 0.87058824, 0.9254902 ],\n",
       "         [0.25882353, 0.77254902, 0.84705882],\n",
       "         [0.2627451 , 0.77254902, 0.82352941]],\n",
       "\n",
       "        [[0.17647059, 0.46666667, 0.45098039],\n",
       "         [0.09803922, 0.21568627, 0.3372549 ],\n",
       "         [0.13333333, 0.3372549 , 0.38823529],\n",
       "         ...,\n",
       "         [0.25882353, 0.76078431, 0.81568627],\n",
       "         [0.2745098 , 0.77254902, 0.83137255],\n",
       "         [0.23529412, 0.71764706, 0.77254902]],\n",
       "\n",
       "        ...,\n",
       "\n",
       "        [[0.14117647, 0.42352941, 0.3372549 ],\n",
       "         [0.1254902 , 0.41176471, 0.3254902 ],\n",
       "         [0.12156863, 0.42745098, 0.3372549 ],\n",
       "         ...,\n",
       "         [0.29411765, 0.6627451 , 0.71372549],\n",
       "         [0.25098039, 0.62745098, 0.67843137],\n",
       "         [0.22352941, 0.60392157, 0.64313725]],\n",
       "\n",
       "        [[0.11372549, 0.35686275, 0.28627451],\n",
       "         [0.10588235, 0.3254902 , 0.2745098 ],\n",
       "         [0.10196078, 0.32156863, 0.27843137],\n",
       "         ...,\n",
       "         [0.25882353, 0.61960784, 0.6627451 ],\n",
       "         [0.23137255, 0.58823529, 0.64705882],\n",
       "         [0.21568627, 0.57647059, 0.62745098]],\n",
       "\n",
       "        [[0.07843137, 0.20784314, 0.18039216],\n",
       "         [0.0745098 , 0.23137255, 0.20392157],\n",
       "         [0.0745098 , 0.25490196, 0.23137255],\n",
       "         ...,\n",
       "         [0.18431373, 0.53333333, 0.57254902],\n",
       "         [0.19215686, 0.52941176, 0.57647059],\n",
       "         [0.18823529, 0.50980392, 0.57647059]]],\n",
       "\n",
       "\n",
       "       [[[0.20392157, 0.60784314, 0.99215686],\n",
       "         [0.14901961, 0.57647059, 0.99607843],\n",
       "         [0.13333333, 0.58039216, 1.        ],\n",
       "         ...,\n",
       "         [0.00784314, 0.1372549 , 0.75294118],\n",
       "         [0.00392157, 0.11764706, 0.7372549 ],\n",
       "         [0.00392157, 0.11764706, 0.7372549 ]],\n",
       "\n",
       "        [[0.10980392, 0.58431373, 0.99215686],\n",
       "         [0.36470588, 0.65098039, 0.99607843],\n",
       "         [0.22745098, 0.59607843, 1.        ],\n",
       "         ...,\n",
       "         [0.        , 0.1254902 , 0.74901961],\n",
       "         [0.00392157, 0.11764706, 0.74901961],\n",
       "         [0.        , 0.11764706, 0.74117647]],\n",
       "\n",
       "        [[0.21568627, 0.61960784, 1.        ],\n",
       "         [0.2745098 , 0.63529412, 1.        ],\n",
       "         [0.13333333, 0.56862745, 1.        ],\n",
       "         ...,\n",
       "         [0.00784314, 0.1254902 , 0.77254902],\n",
       "         [0.00784314, 0.1254902 , 0.76862745],\n",
       "         [0.00784314, 0.11764706, 0.74901961]],\n",
       "\n",
       "        ...,\n",
       "\n",
       "        [[0.00392157, 0.25882353, 0.83137255],\n",
       "         [0.00784314, 0.25098039, 0.83137255],\n",
       "         [0.02352941, 0.21568627, 0.82745098],\n",
       "         ...,\n",
       "         [0.02745098, 0.27058824, 0.71764706],\n",
       "         [0.03529412, 0.25098039, 0.68627451],\n",
       "         [0.04705882, 0.23529412, 0.6627451 ]],\n",
       "\n",
       "        [[0.00392157, 0.26666667, 0.83921569],\n",
       "         [0.00392157, 0.24313725, 0.83137255],\n",
       "         [0.01176471, 0.23921569, 0.83529412],\n",
       "         ...,\n",
       "         [0.03137255, 0.24313725, 0.69019608],\n",
       "         [0.02352941, 0.24705882, 0.69411765],\n",
       "         [0.01568627, 0.23529412, 0.67843137]],\n",
       "\n",
       "        [[0.00392157, 0.24705882, 0.82745098],\n",
       "         [0.00392157, 0.22745098, 0.82745098],\n",
       "         [0.01960784, 0.23137255, 0.83529412],\n",
       "         ...,\n",
       "         [0.02745098, 0.27843137, 0.70196078],\n",
       "         [0.01568627, 0.23137255, 0.67058824],\n",
       "         [0.02745098, 0.23137255, 0.66666667]]],\n",
       "\n",
       "\n",
       "       [[[0.99607843, 0.99607843, 0.99607843],\n",
       "         [0.99607843, 0.99607843, 0.99607843],\n",
       "         [0.99607843, 0.99607843, 0.99607843],\n",
       "         ...,\n",
       "         [0.99607843, 0.99607843, 0.99607843],\n",
       "         [0.99607843, 0.99607843, 0.99607843],\n",
       "         [0.99607843, 0.99607843, 0.99607843]],\n",
       "\n",
       "        [[0.99607843, 0.99607843, 0.99607843],\n",
       "         [0.99607843, 0.99607843, 0.99607843],\n",
       "         [0.99607843, 0.99607843, 0.99607843],\n",
       "         ...,\n",
       "         [0.99607843, 0.99607843, 0.99607843],\n",
       "         [0.99607843, 0.99607843, 0.99607843],\n",
       "         [0.99607843, 0.99607843, 0.99607843]],\n",
       "\n",
       "        [[0.99607843, 0.99607843, 0.99607843],\n",
       "         [0.99607843, 0.99607843, 0.99607843],\n",
       "         [0.99607843, 0.99607843, 0.99607843],\n",
       "         ...,\n",
       "         [0.99607843, 0.99607843, 0.99607843],\n",
       "         [0.99607843, 0.99607843, 0.99607843],\n",
       "         [0.99607843, 0.99607843, 0.99607843]],\n",
       "\n",
       "        ...,\n",
       "\n",
       "        [[0.99607843, 0.99607843, 0.99607843],\n",
       "         [0.99607843, 0.99607843, 0.99607843],\n",
       "         [0.99607843, 0.99607843, 0.99607843],\n",
       "         ...,\n",
       "         [0.99607843, 0.99607843, 0.99607843],\n",
       "         [0.99607843, 0.99607843, 0.99607843],\n",
       "         [0.99607843, 0.99607843, 0.99607843]],\n",
       "\n",
       "        [[0.99607843, 0.99607843, 0.99607843],\n",
       "         [0.99607843, 0.99607843, 0.99607843],\n",
       "         [0.99607843, 0.99607843, 0.99607843],\n",
       "         ...,\n",
       "         [0.99607843, 0.99607843, 0.99607843],\n",
       "         [0.99607843, 0.99607843, 0.99607843],\n",
       "         [0.99607843, 0.99607843, 0.99607843]],\n",
       "\n",
       "        [[0.99607843, 0.99607843, 0.99607843],\n",
       "         [0.99607843, 0.99607843, 0.99607843],\n",
       "         [0.99607843, 0.99607843, 0.99607843],\n",
       "         ...,\n",
       "         [0.99607843, 0.99607843, 0.99607843],\n",
       "         [0.99607843, 0.99607843, 0.99607843],\n",
       "         [0.99607843, 0.99607843, 0.99607843]]]])"
      ]
     },
     "execution_count": 15,
     "metadata": {},
     "output_type": "execute_result"
    }
   ],
   "source": [
    "X"
   ]
  },
  {
   "cell_type": "code",
   "execution_count": 16,
   "id": "37ee3110",
   "metadata": {},
   "outputs": [
    {
     "data": {
      "text/plain": [
       "[0,\n",
       " 0,\n",
       " 0,\n",
       " 2,\n",
       " 1,\n",
       " 2,\n",
       " 1,\n",
       " 0,\n",
       " 3,\n",
       " 3,\n",
       " 1,\n",
       " 1,\n",
       " 1,\n",
       " 2,\n",
       " 1,\n",
       " 0,\n",
       " 2,\n",
       " 2,\n",
       " 3,\n",
       " 3,\n",
       " 1,\n",
       " 1,\n",
       " 1,\n",
       " 0,\n",
       " 3,\n",
       " 3,\n",
       " 2,\n",
       " 0,\n",
       " 2,\n",
       " 2,\n",
       " 1,\n",
       " 0,\n",
       " 2,\n",
       " 2,\n",
       " 3,\n",
       " 0,\n",
       " 0,\n",
       " 3,\n",
       " 3]"
      ]
     },
     "execution_count": 16,
     "metadata": {},
     "output_type": "execute_result"
    }
   ],
   "source": [
    "y"
   ]
  },
  {
   "cell_type": "code",
   "execution_count": 6,
   "id": "be472598",
   "metadata": {},
   "outputs": [
    {
     "data": {
      "text/plain": [
       "<matplotlib.image.AxesImage at 0x187c75cce50>"
      ]
     },
     "execution_count": 6,
     "metadata": {},
     "output_type": "execute_result"
    },
    {
     "data": {
      "image/png": "[encoded data removed]",
      "text/plain": [
       "<Figure size 640x480 with 1 Axes>"
      ]
     },
     "metadata": {},
     "output_type": "display_data"
    }
   ],
   "source": [
    "import matplotlib.pyplot as pt\n",
    "pt.imshow(X[1])"
   ]
  },
  {
   "cell_type": "code",
   "execution_count": 7,
   "id": "e7555273",
   "metadata": {},
   "outputs": [
    {
     "data": {
      "text/plain": [
       "<matplotlib.image.AxesImage at 0x187c763cdf0>"
      ]
     },
     "execution_count": 7,
     "metadata": {},
     "output_type": "execute_result"
    },
    {
     "data": {
      "image/png": "[encoded data removed]",
      "text/plain": [
       "<Figure size 640x480 with 1 Axes>"
      ]
     },
     "metadata": {},
     "output_type": "display_data"
    }
   ],
   "source": [
    "index=4\n",
    "pt.imshow(X[index])"
   ]
  },
  {
   "cell_type": "code",
   "execution_count": 19,
   "id": "fc83c7a9",
   "metadata": {},
   "outputs": [
    {
     "data": {
      "text/plain": [
       "<matplotlib.image.AxesImage at 0x187cba29c00>"
      ]
     },
     "execution_count": 19,
     "metadata": {},
     "output_type": "execute_result"
    },
    {
     "data": {
      "image/png": "[encoded data removed]",
      "text/plain": [
       "<Figure size 640x480 with 1 Axes>"
      ]
     },
     "metadata": {},
     "output_type": "display_data"
    }
   ],
   "source": [
    "index=3\n",
    "pt.imshow(X[index])"
   ]
  },
  {
   "cell_type": "code",
   "execution_count": null,
   "id": "5092c4b6",
   "metadata": {},
   "outputs": [],
   "source": []
  },
  {
   "cell_type": "code",
   "execution_count": null,
   "id": "9310d41c",
   "metadata": {},
   "outputs": [],
   "source": []
  },
  {
   "cell_type": "code",
   "execution_count": null,
   "id": "18689df8",
   "metadata": {},
   "outputs": [],
   "source": []
  },
  {
   "cell_type": "code",
   "execution_count": null,
   "id": "237e80ea",
   "metadata": {},
   "outputs": [],
   "source": []
  }
 ],
 "metadata": {
  "kernelspec": {
   "display_name": "Python 3 (ipykernel)",
   "language": "python",
   "name": "python3"
  },
  "language_info": {
   "codemirror_mode": {
    "name": "ipython",
    "version": 3
   },
   "file_extension": ".py",
   "mimetype": "text/x-python",
   "name": "python",
   "nbconvert_exporter": "python",
   "pygments_lexer": "ipython3",
   "version": "3.10.9"
  }
 },
 "nbformat": 4,
 "nbformat_minor": 5
}

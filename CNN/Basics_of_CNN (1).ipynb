{
  "nbformat": 4,
  "nbformat_minor": 0,
  "metadata": {
    "colab": {
      "provenance": [],
      "gpuType": "T4"
    },
    "kernelspec": {
      "name": "python3",
      "display_name": "Python 3"
    },
    "language_info": {
      "name": "python"
    },
    "accelerator": "GPU",
    "gpuClass": "standard"
  },
  "cells": [
    {
      "cell_type": "markdown",
      "source": [
        "Basic Programns of CNN"
      ],
      "metadata": {
        "id": "I2y1Swoz6Mjl"
      }
    },
    {
      "cell_type": "code",
      "execution_count": null,
      "metadata": {
        "id": "QOgPdCih6BIj",
        "colab": {
          "base_uri": "https://localhost:8080/"
        },
        "outputId": "dae5ff71-c8f9-4e69-db0f-2f24787e815b"
      },
      "outputs": [
        {
          "output_type": "stream",
          "name": "stdout",
          "text": [
            "Downloading data from https://www.cs.toronto.edu/~kriz/cifar-10-python.tar.gz\n",
            "170498071/170498071 [==============================] - 4s 0us/step\n"
          ]
        }
      ],
      "source": [
        "import tensorflow as tf\n",
        "from tensorflow.keras import layers,datasets,models\n",
        "(x_train,y_train),(x_test,y_test)=datasets.cifar10.load_data()"
      ]
    },
    {
      "cell_type": "code",
      "source": [
        "print(x_train.shape)\n",
        "print(x_train.size)\n",
        "print()\n",
        "print(x_test.shape)\n",
        "print(x_test.size)"
      ],
      "metadata": {
        "colab": {
          "base_uri": "https://localhost:8080/"
        },
        "id": "cHKeUTfh7nUm",
        "outputId": "06ef3f6c-31eb-49dd-d6e2-9e7b2f67c32e"
      },
      "execution_count": null,
      "outputs": [
        {
          "output_type": "stream",
          "name": "stdout",
          "text": [
            "(50000, 32, 32, 3)\n",
            "153600000\n",
            "\n",
            "(10000, 32, 32, 3)\n",
            "30720000\n"
          ]
        }
      ]
    },
    {
      "cell_type": "code",
      "source": [
        "print(y_train.shape)\n",
        "print(y_train.size)\n",
        "print()\n",
        "print(y_test.shape)\n",
        "print(y_test.size)"
      ],
      "metadata": {
        "colab": {
          "base_uri": "https://localhost:8080/"
        },
        "id": "Gl42vNdn8KiM",
        "outputId": "1ae99a8e-cfe0-40bf-9570-3bf8ca7dcb3e"
      },
      "execution_count": null,
      "outputs": [
        {
          "output_type": "stream",
          "name": "stdout",
          "text": [
            "(50000, 1)\n",
            "50000\n",
            "\n",
            "(10000, 1)\n",
            "10000\n"
          ]
        }
      ]
    },
    {
      "cell_type": "code",
      "source": [
        "x_train=x_train/255\n",
        "x_test=x_test/255\n",
        "print(x_train[1])"
      ],
      "metadata": {
        "colab": {
          "base_uri": "https://localhost:8080/"
        },
        "id": "30-REk1Q8VZQ",
        "outputId": "50d02e7f-3c23-49cd-ffcd-672084256191"
      },
      "execution_count": null,
      "outputs": [
        {
          "output_type": "stream",
          "name": "stdout",
          "text": [
            "[[[0.60392157 0.69411765 0.73333333]\n",
            "  [0.49411765 0.5372549  0.53333333]\n",
            "  [0.41176471 0.40784314 0.37254902]\n",
            "  ...\n",
            "  [0.35686275 0.37254902 0.27843137]\n",
            "  [0.34117647 0.35294118 0.27843137]\n",
            "  [0.30980392 0.31764706 0.2745098 ]]\n",
            "\n",
            " [[0.54901961 0.62745098 0.6627451 ]\n",
            "  [0.56862745 0.6        0.60392157]\n",
            "  [0.49019608 0.49019608 0.4627451 ]\n",
            "  ...\n",
            "  [0.37647059 0.38823529 0.30588235]\n",
            "  [0.30196078 0.31372549 0.24313725]\n",
            "  [0.27843137 0.28627451 0.23921569]]\n",
            "\n",
            " [[0.54901961 0.60784314 0.64313725]\n",
            "  [0.54509804 0.57254902 0.58431373]\n",
            "  [0.45098039 0.45098039 0.43921569]\n",
            "  ...\n",
            "  [0.30980392 0.32156863 0.25098039]\n",
            "  [0.26666667 0.2745098  0.21568627]\n",
            "  [0.2627451  0.27058824 0.21568627]]\n",
            "\n",
            " ...\n",
            "\n",
            " [[0.68627451 0.65490196 0.65098039]\n",
            "  [0.61176471 0.60392157 0.62745098]\n",
            "  [0.60392157 0.62745098 0.66666667]\n",
            "  ...\n",
            "  [0.16470588 0.13333333 0.14117647]\n",
            "  [0.23921569 0.20784314 0.22352941]\n",
            "  [0.36470588 0.3254902  0.35686275]]\n",
            "\n",
            " [[0.64705882 0.60392157 0.50196078]\n",
            "  [0.61176471 0.59607843 0.50980392]\n",
            "  [0.62352941 0.63137255 0.55686275]\n",
            "  ...\n",
            "  [0.40392157 0.36470588 0.37647059]\n",
            "  [0.48235294 0.44705882 0.47058824]\n",
            "  [0.51372549 0.4745098  0.51372549]]\n",
            "\n",
            " [[0.63921569 0.58039216 0.47058824]\n",
            "  [0.61960784 0.58039216 0.47843137]\n",
            "  [0.63921569 0.61176471 0.52156863]\n",
            "  ...\n",
            "  [0.56078431 0.52156863 0.54509804]\n",
            "  [0.56078431 0.5254902  0.55686275]\n",
            "  [0.56078431 0.52156863 0.56470588]]]\n"
          ]
        }
      ]
    },
    {
      "cell_type": "code",
      "source": [
        "print(x_test[1])"
      ],
      "metadata": {
        "colab": {
          "base_uri": "https://localhost:8080/"
        },
        "id": "WMvtY9kP857E",
        "outputId": "dc7a3584-82d9-4e45-a7e5-5ab37d46709a"
      },
      "execution_count": null,
      "outputs": [
        {
          "output_type": "stream",
          "name": "stdout",
          "text": [
            "[[[0.92156863 0.92156863 0.92156863]\n",
            "  [0.90588235 0.90588235 0.90588235]\n",
            "  [0.90980392 0.90980392 0.90980392]\n",
            "  ...\n",
            "  [0.91372549 0.91372549 0.91372549]\n",
            "  [0.91372549 0.91372549 0.91372549]\n",
            "  [0.90980392 0.90980392 0.90980392]]\n",
            "\n",
            " [[0.93333333 0.93333333 0.93333333]\n",
            "  [0.92156863 0.92156863 0.92156863]\n",
            "  [0.92156863 0.92156863 0.92156863]\n",
            "  ...\n",
            "  [0.9254902  0.9254902  0.9254902 ]\n",
            "  [0.9254902  0.9254902  0.9254902 ]\n",
            "  [0.92156863 0.92156863 0.92156863]]\n",
            "\n",
            " [[0.92941176 0.92941176 0.92941176]\n",
            "  [0.91764706 0.91764706 0.91764706]\n",
            "  [0.91764706 0.91764706 0.91764706]\n",
            "  ...\n",
            "  [0.92156863 0.92156863 0.92156863]\n",
            "  [0.92156863 0.92156863 0.92156863]\n",
            "  [0.91764706 0.91764706 0.91764706]]\n",
            "\n",
            " ...\n",
            "\n",
            " [[0.34117647 0.38823529 0.34901961]\n",
            "  [0.16862745 0.2        0.14509804]\n",
            "  [0.0745098  0.09019608 0.04313725]\n",
            "  ...\n",
            "  [0.6627451  0.72156863 0.70196078]\n",
            "  [0.71372549 0.77254902 0.75686275]\n",
            "  [0.7372549  0.79215686 0.78823529]]\n",
            "\n",
            " [[0.32156863 0.37647059 0.32156863]\n",
            "  [0.18039216 0.22352941 0.14117647]\n",
            "  [0.14117647 0.17254902 0.08627451]\n",
            "  ...\n",
            "  [0.68235294 0.74117647 0.71764706]\n",
            "  [0.7254902  0.78431373 0.76862745]\n",
            "  [0.73333333 0.79215686 0.78431373]]\n",
            "\n",
            " [[0.33333333 0.39607843 0.3254902 ]\n",
            "  [0.24313725 0.29411765 0.18823529]\n",
            "  [0.22745098 0.2627451  0.14901961]\n",
            "  ...\n",
            "  [0.65882353 0.71764706 0.69803922]\n",
            "  [0.70588235 0.76470588 0.74901961]\n",
            "  [0.72941176 0.78431373 0.78039216]]]\n"
          ]
        }
      ]
    },
    {
      "cell_type": "code",
      "source": [
        "print(y_train)"
      ],
      "metadata": {
        "colab": {
          "base_uri": "https://localhost:8080/"
        },
        "id": "biwRgr1c9sil",
        "outputId": "37fc9550-080c-405b-bc55-47c40ad58195"
      },
      "execution_count": null,
      "outputs": [
        {
          "output_type": "stream",
          "name": "stdout",
          "text": [
            "[[6]\n",
            " [9]\n",
            " [9]\n",
            " ...\n",
            " [9]\n",
            " [1]\n",
            " [1]]\n"
          ]
        }
      ]
    },
    {
      "cell_type": "code",
      "source": [
        "print(y_test)"
      ],
      "metadata": {
        "colab": {
          "base_uri": "https://localhost:8080/"
        },
        "id": "cHBR2-mr9vmg",
        "outputId": "df3c72e0-767b-4b22-a32a-b0c08a5295bd"
      },
      "execution_count": null,
      "outputs": [
        {
          "output_type": "stream",
          "name": "stdout",
          "text": [
            "[[3]\n",
            " [8]\n",
            " [8]\n",
            " ...\n",
            " [5]\n",
            " [1]\n",
            " [7]]\n"
          ]
        }
      ]
    },
    {
      "cell_type": "code",
      "source": [
        "#cnn models architecture\n",
        "ml=models.Sequential()\n",
        "ml.add(layers.Conv2D(32, (3, 3), activation='relu', input_shape=(32, 32, 3)))\n",
        "ml.add(layers.MaxPool2D((2,2)))\n",
        "ml.add(layers.Conv2D(64, (3, 3), activation='relu'))\n",
        "ml.add(layers.MaxPool2D((2,2)))\n",
        "ml.add(layers.Conv2D(64,(2,2)))"
      ],
      "metadata": {
        "id": "6D9kPqTf92Nl"
      },
      "execution_count": null,
      "outputs": []
    },
    {
      "cell_type": "code",
      "source": [
        "ml.add(layers.Flatten())\n",
        "ml.add(layers.Dense(64,activation='relu'))\n",
        "ml.add(layers.Dense(10))"
      ],
      "metadata": {
        "id": "LCvM2w9bCFj6"
      },
      "execution_count": null,
      "outputs": []
    },
    {
      "cell_type": "code",
      "source": [
        "ml.compile(optimizer='adam',loss=tf.keras.losses.SparseCategoricalCrossentropy(from_logits=True))"
      ],
      "metadata": {
        "id": "hb3USbunC8Lv"
      },
      "execution_count": null,
      "outputs": []
    },
    {
      "cell_type": "code",
      "source": [
        "ml.fit(x_train,y_train,epochs=10,validation_data=(x_test,y_test))"
      ],
      "metadata": {
        "colab": {
          "base_uri": "https://localhost:8080/"
        },
        "id": "IF2rnZsgDSas",
        "outputId": "6f9fb2cd-2a9f-4d96-ba41-98b9e49553f8"
      },
      "execution_count": null,
      "outputs": [
        {
          "output_type": "stream",
          "name": "stdout",
          "text": [
            "Epoch 1/10\n",
            "1563/1563 [==============================] - 19s 5ms/step - loss: 1.4337 - val_loss: 1.1391\n",
            "Epoch 2/10\n",
            "1563/1563 [==============================] - 7s 4ms/step - loss: 1.0622 - val_loss: 0.9873\n",
            "Epoch 3/10\n",
            "1563/1563 [==============================] - 8s 5ms/step - loss: 0.9202 - val_loss: 0.9222\n",
            "Epoch 4/10\n",
            "1563/1563 [==============================] - 7s 5ms/step - loss: 0.8320 - val_loss: 0.9075\n",
            "Epoch 5/10\n",
            "1563/1563 [==============================] - 7s 4ms/step - loss: 0.7625 - val_loss: 0.8789\n",
            "Epoch 6/10\n",
            "1563/1563 [==============================] - 7s 5ms/step - loss: 0.7004 - val_loss: 0.9546\n",
            "Epoch 7/10\n",
            "1563/1563 [==============================] - 7s 5ms/step - loss: 0.6559 - val_loss: 0.8862\n",
            "Epoch 8/10\n",
            "1563/1563 [==============================] - 7s 5ms/step - loss: 0.6035 - val_loss: 0.9328\n",
            "Epoch 9/10\n",
            "1563/1563 [==============================] - 7s 4ms/step - loss: 0.5619 - val_loss: 0.9048\n",
            "Epoch 10/10\n",
            "1563/1563 [==============================] - 7s 5ms/step - loss: 0.5194 - val_loss: 0.9645\n"
          ]
        },
        {
          "output_type": "execute_result",
          "data": {
            "text/plain": [
              "<keras.callbacks.History at 0x7f2d701028f0>"
            ]
          },
          "metadata": {},
          "execution_count": 11
        }
      ]
    },
    {
      "cell_type": "code",
      "source": [
        "ml.predict(x_test)"
      ],
      "metadata": {
        "colab": {
          "base_uri": "https://localhost:8080/"
        },
        "id": "Bxl5hX1LE2xT",
        "outputId": "2ed2b4c3-0113-4d43-a44c-370a3d49b3a1"
      },
      "execution_count": null,
      "outputs": [
        {
          "output_type": "stream",
          "name": "stdout",
          "text": [
            "313/313 [==============================] - 1s 2ms/step\n"
          ]
        },
        {
          "output_type": "execute_result",
          "data": {
            "text/plain": [
              "array([[-3.3252742 , -1.8612862 ,  2.6932023 , ..., -6.117693  ,\n",
              "        -0.8105299 , -5.624428  ],\n",
              "       [ 3.8767211 , 14.45254   , -0.42761207, ..., -8.48079   ,\n",
              "         8.506754  ,  5.7005463 ],\n",
              "       [ 2.778866  ,  5.5669017 , -1.3296613 , ..., -5.8967123 ,\n",
              "         4.3056245 ,  6.6943593 ],\n",
              "       ...,\n",
              "       [-3.9695601 , -4.1844587 ,  5.05785   , ...,  3.8431726 ,\n",
              "        -1.6465722 , -0.28967953],\n",
              "       [ 1.6745363 ,  1.7288017 , -0.9445181 , ..., -4.4577184 ,\n",
              "        -8.745571  , -3.6174693 ],\n",
              "       [-4.7966437 , -3.82441   ,  1.55962   , ..., 14.179976  ,\n",
              "        -6.5114455 , -2.1316586 ]], dtype=float32)"
            ]
          },
          "metadata": {},
          "execution_count": 12
        }
      ]
    },
    {
      "cell_type": "code",
      "source": [
        "#loss and Accuracy\n",
        "ml.evaluate(x_test,y_test)"
      ],
      "metadata": {
        "colab": {
          "base_uri": "https://localhost:8080/"
        },
        "id": "gOQcPYs6Djx-",
        "outputId": "4af5b3e6-303f-4a6b-c722-419e4c176487"
      },
      "execution_count": null,
      "outputs": [
        {
          "output_type": "stream",
          "name": "stdout",
          "text": [
            "313/313 [==============================] - 1s 2ms/step - loss: 0.9645\n"
          ]
        },
        {
          "output_type": "execute_result",
          "data": {
            "text/plain": [
              "0.9644755721092224"
            ]
          },
          "metadata": {},
          "execution_count": 13
        }
      ]
    },
    {
      "cell_type": "code",
      "source": [],
      "metadata": {
        "id": "RrBz8CIlKhKp"
      },
      "execution_count": null,
      "outputs": []
    },
    {
      "cell_type": "code",
      "source": [
        "#cnn models architecture\n",
        "ml=models.Sequential()\n",
        "ml.add(layers.Conv2D(32, (3, 3), activation='sigmoid', input_shape=(32, 32, 3)))\n",
        "ml.add(layers.MaxPool2D((2,2)))\n",
        "ml.add(layers.Conv2D(64, (3, 3), activation='relu'))\n",
        "ml.add(layers.MaxPool2D((2,2)))\n",
        "ml.add(layers.Conv2D(64,(2,2)))\n",
        "#Flatten\n",
        "ml.add(layers.Flatten())\n",
        "ml.add(layers.Dense(64,activation='relu'))\n",
        "ml.add(layers.Dense(10))"
      ],
      "metadata": {
        "id": "7cr2hvpWKllg"
      },
      "execution_count": null,
      "outputs": []
    },
    {
      "cell_type": "code",
      "source": [
        "from keras.layers import Dense\n",
        "ml.compile(optimizer='adam',loss='binary_crossentropy')"
      ],
      "metadata": {
        "id": "5TSildjWKlfh"
      },
      "execution_count": null,
      "outputs": []
    },
    {
      "cell_type": "code",
      "source": [
        "ml.fit(x_train,y_train,epochs=10,batch_size=8)"
      ],
      "metadata": {
        "colab": {
          "base_uri": "https://localhost:8080/"
        },
        "id": "OyQUa5E0Klc9",
        "outputId": "723dff68-904a-4611-de95-9dc18cc71809"
      },
      "execution_count": null,
      "outputs": [
        {
          "output_type": "stream",
          "name": "stdout",
          "text": [
            "Epoch 1/10\n",
            "6250/6250 [==============================] - 25s 4ms/step - loss: -41.0713\n",
            "Epoch 2/10\n",
            "6250/6250 [==============================] - 23s 4ms/step - loss: -41.0938\n",
            "Epoch 3/10\n",
            "6250/6250 [==============================] - 23s 4ms/step - loss: -41.0939\n",
            "Epoch 4/10\n",
            "6250/6250 [==============================] - 23s 4ms/step - loss: -41.0937\n",
            "Epoch 5/10\n",
            "6250/6250 [==============================] - 23s 4ms/step - loss: -41.0938\n",
            "Epoch 6/10\n",
            "6250/6250 [==============================] - 23s 4ms/step - loss: -41.0938\n",
            "Epoch 7/10\n",
            "6250/6250 [==============================] - 23s 4ms/step - loss: -41.0938\n",
            "Epoch 8/10\n",
            "6250/6250 [==============================] - 23s 4ms/step - loss: -41.0938\n",
            "Epoch 9/10\n",
            "6250/6250 [==============================] - 23s 4ms/step - loss: -41.0938\n",
            "Epoch 10/10\n",
            "6250/6250 [==============================] - 23s 4ms/step - loss: -41.0938\n"
          ]
        }
      ]
    },
    {
      "cell_type": "code",
      "source": [
        "ml.evaluate(x_test,y_test)"
      ],
      "metadata": {
        "id": "KMHpKNCmKlaO"
      },
      "execution_count": null,
      "outputs": []
    },
    {
      "cell_type": "code",
      "source": [],
      "metadata": {
        "id": "g_NtEK3PKlXs"
      },
      "execution_count": null,
      "outputs": []
    },
    {
      "cell_type": "code",
      "source": [],
      "metadata": {
        "id": "_LNqh_p7NADp"
      },
      "execution_count": null,
      "outputs": []
    },
    {
      "cell_type": "code",
      "source": [],
      "metadata": {
        "id": "Fn0dFkvvM_zv"
      },
      "execution_count": null,
      "outputs": []
    }
  ]
}
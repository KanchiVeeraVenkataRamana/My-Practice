{
  "nbformat": 4,
  "nbformat_minor": 0,
  "metadata": {
    "colab": {
      "provenance": []
    },
    "kernelspec": {
      "name": "python3",
      "display_name": "Python 3"
    },
    "language_info": {
      "name": "python"
    }
  },
  "cells": [
    {
      "cell_type": "markdown",
      "source": [
        "Statstics Models\n",
        "1. AR\n",
        "2. MA\n",
        "3. ARMA\n",
        "4. ARIMA"
      ],
      "metadata": {
        "id": "TTldcoFJXTS9"
      }
    },
    {
      "cell_type": "code",
      "source": [
        "# 1. AR (AUTORegressive)\n",
        "from statsmodels.tsa.ar_model import AutoReg\n",
        "import pandas as pd\n",
        "df = pd.read_csv('/content/covid_19_india.csv')\n",
        "df.head()"
      ],
      "metadata": {
        "colab": {
          "base_uri": "https://localhost:8080/",
          "height": 206
        },
        "id": "dh6qd6iKP7yd",
        "outputId": "3c25e8a8-0d43-46ef-eb12-489ab61365b8"
      },
      "execution_count": 31,
      "outputs": [
        {
          "output_type": "execute_result",
          "data": {
            "text/plain": [
              "   Sno        Date     Time State/UnionTerritory ConfirmedIndianNational  \\\n",
              "0    1  2020-01-30  6:00 PM               Kerala                       1   \n",
              "1    2  2020-01-31  6:00 PM               Kerala                       1   \n",
              "2    3  2020-02-01  6:00 PM               Kerala                       2   \n",
              "3    4  2020-02-02  6:00 PM               Kerala                       3   \n",
              "4    5  2020-02-03  6:00 PM               Kerala                       3   \n",
              "\n",
              "  ConfirmedForeignNational  Cured  Deaths  Confirmed  \n",
              "0                        0      0       0          1  \n",
              "1                        0      0       0          1  \n",
              "2                        0      0       0          2  \n",
              "3                        0      0       0          3  \n",
              "4                        0      0       0          3  "
            ],
            "text/html": [
              "\n",
              "  <div id=\"df-578c9fc1-6a76-4f72-855e-e7632c6a85b0\">\n",
              "    <div class=\"colab-df-container\">\n",
              "      <div>\n",
              "<style scoped>\n",
              "    .dataframe tbody tr th:only-of-type {\n",
              "        vertical-align: middle;\n",
              "    }\n",
              "\n",
              "    .dataframe tbody tr th {\n",
              "        vertical-align: top;\n",
              "    }\n",
              "\n",
              "    .dataframe thead th {\n",
              "        text-align: right;\n",
              "    }\n",
              "</style>\n",
              "<table border=\"1\" class=\"dataframe\">\n",
              "  <thead>\n",
              "    <tr style=\"text-align: right;\">\n",
              "      <th></th>\n",
              "      <th>Sno</th>\n",
              "      <th>Date</th>\n",
              "      <th>Time</th>\n",
              "      <th>State/UnionTerritory</th>\n",
              "      <th>ConfirmedIndianNational</th>\n",
              "      <th>ConfirmedForeignNational</th>\n",
              "      <th>Cured</th>\n",
              "      <th>Deaths</th>\n",
              "      <th>Confirmed</th>\n",
              "    </tr>\n",
              "  </thead>\n",
              "  <tbody>\n",
              "    <tr>\n",
              "      <th>0</th>\n",
              "      <td>1</td>\n",
              "      <td>2020-01-30</td>\n",
              "      <td>6:00 PM</td>\n",
              "      <td>Kerala</td>\n",
              "      <td>1</td>\n",
              "      <td>0</td>\n",
              "      <td>0</td>\n",
              "      <td>0</td>\n",
              "      <td>1</td>\n",
              "    </tr>\n",
              "    <tr>\n",
              "      <th>1</th>\n",
              "      <td>2</td>\n",
              "      <td>2020-01-31</td>\n",
              "      <td>6:00 PM</td>\n",
              "      <td>Kerala</td>\n",
              "      <td>1</td>\n",
              "      <td>0</td>\n",
              "      <td>0</td>\n",
              "      <td>0</td>\n",
              "      <td>1</td>\n",
              "    </tr>\n",
              "    <tr>\n",
              "      <th>2</th>\n",
              "      <td>3</td>\n",
              "      <td>2020-02-01</td>\n",
              "      <td>6:00 PM</td>\n",
              "      <td>Kerala</td>\n",
              "      <td>2</td>\n",
              "      <td>0</td>\n",
              "      <td>0</td>\n",
              "      <td>0</td>\n",
              "      <td>2</td>\n",
              "    </tr>\n",
              "    <tr>\n",
              "      <th>3</th>\n",
              "      <td>4</td>\n",
              "      <td>2020-02-02</td>\n",
              "      <td>6:00 PM</td>\n",
              "      <td>Kerala</td>\n",
              "      <td>3</td>\n",
              "      <td>0</td>\n",
              "      <td>0</td>\n",
              "      <td>0</td>\n",
              "      <td>3</td>\n",
              "    </tr>\n",
              "    <tr>\n",
              "      <th>4</th>\n",
              "      <td>5</td>\n",
              "      <td>2020-02-03</td>\n",
              "      <td>6:00 PM</td>\n",
              "      <td>Kerala</td>\n",
              "      <td>3</td>\n",
              "      <td>0</td>\n",
              "      <td>0</td>\n",
              "      <td>0</td>\n",
              "      <td>3</td>\n",
              "    </tr>\n",
              "  </tbody>\n",
              "</table>\n",
              "</div>\n",
              "      <button class=\"colab-df-convert\" onclick=\"convertToInteractive('df-578c9fc1-6a76-4f72-855e-e7632c6a85b0')\"\n",
              "              title=\"Convert this dataframe to an interactive table.\"\n",
              "              style=\"display:none;\">\n",
              "        \n",
              "  <svg xmlns=\"http://www.w3.org/2000/svg\" height=\"24px\"viewBox=\"0 0 24 24\"\n",
              "       width=\"24px\">\n",
              "    <path d=\"M0 0h24v24H0V0z\" fill=\"none\"/>\n",
              "    <path d=\"M18.56 5.44l.94 2.06.94-2.06 2.06-.94-2.06-.94-.94-2.06-.94 2.06-2.06.94zm-11 1L8.5 8.5l.94-2.06 2.06-.94-2.06-.94L8.5 2.5l-.94 2.06-2.06.94zm10 10l.94 2.06.94-2.06 2.06-.94-2.06-.94-.94-2.06-.94 2.06-2.06.94z\"/><path d=\"M17.41 7.96l-1.37-1.37c-.4-.4-.92-.59-1.43-.59-.52 0-1.04.2-1.43.59L10.3 9.45l-7.72 7.72c-.78.78-.78 2.05 0 2.83L4 21.41c.39.39.9.59 1.41.59.51 0 1.02-.2 1.41-.59l7.78-7.78 2.81-2.81c.8-.78.8-2.07 0-2.86zM5.41 20L4 18.59l7.72-7.72 1.47 1.35L5.41 20z\"/>\n",
              "  </svg>\n",
              "      </button>\n",
              "      \n",
              "  <style>\n",
              "    .colab-df-container {\n",
              "      display:flex;\n",
              "      flex-wrap:wrap;\n",
              "      gap: 12px;\n",
              "    }\n",
              "\n",
              "    .colab-df-convert {\n",
              "      background-color: #E8F0FE;\n",
              "      border: none;\n",
              "      border-radius: 50%;\n",
              "      cursor: pointer;\n",
              "      display: none;\n",
              "      fill: #1967D2;\n",
              "      height: 32px;\n",
              "      padding: 0 0 0 0;\n",
              "      width: 32px;\n",
              "    }\n",
              "\n",
              "    .colab-df-convert:hover {\n",
              "      background-color: #E2EBFA;\n",
              "      box-shadow: 0px 1px 2px rgba(60, 64, 67, 0.3), 0px 1px 3px 1px rgba(60, 64, 67, 0.15);\n",
              "      fill: #174EA6;\n",
              "    }\n",
              "\n",
              "    [theme=dark] .colab-df-convert {\n",
              "      background-color: #3B4455;\n",
              "      fill: #D2E3FC;\n",
              "    }\n",
              "\n",
              "    [theme=dark] .colab-df-convert:hover {\n",
              "      background-color: #434B5C;\n",
              "      box-shadow: 0px 1px 3px 1px rgba(0, 0, 0, 0.15);\n",
              "      filter: drop-shadow(0px 1px 2px rgba(0, 0, 0, 0.3));\n",
              "      fill: #FFFFFF;\n",
              "    }\n",
              "  </style>\n",
              "\n",
              "      <script>\n",
              "        const buttonEl =\n",
              "          document.querySelector('#df-578c9fc1-6a76-4f72-855e-e7632c6a85b0 button.colab-df-convert');\n",
              "        buttonEl.style.display =\n",
              "          google.colab.kernel.accessAllowed ? 'block' : 'none';\n",
              "\n",
              "        async function convertToInteractive(key) {\n",
              "          const element = document.querySelector('#df-578c9fc1-6a76-4f72-855e-e7632c6a85b0');\n",
              "          const dataTable =\n",
              "            await google.colab.kernel.invokeFunction('convertToInteractive',\n",
              "                                                     [key], {});\n",
              "          if (!dataTable) return;\n",
              "\n",
              "          const docLinkHtml = 'Like what you see? Visit the ' +\n",
              "            '<a target=\"_blank\" href=https://colab.research.google.com/notebooks/data_table.ipynb>data table notebook</a>'\n",
              "            + ' to learn more about interactive tables.';\n",
              "          element.innerHTML = '';\n",
              "          dataTable['output_type'] = 'display_data';\n",
              "          await google.colab.output.renderOutput(dataTable, element);\n",
              "          const docLink = document.createElement('div');\n",
              "          docLink.innerHTML = docLinkHtml;\n",
              "          element.appendChild(docLink);\n",
              "        }\n",
              "      </script>\n",
              "    </div>\n",
              "  </div>\n",
              "  "
            ]
          },
          "metadata": {},
          "execution_count": 31
        }
      ]
    },
    {
      "cell_type": "code",
      "source": [
        "df['Date'] = pd.to_datetime(df['Date'])\n",
        "df.set_index('Date', inplace=True)\n",
        "df.head()"
      ],
      "metadata": {
        "colab": {
          "base_uri": "https://localhost:8080/",
          "height": 237
        },
        "id": "ckOYbzrOQY9D",
        "outputId": "954def5e-991d-4292-c0ba-deec40c12eea"
      },
      "execution_count": 32,
      "outputs": [
        {
          "output_type": "execute_result",
          "data": {
            "text/plain": [
              "            Sno     Time State/UnionTerritory ConfirmedIndianNational  \\\n",
              "Date                                                                    \n",
              "2020-01-30    1  6:00 PM               Kerala                       1   \n",
              "2020-01-31    2  6:00 PM               Kerala                       1   \n",
              "2020-02-01    3  6:00 PM               Kerala                       2   \n",
              "2020-02-02    4  6:00 PM               Kerala                       3   \n",
              "2020-02-03    5  6:00 PM               Kerala                       3   \n",
              "\n",
              "           ConfirmedForeignNational  Cured  Deaths  Confirmed  \n",
              "Date                                                           \n",
              "2020-01-30                        0      0       0          1  \n",
              "2020-01-31                        0      0       0          1  \n",
              "2020-02-01                        0      0       0          2  \n",
              "2020-02-02                        0      0       0          3  \n",
              "2020-02-03                        0      0       0          3  "
            ],
            "text/html": [
              "\n",
              "  <div id=\"df-09cf3794-2ca3-4e69-9a42-861ca2122cc0\">\n",
              "    <div class=\"colab-df-container\">\n",
              "      <div>\n",
              "<style scoped>\n",
              "    .dataframe tbody tr th:only-of-type {\n",
              "        vertical-align: middle;\n",
              "    }\n",
              "\n",
              "    .dataframe tbody tr th {\n",
              "        vertical-align: top;\n",
              "    }\n",
              "\n",
              "    .dataframe thead th {\n",
              "        text-align: right;\n",
              "    }\n",
              "</style>\n",
              "<table border=\"1\" class=\"dataframe\">\n",
              "  <thead>\n",
              "    <tr style=\"text-align: right;\">\n",
              "      <th></th>\n",
              "      <th>Sno</th>\n",
              "      <th>Time</th>\n",
              "      <th>State/UnionTerritory</th>\n",
              "      <th>ConfirmedIndianNational</th>\n",
              "      <th>ConfirmedForeignNational</th>\n",
              "      <th>Cured</th>\n",
              "      <th>Deaths</th>\n",
              "      <th>Confirmed</th>\n",
              "    </tr>\n",
              "    <tr>\n",
              "      <th>Date</th>\n",
              "      <th></th>\n",
              "      <th></th>\n",
              "      <th></th>\n",
              "      <th></th>\n",
              "      <th></th>\n",
              "      <th></th>\n",
              "      <th></th>\n",
              "      <th></th>\n",
              "    </tr>\n",
              "  </thead>\n",
              "  <tbody>\n",
              "    <tr>\n",
              "      <th>2020-01-30</th>\n",
              "      <td>1</td>\n",
              "      <td>6:00 PM</td>\n",
              "      <td>Kerala</td>\n",
              "      <td>1</td>\n",
              "      <td>0</td>\n",
              "      <td>0</td>\n",
              "      <td>0</td>\n",
              "      <td>1</td>\n",
              "    </tr>\n",
              "    <tr>\n",
              "      <th>2020-01-31</th>\n",
              "      <td>2</td>\n",
              "      <td>6:00 PM</td>\n",
              "      <td>Kerala</td>\n",
              "      <td>1</td>\n",
              "      <td>0</td>\n",
              "      <td>0</td>\n",
              "      <td>0</td>\n",
              "      <td>1</td>\n",
              "    </tr>\n",
              "    <tr>\n",
              "      <th>2020-02-01</th>\n",
              "      <td>3</td>\n",
              "      <td>6:00 PM</td>\n",
              "      <td>Kerala</td>\n",
              "      <td>2</td>\n",
              "      <td>0</td>\n",
              "      <td>0</td>\n",
              "      <td>0</td>\n",
              "      <td>2</td>\n",
              "    </tr>\n",
              "    <tr>\n",
              "      <th>2020-02-02</th>\n",
              "      <td>4</td>\n",
              "      <td>6:00 PM</td>\n",
              "      <td>Kerala</td>\n",
              "      <td>3</td>\n",
              "      <td>0</td>\n",
              "      <td>0</td>\n",
              "      <td>0</td>\n",
              "      <td>3</td>\n",
              "    </tr>\n",
              "    <tr>\n",
              "      <th>2020-02-03</th>\n",
              "      <td>5</td>\n",
              "      <td>6:00 PM</td>\n",
              "      <td>Kerala</td>\n",
              "      <td>3</td>\n",
              "      <td>0</td>\n",
              "      <td>0</td>\n",
              "      <td>0</td>\n",
              "      <td>3</td>\n",
              "    </tr>\n",
              "  </tbody>\n",
              "</table>\n",
              "</div>\n",
              "      <button class=\"colab-df-convert\" onclick=\"convertToInteractive('df-09cf3794-2ca3-4e69-9a42-861ca2122cc0')\"\n",
              "              title=\"Convert this dataframe to an interactive table.\"\n",
              "              style=\"display:none;\">\n",
              "        \n",
              "  <svg xmlns=\"http://www.w3.org/2000/svg\" height=\"24px\"viewBox=\"0 0 24 24\"\n",
              "       width=\"24px\">\n",
              "    <path d=\"M0 0h24v24H0V0z\" fill=\"none\"/>\n",
              "    <path d=\"M18.56 5.44l.94 2.06.94-2.06 2.06-.94-2.06-.94-.94-2.06-.94 2.06-2.06.94zm-11 1L8.5 8.5l.94-2.06 2.06-.94-2.06-.94L8.5 2.5l-.94 2.06-2.06.94zm10 10l.94 2.06.94-2.06 2.06-.94-2.06-.94-.94-2.06-.94 2.06-2.06.94z\"/><path d=\"M17.41 7.96l-1.37-1.37c-.4-.4-.92-.59-1.43-.59-.52 0-1.04.2-1.43.59L10.3 9.45l-7.72 7.72c-.78.78-.78 2.05 0 2.83L4 21.41c.39.39.9.59 1.41.59.51 0 1.02-.2 1.41-.59l7.78-7.78 2.81-2.81c.8-.78.8-2.07 0-2.86zM5.41 20L4 18.59l7.72-7.72 1.47 1.35L5.41 20z\"/>\n",
              "  </svg>\n",
              "      </button>\n",
              "      \n",
              "  <style>\n",
              "    .colab-df-container {\n",
              "      display:flex;\n",
              "      flex-wrap:wrap;\n",
              "      gap: 12px;\n",
              "    }\n",
              "\n",
              "    .colab-df-convert {\n",
              "      background-color: #E8F0FE;\n",
              "      border: none;\n",
              "      border-radius: 50%;\n",
              "      cursor: pointer;\n",
              "      display: none;\n",
              "      fill: #1967D2;\n",
              "      height: 32px;\n",
              "      padding: 0 0 0 0;\n",
              "      width: 32px;\n",
              "    }\n",
              "\n",
              "    .colab-df-convert:hover {\n",
              "      background-color: #E2EBFA;\n",
              "      box-shadow: 0px 1px 2px rgba(60, 64, 67, 0.3), 0px 1px 3px 1px rgba(60, 64, 67, 0.15);\n",
              "      fill: #174EA6;\n",
              "    }\n",
              "\n",
              "    [theme=dark] .colab-df-convert {\n",
              "      background-color: #3B4455;\n",
              "      fill: #D2E3FC;\n",
              "    }\n",
              "\n",
              "    [theme=dark] .colab-df-convert:hover {\n",
              "      background-color: #434B5C;\n",
              "      box-shadow: 0px 1px 3px 1px rgba(0, 0, 0, 0.15);\n",
              "      filter: drop-shadow(0px 1px 2px rgba(0, 0, 0, 0.3));\n",
              "      fill: #FFFFFF;\n",
              "    }\n",
              "  </style>\n",
              "\n",
              "      <script>\n",
              "        const buttonEl =\n",
              "          document.querySelector('#df-09cf3794-2ca3-4e69-9a42-861ca2122cc0 button.colab-df-convert');\n",
              "        buttonEl.style.display =\n",
              "          google.colab.kernel.accessAllowed ? 'block' : 'none';\n",
              "\n",
              "        async function convertToInteractive(key) {\n",
              "          const element = document.querySelector('#df-09cf3794-2ca3-4e69-9a42-861ca2122cc0');\n",
              "          const dataTable =\n",
              "            await google.colab.kernel.invokeFunction('convertToInteractive',\n",
              "                                                     [key], {});\n",
              "          if (!dataTable) return;\n",
              "\n",
              "          const docLinkHtml = 'Like what you see? Visit the ' +\n",
              "            '<a target=\"_blank\" href=https://colab.research.google.com/notebooks/data_table.ipynb>data table notebook</a>'\n",
              "            + ' to learn more about interactive tables.';\n",
              "          element.innerHTML = '';\n",
              "          dataTable['output_type'] = 'display_data';\n",
              "          await google.colab.output.renderOutput(dataTable, element);\n",
              "          const docLink = document.createElement('div');\n",
              "          docLink.innerHTML = docLinkHtml;\n",
              "          element.appendChild(docLink);\n",
              "        }\n",
              "      </script>\n",
              "    </div>\n",
              "  </div>\n",
              "  "
            ]
          },
          "metadata": {},
          "execution_count": 32
        }
      ]
    },
    {
      "cell_type": "code",
      "source": [
        "p = 1\n",
        "ar_model = AutoReg(df['Confirmed'],lags=p)\n",
        "ar_model_fit = ar_model.fit()"
      ],
      "metadata": {
        "colab": {
          "base_uri": "https://localhost:8080/"
        },
        "id": "LvXBh-XeQs4O",
        "outputId": "6bbe9169-e7e0-47aa-bd7e-6fcab547d70d"
      },
      "execution_count": 35,
      "outputs": [
        {
          "output_type": "stream",
          "name": "stderr",
          "text": [
            "/usr/local/lib/python3.10/dist-packages/statsmodels/tsa/base/tsa_model.py:471: ValueWarning: A date index has been provided, but it has no associated frequency information and so will be ignored when e.g. forecasting.\n",
            "  self._init_dates(dates, freq)\n"
          ]
        }
      ]
    },
    {
      "cell_type": "code",
      "source": [
        "print('Coefficients:', ar_model_fit.params)"
      ],
      "metadata": {
        "colab": {
          "base_uri": "https://localhost:8080/"
        },
        "id": "7oa85-VuRGsQ",
        "outputId": "0bf45140-bd1e-402b-a307-a9f532704cab"
      },
      "execution_count": 36,
      "outputs": [
        {
          "output_type": "stream",
          "name": "stdout",
          "text": [
            "Coefficients: const           261440.283074\n",
            "Confirmed.L1         0.131603\n",
            "dtype: float64\n"
          ]
        }
      ]
    },
    {
      "cell_type": "code",
      "source": [
        "predict = ar_model_fit.predict(start=p, end=len(df['Confirmed']) - 1)\n",
        "predict"
      ],
      "metadata": {
        "colab": {
          "base_uri": "https://localhost:8080/"
        },
        "id": "xAAy-nmHR_b6",
        "outputId": "3b532ccc-183a-42fd-8f40-e1594a9d3d56"
      },
      "execution_count": 38,
      "outputs": [
        {
          "output_type": "execute_result",
          "data": {
            "text/plain": [
              "Date\n",
              "2020-01-31   NaN\n",
              "2020-02-01   NaN\n",
              "2020-02-02   NaN\n",
              "2020-02-03   NaN\n",
              "2020-02-04   NaN\n",
              "              ..\n",
              "2021-08-11   NaN\n",
              "2021-08-11   NaN\n",
              "2021-08-11   NaN\n",
              "2021-08-11   NaN\n",
              "2021-08-11   NaN\n",
              "Length: 18109, dtype: float64"
            ]
          },
          "metadata": {},
          "execution_count": 38
        }
      ]
    },
    {
      "cell_type": "code",
      "source": [
        "import matplotlib.pyplot as pt\n",
        "pt.plot(df['Confirmed'], label='Original')\n",
        "pt.plot(predict, label='AR Model (p=1)')\n",
        "pt.title('AR Model')\n",
        "pt.xlabel('Date')\n",
        "pt.ylabel('Value')\n",
        "pt.legend()\n",
        "pt.show()"
      ],
      "metadata": {
        "colab": {
          "base_uri": "https://localhost:8080/",
          "height": 472
        },
        "id": "_ggzHp1hSFDG",
        "outputId": "55762b3c-d004-4d72-b090-b4fefc4e6fb8"
      },
      "execution_count": 40,
      "outputs": [
        {
          "output_type": "display_data",
          "data": {
            "text/plain": [
              "<Figure size 640x480 with 1 Axes>"
            ],
            "image/png": "[encoded data removed]"
          },
          "metadata": {}
        }
      ]
    },
    {
      "cell_type": "code",
      "source": [
        "# 2. MA(Moving Average)\n",
        "from statsmodels.tsa.statespace.sarimax import SARIMAX\n",
        "q=1\n",
        "ma_model = SARIMAX(df['Confirmed'], order=(0, 0, q))\n",
        "ma_model_fit = ma_model.fit()"
      ],
      "metadata": {
        "colab": {
          "base_uri": "https://localhost:8080/"
        },
        "id": "2Sekv7HrSZZG",
        "outputId": "a0b7f705-4fc2-4a96-eb8d-ace1e3d38d48"
      },
      "execution_count": 47,
      "outputs": [
        {
          "output_type": "stream",
          "name": "stderr",
          "text": [
            "/usr/local/lib/python3.10/dist-packages/statsmodels/tsa/base/tsa_model.py:471: ValueWarning: A date index has been provided, but it has no associated frequency information and so will be ignored when e.g. forecasting.\n",
            "  self._init_dates(dates, freq)\n",
            "/usr/local/lib/python3.10/dist-packages/statsmodels/tsa/base/tsa_model.py:471: ValueWarning: A date index has been provided, but it has no associated frequency information and so will be ignored when e.g. forecasting.\n",
            "  self._init_dates(dates, freq)\n"
          ]
        }
      ]
    },
    {
      "cell_type": "code",
      "source": [
        "import warnings\n",
        "warnings.filterwarnings('ignore')\n",
        "print(ma_model_fit.summary())\n",
        "predict = ma_model_fit.predict(start=q, end=len(df['Confirmed']) - 1)\n",
        "print(predict)"
      ],
      "metadata": {
        "colab": {
          "base_uri": "https://localhost:8080/"
        },
        "id": "8skgTO5mYFdb",
        "outputId": "753166de-5585-4baa-f54e-5a1eb4d059b6"
      },
      "execution_count": 49,
      "outputs": [
        {
          "output_type": "stream",
          "name": "stdout",
          "text": [
            "                               SARIMAX Results                                \n",
            "==============================================================================\n",
            "Dep. Variable:              Confirmed   No. Observations:                18110\n",
            "Model:               SARIMAX(0, 0, 1)   Log Likelihood             -269389.978\n",
            "Date:                Fri, 30 Jun 2023   AIC                         538783.956\n",
            "Time:                        13:01:41   BIC                         538799.565\n",
            "Sample:                             0   HQIC                        538789.088\n",
            "                              - 18110                                         \n",
            "Covariance Type:                  opg                                         \n",
            "==============================================================================\n",
            "                 coef    std err          z      P>|z|      [0.025      0.975]\n",
            "------------------------------------------------------------------------------\n",
            "ma.L1          0.2326      0.005     50.328      0.000       0.224       0.242\n",
            "sigma2      4.949e+11   6.25e-15   7.92e+25      0.000    4.95e+11    4.95e+11\n",
            "===================================================================================\n",
            "Ljung-Box (L1) (Q):                 190.82   Jarque-Bera (JB):            720557.32\n",
            "Prob(Q):                              0.00   Prob(JB):                         0.00\n",
            "Heteroskedasticity (H):             205.04   Skew:                             4.44\n",
            "Prob(H) (two-sided):                  0.00   Kurtosis:                        32.60\n",
            "===================================================================================\n",
            "\n",
            "Warnings:\n",
            "[1] Covariance matrix calculated using the outer product of gradients (complex-step).\n",
            "[2] Covariance matrix is singular or near-singular, with condition number    inf. Standard errors may be unstable.\n",
            "Date\n",
            "2020-01-31         0.220700\n",
            "2020-02-01         0.180798\n",
            "2020-02-02         0.423166\n",
            "2020-02-03         0.599484\n",
            "2020-02-04         0.558469\n",
            "                  ...      \n",
            "2021-08-11    608688.750459\n",
            "2021-08-11      9693.006327\n",
            "2021-08-11     16510.162220\n",
            "2021-08-11     75831.276472\n",
            "2021-08-11    379905.858370\n",
            "Name: predicted_mean, Length: 18109, dtype: float64\n"
          ]
        }
      ]
    },
    {
      "cell_type": "code",
      "source": [
        "pt.plot(df['Confirmed'], label='Original')\n",
        "pt.plot(predict, label='MA Model (q=1)')\n",
        "pt.title('MA Model')\n",
        "pt.xlabel('Date')\n",
        "pt.ylabel('Value')\n",
        "pt.legend()\n",
        "pt.show()"
      ],
      "metadata": {
        "colab": {
          "base_uri": "https://localhost:8080/",
          "height": 472
        },
        "id": "4T_iKa5RZKIq",
        "outputId": "9fcdfd28-896f-44a7-e156-58e5930d98e8"
      },
      "execution_count": 51,
      "outputs": [
        {
          "output_type": "display_data",
          "data": {
            "text/plain": [
              "<Figure size 640x480 with 1 Axes>"
            ],
            "image/png": "[encoded data removed]"
          },
          "metadata": {}
        }
      ]
    },
    {
      "cell_type": "code",
      "source": [],
      "metadata": {
        "id": "ok4Ep2Z4ZmZU"
      },
      "execution_count": null,
      "outputs": []
    },
    {
      "cell_type": "code",
      "source": [
        "# 3. ARMA(Autoregressive Moving Average)\n",
        "from statsmodels.tsa.statespace.sarimax import SARIMAX\n",
        "x = df['Confirmed']\n",
        "p=1\n",
        "q=1\n",
        "arma_model = SARIMAX(x, order=(p, 0, q))\n",
        "arma_model_fit = arma_model.fit()"
      ],
      "metadata": {
        "id": "o3CgwLBBZ25V"
      },
      "execution_count": 57,
      "outputs": []
    },
    {
      "cell_type": "code",
      "source": [
        "arma_model_fit"
      ],
      "metadata": {
        "colab": {
          "base_uri": "https://localhost:8080/"
        },
        "id": "DC9U9MHVZ29H",
        "outputId": "354c91f2-2886-4eb2-acd9-1ace7507d263"
      },
      "execution_count": 58,
      "outputs": [
        {
          "output_type": "execute_result",
          "data": {
            "text/plain": [
              "<statsmodels.tsa.statespace.sarimax.SARIMAXResultsWrapper at 0x7f40e953d960>"
            ]
          },
          "metadata": {},
          "execution_count": 58
        }
      ]
    },
    {
      "cell_type": "code",
      "source": [
        "print(arma_model_fit.summary())\n",
        "predict = arma_model_fit.predict()\n",
        "predict"
      ],
      "metadata": {
        "colab": {
          "base_uri": "https://localhost:8080/"
        },
        "id": "cIHAj1NqZ3Ar",
        "outputId": "ade9baf6-ab4c-445a-f9c0-231a8c8e91fb"
      },
      "execution_count": 59,
      "outputs": [
        {
          "output_type": "stream",
          "name": "stdout",
          "text": [
            "                               SARIMAX Results                                \n",
            "==============================================================================\n",
            "Dep. Variable:              Confirmed   No. Observations:                18110\n",
            "Model:               SARIMAX(1, 0, 1)   Log Likelihood             -266784.112\n",
            "Date:                Fri, 30 Jun 2023   AIC                         533574.225\n",
            "Time:                        13:13:28   BIC                         533597.637\n",
            "Sample:                             0   HQIC                        533581.921\n",
            "                              - 18110                                         \n",
            "Covariance Type:                  opg                                         \n",
            "==============================================================================\n",
            "                 coef    std err          z      P>|z|      [0.025      0.975]\n",
            "------------------------------------------------------------------------------\n",
            "ar.L1          1.0000   4.55e-05    2.2e+04      0.000       1.000       1.000\n",
            "ma.L1         -0.9965      0.001  -1202.702      0.000      -0.998      -0.995\n",
            "sigma2      4.682e+11   3.05e-17   1.54e+28      0.000    4.68e+11    4.68e+11\n",
            "===================================================================================\n",
            "Ljung-Box (L1) (Q):                  78.13   Jarque-Bera (JB):            874317.22\n",
            "Prob(Q):                              0.00   Prob(JB):                         0.00\n",
            "Heteroskedasticity (H):             200.07   Skew:                             4.57\n",
            "Prob(H) (two-sided):                  0.00   Kurtosis:                        35.79\n",
            "===================================================================================\n",
            "\n",
            "Warnings:\n",
            "[1] Covariance matrix calculated using the outer product of gradients (complex-step).\n",
            "[2] Covariance matrix is singular or near-singular, with condition number 4.82e+42. Standard errors may be unstable.\n"
          ]
        },
        {
          "output_type": "execute_result",
          "data": {
            "text/plain": [
              "Date\n",
              "2020-01-30         0.000000\n",
              "2020-01-31         0.160254\n",
              "2020-02-01         0.276235\n",
              "2020-02-02         0.485423\n",
              "2020-02-03         0.757559\n",
              "                  ...      \n",
              "2021-08-11    877801.275336\n",
              "2021-08-11    876991.571368\n",
              "2021-08-11    874226.172227\n",
              "2021-08-11    872370.396816\n",
              "2021-08-11    875218.331134\n",
              "Name: predicted_mean, Length: 18110, dtype: float64"
            ]
          },
          "metadata": {},
          "execution_count": 59
        }
      ]
    },
    {
      "cell_type": "code",
      "source": [
        "pt.plot(x, label='Original')\n",
        "pt.plot(predict, label='ARMA Model (p=1, q=1)')\n",
        "pt.title('ARMA Model')\n",
        "pt.xlabel('Time')\n",
        "pt.ylabel('Value')\n",
        "pt.legend()\n",
        "pt.show()"
      ],
      "metadata": {
        "colab": {
          "base_uri": "https://localhost:8080/",
          "height": 472
        },
        "id": "C5c3Ar5GZ3Dm",
        "outputId": "8a81e923-7927-4865-8958-4804dd798d78"
      },
      "execution_count": 60,
      "outputs": [
        {
          "output_type": "display_data",
          "data": {
            "text/plain": [
              "<Figure size 640x480 with 1 Axes>"
            ],
            "image/png": "[encoded data removed]"
          },
          "metadata": {}
        }
      ]
    },
    {
      "cell_type": "code",
      "source": [],
      "metadata": {
        "id": "3gisn1x8cNf7"
      },
      "execution_count": null,
      "outputs": []
    },
    {
      "cell_type": "code",
      "source": [
        "# 4. ARIMA(Autoregressive Integrate Moving Averages)\n",
        "from statsmodels.tsa.arima.model import ARIMA\n",
        "p=1\n",
        "d=1\n",
        "q=1\n",
        "arima_model = ARIMA(x, order=(p, d, q))\n",
        "arima_model_fit = arima_model.fit()\n"
      ],
      "metadata": {
        "id": "Nwuec4GgcT8W"
      },
      "execution_count": 62,
      "outputs": []
    },
    {
      "cell_type": "code",
      "source": [
        "print(arima_model_fit.summary())\n",
        "predict = arima_model_fit.predict()\n",
        "predict"
      ],
      "metadata": {
        "colab": {
          "base_uri": "https://localhost:8080/"
        },
        "id": "xtblHW8mcUGW",
        "outputId": "b70392cf-6b59-4d5b-9f49-e058bfc0eb52"
      },
      "execution_count": 64,
      "outputs": [
        {
          "output_type": "stream",
          "name": "stdout",
          "text": [
            "                               SARIMAX Results                                \n",
            "==============================================================================\n",
            "Dep. Variable:              Confirmed   No. Observations:                18110\n",
            "Model:                 ARIMA(1, 1, 1)   Log Likelihood             -266610.649\n",
            "Date:                Fri, 30 Jun 2023   AIC                         533227.299\n",
            "Time:                        13:17:58   BIC                         533250.711\n",
            "Sample:                             0   HQIC                        533234.996\n",
            "                              - 18110                                         \n",
            "Covariance Type:                  opg                                         \n",
            "==============================================================================\n",
            "                 coef    std err          z      P>|z|      [0.025      0.975]\n",
            "------------------------------------------------------------------------------\n",
            "ar.L1         -0.0651      0.008     -8.270      0.000      -0.081      -0.050\n",
            "ma.L1         -0.9966      0.001  -1944.028      0.000      -0.998      -0.996\n",
            "sigma2      4.399e+11   1.26e-15    3.5e+26      0.000     4.4e+11     4.4e+11\n",
            "===================================================================================\n",
            "Ljung-Box (L1) (Q):                   4.14   Jarque-Bera (JB):            890166.06\n",
            "Prob(Q):                              0.04   Prob(JB):                         0.00\n",
            "Heteroskedasticity (H):             202.18   Skew:                             4.61\n",
            "Prob(H) (two-sided):                  0.00   Kurtosis:                        36.09\n",
            "===================================================================================\n",
            "\n",
            "Warnings:\n",
            "[1] Covariance matrix calculated using the outer product of gradients (complex-step).\n",
            "[2] Covariance matrix is singular or near-singular, with condition number 1.77e+41. Standard errors may be unstable.\n"
          ]
        },
        {
          "output_type": "execute_result",
          "data": {
            "text/plain": [
              "Date\n",
              "2020-01-30         0.000000\n",
              "2020-01-31         0.467429\n",
              "2020-02-01         0.652502\n",
              "2020-02-02         0.934868\n",
              "2020-02-03         1.293132\n",
              "                  ...      \n",
              "2021-08-11    775021.009460\n",
              "2021-08-11    900252.063162\n",
              "2021-08-11    934557.474799\n",
              "2021-08-11    915471.476099\n",
              "2021-08-11    829174.440358\n",
              "Name: predicted_mean, Length: 18110, dtype: float64"
            ]
          },
          "metadata": {},
          "execution_count": 64
        }
      ]
    },
    {
      "cell_type": "code",
      "source": [
        "pt.plot(x, label='Original')\n",
        "pt.plot(predict, label='ARIMA Model (p=1, d=1, q=1)')\n",
        "pt.title('ARIMA Model')\n",
        "pt.xlabel('Date')\n",
        "pt.ylabel('Value')\n",
        "pt.legend()\n",
        "pt.show()"
      ],
      "metadata": {
        "colab": {
          "base_uri": "https://localhost:8080/",
          "height": 472
        },
        "id": "Qm9iQKZ2c-sc",
        "outputId": "1eb5b40f-6350-431f-b2b4-fcafe2a2ac0a"
      },
      "execution_count": 66,
      "outputs": [
        {
          "output_type": "display_data",
          "data": {
            "text/plain": [
              "<Figure size 640x480 with 1 Axes>"
            ],
            "image/png": "[encoded data removed]"
          },
          "metadata": {}
        }
      ]
    },
    {
      "cell_type": "code",
      "source": [],
      "metadata": {
        "id": "VXICqRHqdHMD"
      },
      "execution_count": null,
      "outputs": []
    },
    {
      "cell_type": "code",
      "source": [],
      "metadata": {
        "id": "TtC9CjXOdQzI"
      },
      "execution_count": null,
      "outputs": []
    },
    {
      "cell_type": "code",
      "source": [],
      "metadata": {
        "id": "_tOZm2AKdQ2J"
      },
      "execution_count": null,
      "outputs": []
    },
    {
      "cell_type": "code",
      "source": [],
      "metadata": {
        "id": "7D9asBMwdQ5T"
      },
      "execution_count": null,
      "outputs": []
    }
  ]
}
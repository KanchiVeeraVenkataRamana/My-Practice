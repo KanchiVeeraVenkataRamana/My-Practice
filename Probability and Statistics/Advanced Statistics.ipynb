{
 "cells": [
  {
   "cell_type": "markdown",
   "id": "053ff9bd",
   "metadata": {},
   "source": [
    "# ADVANCED STATISTICS"
   ]
  },
  {
   "cell_type": "raw",
   "id": "e3d84926",
   "metadata": {},
   "source": [
    "#confidence interval\n",
    "st.t.interval(alpha,length,loc,scale)\n",
    "where:\n",
    "    alpha: probability that an RV will be drawn from the returned range\n",
    "    length: length of the data set\n",
    "    loc: location parameter\n",
    "    scale: scale parameter\n",
    "        "
   ]
  },
  {
   "cell_type": "code",
   "execution_count": 2,
   "id": "cd58c3b3",
   "metadata": {},
   "outputs": [
    {
     "data": {
      "text/plain": [
       "(3.5812881336215105, 10.218711866378488)"
      ]
     },
     "execution_count": 2,
     "metadata": {},
     "output_type": "execute_result"
    }
   ],
   "source": [
    "#confidence Interval\n",
    "import numpy as np\n",
    "import scipy.stats as st\n",
    "data=[1,1,2,3,4,5,3,5,3,6,3,7,9,33,4,5,1,5,29,9]\n",
    "st.t.interval(alpha=0.90,df=len(data)-1,loc=np.mean(data),scale=st.sem(data))"
   ]
  },
  {
   "cell_type": "code",
   "execution_count": 6,
   "id": "f1e58d25",
   "metadata": {},
   "outputs": [
    {
     "data": {
      "text/plain": [
       "(6.739204827651076, 7.200795172348924)"
      ]
     },
     "execution_count": 6,
     "metadata": {},
     "output_type": "execute_result"
    }
   ],
   "source": [
    "#confidence Interval at normal distribution\n",
    "import numpy as np\n",
    "import scipy.stats as st\n",
    "#data=[1,1,2,3,4,5,3,5,3,6,3,7,9,33,4,5,1,5,29,9]\n",
    "#st.t.interval(alpha=0.90,df=len(data)-1,loc=np.mean(data),scale=st.sem(data))\n",
    "data=np.random.randint(5,10,100)\n",
    "st.norm.interval(alpha=0.90,loc=np.mean(data),scale=st.sem(data))"
   ]
  },
  {
   "cell_type": "code",
   "execution_count": 11,
   "id": "5a5f4530",
   "metadata": {},
   "outputs": [
    {
     "data": {
      "image/png": "[encoded data removed]",
      "text/plain": [
       "<Figure size 576x576 with 4 Axes>"
      ]
     },
     "metadata": {
      "needs_background": "light"
     },
     "output_type": "display_data"
    }
   ],
   "source": [
    "#center limit theoream\n",
    "import numpy as np\n",
    "import matplotlib.pyplot as pt\n",
    "num=[1,10,50,100]\n",
    "means=[]\n",
    "for j in num:\n",
    "    np.random.seed(1)\n",
    "    x=[np.mean(np.random.randint(-40,40,j)) for i in range(1000)] \n",
    "    means.append(x)\n",
    "    k=0\n",
    "fig,ax=pt.subplots(2,2,figsize=(8,8))\n",
    "for i in range(0,2):\n",
    "    for j in range(0,2):\n",
    "        ax[i,j].hist(means[k],10,density=True)\n",
    "        ax[i,j].set_title(label=num[k])\n",
    "        k=k+1\n",
    "pt.show()"
   ]
  },
  {
   "cell_type": "code",
   "execution_count": 25,
   "id": "8f14d8e2",
   "metadata": {},
   "outputs": [
    {
     "name": "stdout",
     "output_type": "stream",
     "text": [
      "146.68603958975208\n"
     ]
    }
   ],
   "source": [
    "#standard error\n",
    "from scipy.stats import sem\n",
    "#import scipy.stats as sem\n",
    "data=[3,2,55,4,29,49,299,393,20,302,49,50,2994,204,20,492,103,299,402,29]\n",
    "print(sem(data))"
   ]
  },
  {
   "cell_type": "code",
   "execution_count": 27,
   "id": "b86760e2",
   "metadata": {},
   "outputs": [
    {
     "name": "stdout",
     "output_type": "stream",
     "text": [
      "[20 22 24 26 28 30 32 34 36 38]\n"
     ]
    },
    {
     "data": {
      "text/plain": [
       "1.9148542155126762"
      ]
     },
     "execution_count": 27,
     "metadata": {},
     "output_type": "execute_result"
    }
   ],
   "source": [
    "import numpy as np\n",
    "data=np.arange(20,40,2)\n",
    "print(data)\n",
    "np.std(data,ddof=1)/np.sqrt(np.size(data))"
   ]
  },
  {
   "cell_type": "code",
   "execution_count": 28,
   "id": "470a8033",
   "metadata": {},
   "outputs": [
    {
     "data": {
      "text/plain": [
       "0.3233906798700002"
      ]
     },
     "execution_count": 28,
     "metadata": {},
     "output_type": "execute_result"
    }
   ],
   "source": [
    "#p-value\n",
    "#one tailed test\n",
    "import scipy.stats as st\n",
    "st.t.sf(abs(-.47),df=12)"
   ]
  },
  {
   "cell_type": "code",
   "execution_count": 30,
   "id": "f08a6b66",
   "metadata": {},
   "outputs": [
    {
     "data": {
      "text/plain": [
       "0.036865328383323424"
      ]
     },
     "execution_count": 30,
     "metadata": {},
     "output_type": "execute_result"
    }
   ],
   "source": [
    "#right_tailes test\n",
    "import scipy.stats as st\n",
    "st.t.sf(abs(1.87),df=24)"
   ]
  },
  {
   "cell_type": "code",
   "execution_count": 31,
   "id": "9eadf76c",
   "metadata": {},
   "outputs": [
    {
     "data": {
      "text/plain": [
       "0.18304931466593782"
      ]
     },
     "execution_count": 31,
     "metadata": {},
     "output_type": "execute_result"
    }
   ],
   "source": [
    "#two tailed test\n",
    "import scipy.stats as st\n",
    "st.t.sf(abs(1.36),df=33)*2"
   ]
  },
  {
   "cell_type": "code",
   "execution_count": null,
   "id": "8a331efe",
   "metadata": {},
   "outputs": [],
   "source": []
  },
  {
   "cell_type": "code",
   "execution_count": 34,
   "id": "0f1f6cde",
   "metadata": {},
   "outputs": [
    {
     "data": {
      "text/plain": [
       "(-6.167179251545867, 6.951893640280303e-10)"
      ]
     },
     "execution_count": 34,
     "metadata": {},
     "output_type": "execute_result"
    }
   ],
   "source": [
    "#one sample mean\n",
    "from statsmodels.stats.weightstats import ztest\n",
    "pre=[30,31,34,40,36,35,34,30,28,29]\n",
    "ztest(pre,value=40)"
   ]
  },
  {
   "cell_type": "code",
   "execution_count": 25,
   "id": "b5bc0fce",
   "metadata": {},
   "outputs": [
    {
     "data": {
      "text/plain": [
       "(0.9580156390269369, 0.33805487256191535)"
      ]
     },
     "execution_count": 25,
     "metadata": {},
     "output_type": "execute_result"
    }
   ],
   "source": [
    "#two sample mean\n",
    "#import statsmodels.stats.weightstats as ztest\n",
    "from statsmodels.stats.weightstats import ztest\n",
    "pre=[30,31,34,40,36,35,34,30,28,29]\n",
    "post=[30,31,32,38,32,31,32,29,28,30]\n",
    "ztest(pre,post,value=0)"
   ]
  },
  {
   "cell_type": "code",
   "execution_count": 35,
   "id": "66a8d481",
   "metadata": {},
   "outputs": [
    {
     "name": "stdout",
     "output_type": "stream",
     "text": [
      "1.4999999999999984\n"
     ]
    }
   ],
   "source": [
    "#one propostional z_test using numpy\n",
    "import math as mt\n",
    "P=0.86\n",
    "Po=0.80\n",
    "n=100\n",
    "a=(P-Po)\n",
    "b=Po*(1-Po)/n\n",
    "z=a/mt.sqrt(b)\n",
    "print(z)"
   ]
  },
  {
   "cell_type": "code",
   "execution_count": 41,
   "id": "f5aa0b37",
   "metadata": {},
   "outputs": [
    {
     "data": {
      "text/plain": [
       "(-0.8164965809277268, 0.41421617824252466)"
      ]
     },
     "execution_count": 41,
     "metadata": {},
     "output_type": "execute_result"
    }
   ],
   "source": [
    "from statsmodels.stats.proportion import proportions_ztest\n",
    "proportions_ztest(count=60,nobs=100,value=0.64)"
   ]
  },
  {
   "cell_type": "code",
   "execution_count": 49,
   "id": "23f61ba8",
   "metadata": {},
   "outputs": [
    {
     "name": "stdout",
     "output_type": "stream",
     "text": [
      "Z_test= -4.2237 P_value= 2.403330142685068e-05\n"
     ]
    }
   ],
   "source": [
    "#two proportional z_test\n",
    "import numpy as np\n",
    "from statsmodels.stats.proportion import proportions_ztest\n",
    "a=np.array([812,1021])\n",
    "b=np.array([812+238,1021+190])\n",
    "z_test,p_value=proportions_ztest(count=a,nobs=b,alternative='two-sided')\n",
    "print(\"Z_test=\",round(z_test,4),\"P_value=\",p_value)"
   ]
  },
  {
   "cell_type": "code",
   "execution_count": 3,
   "id": "9dd87373",
   "metadata": {},
   "outputs": [
    {
     "name": "stdout",
     "output_type": "stream",
     "text": [
      "mean==20.09 stdv=7.69\n",
      "Z_test= 50 p_value= 8.5\n"
     ]
    }
   ],
   "source": [
    "#Z_TEST\n",
    "import math \n",
    "import numpy as np\n",
    "from numpy.random import randn\n",
    "from statsmodels.stats.weightstats import ztest\n",
    "sample=20\n",
    "mean=50\n",
    "alpha=0.05\n",
    "standard=8.5\n",
    "data=standard*randn(20)+sample\n",
    "print('mean==%.2f stdv=%.2f' % (np.mean(data),np.std(data)))\n",
    "print(\"Z_test=\",mean,\"p_value=\",standard)"
   ]
  },
  {
   "cell_type": "code",
   "execution_count": 4,
   "id": "d3546ac6",
   "metadata": {},
   "outputs": [
    {
     "name": "stdout",
     "output_type": "stream",
     "text": [
      "mean==14.12 stdv=0.00\n",
      "Z_test= 50 p_value= 8.5\n"
     ]
    }
   ],
   "source": [
    "import math \n",
    "import numpy as np\n",
    "from numpy.random import randn\n",
    "from statsmodels.stats.weightstats import ztest\n",
    "sample=20\n",
    "mean=50\n",
    "alpha=0.05\n",
    "standard=8.5\n",
    "data=sample-mean/standard\n",
    "print('mean==%.2f stdv=%.2f' % (np.mean(data),np.std(data)))\n",
    "print(\"Z_test=\",mean,\"p_value=\",standard)"
   ]
  },
  {
   "cell_type": "code",
   "execution_count": 7,
   "id": "5d8c4958",
   "metadata": {},
   "outputs": [
    {
     "name": "stdout",
     "output_type": "stream",
     "text": [
      "Z_test= 3.541538575139955 P_value= 0.0041\n"
     ]
    }
   ],
   "source": [
    "#one sample test \n",
    "import scipy.stats as stats\n",
    "import pandas as pd\n",
    "Age_Google_India=[20,43,29,33,27,45,37,33,29,22,23,41,32]\n",
    "z_statistic,p_value=stats.ttest_1samp(a=Age_Google_India,popmean=24)\n",
    "print(\"Z_test=\",z_statistic,\"P_value=\",round(p_value,4))"
   ]
  },
  {
   "cell_type": "code",
   "execution_count": 50,
   "id": "ce6a1dfd",
   "metadata": {},
   "outputs": [
    {
     "name": "stdout",
     "output_type": "stream",
     "text": [
      "T_test= 8.22 P_value= 0.0\n"
     ]
    }
   ],
   "source": [
    "import scipy.stats as stats\n",
    "import pandas as pd\n",
    "data=[20,19,30,49,30,20,30,40,39,30,49,39,47,30,37,28,50]\n",
    "t_statistic,p_value=stats.ttest_1samp(data,popmean=14)\n",
    "print('T_test=',round(t_statistic,2),'P_value=',round(p_value,2))"
   ]
  },
  {
   "cell_type": "code",
   "execution_count": 8,
   "id": "589d26bf",
   "metadata": {},
   "outputs": [
    {
     "name": "stdout",
     "output_type": "stream",
     "text": [
      "\n",
      "Z_test= -1.13 p_value= 0.266\n"
     ]
    }
   ],
   "source": [
    "#two sample mean\n",
    "import numpy as np\n",
    "import scipy.stats as stats\n",
    "data1=np.array([14,15,15,16,13,8,14,17,16,1,19,20,21,15,158,16,16,13,14,12])\n",
    "data2=np.array([28,39,29,40,10,4,20,10,30,9,30,23,23,48,399,30,20,29,29,39])\n",
    "#print(data1)\n",
    "#print(data2)\n",
    "print()\n",
    "z_statistic,p_value=stats.ttest_ind(a=data1,b=data2,equal_var=True)\n",
    "print('Z_test=',round(z_statistic,3),'p_value=',round(p_value,3))"
   ]
  },
  {
   "cell_type": "code",
   "execution_count": 9,
   "id": "e0936d9b",
   "metadata": {},
   "outputs": [
    {
     "name": "stdout",
     "output_type": "stream",
     "text": [
      "z_test= 2.585 p_value= 0.029\n"
     ]
    }
   ],
   "source": [
    "#propositional sample mean\n",
    "import scipy.stats as stats\n",
    "pre=[30,31,34,40,36,35,34,30,28,29]\n",
    "post=[30,31,32,38,32,31,32,29,28,30]\n",
    "z_sta,p_value=stats.ttest_rel(pre,post)\n",
    "print('z_test=',round(z_sta,3),'p_value=',round(p_value,3))"
   ]
  },
  {
   "cell_type": "code",
   "execution_count": 16,
   "id": "e2e343a9",
   "metadata": {},
   "outputs": [
    {
     "data": {
      "text/plain": [
       "(0.9580156390269369, 0.33805487256191535)"
      ]
     },
     "execution_count": 16,
     "metadata": {},
     "output_type": "execute_result"
    }
   ],
   "source": [
    "\n",
    "#import math \n",
    "#import numpy as np\n",
    "#from numpy.random import randn\n",
    "from statsmodels.stats.weightstats import ztest as ztest\n",
    "pre=[30,31,34,40,36,35,34,30,28,29]\n",
    "post=[30,31,32,38,32,31,32,29,28,30]\n",
    "ztest(pre,post,value=0)"
   ]
  },
  {
   "cell_type": "code",
   "execution_count": 51,
   "id": "7a9e423e",
   "metadata": {},
   "outputs": [],
   "source": [
    "#t-test\n",
    "g1=np.array([14,15,15,16,13,8,14,17,16,14,19,20,21,15,15,16,16,13,14,12])\n",
    "g2=np.array([15,17,14,17,14,8,12,19,19,17,22,24,16,13,16,13,18,18,15,13])"
   ]
  },
  {
   "cell_type": "code",
   "execution_count": 57,
   "id": "eea54245",
   "metadata": {},
   "outputs": [
    {
     "name": "stdout",
     "output_type": "stream",
     "text": [
      "T_test= -6.037 P_value= 8.302460899806943e-06\n"
     ]
    }
   ],
   "source": [
    "#one sample t-test\n",
    "import scipy.stats as stats\n",
    "t_test,p_value=stats.ttest_1samp(a=g1,popmean=19)\n",
    "print(\"T_test=\",round(t_test,4),\"P_value=\",p_value)"
   ]
  },
  {
   "cell_type": "code",
   "execution_count": 60,
   "id": "e9101c47",
   "metadata": {},
   "outputs": [
    {
     "name": "stdout",
     "output_type": "stream",
     "text": [
      "T_test= -0.828 P_value= 0.413\n"
     ]
    }
   ],
   "source": [
    "#two sample t_test\n",
    "import scipy.stats as stats\n",
    "t_test,p_value=stats.ttest_ind(a=g1,b=g2,equal_var=True)\n",
    "print('T_test=',round(t_test,3),'P_value=',round(p_value,3))"
   ]
  },
  {
   "cell_type": "code",
   "execution_count": 61,
   "id": "3f2dc03c",
   "metadata": {},
   "outputs": [
    {
     "name": "stdout",
     "output_type": "stream",
     "text": [
      "T_test= -1.548 P_value= 0.138\n"
     ]
    }
   ],
   "source": [
    "#paired t_test\n",
    "import scipy.stats as stats\n",
    "t_test,p_value=stats.ttest_rel(g1,g2)\n",
    "print('T_test=',round(t_test,3),'P_value=',round(p_value,3))"
   ]
  },
  {
   "cell_type": "code",
   "execution_count": 62,
   "id": "90b3f0f2",
   "metadata": {},
   "outputs": [
    {
     "data": {
      "image/png": "[encoded data removed]",
      "text/plain": [
       "<Figure size 432x288 with 1 Axes>"
      ]
     },
     "metadata": {
      "needs_background": "light"
     },
     "output_type": "display_data"
    }
   ],
   "source": [
    "#chi-squared testing using numpy\n",
    "import numpy as np\n",
    "import matplotlib.pyplot as pt\n",
    "a=np.random.chisquare(3,1000)\n",
    "count,bins,ignored=pt.hist(a,14,density=True)\n",
    "pt.show()"
   ]
  },
  {
   "cell_type": "code",
   "execution_count": 63,
   "id": "75f99b8e",
   "metadata": {},
   "outputs": [
    {
     "data": {
      "image/png": "[encoded data removed]",
      "text/plain": [
       "<Figure size 432x288 with 1 Axes>"
      ]
     },
     "metadata": {
      "needs_background": "light"
     },
     "output_type": "display_data"
    }
   ],
   "source": [
    "#chi-squared testing using numpy\n",
    "import numpy as np\n",
    "import matplotlib.pyplot as pt\n",
    "a=np.random.chisquare(3,1000)\n",
    "count,bins,ignored=pt.hist(a,30,density=True)\n",
    "pt.show()"
   ]
  },
  {
   "cell_type": "code",
   "execution_count": 67,
   "id": "e6e7e036",
   "metadata": {},
   "outputs": [
    {
     "name": "stdout",
     "output_type": "stream",
     "text": [
      "chi_test= 2.0 p_value= 0.849\n"
     ]
    }
   ],
   "source": [
    "#chi-square fit test\n",
    "from scipy.stats import chisquare\n",
    "chi_test,p_value=chisquare([16,18,16,14,12,12])\n",
    "print('chi_test=',round(chi_test,2),'p_value=',round(p_value,3))"
   ]
  },
  {
   "cell_type": "code",
   "execution_count": 74,
   "id": "2b356c9c",
   "metadata": {},
   "outputs": [
    {
     "data": {
      "text/plain": [
       "(0.8640353908896108,\n",
       " 0.6491978887380976,\n",
       " 2,\n",
       " array([[115. ,  92.5,  42.5],\n",
       "        [115. ,  92.5,  42.5]]))"
      ]
     },
     "execution_count": 74,
     "metadata": {},
     "output_type": "execute_result"
    }
   ],
   "source": [
    "#chi_square test of independence\n",
    "data=[[120,90,40],[110,95,45]]\n",
    "import scipy.stats as stats\n",
    "stats.chi2_contingency(data)"
   ]
  },
  {
   "cell_type": "code",
   "execution_count": 76,
   "id": "44549b83",
   "metadata": {},
   "outputs": [
    {
     "name": "stdout",
     "output_type": "stream",
     "text": [
      "F_value= 3.488 P_value= 0.0502\n"
     ]
    }
   ],
   "source": [
    "#one way anova\n",
    "from scipy.stats import f_oneway\n",
    "p1=[34,29,49,30,20,48,20,39]\n",
    "p2=[30,49,30,49,30,84,28.93]\n",
    "p3=[48,83,28,58,68,90,62,28]\n",
    "f_value,p_value=f_oneway(p1,p2,p3)\n",
    "print('F_value=',round(f_value,3),'P_value=',round(p_value,4))"
   ]
  },
  {
   "cell_type": "code",
   "execution_count": 1,
   "id": "d4467ddc",
   "metadata": {},
   "outputs": [
    {
     "ename": "SyntaxError",
     "evalue": "invalid syntax (2170618287.py, line 6)",
     "output_type": "error",
     "traceback": [
      "\u001b[1;36m  Input \u001b[1;32mIn [1]\u001b[1;36m\u001b[0m\n\u001b[1;33m    'Height': [6,6,6,5,6,5,5,6,4,5,6,6,7,8,7,3,4,4,4,5,4,4,4,4,4,5,6,6,7,8]})\u001b[0m\n\u001b[1;37m            ^\u001b[0m\n\u001b[1;31mSyntaxError\u001b[0m\u001b[1;31m:\u001b[0m invalid syntax\n"
     ]
    }
   ],
   "source": [
    "#two way anova \n",
    "import numpy as np\n",
    "import pandas as pd\n",
    "df=pd.DataFrame({'Water':np.repeat(['daily','weekly'],15),\n",
    "                 'Sun':np.tile(np.repeat(['low','med','high'],15,2),\n",
    "                 'Height': [6,6,6,5,6,5,5,6,4,5,6,6,7,8,7,3,4,4,4,5,4,4,4,4,4,5,6,6,7,8]})\n",
    "df[:10]"
   ]
  },
  {
   "cell_type": "code",
   "execution_count": null,
   "id": "fafb20b1",
   "metadata": {},
   "outputs": [],
   "source": []
  },
  {
   "cell_type": "code",
   "execution_count": null,
   "id": "93b4ac84",
   "metadata": {},
   "outputs": [],
   "source": []
  },
  {
   "cell_type": "code",
   "execution_count": null,
   "id": "60efeb87",
   "metadata": {},
   "outputs": [],
   "source": []
  }
 ],
 "metadata": {
  "kernelspec": {
   "display_name": "Python 3 (ipykernel)",
   "language": "python",
   "name": "python3"
  },
  "language_info": {
   "codemirror_mode": {
    "name": "ipython",
    "version": 3
   },
   "file_extension": ".py",
   "mimetype": "text/x-python",
   "name": "python",
   "nbconvert_exporter": "python",
   "pygments_lexer": "ipython3",
   "version": "3.9.12"
  }
 },
 "nbformat": 4,
 "nbformat_minor": 5
}

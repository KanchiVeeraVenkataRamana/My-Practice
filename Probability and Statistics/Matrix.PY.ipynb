{
 "cells": [
  {
   "cell_type": "markdown",
   "id": "d345d151",
   "metadata": {},
   "source": [
    "ADDITION AND MULTIPLICATION"
   ]
  },
  {
   "cell_type": "code",
   "execution_count": 3,
   "id": "abd3d837",
   "metadata": {},
   "outputs": [
    {
     "name": "stdout",
     "output_type": "stream",
     "text": [
      "[17, 0, 0]\n",
      "[0, 0, 0]\n",
      "[0, 0, 0]\n",
      "[17, 15, 0]\n",
      "[0, 0, 0]\n",
      "[0, 0, 0]\n",
      "[17, 15, 4]\n",
      "[0, 0, 0]\n",
      "[0, 0, 0]\n",
      "[17, 15, 4]\n",
      "[10, 0, 0]\n",
      "[0, 0, 0]\n",
      "[17, 15, 4]\n",
      "[10, 12, 0]\n",
      "[0, 0, 0]\n",
      "[17, 15, 4]\n",
      "[10, 12, 9]\n",
      "[0, 0, 0]\n",
      "[17, 15, 4]\n",
      "[10, 12, 9]\n",
      "[11, 0, 0]\n",
      "[17, 15, 4]\n",
      "[10, 12, 9]\n",
      "[11, 13, 0]\n",
      "[17, 15, 4]\n",
      "[10, 12, 9]\n",
      "[11, 13, 18]\n"
     ]
    }
   ],
   "source": [
    "x=[[12,7,3],[4,5,6],[7,8,9]]\n",
    "y=[[5,8,1],[6,7,3],[4,5,9]]\n",
    "result=[[0,0,0],[0,0,0],[0,0,0]]\n",
    "for i in range(len(x)):\n",
    "    for j in range(len(x[0])):\n",
    "        result[i][j]=x[i][j]+y[i][j]\n",
    "        for r in result:\n",
    "            print(r)"
   ]
  },
  {
   "cell_type": "code",
   "execution_count": 5,
   "id": "fd90ce52",
   "metadata": {},
   "outputs": [
    {
     "name": "stdout",
     "output_type": "stream",
     "text": [
      "[60, 0, 0]\n",
      "[0, 0, 0]\n",
      "[0, 0, 0]\n",
      "[60, 56, 0]\n",
      "[0, 0, 0]\n",
      "[0, 0, 0]\n",
      "[60, 56, 3]\n",
      "[0, 0, 0]\n",
      "[0, 0, 0]\n",
      "[60, 56, 3]\n",
      "[24, 0, 0]\n",
      "[0, 0, 0]\n",
      "[60, 56, 3]\n",
      "[24, 35, 0]\n",
      "[0, 0, 0]\n",
      "[60, 56, 3]\n",
      "[24, 35, 18]\n",
      "[0, 0, 0]\n",
      "[60, 56, 3]\n",
      "[24, 35, 18]\n",
      "[28, 0, 0]\n",
      "[60, 56, 3]\n",
      "[24, 35, 18]\n",
      "[28, 40, 0]\n",
      "[60, 56, 3]\n",
      "[24, 35, 18]\n",
      "[28, 40, 81]\n"
     ]
    }
   ],
   "source": [
    "x=[[12,7,3],[4,5,6],[7,8,9]]\n",
    "y=[[5,8,1],[6,7,3],[4,5,9]]\n",
    "result=[[0,0,0],[0,0,0],[0,0,0]]\n",
    "for i in range(len(x)):\n",
    "    for j in range(len(x[0])):\n",
    "        result[i][j]=x[i][j]*y[i][j]\n",
    "        for r in result:\n",
    "            print(r)"
   ]
  },
  {
   "cell_type": "code",
   "execution_count": null,
   "id": "5fefa797",
   "metadata": {},
   "outputs": [],
   "source": []
  },
  {
   "cell_type": "markdown",
   "id": "0c10831b",
   "metadata": {},
   "source": [
    "EIGEN VALUES AND EIGEN VECTORD"
   ]
  },
  {
   "cell_type": "code",
   "execution_count": 9,
   "id": "b3653b19",
   "metadata": {},
   "outputs": [
    {
     "name": "stdout",
     "output_type": "stream",
     "text": [
      "printing the original square matrix:\n",
      " [[1 2 3]\n",
      " [2 3 4]\n",
      " [4 5 6]]\n",
      "\n",
      "printing the eigen values of the given square array:\n",
      " [ 1.08309519e+01 -8.30951895e-01 -1.09042184e-16]\n",
      "\n",
      "printing the eigen vectors of the given square array:\n",
      " [[ 0.34416959  0.72770285  0.40824829]\n",
      " [ 0.49532111  0.27580256 -0.81649658]\n",
      " [ 0.79762415 -0.62799801  0.40824829]]\n"
     ]
    }
   ],
   "source": [
    "import numpy as np\n",
    "m=np.array([[1,2,3],[2,3,4],[4,5,6]])\n",
    "print('printing the original square matrix:\\n',m)\n",
    "print()\n",
    "a,b=np.linalg.eig(m)\n",
    "print('printing the eigen values of the given square array:\\n',a)\n",
    "print()\n",
    "print('printing the eigen vectors of the given square array:\\n',b)"
   ]
  },
  {
   "cell_type": "code",
   "execution_count": 58,
   "id": "d64d80a4",
   "metadata": {},
   "outputs": [
    {
     "name": "stdout",
     "output_type": "stream",
     "text": [
      "printing the original square matrix:\n",
      " [[10 19 28]\n",
      " [37 46 55]\n",
      " [64 73 82]]\n",
      "\n",
      "printing the eigen values of the given square array:\n",
      " [ 1.47860637e+02 -9.86063657e+00  3.16577297e-16]\n",
      "\n",
      "printing the eigen vectors of the given square array:\n",
      " [[-0.23831683 -0.78451552  0.40824829]\n",
      " [-0.52703175 -0.08513943 -0.81649658]\n",
      " [-0.81574667  0.61423667  0.40824829]]\n"
     ]
    }
   ],
   "source": [
    "import numpy as np\n",
    "m=np.arange(10,90,9).reshape(3,3)\n",
    "print('printing the original square matrix:\\n',m)\n",
    "print()\n",
    "a,b=np.linalg.eig(m)\n",
    "print('printing the eigen values of the given square array:\\n',a)\n",
    "print()\n",
    "print('printing the eigen vectors of the given square array:\\n',b)"
   ]
  },
  {
   "cell_type": "code",
   "execution_count": null,
   "id": "4e18c663",
   "metadata": {},
   "outputs": [],
   "source": []
  },
  {
   "cell_type": "markdown",
   "id": "8a98690c",
   "metadata": {},
   "source": [
    "AREA UNDER THE CURVE"
   ]
  },
  {
   "cell_type": "code",
   "execution_count": 11,
   "id": "5f80f833",
   "metadata": {},
   "outputs": [
    {
     "name": "stdout",
     "output_type": "stream",
     "text": [
      "area= 452.5\n",
      "area= 1810.0\n"
     ]
    }
   ],
   "source": [
    "import numpy as np\n",
    "from scipy.integrate import simpson\n",
    "from numpy import trapz\n",
    "y=np.array([5,20,4,18,19,18,7,4])\n",
    "a=trapz(y,dx=5)\n",
    "print('area=',a)\n",
    "a1=trapz(y,dx=20)\n",
    "print('area=',a1)"
   ]
  },
  {
   "cell_type": "code",
   "execution_count": 13,
   "id": "4c5c574f",
   "metadata": {},
   "outputs": [
    {
     "name": "stdout",
     "output_type": "stream",
     "text": [
      "[ 0  5 10 15 20 25 30 35]\n",
      "area= 612.5\n",
      "area= 2450.0\n"
     ]
    }
   ],
   "source": [
    "import numpy as np\n",
    "from scipy.integrate import simpson\n",
    "from numpy import trapz\n",
    "y=np.arange(0,40,5)\n",
    "print(y)\n",
    "a=trapz(y,dx=5)\n",
    "print('area=',a)\n",
    "a1=trapz(y,dx=20)\n",
    "print('area=',a1)"
   ]
  },
  {
   "cell_type": "code",
   "execution_count": null,
   "id": "df80a41b",
   "metadata": {},
   "outputs": [],
   "source": []
  },
  {
   "cell_type": "markdown",
   "id": "819ec5a7",
   "metadata": {},
   "source": [
    "SLOPE OF THE CURVE"
   ]
  },
  {
   "cell_type": "code",
   "execution_count": 15,
   "id": "2428a92b",
   "metadata": {},
   "outputs": [
    {
     "name": "stdout",
     "output_type": "stream",
     "text": [
      "[10 12 14 16 18 20 22 24 26 28] [20 22 24 26 28 30 32 34 36 38]\n"
     ]
    },
    {
     "data": {
      "image/png": "[encoded data removed]",
      "text/plain": [
       "<Figure size 432x288 with 1 Axes>"
      ]
     },
     "metadata": {
      "needs_background": "light"
     },
     "output_type": "display_data"
    }
   ],
   "source": [
    "import numpy as np\n",
    "import matplotlib.pyplot as pt\n",
    "import sympy as sy\n",
    "x=np.arange(10,30,2)\n",
    "y=np.arange(20,40,2)\n",
    "print(x,y)\n",
    "pt.plot(x,y)\n",
    "pt.xlabel('X')\n",
    "pt.ylabel('Y')\n",
    "pt.show()"
   ]
  },
  {
   "cell_type": "code",
   "execution_count": 41,
   "id": "34ec489e",
   "metadata": {},
   "outputs": [
    {
     "name": "stdout",
     "output_type": "stream",
     "text": [
      "[10 20 30 40] [10 20 30 40]\n"
     ]
    },
    {
     "data": {
      "image/png": "[encoded data removed]",
      "text/plain": [
       "<Figure size 432x288 with 1 Axes>"
      ]
     },
     "metadata": {
      "needs_background": "light"
     },
     "output_type": "display_data"
    }
   ],
   "source": [
    "import numpy as np\n",
    "import matplotlib.pyplot as pt\n",
    "import sympy as sy\n",
    "x=np.arange(10,50,10)\n",
    "y=np.arange(10,50,10)\n",
    "print(x,y)\n",
    "pt.plot(x,y)\n",
    "pt.plot(x[2],y[2],label='point1',marker='o')\n",
    "pt.plot(x[3],y[3],label='point2',marker='*',ms=13)\n",
    "pt.plot([x[2],x[3]],[y[2],y[2]],linewidth=2,label='change in x(dx)')\n",
    "pt.plot([x[3],x[3]],[y[2],y[3]],linewidth=3,label='change in y(dy)')\n",
    "pt.legend(loc='lower center')\n",
    "pt.xlabel('X')\n",
    "pt.ylabel('Y')\n",
    "pt.show()"
   ]
  },
  {
   "cell_type": "code",
   "execution_count": 45,
   "id": "96efb1b8",
   "metadata": {},
   "outputs": [
    {
     "name": "stdout",
     "output_type": "stream",
     "text": [
      "[ 10.  20.  30.  40.  50.  60.  70.  80.  90. 100.] [ 8. 13. 18. 23. 28. 33. 38. 43. 48. 53.]\n"
     ]
    },
    {
     "data": {
      "image/png": "[encoded data removed]",
      "text/plain": [
       "<Figure size 432x288 with 1 Axes>"
      ]
     },
     "metadata": {
      "needs_background": "light"
     },
     "output_type": "display_data"
    }
   ],
   "source": [
    "import numpy as np\n",
    "import matplotlib.pyplot as pt\n",
    "x=np.linspace(10,100,10)\n",
    "y=0.5*x+3\n",
    "print(x,y)\n",
    "pt.plot(x,y)\n",
    "pt.xlabel('length(km)')\n",
    "pt.ylabel('length(m)')\n",
    "pt.show()"
   ]
  },
  {
   "cell_type": "code",
   "execution_count": 46,
   "id": "585748b7",
   "metadata": {},
   "outputs": [
    {
     "name": "stdout",
     "output_type": "stream",
     "text": [
      "[ 10.  20.  30.  40.  50.  60.  70.  80.  90. 100.] [5.00000000e+23 8.38860800e+30 1.41214768e+35 1.40737488e+38\n",
      " 2.98023224e+40 2.36919067e+42 9.57906157e+43 2.36118324e+45\n",
      " 3.98832215e+46 5.00000000e+47]\n"
     ]
    },
    {
     "data": {
      "image/png": "[encoded data removed]",
      "text/plain": [
       "<Figure size 432x288 with 1 Axes>"
      ]
     },
     "metadata": {
      "needs_background": "light"
     },
     "output_type": "display_data"
    }
   ],
   "source": [
    "import numpy as np\n",
    "import matplotlib.pyplot as pt\n",
    "x=np.linspace(10,100,10)\n",
    "y=0.5*x**23*x-1\n",
    "print(x,y)\n",
    "pt.plot(x,y)\n",
    "pt.plot(x[5],y[5],marker='*',ms=20,mfc='black',mec='green')\n",
    "pt.show()"
   ]
  },
  {
   "cell_type": "code",
   "execution_count": 54,
   "id": "4dd35222",
   "metadata": {},
   "outputs": [
    {
     "name": "stdout",
     "output_type": "stream",
     "text": [
      "[ 10.  20.  30.  40.  50.  60.  70.  80.  90. 100.] [-6. -6. -6. -6. -6. -6. -6. -6. -6. -6. -6. -6. -6. -6. -6. -6. -6. -6.\n",
      " -6. -6. -6. -6. -6. -6. -6. -6. -6. -6. -6. -6. -6. -6. -6. -6. -6. -6.\n",
      " -6. -6. -6. -6. -6. -6. -6. -6. -6. -6. -6. -6. -6. -6.]\n"
     ]
    },
    {
     "data": {
      "image/png": "[encoded data removed]",
      "text/plain": [
       "<Figure size 432x288 with 1 Axes>"
      ]
     },
     "metadata": {
      "needs_background": "light"
     },
     "output_type": "display_data"
    }
   ],
   "source": [
    "import numpy as np\n",
    "import matplotlib.pyplot as pt\n",
    "from scipy.misc import derivative\n",
    "def function(x):\n",
    "    return 2*x*x+x+3\n",
    "def deriv(y):\n",
    "    return derivative(function,x)\n",
    "y=np.linspace(-6,-6)\n",
    "print(x,y)\n",
    "pt.plot(y,function(y),color='brown',label='function')\n",
    "pt.plot(x,deriv(y),color='blue',label='derviation')\n",
    "pt.legend(loc='upper left')\n",
    "pt.grid()\n",
    "pt.show()"
   ]
  },
  {
   "cell_type": "code",
   "execution_count": 55,
   "id": "1dca72ac",
   "metadata": {},
   "outputs": [
    {
     "name": "stdout",
     "output_type": "stream",
     "text": [
      "[ 10.  20.  30.  40.  50.  60.  70.  80.  90. 100.] [-6. -6. -6. -6. -6. -6. -6. -6. -6. -6. -6. -6. -6. -6. -6. -6. -6. -6.\n",
      " -6. -6. -6. -6. -6. -6. -6. -6. -6. -6. -6. -6. -6. -6. -6. -6. -6. -6.\n",
      " -6. -6. -6. -6. -6. -6. -6. -6. -6. -6. -6. -6. -6. -6.]\n"
     ]
    },
    {
     "data": {
      "image/png": "[encoded data removed]",
      "text/plain": [
       "<Figure size 432x288 with 1 Axes>"
      ]
     },
     "metadata": {
      "needs_background": "light"
     },
     "output_type": "display_data"
    }
   ],
   "source": [
    "import numpy as np\n",
    "import matplotlib.pyplot as pt\n",
    "from scipy.misc import derivative\n",
    "def function(x):\n",
    "    return x*x*x*x+x*x+5\n",
    "def deriv(y):\n",
    "    return derivative(function,x)\n",
    "y=np.linspace(-6,-6)\n",
    "print(x,y)\n",
    "pt.plot(y,function(y),color='brown',label='function')\n",
    "pt.plot(x,deriv(y),color='blue',label='derviation')\n",
    "pt.legend(loc='upper left')\n",
    "pt.grid()\n",
    "pt.show()"
   ]
  },
  {
   "cell_type": "code",
   "execution_count": 56,
   "id": "5f712912",
   "metadata": {},
   "outputs": [
    {
     "name": "stdout",
     "output_type": "stream",
     "text": [
      "[ 10.  20.  30.  40.  50.  60.  70.  80.  90. 100.] [-6. -6. -6. -6. -6. -6. -6. -6. -6. -6. -6. -6. -6. -6. -6. -6. -6. -6.\n",
      " -6. -6. -6. -6. -6. -6. -6. -6. -6. -6. -6. -6. -6. -6. -6. -6. -6. -6.\n",
      " -6. -6. -6. -6. -6. -6. -6. -6. -6. -6. -6. -6. -6. -6.]\n"
     ]
    },
    {
     "data": {
      "image/png": "[encoded data removed]",
      "text/plain": [
       "<Figure size 432x288 with 1 Axes>"
      ]
     },
     "metadata": {
      "needs_background": "light"
     },
     "output_type": "display_data"
    }
   ],
   "source": [
    "import numpy as np\n",
    "import matplotlib.pyplot as pt\n",
    "from scipy.misc import derivative\n",
    "def function(x):\n",
    "    return 4*x*x+x+1\n",
    "def deriv(y):\n",
    "    return derivative(function,x)\n",
    "y=np.linspace(-6,-6)\n",
    "print(x,y)\n",
    "pt.plot(y,function(y),color='brown',label='function')\n",
    "pt.plot(x,deriv(y),color='blue',label='derviation')\n",
    "pt.legend(loc='upper left')\n",
    "pt.grid()\n",
    "pt.show()"
   ]
  },
  {
   "cell_type": "code",
   "execution_count": null,
   "id": "08993275",
   "metadata": {},
   "outputs": [],
   "source": []
  }
 ],
 "metadata": {
  "kernelspec": {
   "display_name": "Python 3 (ipykernel)",
   "language": "python",
   "name": "python3"
  },
  "language_info": {
   "codemirror_mode": {
    "name": "ipython",
    "version": 3
   },
   "file_extension": ".py",
   "mimetype": "text/x-python",
   "name": "python",
   "nbconvert_exporter": "python",
   "pygments_lexer": "ipython3",
   "version": "3.9.12"
  }
 },
 "nbformat": 4,
 "nbformat_minor": 5
}

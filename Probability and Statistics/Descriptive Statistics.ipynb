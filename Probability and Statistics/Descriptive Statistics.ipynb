{
 "cells": [
  {
   "cell_type": "code",
   "execution_count": 4,
   "id": "c379f828",
   "metadata": {},
   "outputs": [
    {
     "name": "stdout",
     "output_type": "stream",
     "text": [
      "mean is: 16.285714285714285\n"
     ]
    }
   ],
   "source": [
    "#mean \n",
    "import statistics as st\n",
    "data=[2,4,5,8,66,19,10]\n",
    "x=st.mean(data)\n",
    "print('mean is:',x)"
   ]
  },
  {
   "cell_type": "code",
   "execution_count": 3,
   "id": "8141b104",
   "metadata": {},
   "outputs": [
    {
     "name": "stdout",
     "output_type": "stream",
     "text": [
      "[ 4  8 12 16 20 24 28 32 36]\n",
      "mean is: 20\n"
     ]
    }
   ],
   "source": [
    "import numpy as np\n",
    "import statistics as st\n",
    "a=np.arange(4,40,4)\n",
    "print(a)\n",
    "x=st.mean(a)\n",
    "print('mean is:',x)"
   ]
  },
  {
   "cell_type": "code",
   "execution_count": 40,
   "id": "25b46e6e",
   "metadata": {},
   "outputs": [
    {
     "name": "stdout",
     "output_type": "stream",
     "text": [
      "mean of n1: 6.571428571428571\n",
      "mean of n2: 93.85714285714286\n",
      "mean of n3: 7716.333333333333\n"
     ]
    }
   ],
   "source": [
    "import statistics as st\n",
    "n1=(2,4,6,7,8,9,10)\n",
    "n2=(2,18,39,49,29,30,490)\n",
    "n3=(5,299,494,205,302,44993)\n",
    "print('mean of n1:',st.mean(n1))\n",
    "#print('mean of n1:',st.pmean(n1))\n",
    "print('mean of n2:',st.mean(n2))\n",
    "print('mean of n3:',st.mean(n3))"
   ]
  },
  {
   "cell_type": "code",
   "execution_count": 23,
   "id": "25fe6fb8",
   "metadata": {},
   "outputs": [
    {
     "name": "stdout",
     "output_type": "stream",
     "text": [
      "None\n"
     ]
    }
   ],
   "source": [
    "#ungrouped data in mean\n",
    "def mean(lower_limit,upper_limit,freq,n):\n",
    "    mid=[0.0]*n\n",
    "    sum=0\n",
    "    freqsum=0\n",
    "    for i in range(0,n):\n",
    "        mid[i]=((lower_limit[i]+upper_limit[i])/2)\n",
    "        sum=sum+mid[i]*freq[i]\n",
    "        freqsum=freqsum+freq[i]\n",
    "lower_limit=[1,6,11,16,21]\n",
    "upper_limit=[5,10,15,20,25]\n",
    "freq=[10,20,30,40,50]\n",
    "n=len(freq)\n",
    "print(mean(lower_limit,upper_limit,freq,n))"
   ]
  },
  {
   "cell_type": "code",
   "execution_count": 28,
   "id": "d576890c",
   "metadata": {},
   "outputs": [
    {
     "name": "stdout",
     "output_type": "stream",
     "text": [
      "[ 2  4  6  8 10 12 14 16 18]\n",
      "[ 3  5  7  9 11 13 15 17 19]\n",
      "[ 4  6  8 10 12 14 16 18]\n",
      "\n",
      "mean of n1 is: 6.362743722822275\n",
      "mean of n2 is: 7.941721668662724\n",
      "mean of n3 is: 8.74810154046431\n"
     ]
    }
   ],
   "source": [
    "#harmonic mean \n",
    "import statistics as st\n",
    "import numpy as np\n",
    "n1=np.arange(2,20,2)\n",
    "n2=np.arange(3,20,2)\n",
    "n3=np.arange(4,20,2)\n",
    "print(n1)\n",
    "print(n2)\n",
    "print(n3)\n",
    "print()\n",
    "print('mean of n1 is:',st.harmonic_mean(n1))\n",
    "print('mean of n2 is:',st.harmonic_mean(n2))\n",
    "print('mean of n3 is:',st.harmonic_mean(n3))"
   ]
  },
  {
   "cell_type": "code",
   "execution_count": 31,
   "id": "ce1eae57",
   "metadata": {},
   "outputs": [
    {
     "name": "stdout",
     "output_type": "stream",
     "text": [
      "mean of data is: 16.363636363636363\n",
      "mean of data is: 24.489795918367346\n"
     ]
    }
   ],
   "source": [
    "#geometric mean\n",
    "import statistics as st\n",
    "print('mean of data is:',st.harmonic_mean([10,20,30]))\n",
    "print('mean of data is:',st.harmonic_mean([10,20,30,40,50,60]))"
   ]
  },
  {
   "cell_type": "code",
   "execution_count": 39,
   "id": "54557efc",
   "metadata": {},
   "outputs": [
    {
     "name": "stdout",
     "output_type": "stream",
     "text": [
      "[ 2  4  6  8 10 12 14 16 18]\n",
      "[ 3  5  7  9 11 13 15 17 19]\n",
      "[ 4  6  8 10 12 14 16 18]\n",
      "\n",
      "mean of n1 is: 8.294332548793825\n",
      "mean of n2 is: 9.540308160689955\n",
      "mean of n3 is: 9.908327999296404\n"
     ]
    }
   ],
   "source": [
    "import statistics as st\n",
    "import numpy as np\n",
    "n1=np.arange(2,20,2)\n",
    "n2=np.arange(3,20,2)\n",
    "n3=np.arange(4,20,2)\n",
    "print(n1)\n",
    "print(n2)\n",
    "print(n3)\n",
    "print()\n",
    "print('mean of n1 is:',st.geometric_mean(n1))\n",
    "print('mean of n2 is:',st.geometric_mean(n2))\n",
    "print('mean of n3 is:',st.geometric_mean(n3))"
   ]
  },
  {
   "cell_type": "code",
   "execution_count": 4,
   "id": "fac8fe75",
   "metadata": {},
   "outputs": [
    {
     "name": "stdout",
     "output_type": "stream",
     "text": [
      "[2 4 6 8]\n",
      "[3 6 9]\n",
      "[ 4  8 12 16]\n",
      "\n",
      "median of n1 is: 5.0\n",
      "median of n2 is: 6\n",
      "median of n3 is: 10.0\n"
     ]
    }
   ],
   "source": [
    "#median\n",
    "import statistics as st\n",
    "import numpy as np\n",
    "n1=np.arange(2,10,2)\n",
    "n2=np.arange(3,10,3)\n",
    "n3=np.arange(4,20,4)\n",
    "print(n1)\n",
    "print(n2)\n",
    "print(n3)\n",
    "print()\n",
    "print('median of n1 is:',st.median(n1))\n",
    "print('median of n2 is:',st.median(n2))\n",
    "print('median of n3 is:',st.median(n3))"
   ]
  },
  {
   "cell_type": "code",
   "execution_count": 5,
   "id": "60778d7a",
   "metadata": {},
   "outputs": [
    {
     "name": "stdout",
     "output_type": "stream",
     "text": [
      "[ 2  4  6  8 10 12 14 16 18]\n",
      "[ 3  5  7  9 11 13 15 17 19]\n",
      "[ 4  6  8 10 12 14 16 18]\n",
      "\n",
      "mode of n1 is: 8.294332548793825\n",
      "mode of n2 is: 9.540308160689955\n",
      "mode of n3 is: 9.908327999296404\n"
     ]
    }
   ],
   "source": [
    "#mode\n",
    "import statistics as st\n",
    "import numpy as np\n",
    "n1=np.arange(2,20,2)\n",
    "n2=np.arange(3,20,2)\n",
    "n3=np.arange(4,20,2)\n",
    "print(n1)\n",
    "print(n2)\n",
    "print(n3)\n",
    "print()\n",
    "print('mode of n1 is:',st.geometric_mean(n1))\n",
    "print('mode of n2 is:',st.geometric_mean(n2))\n",
    "print('mode of n3 is:',st.geometric_mean(n3))"
   ]
  },
  {
   "cell_type": "code",
   "execution_count": 41,
   "id": "ae829733",
   "metadata": {},
   "outputs": [
    {
     "name": "stdout",
     "output_type": "stream",
     "text": [
      "[5, 402, 29, 20, 39, 381, 29, 39, 10, 28, 38, 15]\n",
      "\n",
      "the range of the data is: 397\n"
     ]
    }
   ],
   "source": [
    "#range\n",
    "a=[5,402,29,20,39,381,29,39,10,28,38,15]\n",
    "print(a)\n",
    "print()\n",
    "ranges=max(a)-min(a)\n",
    "print('the range of the data is:',ranges)"
   ]
  },
  {
   "cell_type": "code",
   "execution_count": 43,
   "id": "d7b9893d",
   "metadata": {},
   "outputs": [
    {
     "name": "stdout",
     "output_type": "stream",
     "text": [
      "[5, 10, 15, 20, 28, 29, 29, 38, 39, 39, 381, 402]\n",
      "\n",
      "The percentile of the indexed value is: 240\n"
     ]
    }
   ],
   "source": [
    "#percentile\n",
    "sort=sorted(a)\n",
    "print(sort)\n",
    "print()\n",
    "index=len(sort)*20\n",
    "print('The percentile of the indexed value is:',index)"
   ]
  },
  {
   "cell_type": "code",
   "execution_count": 45,
   "id": "2f991630",
   "metadata": {},
   "outputs": [
    {
     "name": "stdout",
     "output_type": "stream",
     "text": [
      "[ 2  7 12 17 22 27 32 37]\n",
      "The varience of the sample: 131.25\n"
     ]
    }
   ],
   "source": [
    "#varience\n",
    "import numpy as np\n",
    "a=np.arange(2,40,5)\n",
    "print(a)\n",
    "b=np.var(a)\n",
    "#c=np.pvar(a)\n",
    "print('The varience of the sample:',b)\n",
    "#print(c)"
   ]
  },
  {
   "cell_type": "code",
   "execution_count": 38,
   "id": "8af75da7",
   "metadata": {},
   "outputs": [
    {
     "name": "stdout",
     "output_type": "stream",
     "text": [
      "[3, 5, 5, 5, 6, 7, 8, 13, 14, 14, 17, 18]\n",
      "sample varience of data: 27.71969696969697\n",
      "population varience of data: 25.40972222222222\n"
     ]
    }
   ],
   "source": [
    "#varience\n",
    "import statistics as st\n",
    "l=[3,5,5,5,6,7,8,13,14,14,17,18]\n",
    "print(l)\n",
    "a=st.variance(l)\n",
    "print('sample varience of data:',a)\n",
    "b=st.pvariance(l)\n",
    "print('population varience of data:',b)"
   ]
  },
  {
   "cell_type": "code",
   "execution_count": 47,
   "id": "bf6aeb3a",
   "metadata": {},
   "outputs": [
    {
     "name": "stdout",
     "output_type": "stream",
     "text": [
      "sample standard deviation: 98.8302055234609\n",
      "the population of standard deviation: 95.47904947625362\n"
     ]
    }
   ],
   "source": [
    "#standard deviation\n",
    "import numpy as np\n",
    "l=[3,5,5,39,93,29,392,4,30,22,22,4,3,22,94]\n",
    "a=np.std(l,ddof=1)\n",
    "b=np.std(l)\n",
    "print('sample standard deviation:',a)\n",
    "print('the population of standard deviation:',b)"
   ]
  },
  {
   "cell_type": "code",
   "execution_count": 48,
   "id": "4896422d",
   "metadata": {},
   "outputs": [
    {
     "name": "stdout",
     "output_type": "stream",
     "text": [
      "sample standard deviation: 5.310367218940701\n",
      "Population of standard deviation: 5.063236478416116\n"
     ]
    }
   ],
   "source": [
    "import statistics as st\n",
    "l=[3,5,5,6,7,8,13,14,14,17,18]\n",
    "a=st.stdev(l)\n",
    "print('sample standard deviation:',a)\n",
    "b=st.pstdev(l)\n",
    "print('Population of standard deviation:',b)"
   ]
  },
  {
   "cell_type": "code",
   "execution_count": 56,
   "id": "d2940645",
   "metadata": {},
   "outputs": [
    {
     "name": "stdout",
     "output_type": "stream",
     "text": [
      "[[1. 1.]\n",
      " [1. 1.]]\n",
      "[[0.66666667 0.66666667]\n",
      " [0.66666667 0.66666667]]\n"
     ]
    }
   ],
   "source": [
    "#covarience\n",
    "import numpy as np\n",
    "a=[[1,2,3],[6,7,8]]\n",
    "c1=np.cov(a)\n",
    "c2=np.cov(a,bias=True)\n",
    "print(c1)\n",
    "print(c2)"
   ]
  },
  {
   "cell_type": "code",
   "execution_count": 61,
   "id": "103c97e1",
   "metadata": {},
   "outputs": [
    {
     "name": "stdout",
     "output_type": "stream",
     "text": [
      "population of covarience is: [[66.26666667 21.13333333]\n",
      " [21.13333333 13.46666667]]\n",
      "\n",
      "sample of covarience is: [[55.22222222 17.61111111]\n",
      " [17.61111111 11.22222222]]\n"
     ]
    }
   ],
   "source": [
    "import numpy as np\n",
    "x=[98,87,90,85,95,75]\n",
    "y=[15,12,10,16,16,7]\n",
    "a=np.cov(x,y)\n",
    "b=np.cov(x,y,bias=True)\n",
    "print('population of covarience is:',a)\n",
    "print()\n",
    "print('sample of covarience is:',b)"
   ]
  },
  {
   "cell_type": "code",
   "execution_count": 63,
   "id": "b4512668",
   "metadata": {},
   "outputs": [
    {
     "name": "stdout",
     "output_type": "stream",
     "text": [
      "population of covarience is: 21.133333333333336\n",
      "sample of covarience is: 17.61111111111111\n"
     ]
    }
   ],
   "source": [
    "import numpy as np\n",
    "x=[98,87,90,85,95,75]\n",
    "y=[15,12,10,16,16,7]\n",
    "a=np.cov(x,y)[0][1]\n",
    "b=np.cov(x,y,bias=True)[0][1]\n",
    "print('population of covarience is:',a)\n",
    "print('sample of covarience is:',b)"
   ]
  },
  {
   "cell_type": "code",
   "execution_count": 5,
   "id": "c4be896f",
   "metadata": {},
   "outputs": [
    {
     "ename": "AttributeError",
     "evalue": "module 'numpy' has no attribute 'corr'",
     "output_type": "error",
     "traceback": [
      "\u001b[1;31m---------------------------------------------------------------------------\u001b[0m",
      "\u001b[1;31mAttributeError\u001b[0m                            Traceback (most recent call last)",
      "Input \u001b[1;32mIn [5]\u001b[0m, in \u001b[0;36m<cell line: 6>\u001b[1;34m()\u001b[0m\n\u001b[0;32m      4\u001b[0m scores\u001b[38;5;241m=\u001b[39m[\u001b[38;5;241m93\u001b[39m,\u001b[38;5;241m49\u001b[39m,\u001b[38;5;241m39\u001b[39m,\u001b[38;5;241m20\u001b[39m,\u001b[38;5;241m68\u001b[39m,\u001b[38;5;241m39\u001b[39m,\u001b[38;5;241m40\u001b[39m]\n\u001b[0;32m      5\u001b[0m hours\u001b[38;5;241m=\u001b[39m[\u001b[38;5;241m2\u001b[39m,\u001b[38;5;241m4\u001b[39m,\u001b[38;5;241m2\u001b[39m,\u001b[38;5;241m4\u001b[39m,\u001b[38;5;241m5\u001b[39m,\u001b[38;5;241m3\u001b[39m,\u001b[38;5;241m1\u001b[39m,\u001b[38;5;241m8\u001b[39m]\n\u001b[1;32m----> 6\u001b[0m \u001b[43mnp\u001b[49m\u001b[38;5;241;43m.\u001b[39;49m\u001b[43mcorr\u001b[49m(scores,hours)\n",
      "File \u001b[1;32m~\\anaconda3\\lib\\site-packages\\numpy\\__init__.py:313\u001b[0m, in \u001b[0;36m__getattr__\u001b[1;34m(attr)\u001b[0m\n\u001b[0;32m    310\u001b[0m     \u001b[38;5;28;01mfrom\u001b[39;00m \u001b[38;5;21;01m.\u001b[39;00m\u001b[38;5;21;01mtesting\u001b[39;00m \u001b[38;5;28;01mimport\u001b[39;00m Tester\n\u001b[0;32m    311\u001b[0m     \u001b[38;5;28;01mreturn\u001b[39;00m Tester\n\u001b[1;32m--> 313\u001b[0m \u001b[38;5;28;01mraise\u001b[39;00m \u001b[38;5;167;01mAttributeError\u001b[39;00m(\u001b[38;5;124m\"\u001b[39m\u001b[38;5;124mmodule \u001b[39m\u001b[38;5;132;01m{!r}\u001b[39;00m\u001b[38;5;124m has no attribute \u001b[39m\u001b[38;5;124m\"\u001b[39m\n\u001b[0;32m    314\u001b[0m                      \u001b[38;5;124m\"\u001b[39m\u001b[38;5;132;01m{!r}\u001b[39;00m\u001b[38;5;124m\"\u001b[39m\u001b[38;5;241m.\u001b[39mformat(\u001b[38;5;18m__name__\u001b[39m, attr))\n",
      "\u001b[1;31mAttributeError\u001b[0m: module 'numpy' has no attribute 'corr'"
     ]
    }
   ],
   "source": [
    "#spearman's rank correlation coefficient\n",
    "import numpy as np\n",
    "import pandas as pd\n",
    "scores=[93,49,39,20,68,39,40]\n",
    "hours=[2,4,2,4,5,3,1,8]\n",
    "np.corr(scores,hours)"
   ]
  },
  {
   "cell_type": "code",
   "execution_count": 8,
   "id": "802b4d6d",
   "metadata": {},
   "outputs": [
    {
     "name": "stdout",
     "output_type": "stream",
     "text": [
      "SpearmanrResult(correlation=-0.8207826816681234, pvalue=0.08858700531354378)\n"
     ]
    }
   ],
   "source": [
    "import scipy.stats as sta\n",
    "x=[39,49,29,68,39]\n",
    "y=[38,29,68,19,20]\n",
    "print(sta.spearmanr(x,y))"
   ]
  },
  {
   "cell_type": "code",
   "execution_count": 12,
   "id": "4a5ea543",
   "metadata": {},
   "outputs": [
    {
     "name": "stdout",
     "output_type": "stream",
     "text": [
      "-0.8207826816681234\n"
     ]
    }
   ],
   "source": [
    "import scipy.stats as sta\n",
    "x=[39,49,29,68,39]\n",
    "y=[38,29,68,19,20]\n",
    "print(sta.spearmanr(x,y)[0])"
   ]
  },
  {
   "cell_type": "code",
   "execution_count": null,
   "id": "fc7f0a63",
   "metadata": {},
   "outputs": [],
   "source": []
  }
 ],
 "metadata": {
  "kernelspec": {
   "display_name": "Python 3 (ipykernel)",
   "language": "python",
   "name": "python3"
  },
  "language_info": {
   "codemirror_mode": {
    "name": "ipython",
    "version": 3
   },
   "file_extension": ".py",
   "mimetype": "text/x-python",
   "name": "python",
   "nbconvert_exporter": "python",
   "pygments_lexer": "ipython3",
   "version": "3.9.12"
  }
 },
 "nbformat": 4,
 "nbformat_minor": 5
}

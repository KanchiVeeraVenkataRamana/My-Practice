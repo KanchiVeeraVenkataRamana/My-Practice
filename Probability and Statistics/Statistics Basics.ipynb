{
 "cells": [
  {
   "cell_type": "code",
   "execution_count": 21,
   "id": "0cb843b3",
   "metadata": {},
   "outputs": [
    {
     "name": "stdout",
     "output_type": "stream",
     "text": [
      "mean==18.99 stdv=7.43\n",
      "T_test= 50 p_value= 8.5\n"
     ]
    }
   ],
   "source": [
    "import math \n",
    "import numpy as np\n",
    "from numpy.random import randn\n",
    "from statsmodels.stats.weightstats import ztest\n",
    "\n",
    "sample=20\n",
    "mean=50\n",
    "alpha=0.05\n",
    "standard=8.5\n",
    "data=standard*randn(20)+sample\n",
    "print('mean==%.2f stdv=%.2f' % (np.mean(data),np.std(data)))\n",
    "print(\"T_test=\",mean,\"p_value=\",standard)"
   ]
  },
  {
   "cell_type": "code",
   "execution_count": 7,
   "id": "3d7964b9",
   "metadata": {},
   "outputs": [
    {
     "name": "stdout",
     "output_type": "stream",
     "text": [
      "mean==25.00 stdv==0.00\n",
      "Z_test= 90 p_value= 18\n"
     ]
    }
   ],
   "source": [
    "import math\n",
    "import numpy as np\n",
    "from numpy.random import randn\n",
    "from statsmodels.stats.weightstats import ztest\n",
    "mean=90\n",
    "standard=18\n",
    "alpha=0.05\n",
    "sample=30\n",
    "data=sample-mean/standard\n",
    "print(\"mean==%.2f stdv==%.2f\" % (np.mean(data),np.std(data)))\n",
    "print(\"Z_test=\",mean,\"p_value=\",standard)"
   ]
  },
  {
   "cell_type": "code",
   "execution_count": 4,
   "id": "7dee748c",
   "metadata": {},
   "outputs": [
    {
     "ename": "SyntaxError",
     "evalue": "invalid syntax (2582511974.py, line 13)",
     "output_type": "error",
     "traceback": [
      "\u001b[1;36m  Input \u001b[1;32mIn [4]\u001b[1;36m\u001b[0m\n\u001b[1;33m    print(\"z_test=\",mean,\"p_value=\",stdv)\u001b[0m\n\u001b[1;37m    ^\u001b[0m\n\u001b[1;31mSyntaxError\u001b[0m\u001b[1;31m:\u001b[0m invalid syntax\n"
     ]
    }
   ],
   "source": [
    "import math\n",
    "import numpy as np\n",
    "from numpy.random import randn\n",
    "from statsmodels.stats.weightstats import ztest\n",
    "n1=40\n",
    "n2=40\n",
    "x1=750\n",
    "x2=780\n",
    "s1=20\n",
    "s2=25\n",
    "data=(x1-x2)/((s1/n1)+(s2/n2))\n",
    "data=(\"mean==%.2f stdv=%.2f\" %(np.mean(data))\n",
    "print(\"z_test=\",mean,\"p_value=\",stdv)"
   ]
  },
  {
   "cell_type": "code",
   "execution_count": 27,
   "id": "64b3edec",
   "metadata": {},
   "outputs": [
    {
     "name": "stdout",
     "output_type": "stream",
     "text": [
      "z_test= -9.486832980505138\n"
     ]
    }
   ],
   "source": [
    "import math\n",
    "import numpy as np\n",
    "from numpy.random import randn\n",
    "from statsmodels.stats.weightstats import ztest\n",
    "x1=750\n",
    "x2=780\n",
    "s1=20\n",
    "s2=25\n",
    "n=40\n",
    "data=(x1-x2)/(s1/np.sqrt(n))\n",
    "print('z_test=',data)"
   ]
  },
  {
   "cell_type": "code",
   "execution_count": null,
   "id": "a644d35a",
   "metadata": {},
   "outputs": [],
   "source": []
  }
 ],
 "metadata": {
  "kernelspec": {
   "display_name": "Python 3 (ipykernel)",
   "language": "python",
   "name": "python3"
  },
  "language_info": {
   "codemirror_mode": {
    "name": "ipython",
    "version": 3
   },
   "file_extension": ".py",
   "mimetype": "text/x-python",
   "name": "python",
   "nbconvert_exporter": "python",
   "pygments_lexer": "ipython3",
   "version": "3.9.12"
  }
 },
 "nbformat": 4,
 "nbformat_minor": 5
}

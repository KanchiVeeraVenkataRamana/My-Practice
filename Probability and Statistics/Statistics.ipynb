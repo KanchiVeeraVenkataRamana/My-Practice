{
 "cells": [
  {
   "cell_type": "code",
   "execution_count": 1,
   "id": "6b9bc678",
   "metadata": {},
   "outputs": [
    {
     "ename": "ModuleNotFoundError",
     "evalue": "No module named 'researchpy'",
     "output_type": "error",
     "traceback": [
      "\u001b[1;31m---------------------------------------------------------------------------\u001b[0m",
      "\u001b[1;31mModuleNotFoundError\u001b[0m                       Traceback (most recent call last)",
      "Input \u001b[1;32mIn [1]\u001b[0m, in \u001b[0;36m<cell line: 2>\u001b[1;34m()\u001b[0m\n\u001b[0;32m      1\u001b[0m \u001b[38;5;28;01mimport\u001b[39;00m \u001b[38;5;21;01mpandas\u001b[39;00m \u001b[38;5;28;01mas\u001b[39;00m \u001b[38;5;21;01mpd\u001b[39;00m\n\u001b[1;32m----> 2\u001b[0m \u001b[38;5;28;01mimport\u001b[39;00m \u001b[38;5;21;01mresearchpy\u001b[39;00m \u001b[38;5;28;01mas\u001b[39;00m \u001b[38;5;21;01mrp\u001b[39;00m\n\u001b[0;32m      3\u001b[0m \u001b[38;5;28;01mimport\u001b[39;00m \u001b[38;5;21;01mscipy\u001b[39;00m\u001b[38;5;21;01m.\u001b[39;00m\u001b[38;5;21;01mstats\u001b[39;00m \u001b[38;5;28;01mas\u001b[39;00m \u001b[38;5;21;01mstata\u001b[39;00m\n\u001b[0;32m      4\u001b[0m \u001b[38;5;28;01mimport\u001b[39;00m \u001b[38;5;21;01mnumpy\u001b[39;00m \u001b[38;5;28;01mas\u001b[39;00m \u001b[38;5;21;01mnp\u001b[39;00m\n",
      "\u001b[1;31mModuleNotFoundError\u001b[0m: No module named 'researchpy'"
     ]
    }
   ],
   "source": [
    "import pandas as pd\n",
    "import researchpy as rp\n",
    "import scipy.stats as stata\n",
    "import numpy as np\n",
    "from scipy import stats"
   ]
  },
  {
   "cell_type": "code",
   "execution_count": 3,
   "id": "9c393f48",
   "metadata": {},
   "outputs": [
    {
     "name": "stdout",
     "output_type": "stream",
     "text": [
      "F_test, and P_value 7.82610381502786 2.8420902750835347e-06\n",
      "F_test= 7.82610381502786 P_value= 0.0\n"
     ]
    }
   ],
   "source": [
    "import scipy.stats as stats\n",
    "import pandas as pd\n",
    "sugar_levels_after_ice_cream=[180,151,177,157,193,163,144,114,176,152,118,159,173,139]\n",
    "t_statistic,p_value=stats.ttest_1samp(a=sugar_levels_after_ice_cream, popmean=109)\n",
    "print(\"F_test, and P_value\",t_statistic, p_value)\n",
    "print(\"F_test=\",t_statistic,\"P_value=\",round(p_value,4))"
   ]
  },
  {
   "cell_type": "code",
   "execution_count": 32,
   "id": "e561fdc9",
   "metadata": {},
   "outputs": [
    {
     "name": "stdout",
     "output_type": "stream",
     "text": [
      "F_test= 7.82610381502786 P_value= 0.0\n"
     ]
    }
   ],
   "source": [
    "import scipy.stats as stats\n",
    "import pandas as pd\n",
    "sugar_levels_after_ice_cream=[180,151,177,157,193,163,144,114,176,152,118,159,173,139]\n",
    "t_statistic,p_value=stats.ttest_1samp(a=sugar_levels_after_ice_cream, popmean=109)\n",
    "print(\"F_test=\",t_statistic,\"P_value=\",round(p_value,2))"
   ]
  },
  {
   "cell_type": "code",
   "execution_count": 17,
   "id": "eac2dcd2",
   "metadata": {},
   "outputs": [
    {
     "name": "stdout",
     "output_type": "stream",
     "text": [
      "F_test= 3.541538575139955 P_value= 0.0041\n"
     ]
    }
   ],
   "source": [
    "#one sample test \n",
    "import scipy.stats as stats\n",
    "import pandas as pd\n",
    "Age_Google_India=[20,43,29,33,27,45,37,33,29,22,23,41,32]\n",
    "t_statistic,p_value=stats.ttest_1samp(a=Age_Google_India,popmean=24)\n",
    "print(\"F_test=\",t_statistic,\"P_value=\",round(p_value,4))"
   ]
  },
  {
   "cell_type": "code",
   "execution_count": 2,
   "id": "9b1410b4",
   "metadata": {},
   "outputs": [
    {
     "name": "stdout",
     "output_type": "stream",
     "text": [
      "F_test= 2.4035782344064582 P_value= 2.4 0.04\n"
     ]
    }
   ],
   "source": [
    "import scipy.stats as stats\n",
    "import pandas as pd\n",
    "college_of_the_students=[28,39,20,39,20,17,48,57,29]\n",
    "t_statistic,p_value=stats.ttest_1samp(a=college_of_the_students,popmean=22)\n",
    "print(\"F_test=\",t_statistic,\"P_value=\",round(p_value,2))"
   ]
  },
  {
   "cell_type": "code",
   "execution_count": 29,
   "id": "99453a17",
   "metadata": {},
   "outputs": [
    {
     "name": "stdout",
     "output_type": "stream",
     "text": [
      "F_test= 0.07957749426578187 P_value= 0.9383146401282706\n"
     ]
    }
   ],
   "source": [
    "import scipy.stats as stats\n",
    "import pandas as pd4\n",
    "JNTUK_of_the_Colleges=[25,64,93,18,48,29,30,58,73,48]\n",
    "t_statistic,p_value=stats.ttest_1samp(a=JNTUK_of_the_Colleges,popmean=48)\n",
    "print(\"F_test=\",t_statistic,\"P_value=\",round(p_value,17))"
   ]
  },
  {
   "cell_type": "code",
   "execution_count": null,
   "id": "e1432adb",
   "metadata": {},
   "outputs": [],
   "source": []
  },
  {
   "cell_type": "code",
   "execution_count": null,
   "id": "bf16bc3d",
   "metadata": {},
   "outputs": [],
   "source": []
  },
  {
   "cell_type": "code",
   "execution_count": null,
   "id": "0444ab39",
   "metadata": {},
   "outputs": [],
   "source": [
    "\n"
   ]
  },
  {
   "cell_type": "code",
   "execution_count": 39,
   "id": "62c33169",
   "metadata": {},
   "outputs": [
    {
     "name": "stdout",
     "output_type": "stream",
     "text": [
      "mean==109.93 stdv=2.07\n"
     ]
    }
   ],
   "source": [
    "import math\n",
    "import numpy as np\n",
    "from numpy.random import randn\n",
    "from statsmodels.stats.weightstats import ztest\n",
    "\n",
    "mean_iq=110\n",
    "sd_iq=15/math.sqrt(50)\n",
    "alpha=0.05\n",
    "null_mean=100\n",
    "data=sd_iq*randn(50)+mean_iq\n",
    "print(\"mean==%.2f stdv=%.2f\" % (np.mean(data),np.std(data)))"
   ]
  },
  {
   "cell_type": "code",
   "execution_count": 37,
   "id": "802b38dd",
   "metadata": {},
   "outputs": [
    {
     "name": "stdout",
     "output_type": "stream",
     "text": [
      "Reject Null Hypothesis\n"
     ]
    }
   ],
   "source": [
    "\n",
    "if(p_value<alpha):\n",
    "    print(\"Reject Null Hypothesis\")\n",
    "else:\n",
    "    print(\"Fail to Reject Null Hypothesis\")"
   ]
  },
  {
   "cell_type": "code",
   "execution_count": null,
   "id": "a42998f7",
   "metadata": {},
   "outputs": [],
   "source": []
  },
  {
   "cell_type": "code",
   "execution_count": 11,
   "id": "4de243b2",
   "metadata": {},
   "outputs": [
    {
     "name": "stdout",
     "output_type": "stream",
     "text": [
      "mean==21.37 stdv=8.92\n",
      "F_test= 50 p_value= 8.5\n"
     ]
    }
   ],
   "source": [
    "import math \n",
    "import numpy as np\n",
    "from numpy.random import randn\n",
    "from statsmodels.stats.weightstats import ztest\n",
    "\n",
    "sample=20\n",
    "mean=50\n",
    "alpha=0.05\n",
    "standard=8.5\n",
    "data=standard*randn(10)+sample\n",
    "print('mean==%.2f stdv=%.2f' % (np.mean(data),np.std(data)))\n",
    "\n",
    "print(\"F_test=\",mean,\"p_value=\",standard)"
   ]
  },
  {
   "cell_type": "code",
   "execution_count": null,
   "id": "81073f0a",
   "metadata": {},
   "outputs": [],
   "source": [
    "import math\n",
    "import numpy as np\n",
    "from numpy as np from"
   ]
  }
 ],
 "metadata": {
  "kernelspec": {
   "display_name": "Python 3 (ipykernel)",
   "language": "python",
   "name": "python3"
  },
  "language_info": {
   "codemirror_mode": {
    "name": "ipython",
    "version": 3
   },
   "file_extension": ".py",
   "mimetype": "text/x-python",
   "name": "python",
   "nbconvert_exporter": "python",
   "pygments_lexer": "ipython3",
   "version": "3.9.12"
  }
 },
 "nbformat": 4,
 "nbformat_minor": 5
}

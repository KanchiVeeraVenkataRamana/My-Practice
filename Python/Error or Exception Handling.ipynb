{
 "cells": [
  {
   "cell_type": "markdown",
   "id": "8c534674",
   "metadata": {},
   "source": [
    "# EXCEPTION HANDLING"
   ]
  },
  {
   "cell_type": "code",
   "execution_count": 2,
   "id": "a2e63ada",
   "metadata": {},
   "outputs": [
    {
     "ename": "NameError",
     "evalue": "name 'q' is not defined",
     "output_type": "error",
     "traceback": [
      "\u001b[1;31m---------------------------------------------------------------------------\u001b[0m",
      "\u001b[1;31mNameError\u001b[0m                                 Traceback (most recent call last)",
      "Input \u001b[1;32mIn [2]\u001b[0m, in \u001b[0;36m<cell line: 1>\u001b[1;34m()\u001b[0m\n\u001b[1;32m----> 1\u001b[0m p\u001b[38;5;241m=\u001b[39m\u001b[43mq\u001b[49m\n",
      "\u001b[1;31mNameError\u001b[0m: name 'q' is not defined"
     ]
    }
   ],
   "source": [
    "p=q"
   ]
  },
  {
   "cell_type": "raw",
   "id": "6a3efabc",
   "metadata": {},
   "source": [
    "try:\n",
    "    #code the excuted block of the logical\n",
    "except:\n",
    "    print('some error are raised in the code')"
   ]
  },
  {
   "cell_type": "code",
   "execution_count": 3,
   "id": "6180e7f0",
   "metadata": {},
   "outputs": [
    {
     "name": "stdout",
     "output_type": "stream",
     "text": [
      "some error are raised in this code\n"
     ]
    }
   ],
   "source": [
    "try:\n",
    "    p=q\n",
    "except:\n",
    "    print('some error are raised in this code')"
   ]
  },
  {
   "cell_type": "code",
   "execution_count": 4,
   "id": "a937090d",
   "metadata": {},
   "outputs": [
    {
     "name": "stdout",
     "output_type": "stream",
     "text": [
      "name 'q' is not defined\n"
     ]
    }
   ],
   "source": [
    "try: \n",
    "    p=q\n",
    "except Exception as ex:\n",
    "    print(ex)"
   ]
  },
  {
   "cell_type": "code",
   "execution_count": 5,
   "id": "e8932269",
   "metadata": {},
   "outputs": [
    {
     "name": "stdout",
     "output_type": "stream",
     "text": [
      "name 'q' is not defined\n"
     ]
    }
   ],
   "source": [
    "try:\n",
    "    p=q\n",
    "except NameError as ex1:\n",
    "    print(ex1)\n",
    "except Exception as ex:\n",
    "    print('some error are raised in the code')"
   ]
  },
  {
   "cell_type": "code",
   "execution_count": 6,
   "id": "c41a18bf",
   "metadata": {},
   "outputs": [
    {
     "name": "stdout",
     "output_type": "stream",
     "text": [
      "the name error are raised\n"
     ]
    }
   ],
   "source": [
    "try:\n",
    "    p=q\n",
    "except NameError as ex1:\n",
    "    print('the name error are raised')\n",
    "except Exception as ex:\n",
    "    print('some error are raised in the code')"
   ]
  },
  {
   "cell_type": "code",
   "execution_count": null,
   "id": "1f8f54eb",
   "metadata": {},
   "outputs": [],
   "source": []
  },
  {
   "cell_type": "code",
   "execution_count": 8,
   "id": "6c245b0c",
   "metadata": {},
   "outputs": [
    {
     "ename": "TypeError",
     "evalue": "unsupported operand type(s) for +: 'int' and 'str'",
     "output_type": "error",
     "traceback": [
      "\u001b[1;31m---------------------------------------------------------------------------\u001b[0m",
      "\u001b[1;31mTypeError\u001b[0m                                 Traceback (most recent call last)",
      "Input \u001b[1;32mIn [8]\u001b[0m, in \u001b[0;36m<cell line: 3>\u001b[1;34m()\u001b[0m\n\u001b[0;32m      1\u001b[0m x\u001b[38;5;241m=\u001b[39m\u001b[38;5;241m4\u001b[39m\n\u001b[0;32m      2\u001b[0m y\u001b[38;5;241m=\u001b[39m\u001b[38;5;124m'\u001b[39m\u001b[38;5;124ms\u001b[39m\u001b[38;5;124m'\u001b[39m\n\u001b[1;32m----> 3\u001b[0m z\u001b[38;5;241m=\u001b[39m\u001b[43mx\u001b[49m\u001b[38;5;241;43m+\u001b[39;49m\u001b[43my\u001b[49m\n",
      "\u001b[1;31mTypeError\u001b[0m: unsupported operand type(s) for +: 'int' and 'str'"
     ]
    }
   ],
   "source": [
    "x=4\n",
    "y='s'\n",
    "z=x+y"
   ]
  },
  {
   "cell_type": "code",
   "execution_count": 11,
   "id": "2a8c5f80",
   "metadata": {},
   "outputs": [
    {
     "name": "stdout",
     "output_type": "stream",
     "text": [
      "the type error are raised\n"
     ]
    }
   ],
   "source": [
    "try:\n",
    "    x=4\n",
    "    y='s'\n",
    "    z=x+y\n",
    "except TypeError as ex1:\n",
    "    print('the type error are raised')\n",
    "except Exception as ex:\n",
    "    print('some error are raised in the code')"
   ]
  },
  {
   "cell_type": "code",
   "execution_count": 13,
   "id": "443806d5",
   "metadata": {},
   "outputs": [
    {
     "name": "stdout",
     "output_type": "stream",
     "text": [
      "unsupported operand type(s) for +: 'int' and 'str'\n"
     ]
    }
   ],
   "source": [
    "try:\n",
    "    x=4\n",
    "    y='s'\n",
    "    z=x+y\n",
    "except TypeError as ex1:\n",
    "    print(ex1)\n",
    "except Exception as ex:\n",
    "    print('some error are raised in the code')"
   ]
  },
  {
   "cell_type": "code",
   "execution_count": 17,
   "id": "02f8edb0",
   "metadata": {},
   "outputs": [
    {
     "name": "stdout",
     "output_type": "stream",
     "text": [
      "The type error are raised\n",
      "unsupported operand type(s) for +: 'int' and 'str'\n"
     ]
    }
   ],
   "source": [
    "try:\n",
    "    x=4\n",
    "    y='s'\n",
    "    z=x+y\n",
    "except NameError as ex1:\n",
    "    print('The Name error are raised')\n",
    "except TypeError as ex2:\n",
    "    print('The type error are raised')\n",
    "    print(ex2)\n",
    "except Exception as ex:\n",
    "    print('some error are raised in the code')"
   ]
  },
  {
   "cell_type": "code",
   "execution_count": 1,
   "id": "d97a13d4",
   "metadata": {},
   "outputs": [
    {
     "name": "stdout",
     "output_type": "stream",
     "text": [
      "enter the number 1:12\n",
      "enter the number 2:8\n",
      "20\n",
      "4\n",
      "96\n",
      "1.5\n"
     ]
    }
   ],
   "source": [
    "try:\n",
    "    a=int(input('enter the number 1:'))\n",
    "    b=int(input('enter the number 2:'))\n",
    "    c=a+b\n",
    "    d=a-b\n",
    "    e=a*b\n",
    "    f=a/b\n",
    "    print(c)\n",
    "    print(d)\n",
    "    print(e)\n",
    "    print(f)\n",
    "except NameError as ex1:\n",
    "    print('The Name error are raised')\n",
    "except TypeError as ex2:\n",
    "    print('The type error are raised')\n",
    "    print(ex2)\n",
    "except Exception as ex:\n",
    "    print('some error are raised in the code')"
   ]
  },
  {
   "cell_type": "code",
   "execution_count": 5,
   "id": "e94c186d",
   "metadata": {},
   "outputs": [
    {
     "name": "stdout",
     "output_type": "stream",
     "text": [
      "enter the number 1:12\n",
      "enter the number 2:0\n",
      "Please provide number greater then 0\n"
     ]
    }
   ],
   "source": [
    "try:\n",
    "    a=int(input('enter the number 1:'))\n",
    "    b=int(input('enter the number 2:'))\n",
    "    c=a+b\n",
    "    e=a*b\n",
    "    f=a/b\n",
    "    print(c)\n",
    "    print(d)\n",
    "    print(e)\n",
    "    print(f)\n",
    "except NameError:\n",
    "    print('The user have not defined the variable')\n",
    "except ZeroDivisionError:\n",
    "    print('Please provide number greater then 0')\n",
    "except TypeError:\n",
    "    print('The type error are raised')\n",
    "    print(ex2)\n",
    "except Exception as ex:\n",
    "    print(ex) "
   ]
  },
  {
   "cell_type": "code",
   "execution_count": 2,
   "id": "d6076a75",
   "metadata": {},
   "outputs": [
    {
     "ename": "ZeroDivisionError",
     "evalue": "division by zero",
     "output_type": "error",
     "traceback": [
      "\u001b[1;31m---------------------------------------------------------------------------\u001b[0m",
      "\u001b[1;31mZeroDivisionError\u001b[0m                         Traceback (most recent call last)",
      "Input \u001b[1;32mIn [2]\u001b[0m, in \u001b[0;36m<cell line: 1>\u001b[1;34m()\u001b[0m\n\u001b[1;32m----> 1\u001b[0m \u001b[38;5;241;43m12\u001b[39;49m\u001b[38;5;241;43m/\u001b[39;49m\u001b[38;5;241;43m0\u001b[39;49m\n",
      "\u001b[1;31mZeroDivisionError\u001b[0m: division by zero"
     ]
    }
   ],
   "source": [
    "12/0"
   ]
  },
  {
   "cell_type": "code",
   "execution_count": null,
   "id": "e3b07664",
   "metadata": {},
   "outputs": [],
   "source": []
  },
  {
   "cell_type": "markdown",
   "id": "ff308209",
   "metadata": {},
   "source": [
    "TRY ELSE BLOCK"
   ]
  },
  {
   "cell_type": "code",
   "execution_count": 6,
   "id": "658df8d8",
   "metadata": {},
   "outputs": [
    {
     "name": "stdout",
     "output_type": "stream",
     "text": [
      "enter the number 1:12\n",
      "enter the number 2:2\n",
      "14\n",
      "24\n",
      "6.0\n"
     ]
    }
   ],
   "source": [
    "try:\n",
    "    a=int(input('enter the number 1:'))\n",
    "    b=int(input('enter the number 2:'))\n",
    "    c=a+b\n",
    "    e=a*b\n",
    "    f=a/b\n",
    "except NameError:\n",
    "    print('The user have not defined the variable')\n",
    "except ZeroDivisionError:\n",
    "    print('Please provide number greater then 0')\n",
    "except TypeError:\n",
    "    print('The type error are raised')\n",
    "    print(ex2)\n",
    "except Exception as ex:\n",
    "    print(ex)\n",
    "else:\n",
    "    print(c)\n",
    "    print(e)\n",
    "    print(f)"
   ]
  },
  {
   "cell_type": "code",
   "execution_count": null,
   "id": "3a28ccfa",
   "metadata": {},
   "outputs": [],
   "source": []
  },
  {
   "cell_type": "markdown",
   "id": "dfb3573b",
   "metadata": {},
   "source": [
    "TRY ELSE FINALLY"
   ]
  },
  {
   "cell_type": "code",
   "execution_count": 8,
   "id": "d6db1faf",
   "metadata": {},
   "outputs": [
    {
     "name": "stdout",
     "output_type": "stream",
     "text": [
      "enter the number 1:12\n",
      "enter the number 2:6\n",
      "2.0\n",
      "The Execution is done\n"
     ]
    }
   ],
   "source": [
    "try:\n",
    "    a=int(input('enter the number 1:'))\n",
    "    b=int(input('enter the number 2:'))\n",
    "    f=a/b\n",
    "except NameError:\n",
    "    print('The user have not defined the variable')\n",
    "except ZeroDivisionError:\n",
    "    print('Please provide number greater then 0')\n",
    "except TypeError:\n",
    "    print('The type error are raised')\n",
    "    print(ex2)\n",
    "except Exception as ex:\n",
    "    print(ex)\n",
    "else:\n",
    "    print(f)\n",
    "finally:\n",
    "    print('The Execution is done')"
   ]
  },
  {
   "cell_type": "code",
   "execution_count": 9,
   "id": "ae29efe6",
   "metadata": {},
   "outputs": [
    {
     "name": "stdout",
     "output_type": "stream",
     "text": [
      "enter the number 1:12\n",
      "enter the number 2:0\n",
      "Please provide number greater then 0\n",
      "The Execution is done\n"
     ]
    }
   ],
   "source": [
    "try:\n",
    "    a=int(input('enter the number 1:'))\n",
    "    b=int(input('enter the number 2:'))\n",
    "    f=a/b\n",
    "except NameError:\n",
    "    print('The user have not defined the variable')\n",
    "except ZeroDivisionError:\n",
    "    print('Please provide number greater then 0')\n",
    "except TypeError:\n",
    "    print('The type error are raised')\n",
    "    print(ex2)\n",
    "except Exception as ex:\n",
    "    print(ex)\n",
    "else:\n",
    "    print(f)\n",
    "finally:\n",
    "    print('The Execution is done')"
   ]
  },
  {
   "cell_type": "code",
   "execution_count": null,
   "id": "ebca0399",
   "metadata": {},
   "outputs": [],
   "source": []
  },
  {
   "cell_type": "markdown",
   "id": "acb410c3",
   "metadata": {},
   "source": [
    "# Custom Exception"
   ]
  },
  {
   "cell_type": "raw",
   "id": "53a8b788",
   "metadata": {},
   "source": [
    "syntax:\n",
    "class Error(Exception):\n",
    "    pass\n",
    "class dobException(Error):\n",
    "    pass"
   ]
  },
  {
   "cell_type": "code",
   "execution_count": 7,
   "id": "4f5e799e",
   "metadata": {},
   "outputs": [
    {
     "name": "stdout",
     "output_type": "stream",
     "text": [
      "Enter the year of Birth: 1989\n",
      "The year age is not valid,you cannot apply for the exams\n"
     ]
    }
   ],
   "source": [
    "year=int(input('Enter the year of Birth: '))\n",
    "age=2021-year\n",
    "try:\n",
    "    if age<=30 & age>20:\n",
    "        print('The age is valid, you can apply for the exams')\n",
    "    else:\n",
    "        raise dobException\n",
    "except dobException:\n",
    "    print('The year age is not valid,you cannot apply for the exams')"
   ]
  },
  {
   "cell_type": "code",
   "execution_count": null,
   "id": "f8cc96d0",
   "metadata": {},
   "outputs": [],
   "source": []
  },
  {
   "cell_type": "code",
   "execution_count": null,
   "id": "21b9c484",
   "metadata": {},
   "outputs": [],
   "source": []
  },
  {
   "cell_type": "code",
   "execution_count": null,
   "id": "0a22908b",
   "metadata": {},
   "outputs": [],
   "source": []
  },
  {
   "cell_type": "code",
   "execution_count": null,
   "id": "ead5961b",
   "metadata": {},
   "outputs": [],
   "source": []
  },
  {
   "cell_type": "code",
   "execution_count": null,
   "id": "c93494d5",
   "metadata": {},
   "outputs": [],
   "source": []
  },
  {
   "cell_type": "code",
   "execution_count": null,
   "id": "ee6f4d10",
   "metadata": {},
   "outputs": [],
   "source": []
  },
  {
   "cell_type": "code",
   "execution_count": null,
   "id": "7e128554",
   "metadata": {},
   "outputs": [],
   "source": []
  }
 ],
 "metadata": {
  "kernelspec": {
   "display_name": "Python 3 (ipykernel)",
   "language": "python",
   "name": "python3"
  },
  "language_info": {
   "codemirror_mode": {
    "name": "ipython",
    "version": 3
   },
   "file_extension": ".py",
   "mimetype": "text/x-python",
   "name": "python",
   "nbconvert_exporter": "python",
   "pygments_lexer": "ipython3",
   "version": "3.9.12"
  }
 },
 "nbformat": 4,
 "nbformat_minor": 5
}

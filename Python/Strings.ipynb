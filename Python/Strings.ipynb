{
 "cells": [
  {
   "cell_type": "code",
   "execution_count": 9,
   "id": "38e8914a",
   "metadata": {},
   "outputs": [
    {
     "name": "stdout",
     "output_type": "stream",
     "text": [
      "Venky\n",
      "Kanchi\n"
     ]
    }
   ],
   "source": [
    "#strings\n",
    "name='Venky'\n",
    "surname='Kanchi'\n",
    "print(name)\n",
    "print(surname)"
   ]
  },
  {
   "cell_type": "code",
   "execution_count": 7,
   "id": "0b3cf4c9",
   "metadata": {},
   "outputs": [
    {
     "name": "stdout",
     "output_type": "stream",
     "text": [
      "5\n",
      "6\n"
     ]
    }
   ],
   "source": [
    "#1.length\n",
    "print(len(name))\n",
    "print(len(surname))"
   ]
  },
  {
   "cell_type": "code",
   "execution_count": 11,
   "id": "20ecc69e",
   "metadata": {},
   "outputs": [
    {
     "name": "stdout",
     "output_type": "stream",
     "text": [
      "VenkyKanchi\n"
     ]
    }
   ],
   "source": [
    "#2.Concatination\n",
    "print(name+surname)"
   ]
  },
  {
   "cell_type": "code",
   "execution_count": 5,
   "id": "61f7ef26",
   "metadata": {},
   "outputs": [
    {
     "name": "stdout",
     "output_type": "stream",
     "text": [
      "VenkyVenkyVenkyVenkyVenky\n",
      "KanchiKanchiKanchi\n"
     ]
    }
   ],
   "source": [
    "#3.Replication\n",
    "print(name*3)\n",
    "print(surname*3)"
   ]
  },
  {
   "cell_type": "code",
   "execution_count": 10,
   "id": "ea8d158b",
   "metadata": {},
   "outputs": [
    {
     "name": "stdout",
     "output_type": "stream",
     "text": [
      "nk\n",
      "an\n"
     ]
    }
   ],
   "source": [
    "#4.slice\n",
    "print(name[2:4])\n",
    "print(surname[1:3])"
   ]
  },
  {
   "cell_type": "code",
   "execution_count": 12,
   "id": "ccf875ef",
   "metadata": {},
   "outputs": [
    {
     "name": "stdout",
     "output_type": "stream",
     "text": [
      "Venky\n"
     ]
    }
   ],
   "source": [
    "#5.captilaize----> first letter method\n",
    "print(name.capitalize())"
   ]
  },
  {
   "cell_type": "code",
   "execution_count": 16,
   "id": "1bf1f599",
   "metadata": {},
   "outputs": [
    {
     "name": "stdout",
     "output_type": "stream",
     "text": [
      "0\n"
     ]
    }
   ],
   "source": [
    "#count--> words/letters how many to repeat\n",
    "name1='abhishek'\n",
    "substring='h'\n",
    "print(name.count(substring))"
   ]
  },
  {
   "cell_type": "code",
   "execution_count": 18,
   "id": "cf104488",
   "metadata": {},
   "outputs": [
    {
     "name": "stdout",
     "output_type": "stream",
     "text": [
      "4\n",
      "4\n"
     ]
    }
   ],
   "source": [
    "#index--> how to find the index method\n",
    "sub='shek'\n",
    "print(name1.find(sub))\n",
    "print(name1.index(sub))"
   ]
  },
  {
   "cell_type": "code",
   "execution_count": 26,
   "id": "b6fd2191",
   "metadata": {},
   "outputs": [
    {
     "name": "stdout",
     "output_type": "stream",
     "text": [
      "True\n",
      "True\n",
      "False\n",
      "False\n",
      "True\n"
     ]
    }
   ],
   "source": [
    "#alphanumeric---> only recognize the alphabeted(A-Z) & numbers (0-9) is true otherwise is false\n",
    "print(name.isalnum())\n",
    "name='venky1432'\n",
    "name2='venky#$@'\n",
    "print(name.isalnum())\n",
    "print(name2.isalnum())\n",
    "print(name2.isdigit())\n",
    "phone='8125473447'\n",
    "print(phone.isdigit())"
   ]
  },
  {
   "cell_type": "code",
   "execution_count": 29,
   "id": "e77398ef",
   "metadata": {},
   "outputs": [
    {
     "name": "stdout",
     "output_type": "stream",
     "text": [
      "True\n",
      "False\n",
      "False\n",
      "True\n"
     ]
    }
   ],
   "source": [
    "#lower & upper case letters----> checks the upper letter or the lower letter\n",
    "name='VENKY'\n",
    "name1='venky'\n",
    "print(name.isupper())\n",
    "print(name.islower())\n",
    "print(name1.isupper())\n",
    "print(name1.islower())"
   ]
  },
  {
   "cell_type": "code",
   "execution_count": 35,
   "id": "09ec6bc3",
   "metadata": {},
   "outputs": [
    {
     "name": "stdout",
     "output_type": "stream",
     "text": [
      "VENKY\n",
      "venky\n"
     ]
    }
   ],
   "source": [
    "#upper and lower letter-----> converting\n",
    "name='venky'\n",
    "name1='VENKY'\n",
    "print(name.upper())\n",
    "print(name1.lower())"
   ]
  },
  {
   "cell_type": "code",
   "execution_count": 36,
   "id": "fe7d1ae9",
   "metadata": {},
   "outputs": [
    {
     "name": "stdout",
     "output_type": "stream",
     "text": [
      "vENKY kANCHI\n"
     ]
    }
   ],
   "source": [
    "#swap----> upper to lower & lower to upper at a time conversion\n",
    "name='Venky Kanchi'\n",
    "print(name.swapcase())"
   ]
  },
  {
   "cell_type": "code",
   "execution_count": null,
   "id": "0fb8d189",
   "metadata": {},
   "outputs": [],
   "source": []
  }
 ],
 "metadata": {
  "kernelspec": {
   "display_name": "Python 3 (ipykernel)",
   "language": "python",
   "name": "python3"
  },
  "language_info": {
   "codemirror_mode": {
    "name": "ipython",
    "version": 3
   },
   "file_extension": ".py",
   "mimetype": "text/x-python",
   "name": "python",
   "nbconvert_exporter": "python",
   "pygments_lexer": "ipython3",
   "version": "3.9.12"
  }
 },
 "nbformat": 4,
 "nbformat_minor": 5
}

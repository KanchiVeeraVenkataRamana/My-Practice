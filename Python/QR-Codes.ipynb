{
 "cells": [
  {
   "cell_type": "markdown",
   "id": "d2b80197",
   "metadata": {},
   "source": [
    "# Social Media QR_Codes"
   ]
  },
  {
   "cell_type": "code",
   "execution_count": 4,
   "id": "fb7b46f5",
   "metadata": {},
   "outputs": [],
   "source": [
    "import qrcode\n",
    "code_f=qrcode.QRCode(box_size=10,border=4)\n",
    "code_f.add_data(\"https://github.com/KanchiVeeraVenkataRamana\")\n",
    "code_f.make(fit=True)\n",
    "qrcode_img=code_f.make_image(fill_color='black',back_color='white')\n",
    "qrcode_img.save('GitHub_QRCode.png')"
   ]
  },
  {
   "cell_type": "code",
   "execution_count": 5,
   "id": "802add7f",
   "metadata": {},
   "outputs": [],
   "source": [
    "import qrcode\n",
    "code_f=qrcode.QRCode(box_size=10,border=4)\n",
    "code_f.add_data('https://www.linkedin.com/in/kanchi-veera-venkata-ramana-b7579a1b7/')\n",
    "code_f.make(fit=True)\n",
    "qrcode_img=code_f.make_image(fillcolor='black',back_color='yellow')\n",
    "qrcode_img.save('LinkedIN_QRCode.png')"
   ]
  },
  {
   "cell_type": "code",
   "execution_count": 6,
   "id": "75d07ecb",
   "metadata": {},
   "outputs": [],
   "source": [
    "import qrcode\n",
    "code_f=qrcode.QRCode(box_size=10,border=4)\n",
    "code_f.add_data('https://www.facebook.com/ramanaroyals.venky')\n",
    "code_f.make(fit=True)\n",
    "qrcode_img=code_f.make_image(fill_color='black',back_color='white')\n",
    "qrcode_img.save('facebook_QRCode.png')"
   ]
  },
  {
   "cell_type": "code",
   "execution_count": 7,
   "id": "9d9ca1fa",
   "metadata": {},
   "outputs": [],
   "source": [
    "import qrcode\n",
    "code_f=qrcode.QRCode(box_size=10,border=4)\n",
    "code_f.add_data('https://www.instagram.com/call_me_as__venky/')\n",
    "code_f.make(fit=True)\n",
    "qrcode_img=code_f.make_image(fill_color='black',back_color='white')\n",
    "qrcode_img.save('insta_QRCode.png')"
   ]
  },
  {
   "cell_type": "code",
   "execution_count": null,
   "id": "fef1fc13",
   "metadata": {},
   "outputs": [],
   "source": []
  },
  {
   "cell_type": "code",
   "execution_count": null,
   "id": "34458861",
   "metadata": {},
   "outputs": [],
   "source": []
  },
  {
   "cell_type": "code",
   "execution_count": null,
   "id": "3db89f9f",
   "metadata": {},
   "outputs": [],
   "source": []
  },
  {
   "cell_type": "code",
   "execution_count": null,
   "id": "46a92354",
   "metadata": {},
   "outputs": [],
   "source": []
  },
  {
   "cell_type": "code",
   "execution_count": null,
   "id": "1ce71e48",
   "metadata": {},
   "outputs": [],
   "source": []
  },
  {
   "cell_type": "code",
   "execution_count": null,
   "id": "daf06c6c",
   "metadata": {},
   "outputs": [],
   "source": []
  },
  {
   "cell_type": "code",
   "execution_count": null,
   "id": "0e9602cd",
   "metadata": {},
   "outputs": [],
   "source": []
  },
  {
   "cell_type": "code",
   "execution_count": null,
   "id": "eebc37b1",
   "metadata": {},
   "outputs": [],
   "source": []
  },
  {
   "cell_type": "code",
   "execution_count": null,
   "id": "46d5bfa7",
   "metadata": {},
   "outputs": [],
   "source": []
  },
  {
   "cell_type": "code",
   "execution_count": null,
   "id": "ae5a26bd",
   "metadata": {},
   "outputs": [],
   "source": []
  },
  {
   "cell_type": "code",
   "execution_count": null,
   "id": "53bdd8a5",
   "metadata": {},
   "outputs": [],
   "source": []
  }
 ],
 "metadata": {
  "kernelspec": {
   "display_name": "Python 3 (ipykernel)",
   "language": "python",
   "name": "python3"
  },
  "language_info": {
   "codemirror_mode": {
    "name": "ipython",
    "version": 3
   },
   "file_extension": ".py",
   "mimetype": "text/x-python",
   "name": "python",
   "nbconvert_exporter": "python",
   "pygments_lexer": "ipython3",
   "version": "3.9.12"
  }
 },
 "nbformat": 4,
 "nbformat_minor": 5
}

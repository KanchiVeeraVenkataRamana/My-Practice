{
 "cells": [
  {
   "cell_type": "code",
   "execution_count": 33,
   "id": "8b597c43",
   "metadata": {},
   "outputs": [
    {
     "name": "stdout",
     "output_type": "stream",
     "text": [
      "Hello Venky\n"
     ]
    }
   ],
   "source": [
    "# demo program\n",
    "print('Hello Venky')"
   ]
  },
  {
   "cell_type": "code",
   "execution_count": 34,
   "id": "8a8b8275",
   "metadata": {},
   "outputs": [
    {
     "name": "stdout",
     "output_type": "stream",
     "text": [
      "hello world\n",
      "hello venky\n"
     ]
    }
   ],
   "source": [
    "# comments\n",
    "#single comments\n",
    "#print('hello venky')\n",
    "print('hello world')\n",
    "\"\"\"\"multi line comments was \n",
    "used in multilines of don't exeucte \n",
    "the lines of code\"\"\"\n",
    "print(\"hello venky\")"
   ]
  },
  {
   "cell_type": "code",
   "execution_count": 32,
   "id": "e7474834",
   "metadata": {},
   "outputs": [
    {
     "name": "stdout",
     "output_type": "stream",
     "text": [
      "Interger Values of A and B are: 10 35\n",
      "\n",
      "Floating Values of A and B are: 3.344 3544.533\n",
      "\n",
      "The Character value of given value: VENKY\n"
     ]
    }
   ],
   "source": [
    "# Variables\n",
    "#1.Integers type\n",
    "a=10\n",
    "b=35\n",
    "print('Interger Values of A and B are:',a,b)\n",
    "#2.Floating point\n",
    "print()\n",
    "a=3.344\n",
    "b=3544.533\n",
    "print('Floating Values of A and B are:',a,b)\n",
    "#3.Character type\n",
    "print()\n",
    "name='VENKY'\n",
    "print('The Character value of given value:',name)"
   ]
  },
  {
   "cell_type": "code",
   "execution_count": 35,
   "id": "3e178b68",
   "metadata": {},
   "outputs": [
    {
     "name": "stdout",
     "output_type": "stream",
     "text": [
      "VENKY\n",
      "VENKY\n",
      "VENKY\n",
      "\n",
      "VENKY\n",
      "VENKY\n",
      "VENKY\n",
      "VENKY\n",
      "\n",
      "VENKY KANCHI\n",
      "VENKY\n"
     ]
    }
   ],
   "source": [
    "# Types of Variables\n",
    "#1.Globel varibles\n",
    "name='VENKY'\n",
    "def displayname():\n",
    "    print(name)\n",
    "def displayname2():\n",
    "    print(name)\n",
    "    print(name)\n",
    "displayname()\n",
    "displayname2()\n",
    "print()\n",
    "\n",
    "#2.local varibles\n",
    "def display():\n",
    "    name='VENKY'\n",
    "    print(name)\n",
    "def display2():\n",
    "    print(name)\n",
    "display()\n",
    "display2()\n",
    "print(name)\n",
    "print(name)\n",
    "print()\n",
    "\n",
    "#3.NON-LOCAL VARIBLES/ENCLOSED VARIBLES\n",
    "name='VENKY'\n",
    "def displayname():\n",
    "    name2='VENKY KANCHI'\n",
    "    print(name2)\n",
    "displayname()\n",
    "print(name)"
   ]
  },
  {
   "cell_type": "code",
   "execution_count": 54,
   "id": "ecb1b857",
   "metadata": {},
   "outputs": [
    {
     "name": "stdout",
     "output_type": "stream",
     "text": [
      "Integers of A and B Values are:  10 34\n",
      "Flaoting point of A and B Values are:  33.56 44.3533\n",
      "VENKY\n",
      "\n",
      "{'Department:HR', 'ID:507', 'Name:Venky'}\n",
      "\n",
      "True\n",
      "{3.388, 4.22, 10, 20, 'Venky', 'Shyam', 30}\n",
      "\n",
      "VENKY\n",
      "\n",
      "[19, 32, 93, 'venky', 'shaym']\n",
      "\n",
      "(19, 39, 298, 'venky', 'shyam')\n"
     ]
    }
   ],
   "source": [
    "#DATATYPES\n",
    "#1.NUMERIC\n",
    "#(I).Intergers\n",
    "a=10\n",
    "b=34\n",
    "print('Integers of A and B Values are: ',a,b)\n",
    "#(II).Floating points\n",
    "a=33.56\n",
    "b=44.3533\n",
    "print('Flaoting point of A and B Values are: ',a,b)\n",
    "#3.(III).Character\n",
    "brand='VENKY'\n",
    "print(brand)\n",
    "print()\n",
    "\n",
    "#2.Dictionaries\n",
    "e={\"Name:Venky\",\"ID:507\",\"Department:HR\"}\n",
    "print(e)\n",
    "print()\n",
    "\n",
    "#3.Boolean \n",
    "a=10\n",
    "if a>=5:\n",
    "    print(\"True\")\n",
    "else:\n",
    "    print(\"False\")\n",
    "    \n",
    "#4.sets\n",
    "set={10,20,30,'Venky','Shyam',3.388,4.22}\n",
    "print(set)\n",
    "print()\n",
    "\n",
    "#5.SEQUENCE TYPE\n",
    "#(I).Strings\n",
    "name='VENKY'\n",
    "print(name)\n",
    "print()\n",
    "#(II).lists\n",
    "list=[19,32,93,'venky','shaym']\n",
    "print(list)\n",
    "print()\n",
    "#(III).Tuples\n",
    "tuple=(19,39,298,'venky','shyam')\n",
    "print(tuple)"
   ]
  },
  {
   "cell_type": "code",
   "execution_count": 61,
   "id": "478e5cfb",
   "metadata": {},
   "outputs": [
    {
     "name": "stdout",
     "output_type": "stream",
     "text": [
      "Enter A Value: 433\n",
      "Enter the B Value: 343.342\n",
      "Enter the Character Value: venky\n",
      "\n",
      "The Value of A is: 433\n",
      "The Value of B is: 343.342\n",
      "The Character Value of is: venky\n"
     ]
    }
   ],
   "source": [
    "#user-defined programs \n",
    "a=int(input('Enter A Value: '))\n",
    "b=float(input('Enter the B Value: '))\n",
    "char=input('Enter the Character Value: ')\n",
    "print()\n",
    "print('The Value of A is:' ,a)\n",
    "print('The Value of B is:' ,b)\n",
    "print('The Character Value of is:' ,char)"
   ]
  },
  {
   "cell_type": "code",
   "execution_count": 76,
   "id": "749ca388",
   "metadata": {},
   "outputs": [
    {
     "name": "stdout",
     "output_type": "stream",
     "text": [
      "Enter A value: 34\n",
      "Enter B value: 23\n",
      "\n",
      "Addition of Two values:  57\n",
      "Substract of Two values:  11\n",
      "Multiply of Two values:  782\n",
      "Division of Two values:  1.4782608695652173\n",
      "Modules of Two values:  11\n",
      "multiply of  values:  1336336\n",
      "Power of Values: 167500108222301408246337399112597504\n",
      "\n",
      "5\n",
      "True\n",
      "True\n",
      "False\n",
      "False\n",
      "True\n",
      "False\n",
      "\n"
     ]
    }
   ],
   "source": [
    "#OPERATORS\n",
    "#1.Arithmetic\n",
    "a=int(input(\"Enter A value: \"))\n",
    "b=int(input(\"Enter B value: \"))\n",
    "print()\n",
    "print(\"Addition of Two values: \",a+b)\n",
    "print(\"Substract of Two values: \",a-b)\n",
    "print(\"Multiply of Two values: \",a*b)\n",
    "print(\"Division of Two values: \",a/b)\n",
    "print(\"Modules of Two values: \",a%b)\n",
    "print(\"multiply of  values: \",a*a*a*a)\n",
    "print(\"Power of Values:\", a**b)\n",
    "print()\n",
    "\n",
    "#2.Relational\n",
    "a=5\n",
    "print(a)\n",
    "print(a<10)\n",
    "print(a<=10)\n",
    "print(a>10)\n",
    "print(a>=10)\n",
    "print(a!=10)\n",
    "print(a==10)\n",
    "print()\n",
    "\n"
   ]
  },
  {
   "cell_type": "code",
   "execution_count": 78,
   "id": "31fc3464",
   "metadata": {},
   "outputs": [
    {
     "name": "stdout",
     "output_type": "stream",
     "text": [
      "Addition:  5\n",
      "Power:  16\n"
     ]
    }
   ],
   "source": [
    "name='venky'\n",
    "def addition(x,y):\n",
    "    print('Addition: ',x+y)\n",
    "def power(x,y):\n",
    "    print('Power: ',x**y)\n",
    "addition(3,2)\n",
    "power(4,2)"
   ]
  },
  {
   "cell_type": "code",
   "execution_count": 3,
   "id": "7fd2fcbe",
   "metadata": {},
   "outputs": [
    {
     "name": "stdout",
     "output_type": "stream",
     "text": [
      "\n",
      "10\n",
      "<class 'int'>\n",
      "\n",
      "3.24\n",
      "<class 'float'>\n",
      "\n",
      "hello\n",
      "<class 'str'>\n",
      "\n",
      "{'venky', 2.344, 3, 'true'}\n",
      "<class 'set'>\n",
      "\n",
      "['venky', 507, 34.34]\n",
      "<class 'list'>\n",
      "\n",
      "('venky', 55, 35.36)\n",
      "<class 'tuple'>\n",
      "\n",
      "('name:venky', 'branch:cse')\n",
      "<class 'tuple'>\n"
     ]
    }
   ],
   "source": [
    "#type conversions\n",
    "a=10\n",
    "b=3.24\n",
    "c=\"hello\"\n",
    "d={'venky',3,2.344,'true'}\n",
    "e=[\"venky\",507, 34.34]\n",
    "f=(\"venky\",55,35.36)\n",
    "g=('name:venky','branch:cse')\n",
    "print()\n",
    "print(a)\n",
    "print(type(a))\n",
    "print()\n",
    "print(b)\n",
    "print(type(b))\n",
    "print()\n",
    "print(c)\n",
    "print(type(c))\n",
    "print()\n",
    "print(d)\n",
    "print(type(d))\n",
    "print()\n",
    "print(e)\n",
    "print(type(e))\n",
    "print()\n",
    "print(f)\n",
    "print(type(f))\n",
    "print()\n",
    "print(g)\n",
    "print(type(g))"
   ]
  },
  {
   "cell_type": "code",
   "execution_count": 31,
   "id": "f43584eb",
   "metadata": {},
   "outputs": [
    {
     "name": "stdout",
     "output_type": "stream",
     "text": [
      "30\n",
      "453.0\n",
      "True\n",
      "True\n"
     ]
    }
   ],
   "source": [
    "#type casting\n",
    "a=30.543\n",
    "print(int(a))\n",
    "a=453\n",
    "print(float(a))\n",
    "s=\"venky\"\n",
    "print(bool(s))\n",
    "b='false'\n",
    "print(bool(b))"
   ]
  },
  {
   "cell_type": "code",
   "execution_count": null,
   "id": "54769bc2",
   "metadata": {},
   "outputs": [],
   "source": []
  },
  {
   "cell_type": "code",
   "execution_count": null,
   "id": "45f5b563",
   "metadata": {},
   "outputs": [],
   "source": []
  }
 ],
 "metadata": {
  "kernelspec": {
   "display_name": "Python 3 (ipykernel)",
   "language": "python",
   "name": "python3"
  },
  "language_info": {
   "codemirror_mode": {
    "name": "ipython",
    "version": 3
   },
   "file_extension": ".py",
   "mimetype": "text/x-python",
   "name": "python",
   "nbconvert_exporter": "python",
   "pygments_lexer": "ipython3",
   "version": "3.9.12"
  }
 },
 "nbformat": 4,
 "nbformat_minor": 5
}

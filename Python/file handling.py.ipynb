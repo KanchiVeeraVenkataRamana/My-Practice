{
 "cells": [
  {
   "cell_type": "markdown",
   "id": "d9e922cd",
   "metadata": {},
   "source": [
    "# FILE HANDLING "
   ]
  },
  {
   "cell_type": "raw",
   "id": "cc6ffdb7",
   "metadata": {},
   "source": [
    "SYNTAX:\n",
    " variable=open(file,mode)\n",
    " variable.close()\n",
    " \n",
    "#MODES\n",
    "r----> read-Default value. opens a file for reading, error if the file does not exist.\n",
    "a----> append-opens a file for appending, creates the file if it does not exist.\n",
    "w----> write-opens a file for writing, creates the file if it does not exist."
   ]
  },
  {
   "cell_type": "code",
   "execution_count": 1,
   "id": "d8c60bbb",
   "metadata": {},
   "outputs": [
    {
     "name": "stdout",
     "output_type": "stream",
     "text": [
      "C:\\Users\\91630\n"
     ]
    }
   ],
   "source": [
    "import os\n",
    "print(os.getcwd())"
   ]
  },
  {
   "cell_type": "code",
   "execution_count": 1,
   "id": "d6e1a4f7",
   "metadata": {},
   "outputs": [
    {
     "name": "stdout",
     "output_type": "stream",
     "text": [
      "<_io.TextIOWrapper name='text.file' mode='r' encoding='cp1252'>\n"
     ]
    }
   ],
   "source": [
    "file=open('text.file','r')\n",
    "print(file)"
   ]
  },
  {
   "cell_type": "code",
   "execution_count": null,
   "id": "411acdbd",
   "metadata": {},
   "outputs": [],
   "source": [
    "#file=open('location path','r')  #error of unicode error"
   ]
  },
  {
   "cell_type": "code",
   "execution_count": null,
   "id": "6e8938ac",
   "metadata": {},
   "outputs": [],
   "source": [
    "#solution-1\n",
    "#file=open('location path(//)','r')"
   ]
  },
  {
   "cell_type": "code",
   "execution_count": null,
   "id": "0788c863",
   "metadata": {},
   "outputs": [],
   "source": [
    "#solution-2\n",
    "#file=open(r'location path','r')"
   ]
  },
  {
   "cell_type": "code",
   "execution_count": null,
   "id": "07c402a2",
   "metadata": {},
   "outputs": [],
   "source": []
  },
  {
   "cell_type": "markdown",
   "id": "b2213f6c",
   "metadata": {},
   "source": [
    "READING THE FILE"
   ]
  },
  {
   "cell_type": "code",
   "execution_count": 1,
   "id": "de6a07fb",
   "metadata": {},
   "outputs": [
    {
     "name": "stdout",
     "output_type": "stream",
     "text": [
      "This is also useful for the improvementIt allows us to write in a particular fileThis will add this line at the end\n"
     ]
    }
   ],
   "source": [
    "file=open('text.file','r')\n",
    "for each_row in file:\n",
    "    print(each_row)"
   ]
  },
  {
   "cell_type": "code",
   "execution_count": 2,
   "id": "162efe68",
   "metadata": {},
   "outputs": [
    {
     "name": "stdout",
     "output_type": "stream",
     "text": [
      "This is also useful for the improvementIt allows us to write in a particular fileThis will add this line at the end\n"
     ]
    }
   ],
   "source": [
    "file=open('text.file','r')\n",
    "print(file.read())\n",
    "file.close()"
   ]
  },
  {
   "cell_type": "code",
   "execution_count": null,
   "id": "66fa85b9",
   "metadata": {},
   "outputs": [],
   "source": []
  },
  {
   "cell_type": "markdown",
   "id": "bfd44a88",
   "metadata": {},
   "source": [
    "WRITING THE FILE"
   ]
  },
  {
   "cell_type": "code",
   "execution_count": 3,
   "id": "fee2de59",
   "metadata": {},
   "outputs": [],
   "source": [
    "file=open('text.file','w')\n",
    "file.write('This is also useful for the improvement')\n",
    "file.write('It allows us to write in a particular file')\n",
    "file.close()"
   ]
  },
  {
   "cell_type": "code",
   "execution_count": 4,
   "id": "12a615d2",
   "metadata": {},
   "outputs": [
    {
     "name": "stdout",
     "output_type": "stream",
     "text": [
      "This is also useful for the improvementIt allows us to write in a particular file\n"
     ]
    }
   ],
   "source": [
    "file=open('text.file','r')\n",
    "print(file.read() )\n",
    "file.close()"
   ]
  },
  {
   "cell_type": "code",
   "execution_count": null,
   "id": "5b65a592",
   "metadata": {},
   "outputs": [],
   "source": []
  },
  {
   "cell_type": "markdown",
   "id": "de38e2ce",
   "metadata": {},
   "source": [
    "APPENDING A FILE"
   ]
  },
  {
   "cell_type": "code",
   "execution_count": 5,
   "id": "0c4e2b09",
   "metadata": {},
   "outputs": [],
   "source": [
    "file=open('text.file','a')\n",
    "file.write('This will add this line at the end')\n",
    "file.close()"
   ]
  },
  {
   "cell_type": "code",
   "execution_count": 6,
   "id": "92ca441d",
   "metadata": {},
   "outputs": [
    {
     "name": "stdout",
     "output_type": "stream",
     "text": [
      "This is also useful for the improvementIt allows us to write in a particular fileThis will add this line at the end\n"
     ]
    }
   ],
   "source": [
    "file=open('text.file','r')\n",
    "print(file.read())\n",
    "file.close()"
   ]
  },
  {
   "cell_type": "code",
   "execution_count": null,
   "id": "c42d3885",
   "metadata": {},
   "outputs": [],
   "source": []
  },
  {
   "cell_type": "markdown",
   "id": "a9df7cf2",
   "metadata": {},
   "source": [
    "SECOND METHOD TO read/write THE FILE IN PYTHON USING WITH:"
   ]
  },
  {
   "cell_type": "code",
   "execution_count": 7,
   "id": "bd06e1a9",
   "metadata": {},
   "outputs": [
    {
     "name": "stdout",
     "output_type": "stream",
     "text": [
      "This is also useful for the improvementIt allows us to write in a particular fileThis will add this line at the end\n"
     ]
    }
   ],
   "source": [
    "with open('text.file') as file:\n",
    "    data=file.read()\n",
    "print(data)"
   ]
  },
  {
   "cell_type": "code",
   "execution_count": 8,
   "id": "ea1d7d4b",
   "metadata": {},
   "outputs": [],
   "source": [
    "with open('text.file','w') as f:\n",
    "    f.write('Hello Venky')"
   ]
  },
  {
   "cell_type": "code",
   "execution_count": 9,
   "id": "ffc69ef4",
   "metadata": {},
   "outputs": [
    {
     "name": "stdout",
     "output_type": "stream",
     "text": [
      "Hello Venky\n"
     ]
    }
   ],
   "source": [
    "with open('text.file')as file:\n",
    "    data=file.read()\n",
    "print(data)"
   ]
  },
  {
   "cell_type": "code",
   "execution_count": 10,
   "id": "eb30fb0d",
   "metadata": {},
   "outputs": [
    {
     "name": "stdout",
     "output_type": "stream",
     "text": [
      "['Hello', 'Venky']\n"
     ]
    }
   ],
   "source": [
    "with open('text.file','r')as file:\n",
    "    data=file.readlines()\n",
    "    for line in data:\n",
    "        word=line.split()\n",
    "        print(word)"
   ]
  },
  {
   "cell_type": "code",
   "execution_count": null,
   "id": "c3dfef16",
   "metadata": {},
   "outputs": [],
   "source": []
  },
  {
   "cell_type": "markdown",
   "id": "77a11e20",
   "metadata": {},
   "source": [
    "# creating a new file:"
   ]
  },
  {
   "cell_type": "raw",
   "id": "533b5956",
   "metadata": {},
   "source": [
    "To create a new file a python, use the open() method, with one of the following parameters:\n",
    "x--> create-will create a file, returns an error if the file exist\n",
    "a--> apppend-will create a file if the specified file does not exist\n",
    "w--> write-will create a file if the specified file does not exist"
   ]
  },
  {
   "cell_type": "code",
   "execution_count": 11,
   "id": "e406dddb",
   "metadata": {},
   "outputs": [
    {
     "ename": "FileExistsError",
     "evalue": "[Errno 17] File exists: 'text1.file'",
     "output_type": "error",
     "traceback": [
      "\u001b[1;31m---------------------------------------------------------------------------\u001b[0m",
      "\u001b[1;31mFileExistsError\u001b[0m                           Traceback (most recent call last)",
      "Input \u001b[1;32mIn [11]\u001b[0m, in \u001b[0;36m<cell line: 1>\u001b[1;34m()\u001b[0m\n\u001b[1;32m----> 1\u001b[0m f\u001b[38;5;241m=\u001b[39m\u001b[38;5;28;43mopen\u001b[39;49m\u001b[43m(\u001b[49m\u001b[38;5;124;43m'\u001b[39;49m\u001b[38;5;124;43mtext1.file\u001b[39;49m\u001b[38;5;124;43m'\u001b[39;49m\u001b[43m,\u001b[49m\u001b[38;5;124;43m'\u001b[39;49m\u001b[38;5;124;43mx\u001b[39;49m\u001b[38;5;124;43m'\u001b[39;49m\u001b[43m)\u001b[49m\n\u001b[0;32m      2\u001b[0m f\u001b[38;5;241m.\u001b[39mclose()\n",
      "\u001b[1;31mFileExistsError\u001b[0m: [Errno 17] File exists: 'text1.file'"
     ]
    }
   ],
   "source": [
    "f=open('text1.file','x')\n",
    "f.close()"
   ]
  },
  {
   "cell_type": "code",
   "execution_count": null,
   "id": "3e3a8ba9",
   "metadata": {},
   "outputs": [],
   "source": [
    "f=open('text2.file','w')\n",
    "f.close()"
   ]
  },
  {
   "cell_type": "code",
   "execution_count": null,
   "id": "476686ec",
   "metadata": {},
   "outputs": [],
   "source": [
    "f=open('text3.file','a')\n",
    "f.close()"
   ]
  },
  {
   "cell_type": "code",
   "execution_count": null,
   "id": "b4227ac8",
   "metadata": {},
   "outputs": [],
   "source": []
  },
  {
   "cell_type": "markdown",
   "id": "92c91b48",
   "metadata": {},
   "source": [
    "USE OF Seek() and tell():"
   ]
  },
  {
   "cell_type": "code",
   "execution_count": 12,
   "id": "682ee0a0",
   "metadata": {},
   "outputs": [
    {
     "name": "stdout",
     "output_type": "stream",
     "text": [
      "0\n",
      "11\n"
     ]
    }
   ],
   "source": [
    "f=open('text1.file','w')\n",
    "print(f.tell())\n",
    "f.write('Hello Venky')\n",
    "print(f.tell())\n",
    "f.close()"
   ]
  },
  {
   "cell_type": "code",
   "execution_count": 13,
   "id": "b9ece5d3",
   "metadata": {},
   "outputs": [
    {
     "name": "stdout",
     "output_type": "stream",
     "text": [
      "11\n",
      "28\n"
     ]
    }
   ],
   "source": [
    "f=open('text1.file','a')\n",
    "print(f.tell())\n",
    "f.write('Hello Venky Again')\n",
    "print(f.tell())\n",
    "f.close()"
   ]
  },
  {
   "cell_type": "code",
   "execution_count": 14,
   "id": "e3074832",
   "metadata": {},
   "outputs": [
    {
     "name": "stdout",
     "output_type": "stream",
     "text": [
      "Hello VenkyHello Venky Again\n"
     ]
    }
   ],
   "source": [
    "f=open('text1.file','r')\n",
    "print(f.read())\n",
    "f.close()"
   ]
  },
  {
   "cell_type": "code",
   "execution_count": 15,
   "id": "a9dfa3a0",
   "metadata": {},
   "outputs": [
    {
     "name": "stdout",
     "output_type": "stream",
     "text": [
      "lo VenkyHello Venky Again\n"
     ]
    }
   ],
   "source": [
    "f=open('text1.file','r')\n",
    "f.seek(3)\n",
    "print(f.read())\n",
    "f.close()"
   ]
  },
  {
   "cell_type": "code",
   "execution_count": null,
   "id": "92631424",
   "metadata": {},
   "outputs": [],
   "source": []
  },
  {
   "cell_type": "markdown",
   "id": "9ae6e20d",
   "metadata": {},
   "source": [
    "# More about modes:"
   ]
  },
  {
   "cell_type": "code",
   "execution_count": 16,
   "id": "4d82b481",
   "metadata": {},
   "outputs": [
    {
     "name": "stdout",
     "output_type": "stream",
     "text": [
      "0\n",
      "this the code line...this a the code of the first\n",
      "49\n",
      "68\n"
     ]
    }
   ],
   "source": [
    "f=open('text2.file','r+')\n",
    "print(f.tell())\n",
    "print(f.read())\n",
    "print(f.tell())\n",
    "f.write('this is a test line')\n",
    "print(f.tell())\n",
    "f.close()"
   ]
  },
  {
   "cell_type": "code",
   "execution_count": 17,
   "id": "34ea5dcf",
   "metadata": {},
   "outputs": [
    {
     "name": "stdout",
     "output_type": "stream",
     "text": [
      "s the code line...\n"
     ]
    }
   ],
   "source": [
    "f=open('text2.file','w+')\n",
    "f.write('this the code line...')\n",
    "f.seek(3)\n",
    "print(f.read())\n",
    "f.close()"
   ]
  },
  {
   "cell_type": "code",
   "execution_count": 18,
   "id": "dfb9c35e",
   "metadata": {},
   "outputs": [
    {
     "name": "stdout",
     "output_type": "stream",
     "text": [
      "he code line...this a the code of the first\n"
     ]
    }
   ],
   "source": [
    "f=open('text2.file','a+')\n",
    "f.write('this a the code of the first')\n",
    "f.seek(6)\n",
    "print(f.readline())\n",
    "f.close()"
   ]
  },
  {
   "cell_type": "code",
   "execution_count": null,
   "id": "8b0b12e1",
   "metadata": {},
   "outputs": [],
   "source": []
  },
  {
   "cell_type": "code",
   "execution_count": null,
   "id": "a6e4d05b",
   "metadata": {},
   "outputs": [],
   "source": []
  },
  {
   "cell_type": "code",
   "execution_count": null,
   "id": "30c19b9e",
   "metadata": {},
   "outputs": [],
   "source": []
  },
  {
   "cell_type": "code",
   "execution_count": null,
   "id": "256da05c",
   "metadata": {},
   "outputs": [],
   "source": []
  },
  {
   "cell_type": "code",
   "execution_count": null,
   "id": "1ef6eb4d",
   "metadata": {},
   "outputs": [],
   "source": []
  }
 ],
 "metadata": {
  "kernelspec": {
   "display_name": "Python 3 (ipykernel)",
   "language": "python",
   "name": "python3"
  },
  "language_info": {
   "codemirror_mode": {
    "name": "ipython",
    "version": 3
   },
   "file_extension": ".py",
   "mimetype": "text/x-python",
   "name": "python",
   "nbconvert_exporter": "python",
   "pygments_lexer": "ipython3",
   "version": "3.9.12"
  }
 },
 "nbformat": 4,
 "nbformat_minor": 5
}

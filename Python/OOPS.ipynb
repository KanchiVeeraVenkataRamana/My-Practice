{
 "cells": [
  {
   "cell_type": "code",
   "execution_count": 1,
   "id": "806f5269",
   "metadata": {},
   "outputs": [
    {
     "ename": "AttributeError",
     "evalue": "'list' object has no attribute 'upper'",
     "output_type": "error",
     "traceback": [
      "\u001b[1;31m---------------------------------------------------------------------------\u001b[0m",
      "\u001b[1;31mAttributeError\u001b[0m                            Traceback (most recent call last)",
      "Input \u001b[1;32mIn [1]\u001b[0m, in \u001b[0;36m<cell line: 2>\u001b[1;34m()\u001b[0m\n\u001b[0;32m      1\u001b[0m l\u001b[38;5;241m=\u001b[39m[\u001b[38;5;241m1\u001b[39m,\u001b[38;5;241m2\u001b[39m,\u001b[38;5;241m3\u001b[39m]\n\u001b[1;32m----> 2\u001b[0m \u001b[43ml\u001b[49m\u001b[38;5;241;43m.\u001b[39;49m\u001b[43mupper\u001b[49m()\n",
      "\u001b[1;31mAttributeError\u001b[0m: 'list' object has no attribute 'upper'"
     ]
    }
   ],
   "source": [
    "l=[1,2,3]\n",
    "l.upper()"
   ]
  },
  {
   "cell_type": "code",
   "execution_count": 2,
   "id": "6aac03bb",
   "metadata": {},
   "outputs": [
    {
     "ename": "AttributeError",
     "evalue": "'str' object has no attribute 'append'",
     "output_type": "error",
     "traceback": [
      "\u001b[1;31m---------------------------------------------------------------------------\u001b[0m",
      "\u001b[1;31mAttributeError\u001b[0m                            Traceback (most recent call last)",
      "Input \u001b[1;32mIn [2]\u001b[0m, in \u001b[0;36m<cell line: 2>\u001b[1;34m()\u001b[0m\n\u001b[0;32m      1\u001b[0m s\u001b[38;5;241m=\u001b[39m\u001b[38;5;124m'\u001b[39m\u001b[38;5;124mVenky\u001b[39m\u001b[38;5;124m'\u001b[39m\n\u001b[1;32m----> 2\u001b[0m \u001b[43ms\u001b[49m\u001b[38;5;241;43m.\u001b[39;49m\u001b[43mappend\u001b[49m(\u001b[38;5;124m'\u001b[39m\u001b[38;5;124mx\u001b[39m\u001b[38;5;124m'\u001b[39m)\n",
      "\u001b[1;31mAttributeError\u001b[0m: 'str' object has no attribute 'append'"
     ]
    }
   ],
   "source": [
    "s='Venky'\n",
    "s.append('x')"
   ]
  },
  {
   "cell_type": "code",
   "execution_count": 3,
   "id": "1d786b77",
   "metadata": {},
   "outputs": [
    {
     "data": {
      "text/plain": [
       "str"
      ]
     },
     "execution_count": 3,
     "metadata": {},
     "output_type": "execute_result"
    }
   ],
   "source": [
    "type(s)"
   ]
  },
  {
   "cell_type": "code",
   "execution_count": 4,
   "id": "1cccaefa",
   "metadata": {},
   "outputs": [
    {
     "name": "stdout",
     "output_type": "stream",
     "text": [
      "<class 'str'>\n"
     ]
    }
   ],
   "source": [
    "print(type(s))"
   ]
  },
  {
   "cell_type": "code",
   "execution_count": 5,
   "id": "12d8a2cf",
   "metadata": {},
   "outputs": [
    {
     "name": "stdout",
     "output_type": "stream",
     "text": [
      "<class 'list'>\n"
     ]
    }
   ],
   "source": [
    "print(type(l))"
   ]
  },
  {
   "cell_type": "code",
   "execution_count": 6,
   "id": "02a55ea4",
   "metadata": {},
   "outputs": [
    {
     "data": {
      "text/plain": [
       "list"
      ]
     },
     "execution_count": 6,
     "metadata": {},
     "output_type": "execute_result"
    }
   ],
   "source": [
    "#objectname=Classname()\n",
    "l=list()\n",
    "type(l)"
   ]
  },
  {
   "cell_type": "code",
   "execution_count": 7,
   "id": "2e7c9047",
   "metadata": {},
   "outputs": [
    {
     "name": "stdout",
     "output_type": "stream",
     "text": [
      "<class 'str'>\n"
     ]
    }
   ],
   "source": [
    "s=str()\n",
    "print(type(s))"
   ]
  },
  {
   "cell_type": "code",
   "execution_count": 10,
   "id": "5a2ddc95",
   "metadata": {},
   "outputs": [
    {
     "name": "stdout",
     "output_type": "stream",
     "text": [
      "<__main__.Car object at 0x000002313D1D5C70>\n"
     ]
    }
   ],
   "source": [
    "class Car:\n",
    "    pass\n",
    "a=Car()\n",
    "print(a)"
   ]
  },
  {
   "cell_type": "code",
   "execution_count": 9,
   "id": "08539257",
   "metadata": {},
   "outputs": [
    {
     "name": "stdout",
     "output_type": "stream",
     "text": [
      "<class '__main__.Car'>\n"
     ]
    }
   ],
   "source": [
    "print(type(a))"
   ]
  },
  {
   "cell_type": "code",
   "execution_count": 11,
   "id": "5cb12720",
   "metadata": {},
   "outputs": [
    {
     "data": {
      "text/plain": [
       "['__add__',\n",
       " '__class__',\n",
       " '__class_getitem__',\n",
       " '__contains__',\n",
       " '__delattr__',\n",
       " '__delitem__',\n",
       " '__dir__',\n",
       " '__doc__',\n",
       " '__eq__',\n",
       " '__format__',\n",
       " '__ge__',\n",
       " '__getattribute__',\n",
       " '__getitem__',\n",
       " '__gt__',\n",
       " '__hash__',\n",
       " '__iadd__',\n",
       " '__imul__',\n",
       " '__init__',\n",
       " '__init_subclass__',\n",
       " '__iter__',\n",
       " '__le__',\n",
       " '__len__',\n",
       " '__lt__',\n",
       " '__mul__',\n",
       " '__ne__',\n",
       " '__new__',\n",
       " '__reduce__',\n",
       " '__reduce_ex__',\n",
       " '__repr__',\n",
       " '__reversed__',\n",
       " '__rmul__',\n",
       " '__setattr__',\n",
       " '__setitem__',\n",
       " '__sizeof__',\n",
       " '__str__',\n",
       " '__subclasshook__',\n",
       " 'append',\n",
       " 'clear',\n",
       " 'copy',\n",
       " 'count',\n",
       " 'extend',\n",
       " 'index',\n",
       " 'insert',\n",
       " 'pop',\n",
       " 'remove',\n",
       " 'reverse',\n",
       " 'sort']"
      ]
     },
     "execution_count": 11,
     "metadata": {},
     "output_type": "execute_result"
    }
   ],
   "source": [
    "dir(l)"
   ]
  },
  {
   "cell_type": "code",
   "execution_count": 12,
   "id": "507e498c",
   "metadata": {},
   "outputs": [
    {
     "data": {
      "text/plain": [
       "['__class__',\n",
       " '__delattr__',\n",
       " '__dict__',\n",
       " '__dir__',\n",
       " '__doc__',\n",
       " '__eq__',\n",
       " '__format__',\n",
       " '__ge__',\n",
       " '__getattribute__',\n",
       " '__gt__',\n",
       " '__hash__',\n",
       " '__init__',\n",
       " '__init_subclass__',\n",
       " '__le__',\n",
       " '__lt__',\n",
       " '__module__',\n",
       " '__ne__',\n",
       " '__new__',\n",
       " '__reduce__',\n",
       " '__reduce_ex__',\n",
       " '__repr__',\n",
       " '__setattr__',\n",
       " '__sizeof__',\n",
       " '__str__',\n",
       " '__subclasshook__',\n",
       " '__weakref__']"
      ]
     },
     "execution_count": 12,
     "metadata": {},
     "output_type": "execute_result"
    }
   ],
   "source": [
    "dir(a)"
   ]
  },
  {
   "cell_type": "code",
   "execution_count": 16,
   "id": "a176865b",
   "metadata": {},
   "outputs": [],
   "source": [
    "class Car:\n",
    "    def __init__(self,company,nop):\n",
    "        self.company=company\n",
    "        self.nop=nop"
   ]
  },
  {
   "cell_type": "code",
   "execution_count": 18,
   "id": "9d22c2b7",
   "metadata": {},
   "outputs": [
    {
     "data": {
      "text/plain": [
       "'Toyata'"
      ]
     },
     "execution_count": 18,
     "metadata": {},
     "output_type": "execute_result"
    }
   ],
   "source": [
    "a=Car('Toyata',4)\n",
    "a.company"
   ]
  },
  {
   "cell_type": "code",
   "execution_count": 22,
   "id": "d8f79491",
   "metadata": {},
   "outputs": [
    {
     "data": {
      "text/plain": [
       "'Innova'"
      ]
     },
     "execution_count": 22,
     "metadata": {},
     "output_type": "execute_result"
    }
   ],
   "source": [
    "b=Car('Innova',8)\n",
    "b.company"
   ]
  },
  {
   "cell_type": "code",
   "execution_count": 23,
   "id": "eb594fa2",
   "metadata": {},
   "outputs": [
    {
     "data": {
      "text/plain": [
       "8"
      ]
     },
     "execution_count": 23,
     "metadata": {},
     "output_type": "execute_result"
    }
   ],
   "source": [
    "b.nop"
   ]
  },
  {
   "cell_type": "code",
   "execution_count": 33,
   "id": "a6682c23",
   "metadata": {},
   "outputs": [],
   "source": [
    "class Atm:\n",
    "    def __init__(self):\n",
    "        self.pin=''\n",
    "        self.balance=0\n",
    "         \n",
    "        def menu(self):\n",
    "            user_input=input(\"\"\"\n",
    "            Hi How can i help you\n",
    "            1.press 1 to create pin\n",
    "            2.press 2 to change pin\n",
    "            3.press 3 to check balance\n",
    "            4.press 4 to withdraw\n",
    "            5.prss Anything to exit\"\"\")\n",
    "                             \n",
    "            if user_input=='1':\n",
    "                self.create_pin()\n",
    "            elif user_input=='2':\n",
    "                self.change_pin()\n",
    "            elif user_input=='3':\n",
    "                self.change_balance()\n",
    "            elif user_input=='4':\n",
    "                self.withdraw()\n",
    "            else:\n",
    "                exit()\n",
    "                \n",
    "        def create_pin(self):\n",
    "            user_pin=input('Enter ur pin: ')\n",
    "            self.pin=user_pin\n",
    "            user_balance=int(input('Enter the Balance: '))\n",
    "            self.balance=user_balance\n",
    "            print('pin created successfully')\n",
    "            self.balance()\n",
    "            \n",
    "        def change_pin(self):\n",
    "            old_pin=input('Enter ur old pin: ')\n",
    "            if old_pin==self.pin:\n",
    "                new_pin=input('Enter new pin')\n",
    "                self.pin=new_pin\n",
    "                print('pin changed successfully')\n",
    "                self.menu()\n",
    "            else:\n",
    "                print('Get Lost')\n",
    "                self.menu()\n",
    "                \n",
    "        def check_balance(self):\n",
    "            user_pin=input('Enter the pin: ')\n",
    "            if user_pin==self.pin:\n",
    "                print('the balance is: ',self.balance)\n",
    "                self.menu()\n",
    "            else:\n",
    "                print('Get lost')\n",
    "            \n",
    "        def withdraw(self):\n",
    "            user_pin=input('enter the your pin')\n",
    "            if user_pin==self.pin:\n",
    "                #allow the person to withdraw\n",
    "                amount=int(input('enter the amount: '))\n",
    "                if amount<=self.balance-amount:\n",
    "                    print('withdraw successful, current balance is: ',self.balance)\n",
    "                else: \n",
    "                    print('earn some more money')\n",
    "            else:\n",
    "                print('get lost')\n",
    "            self.menu()"
   ]
  },
  {
   "cell_type": "code",
   "execution_count": 34,
   "id": "a784e22d",
   "metadata": {},
   "outputs": [],
   "source": [
    "Ob1=Atm()"
   ]
  },
  {
   "cell_type": "code",
   "execution_count": 35,
   "id": "d00b2328",
   "metadata": {},
   "outputs": [
    {
     "data": {
      "text/plain": [
       "0"
      ]
     },
     "execution_count": 35,
     "metadata": {},
     "output_type": "execute_result"
    }
   ],
   "source": [
    "Ob1.balance"
   ]
  },
  {
   "cell_type": "code",
   "execution_count": 36,
   "id": "1528054e",
   "metadata": {},
   "outputs": [
    {
     "ename": "NameError",
     "evalue": "name 'balance' is not defined",
     "output_type": "error",
     "traceback": [
      "\u001b[1;31m---------------------------------------------------------------------------\u001b[0m",
      "\u001b[1;31mNameError\u001b[0m                                 Traceback (most recent call last)",
      "Input \u001b[1;32mIn [36]\u001b[0m, in \u001b[0;36m<cell line: 1>\u001b[1;34m()\u001b[0m\n\u001b[1;32m----> 1\u001b[0m \u001b[43mbalance\u001b[49m(Ob1)\n",
      "\u001b[1;31mNameError\u001b[0m: name 'balance' is not defined"
     ]
    }
   ],
   "source": [
    "balance(Ob1)"
   ]
  },
  {
   "cell_type": "code",
   "execution_count": 37,
   "id": "788374c8",
   "metadata": {},
   "outputs": [
    {
     "data": {
      "text/plain": [
       "''"
      ]
     },
     "execution_count": 37,
     "metadata": {},
     "output_type": "execute_result"
    }
   ],
   "source": [
    "Ob1.pin"
   ]
  },
  {
   "cell_type": "code",
   "execution_count": 38,
   "id": "d0e1d6e8",
   "metadata": {},
   "outputs": [
    {
     "ename": "AttributeError",
     "evalue": "'Atm' object has no attribute 'create_pin'",
     "output_type": "error",
     "traceback": [
      "\u001b[1;31m---------------------------------------------------------------------------\u001b[0m",
      "\u001b[1;31mAttributeError\u001b[0m                            Traceback (most recent call last)",
      "Input \u001b[1;32mIn [38]\u001b[0m, in \u001b[0;36m<cell line: 1>\u001b[1;34m()\u001b[0m\n\u001b[1;32m----> 1\u001b[0m \u001b[43mOb1\u001b[49m\u001b[38;5;241;43m.\u001b[39;49m\u001b[43mcreate_pin\u001b[49m()\n",
      "\u001b[1;31mAttributeError\u001b[0m: 'Atm' object has no attribute 'create_pin'"
     ]
    }
   ],
   "source": [
    "Ob1.create_pin()"
   ]
  },
  {
   "cell_type": "code",
   "execution_count": null,
   "id": "b3e2f0b8",
   "metadata": {},
   "outputs": [],
   "source": []
  },
  {
   "cell_type": "code",
   "execution_count": null,
   "id": "ad186830",
   "metadata": {},
   "outputs": [],
   "source": []
  },
  {
   "cell_type": "code",
   "execution_count": null,
   "id": "7433f066",
   "metadata": {},
   "outputs": [],
   "source": []
  },
  {
   "cell_type": "code",
   "execution_count": null,
   "id": "1d7949ba",
   "metadata": {},
   "outputs": [],
   "source": []
  }
 ],
 "metadata": {
  "kernelspec": {
   "display_name": "Python 3 (ipykernel)",
   "language": "python",
   "name": "python3"
  },
  "language_info": {
   "codemirror_mode": {
    "name": "ipython",
    "version": 3
   },
   "file_extension": ".py",
   "mimetype": "text/x-python",
   "name": "python",
   "nbconvert_exporter": "python",
   "pygments_lexer": "ipython3",
   "version": "3.9.12"
  }
 },
 "nbformat": 4,
 "nbformat_minor": 5
}

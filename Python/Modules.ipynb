{
 "cells": [
  {
   "cell_type": "markdown",
   "id": "952c73f5",
   "metadata": {},
   "source": [
    "# MODULES"
   ]
  },
  {
   "cell_type": "markdown",
   "id": "48facd10",
   "metadata": {},
   "source": [
    "modules files are saved as the python extension of the file(.py)"
   ]
  },
  {
   "cell_type": "code",
   "execution_count": 1,
   "id": "ebdc03e4",
   "metadata": {},
   "outputs": [
    {
     "name": "stdout",
     "output_type": "stream",
     "text": [
      "['C:\\\\Users\\\\91630', 'C:\\\\Users\\\\91630\\\\anaconda3\\\\python39.zip', 'C:\\\\Users\\\\91630\\\\anaconda3\\\\DLLs', 'C:\\\\Users\\\\91630\\\\anaconda3\\\\lib', 'C:\\\\Users\\\\91630\\\\anaconda3', '', 'C:\\\\Users\\\\91630\\\\anaconda3\\\\lib\\\\site-packages', 'C:\\\\Users\\\\91630\\\\anaconda3\\\\lib\\\\site-packages\\\\win32', 'C:\\\\Users\\\\91630\\\\anaconda3\\\\lib\\\\site-packages\\\\win32\\\\lib', 'C:\\\\Users\\\\91630\\\\anaconda3\\\\lib\\\\site-packages\\\\Pythonwin']\n"
     ]
    }
   ],
   "source": [
    "import sys\n",
    "print(sys.path)"
   ]
  },
  {
   "cell_type": "code",
   "execution_count": 3,
   "id": "6fb5dc3e",
   "metadata": {},
   "outputs": [
    {
     "name": "stdout",
     "output_type": "stream",
     "text": [
      "enter the radius: 4\n",
      "enter the side: 8\n",
      "Area of circle is 50.24\n",
      "Area of square is 64\n"
     ]
    }
   ],
   "source": [
    "import module_file\n",
    "a=int(input('enter the radius: '))\n",
    "c=module_file.circle(a)\n",
    "s=int(input('enter the side: '))\n",
    "x=module_file.square(s)\n",
    "print('Area of circle is',c)\n",
    "print('Area of square is',x)"
   ]
  },
  {
   "cell_type": "code",
   "execution_count": null,
   "id": "45e9f5da",
   "metadata": {},
   "outputs": [],
   "source": []
  },
  {
   "cell_type": "code",
   "execution_count": null,
   "id": "543586ef",
   "metadata": {},
   "outputs": [],
   "source": []
  }
 ],
 "metadata": {
  "kernelspec": {
   "display_name": "Python 3 (ipykernel)",
   "language": "python",
   "name": "python3"
  },
  "language_info": {
   "codemirror_mode": {
    "name": "ipython",
    "version": 3
   },
   "file_extension": ".py",
   "mimetype": "text/x-python",
   "name": "python",
   "nbconvert_exporter": "python",
   "pygments_lexer": "ipython3",
   "version": "3.9.12"
  }
 },
 "nbformat": 4,
 "nbformat_minor": 5
}

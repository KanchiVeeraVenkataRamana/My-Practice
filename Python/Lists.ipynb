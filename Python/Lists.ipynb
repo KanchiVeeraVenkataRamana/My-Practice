{
 "cells": [
  {
   "cell_type": "code",
   "execution_count": 11,
   "id": "954012b7",
   "metadata": {},
   "outputs": [
    {
     "name": "stdout",
     "output_type": "stream",
     "text": [
      "[3, 'venky', 34, 44.33]\n",
      "[45, 36.3334, 'kanchi', 'Hyderabad']\n"
     ]
    }
   ],
   "source": [
    "list1=[3,'venky',34,44.33]\n",
    "list2=[45,36.3334,'kanchi','Hyderabad']\n",
    "print(list1)\n",
    "print(list2)"
   ]
  },
  {
   "cell_type": "code",
   "execution_count": 12,
   "id": "52f9b3fe",
   "metadata": {},
   "outputs": [
    {
     "name": "stdout",
     "output_type": "stream",
     "text": [
      "[3, 'venky', 34, 44.33, 45, 36.3334, 'kanchi', 'Hyderabad']\n"
     ]
    }
   ],
   "source": [
    "#concetate\n",
    "print(list1+list2)"
   ]
  },
  {
   "cell_type": "code",
   "execution_count": 13,
   "id": "cdf4ea15",
   "metadata": {},
   "outputs": [
    {
     "name": "stdout",
     "output_type": "stream",
     "text": [
      "[3, 'venky', 34, 44.33, 3, 'venky', 34, 44.33]\n",
      "[45, 36.3334, 'kanchi', 'Hyderabad', 45, 36.3334, 'kanchi', 'Hyderabad']\n"
     ]
    }
   ],
   "source": [
    "#replication\n",
    "print(list1*2)\n",
    "print(list2*2)"
   ]
  },
  {
   "cell_type": "code",
   "execution_count": 14,
   "id": "dffd7224",
   "metadata": {},
   "outputs": [
    {
     "name": "stdout",
     "output_type": "stream",
     "text": [
      "['venky']\n",
      "[36.3334]\n"
     ]
    }
   ],
   "source": [
    "#slice\n",
    "print(list1[1:2])\n",
    "print(list2[1:2])"
   ]
  },
  {
   "cell_type": "code",
   "execution_count": 15,
   "id": "2fcecc9e",
   "metadata": {},
   "outputs": [
    {
     "name": "stdout",
     "output_type": "stream",
     "text": [
      "[45, 36.3334, 'kanchi', 'Ramachadrapuram']\n"
     ]
    }
   ],
   "source": [
    "#updating\n",
    "list2[3]='Ramachadrapuram'\n",
    "print(list2)"
   ]
  },
  {
   "cell_type": "code",
   "execution_count": 16,
   "id": "d3279f20",
   "metadata": {},
   "outputs": [
    {
     "name": "stdout",
     "output_type": "stream",
     "text": [
      "[3, 'venky', 34, 44.33, 'Ramachadrapuram']\n"
     ]
    }
   ],
   "source": [
    "#append\n",
    "list1.append('Ramachadrapuram')\n",
    "print(list1)"
   ]
  },
  {
   "cell_type": "code",
   "execution_count": 23,
   "id": "146e7f2e",
   "metadata": {},
   "outputs": [
    {
     "name": "stdout",
     "output_type": "stream",
     "text": [
      "[34, 244, 67, 33, 678, 36, 54, 34]\n",
      "678\n",
      "33\n",
      "8\n"
     ]
    }
   ],
   "source": [
    "list=[34,244,67,33,678,36,54,34]\n",
    "print(list)\n",
    "print(max(list))\n",
    "print(min(list))\n",
    "print(len(list))"
   ]
  },
  {
   "cell_type": "code",
   "execution_count": 24,
   "id": "883ebcd8",
   "metadata": {},
   "outputs": [
    {
     "name": "stdout",
     "output_type": "stream",
     "text": [
      "[34, 244, 33, 678, 36, 54, 34]\n"
     ]
    }
   ],
   "source": [
    "#delete ---> again and again be execute the multiple index values are deleted\n",
    "del list[2]\n",
    "print(list)"
   ]
  },
  {
   "cell_type": "code",
   "execution_count": 32,
   "id": "b960a11d",
   "metadata": {},
   "outputs": [
    {
     "name": "stdout",
     "output_type": "stream",
     "text": [
      "2\n",
      "1\n",
      "[34, 54, 345, 36, 678, 33, 345, 345, 345, 244, 34]\n",
      "[34, 244, 345, 345, 345, 33, 678, 36, 345, 54, 34]\n",
      "[33, 34, 34, 36, 54, 244, 345, 345, 345, 345, 678]\n"
     ]
    }
   ],
   "source": [
    "#count\n",
    "print(list.count(34))\n",
    "#index\n",
    "print(list.index(54))\n",
    "#add\n",
    "list.insert(2,345)\n",
    "print(list)\n",
    "#reverse\n",
    "list.reverse()\n",
    "print(list)\n",
    "#sort\n",
    "list.sort()\n",
    "print(list)"
   ]
  },
  {
   "cell_type": "code",
   "execution_count": 1,
   "id": "3f0e9a1e",
   "metadata": {},
   "outputs": [
    {
     "name": "stdout",
     "output_type": "stream",
     "text": [
      "[2, 4, 33.443, 'venky']\n"
     ]
    }
   ],
   "source": [
    "#tuples into lists\n",
    "tuple=(2,4,33.443,'venky')\n",
    "print(list(tuple))"
   ]
  },
  {
   "cell_type": "code",
   "execution_count": null,
   "id": "b4ea511d",
   "metadata": {},
   "outputs": [],
   "source": []
  }
 ],
 "metadata": {
  "kernelspec": {
   "display_name": "Python 3 (ipykernel)",
   "language": "python",
   "name": "python3"
  },
  "language_info": {
   "codemirror_mode": {
    "name": "ipython",
    "version": 3
   },
   "file_extension": ".py",
   "mimetype": "text/x-python",
   "name": "python",
   "nbconvert_exporter": "python",
   "pygments_lexer": "ipython3",
   "version": "3.9.12"
  }
 },
 "nbformat": 4,
 "nbformat_minor": 5
}

{
 "cells": [
  {
   "cell_type": "markdown",
   "id": "e1230c56",
   "metadata": {},
   "source": [
    "# LISTS"
   ]
  },
  {
   "cell_type": "code",
   "execution_count": 3,
   "id": "224918f2",
   "metadata": {},
   "outputs": [
    {
     "name": "stdout",
     "output_type": "stream",
     "text": [
      "['venky', 1, 30.3, True]\n",
      "['shyam', 4, 49.3, False]\n"
     ]
    }
   ],
   "source": [
    "data=['venky',1,30.3,True]\n",
    "d1=['shyam',4,49.30,False]\n",
    "print(data)\n",
    "print(d1)"
   ]
  },
  {
   "cell_type": "code",
   "execution_count": 4,
   "id": "19945c19",
   "metadata": {},
   "outputs": [
    {
     "name": "stdout",
     "output_type": "stream",
     "text": [
      "['venky', 1, 30.3, True, 'shyam', 4, 49.3, False]\n"
     ]
    }
   ],
   "source": [
    "#concate\n",
    "print(data+d1)"
   ]
  },
  {
   "cell_type": "code",
   "execution_count": 5,
   "id": "c0a27ce7",
   "metadata": {},
   "outputs": [
    {
     "name": "stdout",
     "output_type": "stream",
     "text": [
      "['venky', 1, 30.3, True, 'venky', 1, 30.3, True, 'venky', 1, 30.3, True]\n"
     ]
    }
   ],
   "source": [
    "#replication\n",
    "print(data*3)"
   ]
  },
  {
   "cell_type": "code",
   "execution_count": 6,
   "id": "b47240b8",
   "metadata": {},
   "outputs": [
    {
     "name": "stdout",
     "output_type": "stream",
     "text": [
      "[1, 30.3]\n",
      "[4]\n"
     ]
    }
   ],
   "source": [
    "#slice\n",
    "print(data[1:3])\n",
    "print(d1[1:2])"
   ]
  },
  {
   "cell_type": "code",
   "execution_count": 8,
   "id": "0e318d38",
   "metadata": {},
   "outputs": [
    {
     "name": "stdout",
     "output_type": "stream",
     "text": [
      "['shyam', 4, 49.3, True]\n"
     ]
    }
   ],
   "source": [
    "#updating\n",
    "d1[3]=True\n",
    "print(d1)"
   ]
  },
  {
   "cell_type": "code",
   "execution_count": 9,
   "id": "7816a121",
   "metadata": {},
   "outputs": [
    {
     "name": "stdout",
     "output_type": "stream",
     "text": [
      "['venky', 1, 30.3, True, 'Ramachadrapuram']\n"
     ]
    }
   ],
   "source": [
    "#append\n",
    "data.append('Ramachadrapuram')\n",
    "print(data)"
   ]
  },
  {
   "cell_type": "code",
   "execution_count": 10,
   "id": "62cf3900",
   "metadata": {},
   "outputs": [
    {
     "name": "stdout",
     "output_type": "stream",
     "text": [
      "['venky', 1, 30.3, True]\n"
     ]
    }
   ],
   "source": [
    "#delete\n",
    "del data[4]\n",
    "print(data)"
   ]
  },
  {
   "cell_type": "code",
   "execution_count": 11,
   "id": "5743ff89",
   "metadata": {},
   "outputs": [
    {
     "name": "stdout",
     "output_type": "stream",
     "text": [
      "[43, 45, 29, 1, 49, 400, 398, 3893, 83]\n",
      "3893\n",
      "1\n"
     ]
    }
   ],
   "source": [
    "#max and min\n",
    "l=[43,45,29,1,49,400,398,3893,83]\n",
    "print(l)\n",
    "print(max(l))\n",
    "print(min(l))"
   ]
  },
  {
   "cell_type": "code",
   "execution_count": 12,
   "id": "f9927185",
   "metadata": {},
   "outputs": [
    {
     "name": "stdout",
     "output_type": "stream",
     "text": [
      "9\n"
     ]
    }
   ],
   "source": [
    "#length\n",
    "print(len(l))"
   ]
  },
  {
   "cell_type": "code",
   "execution_count": 14,
   "id": "fe49f197",
   "metadata": {},
   "outputs": [
    {
     "name": "stdout",
     "output_type": "stream",
     "text": [
      "(1, 3.453, 'venky', False)\n",
      "[1, 3.453, 'venky', False]\n"
     ]
    }
   ],
   "source": [
    "#tuples are converted to lists\n",
    "t=(1,3.453,'venky',False)\n",
    "print(t)\n",
    "print(list(t))"
   ]
  },
  {
   "cell_type": "code",
   "execution_count": 15,
   "id": "8323eac9",
   "metadata": {},
   "outputs": [
    {
     "name": "stdout",
     "output_type": "stream",
     "text": [
      "[43, 45, 29, 'Ramachadrapuram', 1, 49, 400, 398, 3893, 83]\n"
     ]
    }
   ],
   "source": [
    "#add\n",
    "l.insert(3,'Ramachadrapuram')\n",
    "print(l)"
   ]
  },
  {
   "cell_type": "code",
   "execution_count": 16,
   "id": "fbf321c8",
   "metadata": {},
   "outputs": [
    {
     "name": "stdout",
     "output_type": "stream",
     "text": [
      "[83, 3893, 398, 400, 49, 1, 'Ramachadrapuram', 29, 45, 43]\n"
     ]
    }
   ],
   "source": [
    "#reverse\n",
    "l.reverse()\n",
    "print(l)"
   ]
  },
  {
   "cell_type": "code",
   "execution_count": 22,
   "id": "33295409",
   "metadata": {},
   "outputs": [
    {
     "name": "stdout",
     "output_type": "stream",
     "text": [
      "[1, 49, 83, 400, 3893, 29, 45, 43]\n",
      "[1, 49, 83, 400, 3893, 45, 43]\n",
      "[1, 49, 83, 400, 3893, 45, 43]\n"
     ]
    }
   ],
   "source": [
    "#delete\n",
    "print(l)\n",
    "del l[5]\n",
    "print(l)\n",
    "print(l)"
   ]
  },
  {
   "cell_type": "code",
   "execution_count": 23,
   "id": "9e8f93cf",
   "metadata": {},
   "outputs": [
    {
     "name": "stdout",
     "output_type": "stream",
     "text": [
      "[1, 43, 45, 49, 83, 400, 3893]\n"
     ]
    }
   ],
   "source": [
    "#sort()\n",
    "l.sort()\n",
    "print(l)"
   ]
  },
  {
   "cell_type": "code",
   "execution_count": 25,
   "id": "41d51a22",
   "metadata": {},
   "outputs": [
    {
     "name": "stdout",
     "output_type": "stream",
     "text": [
      "3 2 1\n"
     ]
    }
   ],
   "source": [
    "#count\n",
    "l2=[2,3,49,2,49,2,393,392,499,402]\n",
    "a=l2.count(2)\n",
    "b=l2.count(49)\n",
    "c=l2.count(499)\n",
    "print(a,b,c)"
   ]
  },
  {
   "cell_type": "code",
   "execution_count": 26,
   "id": "5924decd",
   "metadata": {},
   "outputs": [
    {
     "name": "stdout",
     "output_type": "stream",
     "text": [
      "[1, 2, 3, 4, 5, 6, 7, 8, 9, 10]\n"
     ]
    }
   ],
   "source": [
    "#list comprehension\n",
    "mylist=[]\n",
    "for i in range(1,11):\n",
    "    mylist.append(i)\n",
    "print(mylist)"
   ]
  },
  {
   "cell_type": "code",
   "execution_count": 27,
   "id": "b59cce36",
   "metadata": {},
   "outputs": [
    {
     "name": "stdout",
     "output_type": "stream",
     "text": [
      "[1, 2, 3, 4, 5, 6, 7, 8, 9, 10]\n"
     ]
    }
   ],
   "source": [
    "mylist=[i for i in range(1,11)]\n",
    "print(mylist)"
   ]
  },
  {
   "cell_type": "code",
   "execution_count": 28,
   "id": "07cf8fde",
   "metadata": {},
   "outputs": [
    {
     "name": "stdout",
     "output_type": "stream",
     "text": [
      "[1, 4, 9, 16, 25, 36, 49, 64, 81, 100]\n"
     ]
    }
   ],
   "source": [
    "l=[]\n",
    "for i in range(1,11):\n",
    "    l.append(i*i)\n",
    "print(l)"
   ]
  },
  {
   "cell_type": "code",
   "execution_count": 29,
   "id": "c78cd8cc",
   "metadata": {},
   "outputs": [
    {
     "name": "stdout",
     "output_type": "stream",
     "text": [
      "[1, 4, 9, 16, 25, 36, 49, 64, 81, 100]\n"
     ]
    }
   ],
   "source": [
    "l=[i*i for i in range(1,11)]\n",
    "print(l)"
   ]
  },
  {
   "cell_type": "code",
   "execution_count": 31,
   "id": "5f54d9e5",
   "metadata": {},
   "outputs": [
    {
     "name": "stdout",
     "output_type": "stream",
     "text": [
      "[10, 20, 30, 40]\n"
     ]
    }
   ],
   "source": [
    "#apply if statement\n",
    "l1=[i for i in range(1,50) if i%2==0 if i%5==0]\n",
    "print(l1)"
   ]
  },
  {
   "cell_type": "code",
   "execution_count": 34,
   "id": "844e720b",
   "metadata": {},
   "outputs": [
    {
     "name": "stdout",
     "output_type": "stream",
     "text": [
      "['odd', 'even', 'odd', 'even', 'odd', 'even', 'odd', 'even', 'odd']\n"
     ]
    }
   ],
   "source": [
    "#apply if-else statement\n",
    "l2=['even' if i%2==0 else 'odd' for i in range(1,10)]\n",
    "print(l2)"
   ]
  },
  {
   "cell_type": "code",
   "execution_count": null,
   "id": "7bfd078c",
   "metadata": {},
   "outputs": [],
   "source": []
  },
  {
   "cell_type": "markdown",
   "id": "07e78e31",
   "metadata": {},
   "source": [
    "# TUPLES"
   ]
  },
  {
   "cell_type": "code",
   "execution_count": 53,
   "id": "198d1ec5",
   "metadata": {},
   "outputs": [
    {
     "name": "stdout",
     "output_type": "stream",
     "text": [
      "(10, 20, 'venky', 'ramachadrapuram', 34.39, True, False)\n"
     ]
    }
   ],
   "source": [
    "t=(10,20,'venky','ramachadrapuram',34.39,True,False)\n",
    "print(t)"
   ]
  },
  {
   "cell_type": "code",
   "execution_count": 43,
   "id": "f66bf6f7",
   "metadata": {},
   "outputs": [
    {
     "name": "stdout",
     "output_type": "stream",
     "text": [
      "('venky', 'ramachadrapuram', 34.39)\n"
     ]
    }
   ],
   "source": [
    "#slice\n",
    "print(t[2:5])"
   ]
  },
  {
   "cell_type": "code",
   "execution_count": 44,
   "id": "3ae7548a",
   "metadata": {},
   "outputs": [
    {
     "name": "stdout",
     "output_type": "stream",
     "text": [
      "(19, 28, 'shyam', 'kakinada', 343.39, True, False)\n"
     ]
    }
   ],
   "source": [
    "t1=(19,28,'shyam','kakinada',343.39,True,False)\n",
    "print(t1)"
   ]
  },
  {
   "cell_type": "code",
   "execution_count": 45,
   "id": "95a8fa88",
   "metadata": {},
   "outputs": [
    {
     "name": "stdout",
     "output_type": "stream",
     "text": [
      "(10, 20, 'venky', 'ramachadrapuram', 34.39, True, False, 19, 28, 'shyam', 'kakinada', 343.39, True, False)\n"
     ]
    }
   ],
   "source": [
    "#concat\n",
    "print(t+t1)"
   ]
  },
  {
   "cell_type": "code",
   "execution_count": 46,
   "id": "bb77ed49",
   "metadata": {},
   "outputs": [
    {
     "name": "stdout",
     "output_type": "stream",
     "text": [
      "(10, 20, 'venky', 'ramachadrapuram', 34.39, True, False, 10, 20, 'venky', 'ramachadrapuram', 34.39, True, False)\n"
     ]
    }
   ],
   "source": [
    "#replication\n",
    "print(t*2)"
   ]
  },
  {
   "cell_type": "code",
   "execution_count": 47,
   "id": "17ffe895",
   "metadata": {},
   "outputs": [
    {
     "name": "stdout",
     "output_type": "stream",
     "text": [
      "7\n"
     ]
    }
   ],
   "source": [
    "#length\n",
    "print(len(t))"
   ]
  },
  {
   "cell_type": "code",
   "execution_count": 50,
   "id": "7ca8d62f",
   "metadata": {},
   "outputs": [
    {
     "name": "stdout",
     "output_type": "stream",
     "text": [
      "928\n",
      "1\n"
     ]
    }
   ],
   "source": [
    "#max and min\n",
    "t2=(3,40,39,38,1,484,393,928,58)\n",
    "print(max(t2))\n",
    "print(min(t2))"
   ]
  },
  {
   "cell_type": "code",
   "execution_count": 51,
   "id": "7b784b2b",
   "metadata": {},
   "outputs": [
    {
     "name": "stdout",
     "output_type": "stream",
     "text": [
      "[4, 39, 2, 48, 400]\n",
      "(4, 39, 2, 48, 400)\n"
     ]
    }
   ],
   "source": [
    "#list to convert to tuple\n",
    "l=[4,39,2,48,400]\n",
    "print(l)\n",
    "print(tuple(l))"
   ]
  },
  {
   "cell_type": "code",
   "execution_count": 94,
   "id": "e4fea305",
   "metadata": {},
   "outputs": [
    {
     "name": "stdout",
     "output_type": "stream",
     "text": [
      "(1, 2, 3, 4, 5, 6, 7, 8, 9)\n"
     ]
    }
   ],
   "source": [
    "#tuple comprehension\n",
    "mytuple=()\n",
    "mytuple=(i for i in range(1,10))\n",
    "mytuple=tuple(mytuple)\n",
    "print(mytuple)"
   ]
  },
  {
   "cell_type": "code",
   "execution_count": 97,
   "id": "26cecc4a",
   "metadata": {},
   "outputs": [
    {
     "name": "stdout",
     "output_type": "stream",
     "text": [
      "(1, 4, 9, 16, 25, 36, 49, 64, 81)\n"
     ]
    }
   ],
   "source": [
    "mytuple=()\n",
    "mytuple=(i*i for i in range(1,10))\n",
    "mytuple=tuple(mytuple)\n",
    "print(mytuple)"
   ]
  },
  {
   "cell_type": "code",
   "execution_count": null,
   "id": "3c913e27",
   "metadata": {},
   "outputs": [],
   "source": []
  },
  {
   "cell_type": "markdown",
   "id": "00d7a741",
   "metadata": {},
   "source": [
    "# SETS"
   ]
  },
  {
   "cell_type": "code",
   "execution_count": 55,
   "id": "28f8e31a",
   "metadata": {},
   "outputs": [
    {
     "name": "stdout",
     "output_type": "stream",
     "text": [
      "{False, 1, 4, 3433.433, 'data science', 'venky'}\n",
      "{False, True, 49, 3, 3349.393, 'software Engineer', 'shyam'}\n"
     ]
    }
   ],
   "source": [
    "s={1,4,3433.433,'venky',True,False,'data science'}\n",
    "s1={3,49,3349.393,'shyam',False,True,'software Engineer'}\n",
    "print(s)\n",
    "print(s1)"
   ]
  },
  {
   "cell_type": "code",
   "execution_count": 74,
   "id": "379c0345",
   "metadata": {},
   "outputs": [
    {
     "name": "stdout",
     "output_type": "stream",
     "text": [
      "{False, 1, 3, 4, 44.44, 'venky'}\n"
     ]
    }
   ],
   "source": [
    "#list to convert to set\n",
    "s=set([1,4,3,44.44,True,False,'venky'])\n",
    "print(s)"
   ]
  },
  {
   "cell_type": "code",
   "execution_count": 75,
   "id": "65fc4fb3",
   "metadata": {},
   "outputs": [
    {
     "name": "stdout",
     "output_type": "stream",
     "text": [
      "6\n"
     ]
    }
   ],
   "source": [
    "#length\n",
    "print(len(s))"
   ]
  },
  {
   "cell_type": "code",
   "execution_count": 58,
   "id": "6e514ff6",
   "metadata": {},
   "outputs": [
    {
     "name": "stdout",
     "output_type": "stream",
     "text": [
      "{False, 1, 3, 4, 5, 44.44, 'venky'}\n"
     ]
    }
   ],
   "source": [
    "#add\n",
    "s.add(5)\n",
    "print(s)"
   ]
  },
  {
   "cell_type": "code",
   "execution_count": 59,
   "id": "6a715545",
   "metadata": {},
   "outputs": [
    {
     "name": "stdout",
     "output_type": "stream",
     "text": [
      "{False, 1, 3, 4, 5, 'guntur', 'chandu', 44.44, 'venky'}\n"
     ]
    }
   ],
   "source": [
    "#update\n",
    "s.update([3,5,'chandu','guntur'])\n",
    "print(s)"
   ]
  },
  {
   "cell_type": "code",
   "execution_count": 60,
   "id": "71b61b24",
   "metadata": {},
   "outputs": [
    {
     "name": "stdout",
     "output_type": "stream",
     "text": [
      "{False, 1, 3, 4, 5, 'guntur', 44.44, 'venky'}\n",
      "{False, 1, 3, 4, 5, 44.44, 'venky'}\n"
     ]
    }
   ],
   "source": [
    "#delete/remove\n",
    "s.discard('chandu')\n",
    "print(s)\n",
    "s.remove('guntur')\n",
    "print(s)"
   ]
  },
  {
   "cell_type": "code",
   "execution_count": 62,
   "id": "f1ea0793",
   "metadata": {},
   "outputs": [
    {
     "name": "stdout",
     "output_type": "stream",
     "text": [
      "set()\n"
     ]
    }
   ],
   "source": [
    "#clear\n",
    "s.clear()\n",
    "print(s)"
   ]
  },
  {
   "cell_type": "code",
   "execution_count": 79,
   "id": "9f1a8ed5",
   "metadata": {},
   "outputs": [],
   "source": [
    "#functions\n",
    "s1={2,5,4}\n",
    "s2={1,7,3,2,4}"
   ]
  },
  {
   "cell_type": "code",
   "execution_count": 80,
   "id": "2acbc208",
   "metadata": {},
   "outputs": [
    {
     "name": "stdout",
     "output_type": "stream",
     "text": [
      "{1, 2, 3, 4, 5, 7}\n"
     ]
    }
   ],
   "source": [
    "#union\n",
    "print(s1|s2)"
   ]
  },
  {
   "cell_type": "code",
   "execution_count": 81,
   "id": "a946d443",
   "metadata": {},
   "outputs": [
    {
     "name": "stdout",
     "output_type": "stream",
     "text": [
      "{2, 4}\n"
     ]
    }
   ],
   "source": [
    "#intersection function\n",
    "print(s1&s2)"
   ]
  },
  {
   "cell_type": "code",
   "execution_count": 82,
   "id": "8a9fa63e",
   "metadata": {},
   "outputs": [
    {
     "name": "stdout",
     "output_type": "stream",
     "text": [
      "{5}\n",
      "{1, 3, 7}\n"
     ]
    }
   ],
   "source": [
    "#differentiate function\n",
    "print(s1-s2)\n",
    "print(s2-s1)"
   ]
  },
  {
   "cell_type": "code",
   "execution_count": 83,
   "id": "870112d9",
   "metadata": {},
   "outputs": [
    {
     "name": "stdout",
     "output_type": "stream",
     "text": [
      "{1, 3, 5, 7}\n"
     ]
    }
   ],
   "source": [
    "#symmetric difference\n",
    "print(s1^s2)"
   ]
  },
  {
   "cell_type": "code",
   "execution_count": 84,
   "id": "4ac8a644",
   "metadata": {},
   "outputs": [
    {
     "name": "stdout",
     "output_type": "stream",
     "text": [
      "5\n",
      "2\n"
     ]
    }
   ],
   "source": [
    "#max and min\n",
    "print(max(s1))\n",
    "print(min(s1))"
   ]
  },
  {
   "cell_type": "code",
   "execution_count": 85,
   "id": "5bf9e76d",
   "metadata": {},
   "outputs": [
    {
     "name": "stdout",
     "output_type": "stream",
     "text": [
      "11\n"
     ]
    }
   ],
   "source": [
    "#sum()\n",
    "print(sum(s1))"
   ]
  },
  {
   "cell_type": "code",
   "execution_count": 86,
   "id": "4bbfcd8c",
   "metadata": {},
   "outputs": [
    {
     "name": "stdout",
     "output_type": "stream",
     "text": [
      "[2, 4, 5]\n"
     ]
    }
   ],
   "source": [
    "#sorted\n",
    "print(sorted(s1))"
   ]
  },
  {
   "cell_type": "code",
   "execution_count": 91,
   "id": "245c2ec7",
   "metadata": {},
   "outputs": [
    {
     "name": "stdout",
     "output_type": "stream",
     "text": [
      "{1, 2, 3, 4, 5, 6, 7, 8, 9}\n"
     ]
    }
   ],
   "source": [
    "#set comprehension\n",
    "myset={}\n",
    "myset={i for i in range(1,10)}\n",
    "print(myset)"
   ]
  },
  {
   "cell_type": "code",
   "execution_count": 90,
   "id": "8fc8df79",
   "metadata": {},
   "outputs": [
    {
     "name": "stdout",
     "output_type": "stream",
     "text": [
      "{64, 1, 4, 36, 9, 16, 49, 81, 25}\n"
     ]
    }
   ],
   "source": [
    "myset={i*i for i in range(1,10)}\n",
    "print(myset)"
   ]
  },
  {
   "cell_type": "code",
   "execution_count": 92,
   "id": "dd77c09c",
   "metadata": {},
   "outputs": [
    {
     "name": "stdout",
     "output_type": "stream",
     "text": [
      "{8, 2, 4, 6}\n"
     ]
    }
   ],
   "source": [
    "myset={i for i in myset if i%2==0}\n",
    "print(myset)"
   ]
  },
  {
   "cell_type": "code",
   "execution_count": null,
   "id": "bb135729",
   "metadata": {},
   "outputs": [],
   "source": []
  },
  {
   "cell_type": "markdown",
   "id": "577aaea1",
   "metadata": {},
   "source": [
    "# DICTIONARIES"
   ]
  },
  {
   "cell_type": "code",
   "execution_count": 105,
   "id": "5bb81ce3",
   "metadata": {},
   "outputs": [
    {
     "name": "stdout",
     "output_type": "stream",
     "text": [
      "{'Name': 'Venky', 'ID': 507, 'Branch': 'CSE'}\n"
     ]
    }
   ],
   "source": [
    "d1={'Name':'Venky','ID':507,'Branch':'CSE'}\n",
    "print(d1)"
   ]
  },
  {
   "cell_type": "code",
   "execution_count": 99,
   "id": "0a5e7444",
   "metadata": {},
   "outputs": [
    {
     "name": "stdout",
     "output_type": "stream",
     "text": [
      "{'Name': 'Chandu', 'ID': 507, 'Branch': 'CSE'}\n"
     ]
    }
   ],
   "source": [
    "#update\n",
    "d1['Name']='Chandu'\n",
    "print(d1)"
   ]
  },
  {
   "cell_type": "code",
   "execution_count": 100,
   "id": "a93d9223",
   "metadata": {},
   "outputs": [
    {
     "name": "stdout",
     "output_type": "stream",
     "text": [
      "dict_values(['Chandu', 507, 'CSE'])\n"
     ]
    }
   ],
   "source": [
    "#values\n",
    "print(d1.values())"
   ]
  },
  {
   "cell_type": "code",
   "execution_count": 101,
   "id": "79279269",
   "metadata": {},
   "outputs": [
    {
     "name": "stdout",
     "output_type": "stream",
     "text": [
      "dict_keys(['Name', 'ID', 'Branch'])\n"
     ]
    }
   ],
   "source": [
    "#keys\n",
    "print(d1.keys())"
   ]
  },
  {
   "cell_type": "code",
   "execution_count": 102,
   "id": "1efa02ba",
   "metadata": {},
   "outputs": [
    {
     "name": "stdout",
     "output_type": "stream",
     "text": [
      "dict_items([('Name', 'Chandu'), ('ID', 507), ('Branch', 'CSE')])\n"
     ]
    }
   ],
   "source": [
    "#items\n",
    "print(d1.items())"
   ]
  },
  {
   "cell_type": "code",
   "execution_count": 108,
   "id": "55d9a396",
   "metadata": {},
   "outputs": [
    {
     "name": "stdout",
     "output_type": "stream",
     "text": [
      "<built-in method copy of dict object at 0x0000021EB48C5280>\n"
     ]
    }
   ],
   "source": [
    "#copy\n",
    "d1={'Name':'Venky','ID':507,'Branch':'CSE'}\n",
    "d2=d1.copy\n",
    "print(d2)"
   ]
  },
  {
   "cell_type": "code",
   "execution_count": 109,
   "id": "975e9c90",
   "metadata": {},
   "outputs": [
    {
     "name": "stdout",
     "output_type": "stream",
     "text": [
      "{}\n"
     ]
    }
   ],
   "source": [
    "#clear\n",
    "d1.clear()\n",
    "print(d1)"
   ]
  },
  {
   "cell_type": "code",
   "execution_count": 110,
   "id": "0cd78466",
   "metadata": {},
   "outputs": [
    {
     "name": "stdout",
     "output_type": "stream",
     "text": [
      "{0: 0, 1: 2, 2: 4, 3: 6, 4: 8, 5: 10, 6: 12, 7: 14, 8: 16, 9: 18}\n"
     ]
    }
   ],
   "source": [
    "#dictionary comperhension\n",
    "d1={}\n",
    "for n in range(10):\n",
    "    d1[n]=n*2\n",
    "print(d1)"
   ]
  },
  {
   "cell_type": "code",
   "execution_count": 111,
   "id": "c8ed1f25",
   "metadata": {},
   "outputs": [
    {
     "name": "stdout",
     "output_type": "stream",
     "text": [
      "{6: 18}\n"
     ]
    }
   ],
   "source": [
    "d2={n:n*3 for n in range(1,10) if n%2==0 if n%3==0}\n",
    "print(d2)"
   ]
  },
  {
   "cell_type": "code",
   "execution_count": 118,
   "id": "481a2051",
   "metadata": {},
   "outputs": [
    {
     "name": "stdout",
     "output_type": "stream",
     "text": [
      "{0: 0, 1: 'Invalid', 2: 2, 3: 'Invalid', 4: 4, 5: 'Invalid', 6: 6, 7: 'Invalid', 8: 8, 9: 'Invalid'}\n"
     ]
    }
   ],
   "source": [
    "d3={n:(n if n%2==0 else 'Invalid') for n in range(10)}\n",
    "print(d3)"
   ]
  },
  {
   "cell_type": "code",
   "execution_count": null,
   "id": "8fcff202",
   "metadata": {},
   "outputs": [],
   "source": []
  }
 ],
 "metadata": {
  "kernelspec": {
   "display_name": "Python 3 (ipykernel)",
   "language": "python",
   "name": "python3"
  },
  "language_info": {
   "codemirror_mode": {
    "name": "ipython",
    "version": 3
   },
   "file_extension": ".py",
   "mimetype": "text/x-python",
   "name": "python",
   "nbconvert_exporter": "python",
   "pygments_lexer": "ipython3",
   "version": "3.9.12"
  }
 },
 "nbformat": 4,
 "nbformat_minor": 5
}

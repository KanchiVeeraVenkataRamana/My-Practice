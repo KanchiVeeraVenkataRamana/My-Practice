{
 "cells": [
  {
   "cell_type": "markdown",
   "id": "fb14fd87",
   "metadata": {},
   "source": [
    "# Dictionary Comprehension"
   ]
  },
  {
   "cell_type": "code",
   "execution_count": 2,
   "id": "ed79ca60",
   "metadata": {},
   "outputs": [
    {
     "name": "stdout",
     "output_type": "stream",
     "text": [
      "{0: 0, 1: 2, 2: 4, 3: 6, 4: 8, 5: 10, 6: 12, 7: 14, 8: 16, 9: 18}\n"
     ]
    }
   ],
   "source": [
    "#dictionary compehensions\n",
    "#normal code for creating dictionaries\n",
    "dict={}\n",
    "for i in range(10):\n",
    "    dict[i]=i*2\n",
    "print(dict)"
   ]
  },
  {
   "cell_type": "code",
   "execution_count": 3,
   "id": "30057b22",
   "metadata": {},
   "outputs": [
    {
     "name": "stdout",
     "output_type": "stream",
     "text": [
      "{0: 0, 1: 2, 2: 4, 3: 6, 4: 8, 5: 10, 6: 12, 7: 14, 8: 16, 9: 18}\n"
     ]
    }
   ],
   "source": [
    "#dictionary comperhensions code\n",
    "dict={i:i*2 for i in range(10)}\n",
    "print(dict)"
   ]
  },
  {
   "cell_type": "code",
   "execution_count": 4,
   "id": "0348cfef",
   "metadata": {},
   "outputs": [
    {
     "name": "stdout",
     "output_type": "stream",
     "text": [
      "{0: 0, 2: 4, 4: 8, 6: 12, 8: 16}\n"
     ]
    }
   ],
   "source": [
    "dict={}\n",
    "for i in range(10):\n",
    "    if i%2==0:\n",
    "        dict[i]=i*2\n",
    "print(dict)"
   ]
  },
  {
   "cell_type": "code",
   "execution_count": 5,
   "id": "53963780",
   "metadata": {},
   "outputs": [
    {
     "name": "stdout",
     "output_type": "stream",
     "text": [
      "{0: 0, 2: 4, 4: 8, 6: 12, 8: 16}\n"
     ]
    }
   ],
   "source": [
    "dict={i:i*2 for i in range(10) if i%2==0}\n",
    "print(dict)"
   ]
  },
  {
   "cell_type": "code",
   "execution_count": 6,
   "id": "7a0c5353",
   "metadata": {},
   "outputs": [
    {
     "name": "stdout",
     "output_type": "stream",
     "text": [
      "{0: 0, 6: 12}\n"
     ]
    }
   ],
   "source": [
    "dict={}\n",
    "for i in range(10):\n",
    "    if i%2==0:\n",
    "        if i%3==0:\n",
    "            dict[i]=i*2\n",
    "print(dict)"
   ]
  },
  {
   "cell_type": "code",
   "execution_count": 8,
   "id": "e0ccc783",
   "metadata": {},
   "outputs": [
    {
     "name": "stdout",
     "output_type": "stream",
     "text": [
      "{0: 0, 6: 12}\n"
     ]
    }
   ],
   "source": [
    "dict={i:i*2 for i in range(10) if i%2==0 if i%3==0}\n",
    "print(dict)"
   ]
  },
  {
   "cell_type": "code",
   "execution_count": 11,
   "id": "08ebd012",
   "metadata": {},
   "outputs": [
    {
     "name": "stdout",
     "output_type": "stream",
     "text": [
      "{507: 'Rahul', 504: 'lakshmi'}\n"
     ]
    }
   ],
   "source": [
    "list=[(507,'Rahul'),(504,'lakshmi')]\n",
    "dict1={k:v for k,v in list}\n",
    "print(dict1)"
   ]
  },
  {
   "cell_type": "code",
   "execution_count": 28,
   "id": "238976e6",
   "metadata": {},
   "outputs": [
    {
     "name": "stdout",
     "output_type": "stream",
     "text": [
      "{1: 1, 2: 8, 3: 27, 4: 64, 5: 125, 6: 216, 7: 343, 8: 512, 9: 729, 10: 1000}\n"
     ]
    }
   ],
   "source": [
    "num={}\n",
    "list=[1,2,3,4,5,6,7,8,9,10]\n",
    "for i in list:\n",
    "    num[i]=i**3\n",
    "print(num)"
   ]
  },
  {
   "cell_type": "code",
   "execution_count": 26,
   "id": "d58b97ec",
   "metadata": {},
   "outputs": [
    {
     "name": "stdout",
     "output_type": "stream",
     "text": [
      "{1: 1, 2: 8, 3: 27, 4: 64, 5: 125, 6: 216, 7: 343, 8: 512, 9: 729, 10: 1000}\n"
     ]
    }
   ],
   "source": [
    "list=[1,2,3,4,5,6,7,8,9,10]\n",
    "num={i:i**3 for i in list}\n",
    "print(num)"
   ]
  },
  {
   "cell_type": "code",
   "execution_count": 31,
   "id": "8ae87fdb",
   "metadata": {},
   "outputs": [
    {
     "name": "stdout",
     "output_type": "stream",
     "text": [
      "{'Hindi': 'Mumbai', 'Telugu': 'Andhra Pradesh', 'Malayalam': 'Karanataka'}\n"
     ]
    }
   ],
   "source": [
    "language=['Hindi','Telugu','Malayalam']\n",
    "state=['Mumbai','Andhra Pradesh','Karanataka']\n",
    "dict={}\n",
    "for (key1,value1) in zip(language,state):\n",
    "    dict[key1]=value1\n",
    "print(dict)"
   ]
  },
  {
   "cell_type": "code",
   "execution_count": 34,
   "id": "838b6226",
   "metadata": {},
   "outputs": [
    {
     "name": "stdout",
     "output_type": "stream",
     "text": [
      "{'Hindi': 'Mumbai', 'Telugu': 'Andhra Pradesh', 'Malayalam': 'Karanataka'}\n"
     ]
    }
   ],
   "source": [
    "language=['Hindi','Telugu','Malayalam']\n",
    "state=['Mumbai','Andhra Pradesh','Karanataka']\n",
    "dict1={key1:value1 for (key1,value1) in zip(language,state)}\n",
    "print(dict1)"
   ]
  },
  {
   "cell_type": "code",
   "execution_count": null,
   "id": "bff11249",
   "metadata": {},
   "outputs": [],
   "source": []
  }
 ],
 "metadata": {
  "kernelspec": {
   "display_name": "Python 3 (ipykernel)",
   "language": "python",
   "name": "python3"
  },
  "language_info": {
   "codemirror_mode": {
    "name": "ipython",
    "version": 3
   },
   "file_extension": ".py",
   "mimetype": "text/x-python",
   "name": "python",
   "nbconvert_exporter": "python",
   "pygments_lexer": "ipython3",
   "version": "3.9.12"
  }
 },
 "nbformat": 4,
 "nbformat_minor": 5
}

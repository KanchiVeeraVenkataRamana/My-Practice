{
 "cells": [
  {
   "cell_type": "code",
   "execution_count": 17,
   "id": "56659908",
   "metadata": {},
   "outputs": [
    {
     "name": "stdout",
     "output_type": "stream",
     "text": [
      "(39, 49, 29, 58, 'venky', 'ramachadrapuram', 'MBA')\n",
      "(1, 3, 2001, 'born', 'reloaded', 'missile')\n"
     ]
    }
   ],
   "source": [
    "tuple=(39,49,29,58,'venky','ramachadrapuram','MBA')\n",
    "history=(1,3,2001,'born','reloaded','missile')\n",
    "print(tuple)\n",
    "print(history)"
   ]
  },
  {
   "cell_type": "code",
   "execution_count": 18,
   "id": "e90ab6cf",
   "metadata": {},
   "outputs": [
    {
     "name": "stdout",
     "output_type": "stream",
     "text": [
      "(29, 58, 'venky', 'ramachadrapuram')\n",
      "(58, 'venky', 'ramachadrapuram', 'MBA')\n",
      "(39, 49)\n"
     ]
    }
   ],
   "source": [
    "#slice\n",
    "print(tuple[2:6])\n",
    "print(tuple[3:])\n",
    "print(tuple[:2])"
   ]
  },
  {
   "cell_type": "code",
   "execution_count": 19,
   "id": "e3b31638",
   "metadata": {},
   "outputs": [
    {
     "name": "stdout",
     "output_type": "stream",
     "text": [
      "(39, 49, 29, 58, 'venky', 'ramachadrapuram', 'MBA', 1, 3, 2001, 'born', 'reloaded', 'missile')\n"
     ]
    }
   ],
   "source": [
    "#concentate\n",
    "print(tuple+history)"
   ]
  },
  {
   "cell_type": "code",
   "execution_count": 20,
   "id": "5e695cf8",
   "metadata": {},
   "outputs": [
    {
     "name": "stdout",
     "output_type": "stream",
     "text": [
      "(39, 49, 29, 58, 'venky', 'ramachadrapuram', 'MBA', 39, 49, 29, 58, 'venky', 'ramachadrapuram', 'MBA', 39, 49, 29, 58, 'venky', 'ramachadrapuram', 'MBA')\n"
     ]
    }
   ],
   "source": [
    "#replication\n",
    "print(tuple*3)"
   ]
  },
  {
   "cell_type": "code",
   "execution_count": 21,
   "id": "b65e1f17",
   "metadata": {},
   "outputs": [
    {
     "name": "stdout",
     "output_type": "stream",
     "text": [
      "<class 'tuple'>\n"
     ]
    }
   ],
   "source": [
    "#delete\n",
    "del tuple\n",
    "print(tuple)"
   ]
  },
  {
   "cell_type": "code",
   "execution_count": 24,
   "id": "1f2a1cd3",
   "metadata": {},
   "outputs": [
    {
     "name": "stdout",
     "output_type": "stream",
     "text": [
      "6\n"
     ]
    }
   ],
   "source": [
    "#length\n",
    "print(len(history))"
   ]
  },
  {
   "cell_type": "code",
   "execution_count": 28,
   "id": "2dc299d8",
   "metadata": {},
   "outputs": [
    {
     "name": "stdout",
     "output_type": "stream",
     "text": [
      "229\n",
      "\n",
      "3\n",
      "\n"
     ]
    }
   ],
   "source": [
    "#maximum\n",
    "tuple=(34,25,94,5,3,99,229)\n",
    "print(max(tuple))\n",
    "print()\n",
    "#minimum\n",
    "print(min(tuple))\n",
    "print()"
   ]
  },
  {
   "cell_type": "code",
   "execution_count": 36,
   "id": "014a2e4b",
   "metadata": {},
   "outputs": [
    {
     "ename": "TypeError",
     "evalue": "'tuple' object is not callable",
     "output_type": "error",
     "traceback": [
      "\u001b[1;31m---------------------------------------------------------------------------\u001b[0m",
      "\u001b[1;31mTypeError\u001b[0m                                 Traceback (most recent call last)",
      "Input \u001b[1;32mIn [36]\u001b[0m, in \u001b[0;36m<cell line: 3>\u001b[1;34m()\u001b[0m\n\u001b[0;32m      1\u001b[0m \u001b[38;5;66;03m#list into tuple converting the data\u001b[39;00m\n\u001b[0;32m      2\u001b[0m \u001b[38;5;28mlist\u001b[39m\u001b[38;5;241m=\u001b[39m[\u001b[38;5;241m3\u001b[39m,\u001b[38;5;241m4\u001b[39m,\u001b[38;5;241m5\u001b[39m,\u001b[38;5;241m23\u001b[39m,\u001b[38;5;241m53\u001b[39m,\u001b[38;5;241m55\u001b[39m]\n\u001b[1;32m----> 3\u001b[0m \u001b[38;5;28mprint\u001b[39m(\u001b[38;5;28;43mtuple\u001b[39;49m\u001b[43m(\u001b[49m\u001b[38;5;28;43mlist\u001b[39;49m\u001b[43m)\u001b[49m)\n",
      "\u001b[1;31mTypeError\u001b[0m: 'tuple' object is not callable"
     ]
    }
   ],
   "source": [
    "#list into tuple converting the data\n",
    "list=[3,4,5,23,53,55]\n",
    "print(tuple(list))"
   ]
  },
  {
   "cell_type": "code",
   "execution_count": null,
   "id": "cbe46043",
   "metadata": {},
   "outputs": [],
   "source": []
  }
 ],
 "metadata": {
  "kernelspec": {
   "display_name": "Python 3 (ipykernel)",
   "language": "python",
   "name": "python3"
  },
  "language_info": {
   "codemirror_mode": {
    "name": "ipython",
    "version": 3
   },
   "file_extension": ".py",
   "mimetype": "text/x-python",
   "name": "python",
   "nbconvert_exporter": "python",
   "pygments_lexer": "ipython3",
   "version": "3.9.12"
  }
 },
 "nbformat": 4,
 "nbformat_minor": 5
}

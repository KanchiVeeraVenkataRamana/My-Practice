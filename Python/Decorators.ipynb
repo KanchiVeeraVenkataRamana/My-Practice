{
 "cells": [
  {
   "cell_type": "markdown",
   "id": "0b255cac",
   "metadata": {},
   "source": [
    "# DECORATORS"
   ]
  },
  {
   "cell_type": "code",
   "execution_count": 3,
   "id": "da2eea68",
   "metadata": {},
   "outputs": [
    {
     "name": "stdout",
     "output_type": "stream",
     "text": [
      "Hello..Dear learner\n",
      "Dear learner,how you doing?\n"
     ]
    }
   ],
   "source": [
    "def func1(name):\n",
    "    return f'Hello..{name}'\n",
    "\n",
    "def func2(name):\n",
    "    return f'{name},how you doing?'\n",
    "\n",
    "def func3(func4):\n",
    "    return func4('Dear learner')\n",
    "\n",
    "print(func3(func1))\n",
    "print(func3(func2))"
   ]
  },
  {
   "cell_type": "code",
   "execution_count": 4,
   "id": "1e74bb7b",
   "metadata": {},
   "outputs": [
    {
     "name": "stdout",
     "output_type": "stream",
     "text": [
      "first function\n",
      "second child function\n",
      "first child function\n"
     ]
    }
   ],
   "source": [
    "def func():\n",
    "    print('first function')\n",
    "    def func1():\n",
    "        print('first child function')\n",
    "    def func2():\n",
    "        print('second child function')\n",
    "    \n",
    "    func2()\n",
    "    func1()\n",
    "\n",
    "func()"
   ]
  },
  {
   "cell_type": "code",
   "execution_count": 2,
   "id": "b065bc63",
   "metadata": {},
   "outputs": [
    {
     "name": "stdout",
     "output_type": "stream",
     "text": [
      "ekeeda\n",
      "python\n"
     ]
    }
   ],
   "source": [
    "def func(n):\n",
    "    def func1():\n",
    "        return 'ekeeda'\n",
    "    def func2():\n",
    "        return 'python'\n",
    "    if n==1:\n",
    "        return func1\n",
    "    else:\n",
    "        return func2\n",
    "a=func(1)\n",
    "b=func(2)\n",
    "print(a())\n",
    "print(b())"
   ]
  },
  {
   "cell_type": "code",
   "execution_count": 5,
   "id": "d410e9af",
   "metadata": {},
   "outputs": [
    {
     "name": "stdout",
     "output_type": "stream",
     "text": [
      "Hello\n",
      "pythonista\n",
      "welcome to python ekeeda platform\n"
     ]
    }
   ],
   "source": [
    "def function1(function):\n",
    "    def wrapper():\n",
    "        print('Hello')\n",
    "        function()\n",
    "        print('welcome to python ekeeda platform')\n",
    "    return wrapper\n",
    "def function2():\n",
    "    print('pythonista')\n",
    "    \n",
    "function2=function1(function2)\n",
    "function2()"
   ]
  },
  {
   "cell_type": "code",
   "execution_count": 6,
   "id": "c72bb5f2",
   "metadata": {},
   "outputs": [
    {
     "name": "stdout",
     "output_type": "stream",
     "text": [
      "Hello\n",
      "pythonista\n",
      "welcome to python ekeeda platform\n"
     ]
    }
   ],
   "source": [
    "def function1(function):\n",
    "    def wrapper():\n",
    "        print('Hello')\n",
    "        function()\n",
    "        print('welcome to python ekeeda platform')\n",
    "    return wrapper\n",
    "@function1\n",
    "def function2():\n",
    "    print('pythonista')\n",
    "    \n",
    "function2()"
   ]
  },
  {
   "cell_type": "code",
   "execution_count": 6,
   "id": "df141038",
   "metadata": {},
   "outputs": [
    {
     "name": "stdout",
     "output_type": "stream",
     "text": [
      "HI\n",
      "HI\n",
      "HI\n"
     ]
    }
   ],
   "source": [
    "def outer_function():\n",
    "    message='HI'\n",
    "    def inner_function():\n",
    "        print(message)\n",
    "    return inner_function\n",
    "\n",
    "my_func=outer_function()\n",
    "my_func()\n",
    "my_func()\n",
    "my_func()"
   ]
  },
  {
   "cell_type": "code",
   "execution_count": 21,
   "id": "9fc432b4",
   "metadata": {},
   "outputs": [],
   "source": [
    "def picture():\n",
    "    print('Batsman')"
   ]
  },
  {
   "cell_type": "code",
   "execution_count": 22,
   "id": "124dc3fc",
   "metadata": {},
   "outputs": [
    {
     "name": "stdout",
     "output_type": "stream",
     "text": [
      "Batsman\n"
     ]
    }
   ],
   "source": [
    "picture()"
   ]
  },
  {
   "cell_type": "code",
   "execution_count": 23,
   "id": "cdc3deea",
   "metadata": {},
   "outputs": [],
   "source": [
    "@frame\n",
    "def picture():\n",
    "    print('batsman')"
   ]
  },
  {
   "cell_type": "code",
   "execution_count": null,
   "id": "f5a1c28f",
   "metadata": {},
   "outputs": [],
   "source": []
  }
 ],
 "metadata": {
  "kernelspec": {
   "display_name": "Python 3 (ipykernel)",
   "language": "python",
   "name": "python3"
  },
  "language_info": {
   "codemirror_mode": {
    "name": "ipython",
    "version": 3
   },
   "file_extension": ".py",
   "mimetype": "text/x-python",
   "name": "python",
   "nbconvert_exporter": "python",
   "pygments_lexer": "ipython3",
   "version": "3.9.12"
  }
 },
 "nbformat": 4,
 "nbformat_minor": 5
}

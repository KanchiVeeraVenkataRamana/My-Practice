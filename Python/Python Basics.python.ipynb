{
 "cells": [
  {
   "cell_type": "markdown",
   "id": "2a2c073f",
   "metadata": {},
   "source": [
    "# Python Basics"
   ]
  },
  {
   "cell_type": "code",
   "execution_count": 1,
   "id": "c66586fa",
   "metadata": {},
   "outputs": [
    {
     "name": "stdout",
     "output_type": "stream",
     "text": [
      "Hello World\n"
     ]
    }
   ],
   "source": [
    "print('Hello World')"
   ]
  },
  {
   "cell_type": "markdown",
   "id": "c0fcf5b2",
   "metadata": {},
   "source": [
    "# Comments"
   ]
  },
  {
   "cell_type": "code",
   "execution_count": 32,
   "id": "45a032c3",
   "metadata": {},
   "outputs": [
    {
     "name": "stdout",
     "output_type": "stream",
     "text": [
      "Hello World\n"
     ]
    }
   ],
   "source": [
    "#----> single line comment symbol\n",
    "print('Hello World')"
   ]
  },
  {
   "cell_type": "code",
   "execution_count": 21,
   "id": "c5e0d84d",
   "metadata": {},
   "outputs": [
    {
     "name": "stdout",
     "output_type": "stream",
     "text": [
      "Hello World\n"
     ]
    }
   ],
   "source": [
    "\"\"\"\n",
    "this the multiiline comment\n",
    "is used for the three quotes\n",
    "in the python programming\n",
    "\"\"\"\n",
    "print('Hello World')"
   ]
  },
  {
   "cell_type": "markdown",
   "id": "1c6c2432",
   "metadata": {},
   "source": [
    "# Variables"
   ]
  },
  {
   "cell_type": "code",
   "execution_count": 7,
   "id": "a8d1a671",
   "metadata": {},
   "outputs": [
    {
     "name": "stdout",
     "output_type": "stream",
     "text": [
      "venky\n",
      "venky\n",
      "venky\n",
      "venky\n",
      "venky\n",
      "venky\n"
     ]
    }
   ],
   "source": [
    "#correct variables declaration\n",
    "myvar='venky'\n",
    "my_var='venky'\n",
    "_my_var='venky'\n",
    "myVar='venky'\n",
    "MyVAR='venky'\n",
    "myvar2='venky'\n",
    "print(myvar)\n",
    "print(my_var)\n",
    "print(_my_var)\n",
    "print(myVar)\n",
    "print(MyVAR)\n",
    "print(myvar2)"
   ]
  },
  {
   "cell_type": "code",
   "execution_count": 8,
   "id": "f2ebe9f8",
   "metadata": {},
   "outputs": [
    {
     "ename": "SyntaxError",
     "evalue": "invalid syntax (3989771004.py, line 2)",
     "output_type": "error",
     "traceback": [
      "\u001b[1;36m  Input \u001b[1;32mIn [8]\u001b[1;36m\u001b[0m\n\u001b[1;33m    2myvar='venky'\u001b[0m\n\u001b[1;37m     ^\u001b[0m\n\u001b[1;31mSyntaxError\u001b[0m\u001b[1;31m:\u001b[0m invalid syntax\n"
     ]
    }
   ],
   "source": [
    "#wrong variables declartion\n",
    "2myvar='venky'\n",
    "my-var='venky'\n",
    "my var='venky'\n",
    "print(2myvar)\n",
    "print(my-var)\n",
    "print(my var)"
   ]
  },
  {
   "cell_type": "code",
   "execution_count": 3,
   "id": "f27af7f8",
   "metadata": {},
   "outputs": [
    {
     "name": "stdout",
     "output_type": "stream",
     "text": [
      "5\n",
      "john\n",
      "\n",
      "5 john\n"
     ]
    }
   ],
   "source": [
    "#variables\n",
    "x=5\n",
    "y='john'\n",
    "print(x)\n",
    "print(y)\n",
    "print()\n",
    "print(x,y)"
   ]
  },
  {
   "cell_type": "code",
   "execution_count": 4,
   "id": "82ce1c4f",
   "metadata": {},
   "outputs": [
    {
     "name": "stdout",
     "output_type": "stream",
     "text": [
      "orange apple cherry\n"
     ]
    }
   ],
   "source": [
    "#multiple variables\n",
    "x,y,z='orange','apple','cherry'\n",
    "print(x,y,z)"
   ]
  },
  {
   "cell_type": "code",
   "execution_count": 5,
   "id": "70e8169f",
   "metadata": {},
   "outputs": [
    {
     "name": "stdout",
     "output_type": "stream",
     "text": [
      "orange orange orange\n"
     ]
    }
   ],
   "source": [
    "#one value to multiplel variable\n",
    "x=y=z='orange'\n",
    "print(x,y,z)"
   ]
  },
  {
   "cell_type": "code",
   "execution_count": 9,
   "id": "bfb70682",
   "metadata": {},
   "outputs": [
    {
     "name": "stdout",
     "output_type": "stream",
     "text": [
      "venky\n"
     ]
    }
   ],
   "source": [
    "#camel case\n",
    "myVariableName='venky'\n",
    "print(myVariableName)"
   ]
  },
  {
   "cell_type": "code",
   "execution_count": 10,
   "id": "69b14a64",
   "metadata": {},
   "outputs": [
    {
     "name": "stdout",
     "output_type": "stream",
     "text": [
      "venky\n"
     ]
    }
   ],
   "source": [
    "#pascal case\n",
    "MyVariableName='venky'\n",
    "print(MyVariableName)"
   ]
  },
  {
   "cell_type": "code",
   "execution_count": 12,
   "id": "4f8fdadd",
   "metadata": {},
   "outputs": [
    {
     "name": "stdout",
     "output_type": "stream",
     "text": [
      "venky\n"
     ]
    }
   ],
   "source": [
    "#snake vase\n",
    "my_variable_name='venky'\n",
    "print(my_variable_name)"
   ]
  },
  {
   "cell_type": "code",
   "execution_count": 13,
   "id": "02c01efa",
   "metadata": {},
   "outputs": [
    {
     "name": "stdout",
     "output_type": "stream",
     "text": [
      "apple\n",
      "banana\n",
      "cherry\n"
     ]
    }
   ],
   "source": [
    "#unpack a collection\n",
    "fruits=['apple','banana','cherry']\n",
    "x,y,z=fruits\n",
    "print(x)\n",
    "print(y)\n",
    "print(z)"
   ]
  },
  {
   "cell_type": "code",
   "execution_count": 1,
   "id": "6f9a83a0",
   "metadata": {},
   "outputs": [
    {
     "name": "stdout",
     "output_type": "stream",
     "text": [
      "python is awesome\n"
     ]
    }
   ],
   "source": [
    "#output variables\n",
    "x='python is awesome'\n",
    "print(x)"
   ]
  },
  {
   "cell_type": "code",
   "execution_count": 2,
   "id": "df9b5660",
   "metadata": {},
   "outputs": [
    {
     "name": "stdout",
     "output_type": "stream",
     "text": [
      "15\n",
      "5 10\n"
     ]
    }
   ],
   "source": [
    "x=5\n",
    "y=10\n",
    "print(x+y)\n",
    "print(x,y)"
   ]
  },
  {
   "cell_type": "code",
   "execution_count": 3,
   "id": "b876aa09",
   "metadata": {},
   "outputs": [
    {
     "ename": "TypeError",
     "evalue": "unsupported operand type(s) for +: 'int' and 'str'",
     "output_type": "error",
     "traceback": [
      "\u001b[1;31m---------------------------------------------------------------------------\u001b[0m",
      "\u001b[1;31mTypeError\u001b[0m                                 Traceback (most recent call last)",
      "Input \u001b[1;32mIn [3]\u001b[0m, in \u001b[0;36m<cell line: 4>\u001b[1;34m()\u001b[0m\n\u001b[0;32m      2\u001b[0m x\u001b[38;5;241m=\u001b[39m\u001b[38;5;241m5\u001b[39m\n\u001b[0;32m      3\u001b[0m y\u001b[38;5;241m=\u001b[39m\u001b[38;5;124m'\u001b[39m\u001b[38;5;124mjohn\u001b[39m\u001b[38;5;124m'\u001b[39m\n\u001b[1;32m----> 4\u001b[0m \u001b[38;5;28mprint\u001b[39m(\u001b[43mx\u001b[49m\u001b[38;5;241;43m+\u001b[39;49m\u001b[43my\u001b[49m)\n",
      "\u001b[1;31mTypeError\u001b[0m: unsupported operand type(s) for +: 'int' and 'str'"
     ]
    }
   ],
   "source": [
    "#don't\n",
    "x=5\n",
    "y='john'\n",
    "print(x+y)"
   ]
  },
  {
   "cell_type": "code",
   "execution_count": 4,
   "id": "d99b800f",
   "metadata": {},
   "outputs": [
    {
     "name": "stdout",
     "output_type": "stream",
     "text": [
      "3 john\n"
     ]
    }
   ],
   "source": [
    "x=3\n",
    "y='john'\n",
    "print(x,y)"
   ]
  },
  {
   "cell_type": "code",
   "execution_count": 6,
   "id": "e738e4ef",
   "metadata": {},
   "outputs": [
    {
     "name": "stdout",
     "output_type": "stream",
     "text": [
      "python isawesome\n"
     ]
    }
   ],
   "source": [
    "#globel variables\n",
    "x='awesome'\n",
    "def func():\n",
    "    print('python is'+x)\n",
    "func()"
   ]
  },
  {
   "cell_type": "code",
   "execution_count": 7,
   "id": "8f788d3f",
   "metadata": {},
   "outputs": [
    {
     "name": "stdout",
     "output_type": "stream",
     "text": [
      "python isawesome\n",
      "python isawesome\n"
     ]
    }
   ],
   "source": [
    "x='awesome'\n",
    "def func():\n",
    "    print('python is'+x)\n",
    "func()\n",
    "print('python is' +x)"
   ]
  },
  {
   "cell_type": "code",
   "execution_count": 14,
   "id": "c18689d7",
   "metadata": {},
   "outputs": [
    {
     "name": "stdout",
     "output_type": "stream",
     "text": [
      "python isfantasic\n"
     ]
    }
   ],
   "source": [
    "def func():\n",
    "    global x\n",
    "    x='fantasic'\n",
    "func()\n",
    "print('python is'+x)"
   ]
  },
  {
   "cell_type": "code",
   "execution_count": 13,
   "id": "516a9eac",
   "metadata": {},
   "outputs": [
    {
     "name": "stdout",
     "output_type": "stream",
     "text": [
      "python isfanastic\n",
      "python isfanastic\n"
     ]
    }
   ],
   "source": [
    "x='awesome'\n",
    "def func():\n",
    "    global x\n",
    "    x='fanastic'\n",
    "    print('python is'+x)\n",
    "func()\n",
    "print('python is'+x)"
   ]
  },
  {
   "cell_type": "markdown",
   "id": "c538c8f2",
   "metadata": {},
   "source": [
    "# Data Types"
   ]
  },
  {
   "cell_type": "code",
   "execution_count": 29,
   "id": "75a182ee",
   "metadata": {},
   "outputs": [
    {
     "name": "stdout",
     "output_type": "stream",
     "text": [
      "Hello World\n",
      "Hello Venky\n"
     ]
    }
   ],
   "source": [
    "#strings data types\n",
    "x='Hello World'\n",
    "x1=str('Hello Venky')\n",
    "print(x)\n",
    "print(x1)"
   ]
  },
  {
   "cell_type": "code",
   "execution_count": 31,
   "id": "0717171b",
   "metadata": {},
   "outputs": [
    {
     "name": "stdout",
     "output_type": "stream",
     "text": [
      "20\n",
      "30\n"
     ]
    }
   ],
   "source": [
    "#integers datatypes\n",
    "x=20\n",
    "x1=int(30)\n",
    "print(x)\n",
    "print(x1)"
   ]
  },
  {
   "cell_type": "code",
   "execution_count": 33,
   "id": "13702cc5",
   "metadata": {},
   "outputs": [
    {
     "name": "stdout",
     "output_type": "stream",
     "text": [
      "20.39\n",
      "400.3\n"
     ]
    }
   ],
   "source": [
    "#float data types\n",
    "x=20.39\n",
    "x1=float(400.30)\n",
    "print(x)\n",
    "print(x1)"
   ]
  },
  {
   "cell_type": "code",
   "execution_count": 35,
   "id": "d868bf8f",
   "metadata": {},
   "outputs": [
    {
     "name": "stdout",
     "output_type": "stream",
     "text": [
      "1j\n",
      "(34+0j)\n"
     ]
    }
   ],
   "source": [
    "#complex data type\n",
    "x=1j\n",
    "x1=complex(34)\n",
    "print(x)\n",
    "print(x1)"
   ]
  },
  {
   "cell_type": "code",
   "execution_count": 36,
   "id": "ded16bf8",
   "metadata": {},
   "outputs": [
    {
     "name": "stdout",
     "output_type": "stream",
     "text": [
      "['venky', 'banana', 'kiran', 'python']\n",
      "['venky', 'chandu', 'lucky', 'data']\n"
     ]
    }
   ],
   "source": [
    "#list data type\n",
    "l=['venky','banana','kiran','python']\n",
    "l1=list(('venky','chandu','lucky','data'))\n",
    "print(l)\n",
    "print(l1)"
   ]
  },
  {
   "cell_type": "code",
   "execution_count": 40,
   "id": "1f9a82c4",
   "metadata": {},
   "outputs": [
    {
     "name": "stdout",
     "output_type": "stream",
     "text": [
      "('apple', 'venky', 'geetha', 'lakshmi')\n",
      "('banana', 'cherry', 'apple', 'python')\n"
     ]
    }
   ],
   "source": [
    "#tuple data type\n",
    "t=('apple','venky','geetha','lakshmi')\n",
    "t1=tuple(('banana','cherry','apple','python'))\n",
    "print(t)\n",
    "print(t1)"
   ]
  },
  {
   "cell_type": "code",
   "execution_count": 41,
   "id": "29bacd5b",
   "metadata": {},
   "outputs": [
    {
     "name": "stdout",
     "output_type": "stream",
     "text": [
      "{'mani', 'john', 'shyam', 'venky'}\n",
      "{'tomato', 'kite', 'lemon', 'jam'}\n"
     ]
    }
   ],
   "source": [
    "#set data types\n",
    "s={'venky','shyam','john','mani'}\n",
    "s1=set(('lemon','jam','tomato','kite'))\n",
    "print(s)\n",
    "print(s1)\n"
   ]
  },
  {
   "cell_type": "code",
   "execution_count": 46,
   "id": "126bcbea",
   "metadata": {},
   "outputs": [
    {
     "name": "stdout",
     "output_type": "stream",
     "text": [
      "{1: 'venky', 2: 'shyam', 3: 'chandu', 4: 'vinay'}\n",
      "{'name': 'kiran', 'age': 22}\n"
     ]
    }
   ],
   "source": [
    "#dictionary data types\n",
    "d={1:'venky',2:'shyam',3:'chandu',4:'vinay'}\n",
    "d1=dict(name='kiran',age=22)\n",
    "print(d)\n",
    "print(d1)"
   ]
  },
  {
   "cell_type": "code",
   "execution_count": 47,
   "id": "d93fc2fc",
   "metadata": {},
   "outputs": [
    {
     "name": "stdout",
     "output_type": "stream",
     "text": [
      "frozenset({'banana', 'apple', 'cherry'})\n",
      "frozenset({'pineapple', 'double', 'college'})\n"
     ]
    }
   ],
   "source": [
    "#frozenset data type\n",
    "f=frozenset({'apple','cherry','banana'})\n",
    "f1=frozenset(('pineapple','college','double'))\n",
    "print(f)\n",
    "print(f1)"
   ]
  },
  {
   "cell_type": "code",
   "execution_count": 48,
   "id": "8f1086b4",
   "metadata": {},
   "outputs": [
    {
     "name": "stdout",
     "output_type": "stream",
     "text": [
      "range(0, 6)\n"
     ]
    }
   ],
   "source": [
    "#range datatype\n",
    "r=range(6)\n",
    "print(r)"
   ]
  },
  {
   "cell_type": "code",
   "execution_count": 50,
   "id": "7b16ae62",
   "metadata": {},
   "outputs": [
    {
     "name": "stdout",
     "output_type": "stream",
     "text": [
      "True\n",
      "False\n"
     ]
    }
   ],
   "source": [
    "#boolean data types\n",
    "x=True\n",
    "x1=bool(False)\n",
    "print(x)\n",
    "print(x1)"
   ]
  },
  {
   "cell_type": "code",
   "execution_count": 52,
   "id": "5076e8e4",
   "metadata": {},
   "outputs": [
    {
     "name": "stdout",
     "output_type": "stream",
     "text": [
      "b'Hello'\n",
      "b'\\x00\\x00\\x00\\x00\\x00'\n",
      "bytearray(b'\\x00\\x00\\x00\\x00\\x00')\n",
      "<memory at 0x000001610116BE80>\n"
     ]
    }
   ],
   "source": [
    "x1=b\"Hello\" #byte datatype\n",
    "x2=bytes(5)  #byte datatype\n",
    "x3=bytearray(5) #bytearray datatype\n",
    "x4=memoryview(bytes(5)) #memoryview datatype\n",
    "print(x1)\n",
    "print(x2)\n",
    "print(x3)\n",
    "print(x4)"
   ]
  },
  {
   "cell_type": "markdown",
   "id": "dc4b6679",
   "metadata": {},
   "source": [
    "# Numbers"
   ]
  },
  {
   "cell_type": "code",
   "execution_count": 53,
   "id": "6313201b",
   "metadata": {},
   "outputs": [
    {
     "name": "stdout",
     "output_type": "stream",
     "text": [
      "1.Integer: 1\n",
      "2. Float: 2.8\n",
      "3.Complex: 99j\n"
     ]
    }
   ],
   "source": [
    "x=1\n",
    "y=2.8\n",
    "z=99j\n",
    "print('1.Integer:',x)\n",
    "print('2. Float:',y)\n",
    "print('3.Complex:',z)"
   ]
  },
  {
   "cell_type": "code",
   "execution_count": 54,
   "id": "d2bee9fd",
   "metadata": {},
   "outputs": [
    {
     "name": "stdout",
     "output_type": "stream",
     "text": [
      "49\n",
      "3435938302\n",
      "-48490293\n"
     ]
    }
   ],
   "source": [
    "#1.integer\n",
    "x=49\n",
    "y=3435938302\n",
    "z=-48490293\n",
    "print(x)\n",
    "print(y)\n",
    "print(z)"
   ]
  },
  {
   "cell_type": "code",
   "execution_count": 55,
   "id": "ec98766f",
   "metadata": {},
   "outputs": [
    {
     "name": "stdout",
     "output_type": "stream",
     "text": [
      "1.1\n",
      "1.0\n",
      "-34.3938\n"
     ]
    }
   ],
   "source": [
    "# 2.float\n",
    "x=1.10\n",
    "y=1.0\n",
    "z=-34.3938\n",
    "print(x)\n",
    "print(y)\n",
    "print(z)"
   ]
  },
  {
   "cell_type": "code",
   "execution_count": 56,
   "id": "91945ec6",
   "metadata": {},
   "outputs": [
    {
     "name": "stdout",
     "output_type": "stream",
     "text": [
      "35000.0\n",
      "120000.0\n",
      "-8.77e+101\n"
     ]
    }
   ],
   "source": [
    "x=35e3\n",
    "y=12E4\n",
    "z=-87.7e100\n",
    "print(x)\n",
    "print(y)\n",
    "print(z)"
   ]
  },
  {
   "cell_type": "code",
   "execution_count": 57,
   "id": "8565c44f",
   "metadata": {},
   "outputs": [
    {
     "name": "stdout",
     "output_type": "stream",
     "text": [
      "(3+5j)\n",
      "5j\n",
      "(-0-5j)\n"
     ]
    }
   ],
   "source": [
    "# 3.Complex\n",
    "x=3+5j\n",
    "y=5j\n",
    "z=-5j\n",
    "print(x)\n",
    "print(y)\n",
    "print(z)"
   ]
  },
  {
   "cell_type": "markdown",
   "id": "dff4247d",
   "metadata": {},
   "source": [
    "# Type Coversion"
   ]
  },
  {
   "cell_type": "code",
   "execution_count": 59,
   "id": "a2f8f752",
   "metadata": {},
   "outputs": [
    {
     "name": "stdout",
     "output_type": "stream",
     "text": [
      "484.0\n",
      "293\n",
      "(484+0j)\n",
      "\n",
      "<class 'float'>\n",
      "<class 'int'>\n",
      "<class 'complex'>\n"
     ]
    }
   ],
   "source": [
    "x=484\n",
    "y=293.48\n",
    "z=8j\n",
    "a=float(x)\n",
    "b=int(y)\n",
    "c=complex(x)\n",
    "print(a)\n",
    "print(b)\n",
    "print(c)\n",
    "print()\n",
    "print(type(a))\n",
    "print(type(b))\n",
    "print(type(c))"
   ]
  },
  {
   "cell_type": "markdown",
   "id": "040862b4",
   "metadata": {},
   "source": [
    "# Type Casting"
   ]
  },
  {
   "cell_type": "code",
   "execution_count": 63,
   "id": "7ee6d754",
   "metadata": {},
   "outputs": [
    {
     "name": "stdout",
     "output_type": "stream",
     "text": [
      "23\n",
      "234\n",
      "49\n",
      "\n",
      "<class 'int'>\n",
      "<class 'int'>\n",
      "<class 'int'>\n"
     ]
    }
   ],
   "source": [
    "#integer casting\n",
    "x=int(23)\n",
    "y=int(234.39)\n",
    "z=int('49')\n",
    "print(x)\n",
    "print(y)\n",
    "print(z)\n",
    "print()\n",
    "print(type(x))\n",
    "print(type(y))\n",
    "print(type(z))"
   ]
  },
  {
   "cell_type": "code",
   "execution_count": 64,
   "id": "3cb22ef4",
   "metadata": {},
   "outputs": [
    {
     "name": "stdout",
     "output_type": "stream",
     "text": [
      "33.0\n",
      "344.39\n",
      "4.0\n",
      "\n",
      "<class 'float'>\n",
      "<class 'float'>\n",
      "<class 'float'>\n"
     ]
    }
   ],
   "source": [
    "#float casting\n",
    "x=float(33)\n",
    "y=float(344.39)\n",
    "z=float('4')\n",
    "print(x)\n",
    "print(y)\n",
    "print(z)\n",
    "print()\n",
    "print(type(x))\n",
    "print(type(y))\n",
    "print(type(z))"
   ]
  },
  {
   "cell_type": "code",
   "execution_count": 66,
   "id": "86819587",
   "metadata": {},
   "outputs": [
    {
     "name": "stdout",
     "output_type": "stream",
     "text": [
      "s\n",
      "33\n",
      "33.493\n",
      "\n",
      "<class 'str'>\n",
      "<class 'str'>\n",
      "<class 'str'>\n"
     ]
    }
   ],
   "source": [
    "#3.strings\n",
    "x=str('s')\n",
    "y=str(33)\n",
    "z=str(33.4930)\n",
    "print(x)\n",
    "print(y)\n",
    "print(z)\n",
    "print()\n",
    "print(type(x))\n",
    "print(type(y))\n",
    "print(type(z))"
   ]
  },
  {
   "cell_type": "markdown",
   "id": "f61a09bb",
   "metadata": {},
   "source": [
    "# Boolean "
   ]
  },
  {
   "cell_type": "code",
   "execution_count": 68,
   "id": "4e7242fb",
   "metadata": {},
   "outputs": [
    {
     "name": "stdout",
     "output_type": "stream",
     "text": [
      "True\n",
      "False\n",
      "False\n"
     ]
    }
   ],
   "source": [
    "print(10>=9)\n",
    "print(10<=9)\n",
    "print(10==9)"
   ]
  },
  {
   "cell_type": "code",
   "execution_count": 71,
   "id": "eb144d7d",
   "metadata": {},
   "outputs": [
    {
     "name": "stdout",
     "output_type": "stream",
     "text": [
      "b is not greather than a\n"
     ]
    }
   ],
   "source": [
    "a=200\n",
    "b=30\n",
    "if b>a:\n",
    "    print('a is greater than b')\n",
    "else:\n",
    "    print('b is not greather than a')"
   ]
  },
  {
   "cell_type": "code",
   "execution_count": 72,
   "id": "104f8d19",
   "metadata": {},
   "outputs": [
    {
     "name": "stdout",
     "output_type": "stream",
     "text": [
      "a is greater than b\n"
     ]
    }
   ],
   "source": [
    "a=200\n",
    "b=30\n",
    "if b<a:\n",
    "    print('a is greater than b')\n",
    "else:\n",
    "    print('b is not greather than a')"
   ]
  },
  {
   "cell_type": "code",
   "execution_count": 73,
   "id": "1d54be0b",
   "metadata": {},
   "outputs": [
    {
     "name": "stdout",
     "output_type": "stream",
     "text": [
      "True\n",
      "True\n"
     ]
    }
   ],
   "source": [
    "print(bool('Hello'))\n",
    "print(bool(23))"
   ]
  },
  {
   "cell_type": "code",
   "execution_count": 74,
   "id": "398c9c68",
   "metadata": {},
   "outputs": [
    {
     "name": "stdout",
     "output_type": "stream",
     "text": [
      "True\n",
      "True\n",
      "True\n"
     ]
    }
   ],
   "source": [
    "print(bool('abc'))\n",
    "print(bool(123))\n",
    "print(bool(['apple','banana']))"
   ]
  },
  {
   "cell_type": "markdown",
   "id": "c420c35a",
   "metadata": {},
   "source": [
    "# Operators"
   ]
  },
  {
   "cell_type": "code",
   "execution_count": 75,
   "id": "9d32cb4a",
   "metadata": {},
   "outputs": [
    {
     "name": "stdout",
     "output_type": "stream",
     "text": [
      "Addition is: 58\n",
      "Substraction is: 40\n",
      "Multiplication is: 441\n",
      "Division is: 5.444444444444445\n",
      "Modulus is: 4\n",
      "Exponetation is: 1628413597910449\n",
      "Floor Division: 5\n"
     ]
    }
   ],
   "source": [
    "#Arithmetic operators\n",
    "a=49\n",
    "b=9\n",
    "print('Addition is:',a+b)\n",
    "print('Substraction is:',a-b)\n",
    "print('Multiplication is:',a*b)\n",
    "print('Division is:',a/b)\n",
    "print('Modulus is:',a%b)\n",
    "print('Exponetation is:',a**b)\n",
    "print('Floor Division:',a//b)"
   ]
  },
  {
   "cell_type": "code",
   "execution_count": 100,
   "id": "14437419",
   "metadata": {},
   "outputs": [
    {
     "name": "stdout",
     "output_type": "stream",
     "text": [
      "5\n",
      "8\n",
      "5\n",
      "15\n",
      "5.0\n",
      "2.0\n",
      "8.0\n",
      "2.0\n",
      "1\n",
      "3\n",
      "0\n",
      "0\n",
      "0\n"
     ]
    }
   ],
   "source": [
    "#Assignment\n",
    "x=5\n",
    "print(x)\n",
    "x+=3\n",
    "print(x)\n",
    "x-=3\n",
    "print(x)\n",
    "x*=3\n",
    "print(x)\n",
    "x/=3\n",
    "print(x)\n",
    "x%=3\n",
    "print(x)\n",
    "x**=3\n",
    "print(x)\n",
    "x//=3\n",
    "print(x)\n",
    "x=5\n",
    "x&=3\n",
    "print(x)\n",
    "x|=3\n",
    "print(x)\n",
    "x^=3\n",
    "print(x)\n",
    "x<<=3\n",
    "print(x)\n",
    "x>>=3\n",
    "print(x)"
   ]
  },
  {
   "cell_type": "code",
   "execution_count": 104,
   "id": "18a0e47f",
   "metadata": {},
   "outputs": [
    {
     "name": "stdout",
     "output_type": "stream",
     "text": [
      "True\n",
      "False\n",
      "True\n"
     ]
    }
   ],
   "source": [
    "#logical operator\n",
    "x=5\n",
    "print(x>3 and x<10)\n",
    "print(x<5 or x<4)\n",
    "print(not(x<5 and x<10))"
   ]
  },
  {
   "cell_type": "code",
   "execution_count": 107,
   "id": "41316d55",
   "metadata": {},
   "outputs": [
    {
     "name": "stdout",
     "output_type": "stream",
     "text": [
      "2\n",
      "11\n",
      "9\n",
      "-11\n",
      "80\n",
      "1\n"
     ]
    }
   ],
   "source": [
    "#bitwise operators\n",
    "a=10\n",
    "b=3\n",
    "print(a&b)\n",
    "print(a|b)\n",
    "print(a^b)\n",
    "print(~a)\n",
    "print(a<<b)\n",
    "print(a>>b)"
   ]
  },
  {
   "cell_type": "code",
   "execution_count": 108,
   "id": "31ce819f",
   "metadata": {},
   "outputs": [
    {
     "name": "stdout",
     "output_type": "stream",
     "text": [
      "False\n",
      "True\n",
      "False\n",
      "True\n",
      "False\n",
      "True\n"
     ]
    }
   ],
   "source": [
    "#comparsion operators/realational operators\n",
    "a=10\n",
    "b=2\n",
    "print(a==b)\n",
    "print(a!=b)\n",
    "print(a<b)\n",
    "print(a>b)\n",
    "print(a<=b)\n",
    "print(a>=b)"
   ]
  },
  {
   "cell_type": "code",
   "execution_count": 111,
   "id": "cfaedf11",
   "metadata": {},
   "outputs": [
    {
     "name": "stdout",
     "output_type": "stream",
     "text": [
      "True\n",
      "False\n",
      "True\n",
      "\n",
      "False\n",
      "True\n",
      "False\n"
     ]
    }
   ],
   "source": [
    "#identity operator\n",
    "x=['apple','banana']\n",
    "y=['apple','banana']\n",
    "z=x\n",
    "print(x is z)\n",
    "print(x is y)\n",
    "print(x == y)\n",
    "print()\n",
    "print(x is not z)\n",
    "print(x is not y)\n",
    "print(x != y)"
   ]
  },
  {
   "cell_type": "code",
   "execution_count": 116,
   "id": "66732090",
   "metadata": {},
   "outputs": [
    {
     "name": "stdout",
     "output_type": "stream",
     "text": [
      "True\n",
      "True\n",
      "False\n"
     ]
    }
   ],
   "source": [
    "#membership opeartor\n",
    "x=['banana','apple']\n",
    "print('banana' in x)\n",
    "print('pineapple'  not in x)\n",
    "print('apple' not in x)"
   ]
  },
  {
   "cell_type": "code",
   "execution_count": null,
   "id": "48210a6d",
   "metadata": {},
   "outputs": [],
   "source": []
  },
  {
   "cell_type": "code",
   "execution_count": null,
   "id": "c0774154",
   "metadata": {},
   "outputs": [],
   "source": []
  },
  {
   "cell_type": "code",
   "execution_count": null,
   "id": "19c97f1a",
   "metadata": {},
   "outputs": [],
   "source": []
  },
  {
   "cell_type": "code",
   "execution_count": null,
   "id": "117793f1",
   "metadata": {},
   "outputs": [],
   "source": []
  }
 ],
 "metadata": {
  "kernelspec": {
   "display_name": "Python 3 (ipykernel)",
   "language": "python",
   "name": "python3"
  },
  "language_info": {
   "codemirror_mode": {
    "name": "ipython",
    "version": 3
   },
   "file_extension": ".py",
   "mimetype": "text/x-python",
   "name": "python",
   "nbconvert_exporter": "python",
   "pygments_lexer": "ipython3",
   "version": "3.9.12"
  }
 },
 "nbformat": 4,
 "nbformat_minor": 5
}

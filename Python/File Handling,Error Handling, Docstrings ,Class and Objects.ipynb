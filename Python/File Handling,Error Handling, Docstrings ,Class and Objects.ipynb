{
 "cells": [
  {
   "cell_type": "markdown",
   "id": "0e5b0ad5",
   "metadata": {},
   "source": [
    "# File Handling"
   ]
  },
  {
   "cell_type": "code",
   "execution_count": 6,
   "id": "0f8f54f5",
   "metadata": {},
   "outputs": [
    {
     "name": "stdout",
     "output_type": "stream",
     "text": [
      "C:\\Users\\91630\n"
     ]
    }
   ],
   "source": [
    "import os\n",
    "print(os.getcwd())"
   ]
  },
  {
   "cell_type": "code",
   "execution_count": 10,
   "id": "96ae6e41",
   "metadata": {},
   "outputs": [
    {
     "name": "stdout",
     "output_type": "stream",
     "text": [
      "<_io.TextIOWrapper name='venky' mode='r' encoding='cp1252'>\n"
     ]
    }
   ],
   "source": [
    "#reading the file\n",
    "file=open('venky','r')\n",
    "print(file)"
   ]
  },
  {
   "cell_type": "code",
   "execution_count": 15,
   "id": "9d316e26",
   "metadata": {},
   "outputs": [
    {
     "name": "stdout",
     "output_type": "stream",
     "text": [
      "I was the best course for the Ekeeda PlatformI was the best mentors of the Data science course\n"
     ]
    }
   ],
   "source": [
    "file=open('venky','r')\n",
    "for x in file:\n",
    "    print(x)"
   ]
  },
  {
   "cell_type": "code",
   "execution_count": 16,
   "id": "60f62bc9",
   "metadata": {},
   "outputs": [
    {
     "name": "stdout",
     "output_type": "stream",
     "text": [
      "I was the best course for the Ekeeda PlatformI was the best mentors of the Data science course\n"
     ]
    }
   ],
   "source": [
    "file=open('venky','r')\n",
    "print(file.read())\n",
    "file.close()"
   ]
  },
  {
   "cell_type": "code",
   "execution_count": 17,
   "id": "bb727705",
   "metadata": {},
   "outputs": [],
   "source": [
    "#writing the file\n",
    "file=open('venky','w')\n",
    "file.write('I was the best course for the Ekeeda Platform')\n",
    "file.write('I was the best mentors of the Data science course')\n",
    "file.close()"
   ]
  },
  {
   "cell_type": "code",
   "execution_count": 18,
   "id": "8220f449",
   "metadata": {},
   "outputs": [
    {
     "name": "stdout",
     "output_type": "stream",
     "text": [
      "I was the best course for the Ekeeda PlatformI was the best mentors of the Data science course\n"
     ]
    },
    {
     "data": {
      "text/plain": [
       "<function TextIOWrapper.close()>"
      ]
     },
     "execution_count": 18,
     "metadata": {},
     "output_type": "execute_result"
    }
   ],
   "source": [
    "file=open('venky','r')\n",
    "print(file.read())\n",
    "file.close"
   ]
  },
  {
   "cell_type": "code",
   "execution_count": 19,
   "id": "be864f04",
   "metadata": {},
   "outputs": [],
   "source": [
    "#append\n",
    "file=open('venky','a')\n",
    "file.write('I was the going to the job offers of the data science')\n",
    "file.close()"
   ]
  },
  {
   "cell_type": "code",
   "execution_count": 20,
   "id": "a73214da",
   "metadata": {},
   "outputs": [
    {
     "name": "stdout",
     "output_type": "stream",
     "text": [
      "I was the best course for the Ekeeda PlatformI was the best mentors of the Data science courseI was the going to the job offers of the data science\n"
     ]
    }
   ],
   "source": [
    "file=open('venky','r')\n",
    "print(file.read())\n",
    "file.close()"
   ]
  },
  {
   "cell_type": "code",
   "execution_count": 23,
   "id": "bf888c2d",
   "metadata": {},
   "outputs": [],
   "source": [
    "#creating the files\n",
    "file=open('text4.file','x')\n",
    "file.close()"
   ]
  },
  {
   "cell_type": "code",
   "execution_count": 28,
   "id": "220cb4ea",
   "metadata": {},
   "outputs": [
    {
     "name": "stdout",
     "output_type": "stream",
     "text": [
      "\n"
     ]
    }
   ],
   "source": [
    "file=open('text4.file','r')\n",
    "print(file.read())\n",
    "file.close()"
   ]
  },
  {
   "cell_type": "code",
   "execution_count": 33,
   "id": "ea104d51",
   "metadata": {},
   "outputs": [],
   "source": [
    "#writing the new file someting\n",
    "file=open('text4.file','w')\n",
    "file.write('this is the best version of the student achievements')\n",
    "file.close()"
   ]
  },
  {
   "cell_type": "code",
   "execution_count": 34,
   "id": "f56a6a09",
   "metadata": {},
   "outputs": [
    {
     "name": "stdout",
     "output_type": "stream",
     "text": [
      "this is the best version of the student achievements\n"
     ]
    }
   ],
   "source": [
    "file=open('text4.file','r')\n",
    "print(file.read())\n",
    "file.close()"
   ]
  },
  {
   "cell_type": "code",
   "execution_count": 35,
   "id": "307c27a4",
   "metadata": {},
   "outputs": [],
   "source": [
    "#append the data we entred of the data\n",
    "file=open('text4.file','a')\n",
    "file.write('this is the best score we have to acheive')\n",
    "file.close()"
   ]
  },
  {
   "cell_type": "code",
   "execution_count": 36,
   "id": "c33dea79",
   "metadata": {},
   "outputs": [
    {
     "name": "stdout",
     "output_type": "stream",
     "text": [
      "this is the best version of the student achievementsthis is the best score we have to acheive\n"
     ]
    }
   ],
   "source": [
    "file=open('text4.file','r')\n",
    "print(file.read())\n",
    "file.close()"
   ]
  },
  {
   "cell_type": "code",
   "execution_count": 40,
   "id": "e4d28ffa",
   "metadata": {},
   "outputs": [
    {
     "name": "stdout",
     "output_type": "stream",
     "text": [
      "0\n",
      "this is the best version of the student achievementsthis is the best score we have to acheive i will acheive something... i will acheive something...\n",
      "\n"
     ]
    },
    {
     "data": {
      "text/plain": [
       "177"
      ]
     },
     "execution_count": 40,
     "metadata": {},
     "output_type": "execute_result"
    }
   ],
   "source": [
    "#more the file handling (r+,w+,a+)\n",
    "#read lines for the seek(),tell()\n",
    "f=open('text4.file','r+')\n",
    "#print(f.seek(5))\n",
    "print(f.tell())\n",
    "print(f.read())\n",
    "f.write(' i will acheive something...')\n",
    "print(f.read())\n",
    "f.tell()"
   ]
  },
  {
   "cell_type": "code",
   "execution_count": 41,
   "id": "fa754a20",
   "metadata": {},
   "outputs": [
    {
     "name": "stdout",
     "output_type": "stream",
     "text": [
      "\n"
     ]
    }
   ],
   "source": [
    "f=open('text4.file','w+')\n",
    "f.seek(3)\n",
    "print(f.read())\n",
    "f.close()"
   ]
  },
  {
   "cell_type": "code",
   "execution_count": null,
   "id": "3a1c5cc7",
   "metadata": {},
   "outputs": [],
   "source": []
  },
  {
   "cell_type": "markdown",
   "id": "e0dda3eb",
   "metadata": {},
   "source": [
    "# Error (or) Exception Handling"
   ]
  },
  {
   "cell_type": "code",
   "execution_count": 42,
   "id": "cba7314c",
   "metadata": {},
   "outputs": [],
   "source": [
    "#try:,except:,else: and finally"
   ]
  },
  {
   "cell_type": "code",
   "execution_count": 43,
   "id": "6c9ce37e",
   "metadata": {},
   "outputs": [
    {
     "ename": "NameError",
     "evalue": "name 'b' is not defined",
     "output_type": "error",
     "traceback": [
      "\u001b[1;31m---------------------------------------------------------------------------\u001b[0m",
      "\u001b[1;31mNameError\u001b[0m                                 Traceback (most recent call last)",
      "Input \u001b[1;32mIn [43]\u001b[0m, in \u001b[0;36m<cell line: 1>\u001b[1;34m()\u001b[0m\n\u001b[1;32m----> 1\u001b[0m a\u001b[38;5;241m=\u001b[39m\u001b[43mb\u001b[49m\n",
      "\u001b[1;31mNameError\u001b[0m: name 'b' is not defined"
     ]
    }
   ],
   "source": [
    "a=b"
   ]
  },
  {
   "cell_type": "code",
   "execution_count": 44,
   "id": "d5a84cd7",
   "metadata": {},
   "outputs": [
    {
     "name": "stdout",
     "output_type": "stream",
     "text": [
      "some error raised in the code\n"
     ]
    }
   ],
   "source": [
    "try:\n",
    "    a=b\n",
    "except:\n",
    "    print('some error raised in the code')"
   ]
  },
  {
   "cell_type": "code",
   "execution_count": 45,
   "id": "8146571b",
   "metadata": {},
   "outputs": [
    {
     "name": "stdout",
     "output_type": "stream",
     "text": [
      "name 'b' is not defined\n"
     ]
    }
   ],
   "source": [
    "try:\n",
    "    a=b\n",
    "except Exception as ex:\n",
    "    print(ex)"
   ]
  },
  {
   "cell_type": "code",
   "execution_count": 46,
   "id": "311dbda4",
   "metadata": {},
   "outputs": [
    {
     "name": "stdout",
     "output_type": "stream",
     "text": [
      "name 'b' is not defined\n"
     ]
    }
   ],
   "source": [
    "try:\n",
    "    a=b\n",
    "except NameError as ex:\n",
    "    print(ex)"
   ]
  },
  {
   "cell_type": "code",
   "execution_count": 47,
   "id": "ee0ab2fe",
   "metadata": {},
   "outputs": [
    {
     "name": "stdout",
     "output_type": "stream",
     "text": [
      "name 'b' is not defined\n"
     ]
    }
   ],
   "source": [
    "try:\n",
    "    a=b\n",
    "except Exception as ex1:\n",
    "    print(ex1)\n",
    "except Exception as ex2:\n",
    "    print('some error are raised in the code')"
   ]
  },
  {
   "cell_type": "code",
   "execution_count": 50,
   "id": "efae9b09",
   "metadata": {},
   "outputs": [
    {
     "name": "stdout",
     "output_type": "stream",
     "text": [
      "NameError are formed\n",
      "name 'b' is not defined\n"
     ]
    }
   ],
   "source": [
    "try:\n",
    "    a=b\n",
    "except NameError as ex1:\n",
    "    print('NameError are formed')\n",
    "    print(ex1)\n",
    "except Exception as ex2:\n",
    "    print('some error are raised in the code')"
   ]
  },
  {
   "cell_type": "code",
   "execution_count": 49,
   "id": "cb290ee3",
   "metadata": {},
   "outputs": [
    {
     "name": "stdout",
     "output_type": "stream",
     "text": [
      "name 'b' is not defined\n"
     ]
    }
   ],
   "source": [
    "try:\n",
    "    a=b\n",
    "except Exception as ex1:\n",
    "    print(ex1)\n",
    "except NameError as ex2:\n",
    "    print('Name error are formed')"
   ]
  },
  {
   "cell_type": "code",
   "execution_count": 51,
   "id": "f8d60070",
   "metadata": {},
   "outputs": [
    {
     "ename": "TypeError",
     "evalue": "unsupported operand type(s) for +: 'int' and 'str'",
     "output_type": "error",
     "traceback": [
      "\u001b[1;31m---------------------------------------------------------------------------\u001b[0m",
      "\u001b[1;31mTypeError\u001b[0m                                 Traceback (most recent call last)",
      "Input \u001b[1;32mIn [51]\u001b[0m, in \u001b[0;36m<cell line: 3>\u001b[1;34m()\u001b[0m\n\u001b[0;32m      1\u001b[0m x\u001b[38;5;241m=\u001b[39m\u001b[38;5;241m3\u001b[39m\n\u001b[0;32m      2\u001b[0m y\u001b[38;5;241m=\u001b[39m\u001b[38;5;124m'\u001b[39m\u001b[38;5;124ms\u001b[39m\u001b[38;5;124m'\u001b[39m\n\u001b[1;32m----> 3\u001b[0m z\u001b[38;5;241m=\u001b[39m\u001b[43mx\u001b[49m\u001b[38;5;241;43m+\u001b[39;49m\u001b[43my\u001b[49m\n",
      "\u001b[1;31mTypeError\u001b[0m: unsupported operand type(s) for +: 'int' and 'str'"
     ]
    }
   ],
   "source": [
    "x=3\n",
    "y='s'\n",
    "z=x+y"
   ]
  },
  {
   "cell_type": "code",
   "execution_count": 52,
   "id": "395ee37a",
   "metadata": {},
   "outputs": [
    {
     "name": "stdout",
     "output_type": "stream",
     "text": [
      "some error are raised\n"
     ]
    }
   ],
   "source": [
    "try:\n",
    "    x=3\n",
    "    y='s'\n",
    "    z=x+y\n",
    "except:\n",
    "    print('some error are raised')"
   ]
  },
  {
   "cell_type": "code",
   "execution_count": 54,
   "id": "484051c1",
   "metadata": {},
   "outputs": [
    {
     "name": "stdout",
     "output_type": "stream",
     "text": [
      "some error are raised in the code\n",
      "unsupported operand type(s) for +: 'int' and 'str'\n"
     ]
    }
   ],
   "source": [
    "try: \n",
    "    x=3\n",
    "    y='s'\n",
    "    z=x+y\n",
    "except TypeError as ex1:\n",
    "    print('some error are raised in the code')\n",
    "    print(ex1)\n",
    "except NameError as ex2:\n",
    "    print('NameError are found')\n",
    "    print(ex2)"
   ]
  },
  {
   "cell_type": "code",
   "execution_count": 55,
   "id": "60926f82",
   "metadata": {},
   "outputs": [
    {
     "name": "stdout",
     "output_type": "stream",
     "text": [
      "enter ur 1st no.: 12\n",
      "enter ur 2nd no.: 4\n",
      "3.0\n"
     ]
    }
   ],
   "source": [
    "a=int(input('enter ur 1st no.: '))\n",
    "b=int(input('enter ur 2nd no.: '))\n",
    "c=a/b\n",
    "print(c)"
   ]
  },
  {
   "cell_type": "code",
   "execution_count": 56,
   "id": "7623725b",
   "metadata": {},
   "outputs": [
    {
     "name": "stdout",
     "output_type": "stream",
     "text": [
      "enter ur 1st no.: 12\n",
      "enter ur 2nd no.: 0\n"
     ]
    },
    {
     "ename": "ZeroDivisionError",
     "evalue": "division by zero",
     "output_type": "error",
     "traceback": [
      "\u001b[1;31m---------------------------------------------------------------------------\u001b[0m",
      "\u001b[1;31mZeroDivisionError\u001b[0m                         Traceback (most recent call last)",
      "Input \u001b[1;32mIn [56]\u001b[0m, in \u001b[0;36m<cell line: 3>\u001b[1;34m()\u001b[0m\n\u001b[0;32m      1\u001b[0m a\u001b[38;5;241m=\u001b[39m\u001b[38;5;28mint\u001b[39m(\u001b[38;5;28minput\u001b[39m(\u001b[38;5;124m'\u001b[39m\u001b[38;5;124menter ur 1st no.: \u001b[39m\u001b[38;5;124m'\u001b[39m))\n\u001b[0;32m      2\u001b[0m b\u001b[38;5;241m=\u001b[39m\u001b[38;5;28mint\u001b[39m(\u001b[38;5;28minput\u001b[39m(\u001b[38;5;124m'\u001b[39m\u001b[38;5;124menter ur 2nd no.: \u001b[39m\u001b[38;5;124m'\u001b[39m))\n\u001b[1;32m----> 3\u001b[0m c\u001b[38;5;241m=\u001b[39m\u001b[43ma\u001b[49m\u001b[38;5;241;43m/\u001b[39;49m\u001b[43mb\u001b[49m\n\u001b[0;32m      4\u001b[0m \u001b[38;5;28mprint\u001b[39m(c)\n",
      "\u001b[1;31mZeroDivisionError\u001b[0m: division by zero"
     ]
    }
   ],
   "source": [
    "a=int(input('enter ur 1st no.: '))\n",
    "b=int(input('enter ur 2nd no.: '))\n",
    "c=a/b\n",
    "print(c)"
   ]
  },
  {
   "cell_type": "code",
   "execution_count": 57,
   "id": "36768016",
   "metadata": {},
   "outputs": [
    {
     "name": "stdout",
     "output_type": "stream",
     "text": [
      "Enter ur 1st no.: 12\n",
      "Entre ur 2nd no.: 5\n",
      "17\n",
      "60\n",
      "7\n",
      "2.4\n"
     ]
    }
   ],
   "source": [
    "try:\n",
    "    a=int(input('Enter ur 1st no.: '))\n",
    "    b=int(input('Entre ur 2nd no.: '))\n",
    "    c=a+b\n",
    "    d=a*b\n",
    "    e=a-b\n",
    "    f=a/b\n",
    "    print(c)\n",
    "    print(d)\n",
    "    print(e)\n",
    "    print(f)\n",
    "except TypeError as ex1:\n",
    "    print('TypeError is found')\n",
    "    print(ex1)\n",
    "except NameError as ex2:\n",
    "    print('NameError is found')\n",
    "    print(ex2)\n",
    "except ZeroDivision as ex3:\n",
    "    print('ZeroDivison error Found')\n",
    "    print(ex3)"
   ]
  },
  {
   "cell_type": "code",
   "execution_count": 61,
   "id": "d48950b8",
   "metadata": {},
   "outputs": [
    {
     "name": "stdout",
     "output_type": "stream",
     "text": [
      "Enter ur 1st no.: 12\n",
      "Entre ur 2nd no.: 0\n",
      "ZeroDivison error Found,Please Gives The Correct value\n",
      "division by zero\n"
     ]
    }
   ],
   "source": [
    "try:\n",
    "    a=int(input('Enter ur 1st no.: '))\n",
    "    b=int(input('Entre ur 2nd no.: '))\n",
    "    c=a+b\n",
    "    d=a*b\n",
    "    e=a-b\n",
    "    f=a/b\n",
    "    print(c)\n",
    "    print(d)\n",
    "    print(e)\n",
    "    print(f)\n",
    "except TypeError as ex1:\n",
    "    print('TypeError is found')\n",
    "    print(ex1)\n",
    "except NameError as ex2:\n",
    "    print('NameError is found')\n",
    "    print(ex2)\n",
    "except ZeroDivisionError as ex3:\n",
    "    print('ZeroDivison error Found,Please Gives The Correct value')\n",
    "    print(ex3)"
   ]
  },
  {
   "cell_type": "code",
   "execution_count": 63,
   "id": "904b6859",
   "metadata": {},
   "outputs": [
    {
     "name": "stdout",
     "output_type": "stream",
     "text": [
      "Enter ur 1st no.: 12\n",
      "Entre ur 2nd no.: 0\n",
      "ZeroDivison error Found,Please Gives The Correct value\n",
      "division by zero\n"
     ]
    }
   ],
   "source": [
    "try:\n",
    "    a=int(input('Enter ur 1st no.: '))\n",
    "    b=int(input('Entre ur 2nd no.: '))\n",
    "    c=a+b\n",
    "    d=a*b\n",
    "    e=a-b\n",
    "    f=a/b\n",
    "except TypeError as ex1:\n",
    "    print('TypeError is found')\n",
    "    print(ex1)\n",
    "except NameError as ex2:\n",
    "    print('NameError is found')\n",
    "    print(ex2)\n",
    "except ZeroDivisionError as ex3:\n",
    "    print('ZeroDivison error Found,Please Gives The Correct value')\n",
    "    print(ex3)\n",
    "else:\n",
    "    print(c)\n",
    "    print(d)\n",
    "    print(e)\n",
    "    print(f)"
   ]
  },
  {
   "cell_type": "code",
   "execution_count": 62,
   "id": "bd68702c",
   "metadata": {},
   "outputs": [
    {
     "name": "stdout",
     "output_type": "stream",
     "text": [
      "Enter ur 1st no.: 12\n",
      "Entre ur 2nd no.: 2\n",
      "14\n",
      "24\n",
      "10\n",
      "6.0\n"
     ]
    }
   ],
   "source": [
    "try:\n",
    "    a=int(input('Enter ur 1st no.: '))\n",
    "    b=int(input('Entre ur 2nd no.: '))\n",
    "    c=a+b\n",
    "    d=a*b\n",
    "    e=a-b\n",
    "    f=a/b\n",
    "except TypeError as ex1:\n",
    "    print('TypeError is found')\n",
    "    print(ex1)\n",
    "except NameError as ex2:\n",
    "    print('NameError is found')\n",
    "    print(ex2)\n",
    "except ZeroDivisionError as ex3:\n",
    "    print('ZeroDivison error Found,Please Gives The Correct value')\n",
    "    print(ex3)\n",
    "else:\n",
    "    print(c)\n",
    "    print(d)\n",
    "    print(e)\n",
    "    print(f)"
   ]
  },
  {
   "cell_type": "code",
   "execution_count": 65,
   "id": "a0c22208",
   "metadata": {},
   "outputs": [
    {
     "name": "stdout",
     "output_type": "stream",
     "text": [
      "Enter ur 1st no.: 12\n",
      "Entre ur 2nd no.: 0\n",
      "ZeroDivison error Found,Please Gives The Correct value\n",
      "division by zero\n",
      "the code successfully executed\n",
      "All The Process Done\n"
     ]
    }
   ],
   "source": [
    "try:\n",
    "    a=int(input('Enter ur 1st no.: '))\n",
    "    b=int(input('Entre ur 2nd no.: '))\n",
    "    c=a+b\n",
    "    d=a*b\n",
    "    e=a-b\n",
    "    f=a/b\n",
    "except TypeError as ex1:\n",
    "    print('TypeError is found')\n",
    "    print(ex1)\n",
    "except NameError as ex2:\n",
    "    print('NameError is found')\n",
    "    print(ex2)\n",
    "except ZeroDivisionError as ex3:\n",
    "    print('ZeroDivison error Found,Please Gives The Correct value')\n",
    "    print(ex3)\n",
    "else:\n",
    "    print(c)\n",
    "    print(d)\n",
    "    print(e)\n",
    "    print(f)\n",
    "finally:\n",
    "    print('the code successfully executed')\n",
    "    print('All The Process Done')"
   ]
  },
  {
   "cell_type": "code",
   "execution_count": 64,
   "id": "a90ebd97",
   "metadata": {},
   "outputs": [
    {
     "name": "stdout",
     "output_type": "stream",
     "text": [
      "Enter ur 1st no.: 12\n",
      "Entre ur 2nd no.: 4\n",
      "16\n",
      "48\n",
      "8\n",
      "3.0\n",
      "the code successfully executed\n",
      "All The Process Done\n"
     ]
    }
   ],
   "source": [
    "try:\n",
    "    a=int(input('Enter ur 1st no.: '))\n",
    "    b=int(input('Entre ur 2nd no.: '))\n",
    "    c=a+b\n",
    "    d=a*b\n",
    "    e=a-b\n",
    "    f=a/b\n",
    "except TypeError as ex1:\n",
    "    print('TypeError is found')\n",
    "    print(ex1)\n",
    "except NameError as ex2:\n",
    "    print('NameError is found')\n",
    "    print(ex2)\n",
    "except ZeroDivisionError as ex3:\n",
    "    print('ZeroDivison error Found,Please Gives The Correct value')\n",
    "    print(ex3)\n",
    "else:\n",
    "    print(c)\n",
    "    print(d)\n",
    "    print(e)\n",
    "    print(f)\n",
    "finally:\n",
    "    print('the code successfully executed')\n",
    "    print('All The Process Done')"
   ]
  },
  {
   "cell_type": "code",
   "execution_count": null,
   "id": "08a07e8a",
   "metadata": {},
   "outputs": [],
   "source": []
  },
  {
   "cell_type": "markdown",
   "id": "e13f9b2c",
   "metadata": {},
   "source": [
    "# DocStrings"
   ]
  },
  {
   "cell_type": "code",
   "execution_count": 90,
   "id": "91d2d3d6",
   "metadata": {},
   "outputs": [
    {
     "name": "stdout",
     "output_type": "stream",
     "text": [
      "Takes in a number n, returns the square of n\n"
     ]
    },
    {
     "data": {
      "text/plain": [
       "1156"
      ]
     },
     "execution_count": 90,
     "metadata": {},
     "output_type": "execute_result"
    }
   ],
   "source": [
    "#square the values\n",
    "def square(n):\n",
    "    '''Takes in a number n, returns the square of n'''\n",
    "    return n**2\n",
    "\n",
    "print(square.__doc__)\n",
    "square(34)"
   ]
  },
  {
   "cell_type": "code",
   "execution_count": 91,
   "id": "0fb3a00a",
   "metadata": {},
   "outputs": [
    {
     "name": "stdout",
     "output_type": "stream",
     "text": [
      "the addition of the function in the elements\n"
     ]
    },
    {
     "data": {
      "text/plain": [
       "11"
      ]
     },
     "execution_count": 91,
     "metadata": {},
     "output_type": "execute_result"
    }
   ],
   "source": [
    "#addition of the numbers\n",
    "def add(a,b):\n",
    "    '''the addition of the function in the elements'''\n",
    "    return a+b    \n",
    "    \n",
    "print(add.__doc__)\n",
    "add(3,8)"
   ]
  },
  {
   "cell_type": "code",
   "execution_count": 97,
   "id": "f0f0e427",
   "metadata": {},
   "outputs": [
    {
     "name": "stdout",
     "output_type": "stream",
     "text": [
      "using.__doc__\n",
      "The Multiline Documentation is used in the docstings of the function\n",
      "using.__doc__\n",
      "The Multiline Documentation is used in the docstings of the function\n"
     ]
    }
   ],
   "source": [
    "#one linear documentation\n",
    "def func():\n",
    "    '''The Multiline Documentation is used in the docstings of the function'''\n",
    "    \n",
    "    return None\n",
    "print('using.__doc__')\n",
    "print(func.__doc__)\n",
    "print('using.__doc__')\n",
    "print(func.__doc__)\n",
    "func()"
   ]
  },
  {
   "cell_type": "code",
   "execution_count": 99,
   "id": "c9aef9e0",
   "metadata": {},
   "outputs": [
    {
     "name": "stdout",
     "output_type": "stream",
     "text": [
      "This is multiline \n",
      "docstring is used in\n",
      "the function keyword of \n",
      "the following in the \n",
      "python programming\n"
     ]
    }
   ],
   "source": [
    "def func(n):\n",
    "    '''This is multiline \n",
    "docstring is used in\n",
    "the function keyword of \n",
    "the following in the \n",
    "python programming'''\n",
    "    \n",
    "    return n\n",
    "print(func.__doc__)"
   ]
  },
  {
   "cell_type": "code",
   "execution_count": null,
   "id": "dafe7e03",
   "metadata": {},
   "outputs": [],
   "source": []
  },
  {
   "cell_type": "markdown",
   "id": "f275e954",
   "metadata": {},
   "source": [
    "# Modularization"
   ]
  },
  {
   "cell_type": "code",
   "execution_count": 106,
   "id": "831e11be",
   "metadata": {},
   "outputs": [
    {
     "data": {
      "text/plain": [
       "__main__.Student"
      ]
     },
     "execution_count": 106,
     "metadata": {},
     "output_type": "execute_result"
    }
   ],
   "source": [
    "#student.py\n",
    "class Student:\n",
    "    def __init__(self,student):\n",
    "        self.name=student['name']\n",
    "        self.gender=student['gender']\n",
    "        self.year=student['year']\n",
    "    def get_student_details(self):\n",
    "        return f\"Name: {self.name}\\nGender :{self.gender}\\n Year: {self.year}\"\n",
    "Student"
   ]
  },
  {
   "cell_type": "code",
   "execution_count": 105,
   "id": "f917912b",
   "metadata": {},
   "outputs": [
    {
     "data": {
      "text/plain": [
       "__main__.Faculty"
      ]
     },
     "execution_count": 105,
     "metadata": {},
     "output_type": "execute_result"
    }
   ],
   "source": [
    "#faculty.py\n",
    "class Faculty:\n",
    "    def __init__(self,faculty):\n",
    "        self.name=faculty['name']\n",
    "        self.subject=faculty['subject']\n",
    "    def get__faculty_details(self):\n",
    "        return f\"Name:{self.name}\\n Subject: {self.subject}\"\n",
    "Faculty"
   ]
  },
  {
   "cell_type": "code",
   "execution_count": null,
   "id": "35bcae4f",
   "metadata": {},
   "outputs": [],
   "source": []
  },
  {
   "cell_type": "markdown",
   "id": "433e8644",
   "metadata": {},
   "source": [
    "# Class and Objects"
   ]
  },
  {
   "cell_type": "code",
   "execution_count": 109,
   "id": "0603fdaf",
   "metadata": {},
   "outputs": [
    {
     "name": "stdout",
     "output_type": "stream",
     "text": [
      "10 venky\n"
     ]
    }
   ],
   "source": [
    "#self function\n",
    "class student:\n",
    "    id=10\n",
    "    name='venky'\n",
    "    def func(self):\n",
    "        print(self.id,self.name)\n",
    "r=student()\n",
    "r.func()"
   ]
  },
  {
   "cell_type": "code",
   "execution_count": 117,
   "id": "09a14318",
   "metadata": {},
   "outputs": [
    {
     "name": "stdout",
     "output_type": "stream",
     "text": [
      "Venky\n",
      "21\n",
      "Venky 21\n"
     ]
    }
   ],
   "source": [
    "#__init__function\n",
    "class A:\n",
    "    def __init__(self,name,age):\n",
    "        self.name=name\n",
    "        self.age=age\n",
    "s1=A('Venky',21)\n",
    "print(s1.name)\n",
    "print(s1.age)\n",
    "print(s1.name,s1.age)"
   ]
  },
  {
   "cell_type": "code",
   "execution_count": 118,
   "id": "78ae741f",
   "metadata": {},
   "outputs": [
    {
     "data": {
      "text/plain": [
       "40"
      ]
     },
     "execution_count": 118,
     "metadata": {},
     "output_type": "execute_result"
    }
   ],
   "source": [
    "class X:\n",
    "    x=40\n",
    "X.x"
   ]
  },
  {
   "cell_type": "code",
   "execution_count": 122,
   "id": "74f62f8d",
   "metadata": {},
   "outputs": [
    {
     "name": "stdout",
     "output_type": "stream",
     "text": [
      "100\n"
     ]
    }
   ],
   "source": [
    "class X:\n",
    "    a=100\n",
    "r=X()\n",
    "print(r.a)"
   ]
  },
  {
   "cell_type": "code",
   "execution_count": 126,
   "id": "738cf4d0",
   "metadata": {},
   "outputs": [
    {
     "name": "stdout",
     "output_type": "stream",
     "text": [
      "10 venky\n"
     ]
    }
   ],
   "source": [
    "class student:\n",
    "    id=10\n",
    "    name='venky'\n",
    "    def display(self):\n",
    "        print(self.id,self.name)\n",
    "a=student()\n",
    "a.display()"
   ]
  },
  {
   "cell_type": "code",
   "execution_count": 129,
   "id": "896de5f7",
   "metadata": {},
   "outputs": [
    {
     "name": "stdout",
     "output_type": "stream",
     "text": [
      "14\n",
      "<function student.welcome at 0x000001EC46CB55E0>\n",
      "this is a student class\n",
      "Hi,Welcome to the College..\n"
     ]
    }
   ],
   "source": [
    "class student:\n",
    "    '''this is a student class'''\n",
    "    age=14\n",
    "    def welcome(self):\n",
    "        print('Hi,Welcome to the College..')\n",
    "print(student.age)\n",
    "print(student.welcome)\n",
    "print(student.__doc__)\n",
    "#object \n",
    "c=student()\n",
    "c.welcome()"
   ]
  },
  {
   "cell_type": "code",
   "execution_count": 130,
   "id": "bc43582d",
   "metadata": {},
   "outputs": [
    {
     "name": "stdout",
     "output_type": "stream",
     "text": [
      "Hari 29-10-2002\n",
      "Hari\n",
      "29-10-2002\n"
     ]
    }
   ],
   "source": [
    "#init function\n",
    "class student:\n",
    "    def __init__(self,name,dob):\n",
    "        self.name=name\n",
    "        self.dob=dob\n",
    "s1=student('Hari','29-10-2002')\n",
    "print(s1.name,s1.dob)\n",
    "print(s1.name)\n",
    "print(s1.dob)"
   ]
  },
  {
   "cell_type": "code",
   "execution_count": 131,
   "id": "896cf8ae",
   "metadata": {},
   "outputs": [
    {
     "name": "stdout",
     "output_type": "stream",
     "text": [
      "Vijay\n"
     ]
    }
   ],
   "source": [
    "#modify objects\n",
    "s1.name='Vijay'\n",
    "print(s1.name)"
   ]
  },
  {
   "cell_type": "code",
   "execution_count": 140,
   "id": "5a9f48ad",
   "metadata": {},
   "outputs": [
    {
     "name": "stdout",
     "output_type": "stream",
     "text": [
      "Hi,Name is venky\n"
     ]
    }
   ],
   "source": [
    "class Animal:\n",
    "    def __inti__(self,name,age):\n",
    "        self.name=name\n",
    "    def geek(self):\n",
    "        print('Hi,Name is venky')\n",
    "a=Animal()\n",
    "a.geek()"
   ]
  },
  {
   "cell_type": "code",
   "execution_count": null,
   "id": "c706826d",
   "metadata": {},
   "outputs": [],
   "source": []
  }
 ],
 "metadata": {
  "kernelspec": {
   "display_name": "Python 3 (ipykernel)",
   "language": "python",
   "name": "python3"
  },
  "language_info": {
   "codemirror_mode": {
    "name": "ipython",
    "version": 3
   },
   "file_extension": ".py",
   "mimetype": "text/x-python",
   "name": "python",
   "nbconvert_exporter": "python",
   "pygments_lexer": "ipython3",
   "version": "3.9.12"
  }
 },
 "nbformat": 4,
 "nbformat_minor": 5
}

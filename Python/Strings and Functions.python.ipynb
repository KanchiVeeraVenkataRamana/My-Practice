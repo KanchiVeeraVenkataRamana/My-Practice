{
 "cells": [
  {
   "cell_type": "code",
   "execution_count": 4,
   "id": "d0e31488",
   "metadata": {},
   "outputs": [],
   "source": [
    "#Immutable Datatypes/changeable datatypes means that can change,add and remove items\n",
    "#numbers,strings tuples\n",
    "\n",
    "#mutable datatypes they cann't change the items.lists,dictionary,sets"
   ]
  },
  {
   "cell_type": "markdown",
   "id": "b68202b4",
   "metadata": {},
   "source": [
    "# Strings"
   ]
  },
  {
   "cell_type": "code",
   "execution_count": 5,
   "id": "7586dcb1",
   "metadata": {},
   "outputs": [
    {
     "name": "stdout",
     "output_type": "stream",
     "text": [
      "Venky\n"
     ]
    }
   ],
   "source": [
    "name='Venky'\n",
    "print(name)"
   ]
  },
  {
   "cell_type": "code",
   "execution_count": 8,
   "id": "a4eb2435",
   "metadata": {},
   "outputs": [
    {
     "name": "stdout",
     "output_type": "stream",
     "text": [
      "Hello my name is venky.\n",
      "I am studying a Data Engineer.\n",
      "I am from Ramachadrapuram\n"
     ]
    }
   ],
   "source": [
    "#multiline string\n",
    "name='''Hello my name is venky.\n",
    "I am studying a Data Engineer.\n",
    "I am from Ramachadrapuram'''\n",
    "print(name)"
   ]
  },
  {
   "cell_type": "code",
   "execution_count": 9,
   "id": "e388e3d7",
   "metadata": {},
   "outputs": [
    {
     "name": "stdout",
     "output_type": "stream",
     "text": [
      "5\n"
     ]
    }
   ],
   "source": [
    "#length of the string\n",
    "name='Venky'\n",
    "print(len(name))"
   ]
  },
  {
   "cell_type": "code",
   "execution_count": 12,
   "id": "b04556eb",
   "metadata": {},
   "outputs": [
    {
     "ename": "TypeError",
     "evalue": "can only concatenate str (not \"int\") to str",
     "output_type": "error",
     "traceback": [
      "\u001b[1;31m---------------------------------------------------------------------------\u001b[0m",
      "\u001b[1;31mTypeError\u001b[0m                                 Traceback (most recent call last)",
      "Input \u001b[1;32mIn [12]\u001b[0m, in \u001b[0;36m<cell line: 3>\u001b[1;34m()\u001b[0m\n\u001b[0;32m      1\u001b[0m \u001b[38;5;66;03m#string formating\u001b[39;00m\n\u001b[0;32m      2\u001b[0m age\u001b[38;5;241m=\u001b[39m\u001b[38;5;241m36\u001b[39m\n\u001b[1;32m----> 3\u001b[0m txt\u001b[38;5;241m=\u001b[39m\u001b[38;5;124;43m\"\u001b[39;49m\u001b[38;5;124;43mmy name is venky. i am \u001b[39;49m\u001b[38;5;124;43m\"\u001b[39;49m\u001b[38;5;241;43m+\u001b[39;49m\u001b[43mage\u001b[49m\n\u001b[0;32m      4\u001b[0m \u001b[38;5;28mprint\u001b[39m(txt)\n",
      "\u001b[1;31mTypeError\u001b[0m: can only concatenate str (not \"int\") to str"
     ]
    }
   ],
   "source": [
    "#string formating\n",
    "#don't\n",
    "age=36\n",
    "txt=\"my name is venky. i am \"+age\n",
    "print(txt)"
   ]
  },
  {
   "cell_type": "code",
   "execution_count": 15,
   "id": "c1e4a456",
   "metadata": {},
   "outputs": [
    {
     "name": "stdout",
     "output_type": "stream",
     "text": [
      "my name is venky.i am 21\n"
     ]
    }
   ],
   "source": [
    "age=21\n",
    "txt='my name is venky.i am {}'\n",
    "print(txt.format(age))"
   ]
  },
  {
   "cell_type": "code",
   "execution_count": 16,
   "id": "81685596",
   "metadata": {},
   "outputs": [
    {
     "name": "stdout",
     "output_type": "stream",
     "text": [
      "I want 3 pieces of item 567 for 49.49 dollars\n"
     ]
    }
   ],
   "source": [
    "quantity=3\n",
    "itemno=567\n",
    "price=49.49\n",
    "myorder='I want {} pieces of item {} for {} dollars'\n",
    "print(myorder.format(quantity,itemno,price))"
   ]
  },
  {
   "cell_type": "code",
   "execution_count": 17,
   "id": "280ec1f1",
   "metadata": {},
   "outputs": [
    {
     "name": "stdout",
     "output_type": "stream",
     "text": [
      "I want to pay 40.49 dollars for 3 pieces of item 583\n"
     ]
    }
   ],
   "source": [
    "quantity=3\n",
    "itemno=583\n",
    "price=40.49\n",
    "myorder='I want to pay {2} dollars for {0} pieces of item {1}'\n",
    "print(myorder.format(quantity,itemno,price))"
   ]
  },
  {
   "cell_type": "code",
   "execution_count": 19,
   "id": "56531b8e",
   "metadata": {},
   "outputs": [
    {
     "name": "stdout",
     "output_type": "stream",
     "text": [
      "VenkyKanchi\n",
      "Venky Kanchi\n"
     ]
    }
   ],
   "source": [
    "#concat\n",
    "name='Venky'\n",
    "surname='Kanchi'\n",
    "print(name+surname)\n",
    "print(name+' '+surname)"
   ]
  },
  {
   "cell_type": "code",
   "execution_count": 21,
   "id": "e0feb19a",
   "metadata": {},
   "outputs": [
    {
     "name": "stdout",
     "output_type": "stream",
     "text": [
      "k\n"
     ]
    }
   ],
   "source": [
    "#strings are arrays\n",
    "name='venky kanchi'\n",
    "print(name[3])"
   ]
  },
  {
   "cell_type": "code",
   "execution_count": 22,
   "id": "f010fd9e",
   "metadata": {},
   "outputs": [
    {
     "name": "stdout",
     "output_type": "stream",
     "text": [
      "ky kan\n",
      "venky kan\n",
      "ky kanchi\n"
     ]
    }
   ],
   "source": [
    "#slice\n",
    "name='venky kanchi'\n",
    "print(name[3:9])\n",
    "print(name[:9])\n",
    "print(name[3:])"
   ]
  },
  {
   "cell_type": "code",
   "execution_count": 29,
   "id": "a8f7c11d",
   "metadata": {},
   "outputs": [
    {
     "name": "stdout",
     "output_type": "stream",
     "text": [
      "Ven\n",
      "nky\n",
      "Hel\n"
     ]
    }
   ],
   "source": [
    "#negative slice\n",
    "a='Hello Venky'\n",
    "print(a[-5:-2])\n",
    "print(a[-3:])\n",
    "print(a[:-8])"
   ]
  },
  {
   "cell_type": "code",
   "execution_count": 35,
   "id": "3750193f",
   "metadata": {},
   "outputs": [
    {
     "name": "stdout",
     "output_type": "stream",
     "text": [
      "Hello,Venky\n",
      "HELLO,VENKY\n",
      "hello,venky\n",
      "Hello Venky\n",
      "HEllo vENky\n"
     ]
    }
   ],
   "source": [
    "a='Hello,venky'\n",
    "print(a.replace('v','V')) #replace\n",
    "print(a.upper()) #uppercase\n",
    "print(a.lower()) #lowercase\n",
    "b='hello venky'\n",
    "print(b.title()) #titlecase\n",
    "c='heLLO VenKY'\n",
    "print(c.swapcase()) #swapcase()\n"
   ]
  },
  {
   "cell_type": "code",
   "execution_count": null,
   "id": "8e0374a3",
   "metadata": {},
   "outputs": [],
   "source": []
  },
  {
   "cell_type": "markdown",
   "id": "c7dbf0f5",
   "metadata": {},
   "source": [
    "# Functions"
   ]
  },
  {
   "cell_type": "code",
   "execution_count": 46,
   "id": "609761e5",
   "metadata": {},
   "outputs": [
    {
     "data": {
      "text/plain": [
       "5.830951894845301"
      ]
     },
     "execution_count": 46,
     "metadata": {},
     "output_type": "execute_result"
    }
   ],
   "source": [
    "#built-in function\n",
    "x=abs(3+5j)  #absolute values\n",
    "x"
   ]
  },
  {
   "cell_type": "code",
   "execution_count": 47,
   "id": "0787f738",
   "metadata": {},
   "outputs": [
    {
     "data": {
      "text/plain": [
       "True"
      ]
     },
     "execution_count": 47,
     "metadata": {},
     "output_type": "execute_result"
    }
   ],
   "source": [
    "l=[True,True ,True]  #all \n",
    "y=all(l)\n",
    "y"
   ]
  },
  {
   "cell_type": "code",
   "execution_count": 50,
   "id": "ece6d402",
   "metadata": {},
   "outputs": [
    {
     "data": {
      "text/plain": [
       "\"'my name is st\\\\xe0l\\\\u0393'\""
      ]
     },
     "execution_count": 50,
     "metadata": {},
     "output_type": "execute_result"
    }
   ],
   "source": [
    "#ascii function\n",
    "x=ascii('my name is stàlΓ')\n",
    "x"
   ]
  },
  {
   "cell_type": "code",
   "execution_count": 51,
   "id": "b490da6f",
   "metadata": {},
   "outputs": [
    {
     "data": {
      "text/plain": [
       "True"
      ]
     },
     "execution_count": 51,
     "metadata": {},
     "output_type": "execute_result"
    }
   ],
   "source": [
    "#bool()\n",
    "x=bool(l)\n",
    "x"
   ]
  },
  {
   "cell_type": "code",
   "execution_count": 54,
   "id": "f82e110e",
   "metadata": {},
   "outputs": [
    {
     "name": "stdout",
     "output_type": "stream",
     "text": [
      "<enumerate object at 0x000001FE2D12DCC0>\n"
     ]
    }
   ],
   "source": [
    "#enumerate()\n",
    "a=('apple','banana','cherry')\n",
    "y=enumerate(a)\n",
    "print(y)"
   ]
  },
  {
   "cell_type": "code",
   "execution_count": 55,
   "id": "3ed1819a",
   "metadata": {},
   "outputs": [
    {
     "data": {
      "text/plain": [
       "5"
      ]
     },
     "execution_count": 55,
     "metadata": {},
     "output_type": "execute_result"
    }
   ],
   "source": [
    "#length\n",
    "l=['I','N','D','I','A']\n",
    "x=len(l)\n",
    "x"
   ]
  },
  {
   "cell_type": "code",
   "execution_count": 56,
   "id": "507c8003",
   "metadata": {},
   "outputs": [
    {
     "data": {
      "text/plain": [
       "False"
      ]
     },
     "execution_count": 56,
     "metadata": {},
     "output_type": "execute_result"
    }
   ],
   "source": [
    "#all\n",
    "li=[0,1,0]\n",
    "x=all(li)\n",
    "x"
   ]
  },
  {
   "cell_type": "code",
   "execution_count": 57,
   "id": "d532278e",
   "metadata": {},
   "outputs": [
    {
     "data": {
      "text/plain": [
       "True"
      ]
     },
     "execution_count": 57,
     "metadata": {},
     "output_type": "execute_result"
    }
   ],
   "source": [
    "li=[1,1,1]\n",
    "x=all(li)\n",
    "x"
   ]
  },
  {
   "cell_type": "code",
   "execution_count": 58,
   "id": "413f9a28",
   "metadata": {},
   "outputs": [
    {
     "data": {
      "text/plain": [
       "False"
      ]
     },
     "execution_count": 58,
     "metadata": {},
     "output_type": "execute_result"
    }
   ],
   "source": [
    "li=[1,1,0]\n",
    "x=all(li)\n",
    "x"
   ]
  },
  {
   "cell_type": "code",
   "execution_count": 61,
   "id": "83cd6c71",
   "metadata": {},
   "outputs": [
    {
     "name": "stdout",
     "output_type": "stream",
     "text": [
      "112\n",
      "16\n"
     ]
    }
   ],
   "source": [
    "#sum()\n",
    "s=sum([24,39,49])\n",
    "s1=sum([3,9,4])\n",
    "print(s)\n",
    "print(s1)"
   ]
  },
  {
   "cell_type": "code",
   "execution_count": 3,
   "id": "fefe23d8",
   "metadata": {},
   "outputs": [
    {
     "name": "stdout",
     "output_type": "stream",
     "text": [
      "200\n"
     ]
    }
   ],
   "source": [
    "#max and min\n",
    "m1=max(4,39,29,20,59,30,200)\n",
    "print(m1)"
   ]
  },
  {
   "cell_type": "code",
   "execution_count": 4,
   "id": "71a2ab71",
   "metadata": {},
   "outputs": [
    {
     "name": "stdout",
     "output_type": "stream",
     "text": [
      "4\n"
     ]
    }
   ],
   "source": [
    "m2=min(30,20,59,10,4,39,399)\n",
    "print(m2)"
   ]
  },
  {
   "cell_type": "code",
   "execution_count": 5,
   "id": "e53760a5",
   "metadata": {},
   "outputs": [
    {
     "name": "stdout",
     "output_type": "stream",
     "text": [
      "449\n"
     ]
    }
   ],
   "source": [
    "m3=max({4,39,58,30,1,39,449})\n",
    "print(m3)"
   ]
  },
  {
   "cell_type": "code",
   "execution_count": 6,
   "id": "448473ca",
   "metadata": {},
   "outputs": [
    {
     "name": "stdout",
     "output_type": "stream",
     "text": [
      "2\n"
     ]
    }
   ],
   "source": [
    "m4=min({4,2,58,49,30,399})\n",
    "print(m4)"
   ]
  },
  {
   "cell_type": "code",
   "execution_count": 8,
   "id": "4e509268",
   "metadata": {},
   "outputs": [
    {
     "name": "stdout",
     "output_type": "stream",
     "text": [
      "I\n"
     ]
    }
   ],
   "source": [
    "#iter()\n",
    "mylist=iter(['I','N','D','I','A'])\n",
    "x=next(mylist)\n",
    "print(x)"
   ]
  },
  {
   "cell_type": "code",
   "execution_count": 9,
   "id": "ff19452f",
   "metadata": {},
   "outputs": [
    {
     "name": "stdout",
     "output_type": "stream",
     "text": [
      "N\n"
     ]
    }
   ],
   "source": [
    "x=next(mylist)\n",
    "print(x)"
   ]
  },
  {
   "cell_type": "code",
   "execution_count": 10,
   "id": "f7793468",
   "metadata": {},
   "outputs": [
    {
     "name": "stdout",
     "output_type": "stream",
     "text": [
      "D\n"
     ]
    }
   ],
   "source": [
    "x=next(mylist)\n",
    "print(x)"
   ]
  },
  {
   "cell_type": "code",
   "execution_count": 11,
   "id": "e4896e09",
   "metadata": {},
   "outputs": [
    {
     "name": "stdout",
     "output_type": "stream",
     "text": [
      "27\n",
      "16\n"
     ]
    }
   ],
   "source": [
    "#pow()\n",
    "x1=pow(3,3)\n",
    "x2=pow(2,4)\n",
    "print(x1)\n",
    "print(x2)"
   ]
  },
  {
   "cell_type": "code",
   "execution_count": 12,
   "id": "d0bba5d9",
   "metadata": {},
   "outputs": [
    {
     "name": "stdout",
     "output_type": "stream",
     "text": [
      "0\n",
      "1\n",
      "2\n",
      "3\n",
      "4\n",
      "5\n"
     ]
    }
   ],
   "source": [
    "#range()\n",
    "x=range(6)\n",
    "for n in x:\n",
    "    print(n)"
   ]
  },
  {
   "cell_type": "code",
   "execution_count": 13,
   "id": "159438c8",
   "metadata": {},
   "outputs": [
    {
     "name": "stdout",
     "output_type": "stream",
     "text": [
      "20\n",
      "22\n",
      "24\n",
      "26\n",
      "28\n",
      "30\n",
      "32\n",
      "34\n",
      "36\n",
      "38\n"
     ]
    }
   ],
   "source": [
    "x=range(20,40,2)\n",
    "for n in x:\n",
    "    print(n)"
   ]
  },
  {
   "cell_type": "code",
   "execution_count": 14,
   "id": "f89aafd2",
   "metadata": {},
   "outputs": [
    {
     "name": "stdout",
     "output_type": "stream",
     "text": [
      "8.628\n"
     ]
    }
   ],
   "source": [
    "#round()\n",
    "x=round(8.62840392,3)\n",
    "print(x)"
   ]
  },
  {
   "cell_type": "code",
   "execution_count": 15,
   "id": "90c52e3f",
   "metadata": {},
   "outputs": [
    {
     "name": "stdout",
     "output_type": "stream",
     "text": [
      "['A', 'D', 'I', 'I', 'N']\n"
     ]
    }
   ],
   "source": [
    "#sorted\n",
    "a=['I','N','D','I','A']\n",
    "x=sorted(a)\n",
    "print(x)"
   ]
  },
  {
   "cell_type": "code",
   "execution_count": 16,
   "id": "38967811",
   "metadata": {},
   "outputs": [
    {
     "name": "stdout",
     "output_type": "stream",
     "text": [
      "['N', 'I', 'I', 'D', 'A']\n"
     ]
    }
   ],
   "source": [
    "x=sorted(a,reverse=True)\n",
    "print(x)"
   ]
  },
  {
   "cell_type": "code",
   "execution_count": 20,
   "id": "f8602de5",
   "metadata": {},
   "outputs": [
    {
     "name": "stdout",
     "output_type": "stream",
     "text": [
      "[1, 3, 4, 19, 29, 29, 49, 94]\n"
     ]
    }
   ],
   "source": [
    "a=(3,49,29,19,29,4,1,94)\n",
    "x=sorted(a)\n",
    "print(x)"
   ]
  },
  {
   "cell_type": "code",
   "execution_count": 21,
   "id": "eef8fe7a",
   "metadata": {},
   "outputs": [
    {
     "name": "stdout",
     "output_type": "stream",
     "text": [
      "[94, 49, 29, 29, 19, 4, 3, 1]\n"
     ]
    }
   ],
   "source": [
    "x=sorted(a,reverse=True)\n",
    "print(x)"
   ]
  },
  {
   "cell_type": "code",
   "execution_count": 22,
   "id": "e8c76f5d",
   "metadata": {},
   "outputs": [
    {
     "name": "stdout",
     "output_type": "stream",
     "text": [
      "('s', 'i', 'm', 'p', 'l')\n"
     ]
    }
   ],
   "source": [
    "#slice\n",
    "a=('s','i','m','p','l','e','p','y','t','h','o','n')\n",
    "x=slice(5)\n",
    "print(a[x])"
   ]
  },
  {
   "cell_type": "code",
   "execution_count": 25,
   "id": "c7553609",
   "metadata": {},
   "outputs": [
    {
     "name": "stdout",
     "output_type": "stream",
     "text": [
      "<map object at 0x000001FEFAF15790>\n"
     ]
    }
   ],
   "source": [
    "#map()\n",
    "def func(n):\n",
    "    return len(n)\n",
    "x=map(func,('apple','banana','cherry'))\n",
    "print(x)"
   ]
  },
  {
   "cell_type": "code",
   "execution_count": 26,
   "id": "169fc9f3",
   "metadata": {},
   "outputs": [
    {
     "name": "stdout",
     "output_type": "stream",
     "text": [
      "<class 'tuple'>\n",
      "<class 'str'>\n",
      "<class 'int'>\n"
     ]
    }
   ],
   "source": [
    "#type()\n",
    "a=('apple','banana','cherry')\n",
    "b='Hello venky'\n",
    "c=33\n",
    "print(type(a))\n",
    "print(type(b))\n",
    "print(type(c))"
   ]
  },
  {
   "cell_type": "code",
   "execution_count": 27,
   "id": "5a5dd738",
   "metadata": {},
   "outputs": [
    {
     "name": "stdout",
     "output_type": "stream",
     "text": [
      "Hello World\n"
     ]
    }
   ],
   "source": [
    "#user defined function\n",
    "def fun():\n",
    "    print('Hello World')\n",
    "fun()"
   ]
  },
  {
   "cell_type": "code",
   "execution_count": 29,
   "id": "acebcb2b",
   "metadata": {},
   "outputs": [
    {
     "name": "stdout",
     "output_type": "stream",
     "text": [
      "enter ur country name: India\n",
      "Hello India\n"
     ]
    }
   ],
   "source": [
    "def hello():\n",
    "    name=str(input('enter ur country name: '))\n",
    "    print('Hello'+' ' +str(name))\n",
    "hello()"
   ]
  },
  {
   "cell_type": "code",
   "execution_count": 30,
   "id": "9c5ab425",
   "metadata": {},
   "outputs": [
    {
     "name": "stdout",
     "output_type": "stream",
     "text": [
      "Hello from a function\n"
     ]
    }
   ],
   "source": [
    "def my_function():\n",
    "    print('Hello from a function')\n",
    "my_function()"
   ]
  },
  {
   "cell_type": "code",
   "execution_count": 41,
   "id": "b18b2553",
   "metadata": {},
   "outputs": [
    {
     "data": {
      "text/plain": [
       "182.88"
      ]
     },
     "execution_count": 41,
     "metadata": {},
     "output_type": "execute_result"
    }
   ],
   "source": [
    "#parameters\n",
    "def ft_to_cm(ft):\n",
    "    centimeter=ft*30.48\n",
    "    return centimeter\n",
    "ft_to_cm(6)"
   ]
  },
  {
   "cell_type": "code",
   "execution_count": 42,
   "id": "6004d41f",
   "metadata": {},
   "outputs": [
    {
     "data": {
      "text/plain": [
       "176.784"
      ]
     },
     "execution_count": 42,
     "metadata": {},
     "output_type": "execute_result"
    }
   ],
   "source": [
    "ft_to_cm(5.8)"
   ]
  },
  {
   "cell_type": "code",
   "execution_count": 43,
   "id": "b5c32aa7",
   "metadata": {},
   "outputs": [
    {
     "name": "stdout",
     "output_type": "stream",
     "text": [
      "70\n"
     ]
    }
   ],
   "source": [
    "def add(x,y):\n",
    "    sum=x+y\n",
    "    print(sum)\n",
    "add(40,30)"
   ]
  },
  {
   "cell_type": "code",
   "execution_count": 44,
   "id": "f7242cca",
   "metadata": {},
   "outputs": [
    {
     "data": {
      "text/plain": [
       "79"
      ]
     },
     "execution_count": 44,
     "metadata": {},
     "output_type": "execute_result"
    }
   ],
   "source": [
    "def add(x,y):\n",
    "    sum=x+y\n",
    "    return sum\n",
    "add(40,39)"
   ]
  },
  {
   "cell_type": "code",
   "execution_count": 45,
   "id": "dd48b79f",
   "metadata": {},
   "outputs": [
    {
     "data": {
      "text/plain": [
       "10"
      ]
     },
     "execution_count": 45,
     "metadata": {},
     "output_type": "execute_result"
    }
   ],
   "source": [
    "add(-20,30)"
   ]
  },
  {
   "cell_type": "code",
   "execution_count": 46,
   "id": "7ab66ae1",
   "metadata": {},
   "outputs": [
    {
     "data": {
      "text/plain": [
       "27"
      ]
     },
     "execution_count": 46,
     "metadata": {},
     "output_type": "execute_result"
    }
   ],
   "source": [
    "def multiply(x,y):\n",
    "    product=x*y\n",
    "    return product\n",
    "multiply(3,9)"
   ]
  },
  {
   "cell_type": "code",
   "execution_count": 47,
   "id": "904f0bda",
   "metadata": {},
   "outputs": [
    {
     "name": "stdout",
     "output_type": "stream",
     "text": [
      "56\n"
     ]
    }
   ],
   "source": [
    "def absolute(x):\n",
    "    if x>=0:\n",
    "        return x\n",
    "    else:\n",
    "        return (-x)\n",
    "print(absolute(56))"
   ]
  },
  {
   "cell_type": "code",
   "execution_count": 48,
   "id": "f1edfdb7",
   "metadata": {},
   "outputs": [
    {
     "name": "stdout",
     "output_type": "stream",
     "text": [
      "56\n"
     ]
    }
   ],
   "source": [
    "print(absolute(-56))"
   ]
  },
  {
   "cell_type": "code",
   "execution_count": 49,
   "id": "deda0996",
   "metadata": {},
   "outputs": [
    {
     "data": {
      "text/plain": [
       "120"
      ]
     },
     "execution_count": 49,
     "metadata": {},
     "output_type": "execute_result"
    }
   ],
   "source": [
    "#factorial\n",
    "def factorial(x):\n",
    "    if x==0:\n",
    "        return 1\n",
    "    else:\n",
    "        return x*factorial(x-1)\n",
    "factorial(5)"
   ]
  },
  {
   "cell_type": "code",
   "execution_count": 50,
   "id": "514aab38",
   "metadata": {},
   "outputs": [
    {
     "data": {
      "text/plain": [
       "3628800"
      ]
     },
     "execution_count": 50,
     "metadata": {},
     "output_type": "execute_result"
    }
   ],
   "source": [
    "factorial(10)"
   ]
  },
  {
   "cell_type": "code",
   "execution_count": 52,
   "id": "520036fe",
   "metadata": {},
   "outputs": [
    {
     "name": "stdout",
     "output_type": "stream",
     "text": [
      "Email Reference\n",
      "Tobias Reference\n",
      "Linus Reference\n"
     ]
    }
   ],
   "source": [
    "def func(fname):\n",
    "    print(fname+' '+'Reference')\n",
    "func('Email')\n",
    "func('Tobias')\n",
    "func('Linus')"
   ]
  },
  {
   "cell_type": "code",
   "execution_count": 54,
   "id": "7c5d77fa",
   "metadata": {},
   "outputs": [
    {
     "name": "stdout",
     "output_type": "stream",
     "text": [
      "I am from Sweden\n",
      "I am from India\n",
      "I am from Norway\n",
      "I am from Brazil\n"
     ]
    }
   ],
   "source": [
    "def func(country='Norway'):\n",
    "    print('I am from'+' '+country)\n",
    "func('Sweden')\n",
    "func('India')\n",
    "func()\n",
    "func('Brazil')"
   ]
  },
  {
   "cell_type": "code",
   "execution_count": 56,
   "id": "4ee902b3",
   "metadata": {},
   "outputs": [
    {
     "name": "stdout",
     "output_type": "stream",
     "text": [
      "15\n",
      "25\n",
      "45\n"
     ]
    }
   ],
   "source": [
    "def func(x):\n",
    "    return 5*x\n",
    "print(func(3))\n",
    "print(func(5))\n",
    "print(func(9))"
   ]
  },
  {
   "cell_type": "code",
   "execution_count": 57,
   "id": "c1bbca4f",
   "metadata": {},
   "outputs": [
    {
     "name": "stdout",
     "output_type": "stream",
     "text": [
      "Hello Venky\n"
     ]
    }
   ],
   "source": [
    "#default arguments\n",
    "def welcome(name='Venky'):\n",
    "    print('Hello',name)\n",
    "welcome()"
   ]
  },
  {
   "cell_type": "code",
   "execution_count": 58,
   "id": "978f5cb4",
   "metadata": {},
   "outputs": [
    {
     "name": "stdout",
     "output_type": "stream",
     "text": [
      "Hello Manoj\n"
     ]
    }
   ],
   "source": [
    "welcome('Manoj')"
   ]
  },
  {
   "cell_type": "code",
   "execution_count": 59,
   "id": "941f716a",
   "metadata": {},
   "outputs": [
    {
     "name": "stdout",
     "output_type": "stream",
     "text": [
      "Hello venky Hello chandu Hello manoj\n"
     ]
    }
   ],
   "source": [
    "def message(name1,name2,name3):\n",
    "    print('Hello',name1,'Hello',name2,'Hello',name3)\n",
    "message('venky','chandu','manoj')"
   ]
  },
  {
   "cell_type": "code",
   "execution_count": 60,
   "id": "f206e9a5",
   "metadata": {},
   "outputs": [
    {
     "name": "stdout",
     "output_type": "stream",
     "text": [
      "7\n"
     ]
    }
   ],
   "source": [
    "#scopes\n",
    "def func():\n",
    "    z=7\n",
    "    print(z)\n",
    "func()"
   ]
  },
  {
   "cell_type": "code",
   "execution_count": 61,
   "id": "aa7a066e",
   "metadata": {},
   "outputs": [
    {
     "name": "stdout",
     "output_type": "stream",
     "text": [
      "5\n"
     ]
    }
   ],
   "source": [
    "z=5\n",
    "def func():\n",
    "    print(z)\n",
    "func()"
   ]
  },
  {
   "cell_type": "code",
   "execution_count": 63,
   "id": "5ca748ef",
   "metadata": {},
   "outputs": [
    {
     "name": "stdout",
     "output_type": "stream",
     "text": [
      "6\n"
     ]
    }
   ],
   "source": [
    "x=5\n",
    "def func():\n",
    "    global x\n",
    "    x=x+1\n",
    "    print(x)\n",
    "func()"
   ]
  },
  {
   "cell_type": "code",
   "execution_count": 64,
   "id": "f21e8c0c",
   "metadata": {},
   "outputs": [
    {
     "name": "stdout",
     "output_type": "stream",
     "text": [
      "Hello venky , bhanu , shyam\n"
     ]
    }
   ],
   "source": [
    "def func(*names):\n",
    "    print('Hello',names[0],',',names[1],',',names[2])\n",
    "func('venky','bhanu','shyam')"
   ]
  },
  {
   "cell_type": "code",
   "execution_count": 67,
   "id": "9c7ce6c4",
   "metadata": {},
   "outputs": [],
   "source": [
    "pi=3.14\n",
    "def circlearea(radius):\n",
    "    return pi*radius*radius\n",
    "def spherearea(radius):\n",
    "    return 4*pi*radius*radius"
   ]
  },
  {
   "cell_type": "code",
   "execution_count": 68,
   "id": "75529cc9",
   "metadata": {},
   "outputs": [
    {
     "name": "stdout",
     "output_type": "stream",
     "text": [
      "Circle area with radius is 15: 706.5\n",
      "Sphere area with radius is 10: 1256.0\n"
     ]
    }
   ],
   "source": [
    "def main():\n",
    "    print('Circle area with radius is 15:',circlearea(15))\n",
    "    print('Sphere area with radius is 10:',spherearea(10))\n",
    "main()"
   ]
  },
  {
   "cell_type": "markdown",
   "id": "22e946b2",
   "metadata": {},
   "source": [
    "# Lambda"
   ]
  },
  {
   "cell_type": "code",
   "execution_count": 69,
   "id": "73d77a07",
   "metadata": {},
   "outputs": [
    {
     "data": {
      "text/plain": [
       "8"
      ]
     },
     "execution_count": 69,
     "metadata": {},
     "output_type": "execute_result"
    }
   ],
   "source": [
    "def add(a,b):\n",
    "    result=a+b\n",
    "    return result\n",
    "add(3,5)"
   ]
  },
  {
   "cell_type": "code",
   "execution_count": 70,
   "id": "1b3bbb93",
   "metadata": {},
   "outputs": [
    {
     "data": {
      "text/plain": [
       "8"
      ]
     },
     "execution_count": 70,
     "metadata": {},
     "output_type": "execute_result"
    }
   ],
   "source": [
    "#lambda argumets:expression\n",
    "add=lambda a,b:a+b\n",
    "add(3,5)"
   ]
  },
  {
   "cell_type": "code",
   "execution_count": 71,
   "id": "f9b5ef7d",
   "metadata": {},
   "outputs": [
    {
     "name": "stdout",
     "output_type": "stream",
     "text": [
      "44\n"
     ]
    }
   ],
   "source": [
    "add=lambda x:x+4\n",
    "print(add(40))"
   ]
  },
  {
   "cell_type": "code",
   "execution_count": 72,
   "id": "2ab0b558",
   "metadata": {},
   "outputs": [
    {
     "data": {
      "text/plain": [
       "450"
      ]
     },
     "execution_count": 72,
     "metadata": {},
     "output_type": "execute_result"
    }
   ],
   "source": [
    "(lambda a,b:a*b)(15,30)"
   ]
  },
  {
   "cell_type": "code",
   "execution_count": 73,
   "id": "aa33cb1b",
   "metadata": {},
   "outputs": [
    {
     "data": {
      "text/plain": [
       "450"
      ]
     },
     "execution_count": 73,
     "metadata": {},
     "output_type": "execute_result"
    }
   ],
   "source": [
    "mul=lambda a,b:a*b\n",
    "mul(15,30)"
   ]
  },
  {
   "cell_type": "code",
   "execution_count": 74,
   "id": "bb095f8e",
   "metadata": {},
   "outputs": [
    {
     "data": {
      "text/plain": [
       "60"
      ]
     },
     "execution_count": 74,
     "metadata": {},
     "output_type": "execute_result"
    }
   ],
   "source": [
    "product=lambda x,y,z:x*y*z\n",
    "product(3,5,4)"
   ]
  },
  {
   "cell_type": "code",
   "execution_count": 75,
   "id": "9748da28",
   "metadata": {},
   "outputs": [
    {
     "data": {
      "text/plain": [
       "44080"
      ]
     },
     "execution_count": 75,
     "metadata": {},
     "output_type": "execute_result"
    }
   ],
   "source": [
    "product(z=40,x=29,y=38)"
   ]
  },
  {
   "cell_type": "code",
   "execution_count": 76,
   "id": "bf0936c7",
   "metadata": {},
   "outputs": [
    {
     "name": "stdout",
     "output_type": "stream",
     "text": [
      "59\n"
     ]
    }
   ],
   "source": [
    "add=lambda x,y=15,z=24:x+y+z\n",
    "print(add(20))"
   ]
  },
  {
   "cell_type": "code",
   "execution_count": 78,
   "id": "45bb1c6b",
   "metadata": {},
   "outputs": [
    {
     "data": {
      "text/plain": [
       "113"
      ]
     },
     "execution_count": 78,
     "metadata": {},
     "output_type": "execute_result"
    }
   ],
   "source": [
    "add=lambda*args:sum(args)\n",
    "add(13,29,39,29,3)"
   ]
  },
  {
   "cell_type": "code",
   "execution_count": 81,
   "id": "faade35f",
   "metadata": {},
   "outputs": [
    {
     "data": {
      "text/plain": [
       "420"
      ]
     },
     "execution_count": 81,
     "metadata": {},
     "output_type": "execute_result"
    }
   ],
   "source": [
    "higher_ord_fun=lambda x,fun:x+fun(x)\n",
    "higher_ord_fun(20,lambda x:x*x)"
   ]
  },
  {
   "cell_type": "code",
   "execution_count": 82,
   "id": "7b88be77",
   "metadata": {},
   "outputs": [
    {
     "data": {
      "text/plain": [
       "'even'"
      ]
     },
     "execution_count": 82,
     "metadata": {},
     "output_type": "execute_result"
    }
   ],
   "source": [
    "(lambda x:(x%2 and 'odd' or 'even'))(30)"
   ]
  },
  {
   "cell_type": "code",
   "execution_count": 84,
   "id": "f06d879f",
   "metadata": {},
   "outputs": [
    {
     "data": {
      "text/plain": [
       "'odd'"
      ]
     },
     "execution_count": 84,
     "metadata": {},
     "output_type": "execute_result"
    }
   ],
   "source": [
    "(lambda x:(x%2 and 'odd' or 'even'))(15)"
   ]
  },
  {
   "cell_type": "code",
   "execution_count": 85,
   "id": "95f605cf",
   "metadata": {},
   "outputs": [
    {
     "name": "stdout",
     "output_type": "stream",
     "text": [
      "False\n"
     ]
    }
   ],
   "source": [
    "sub_string=lambda string:string in 'Welcome to python functions'\n",
    "print(sub_string('java'))"
   ]
  },
  {
   "cell_type": "code",
   "execution_count": 87,
   "id": "b9722173",
   "metadata": {},
   "outputs": [
    {
     "data": {
      "text/plain": [
       "True"
      ]
     },
     "execution_count": 87,
     "metadata": {},
     "output_type": "execute_result"
    }
   ],
   "source": [
    "sub_string('python')"
   ]
  },
  {
   "cell_type": "code",
   "execution_count": 89,
   "id": "dccc6e40",
   "metadata": {},
   "outputs": [
    {
     "data": {
      "text/plain": [
       "[40, 56, 33, 70]"
      ]
     },
     "execution_count": 89,
     "metadata": {},
     "output_type": "execute_result"
    }
   ],
   "source": [
    "n=[10,40,56,27,33,15,70]\n",
    "greater=list(filter(lambda n:n>30,n))\n",
    "greater"
   ]
  },
  {
   "cell_type": "code",
   "execution_count": 91,
   "id": "c66e8cce",
   "metadata": {},
   "outputs": [
    {
     "data": {
      "text/plain": [
       "[40, 56]"
      ]
     },
     "execution_count": 91,
     "metadata": {},
     "output_type": "execute_result"
    }
   ],
   "source": [
    "n=[10,40,56,27,33,15,70]\n",
    "divide=list(filter(lambda x:(x%4==0),n))\n",
    "divide"
   ]
  },
  {
   "cell_type": "code",
   "execution_count": 93,
   "id": "68e9215d",
   "metadata": {},
   "outputs": [
    {
     "data": {
      "text/plain": [
       "[20, 80, 112, 54, 66, 30, 140]"
      ]
     },
     "execution_count": 93,
     "metadata": {},
     "output_type": "execute_result"
    }
   ],
   "source": [
    "n=[10,40,56,27,33,15,70]\n",
    "double_the_num=list(map((lambda x:x*2),n))\n",
    "double_the_num"
   ]
  },
  {
   "cell_type": "code",
   "execution_count": 96,
   "id": "a7d04191",
   "metadata": {},
   "outputs": [
    {
     "data": {
      "text/plain": [
       "<map at 0x1fefacad940>"
      ]
     },
     "execution_count": 96,
     "metadata": {},
     "output_type": "execute_result"
    }
   ],
   "source": [
    "n=[10,40,56,27,33,15,70]\n",
    "cube=map(lambda x:pow(x,3),n)\n",
    "cube"
   ]
  },
  {
   "cell_type": "code",
   "execution_count": 97,
   "id": "a332542c",
   "metadata": {},
   "outputs": [],
   "source": [
    "def quadratic(a,b,c):\n",
    "    return lambda x:a*x**2+b*x+c\n",
    "f=quadratic(2,3,5)"
   ]
  },
  {
   "cell_type": "code",
   "execution_count": 98,
   "id": "fca1491a",
   "metadata": {},
   "outputs": [
    {
     "data": {
      "text/plain": [
       "10"
      ]
     },
     "execution_count": 98,
     "metadata": {},
     "output_type": "execute_result"
    }
   ],
   "source": [
    "f(1)"
   ]
  },
  {
   "cell_type": "code",
   "execution_count": 99,
   "id": "60a16455",
   "metadata": {},
   "outputs": [
    {
     "data": {
      "text/plain": [
       "19"
      ]
     },
     "execution_count": 99,
     "metadata": {},
     "output_type": "execute_result"
    }
   ],
   "source": [
    "f(2)"
   ]
  },
  {
   "cell_type": "code",
   "execution_count": 105,
   "id": "a7986431",
   "metadata": {},
   "outputs": [
    {
     "name": "stdout",
     "output_type": "stream",
     "text": [
      "<map object at 0x000001FEFACE4100>\n",
      "(1, 4, 9, 16)\n"
     ]
    }
   ],
   "source": [
    "#map()\n",
    "#map(function,iterables)\n",
    "def new(a):\n",
    "    return a*a\n",
    "x=map(new,[1,2,3,4])\n",
    "print(x)\n",
    "#print(list(x))\n",
    "print(tuple(x))"
   ]
  },
  {
   "cell_type": "code",
   "execution_count": 106,
   "id": "4e83c53a",
   "metadata": {},
   "outputs": [
    {
     "name": "stdout",
     "output_type": "stream",
     "text": [
      "<map object at 0x000001FEFACE4220>\n",
      "(2, 6, 12, 20)\n"
     ]
    }
   ],
   "source": [
    "def new(a,b):\n",
    "    return a*b\n",
    "x=map(new,[1,2,3,4],[2,3,4,5])\n",
    "print(x)\n",
    "print(tuple(x))"
   ]
  },
  {
   "cell_type": "code",
   "execution_count": 107,
   "id": "e79392a2",
   "metadata": {},
   "outputs": [
    {
     "name": "stdout",
     "output_type": "stream",
     "text": [
      "[4, 5, 6, 7, 8]\n"
     ]
    }
   ],
   "source": [
    "l=[1,2,3,4,5]\n",
    "x=list(map(lambda x:x+3,l))\n",
    "print(x)"
   ]
  },
  {
   "cell_type": "code",
   "execution_count": 110,
   "id": "0f0fb34a",
   "metadata": {},
   "outputs": [
    {
     "name": "stdout",
     "output_type": "stream",
     "text": [
      "(3, 4, 5, 6)\n"
     ]
    }
   ],
   "source": [
    "#filter\n",
    "#filter(function,iterables)\n",
    "def new(i):\n",
    "    if i>=3:\n",
    "        return i\n",
    "j=filter(new,(1,2,3,4,5,6))\n",
    "print(tuple(j))"
   ]
  },
  {
   "cell_type": "code",
   "execution_count": 112,
   "id": "07cadef6",
   "metadata": {},
   "outputs": [
    {
     "name": "stdout",
     "output_type": "stream",
     "text": [
      "[3, 4, 5, 6]\n"
     ]
    }
   ],
   "source": [
    "x=filter(lambda x:(x>=3),(1,2,3,4,5,6))\n",
    "print(list(x))"
   ]
  },
  {
   "cell_type": "code",
   "execution_count": 114,
   "id": "3bcaa32c",
   "metadata": {},
   "outputs": [
    {
     "name": "stdout",
     "output_type": "stream",
     "text": [
      "83\n"
     ]
    }
   ],
   "source": [
    "#reduce()\n",
    "#reduce(function,iterables)\n",
    "from functools import reduce\n",
    "def a(x,y):\n",
    "    return x+y\n",
    "s=reduce(a,[1,2,3,4,55,4,4,5,5])\n",
    "print(s)"
   ]
  },
  {
   "cell_type": "code",
   "execution_count": 115,
   "id": "e52382d0",
   "metadata": {},
   "outputs": [
    {
     "data": {
      "text/plain": [
       "35280"
      ]
     },
     "execution_count": 115,
     "metadata": {},
     "output_type": "execute_result"
    }
   ],
   "source": [
    "reduce(lambda q,p:q*p,[1,2,3,4,5,6,7,7])"
   ]
  },
  {
   "cell_type": "code",
   "execution_count": 116,
   "id": "64083c51",
   "metadata": {},
   "outputs": [
    {
     "data": {
      "text/plain": [
       "83"
      ]
     },
     "execution_count": 116,
     "metadata": {},
     "output_type": "execute_result"
    }
   ],
   "source": [
    "reduce(lambda q,p:q+p,[1,2,3,4,55,4,4,5,5])"
   ]
  },
  {
   "cell_type": "code",
   "execution_count": 118,
   "id": "9307a543",
   "metadata": {},
   "outputs": [
    {
     "name": "stdout",
     "output_type": "stream",
     "text": [
      "(8, 10)\n"
     ]
    }
   ],
   "source": [
    "#filter() within map()\n",
    "c=map(lambda x:x+x,filter(lambda x:(x>=4),[2,3,4,5]))\n",
    "print(tuple(c))"
   ]
  },
  {
   "cell_type": "code",
   "execution_count": 122,
   "id": "8dd38083",
   "metadata": {},
   "outputs": [
    {
     "name": "stdout",
     "output_type": "stream",
     "text": [
      "{8, 10, 4, 6}\n"
     ]
    }
   ],
   "source": [
    "#map() within filter()\n",
    "d=filter(lambda x:(x>=4),map(lambda x:x+x,[1,2,3,4,5]))\n",
    "print(set(d))"
   ]
  },
  {
   "cell_type": "code",
   "execution_count": 124,
   "id": "083384e6",
   "metadata": {},
   "outputs": [
    {
     "name": "stdout",
     "output_type": "stream",
     "text": [
      "20\n"
     ]
    }
   ],
   "source": [
    "#map(),filter() within reduce()\n",
    "r=reduce(lambda x,y:x+y,map(lambda x:x+x,filter(lambda x:(x<=4),[1,2,3,4,5,6,7])))\n",
    "print(r)"
   ]
  },
  {
   "cell_type": "code",
   "execution_count": null,
   "id": "faeaeab4",
   "metadata": {},
   "outputs": [],
   "source": []
  },
  {
   "cell_type": "code",
   "execution_count": null,
   "id": "5b40fb86",
   "metadata": {},
   "outputs": [],
   "source": []
  },
  {
   "cell_type": "code",
   "execution_count": null,
   "id": "61aedc8b",
   "metadata": {},
   "outputs": [],
   "source": []
  }
 ],
 "metadata": {
  "kernelspec": {
   "display_name": "Python 3 (ipykernel)",
   "language": "python",
   "name": "python3"
  },
  "language_info": {
   "codemirror_mode": {
    "name": "ipython",
    "version": 3
   },
   "file_extension": ".py",
   "mimetype": "text/x-python",
   "name": "python",
   "nbconvert_exporter": "python",
   "pygments_lexer": "ipython3",
   "version": "3.9.12"
  }
 },
 "nbformat": 4,
 "nbformat_minor": 5
}

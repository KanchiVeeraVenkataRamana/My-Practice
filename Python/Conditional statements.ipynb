{
 "cells": [
  {
   "cell_type": "markdown",
   "id": "97cd9f2f",
   "metadata": {},
   "source": [
    "# CONDITIONAL STATEMENTS"
   ]
  },
  {
   "cell_type": "raw",
   "id": "e3485aaa",
   "metadata": {},
   "source": [
    "if statement syantax:  \n",
    "if condition\n",
    "\n",
    "if-else statement syntax: \n",
    "if condition\n",
    "   statements\n",
    "else\n",
    "    statements\n",
    "    \n",
    "if else-if(elif) statement syatax:\n",
    "if condition:\n",
    "    statements\n",
    "elif condition:\n",
    "    statements\n",
    "else:\n",
    "    statements"
   ]
  },
  {
   "cell_type": "code",
   "execution_count": null,
   "id": "b4206cd8",
   "metadata": {},
   "outputs": [],
   "source": []
  },
  {
   "cell_type": "markdown",
   "id": "6d61b8e5",
   "metadata": {},
   "source": [
    "if STATEMENTS"
   ]
  },
  {
   "cell_type": "code",
   "execution_count": 1,
   "id": "543bd10e",
   "metadata": {},
   "outputs": [
    {
     "name": "stdout",
     "output_type": "stream",
     "text": [
      "a is greather than b\n"
     ]
    }
   ],
   "source": [
    "a=200\n",
    "b=33\n",
    "if a>b:\n",
    "    print('a is greather than b')"
   ]
  },
  {
   "cell_type": "code",
   "execution_count": 5,
   "id": "6b12aa6e",
   "metadata": {},
   "outputs": [
    {
     "name": "stdout",
     "output_type": "stream",
     "text": [
      "a is less than than b\n"
     ]
    }
   ],
   "source": [
    "a=33\n",
    "b=200\n",
    "if a<b:\n",
    "    print('a is less than than b')"
   ]
  },
  {
   "cell_type": "code",
   "execution_count": 6,
   "id": "ddbfaa98",
   "metadata": {},
   "outputs": [],
   "source": [
    "a=33\n",
    "b=200\n",
    "if a>b:\n",
    "    print('a is less than b')"
   ]
  },
  {
   "cell_type": "code",
   "execution_count": null,
   "id": "a3e16f38",
   "metadata": {},
   "outputs": [],
   "source": []
  },
  {
   "cell_type": "markdown",
   "id": "819765fe",
   "metadata": {},
   "source": [
    "if else STATEMENTS:"
   ]
  },
  {
   "cell_type": "code",
   "execution_count": 7,
   "id": "c74d1b93",
   "metadata": {},
   "outputs": [
    {
     "name": "stdout",
     "output_type": "stream",
     "text": [
      "a and b are equal\n"
     ]
    }
   ],
   "source": [
    "a=33\n",
    "b=33\n",
    "if a>b:\n",
    "    print('a is greather than b')\n",
    "elif a==b:\n",
    "    print('a and b are equal')"
   ]
  },
  {
   "cell_type": "code",
   "execution_count": 10,
   "id": "2a5e560f",
   "metadata": {},
   "outputs": [
    {
     "name": "stdout",
     "output_type": "stream",
     "text": [
      "a is less than b\n"
     ]
    }
   ],
   "source": [
    "a=3\n",
    "b=20\n",
    "if a>b:\n",
    "    print('a is greather than b')\n",
    "elif a<b:\n",
    "    print('a is less than b')"
   ]
  },
  {
   "cell_type": "code",
   "execution_count": null,
   "id": "b960861d",
   "metadata": {},
   "outputs": [],
   "source": []
  },
  {
   "cell_type": "markdown",
   "id": "a52a8c6c",
   "metadata": {},
   "source": [
    "else STATEMENTS:"
   ]
  },
  {
   "cell_type": "code",
   "execution_count": 11,
   "id": "a7d4b3c1",
   "metadata": {},
   "outputs": [
    {
     "name": "stdout",
     "output_type": "stream",
     "text": [
      "a is less than b\n"
     ]
    }
   ],
   "source": [
    "a=200\n",
    "b=33\n",
    "if a<b:\n",
    "    print('a is greather than b')\n",
    "elif a==b:\n",
    "    print('a and b are equal')\n",
    "else:\n",
    "    print('a is less than b')"
   ]
  },
  {
   "cell_type": "code",
   "execution_count": 12,
   "id": "e854a32f",
   "metadata": {},
   "outputs": [
    {
     "name": "stdout",
     "output_type": "stream",
     "text": [
      "a is less than b\n"
     ]
    }
   ],
   "source": [
    "a=200\n",
    "b=33\n",
    "if a<b:\n",
    "    print('a is greather than b')\n",
    "else:\n",
    "    print('a is less than b')"
   ]
  },
  {
   "cell_type": "code",
   "execution_count": null,
   "id": "e729af70",
   "metadata": {},
   "outputs": [],
   "source": []
  },
  {
   "cell_type": "markdown",
   "id": "7288c356",
   "metadata": {},
   "source": [
    "FEW EXAMPLES OF CONDITONAL STATEMENTS"
   ]
  },
  {
   "cell_type": "code",
   "execution_count": 13,
   "id": "a609f2d6",
   "metadata": {},
   "outputs": [
    {
     "name": "stdout",
     "output_type": "stream",
     "text": [
      "a is greather than b\n"
     ]
    }
   ],
   "source": [
    "#simple if statement\n",
    "if a>b: print('a is greather than b')"
   ]
  },
  {
   "cell_type": "code",
   "execution_count": 18,
   "id": "fac339e6",
   "metadata": {},
   "outputs": [
    {
     "name": "stdout",
     "output_type": "stream",
     "text": [
      "b\n"
     ]
    }
   ],
   "source": [
    "#simple if-else statement\n",
    "a=2\n",
    "b=220\n",
    "if a>b:\n",
    "    print('a')  \n",
    "else:\n",
    "    print('b')"
   ]
  },
  {
   "cell_type": "code",
   "execution_count": 19,
   "id": "7a7c0c10",
   "metadata": {},
   "outputs": [
    {
     "name": "stdout",
     "output_type": "stream",
     "text": [
      "=\n"
     ]
    }
   ],
   "source": [
    "#else statements\n",
    "a=330\n",
    "b=330\n",
    "if a>b:\n",
    "    print('a')\n",
    "if a==b:\n",
    "    print('=')\n",
    "else:\n",
    "    print('b')"
   ]
  },
  {
   "cell_type": "code",
   "execution_count": 3,
   "id": "ade90854",
   "metadata": {},
   "outputs": [
    {
     "name": "stdout",
     "output_type": "stream",
     "text": [
      "Both conditions are True\n"
     ]
    }
   ],
   "source": [
    "#AND CONDITION\n",
    "a=200\n",
    "b=33\n",
    "c=500\n",
    "if a>b and c>a:\n",
    "    print('Both conditions are True')\n",
    "#else:\n",
    "    #print('one conditions are False')"
   ]
  },
  {
   "cell_type": "code",
   "execution_count": 4,
   "id": "9442c36d",
   "metadata": {},
   "outputs": [
    {
     "name": "stdout",
     "output_type": "stream",
     "text": [
      "At least one condition are true\n"
     ]
    }
   ],
   "source": [
    "#OR CONDITION\n",
    "a=200 \n",
    "b=33\n",
    "c=500\n",
    "if a>b or a>c:\n",
    "    print('At least one condition are true')\n",
    "else:\n",
    "    print('Both conditions are false')"
   ]
  },
  {
   "cell_type": "code",
   "execution_count": 6,
   "id": "a2cf8a0c",
   "metadata": {},
   "outputs": [
    {
     "name": "stdout",
     "output_type": "stream",
     "text": [
      "Above Ten\n",
      "And also above 20!\n"
     ]
    }
   ],
   "source": [
    "#NESTED IF\n",
    "x=41\n",
    "if x>10:\n",
    "    print('Above Ten')\n",
    "if x>20:\n",
    "    print('And also above 20!')\n",
    "else:\n",
    "    print('but not above 20')"
   ]
  },
  {
   "cell_type": "code",
   "execution_count": 7,
   "id": "6401175e",
   "metadata": {},
   "outputs": [
    {
     "name": "stdout",
     "output_type": "stream",
     "text": [
      "b is greather than a\n"
     ]
    }
   ],
   "source": [
    "a=33\n",
    "b=200\n",
    "if b>a:\n",
    "    pass \n",
    "    print('b is greather than a')"
   ]
  },
  {
   "cell_type": "code",
   "execution_count": 8,
   "id": "70537595",
   "metadata": {},
   "outputs": [
    {
     "name": "stdout",
     "output_type": "stream",
     "text": [
      "Hello World\n"
     ]
    }
   ],
   "source": [
    "a=10\n",
    "if a==10:\n",
    "    print('Hello World')"
   ]
  },
  {
   "cell_type": "code",
   "execution_count": 9,
   "id": "0988fd4e",
   "metadata": {},
   "outputs": [
    {
     "name": "stdout",
     "output_type": "stream",
     "text": [
      "year is not leap\n"
     ]
    }
   ],
   "source": [
    "year=2017\n",
    "if year%4==0:\n",
    "    print('year is leap')\n",
    "else:\n",
    "    print('year is not leap')"
   ]
  },
  {
   "cell_type": "code",
   "execution_count": 10,
   "id": "f282c98b",
   "metadata": {},
   "outputs": [
    {
     "name": "stdout",
     "output_type": "stream",
     "text": [
      "year is leap\n"
     ]
    }
   ],
   "source": [
    "year=2016\n",
    "if year%4==0:\n",
    "    print('year is leap')\n",
    "else:\n",
    "    print('year is not leap')"
   ]
  },
  {
   "cell_type": "code",
   "execution_count": 11,
   "id": "b48ae0d9",
   "metadata": {},
   "outputs": [
    {
     "name": "stdout",
     "output_type": "stream",
     "text": [
      "Even Numbers\n"
     ]
    }
   ],
   "source": [
    "num=10\n",
    "if num%2==0:\n",
    "    print('Even Numbers')\n",
    "elif num%2==1:\n",
    "    print('Odd Numbers')\n",
    "else:\n",
    "    print('Enter the correct numbers')"
   ]
  },
  {
   "cell_type": "code",
   "execution_count": 12,
   "id": "a064b960",
   "metadata": {},
   "outputs": [
    {
     "name": "stdout",
     "output_type": "stream",
     "text": [
      "Odd Numbers\n"
     ]
    }
   ],
   "source": [
    "num=9\n",
    "if num%2==0:\n",
    "    print('Even Numbers')\n",
    "elif num%2==1:\n",
    "    print('Odd Numbers')\n",
    "else:\n",
    "    print('Enter the correct numbers')"
   ]
  },
  {
   "cell_type": "code",
   "execution_count": 18,
   "id": "bf4f636d",
   "metadata": {},
   "outputs": [
    {
     "name": "stdout",
     "output_type": "stream",
     "text": [
      "Enter a sales Amount:2000\n",
      "discount is  100.0\n",
      "final Amount is: 1900.0\n"
     ]
    }
   ],
   "source": [
    "sales=dis=final=0\n",
    "sales=int(input('Enter a sales Amount:'))\n",
    "if sales>=2500:\n",
    "    dis=sales*10/100;\n",
    "else:\n",
    "    dis=sales*5/100\n",
    "    final=sales-dis\n",
    "\n",
    "print('discount is ',dis)\n",
    "print('final Amount is:',final)"
   ]
  },
  {
   "cell_type": "code",
   "execution_count": 23,
   "id": "abaa6194",
   "metadata": {},
   "outputs": [
    {
     "name": "stdout",
     "output_type": "stream",
     "text": [
      "Enter a sales Amount:3000\n",
      "discount is  300.0\n",
      "final Amount is: 2700.0\n"
     ]
    }
   ],
   "source": [
    "sales=dis=final=0\n",
    "sales=int(input('Enter a sales Amount:'))\n",
    "if sales>=2500:\n",
    "    dis=sales*10/100\n",
    "else:\n",
    "    dis=sales*5/100\n",
    "    \n",
    "final=sales-dis\n",
    "print('discount is ',dis)\n",
    "print('final Amount is:',final)"
   ]
  },
  {
   "cell_type": "code",
   "execution_count": 25,
   "id": "7816420c",
   "metadata": {},
   "outputs": [
    {
     "name": "stdout",
     "output_type": "stream",
     "text": [
      "Enter a numbers:33\n",
      "given number is odd\n"
     ]
    }
   ],
   "source": [
    "n=int(input('Enter a numbers:'))\n",
    "if n%2==0:\n",
    "    print('given number is even')\n",
    "else:\n",
    "    print('given number is odd')"
   ]
  },
  {
   "cell_type": "code",
   "execution_count": 26,
   "id": "a808b653",
   "metadata": {},
   "outputs": [
    {
     "name": "stdout",
     "output_type": "stream",
     "text": [
      "enter a first no:343\n",
      "ente a second no:4678\n",
      "Biggest no. is: 4678\n"
     ]
    }
   ],
   "source": [
    "a=int(input('enter a first no:'))\n",
    "b=int(input('ente a second no:'))\n",
    "if a>b:\n",
    "    print('Biggest no is',a)\n",
    "else:\n",
    "    print('Biggest no. is:',b)"
   ]
  },
  {
   "cell_type": "code",
   "execution_count": 36,
   "id": "31fe366e",
   "metadata": {},
   "outputs": [
    {
     "name": "stdout",
     "output_type": "stream",
     "text": [
      "enter a first no:453\n",
      "ente a second no:4\n",
      "Biggest no is 453\n"
     ]
    }
   ],
   "source": [
    "a=int(input('enter a first no:'))\n",
    "b=int(input('ente a second no:'))\n",
    "if a>b:\n",
    "    print('Biggest no is',a)\n",
    "else:\n",
    "    print('Biggest no. is:',b)"
   ]
  },
  {
   "cell_type": "code",
   "execution_count": 31,
   "id": "d815d2aa",
   "metadata": {},
   "outputs": [
    {
     "name": "stdout",
     "output_type": "stream",
     "text": [
      "enter a alphabet:y\n",
      "given letter is not a vowel\n"
     ]
    }
   ],
   "source": [
    "ch=input('enter a alphabet:')\n",
    "if ch in('a','e','i','o','u','A','E','I','O','U'):\n",
    "    print('given letter is a vowel')\n",
    "else:\n",
    "    print('given letter is not a vowel')"
   ]
  },
  {
   "cell_type": "code",
   "execution_count": 32,
   "id": "41b3aade",
   "metadata": {},
   "outputs": [
    {
     "name": "stdout",
     "output_type": "stream",
     "text": [
      "enter a alphabet:a\n",
      "given letter is a vowel\n"
     ]
    }
   ],
   "source": [
    "ch=input('enter a alphabet:')\n",
    "if ch in('a','e','i','o','u','A','E','I','O','U'):\n",
    "    print('given letter is a vowel')\n",
    "else:\n",
    "    print('given letter is not a vowel')"
   ]
  },
  {
   "cell_type": "code",
   "execution_count": null,
   "id": "c4fe8a86",
   "metadata": {},
   "outputs": [],
   "source": []
  },
  {
   "cell_type": "code",
   "execution_count": null,
   "id": "02b56446",
   "metadata": {},
   "outputs": [],
   "source": []
  },
  {
   "cell_type": "code",
   "execution_count": null,
   "id": "ad1592ba",
   "metadata": {},
   "outputs": [],
   "source": []
  }
 ],
 "metadata": {
  "kernelspec": {
   "display_name": "Python 3 (ipykernel)",
   "language": "python",
   "name": "python3"
  },
  "language_info": {
   "codemirror_mode": {
    "name": "ipython",
    "version": 3
   },
   "file_extension": ".py",
   "mimetype": "text/x-python",
   "name": "python",
   "nbconvert_exporter": "python",
   "pygments_lexer": "ipython3",
   "version": "3.9.12"
  }
 },
 "nbformat": 4,
 "nbformat_minor": 5
}

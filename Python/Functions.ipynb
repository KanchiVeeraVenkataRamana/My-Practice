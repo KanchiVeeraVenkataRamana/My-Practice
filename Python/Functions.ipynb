{
 "cells": [
  {
   "cell_type": "code",
   "execution_count": 3,
   "id": "a332acf0",
   "metadata": {},
   "outputs": [
    {
     "name": "stdout",
     "output_type": "stream",
     "text": [
      "sum is: 86\n"
     ]
    }
   ],
   "source": [
    "'''basic function program\n",
    "syntax: def_fun_name(para):{}'''\n",
    "def sum(x,y):\n",
    "    s=x+y\n",
    "    print(\"sum is:\",s)\n",
    "sum(48,38)"
   ]
  },
  {
   "cell_type": "code",
   "execution_count": 7,
   "id": "9dd75013",
   "metadata": {},
   "outputs": [
    {
     "name": "stdout",
     "output_type": "stream",
     "text": [
      "Hello World\n"
     ]
    }
   ],
   "source": [
    "'''creating a function\n",
    "syntax: def my_function(parameters):\n",
    "            funtion block\n",
    "function calling'''\n",
    "#function defintion\n",
    "def hello_world():\n",
    "    print(\"Hello World\")\n",
    "#function calling\n",
    "hello_world()"
   ]
  },
  {
   "cell_type": "code",
   "execution_count": 9,
   "id": "5202df72",
   "metadata": {},
   "outputs": [
    {
     "name": "stdout",
     "output_type": "stream",
     "text": [
      "Hi venky\n"
     ]
    }
   ],
   "source": [
    "#arguments  in functions\n",
    "#defining the function\n",
    "def func(name):\n",
    "    print(\"Hi\",name)\n",
    "#calling the function\n",
    "func('venky')"
   ]
  },
  {
   "cell_type": "code",
   "execution_count": 10,
   "id": "f7e5b167",
   "metadata": {},
   "outputs": [
    {
     "name": "stdout",
     "output_type": "stream",
     "text": [
      "Enter the A value:45\n",
      "Enter the B value:35\n",
      "sum= 80\n"
     ]
    }
   ],
   "source": [
    "#python function to calculate the sum of varibles\n",
    "#defining the function\n",
    "def sum(a,b):\n",
    "    return a+b;\n",
    "#taking values from the users\n",
    "a=int(input('Enter the A value:'))\n",
    "b=int(input('Enter the B value:'))\n",
    "#printting the sum of A and B\n",
    "print('sum=',sum(a,b))"
   ]
  },
  {
   "cell_type": "code",
   "execution_count": 30,
   "id": "c2d046f4",
   "metadata": {},
   "outputs": [
    {
     "name": "stdout",
     "output_type": "stream",
     "text": [
      "Inside function list 1 is: [2, 6, 9, 0, 1, 3]\n",
      "Inside function list_2 is: [40, 20, 40]\n",
      "\n",
      "outside function list_1 is: [2, 6, 9, 0, 1, 3]\n",
      "outside function list_2 is: [10, 59, 94, 30]\n"
     ]
    }
   ],
   "source": [
    "#call by reference in python\n",
    "#defining the function\n",
    "def sample_function(list_1,list_2):\n",
    "    list_1.append(3) #list_1.append([3,4,5])\n",
    "    print(f'Inside function list 1 is: {list_1}')\n",
    "    list_2=[40,20,40]\n",
    "    print(f'Inside function list_2 is: {list_2}')\n",
    "    \n",
    "my_list_1=[2,6,9,0,1]\n",
    "my_list_2=[10,59,94,30]\n",
    "sample_function(my_list_1,my_list_2)\n",
    "print()\n",
    "print(f'outside function list_1 is: {my_list_1}')\n",
    "print(f'outside function list_2 is: {my_list_2}')"
   ]
  },
  {
   "cell_type": "code",
   "execution_count": null,
   "id": "d1df8cd7",
   "metadata": {},
   "outputs": [],
   "source": [
    "#required arguments\n",
    "def fun(name):\n",
    "    msg=\"hi\"+name\n",
    "    return msg\n",
    "name=input(\"enter a name:\")\n",
    "print(fun(name))"
   ]
  },
  {
   "cell_type": "code",
   "execution_count": null,
   "id": "84f79fb0",
   "metadata": {},
   "outputs": [],
   "source": [
    "#default arguments\n",
    "def printme(name,age=33):\n",
    "    print('my name is',name 'and age is',age)\n",
    "print(name=\"venky\")"
   ]
  },
  {
   "cell_type": "code",
   "execution_count": null,
   "id": "058c423b",
   "metadata": {},
   "outputs": [],
   "source": [
    "#varible length arguments(*args)\n",
    "def printme(*names):\n",
    "    print('type pf passed arguments is',type(names))\n",
    "    print('printing the passed arguments....')\n",
    "    for name in names:\n",
    "        print(name)\n",
    "printme('john','david','smith','nick')"
   ]
  },
  {
   "cell_type": "code",
   "execution_count": null,
   "id": "25ba9ff7",
   "metadata": {},
   "outputs": [],
   "source": []
  }
 ],
 "metadata": {
  "kernelspec": {
   "display_name": "Python 3 (ipykernel)",
   "language": "python",
   "name": "python3"
  },
  "language_info": {
   "codemirror_mode": {
    "name": "ipython",
    "version": 3
   },
   "file_extension": ".py",
   "mimetype": "text/x-python",
   "name": "python",
   "nbconvert_exporter": "python",
   "pygments_lexer": "ipython3",
   "version": "3.9.12"
  }
 },
 "nbformat": 4,
 "nbformat_minor": 5
}

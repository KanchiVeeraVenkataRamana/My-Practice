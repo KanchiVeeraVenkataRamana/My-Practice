{
 "cells": [
  {
   "cell_type": "code",
   "execution_count": 48,
   "id": "15263a2a",
   "metadata": {},
   "outputs": [],
   "source": [
    "from sklearn import datasets\n",
    "data=datasets.load_iris()"
   ]
  },
  {
   "cell_type": "code",
   "execution_count": 49,
   "id": "bd93fd98",
   "metadata": {},
   "outputs": [
    {
     "data": {
      "text/plain": [
       "{'data': array([[5.1, 3.5, 1.4, 0.2],\n",
       "        [4.9, 3. , 1.4, 0.2],\n",
       "        [4.7, 3.2, 1.3, 0.2],\n",
       "        [4.6, 3.1, 1.5, 0.2],\n",
       "        [5. , 3.6, 1.4, 0.2],\n",
       "        [5.4, 3.9, 1.7, 0.4],\n",
       "        [4.6, 3.4, 1.4, 0.3],\n",
       "        [5. , 3.4, 1.5, 0.2],\n",
       "        [4.4, 2.9, 1.4, 0.2],\n",
       "        [4.9, 3.1, 1.5, 0.1],\n",
       "        [5.4, 3.7, 1.5, 0.2],\n",
       "        [4.8, 3.4, 1.6, 0.2],\n",
       "        [4.8, 3. , 1.4, 0.1],\n",
       "        [4.3, 3. , 1.1, 0.1],\n",
       "        [5.8, 4. , 1.2, 0.2],\n",
       "        [5.7, 4.4, 1.5, 0.4],\n",
       "        [5.4, 3.9, 1.3, 0.4],\n",
       "        [5.1, 3.5, 1.4, 0.3],\n",
       "        [5.7, 3.8, 1.7, 0.3],\n",
       "        [5.1, 3.8, 1.5, 0.3],\n",
       "        [5.4, 3.4, 1.7, 0.2],\n",
       "        [5.1, 3.7, 1.5, 0.4],\n",
       "        [4.6, 3.6, 1. , 0.2],\n",
       "        [5.1, 3.3, 1.7, 0.5],\n",
       "        [4.8, 3.4, 1.9, 0.2],\n",
       "        [5. , 3. , 1.6, 0.2],\n",
       "        [5. , 3.4, 1.6, 0.4],\n",
       "        [5.2, 3.5, 1.5, 0.2],\n",
       "        [5.2, 3.4, 1.4, 0.2],\n",
       "        [4.7, 3.2, 1.6, 0.2],\n",
       "        [4.8, 3.1, 1.6, 0.2],\n",
       "        [5.4, 3.4, 1.5, 0.4],\n",
       "        [5.2, 4.1, 1.5, 0.1],\n",
       "        [5.5, 4.2, 1.4, 0.2],\n",
       "        [4.9, 3.1, 1.5, 0.2],\n",
       "        [5. , 3.2, 1.2, 0.2],\n",
       "        [5.5, 3.5, 1.3, 0.2],\n",
       "        [4.9, 3.6, 1.4, 0.1],\n",
       "        [4.4, 3. , 1.3, 0.2],\n",
       "        [5.1, 3.4, 1.5, 0.2],\n",
       "        [5. , 3.5, 1.3, 0.3],\n",
       "        [4.5, 2.3, 1.3, 0.3],\n",
       "        [4.4, 3.2, 1.3, 0.2],\n",
       "        [5. , 3.5, 1.6, 0.6],\n",
       "        [5.1, 3.8, 1.9, 0.4],\n",
       "        [4.8, 3. , 1.4, 0.3],\n",
       "        [5.1, 3.8, 1.6, 0.2],\n",
       "        [4.6, 3.2, 1.4, 0.2],\n",
       "        [5.3, 3.7, 1.5, 0.2],\n",
       "        [5. , 3.3, 1.4, 0.2],\n",
       "        [7. , 3.2, 4.7, 1.4],\n",
       "        [6.4, 3.2, 4.5, 1.5],\n",
       "        [6.9, 3.1, 4.9, 1.5],\n",
       "        [5.5, 2.3, 4. , 1.3],\n",
       "        [6.5, 2.8, 4.6, 1.5],\n",
       "        [5.7, 2.8, 4.5, 1.3],\n",
       "        [6.3, 3.3, 4.7, 1.6],\n",
       "        [4.9, 2.4, 3.3, 1. ],\n",
       "        [6.6, 2.9, 4.6, 1.3],\n",
       "        [5.2, 2.7, 3.9, 1.4],\n",
       "        [5. , 2. , 3.5, 1. ],\n",
       "        [5.9, 3. , 4.2, 1.5],\n",
       "        [6. , 2.2, 4. , 1. ],\n",
       "        [6.1, 2.9, 4.7, 1.4],\n",
       "        [5.6, 2.9, 3.6, 1.3],\n",
       "        [6.7, 3.1, 4.4, 1.4],\n",
       "        [5.6, 3. , 4.5, 1.5],\n",
       "        [5.8, 2.7, 4.1, 1. ],\n",
       "        [6.2, 2.2, 4.5, 1.5],\n",
       "        [5.6, 2.5, 3.9, 1.1],\n",
       "        [5.9, 3.2, 4.8, 1.8],\n",
       "        [6.1, 2.8, 4. , 1.3],\n",
       "        [6.3, 2.5, 4.9, 1.5],\n",
       "        [6.1, 2.8, 4.7, 1.2],\n",
       "        [6.4, 2.9, 4.3, 1.3],\n",
       "        [6.6, 3. , 4.4, 1.4],\n",
       "        [6.8, 2.8, 4.8, 1.4],\n",
       "        [6.7, 3. , 5. , 1.7],\n",
       "        [6. , 2.9, 4.5, 1.5],\n",
       "        [5.7, 2.6, 3.5, 1. ],\n",
       "        [5.5, 2.4, 3.8, 1.1],\n",
       "        [5.5, 2.4, 3.7, 1. ],\n",
       "        [5.8, 2.7, 3.9, 1.2],\n",
       "        [6. , 2.7, 5.1, 1.6],\n",
       "        [5.4, 3. , 4.5, 1.5],\n",
       "        [6. , 3.4, 4.5, 1.6],\n",
       "        [6.7, 3.1, 4.7, 1.5],\n",
       "        [6.3, 2.3, 4.4, 1.3],\n",
       "        [5.6, 3. , 4.1, 1.3],\n",
       "        [5.5, 2.5, 4. , 1.3],\n",
       "        [5.5, 2.6, 4.4, 1.2],\n",
       "        [6.1, 3. , 4.6, 1.4],\n",
       "        [5.8, 2.6, 4. , 1.2],\n",
       "        [5. , 2.3, 3.3, 1. ],\n",
       "        [5.6, 2.7, 4.2, 1.3],\n",
       "        [5.7, 3. , 4.2, 1.2],\n",
       "        [5.7, 2.9, 4.2, 1.3],\n",
       "        [6.2, 2.9, 4.3, 1.3],\n",
       "        [5.1, 2.5, 3. , 1.1],\n",
       "        [5.7, 2.8, 4.1, 1.3],\n",
       "        [6.3, 3.3, 6. , 2.5],\n",
       "        [5.8, 2.7, 5.1, 1.9],\n",
       "        [7.1, 3. , 5.9, 2.1],\n",
       "        [6.3, 2.9, 5.6, 1.8],\n",
       "        [6.5, 3. , 5.8, 2.2],\n",
       "        [7.6, 3. , 6.6, 2.1],\n",
       "        [4.9, 2.5, 4.5, 1.7],\n",
       "        [7.3, 2.9, 6.3, 1.8],\n",
       "        [6.7, 2.5, 5.8, 1.8],\n",
       "        [7.2, 3.6, 6.1, 2.5],\n",
       "        [6.5, 3.2, 5.1, 2. ],\n",
       "        [6.4, 2.7, 5.3, 1.9],\n",
       "        [6.8, 3. , 5.5, 2.1],\n",
       "        [5.7, 2.5, 5. , 2. ],\n",
       "        [5.8, 2.8, 5.1, 2.4],\n",
       "        [6.4, 3.2, 5.3, 2.3],\n",
       "        [6.5, 3. , 5.5, 1.8],\n",
       "        [7.7, 3.8, 6.7, 2.2],\n",
       "        [7.7, 2.6, 6.9, 2.3],\n",
       "        [6. , 2.2, 5. , 1.5],\n",
       "        [6.9, 3.2, 5.7, 2.3],\n",
       "        [5.6, 2.8, 4.9, 2. ],\n",
       "        [7.7, 2.8, 6.7, 2. ],\n",
       "        [6.3, 2.7, 4.9, 1.8],\n",
       "        [6.7, 3.3, 5.7, 2.1],\n",
       "        [7.2, 3.2, 6. , 1.8],\n",
       "        [6.2, 2.8, 4.8, 1.8],\n",
       "        [6.1, 3. , 4.9, 1.8],\n",
       "        [6.4, 2.8, 5.6, 2.1],\n",
       "        [7.2, 3. , 5.8, 1.6],\n",
       "        [7.4, 2.8, 6.1, 1.9],\n",
       "        [7.9, 3.8, 6.4, 2. ],\n",
       "        [6.4, 2.8, 5.6, 2.2],\n",
       "        [6.3, 2.8, 5.1, 1.5],\n",
       "        [6.1, 2.6, 5.6, 1.4],\n",
       "        [7.7, 3. , 6.1, 2.3],\n",
       "        [6.3, 3.4, 5.6, 2.4],\n",
       "        [6.4, 3.1, 5.5, 1.8],\n",
       "        [6. , 3. , 4.8, 1.8],\n",
       "        [6.9, 3.1, 5.4, 2.1],\n",
       "        [6.7, 3.1, 5.6, 2.4],\n",
       "        [6.9, 3.1, 5.1, 2.3],\n",
       "        [5.8, 2.7, 5.1, 1.9],\n",
       "        [6.8, 3.2, 5.9, 2.3],\n",
       "        [6.7, 3.3, 5.7, 2.5],\n",
       "        [6.7, 3. , 5.2, 2.3],\n",
       "        [6.3, 2.5, 5. , 1.9],\n",
       "        [6.5, 3. , 5.2, 2. ],\n",
       "        [6.2, 3.4, 5.4, 2.3],\n",
       "        [5.9, 3. , 5.1, 1.8]]),\n",
       " 'target': array([0, 0, 0, 0, 0, 0, 0, 0, 0, 0, 0, 0, 0, 0, 0, 0, 0, 0, 0, 0, 0, 0,\n",
       "        0, 0, 0, 0, 0, 0, 0, 0, 0, 0, 0, 0, 0, 0, 0, 0, 0, 0, 0, 0, 0, 0,\n",
       "        0, 0, 0, 0, 0, 0, 1, 1, 1, 1, 1, 1, 1, 1, 1, 1, 1, 1, 1, 1, 1, 1,\n",
       "        1, 1, 1, 1, 1, 1, 1, 1, 1, 1, 1, 1, 1, 1, 1, 1, 1, 1, 1, 1, 1, 1,\n",
       "        1, 1, 1, 1, 1, 1, 1, 1, 1, 1, 1, 1, 2, 2, 2, 2, 2, 2, 2, 2, 2, 2,\n",
       "        2, 2, 2, 2, 2, 2, 2, 2, 2, 2, 2, 2, 2, 2, 2, 2, 2, 2, 2, 2, 2, 2,\n",
       "        2, 2, 2, 2, 2, 2, 2, 2, 2, 2, 2, 2, 2, 2, 2, 2, 2, 2]),\n",
       " 'frame': None,\n",
       " 'target_names': array(['setosa', 'versicolor', 'virginica'], dtype='<U10'),\n",
       " 'DESCR': '.. _iris_dataset:\\n\\nIris plants dataset\\n--------------------\\n\\n**Data Set Characteristics:**\\n\\n    :Number of Instances: 150 (50 in each of three classes)\\n    :Number of Attributes: 4 numeric, predictive attributes and the class\\n    :Attribute Information:\\n        - sepal length in cm\\n        - sepal width in cm\\n        - petal length in cm\\n        - petal width in cm\\n        - class:\\n                - Iris-Setosa\\n                - Iris-Versicolour\\n                - Iris-Virginica\\n                \\n    :Summary Statistics:\\n\\n    ============== ==== ==== ======= ===== ====================\\n                    Min  Max   Mean    SD   Class Correlation\\n    ============== ==== ==== ======= ===== ====================\\n    sepal length:   4.3  7.9   5.84   0.83    0.7826\\n    sepal width:    2.0  4.4   3.05   0.43   -0.4194\\n    petal length:   1.0  6.9   3.76   1.76    0.9490  (high!)\\n    petal width:    0.1  2.5   1.20   0.76    0.9565  (high!)\\n    ============== ==== ==== ======= ===== ====================\\n\\n    :Missing Attribute Values: None\\n    :Class Distribution: 33.3% for each of 3 classes.\\n    :Creator: R.A. Fisher\\n    :Donor: Michael Marshall (MARSHALL%PLU@io.arc.nasa.gov)\\n    :Date: July, 1988\\n\\nThe famous Iris database, first used by Sir R.A. Fisher. The dataset is taken\\nfrom Fisher\\'s paper. Note that it\\'s the same as in R, but not as in the UCI\\nMachine Learning Repository, which has two wrong data points.\\n\\nThis is perhaps the best known database to be found in the\\npattern recognition literature.  Fisher\\'s paper is a classic in the field and\\nis referenced frequently to this day.  (See Duda & Hart, for example.)  The\\ndata set contains 3 classes of 50 instances each, where each class refers to a\\ntype of iris plant.  One class is linearly separable from the other 2; the\\nlatter are NOT linearly separable from each other.\\n\\n.. topic:: References\\n\\n   - Fisher, R.A. \"The use of multiple measurements in taxonomic problems\"\\n     Annual Eugenics, 7, Part II, 179-188 (1936); also in \"Contributions to\\n     Mathematical Statistics\" (John Wiley, NY, 1950).\\n   - Duda, R.O., & Hart, P.E. (1973) Pattern Classification and Scene Analysis.\\n     (Q327.D83) John Wiley & Sons.  ISBN 0-471-22361-1.  See page 218.\\n   - Dasarathy, B.V. (1980) \"Nosing Around the Neighborhood: A New System\\n     Structure and Classification Rule for Recognition in Partially Exposed\\n     Environments\".  IEEE Transactions on Pattern Analysis and Machine\\n     Intelligence, Vol. PAMI-2, No. 1, 67-71.\\n   - Gates, G.W. (1972) \"The Reduced Nearest Neighbor Rule\".  IEEE Transactions\\n     on Information Theory, May 1972, 431-433.\\n   - See also: 1988 MLC Proceedings, 54-64.  Cheeseman et al\"s AUTOCLASS II\\n     conceptual clustering system finds 3 classes in the data.\\n   - Many, many more ...',\n",
       " 'feature_names': ['sepal length (cm)',\n",
       "  'sepal width (cm)',\n",
       "  'petal length (cm)',\n",
       "  'petal width (cm)'],\n",
       " 'filename': 'iris.csv',\n",
       " 'data_module': 'sklearn.datasets.data'}"
      ]
     },
     "execution_count": 49,
     "metadata": {},
     "output_type": "execute_result"
    }
   ],
   "source": [
    "data"
   ]
  },
  {
   "cell_type": "code",
   "execution_count": 50,
   "id": "6fed38c5",
   "metadata": {},
   "outputs": [],
   "source": [
    "import pandas as pd\n",
    "x=pd.DataFrame(data=data.data,columns=data.feature_names)\n",
    "y=pd.Series(data=data.target)"
   ]
  },
  {
   "cell_type": "code",
   "execution_count": 51,
   "id": "324bd990",
   "metadata": {},
   "outputs": [
    {
     "data": {
      "text/html": [
       "<div>\n",
       "<style scoped>\n",
       "    .dataframe tbody tr th:only-of-type {\n",
       "        vertical-align: middle;\n",
       "    }\n",
       "\n",
       "    .dataframe tbody tr th {\n",
       "        vertical-align: top;\n",
       "    }\n",
       "\n",
       "    .dataframe thead th {\n",
       "        text-align: right;\n",
       "    }\n",
       "</style>\n",
       "<table border=\"1\" class=\"dataframe\">\n",
       "  <thead>\n",
       "    <tr style=\"text-align: right;\">\n",
       "      <th></th>\n",
       "      <th>sepal length (cm)</th>\n",
       "      <th>sepal width (cm)</th>\n",
       "      <th>petal length (cm)</th>\n",
       "      <th>petal width (cm)</th>\n",
       "    </tr>\n",
       "  </thead>\n",
       "  <tbody>\n",
       "    <tr>\n",
       "      <th>0</th>\n",
       "      <td>5.1</td>\n",
       "      <td>3.5</td>\n",
       "      <td>1.4</td>\n",
       "      <td>0.2</td>\n",
       "    </tr>\n",
       "    <tr>\n",
       "      <th>1</th>\n",
       "      <td>4.9</td>\n",
       "      <td>3.0</td>\n",
       "      <td>1.4</td>\n",
       "      <td>0.2</td>\n",
       "    </tr>\n",
       "    <tr>\n",
       "      <th>2</th>\n",
       "      <td>4.7</td>\n",
       "      <td>3.2</td>\n",
       "      <td>1.3</td>\n",
       "      <td>0.2</td>\n",
       "    </tr>\n",
       "    <tr>\n",
       "      <th>3</th>\n",
       "      <td>4.6</td>\n",
       "      <td>3.1</td>\n",
       "      <td>1.5</td>\n",
       "      <td>0.2</td>\n",
       "    </tr>\n",
       "    <tr>\n",
       "      <th>4</th>\n",
       "      <td>5.0</td>\n",
       "      <td>3.6</td>\n",
       "      <td>1.4</td>\n",
       "      <td>0.2</td>\n",
       "    </tr>\n",
       "    <tr>\n",
       "      <th>...</th>\n",
       "      <td>...</td>\n",
       "      <td>...</td>\n",
       "      <td>...</td>\n",
       "      <td>...</td>\n",
       "    </tr>\n",
       "    <tr>\n",
       "      <th>145</th>\n",
       "      <td>6.7</td>\n",
       "      <td>3.0</td>\n",
       "      <td>5.2</td>\n",
       "      <td>2.3</td>\n",
       "    </tr>\n",
       "    <tr>\n",
       "      <th>146</th>\n",
       "      <td>6.3</td>\n",
       "      <td>2.5</td>\n",
       "      <td>5.0</td>\n",
       "      <td>1.9</td>\n",
       "    </tr>\n",
       "    <tr>\n",
       "      <th>147</th>\n",
       "      <td>6.5</td>\n",
       "      <td>3.0</td>\n",
       "      <td>5.2</td>\n",
       "      <td>2.0</td>\n",
       "    </tr>\n",
       "    <tr>\n",
       "      <th>148</th>\n",
       "      <td>6.2</td>\n",
       "      <td>3.4</td>\n",
       "      <td>5.4</td>\n",
       "      <td>2.3</td>\n",
       "    </tr>\n",
       "    <tr>\n",
       "      <th>149</th>\n",
       "      <td>5.9</td>\n",
       "      <td>3.0</td>\n",
       "      <td>5.1</td>\n",
       "      <td>1.8</td>\n",
       "    </tr>\n",
       "  </tbody>\n",
       "</table>\n",
       "<p>150 rows × 4 columns</p>\n",
       "</div>"
      ],
      "text/plain": [
       "     sepal length (cm)  sepal width (cm)  petal length (cm)  petal width (cm)\n",
       "0                  5.1               3.5                1.4               0.2\n",
       "1                  4.9               3.0                1.4               0.2\n",
       "2                  4.7               3.2                1.3               0.2\n",
       "3                  4.6               3.1                1.5               0.2\n",
       "4                  5.0               3.6                1.4               0.2\n",
       "..                 ...               ...                ...               ...\n",
       "145                6.7               3.0                5.2               2.3\n",
       "146                6.3               2.5                5.0               1.9\n",
       "147                6.5               3.0                5.2               2.0\n",
       "148                6.2               3.4                5.4               2.3\n",
       "149                5.9               3.0                5.1               1.8\n",
       "\n",
       "[150 rows x 4 columns]"
      ]
     },
     "execution_count": 51,
     "metadata": {},
     "output_type": "execute_result"
    }
   ],
   "source": [
    "x"
   ]
  },
  {
   "cell_type": "code",
   "execution_count": 52,
   "id": "70e78228",
   "metadata": {},
   "outputs": [
    {
     "data": {
      "text/plain": [
       "0      0\n",
       "1      0\n",
       "2      0\n",
       "3      0\n",
       "4      0\n",
       "      ..\n",
       "145    2\n",
       "146    2\n",
       "147    2\n",
       "148    2\n",
       "149    2\n",
       "Length: 150, dtype: int32"
      ]
     },
     "execution_count": 52,
     "metadata": {},
     "output_type": "execute_result"
    }
   ],
   "source": [
    "y"
   ]
  },
  {
   "cell_type": "code",
   "execution_count": 53,
   "id": "3034f7f3",
   "metadata": {},
   "outputs": [
    {
     "data": {
      "text/html": [
       "<div>\n",
       "<style scoped>\n",
       "    .dataframe tbody tr th:only-of-type {\n",
       "        vertical-align: middle;\n",
       "    }\n",
       "\n",
       "    .dataframe tbody tr th {\n",
       "        vertical-align: top;\n",
       "    }\n",
       "\n",
       "    .dataframe thead th {\n",
       "        text-align: right;\n",
       "    }\n",
       "</style>\n",
       "<table border=\"1\" class=\"dataframe\">\n",
       "  <thead>\n",
       "    <tr style=\"text-align: right;\">\n",
       "      <th></th>\n",
       "      <th>sepal length (cm)</th>\n",
       "      <th>sepal width (cm)</th>\n",
       "      <th>petal length (cm)</th>\n",
       "      <th>petal width (cm)</th>\n",
       "    </tr>\n",
       "  </thead>\n",
       "  <tbody>\n",
       "    <tr>\n",
       "      <th>0</th>\n",
       "      <td>5.1</td>\n",
       "      <td>3.5</td>\n",
       "      <td>1.4</td>\n",
       "      <td>0.2</td>\n",
       "    </tr>\n",
       "    <tr>\n",
       "      <th>1</th>\n",
       "      <td>4.9</td>\n",
       "      <td>3.0</td>\n",
       "      <td>1.4</td>\n",
       "      <td>0.2</td>\n",
       "    </tr>\n",
       "    <tr>\n",
       "      <th>2</th>\n",
       "      <td>4.7</td>\n",
       "      <td>3.2</td>\n",
       "      <td>1.3</td>\n",
       "      <td>0.2</td>\n",
       "    </tr>\n",
       "    <tr>\n",
       "      <th>3</th>\n",
       "      <td>4.6</td>\n",
       "      <td>3.1</td>\n",
       "      <td>1.5</td>\n",
       "      <td>0.2</td>\n",
       "    </tr>\n",
       "    <tr>\n",
       "      <th>4</th>\n",
       "      <td>5.0</td>\n",
       "      <td>3.6</td>\n",
       "      <td>1.4</td>\n",
       "      <td>0.2</td>\n",
       "    </tr>\n",
       "  </tbody>\n",
       "</table>\n",
       "</div>"
      ],
      "text/plain": [
       "   sepal length (cm)  sepal width (cm)  petal length (cm)  petal width (cm)\n",
       "0                5.1               3.5                1.4               0.2\n",
       "1                4.9               3.0                1.4               0.2\n",
       "2                4.7               3.2                1.3               0.2\n",
       "3                4.6               3.1                1.5               0.2\n",
       "4                5.0               3.6                1.4               0.2"
      ]
     },
     "execution_count": 53,
     "metadata": {},
     "output_type": "execute_result"
    }
   ],
   "source": [
    "x.head()"
   ]
  },
  {
   "cell_type": "code",
   "execution_count": 54,
   "id": "4f512c4e",
   "metadata": {},
   "outputs": [
    {
     "data": {
      "text/plain": [
       "0    0\n",
       "1    0\n",
       "2    0\n",
       "3    0\n",
       "4    0\n",
       "dtype: int32"
      ]
     },
     "execution_count": 54,
     "metadata": {},
     "output_type": "execute_result"
    }
   ],
   "source": [
    "y.head()"
   ]
  },
  {
   "cell_type": "code",
   "execution_count": 55,
   "id": "c6b44ba5",
   "metadata": {},
   "outputs": [],
   "source": [
    "from sklearn.model_selection import train_test_split\n",
    "x_train,x_test,y_train,y_test=train_test_split(x,y,test_size=0.2,random_state=12)"
   ]
  },
  {
   "cell_type": "code",
   "execution_count": 56,
   "id": "951910d1",
   "metadata": {},
   "outputs": [
    {
     "name": "stdout",
     "output_type": "stream",
     "text": [
      "(120, 4)\n",
      "480\n"
     ]
    },
    {
     "data": {
      "text/html": [
       "<div>\n",
       "<style scoped>\n",
       "    .dataframe tbody tr th:only-of-type {\n",
       "        vertical-align: middle;\n",
       "    }\n",
       "\n",
       "    .dataframe tbody tr th {\n",
       "        vertical-align: top;\n",
       "    }\n",
       "\n",
       "    .dataframe thead th {\n",
       "        text-align: right;\n",
       "    }\n",
       "</style>\n",
       "<table border=\"1\" class=\"dataframe\">\n",
       "  <thead>\n",
       "    <tr style=\"text-align: right;\">\n",
       "      <th></th>\n",
       "      <th>sepal length (cm)</th>\n",
       "      <th>sepal width (cm)</th>\n",
       "      <th>petal length (cm)</th>\n",
       "      <th>petal width (cm)</th>\n",
       "    </tr>\n",
       "  </thead>\n",
       "  <tbody>\n",
       "    <tr>\n",
       "      <th>17</th>\n",
       "      <td>5.1</td>\n",
       "      <td>3.5</td>\n",
       "      <td>1.4</td>\n",
       "      <td>0.3</td>\n",
       "    </tr>\n",
       "    <tr>\n",
       "      <th>81</th>\n",
       "      <td>5.5</td>\n",
       "      <td>2.4</td>\n",
       "      <td>3.7</td>\n",
       "      <td>1.0</td>\n",
       "    </tr>\n",
       "    <tr>\n",
       "      <th>103</th>\n",
       "      <td>6.3</td>\n",
       "      <td>2.9</td>\n",
       "      <td>5.6</td>\n",
       "      <td>1.8</td>\n",
       "    </tr>\n",
       "    <tr>\n",
       "      <th>33</th>\n",
       "      <td>5.5</td>\n",
       "      <td>4.2</td>\n",
       "      <td>1.4</td>\n",
       "      <td>0.2</td>\n",
       "    </tr>\n",
       "    <tr>\n",
       "      <th>101</th>\n",
       "      <td>5.8</td>\n",
       "      <td>2.7</td>\n",
       "      <td>5.1</td>\n",
       "      <td>1.9</td>\n",
       "    </tr>\n",
       "  </tbody>\n",
       "</table>\n",
       "</div>"
      ],
      "text/plain": [
       "     sepal length (cm)  sepal width (cm)  petal length (cm)  petal width (cm)\n",
       "17                 5.1               3.5                1.4               0.3\n",
       "81                 5.5               2.4                3.7               1.0\n",
       "103                6.3               2.9                5.6               1.8\n",
       "33                 5.5               4.2                1.4               0.2\n",
       "101                5.8               2.7                5.1               1.9"
      ]
     },
     "execution_count": 56,
     "metadata": {},
     "output_type": "execute_result"
    }
   ],
   "source": [
    "print(x_train.shape)\n",
    "print(x_train.size)\n",
    "x_train.head()"
   ]
  },
  {
   "cell_type": "code",
   "execution_count": 57,
   "id": "89d7c2e7",
   "metadata": {},
   "outputs": [
    {
     "name": "stdout",
     "output_type": "stream",
     "text": [
      "(30, 4)\n",
      "120\n"
     ]
    },
    {
     "data": {
      "text/html": [
       "<div>\n",
       "<style scoped>\n",
       "    .dataframe tbody tr th:only-of-type {\n",
       "        vertical-align: middle;\n",
       "    }\n",
       "\n",
       "    .dataframe tbody tr th {\n",
       "        vertical-align: top;\n",
       "    }\n",
       "\n",
       "    .dataframe thead th {\n",
       "        text-align: right;\n",
       "    }\n",
       "</style>\n",
       "<table border=\"1\" class=\"dataframe\">\n",
       "  <thead>\n",
       "    <tr style=\"text-align: right;\">\n",
       "      <th></th>\n",
       "      <th>sepal length (cm)</th>\n",
       "      <th>sepal width (cm)</th>\n",
       "      <th>petal length (cm)</th>\n",
       "      <th>petal width (cm)</th>\n",
       "    </tr>\n",
       "  </thead>\n",
       "  <tbody>\n",
       "    <tr>\n",
       "      <th>40</th>\n",
       "      <td>5.0</td>\n",
       "      <td>3.5</td>\n",
       "      <td>1.3</td>\n",
       "      <td>0.3</td>\n",
       "    </tr>\n",
       "    <tr>\n",
       "      <th>146</th>\n",
       "      <td>6.3</td>\n",
       "      <td>2.5</td>\n",
       "      <td>5.0</td>\n",
       "      <td>1.9</td>\n",
       "    </tr>\n",
       "    <tr>\n",
       "      <th>38</th>\n",
       "      <td>4.4</td>\n",
       "      <td>3.0</td>\n",
       "      <td>1.3</td>\n",
       "      <td>0.2</td>\n",
       "    </tr>\n",
       "    <tr>\n",
       "      <th>99</th>\n",
       "      <td>5.7</td>\n",
       "      <td>2.8</td>\n",
       "      <td>4.1</td>\n",
       "      <td>1.3</td>\n",
       "    </tr>\n",
       "    <tr>\n",
       "      <th>143</th>\n",
       "      <td>6.8</td>\n",
       "      <td>3.2</td>\n",
       "      <td>5.9</td>\n",
       "      <td>2.3</td>\n",
       "    </tr>\n",
       "  </tbody>\n",
       "</table>\n",
       "</div>"
      ],
      "text/plain": [
       "     sepal length (cm)  sepal width (cm)  petal length (cm)  petal width (cm)\n",
       "40                 5.0               3.5                1.3               0.3\n",
       "146                6.3               2.5                5.0               1.9\n",
       "38                 4.4               3.0                1.3               0.2\n",
       "99                 5.7               2.8                4.1               1.3\n",
       "143                6.8               3.2                5.9               2.3"
      ]
     },
     "execution_count": 57,
     "metadata": {},
     "output_type": "execute_result"
    }
   ],
   "source": [
    "print(x_test.shape)\n",
    "print(x_test.size)\n",
    "x_test.head()"
   ]
  },
  {
   "cell_type": "code",
   "execution_count": 58,
   "id": "483cc2a7",
   "metadata": {},
   "outputs": [
    {
     "name": "stdout",
     "output_type": "stream",
     "text": [
      "(120,)\n",
      "120\n"
     ]
    },
    {
     "data": {
      "text/plain": [
       "17     0\n",
       "81     1\n",
       "103    2\n",
       "33     0\n",
       "101    2\n",
       "dtype: int32"
      ]
     },
     "execution_count": 58,
     "metadata": {},
     "output_type": "execute_result"
    }
   ],
   "source": [
    "print(y_train.shape)\n",
    "print(y_train.size)\n",
    "y_train.head()"
   ]
  },
  {
   "cell_type": "code",
   "execution_count": 59,
   "id": "1da80909",
   "metadata": {},
   "outputs": [
    {
     "name": "stdout",
     "output_type": "stream",
     "text": [
      "(30,)\n",
      "30\n"
     ]
    },
    {
     "data": {
      "text/plain": [
       "40     0\n",
       "146    2\n",
       "38     0\n",
       "99     1\n",
       "143    2\n",
       "dtype: int32"
      ]
     },
     "execution_count": 59,
     "metadata": {},
     "output_type": "execute_result"
    }
   ],
   "source": [
    "print(y_test.shape)\n",
    "print(y_test.size)\n",
    "y_test.head()"
   ]
  },
  {
   "cell_type": "code",
   "execution_count": 60,
   "id": "b2037635",
   "metadata": {},
   "outputs": [],
   "source": [
    "from sklearn.linear_model import LogisticRegression\n",
    "lr=LogisticRegression()\n",
    "clf=lr.fit(x_train,y_train)"
   ]
  },
  {
   "cell_type": "code",
   "execution_count": 61,
   "id": "bfbf2bb5",
   "metadata": {},
   "outputs": [
    {
     "data": {
      "text/plain": [
       "0.9666666666666667"
      ]
     },
     "execution_count": 61,
     "metadata": {},
     "output_type": "execute_result"
    }
   ],
   "source": [
    "clf.score(x_test,y_test)"
   ]
  },
  {
   "cell_type": "code",
   "execution_count": 62,
   "id": "78ee98b3",
   "metadata": {},
   "outputs": [
    {
     "data": {
      "text/plain": [
       "array([0, 2, 0, 1, 2, 2, 2, 0, 2, 0, 1, 0, 0, 0, 1, 2, 2, 1, 0, 1, 0, 1,\n",
       "       2, 1, 0, 2, 2, 1, 0, 0])"
      ]
     },
     "execution_count": 62,
     "metadata": {},
     "output_type": "execute_result"
    }
   ],
   "source": [
    "y_pred=clf.predict(x_test)\n",
    "y_pred"
   ]
  },
  {
   "cell_type": "code",
   "execution_count": 63,
   "id": "870ab163",
   "metadata": {},
   "outputs": [
    {
     "name": "stdout",
     "output_type": "stream",
     "text": [
      "              precision    recall  f1-score   support\n",
      "\n",
      "           0       1.00      1.00      1.00        12\n",
      "           1       0.89      1.00      0.94         8\n",
      "           2       1.00      0.90      0.95        10\n",
      "\n",
      "    accuracy                           0.97        30\n",
      "   macro avg       0.96      0.97      0.96        30\n",
      "weighted avg       0.97      0.97      0.97        30\n",
      "\n"
     ]
    }
   ],
   "source": [
    "import warnings\n",
    "warnings.filterwarnings('ignore')\n",
    "\n",
    "from sklearn import metrics\n",
    "print(metrics.classification_report(y_pred,y_test))"
   ]
  },
  {
   "cell_type": "code",
   "execution_count": 64,
   "id": "eb79adf1",
   "metadata": {},
   "outputs": [
    {
     "data": {
      "text/plain": [
       "<AxesSubplot:>"
      ]
     },
     "execution_count": 64,
     "metadata": {},
     "output_type": "execute_result"
    },
    {
     "data": {
      "image/png": "[encoded data removed]",
      "text/plain": [
       "<Figure size 432x288 with 2 Axes>"
      ]
     },
     "metadata": {
      "needs_background": "light"
     },
     "output_type": "display_data"
    }
   ],
   "source": [
    "import seaborn as sn\n",
    "cm=metrics.confusion_matrix(y_pred,y_test)\n",
    "sn.heatmap(cm,annot=True)"
   ]
  },
  {
   "cell_type": "code",
   "execution_count": 65,
   "id": "7c5a029d",
   "metadata": {},
   "outputs": [
    {
     "data": {
      "text/plain": [
       "array([[12,  0,  0],\n",
       "       [ 0,  8,  0],\n",
       "       [ 0,  1,  9]], dtype=int64)"
      ]
     },
     "execution_count": 65,
     "metadata": {},
     "output_type": "execute_result"
    }
   ],
   "source": [
    "metrics.confusion_matrix(y_pred,y_test)"
   ]
  },
  {
   "cell_type": "code",
   "execution_count": 66,
   "id": "767c8604",
   "metadata": {},
   "outputs": [
    {
     "data": {
      "image/png": "[encoded data removed]",
      "text/plain": [
       "<Figure size 288x216 with 1 Axes>"
      ]
     },
     "metadata": {
      "needs_background": "light"
     },
     "output_type": "display_data"
    }
   ],
   "source": [
    "import matplotlib.pyplot as pt\n",
    "import seaborn as sn\n",
    "pt.figure(figsize=(4,3))\n",
    "sn.regplot(y_pred,y_test)\n",
    "pt.show()"
   ]
  },
  {
   "cell_type": "code",
   "execution_count": 67,
   "id": "225ba52a",
   "metadata": {},
   "outputs": [
    {
     "data": {
      "text/plain": [
       "0.9666666666666667"
      ]
     },
     "execution_count": 67,
     "metadata": {},
     "output_type": "execute_result"
    }
   ],
   "source": [
    "metrics.accuracy_score(y_pred,y_test)"
   ]
  },
  {
   "cell_type": "code",
   "execution_count": 69,
   "id": "cbe845f1",
   "metadata": {},
   "outputs": [
    {
     "data": {
      "text/plain": [
       "0.9629629629629629"
      ]
     },
     "execution_count": 69,
     "metadata": {},
     "output_type": "execute_result"
    }
   ],
   "source": [
    "metrics.precision_score(y_pred,y_test,average='macro')"
   ]
  },
  {
   "cell_type": "code",
   "execution_count": 71,
   "id": "8960c16a",
   "metadata": {},
   "outputs": [
    {
     "data": {
      "text/plain": [
       "0.9666666666666667"
      ]
     },
     "execution_count": 71,
     "metadata": {},
     "output_type": "execute_result"
    }
   ],
   "source": [
    "metrics.recall_score(y_pred,y_test,average='micro')"
   ]
  },
  {
   "cell_type": "code",
   "execution_count": 72,
   "id": "514713d0",
   "metadata": {},
   "outputs": [
    {
     "data": {
      "text/plain": [
       "0.9666666666666667"
      ]
     },
     "execution_count": 72,
     "metadata": {},
     "output_type": "execute_result"
    }
   ],
   "source": [
    "metrics.f1_score(y_pred,y_test,average='micro')"
   ]
  },
  {
   "cell_type": "code",
   "execution_count": 73,
   "id": "5c99a207",
   "metadata": {},
   "outputs": [
    {
     "data": {
      "text/plain": [
       "0.9542682926829268"
      ]
     },
     "execution_count": 73,
     "metadata": {},
     "output_type": "execute_result"
    }
   ],
   "source": [
    "metrics.r2_score(y_pred,y_test)"
   ]
  },
  {
   "cell_type": "code",
   "execution_count": 74,
   "id": "d6571a5e",
   "metadata": {},
   "outputs": [
    {
     "data": {
      "text/plain": [
       "0.03333333333333333"
      ]
     },
     "execution_count": 74,
     "metadata": {},
     "output_type": "execute_result"
    }
   ],
   "source": [
    "metrics.mean_squared_error(y_pred,y_test)"
   ]
  },
  {
   "cell_type": "code",
   "execution_count": 75,
   "id": "a800a4f5",
   "metadata": {},
   "outputs": [
    {
     "data": {
      "text/plain": [
       "0.03333333333333333"
      ]
     },
     "execution_count": 75,
     "metadata": {},
     "output_type": "execute_result"
    }
   ],
   "source": [
    "metrics.mean_absolute_error(y_pred,y_test)"
   ]
  },
  {
   "cell_type": "code",
   "execution_count": 76,
   "id": "6c9804d9",
   "metadata": {},
   "outputs": [
    {
     "data": {
      "text/plain": [
       "0.18257418583505536"
      ]
     },
     "execution_count": 76,
     "metadata": {},
     "output_type": "execute_result"
    }
   ],
   "source": [
    "#root mean square error\n",
    "import math\n",
    "import numpy as np\n",
    "MSE=metrics.mean_squared_error(y_test,y_pred)\n",
    "RMSE=math.sqrt(MSE)\n",
    "RMSE"
   ]
  },
  {
   "cell_type": "code",
   "execution_count": 77,
   "id": "18a40f40",
   "metadata": {},
   "outputs": [
    {
     "name": "stdout",
     "output_type": "stream",
     "text": [
      "Adjusted_R2: 0.94611668524712\n"
     ]
    }
   ],
   "source": [
    "#Adjusted R2 score\n",
    "import numpy as np\n",
    "r2_score=metrics.r2_score(y_test,y_pred)\n",
    "n=y_test.shape[0]\n",
    "p=3\n",
    "x=(1-r2_score)\n",
    "y=(n-1)/(n-p-1)\n",
    "adj_r2=(1-(x*y))\n",
    "print('Adjusted_R2:',adj_r2)"
   ]
  },
  {
   "cell_type": "code",
   "execution_count": null,
   "id": "d4743e2f",
   "metadata": {},
   "outputs": [],
   "source": []
  },
  {
   "cell_type": "code",
   "execution_count": 87,
   "id": "43cde5fb",
   "metadata": {},
   "outputs": [
    {
     "data": {
      "text/plain": [
       "array([1.        , 1.        , 0.91666667, 0.91666667, 1.        ,\n",
       "       1.        , 0.91666667, 0.91666667, 1.        , 1.        ])"
      ]
     },
     "execution_count": 87,
     "metadata": {},
     "output_type": "execute_result"
    }
   ],
   "source": [
    "from sklearn.model_selection import cross_val_score\n",
    "scores=cross_val_score(lr,x_train,y_train,cv=10,scoring='accuracy')\n",
    "scores"
   ]
  },
  {
   "cell_type": "code",
   "execution_count": 88,
   "id": "4a4fe79a",
   "metadata": {},
   "outputs": [
    {
     "name": "stdout",
     "output_type": "stream",
     "text": [
      "Accuracy: 0.97 (+/- 0.08)\n"
     ]
    }
   ],
   "source": [
    "print(\"Accuracy: %0.2f (+/- %0.2f)\" % (scores.mean(), scores.std() * 2))"
   ]
  },
  {
   "cell_type": "code",
   "execution_count": 90,
   "id": "7e6b70ca",
   "metadata": {},
   "outputs": [
    {
     "data": {
      "text/plain": [
       "0.9666666666666666"
      ]
     },
     "execution_count": 90,
     "metadata": {},
     "output_type": "execute_result"
    }
   ],
   "source": [
    "scores.mean()"
   ]
  },
  {
   "cell_type": "code",
   "execution_count": 92,
   "id": "93cf7764",
   "metadata": {},
   "outputs": [
    {
     "data": {
      "text/plain": [
       "0.08164965809277264"
      ]
     },
     "execution_count": 92,
     "metadata": {},
     "output_type": "execute_result"
    }
   ],
   "source": [
    "scores.std()*2"
   ]
  },
  {
   "cell_type": "code",
   "execution_count": 94,
   "id": "28e5987e",
   "metadata": {},
   "outputs": [
    {
     "data": {
      "text/plain": [
       "array([1.   , 1.   , 0.875, 0.875, 1.   , 1.   , 0.875, 0.875, 1.   ,\n",
       "       1.   ])"
      ]
     },
     "execution_count": 94,
     "metadata": {},
     "output_type": "execute_result"
    }
   ],
   "source": [
    "from sklearn.model_selection import cross_val_score\n",
    "scores=cross_val_score(lr,x_train,y_train,cv=10,scoring='r2')\n",
    "scores"
   ]
  },
  {
   "cell_type": "code",
   "execution_count": 95,
   "id": "50ef7c4d",
   "metadata": {},
   "outputs": [
    {
     "data": {
      "text/plain": [
       "0.95"
      ]
     },
     "execution_count": 95,
     "metadata": {},
     "output_type": "execute_result"
    }
   ],
   "source": [
    "scores.mean()"
   ]
  },
  {
   "cell_type": "code",
   "execution_count": 96,
   "id": "27489659",
   "metadata": {},
   "outputs": [
    {
     "data": {
      "text/plain": [
       "0.1224744871391589"
      ]
     },
     "execution_count": 96,
     "metadata": {},
     "output_type": "execute_result"
    }
   ],
   "source": [
    "scores.std()*2"
   ]
  },
  {
   "cell_type": "code",
   "execution_count": null,
   "id": "3cf5c61a",
   "metadata": {},
   "outputs": [],
   "source": []
  },
  {
   "cell_type": "code",
   "execution_count": 104,
   "id": "f45e4e71",
   "metadata": {},
   "outputs": [
    {
     "data": {
      "text/plain": [
       "GridSearchCV(cv=10, estimator=LogisticRegression(),\n",
       "             param_grid={'C': [0.1, 1, 10, 100],\n",
       "                         'penalty': ['l1', 'l2', 'elasticnet', 'none'],\n",
       "                         'solver': ['newton-cg', 'lbfgs', 'liblinear', 'sag',\n",
       "                                    'saga']})"
      ]
     },
     "execution_count": 104,
     "metadata": {},
     "output_type": "execute_result"
    }
   ],
   "source": [
    "from sklearn.model_selection import GridSearchCV\n",
    "param_grid = {'penalty': ['l1', 'l2', 'elasticnet', 'none'],'C': [0.1, 1, 10, 100],\n",
    "               'solver': ['newton-cg', 'lbfgs', 'liblinear', 'sag', 'saga']}\n",
    "grid = GridSearchCV(lr, param_grid, cv=10)\n",
    "grid.fit(x_train, y_train)"
   ]
  },
  {
   "cell_type": "code",
   "execution_count": 105,
   "id": "1bc531f0",
   "metadata": {},
   "outputs": [
    {
     "data": {
      "text/plain": [
       "LogisticRegression(C=1, penalty='l1', solver='saga')"
      ]
     },
     "execution_count": 105,
     "metadata": {},
     "output_type": "execute_result"
    }
   ],
   "source": [
    "grid.best_estimator_"
   ]
  },
  {
   "cell_type": "code",
   "execution_count": 106,
   "id": "11073076",
   "metadata": {},
   "outputs": [
    {
     "data": {
      "text/plain": [
       "24"
      ]
     },
     "execution_count": 106,
     "metadata": {},
     "output_type": "execute_result"
    }
   ],
   "source": [
    "grid.best_index_"
   ]
  },
  {
   "cell_type": "code",
   "execution_count": 107,
   "id": "cc468df7",
   "metadata": {},
   "outputs": [
    {
     "data": {
      "text/plain": [
       "{'C': 1, 'penalty': 'l1', 'solver': 'saga'}"
      ]
     },
     "execution_count": 107,
     "metadata": {},
     "output_type": "execute_result"
    }
   ],
   "source": [
    "grid.best_params_"
   ]
  },
  {
   "cell_type": "code",
   "execution_count": 108,
   "id": "09406301",
   "metadata": {},
   "outputs": [
    {
     "data": {
      "text/plain": [
       "0.9833333333333332"
      ]
     },
     "execution_count": 108,
     "metadata": {},
     "output_type": "execute_result"
    }
   ],
   "source": [
    "grid.best_score_"
   ]
  },
  {
   "cell_type": "code",
   "execution_count": 109,
   "id": "abb7567b",
   "metadata": {},
   "outputs": [
    {
     "data": {
      "text/plain": [
       "{'mean_fit_time': array([0.00089993, 0.00219607, 0.00454032, 0.00063844, 0.01042809,\n",
       "        0.02530701, 0.03136866, 0.00438008, 0.00936458, 0.00928967,\n",
       "        0.00083382, 0.00070927, 0.00092058, 0.00080881, 0.00072017,\n",
       "        0.05719202, 0.0248539 , 0.00080409, 0.00895317, 0.00983143,\n",
       "        0.00031018, 0.00087116, 0.0180773 , 0.00069945, 0.01031177,\n",
       "        0.03645589, 0.04679449, 0.00339293, 0.00897927, 0.00940576,\n",
       "        0.00109887, 0.00059984, 0.00090268, 0.00060923, 0.0004982 ,\n",
       "        0.05804858, 0.02700326, 0.00069823, 0.0093667 , 0.00948758,\n",
       "        0.00050714, 0.00069842, 0.01857951, 0.00142455, 0.00909059,\n",
       "        0.04354677, 0.04961832, 0.00379255, 0.00911961, 0.00946138,\n",
       "        0.00061045, 0.00061309, 0.00061288, 0.00060048, 0.00094812,\n",
       "        0.06269932, 0.02592566, 0.00080009, 0.00879979, 0.00952742,\n",
       "        0.00068507, 0.00039136, 0.0280267 , 0.00064013, 0.01066315,\n",
       "        0.05260718, 0.05370657, 0.00435166, 0.00984066, 0.01111875,\n",
       "        0.00074143, 0.00071137, 0.00075188, 0.00079174, 0.00060573,\n",
       "        0.06313443, 0.02809432, 0.00090773, 0.00973456, 0.00989377]),\n",
       " 'std_fit_time': array([0.00029998, 0.0029405 , 0.00110237, 0.00053086, 0.00069637,\n",
       "        0.00146081, 0.00273561, 0.00145445, 0.00077996, 0.00048946,\n",
       "        0.00059535, 0.00059218, 0.00030894, 0.00045811, 0.00047175,\n",
       "        0.01512571, 0.00348853, 0.00040254, 0.00014958, 0.00102417,\n",
       "        0.0004744 , 0.00043681, 0.00172429, 0.0004579 , 0.00039066,\n",
       "        0.00521225, 0.00213322, 0.00048029, 0.00053324, 0.00044069,\n",
       "        0.00030113, 0.00048977, 0.00030135, 0.00049791, 0.00049834,\n",
       "        0.01705294, 0.00246194, 0.00045713, 0.00103939, 0.00052759,\n",
       "        0.00050765, 0.00045724, 0.00314991, 0.0012695 , 0.00116358,\n",
       "        0.00429067, 0.0035747 , 0.00039497, 0.0005332 , 0.00053417,\n",
       "        0.00049884, 0.00050112, 0.00050097, 0.00049031, 0.00035874,\n",
       "        0.01764673, 0.0044851 , 0.00059968, 0.00041022, 0.00044336,\n",
       "        0.00056641, 0.00047989, 0.009071  , 0.00052514, 0.00056161,\n",
       "        0.00585953, 0.0040533 , 0.00044027, 0.00120608, 0.00132161,\n",
       "        0.00048669, 0.00046628, 0.00040279, 0.00059732, 0.00049484,\n",
       "        0.01624632, 0.00360881, 0.00030361, 0.00148449, 0.00066758]),\n",
       " 'mean_score_time': array([0.        , 0.        , 0.00191433, 0.        , 0.00248981,\n",
       "        0.00237086, 0.00261214, 0.00256324, 0.0022284 , 0.00251045,\n",
       "        0.        , 0.        , 0.        , 0.        , 0.        ,\n",
       "        0.00245693, 0.0026412 , 0.        , 0.00234332, 0.00215294,\n",
       "        0.        , 0.        , 0.00245094, 0.        , 0.00248206,\n",
       "        0.00276289, 0.00243022, 0.00226867, 0.00242825, 0.00220253,\n",
       "        0.        , 0.        , 0.        , 0.        , 0.        ,\n",
       "        0.00271921, 0.00263669, 0.        , 0.00230408, 0.00235307,\n",
       "        0.        , 0.        , 0.00276043, 0.        , 0.00219834,\n",
       "        0.00282042, 0.00294409, 0.00220103, 0.00241892, 0.00240552,\n",
       "        0.        , 0.        , 0.        , 0.        , 0.        ,\n",
       "        0.00251658, 0.00277958, 0.        , 0.00220687, 0.00221694,\n",
       "        0.        , 0.        , 0.00271368, 0.        , 0.00273795,\n",
       "        0.00279932, 0.00238943, 0.00289366, 0.00291998, 0.00258377,\n",
       "        0.        , 0.        , 0.        , 0.        , 0.        ,\n",
       "        0.00261292, 0.00226004, 0.        , 0.00282826, 0.00269899]),\n",
       " 'std_score_time': array([0.        , 0.        , 0.00061651, 0.        , 0.00065936,\n",
       "        0.00047707, 0.00064352, 0.00053035, 0.00061797, 0.00066218,\n",
       "        0.        , 0.        , 0.        , 0.        , 0.        ,\n",
       "        0.00062409, 0.00044744, 0.        , 0.00044886, 0.00030345,\n",
       "        0.        , 0.        , 0.00045808, 0.        , 0.00048359,\n",
       "        0.00033887, 0.00064812, 0.00041678, 0.00047298, 0.00040168,\n",
       "        0.        , 0.        , 0.        , 0.        , 0.        ,\n",
       "        0.00059123, 0.00041896, 0.        , 0.00047575, 0.00073079,\n",
       "        0.        , 0.        , 0.00076607, 0.        , 0.00053489,\n",
       "        0.00051102, 0.00051737, 0.00040092, 0.00067952, 0.0004975 ,\n",
       "        0.        , 0.        , 0.        , 0.        , 0.        ,\n",
       "        0.00060511, 0.00050713, 0.        , 0.00039741, 0.00039372,\n",
       "        0.        , 0.        , 0.00050733, 0.        , 0.00047737,\n",
       "        0.0004193 , 0.00052628, 0.00083709, 0.00084944, 0.00047566,\n",
       "        0.        , 0.        , 0.        , 0.        , 0.        ,\n",
       "        0.00044531, 0.00043481, 0.        , 0.00102044, 0.00059476]),\n",
       " 'param_C': masked_array(data=[0.1, 0.1, 0.1, 0.1, 0.1, 0.1, 0.1, 0.1, 0.1, 0.1, 0.1,\n",
       "                    0.1, 0.1, 0.1, 0.1, 0.1, 0.1, 0.1, 0.1, 0.1, 1, 1, 1,\n",
       "                    1, 1, 1, 1, 1, 1, 1, 1, 1, 1, 1, 1, 1, 1, 1, 1, 1, 10,\n",
       "                    10, 10, 10, 10, 10, 10, 10, 10, 10, 10, 10, 10, 10, 10,\n",
       "                    10, 10, 10, 10, 10, 100, 100, 100, 100, 100, 100, 100,\n",
       "                    100, 100, 100, 100, 100, 100, 100, 100, 100, 100, 100,\n",
       "                    100, 100],\n",
       "              mask=[False, False, False, False, False, False, False, False,\n",
       "                    False, False, False, False, False, False, False, False,\n",
       "                    False, False, False, False, False, False, False, False,\n",
       "                    False, False, False, False, False, False, False, False,\n",
       "                    False, False, False, False, False, False, False, False,\n",
       "                    False, False, False, False, False, False, False, False,\n",
       "                    False, False, False, False, False, False, False, False,\n",
       "                    False, False, False, False, False, False, False, False,\n",
       "                    False, False, False, False, False, False, False, False,\n",
       "                    False, False, False, False, False, False, False, False],\n",
       "        fill_value='?',\n",
       "             dtype=object),\n",
       " 'param_penalty': masked_array(data=['l1', 'l1', 'l1', 'l1', 'l1', 'l2', 'l2', 'l2', 'l2',\n",
       "                    'l2', 'elasticnet', 'elasticnet', 'elasticnet',\n",
       "                    'elasticnet', 'elasticnet', 'none', 'none', 'none',\n",
       "                    'none', 'none', 'l1', 'l1', 'l1', 'l1', 'l1', 'l2',\n",
       "                    'l2', 'l2', 'l2', 'l2', 'elasticnet', 'elasticnet',\n",
       "                    'elasticnet', 'elasticnet', 'elasticnet', 'none',\n",
       "                    'none', 'none', 'none', 'none', 'l1', 'l1', 'l1', 'l1',\n",
       "                    'l1', 'l2', 'l2', 'l2', 'l2', 'l2', 'elasticnet',\n",
       "                    'elasticnet', 'elasticnet', 'elasticnet', 'elasticnet',\n",
       "                    'none', 'none', 'none', 'none', 'none', 'l1', 'l1',\n",
       "                    'l1', 'l1', 'l1', 'l2', 'l2', 'l2', 'l2', 'l2',\n",
       "                    'elasticnet', 'elasticnet', 'elasticnet', 'elasticnet',\n",
       "                    'elasticnet', 'none', 'none', 'none', 'none', 'none'],\n",
       "              mask=[False, False, False, False, False, False, False, False,\n",
       "                    False, False, False, False, False, False, False, False,\n",
       "                    False, False, False, False, False, False, False, False,\n",
       "                    False, False, False, False, False, False, False, False,\n",
       "                    False, False, False, False, False, False, False, False,\n",
       "                    False, False, False, False, False, False, False, False,\n",
       "                    False, False, False, False, False, False, False, False,\n",
       "                    False, False, False, False, False, False, False, False,\n",
       "                    False, False, False, False, False, False, False, False,\n",
       "                    False, False, False, False, False, False, False, False],\n",
       "        fill_value='?',\n",
       "             dtype=object),\n",
       " 'param_solver': masked_array(data=['newton-cg', 'lbfgs', 'liblinear', 'sag', 'saga',\n",
       "                    'newton-cg', 'lbfgs', 'liblinear', 'sag', 'saga',\n",
       "                    'newton-cg', 'lbfgs', 'liblinear', 'sag', 'saga',\n",
       "                    'newton-cg', 'lbfgs', 'liblinear', 'sag', 'saga',\n",
       "                    'newton-cg', 'lbfgs', 'liblinear', 'sag', 'saga',\n",
       "                    'newton-cg', 'lbfgs', 'liblinear', 'sag', 'saga',\n",
       "                    'newton-cg', 'lbfgs', 'liblinear', 'sag', 'saga',\n",
       "                    'newton-cg', 'lbfgs', 'liblinear', 'sag', 'saga',\n",
       "                    'newton-cg', 'lbfgs', 'liblinear', 'sag', 'saga',\n",
       "                    'newton-cg', 'lbfgs', 'liblinear', 'sag', 'saga',\n",
       "                    'newton-cg', 'lbfgs', 'liblinear', 'sag', 'saga',\n",
       "                    'newton-cg', 'lbfgs', 'liblinear', 'sag', 'saga',\n",
       "                    'newton-cg', 'lbfgs', 'liblinear', 'sag', 'saga',\n",
       "                    'newton-cg', 'lbfgs', 'liblinear', 'sag', 'saga',\n",
       "                    'newton-cg', 'lbfgs', 'liblinear', 'sag', 'saga',\n",
       "                    'newton-cg', 'lbfgs', 'liblinear', 'sag', 'saga'],\n",
       "              mask=[False, False, False, False, False, False, False, False,\n",
       "                    False, False, False, False, False, False, False, False,\n",
       "                    False, False, False, False, False, False, False, False,\n",
       "                    False, False, False, False, False, False, False, False,\n",
       "                    False, False, False, False, False, False, False, False,\n",
       "                    False, False, False, False, False, False, False, False,\n",
       "                    False, False, False, False, False, False, False, False,\n",
       "                    False, False, False, False, False, False, False, False,\n",
       "                    False, False, False, False, False, False, False, False,\n",
       "                    False, False, False, False, False, False, False, False],\n",
       "        fill_value='?',\n",
       "             dtype=object),\n",
       " 'params': [{'C': 0.1, 'penalty': 'l1', 'solver': 'newton-cg'},\n",
       "  {'C': 0.1, 'penalty': 'l1', 'solver': 'lbfgs'},\n",
       "  {'C': 0.1, 'penalty': 'l1', 'solver': 'liblinear'},\n",
       "  {'C': 0.1, 'penalty': 'l1', 'solver': 'sag'},\n",
       "  {'C': 0.1, 'penalty': 'l1', 'solver': 'saga'},\n",
       "  {'C': 0.1, 'penalty': 'l2', 'solver': 'newton-cg'},\n",
       "  {'C': 0.1, 'penalty': 'l2', 'solver': 'lbfgs'},\n",
       "  {'C': 0.1, 'penalty': 'l2', 'solver': 'liblinear'},\n",
       "  {'C': 0.1, 'penalty': 'l2', 'solver': 'sag'},\n",
       "  {'C': 0.1, 'penalty': 'l2', 'solver': 'saga'},\n",
       "  {'C': 0.1, 'penalty': 'elasticnet', 'solver': 'newton-cg'},\n",
       "  {'C': 0.1, 'penalty': 'elasticnet', 'solver': 'lbfgs'},\n",
       "  {'C': 0.1, 'penalty': 'elasticnet', 'solver': 'liblinear'},\n",
       "  {'C': 0.1, 'penalty': 'elasticnet', 'solver': 'sag'},\n",
       "  {'C': 0.1, 'penalty': 'elasticnet', 'solver': 'saga'},\n",
       "  {'C': 0.1, 'penalty': 'none', 'solver': 'newton-cg'},\n",
       "  {'C': 0.1, 'penalty': 'none', 'solver': 'lbfgs'},\n",
       "  {'C': 0.1, 'penalty': 'none', 'solver': 'liblinear'},\n",
       "  {'C': 0.1, 'penalty': 'none', 'solver': 'sag'},\n",
       "  {'C': 0.1, 'penalty': 'none', 'solver': 'saga'},\n",
       "  {'C': 1, 'penalty': 'l1', 'solver': 'newton-cg'},\n",
       "  {'C': 1, 'penalty': 'l1', 'solver': 'lbfgs'},\n",
       "  {'C': 1, 'penalty': 'l1', 'solver': 'liblinear'},\n",
       "  {'C': 1, 'penalty': 'l1', 'solver': 'sag'},\n",
       "  {'C': 1, 'penalty': 'l1', 'solver': 'saga'},\n",
       "  {'C': 1, 'penalty': 'l2', 'solver': 'newton-cg'},\n",
       "  {'C': 1, 'penalty': 'l2', 'solver': 'lbfgs'},\n",
       "  {'C': 1, 'penalty': 'l2', 'solver': 'liblinear'},\n",
       "  {'C': 1, 'penalty': 'l2', 'solver': 'sag'},\n",
       "  {'C': 1, 'penalty': 'l2', 'solver': 'saga'},\n",
       "  {'C': 1, 'penalty': 'elasticnet', 'solver': 'newton-cg'},\n",
       "  {'C': 1, 'penalty': 'elasticnet', 'solver': 'lbfgs'},\n",
       "  {'C': 1, 'penalty': 'elasticnet', 'solver': 'liblinear'},\n",
       "  {'C': 1, 'penalty': 'elasticnet', 'solver': 'sag'},\n",
       "  {'C': 1, 'penalty': 'elasticnet', 'solver': 'saga'},\n",
       "  {'C': 1, 'penalty': 'none', 'solver': 'newton-cg'},\n",
       "  {'C': 1, 'penalty': 'none', 'solver': 'lbfgs'},\n",
       "  {'C': 1, 'penalty': 'none', 'solver': 'liblinear'},\n",
       "  {'C': 1, 'penalty': 'none', 'solver': 'sag'},\n",
       "  {'C': 1, 'penalty': 'none', 'solver': 'saga'},\n",
       "  {'C': 10, 'penalty': 'l1', 'solver': 'newton-cg'},\n",
       "  {'C': 10, 'penalty': 'l1', 'solver': 'lbfgs'},\n",
       "  {'C': 10, 'penalty': 'l1', 'solver': 'liblinear'},\n",
       "  {'C': 10, 'penalty': 'l1', 'solver': 'sag'},\n",
       "  {'C': 10, 'penalty': 'l1', 'solver': 'saga'},\n",
       "  {'C': 10, 'penalty': 'l2', 'solver': 'newton-cg'},\n",
       "  {'C': 10, 'penalty': 'l2', 'solver': 'lbfgs'},\n",
       "  {'C': 10, 'penalty': 'l2', 'solver': 'liblinear'},\n",
       "  {'C': 10, 'penalty': 'l2', 'solver': 'sag'},\n",
       "  {'C': 10, 'penalty': 'l2', 'solver': 'saga'},\n",
       "  {'C': 10, 'penalty': 'elasticnet', 'solver': 'newton-cg'},\n",
       "  {'C': 10, 'penalty': 'elasticnet', 'solver': 'lbfgs'},\n",
       "  {'C': 10, 'penalty': 'elasticnet', 'solver': 'liblinear'},\n",
       "  {'C': 10, 'penalty': 'elasticnet', 'solver': 'sag'},\n",
       "  {'C': 10, 'penalty': 'elasticnet', 'solver': 'saga'},\n",
       "  {'C': 10, 'penalty': 'none', 'solver': 'newton-cg'},\n",
       "  {'C': 10, 'penalty': 'none', 'solver': 'lbfgs'},\n",
       "  {'C': 10, 'penalty': 'none', 'solver': 'liblinear'},\n",
       "  {'C': 10, 'penalty': 'none', 'solver': 'sag'},\n",
       "  {'C': 10, 'penalty': 'none', 'solver': 'saga'},\n",
       "  {'C': 100, 'penalty': 'l1', 'solver': 'newton-cg'},\n",
       "  {'C': 100, 'penalty': 'l1', 'solver': 'lbfgs'},\n",
       "  {'C': 100, 'penalty': 'l1', 'solver': 'liblinear'},\n",
       "  {'C': 100, 'penalty': 'l1', 'solver': 'sag'},\n",
       "  {'C': 100, 'penalty': 'l1', 'solver': 'saga'},\n",
       "  {'C': 100, 'penalty': 'l2', 'solver': 'newton-cg'},\n",
       "  {'C': 100, 'penalty': 'l2', 'solver': 'lbfgs'},\n",
       "  {'C': 100, 'penalty': 'l2', 'solver': 'liblinear'},\n",
       "  {'C': 100, 'penalty': 'l2', 'solver': 'sag'},\n",
       "  {'C': 100, 'penalty': 'l2', 'solver': 'saga'},\n",
       "  {'C': 100, 'penalty': 'elasticnet', 'solver': 'newton-cg'},\n",
       "  {'C': 100, 'penalty': 'elasticnet', 'solver': 'lbfgs'},\n",
       "  {'C': 100, 'penalty': 'elasticnet', 'solver': 'liblinear'},\n",
       "  {'C': 100, 'penalty': 'elasticnet', 'solver': 'sag'},\n",
       "  {'C': 100, 'penalty': 'elasticnet', 'solver': 'saga'},\n",
       "  {'C': 100, 'penalty': 'none', 'solver': 'newton-cg'},\n",
       "  {'C': 100, 'penalty': 'none', 'solver': 'lbfgs'},\n",
       "  {'C': 100, 'penalty': 'none', 'solver': 'liblinear'},\n",
       "  {'C': 100, 'penalty': 'none', 'solver': 'sag'},\n",
       "  {'C': 100, 'penalty': 'none', 'solver': 'saga'}],\n",
       " 'split0_test_score': array([       nan,        nan, 0.91666667,        nan, 1.        ,\n",
       "        1.        , 1.        , 1.        , 1.        , 1.        ,\n",
       "               nan,        nan,        nan,        nan,        nan,\n",
       "        1.        , 1.        ,        nan, 1.        , 1.        ,\n",
       "               nan,        nan, 1.        ,        nan, 1.        ,\n",
       "        1.        , 1.        , 1.        , 1.        , 1.        ,\n",
       "               nan,        nan,        nan,        nan,        nan,\n",
       "        1.        , 1.        ,        nan, 1.        , 1.        ,\n",
       "               nan,        nan, 1.        ,        nan, 1.        ,\n",
       "        1.        , 1.        , 1.        , 1.        , 1.        ,\n",
       "               nan,        nan,        nan,        nan,        nan,\n",
       "        1.        , 1.        ,        nan, 1.        , 1.        ,\n",
       "               nan,        nan, 1.        ,        nan, 1.        ,\n",
       "        1.        , 1.        , 1.        , 1.        , 1.        ,\n",
       "               nan,        nan,        nan,        nan,        nan,\n",
       "        1.        , 1.        ,        nan, 1.        , 1.        ]),\n",
       " 'split1_test_score': array([       nan,        nan, 0.75      ,        nan, 0.83333333,\n",
       "        0.91666667, 0.91666667, 0.75      , 0.91666667, 1.        ,\n",
       "               nan,        nan,        nan,        nan,        nan,\n",
       "        1.        , 1.        ,        nan, 1.        , 1.        ,\n",
       "               nan,        nan, 0.91666667,        nan, 1.        ,\n",
       "        1.        , 1.        , 0.91666667, 1.        , 1.        ,\n",
       "               nan,        nan,        nan,        nan,        nan,\n",
       "        1.        , 1.        ,        nan, 1.        , 1.        ,\n",
       "               nan,        nan, 1.        ,        nan, 1.        ,\n",
       "        1.        , 1.        , 1.        , 1.        , 1.        ,\n",
       "               nan,        nan,        nan,        nan,        nan,\n",
       "        1.        , 1.        ,        nan, 1.        , 1.        ,\n",
       "               nan,        nan, 1.        ,        nan, 1.        ,\n",
       "        1.        , 1.        , 1.        , 1.        , 1.        ,\n",
       "               nan,        nan,        nan,        nan,        nan,\n",
       "        1.        , 1.        ,        nan, 1.        , 1.        ]),\n",
       " 'split2_test_score': array([       nan,        nan, 0.66666667,        nan, 0.91666667,\n",
       "        0.91666667, 0.91666667, 0.83333333, 0.91666667, 1.        ,\n",
       "               nan,        nan,        nan,        nan,        nan,\n",
       "        0.83333333, 0.83333333,        nan, 1.        , 1.        ,\n",
       "               nan,        nan, 1.        ,        nan, 1.        ,\n",
       "        0.91666667, 0.91666667, 1.        , 1.        , 1.        ,\n",
       "               nan,        nan,        nan,        nan,        nan,\n",
       "        0.83333333, 0.83333333,        nan, 1.        , 1.        ,\n",
       "               nan,        nan, 1.        ,        nan, 1.        ,\n",
       "        0.91666667, 0.91666667, 1.        , 1.        , 1.        ,\n",
       "               nan,        nan,        nan,        nan,        nan,\n",
       "        0.83333333, 0.83333333,        nan, 1.        , 1.        ,\n",
       "               nan,        nan, 0.91666667,        nan, 1.        ,\n",
       "        0.83333333, 0.83333333, 1.        , 1.        , 1.        ,\n",
       "               nan,        nan,        nan,        nan,        nan,\n",
       "        0.83333333, 0.83333333,        nan, 1.        , 1.        ]),\n",
       " 'split3_test_score': array([       nan,        nan, 0.75      ,        nan, 0.91666667,\n",
       "        0.91666667, 0.91666667, 0.75      , 0.91666667, 0.91666667,\n",
       "               nan,        nan,        nan,        nan,        nan,\n",
       "        0.91666667, 0.91666667,        nan, 0.91666667, 0.91666667,\n",
       "               nan,        nan, 0.91666667,        nan, 0.91666667,\n",
       "        0.91666667, 0.91666667, 0.91666667, 0.91666667, 0.91666667,\n",
       "               nan,        nan,        nan,        nan,        nan,\n",
       "        0.91666667, 0.91666667,        nan, 0.91666667, 0.91666667,\n",
       "               nan,        nan, 0.91666667,        nan, 0.91666667,\n",
       "        0.91666667, 0.91666667, 0.91666667, 0.91666667, 0.91666667,\n",
       "               nan,        nan,        nan,        nan,        nan,\n",
       "        0.91666667, 0.91666667,        nan, 0.91666667, 0.91666667,\n",
       "               nan,        nan, 0.91666667,        nan, 0.91666667,\n",
       "        0.91666667, 0.91666667, 0.91666667, 0.91666667, 0.91666667,\n",
       "               nan,        nan,        nan,        nan,        nan,\n",
       "        0.91666667, 0.91666667,        nan, 0.91666667, 0.91666667]),\n",
       " 'split4_test_score': array([       nan,        nan, 0.75      ,        nan, 1.        ,\n",
       "        1.        , 1.        , 0.83333333, 1.        , 1.        ,\n",
       "               nan,        nan,        nan,        nan,        nan,\n",
       "        1.        , 1.        ,        nan, 1.        , 1.        ,\n",
       "               nan,        nan, 1.        ,        nan, 1.        ,\n",
       "        1.        , 1.        , 1.        , 1.        , 1.        ,\n",
       "               nan,        nan,        nan,        nan,        nan,\n",
       "        1.        , 1.        ,        nan, 1.        , 1.        ,\n",
       "               nan,        nan, 1.        ,        nan, 1.        ,\n",
       "        1.        , 1.        , 1.        , 1.        , 1.        ,\n",
       "               nan,        nan,        nan,        nan,        nan,\n",
       "        1.        , 1.        ,        nan, 1.        , 1.        ,\n",
       "               nan,        nan, 1.        ,        nan, 1.        ,\n",
       "        1.        , 1.        , 1.        , 1.        , 1.        ,\n",
       "               nan,        nan,        nan,        nan,        nan,\n",
       "        1.        , 1.        ,        nan, 1.        , 1.        ]),\n",
       " 'split5_test_score': array([       nan,        nan, 0.66666667,        nan, 1.        ,\n",
       "        1.        , 1.        , 0.83333333, 1.        , 0.91666667,\n",
       "               nan,        nan,        nan,        nan,        nan,\n",
       "        1.        , 1.        ,        nan, 1.        , 0.91666667,\n",
       "               nan,        nan, 0.91666667,        nan, 1.        ,\n",
       "        1.        , 1.        , 0.91666667, 1.        , 0.91666667,\n",
       "               nan,        nan,        nan,        nan,        nan,\n",
       "        1.        , 1.        ,        nan, 1.        , 0.91666667,\n",
       "               nan,        nan, 1.        ,        nan, 0.91666667,\n",
       "        1.        , 1.        , 0.91666667, 1.        , 0.91666667,\n",
       "               nan,        nan,        nan,        nan,        nan,\n",
       "        1.        , 1.        ,        nan, 1.        , 0.91666667,\n",
       "               nan,        nan, 1.        ,        nan, 0.91666667,\n",
       "        1.        , 1.        , 1.        , 1.        , 0.91666667,\n",
       "               nan,        nan,        nan,        nan,        nan,\n",
       "        1.        , 1.        ,        nan, 1.        , 0.91666667]),\n",
       " 'split6_test_score': array([       nan,        nan, 0.75      ,        nan, 0.91666667,\n",
       "        0.91666667, 0.91666667, 0.83333333, 0.91666667, 0.91666667,\n",
       "               nan,        nan,        nan,        nan,        nan,\n",
       "        0.91666667, 0.91666667,        nan, 0.91666667, 0.91666667,\n",
       "               nan,        nan, 0.83333333,        nan, 0.91666667,\n",
       "        0.91666667, 0.91666667, 0.83333333, 0.91666667, 0.91666667,\n",
       "               nan,        nan,        nan,        nan,        nan,\n",
       "        0.91666667, 0.91666667,        nan, 0.91666667, 0.91666667,\n",
       "               nan,        nan, 0.91666667,        nan, 0.91666667,\n",
       "        0.91666667, 0.91666667, 0.83333333, 0.91666667, 0.91666667,\n",
       "               nan,        nan,        nan,        nan,        nan,\n",
       "        0.91666667, 0.91666667,        nan, 0.91666667, 0.91666667,\n",
       "               nan,        nan, 0.91666667,        nan, 0.91666667,\n",
       "        0.91666667, 0.91666667, 0.91666667, 0.91666667, 0.91666667,\n",
       "               nan,        nan,        nan,        nan,        nan,\n",
       "        0.91666667, 0.91666667,        nan, 0.91666667, 0.91666667]),\n",
       " 'split7_test_score': array([       nan,        nan, 0.75      ,        nan, 0.91666667,\n",
       "        0.83333333, 0.83333333, 0.83333333, 0.83333333, 0.91666667,\n",
       "               nan,        nan,        nan,        nan,        nan,\n",
       "        0.91666667, 0.91666667,        nan, 1.        , 1.        ,\n",
       "               nan,        nan, 1.        ,        nan, 1.        ,\n",
       "        0.91666667, 0.91666667, 1.        , 1.        , 1.        ,\n",
       "               nan,        nan,        nan,        nan,        nan,\n",
       "        0.91666667, 0.91666667,        nan, 1.        , 1.        ,\n",
       "               nan,        nan, 1.        ,        nan, 1.        ,\n",
       "        1.        , 1.        , 1.        , 1.        , 1.        ,\n",
       "               nan,        nan,        nan,        nan,        nan,\n",
       "        0.91666667, 0.91666667,        nan, 1.        , 1.        ,\n",
       "               nan,        nan, 1.        ,        nan, 1.        ,\n",
       "        1.        , 1.        , 1.        , 1.        , 1.        ,\n",
       "               nan,        nan,        nan,        nan,        nan,\n",
       "        0.91666667, 0.91666667,        nan, 1.        , 1.        ]),\n",
       " 'split8_test_score': array([       nan,        nan, 0.58333333,        nan, 0.91666667,\n",
       "        1.        , 1.        , 0.58333333, 1.        , 1.        ,\n",
       "               nan,        nan,        nan,        nan,        nan,\n",
       "        1.        , 1.        ,        nan, 1.        , 1.        ,\n",
       "               nan,        nan, 0.91666667,        nan, 1.        ,\n",
       "        1.        , 1.        , 0.91666667, 1.        , 1.        ,\n",
       "               nan,        nan,        nan,        nan,        nan,\n",
       "        1.        , 1.        ,        nan, 1.        , 1.        ,\n",
       "               nan,        nan, 1.        ,        nan, 1.        ,\n",
       "        1.        , 1.        , 1.        , 1.        , 1.        ,\n",
       "               nan,        nan,        nan,        nan,        nan,\n",
       "        1.        , 1.        ,        nan, 1.        , 1.        ,\n",
       "               nan,        nan, 1.        ,        nan, 1.        ,\n",
       "        1.        , 1.        , 1.        , 1.        , 1.        ,\n",
       "               nan,        nan,        nan,        nan,        nan,\n",
       "        1.        , 1.        ,        nan, 1.        , 1.        ]),\n",
       " 'split9_test_score': array([       nan,        nan, 0.91666667,        nan, 0.91666667,\n",
       "        1.        , 1.        , 1.        , 1.        , 1.        ,\n",
       "               nan,        nan,        nan,        nan,        nan,\n",
       "        0.83333333, 0.83333333,        nan, 0.91666667, 1.        ,\n",
       "               nan,        nan, 0.91666667,        nan, 1.        ,\n",
       "        1.        , 1.        , 0.91666667, 0.91666667, 1.        ,\n",
       "               nan,        nan,        nan,        nan,        nan,\n",
       "        0.83333333, 0.83333333,        nan, 0.91666667, 0.91666667,\n",
       "               nan,        nan, 0.83333333,        nan, 0.91666667,\n",
       "        0.91666667, 0.91666667, 0.91666667, 0.91666667, 0.91666667,\n",
       "               nan,        nan,        nan,        nan,        nan,\n",
       "        0.83333333, 0.83333333,        nan, 0.91666667, 0.91666667,\n",
       "               nan,        nan, 0.83333333,        nan, 0.91666667,\n",
       "        0.91666667, 0.91666667, 0.83333333, 0.91666667, 0.91666667,\n",
       "               nan,        nan,        nan,        nan,        nan,\n",
       "        0.83333333, 0.83333333,        nan, 0.91666667, 0.91666667]),\n",
       " 'mean_test_score': array([       nan,        nan, 0.75      ,        nan, 0.93333333,\n",
       "        0.95      , 0.95      , 0.825     , 0.95      , 0.96666667,\n",
       "               nan,        nan,        nan,        nan,        nan,\n",
       "        0.94166667, 0.94166667,        nan, 0.975     , 0.975     ,\n",
       "               nan,        nan, 0.94166667,        nan, 0.98333333,\n",
       "        0.96666667, 0.96666667, 0.94166667, 0.975     , 0.975     ,\n",
       "               nan,        nan,        nan,        nan,        nan,\n",
       "        0.94166667, 0.94166667,        nan, 0.975     , 0.96666667,\n",
       "               nan,        nan, 0.96666667,        nan, 0.96666667,\n",
       "        0.96666667, 0.96666667, 0.95833333, 0.975     , 0.96666667,\n",
       "               nan,        nan,        nan,        nan,        nan,\n",
       "        0.94166667, 0.94166667,        nan, 0.975     , 0.96666667,\n",
       "               nan,        nan, 0.95833333,        nan, 0.96666667,\n",
       "        0.95833333, 0.95833333, 0.96666667, 0.975     , 0.96666667,\n",
       "               nan,        nan,        nan,        nan,        nan,\n",
       "        0.94166667, 0.94166667,        nan, 0.975     , 0.96666667]),\n",
       " 'std_test_score': array([       nan,        nan, 0.09860133,        nan, 0.05      ,\n",
       "        0.05527708, 0.05527708, 0.11456439, 0.05527708, 0.04082483,\n",
       "               nan,        nan,        nan,        nan,        nan,\n",
       "        0.06508541, 0.06508541,        nan, 0.03818813, 0.03818813,\n",
       "               nan,        nan, 0.05335937,        nan, 0.03333333,\n",
       "        0.04082483, 0.04082483, 0.05335937, 0.03818813, 0.03818813,\n",
       "               nan,        nan,        nan,        nan,        nan,\n",
       "        0.06508541, 0.06508541,        nan, 0.03818813, 0.04082483,\n",
       "               nan,        nan, 0.05527708,        nan, 0.04082483,\n",
       "        0.04082483, 0.04082483, 0.0559017 , 0.03818813, 0.04082483,\n",
       "               nan,        nan,        nan,        nan,        nan,\n",
       "        0.06508541, 0.06508541,        nan, 0.03818813, 0.04082483,\n",
       "               nan,        nan, 0.0559017 ,        nan, 0.04082483,\n",
       "        0.0559017 , 0.0559017 , 0.05527708, 0.03818813, 0.04082483,\n",
       "               nan,        nan,        nan,        nan,        nan,\n",
       "        0.06508541, 0.06508541,        nan, 0.03818813, 0.04082483]),\n",
       " 'rank_test_score': array([80, 49, 44, 57, 42, 29, 29, 43, 29, 11, 76, 75, 73, 70, 69, 32, 32,\n",
       "        62,  4,  2, 61, 60, 32, 47,  1, 11, 11, 32,  4,  2, 63, 64, 65, 66,\n",
       "        67, 32, 32, 68,  4, 11, 71, 72, 11, 74, 11, 11, 11, 26,  4, 11, 77,\n",
       "        58, 78, 59, 79, 32, 32, 45,  4, 11, 46, 56, 25, 48, 11, 26, 26, 11,\n",
       "         4, 11, 50, 51, 52, 53, 54, 32, 32, 55,  4, 11])}"
      ]
     },
     "execution_count": 109,
     "metadata": {},
     "output_type": "execute_result"
    }
   ],
   "source": [
    "grid.cv_results_"
   ]
  },
  {
   "cell_type": "code",
   "execution_count": 111,
   "id": "eae5a4d7",
   "metadata": {},
   "outputs": [
    {
     "data": {
      "text/html": [
       "<div>\n",
       "<style scoped>\n",
       "    .dataframe tbody tr th:only-of-type {\n",
       "        vertical-align: middle;\n",
       "    }\n",
       "\n",
       "    .dataframe tbody tr th {\n",
       "        vertical-align: top;\n",
       "    }\n",
       "\n",
       "    .dataframe thead th {\n",
       "        text-align: right;\n",
       "    }\n",
       "</style>\n",
       "<table border=\"1\" class=\"dataframe\">\n",
       "  <thead>\n",
       "    <tr style=\"text-align: right;\">\n",
       "      <th></th>\n",
       "      <th>mean_fit_time</th>\n",
       "      <th>std_fit_time</th>\n",
       "      <th>mean_score_time</th>\n",
       "      <th>std_score_time</th>\n",
       "      <th>param_C</th>\n",
       "      <th>param_penalty</th>\n",
       "      <th>param_solver</th>\n",
       "      <th>params</th>\n",
       "      <th>split0_test_score</th>\n",
       "      <th>split1_test_score</th>\n",
       "      <th>...</th>\n",
       "      <th>split3_test_score</th>\n",
       "      <th>split4_test_score</th>\n",
       "      <th>split5_test_score</th>\n",
       "      <th>split6_test_score</th>\n",
       "      <th>split7_test_score</th>\n",
       "      <th>split8_test_score</th>\n",
       "      <th>split9_test_score</th>\n",
       "      <th>mean_test_score</th>\n",
       "      <th>std_test_score</th>\n",
       "      <th>rank_test_score</th>\n",
       "    </tr>\n",
       "  </thead>\n",
       "  <tbody>\n",
       "    <tr>\n",
       "      <th>0</th>\n",
       "      <td>0.000900</td>\n",
       "      <td>0.000300</td>\n",
       "      <td>0.000000</td>\n",
       "      <td>0.000000</td>\n",
       "      <td>0.1</td>\n",
       "      <td>l1</td>\n",
       "      <td>newton-cg</td>\n",
       "      <td>{'C': 0.1, 'penalty': 'l1', 'solver': 'newton-...</td>\n",
       "      <td>NaN</td>\n",
       "      <td>NaN</td>\n",
       "      <td>...</td>\n",
       "      <td>NaN</td>\n",
       "      <td>NaN</td>\n",
       "      <td>NaN</td>\n",
       "      <td>NaN</td>\n",
       "      <td>NaN</td>\n",
       "      <td>NaN</td>\n",
       "      <td>NaN</td>\n",
       "      <td>NaN</td>\n",
       "      <td>NaN</td>\n",
       "      <td>80</td>\n",
       "    </tr>\n",
       "    <tr>\n",
       "      <th>1</th>\n",
       "      <td>0.002196</td>\n",
       "      <td>0.002941</td>\n",
       "      <td>0.000000</td>\n",
       "      <td>0.000000</td>\n",
       "      <td>0.1</td>\n",
       "      <td>l1</td>\n",
       "      <td>lbfgs</td>\n",
       "      <td>{'C': 0.1, 'penalty': 'l1', 'solver': 'lbfgs'}</td>\n",
       "      <td>NaN</td>\n",
       "      <td>NaN</td>\n",
       "      <td>...</td>\n",
       "      <td>NaN</td>\n",
       "      <td>NaN</td>\n",
       "      <td>NaN</td>\n",
       "      <td>NaN</td>\n",
       "      <td>NaN</td>\n",
       "      <td>NaN</td>\n",
       "      <td>NaN</td>\n",
       "      <td>NaN</td>\n",
       "      <td>NaN</td>\n",
       "      <td>49</td>\n",
       "    </tr>\n",
       "    <tr>\n",
       "      <th>2</th>\n",
       "      <td>0.004540</td>\n",
       "      <td>0.001102</td>\n",
       "      <td>0.001914</td>\n",
       "      <td>0.000617</td>\n",
       "      <td>0.1</td>\n",
       "      <td>l1</td>\n",
       "      <td>liblinear</td>\n",
       "      <td>{'C': 0.1, 'penalty': 'l1', 'solver': 'libline...</td>\n",
       "      <td>0.916667</td>\n",
       "      <td>0.750000</td>\n",
       "      <td>...</td>\n",
       "      <td>0.750000</td>\n",
       "      <td>0.75</td>\n",
       "      <td>0.666667</td>\n",
       "      <td>0.750000</td>\n",
       "      <td>0.750000</td>\n",
       "      <td>0.583333</td>\n",
       "      <td>0.916667</td>\n",
       "      <td>0.750000</td>\n",
       "      <td>0.098601</td>\n",
       "      <td>44</td>\n",
       "    </tr>\n",
       "    <tr>\n",
       "      <th>3</th>\n",
       "      <td>0.000638</td>\n",
       "      <td>0.000531</td>\n",
       "      <td>0.000000</td>\n",
       "      <td>0.000000</td>\n",
       "      <td>0.1</td>\n",
       "      <td>l1</td>\n",
       "      <td>sag</td>\n",
       "      <td>{'C': 0.1, 'penalty': 'l1', 'solver': 'sag'}</td>\n",
       "      <td>NaN</td>\n",
       "      <td>NaN</td>\n",
       "      <td>...</td>\n",
       "      <td>NaN</td>\n",
       "      <td>NaN</td>\n",
       "      <td>NaN</td>\n",
       "      <td>NaN</td>\n",
       "      <td>NaN</td>\n",
       "      <td>NaN</td>\n",
       "      <td>NaN</td>\n",
       "      <td>NaN</td>\n",
       "      <td>NaN</td>\n",
       "      <td>57</td>\n",
       "    </tr>\n",
       "    <tr>\n",
       "      <th>4</th>\n",
       "      <td>0.010428</td>\n",
       "      <td>0.000696</td>\n",
       "      <td>0.002490</td>\n",
       "      <td>0.000659</td>\n",
       "      <td>0.1</td>\n",
       "      <td>l1</td>\n",
       "      <td>saga</td>\n",
       "      <td>{'C': 0.1, 'penalty': 'l1', 'solver': 'saga'}</td>\n",
       "      <td>1.000000</td>\n",
       "      <td>0.833333</td>\n",
       "      <td>...</td>\n",
       "      <td>0.916667</td>\n",
       "      <td>1.00</td>\n",
       "      <td>1.000000</td>\n",
       "      <td>0.916667</td>\n",
       "      <td>0.916667</td>\n",
       "      <td>0.916667</td>\n",
       "      <td>0.916667</td>\n",
       "      <td>0.933333</td>\n",
       "      <td>0.050000</td>\n",
       "      <td>42</td>\n",
       "    </tr>\n",
       "    <tr>\n",
       "      <th>...</th>\n",
       "      <td>...</td>\n",
       "      <td>...</td>\n",
       "      <td>...</td>\n",
       "      <td>...</td>\n",
       "      <td>...</td>\n",
       "      <td>...</td>\n",
       "      <td>...</td>\n",
       "      <td>...</td>\n",
       "      <td>...</td>\n",
       "      <td>...</td>\n",
       "      <td>...</td>\n",
       "      <td>...</td>\n",
       "      <td>...</td>\n",
       "      <td>...</td>\n",
       "      <td>...</td>\n",
       "      <td>...</td>\n",
       "      <td>...</td>\n",
       "      <td>...</td>\n",
       "      <td>...</td>\n",
       "      <td>...</td>\n",
       "      <td>...</td>\n",
       "    </tr>\n",
       "    <tr>\n",
       "      <th>75</th>\n",
       "      <td>0.063134</td>\n",
       "      <td>0.016246</td>\n",
       "      <td>0.002613</td>\n",
       "      <td>0.000445</td>\n",
       "      <td>100</td>\n",
       "      <td>none</td>\n",
       "      <td>newton-cg</td>\n",
       "      <td>{'C': 100, 'penalty': 'none', 'solver': 'newto...</td>\n",
       "      <td>1.000000</td>\n",
       "      <td>1.000000</td>\n",
       "      <td>...</td>\n",
       "      <td>0.916667</td>\n",
       "      <td>1.00</td>\n",
       "      <td>1.000000</td>\n",
       "      <td>0.916667</td>\n",
       "      <td>0.916667</td>\n",
       "      <td>1.000000</td>\n",
       "      <td>0.833333</td>\n",
       "      <td>0.941667</td>\n",
       "      <td>0.065085</td>\n",
       "      <td>32</td>\n",
       "    </tr>\n",
       "    <tr>\n",
       "      <th>76</th>\n",
       "      <td>0.028094</td>\n",
       "      <td>0.003609</td>\n",
       "      <td>0.002260</td>\n",
       "      <td>0.000435</td>\n",
       "      <td>100</td>\n",
       "      <td>none</td>\n",
       "      <td>lbfgs</td>\n",
       "      <td>{'C': 100, 'penalty': 'none', 'solver': 'lbfgs'}</td>\n",
       "      <td>1.000000</td>\n",
       "      <td>1.000000</td>\n",
       "      <td>...</td>\n",
       "      <td>0.916667</td>\n",
       "      <td>1.00</td>\n",
       "      <td>1.000000</td>\n",
       "      <td>0.916667</td>\n",
       "      <td>0.916667</td>\n",
       "      <td>1.000000</td>\n",
       "      <td>0.833333</td>\n",
       "      <td>0.941667</td>\n",
       "      <td>0.065085</td>\n",
       "      <td>32</td>\n",
       "    </tr>\n",
       "    <tr>\n",
       "      <th>77</th>\n",
       "      <td>0.000908</td>\n",
       "      <td>0.000304</td>\n",
       "      <td>0.000000</td>\n",
       "      <td>0.000000</td>\n",
       "      <td>100</td>\n",
       "      <td>none</td>\n",
       "      <td>liblinear</td>\n",
       "      <td>{'C': 100, 'penalty': 'none', 'solver': 'libli...</td>\n",
       "      <td>NaN</td>\n",
       "      <td>NaN</td>\n",
       "      <td>...</td>\n",
       "      <td>NaN</td>\n",
       "      <td>NaN</td>\n",
       "      <td>NaN</td>\n",
       "      <td>NaN</td>\n",
       "      <td>NaN</td>\n",
       "      <td>NaN</td>\n",
       "      <td>NaN</td>\n",
       "      <td>NaN</td>\n",
       "      <td>NaN</td>\n",
       "      <td>55</td>\n",
       "    </tr>\n",
       "    <tr>\n",
       "      <th>78</th>\n",
       "      <td>0.009735</td>\n",
       "      <td>0.001484</td>\n",
       "      <td>0.002828</td>\n",
       "      <td>0.001020</td>\n",
       "      <td>100</td>\n",
       "      <td>none</td>\n",
       "      <td>sag</td>\n",
       "      <td>{'C': 100, 'penalty': 'none', 'solver': 'sag'}</td>\n",
       "      <td>1.000000</td>\n",
       "      <td>1.000000</td>\n",
       "      <td>...</td>\n",
       "      <td>0.916667</td>\n",
       "      <td>1.00</td>\n",
       "      <td>1.000000</td>\n",
       "      <td>0.916667</td>\n",
       "      <td>1.000000</td>\n",
       "      <td>1.000000</td>\n",
       "      <td>0.916667</td>\n",
       "      <td>0.975000</td>\n",
       "      <td>0.038188</td>\n",
       "      <td>4</td>\n",
       "    </tr>\n",
       "    <tr>\n",
       "      <th>79</th>\n",
       "      <td>0.009894</td>\n",
       "      <td>0.000668</td>\n",
       "      <td>0.002699</td>\n",
       "      <td>0.000595</td>\n",
       "      <td>100</td>\n",
       "      <td>none</td>\n",
       "      <td>saga</td>\n",
       "      <td>{'C': 100, 'penalty': 'none', 'solver': 'saga'}</td>\n",
       "      <td>1.000000</td>\n",
       "      <td>1.000000</td>\n",
       "      <td>...</td>\n",
       "      <td>0.916667</td>\n",
       "      <td>1.00</td>\n",
       "      <td>0.916667</td>\n",
       "      <td>0.916667</td>\n",
       "      <td>1.000000</td>\n",
       "      <td>1.000000</td>\n",
       "      <td>0.916667</td>\n",
       "      <td>0.966667</td>\n",
       "      <td>0.040825</td>\n",
       "      <td>11</td>\n",
       "    </tr>\n",
       "  </tbody>\n",
       "</table>\n",
       "<p>80 rows × 21 columns</p>\n",
       "</div>"
      ],
      "text/plain": [
       "    mean_fit_time  std_fit_time  mean_score_time  std_score_time param_C  \\\n",
       "0        0.000900      0.000300         0.000000        0.000000     0.1   \n",
       "1        0.002196      0.002941         0.000000        0.000000     0.1   \n",
       "2        0.004540      0.001102         0.001914        0.000617     0.1   \n",
       "3        0.000638      0.000531         0.000000        0.000000     0.1   \n",
       "4        0.010428      0.000696         0.002490        0.000659     0.1   \n",
       "..            ...           ...              ...             ...     ...   \n",
       "75       0.063134      0.016246         0.002613        0.000445     100   \n",
       "76       0.028094      0.003609         0.002260        0.000435     100   \n",
       "77       0.000908      0.000304         0.000000        0.000000     100   \n",
       "78       0.009735      0.001484         0.002828        0.001020     100   \n",
       "79       0.009894      0.000668         0.002699        0.000595     100   \n",
       "\n",
       "   param_penalty param_solver  \\\n",
       "0             l1    newton-cg   \n",
       "1             l1        lbfgs   \n",
       "2             l1    liblinear   \n",
       "3             l1          sag   \n",
       "4             l1         saga   \n",
       "..           ...          ...   \n",
       "75          none    newton-cg   \n",
       "76          none        lbfgs   \n",
       "77          none    liblinear   \n",
       "78          none          sag   \n",
       "79          none         saga   \n",
       "\n",
       "                                               params  split0_test_score  \\\n",
       "0   {'C': 0.1, 'penalty': 'l1', 'solver': 'newton-...                NaN   \n",
       "1      {'C': 0.1, 'penalty': 'l1', 'solver': 'lbfgs'}                NaN   \n",
       "2   {'C': 0.1, 'penalty': 'l1', 'solver': 'libline...           0.916667   \n",
       "3        {'C': 0.1, 'penalty': 'l1', 'solver': 'sag'}                NaN   \n",
       "4       {'C': 0.1, 'penalty': 'l1', 'solver': 'saga'}           1.000000   \n",
       "..                                                ...                ...   \n",
       "75  {'C': 100, 'penalty': 'none', 'solver': 'newto...           1.000000   \n",
       "76   {'C': 100, 'penalty': 'none', 'solver': 'lbfgs'}           1.000000   \n",
       "77  {'C': 100, 'penalty': 'none', 'solver': 'libli...                NaN   \n",
       "78     {'C': 100, 'penalty': 'none', 'solver': 'sag'}           1.000000   \n",
       "79    {'C': 100, 'penalty': 'none', 'solver': 'saga'}           1.000000   \n",
       "\n",
       "    split1_test_score  ...  split3_test_score  split4_test_score  \\\n",
       "0                 NaN  ...                NaN                NaN   \n",
       "1                 NaN  ...                NaN                NaN   \n",
       "2            0.750000  ...           0.750000               0.75   \n",
       "3                 NaN  ...                NaN                NaN   \n",
       "4            0.833333  ...           0.916667               1.00   \n",
       "..                ...  ...                ...                ...   \n",
       "75           1.000000  ...           0.916667               1.00   \n",
       "76           1.000000  ...           0.916667               1.00   \n",
       "77                NaN  ...                NaN                NaN   \n",
       "78           1.000000  ...           0.916667               1.00   \n",
       "79           1.000000  ...           0.916667               1.00   \n",
       "\n",
       "    split5_test_score  split6_test_score  split7_test_score  \\\n",
       "0                 NaN                NaN                NaN   \n",
       "1                 NaN                NaN                NaN   \n",
       "2            0.666667           0.750000           0.750000   \n",
       "3                 NaN                NaN                NaN   \n",
       "4            1.000000           0.916667           0.916667   \n",
       "..                ...                ...                ...   \n",
       "75           1.000000           0.916667           0.916667   \n",
       "76           1.000000           0.916667           0.916667   \n",
       "77                NaN                NaN                NaN   \n",
       "78           1.000000           0.916667           1.000000   \n",
       "79           0.916667           0.916667           1.000000   \n",
       "\n",
       "    split8_test_score  split9_test_score  mean_test_score  std_test_score  \\\n",
       "0                 NaN                NaN              NaN             NaN   \n",
       "1                 NaN                NaN              NaN             NaN   \n",
       "2            0.583333           0.916667         0.750000        0.098601   \n",
       "3                 NaN                NaN              NaN             NaN   \n",
       "4            0.916667           0.916667         0.933333        0.050000   \n",
       "..                ...                ...              ...             ...   \n",
       "75           1.000000           0.833333         0.941667        0.065085   \n",
       "76           1.000000           0.833333         0.941667        0.065085   \n",
       "77                NaN                NaN              NaN             NaN   \n",
       "78           1.000000           0.916667         0.975000        0.038188   \n",
       "79           1.000000           0.916667         0.966667        0.040825   \n",
       "\n",
       "    rank_test_score  \n",
       "0                80  \n",
       "1                49  \n",
       "2                44  \n",
       "3                57  \n",
       "4                42  \n",
       "..              ...  \n",
       "75               32  \n",
       "76               32  \n",
       "77               55  \n",
       "78                4  \n",
       "79               11  \n",
       "\n",
       "[80 rows x 21 columns]"
      ]
     },
     "execution_count": 111,
     "metadata": {},
     "output_type": "execute_result"
    }
   ],
   "source": [
    "result=pd.DataFrame(grid.cv_results_)\n",
    "result"
   ]
  },
  {
   "cell_type": "code",
   "execution_count": 115,
   "id": "d87247a1",
   "metadata": {},
   "outputs": [
    {
     "data": {
      "text/plain": [
       "Index(['mean_fit_time', 'std_fit_time', 'mean_score_time', 'std_score_time',\n",
       "       'param_C', 'param_penalty', 'param_solver', 'params',\n",
       "       'split0_test_score', 'split1_test_score', 'split2_test_score',\n",
       "       'split3_test_score', 'split4_test_score', 'split5_test_score',\n",
       "       'split6_test_score', 'split7_test_score', 'split8_test_score',\n",
       "       'split9_test_score', 'mean_test_score', 'std_test_score',\n",
       "       'rank_test_score'],\n",
       "      dtype='object')"
      ]
     },
     "execution_count": 115,
     "metadata": {},
     "output_type": "execute_result"
    }
   ],
   "source": [
    "result.columns"
   ]
  },
  {
   "cell_type": "code",
   "execution_count": 112,
   "id": "37569234",
   "metadata": {},
   "outputs": [
    {
     "data": {
      "text/html": [
       "<div>\n",
       "<style scoped>\n",
       "    .dataframe tbody tr th:only-of-type {\n",
       "        vertical-align: middle;\n",
       "    }\n",
       "\n",
       "    .dataframe tbody tr th {\n",
       "        vertical-align: top;\n",
       "    }\n",
       "\n",
       "    .dataframe thead th {\n",
       "        text-align: right;\n",
       "    }\n",
       "</style>\n",
       "<table border=\"1\" class=\"dataframe\">\n",
       "  <thead>\n",
       "    <tr style=\"text-align: right;\">\n",
       "      <th></th>\n",
       "      <th>mean_fit_time</th>\n",
       "      <th>std_fit_time</th>\n",
       "      <th>mean_score_time</th>\n",
       "      <th>std_score_time</th>\n",
       "      <th>param_C</th>\n",
       "      <th>param_penalty</th>\n",
       "      <th>param_solver</th>\n",
       "      <th>params</th>\n",
       "      <th>split0_test_score</th>\n",
       "      <th>split1_test_score</th>\n",
       "      <th>...</th>\n",
       "      <th>split3_test_score</th>\n",
       "      <th>split4_test_score</th>\n",
       "      <th>split5_test_score</th>\n",
       "      <th>split6_test_score</th>\n",
       "      <th>split7_test_score</th>\n",
       "      <th>split8_test_score</th>\n",
       "      <th>split9_test_score</th>\n",
       "      <th>mean_test_score</th>\n",
       "      <th>std_test_score</th>\n",
       "      <th>rank_test_score</th>\n",
       "    </tr>\n",
       "  </thead>\n",
       "  <tbody>\n",
       "    <tr>\n",
       "      <th>0</th>\n",
       "      <td>0.000900</td>\n",
       "      <td>0.000300</td>\n",
       "      <td>0.000000</td>\n",
       "      <td>0.000000</td>\n",
       "      <td>0.1</td>\n",
       "      <td>l1</td>\n",
       "      <td>newton-cg</td>\n",
       "      <td>{'C': 0.1, 'penalty': 'l1', 'solver': 'newton-...</td>\n",
       "      <td>NaN</td>\n",
       "      <td>NaN</td>\n",
       "      <td>...</td>\n",
       "      <td>NaN</td>\n",
       "      <td>NaN</td>\n",
       "      <td>NaN</td>\n",
       "      <td>NaN</td>\n",
       "      <td>NaN</td>\n",
       "      <td>NaN</td>\n",
       "      <td>NaN</td>\n",
       "      <td>NaN</td>\n",
       "      <td>NaN</td>\n",
       "      <td>80</td>\n",
       "    </tr>\n",
       "    <tr>\n",
       "      <th>1</th>\n",
       "      <td>0.002196</td>\n",
       "      <td>0.002941</td>\n",
       "      <td>0.000000</td>\n",
       "      <td>0.000000</td>\n",
       "      <td>0.1</td>\n",
       "      <td>l1</td>\n",
       "      <td>lbfgs</td>\n",
       "      <td>{'C': 0.1, 'penalty': 'l1', 'solver': 'lbfgs'}</td>\n",
       "      <td>NaN</td>\n",
       "      <td>NaN</td>\n",
       "      <td>...</td>\n",
       "      <td>NaN</td>\n",
       "      <td>NaN</td>\n",
       "      <td>NaN</td>\n",
       "      <td>NaN</td>\n",
       "      <td>NaN</td>\n",
       "      <td>NaN</td>\n",
       "      <td>NaN</td>\n",
       "      <td>NaN</td>\n",
       "      <td>NaN</td>\n",
       "      <td>49</td>\n",
       "    </tr>\n",
       "    <tr>\n",
       "      <th>2</th>\n",
       "      <td>0.004540</td>\n",
       "      <td>0.001102</td>\n",
       "      <td>0.001914</td>\n",
       "      <td>0.000617</td>\n",
       "      <td>0.1</td>\n",
       "      <td>l1</td>\n",
       "      <td>liblinear</td>\n",
       "      <td>{'C': 0.1, 'penalty': 'l1', 'solver': 'libline...</td>\n",
       "      <td>0.916667</td>\n",
       "      <td>0.750000</td>\n",
       "      <td>...</td>\n",
       "      <td>0.750000</td>\n",
       "      <td>0.75</td>\n",
       "      <td>0.666667</td>\n",
       "      <td>0.750000</td>\n",
       "      <td>0.750000</td>\n",
       "      <td>0.583333</td>\n",
       "      <td>0.916667</td>\n",
       "      <td>0.750000</td>\n",
       "      <td>0.098601</td>\n",
       "      <td>44</td>\n",
       "    </tr>\n",
       "    <tr>\n",
       "      <th>3</th>\n",
       "      <td>0.000638</td>\n",
       "      <td>0.000531</td>\n",
       "      <td>0.000000</td>\n",
       "      <td>0.000000</td>\n",
       "      <td>0.1</td>\n",
       "      <td>l1</td>\n",
       "      <td>sag</td>\n",
       "      <td>{'C': 0.1, 'penalty': 'l1', 'solver': 'sag'}</td>\n",
       "      <td>NaN</td>\n",
       "      <td>NaN</td>\n",
       "      <td>...</td>\n",
       "      <td>NaN</td>\n",
       "      <td>NaN</td>\n",
       "      <td>NaN</td>\n",
       "      <td>NaN</td>\n",
       "      <td>NaN</td>\n",
       "      <td>NaN</td>\n",
       "      <td>NaN</td>\n",
       "      <td>NaN</td>\n",
       "      <td>NaN</td>\n",
       "      <td>57</td>\n",
       "    </tr>\n",
       "    <tr>\n",
       "      <th>4</th>\n",
       "      <td>0.010428</td>\n",
       "      <td>0.000696</td>\n",
       "      <td>0.002490</td>\n",
       "      <td>0.000659</td>\n",
       "      <td>0.1</td>\n",
       "      <td>l1</td>\n",
       "      <td>saga</td>\n",
       "      <td>{'C': 0.1, 'penalty': 'l1', 'solver': 'saga'}</td>\n",
       "      <td>1.000000</td>\n",
       "      <td>0.833333</td>\n",
       "      <td>...</td>\n",
       "      <td>0.916667</td>\n",
       "      <td>1.00</td>\n",
       "      <td>1.000000</td>\n",
       "      <td>0.916667</td>\n",
       "      <td>0.916667</td>\n",
       "      <td>0.916667</td>\n",
       "      <td>0.916667</td>\n",
       "      <td>0.933333</td>\n",
       "      <td>0.050000</td>\n",
       "      <td>42</td>\n",
       "    </tr>\n",
       "  </tbody>\n",
       "</table>\n",
       "<p>5 rows × 21 columns</p>\n",
       "</div>"
      ],
      "text/plain": [
       "   mean_fit_time  std_fit_time  mean_score_time  std_score_time param_C  \\\n",
       "0       0.000900      0.000300         0.000000        0.000000     0.1   \n",
       "1       0.002196      0.002941         0.000000        0.000000     0.1   \n",
       "2       0.004540      0.001102         0.001914        0.000617     0.1   \n",
       "3       0.000638      0.000531         0.000000        0.000000     0.1   \n",
       "4       0.010428      0.000696         0.002490        0.000659     0.1   \n",
       "\n",
       "  param_penalty param_solver  \\\n",
       "0            l1    newton-cg   \n",
       "1            l1        lbfgs   \n",
       "2            l1    liblinear   \n",
       "3            l1          sag   \n",
       "4            l1         saga   \n",
       "\n",
       "                                              params  split0_test_score  \\\n",
       "0  {'C': 0.1, 'penalty': 'l1', 'solver': 'newton-...                NaN   \n",
       "1     {'C': 0.1, 'penalty': 'l1', 'solver': 'lbfgs'}                NaN   \n",
       "2  {'C': 0.1, 'penalty': 'l1', 'solver': 'libline...           0.916667   \n",
       "3       {'C': 0.1, 'penalty': 'l1', 'solver': 'sag'}                NaN   \n",
       "4      {'C': 0.1, 'penalty': 'l1', 'solver': 'saga'}           1.000000   \n",
       "\n",
       "   split1_test_score  ...  split3_test_score  split4_test_score  \\\n",
       "0                NaN  ...                NaN                NaN   \n",
       "1                NaN  ...                NaN                NaN   \n",
       "2           0.750000  ...           0.750000               0.75   \n",
       "3                NaN  ...                NaN                NaN   \n",
       "4           0.833333  ...           0.916667               1.00   \n",
       "\n",
       "   split5_test_score  split6_test_score  split7_test_score  split8_test_score  \\\n",
       "0                NaN                NaN                NaN                NaN   \n",
       "1                NaN                NaN                NaN                NaN   \n",
       "2           0.666667           0.750000           0.750000           0.583333   \n",
       "3                NaN                NaN                NaN                NaN   \n",
       "4           1.000000           0.916667           0.916667           0.916667   \n",
       "\n",
       "   split9_test_score  mean_test_score  std_test_score  rank_test_score  \n",
       "0                NaN              NaN             NaN               80  \n",
       "1                NaN              NaN             NaN               49  \n",
       "2           0.916667         0.750000        0.098601               44  \n",
       "3                NaN              NaN             NaN               57  \n",
       "4           0.916667         0.933333        0.050000               42  \n",
       "\n",
       "[5 rows x 21 columns]"
      ]
     },
     "execution_count": 112,
     "metadata": {},
     "output_type": "execute_result"
    }
   ],
   "source": [
    "result.head()"
   ]
  },
  {
   "cell_type": "code",
   "execution_count": null,
   "id": "93c107e3",
   "metadata": {},
   "outputs": [],
   "source": []
  },
  {
   "cell_type": "code",
   "execution_count": null,
   "id": "01c5262e",
   "metadata": {},
   "outputs": [],
   "source": []
  },
  {
   "cell_type": "code",
   "execution_count": null,
   "id": "cf13a22b",
   "metadata": {},
   "outputs": [],
   "source": []
  },
  {
   "cell_type": "code",
   "execution_count": null,
   "id": "df1d83ef",
   "metadata": {},
   "outputs": [],
   "source": []
  },
  {
   "cell_type": "code",
   "execution_count": null,
   "id": "d007167d",
   "metadata": {},
   "outputs": [],
   "source": []
  },
  {
   "cell_type": "code",
   "execution_count": null,
   "id": "f7573902",
   "metadata": {},
   "outputs": [],
   "source": []
  },
  {
   "cell_type": "code",
   "execution_count": null,
   "id": "cf89fa65",
   "metadata": {},
   "outputs": [],
   "source": []
  },
  {
   "cell_type": "code",
   "execution_count": null,
   "id": "417d171f",
   "metadata": {},
   "outputs": [],
   "source": []
  },
  {
   "cell_type": "code",
   "execution_count": null,
   "id": "1dda6174",
   "metadata": {},
   "outputs": [],
   "source": []
  },
  {
   "cell_type": "code",
   "execution_count": null,
   "id": "97d26df4",
   "metadata": {},
   "outputs": [],
   "source": []
  },
  {
   "cell_type": "code",
   "execution_count": null,
   "id": "0f9c507b",
   "metadata": {},
   "outputs": [],
   "source": []
  }
 ],
 "metadata": {
  "kernelspec": {
   "display_name": "Python 3 (ipykernel)",
   "language": "python",
   "name": "python3"
  },
  "language_info": {
   "codemirror_mode": {
    "name": "ipython",
    "version": 3
   },
   "file_extension": ".py",
   "mimetype": "text/x-python",
   "name": "python",
   "nbconvert_exporter": "python",
   "pygments_lexer": "ipython3",
   "version": "3.9.12"
  }
 },
 "nbformat": 4,
 "nbformat_minor": 5
}

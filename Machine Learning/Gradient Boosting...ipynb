{
 "cells": [
  {
   "cell_type": "code",
   "execution_count": 1,
   "id": "1a47bf5b",
   "metadata": {},
   "outputs": [
    {
     "data": {
      "text/plain": [
       "['__all__',\n",
       " '__builtins__',\n",
       " '__cached__',\n",
       " '__doc__',\n",
       " '__file__',\n",
       " '__loader__',\n",
       " '__name__',\n",
       " '__package__',\n",
       " '__path__',\n",
       " '__spec__',\n",
       " '_base',\n",
       " '_california_housing',\n",
       " '_covtype',\n",
       " '_kddcup99',\n",
       " '_lfw',\n",
       " '_olivetti_faces',\n",
       " '_openml',\n",
       " '_rcv1',\n",
       " '_samples_generator',\n",
       " '_species_distributions',\n",
       " '_svmlight_format_fast',\n",
       " '_svmlight_format_io',\n",
       " '_twenty_newsgroups',\n",
       " 'clear_data_home',\n",
       " 'dump_svmlight_file',\n",
       " 'fetch_20newsgroups',\n",
       " 'fetch_20newsgroups_vectorized',\n",
       " 'fetch_california_housing',\n",
       " 'fetch_covtype',\n",
       " 'fetch_kddcup99',\n",
       " 'fetch_lfw_pairs',\n",
       " 'fetch_lfw_people',\n",
       " 'fetch_olivetti_faces',\n",
       " 'fetch_openml',\n",
       " 'fetch_rcv1',\n",
       " 'fetch_species_distributions',\n",
       " 'get_data_home',\n",
       " 'load_boston',\n",
       " 'load_breast_cancer',\n",
       " 'load_diabetes',\n",
       " 'load_digits',\n",
       " 'load_files',\n",
       " 'load_iris',\n",
       " 'load_linnerud',\n",
       " 'load_sample_image',\n",
       " 'load_sample_images',\n",
       " 'load_svmlight_file',\n",
       " 'load_svmlight_files',\n",
       " 'load_wine',\n",
       " 'make_biclusters',\n",
       " 'make_blobs',\n",
       " 'make_checkerboard',\n",
       " 'make_circles',\n",
       " 'make_classification',\n",
       " 'make_friedman1',\n",
       " 'make_friedman2',\n",
       " 'make_friedman3',\n",
       " 'make_gaussian_quantiles',\n",
       " 'make_hastie_10_2',\n",
       " 'make_low_rank_matrix',\n",
       " 'make_moons',\n",
       " 'make_multilabel_classification',\n",
       " 'make_regression',\n",
       " 'make_s_curve',\n",
       " 'make_sparse_coded_signal',\n",
       " 'make_sparse_spd_matrix',\n",
       " 'make_sparse_uncorrelated',\n",
       " 'make_spd_matrix',\n",
       " 'make_swiss_roll']"
      ]
     },
     "execution_count": 1,
     "metadata": {},
     "output_type": "execute_result"
    }
   ],
   "source": [
    "from sklearn import datasets\n",
    "dir(datasets)"
   ]
  },
  {
   "cell_type": "code",
   "execution_count": 2,
   "id": "5156992b",
   "metadata": {},
   "outputs": [
    {
     "data": {
      "text/plain": [
       "(array([[-1.09171826,  0.54650652,  1.66142098, ..., -0.64926254,\n",
       "         -1.90075988,  1.44293493],\n",
       "        [-1.20698588,  0.33378688, -0.8241329 , ..., -0.805569  ,\n",
       "         -0.01394532,  0.62967063],\n",
       "        [ 0.19011528, -0.64003795, -0.77121631, ...,  0.8614057 ,\n",
       "          1.43196088,  0.38503929],\n",
       "        ...,\n",
       "        [ 0.76744884,  0.75422343,  1.97667636, ...,  0.14161419,\n",
       "          0.94138865,  0.50319828],\n",
       "        [ 0.89908096, -1.13019904,  0.13627849, ...,  0.01166048,\n",
       "          1.57920381, -1.93815427],\n",
       "        [ 1.39207994, -1.33370356, -0.72028143, ..., -0.19048341,\n",
       "          0.318094  , -1.62538985]]),\n",
       " array([ 1., -1., -1., ...,  1., -1.,  1.]))"
      ]
     },
     "execution_count": 2,
     "metadata": {},
     "output_type": "execute_result"
    }
   ],
   "source": [
    "from sklearn import datasets\n",
    "df=datasets.make_hastie_10_2()\n",
    "df"
   ]
  },
  {
   "cell_type": "code",
   "execution_count": 3,
   "id": "e0218433",
   "metadata": {},
   "outputs": [],
   "source": [
    "X, y = datasets.make_hastie_10_2(random_state=0)\n",
    "x_train, x_test = X[:2000], X[2000:]\n",
    "y_train, y_test = y[:2000], y[2000:]"
   ]
  },
  {
   "cell_type": "code",
   "execution_count": 4,
   "id": "ec6ef149",
   "metadata": {},
   "outputs": [
    {
     "data": {
      "text/plain": [
       "GradientBoostingClassifier(learning_rate=1.0, max_depth=1, random_state=0)"
      ]
     },
     "execution_count": 4,
     "metadata": {},
     "output_type": "execute_result"
    }
   ],
   "source": [
    "from sklearn.ensemble import GradientBoostingClassifier\n",
    "clf = GradientBoostingClassifier(n_estimators=100, learning_rate=1.0,max_depth=1, random_state=0)\n",
    "ml=clf.fit(x_train, y_train)\n",
    "ml"
   ]
  },
  {
   "cell_type": "code",
   "execution_count": 5,
   "id": "a8e37487",
   "metadata": {},
   "outputs": [
    {
     "data": {
      "text/plain": [
       "0.913"
      ]
     },
     "execution_count": 5,
     "metadata": {},
     "output_type": "execute_result"
    }
   ],
   "source": [
    "clf.score(x_test,y_test)"
   ]
  },
  {
   "cell_type": "code",
   "execution_count": 6,
   "id": "2c6d34ed",
   "metadata": {},
   "outputs": [
    {
     "data": {
      "text/plain": [
       "array([ 1., -1., -1., ..., -1.,  1.,  1.])"
      ]
     },
     "execution_count": 6,
     "metadata": {},
     "output_type": "execute_result"
    }
   ],
   "source": [
    "y_pred=clf.predict(x_test)\n",
    "y_pred"
   ]
  },
  {
   "cell_type": "code",
   "execution_count": 7,
   "id": "95cd41c9",
   "metadata": {},
   "outputs": [
    {
     "name": "stdout",
     "output_type": "stream",
     "text": [
      "              precision    recall  f1-score   support\n",
      "\n",
      "        -1.0       0.92      0.91      0.91      5135\n",
      "         1.0       0.90      0.92      0.91      4865\n",
      "\n",
      "    accuracy                           0.91     10000\n",
      "   macro avg       0.91      0.91      0.91     10000\n",
      "weighted avg       0.91      0.91      0.91     10000\n",
      "\n"
     ]
    }
   ],
   "source": [
    "from sklearn import metrics\n",
    "print(metrics.classification_report(y_pred,y_test))"
   ]
  },
  {
   "cell_type": "code",
   "execution_count": 8,
   "id": "5cb5133c",
   "metadata": {},
   "outputs": [
    {
     "data": {
      "text/plain": [
       "array([[4657,  478],\n",
       "       [ 392, 4473]], dtype=int64)"
      ]
     },
     "execution_count": 8,
     "metadata": {},
     "output_type": "execute_result"
    }
   ],
   "source": [
    "metrics.confusion_matrix(y_pred,y_test)"
   ]
  },
  {
   "cell_type": "code",
   "execution_count": 9,
   "id": "27e93419",
   "metadata": {},
   "outputs": [
    {
     "data": {
      "text/plain": [
       "<AxesSubplot:>"
      ]
     },
     "execution_count": 9,
     "metadata": {},
     "output_type": "execute_result"
    },
    {
     "data": {
      "image/png": "[encoded data removed]",
      "text/plain": [
       "<Figure size 432x288 with 2 Axes>"
      ]
     },
     "metadata": {
      "needs_background": "light"
     },
     "output_type": "display_data"
    }
   ],
   "source": [
    "import seaborn as sn\n",
    "cm=metrics.confusion_matrix(y_pred,y_test)\n",
    "sn.heatmap(cm,annot=True)"
   ]
  },
  {
   "cell_type": "code",
   "execution_count": 10,
   "id": "2fbee4cd",
   "metadata": {},
   "outputs": [
    {
     "data": {
      "text/plain": [
       "0.913"
      ]
     },
     "execution_count": 10,
     "metadata": {},
     "output_type": "execute_result"
    }
   ],
   "source": [
    "metrics.accuracy_score(y_pred,y_test)"
   ]
  },
  {
   "cell_type": "code",
   "execution_count": 11,
   "id": "c81aeffd",
   "metadata": {},
   "outputs": [
    {
     "data": {
      "text/plain": [
       "0.9194244604316547"
      ]
     },
     "execution_count": 11,
     "metadata": {},
     "output_type": "execute_result"
    }
   ],
   "source": [
    "metrics.recall_score(y_pred,y_test)"
   ]
  },
  {
   "cell_type": "code",
   "execution_count": 12,
   "id": "474bde62",
   "metadata": {},
   "outputs": [
    {
     "data": {
      "text/plain": [
       "0.9034538477075338"
      ]
     },
     "execution_count": 12,
     "metadata": {},
     "output_type": "execute_result"
    }
   ],
   "source": [
    "metrics.precision_score(y_pred,y_test)"
   ]
  },
  {
   "cell_type": "code",
   "execution_count": 13,
   "id": "dd339ac8",
   "metadata": {},
   "outputs": [
    {
     "data": {
      "text/plain": [
       "0.9113691931540342"
      ]
     },
     "execution_count": 13,
     "metadata": {},
     "output_type": "execute_result"
    }
   ],
   "source": [
    "metrics.f1_score(y_pred,y_test)"
   ]
  },
  {
   "cell_type": "code",
   "execution_count": 14,
   "id": "e9b3602a",
   "metadata": {},
   "outputs": [
    {
     "data": {
      "text/plain": [
       "0.348"
      ]
     },
     "execution_count": 14,
     "metadata": {},
     "output_type": "execute_result"
    }
   ],
   "source": [
    "metrics.mean_squared_error(y_pred,y_test)"
   ]
  },
  {
   "cell_type": "code",
   "execution_count": 15,
   "id": "c6858079",
   "metadata": {},
   "outputs": [
    {
     "data": {
      "text/plain": [
       "0.174"
      ]
     },
     "execution_count": 15,
     "metadata": {},
     "output_type": "execute_result"
    }
   ],
   "source": [
    "metrics.mean_absolute_error(y_pred,y_test)"
   ]
  },
  {
   "cell_type": "code",
   "execution_count": 16,
   "id": "53bcbd18",
   "metadata": {},
   "outputs": [
    {
     "data": {
      "text/plain": [
       "0.6517461229236112"
      ]
     },
     "execution_count": 16,
     "metadata": {},
     "output_type": "execute_result"
    }
   ],
   "source": [
    "metrics.r2_score(y_pred,y_test)"
   ]
  },
  {
   "cell_type": "code",
   "execution_count": 17,
   "id": "2808afac",
   "metadata": {},
   "outputs": [
    {
     "data": {
      "text/plain": [
       "0.589915248150105"
      ]
     },
     "execution_count": 17,
     "metadata": {},
     "output_type": "execute_result"
    }
   ],
   "source": [
    "#root mean square error\n",
    "import math\n",
    "import numpy as np\n",
    "MSE=metrics.mean_squared_error(y_test,y_pred)\n",
    "RMSE=math.sqrt(MSE)\n",
    "RMSE"
   ]
  },
  {
   "cell_type": "code",
   "execution_count": 18,
   "id": "d4e72eeb",
   "metadata": {},
   "outputs": [
    {
     "name": "stdout",
     "output_type": "stream",
     "text": [
      "Adjusted_R2: 0.6518621230615881\n"
     ]
    }
   ],
   "source": [
    "#Adjusted R2 score\n",
    "import numpy as np\n",
    "r2_score=metrics.r2_score(y_test,y_pred)\n",
    "n=y_test.shape[0]\n",
    "p=3\n",
    "x=(1-r2_score)\n",
    "y=(n-1)/(n-p-1)\n",
    "adj_r2=(1-(x*y))\n",
    "print('Adjusted_R2:',adj_r2)"
   ]
  },
  {
   "cell_type": "code",
   "execution_count": 19,
   "id": "e059bcda",
   "metadata": {},
   "outputs": [
    {
     "data": {
      "text/plain": [
       "array([0.925, 0.93 , 0.91 , 0.95 , 0.935, 0.9  , 0.91 , 0.89 , 0.905,\n",
       "       0.91 ])"
      ]
     },
     "execution_count": 19,
     "metadata": {},
     "output_type": "execute_result"
    }
   ],
   "source": [
    "from sklearn.model_selection import cross_val_score\n",
    "score=cross_val_score(clf,x_train,y_train,cv=10)\n",
    "score"
   ]
  },
  {
   "cell_type": "code",
   "execution_count": 20,
   "id": "6457e888",
   "metadata": {},
   "outputs": [
    {
     "data": {
      "text/plain": [
       "0.9164999999999999"
      ]
     },
     "execution_count": 20,
     "metadata": {},
     "output_type": "execute_result"
    }
   ],
   "source": [
    "score.mean()"
   ]
  },
  {
   "cell_type": "code",
   "execution_count": 21,
   "id": "53b10383",
   "metadata": {},
   "outputs": [
    {
     "data": {
      "text/plain": [
       "0.03436568055487916"
      ]
     },
     "execution_count": 21,
     "metadata": {},
     "output_type": "execute_result"
    }
   ],
   "source": [
    "score.std()*2"
   ]
  },
  {
   "cell_type": "code",
   "execution_count": 22,
   "id": "981573c1",
   "metadata": {},
   "outputs": [
    {
     "data": {
      "text/plain": [
       "GridSearchCV(cv=5,\n",
       "             estimator=GradientBoostingClassifier(learning_rate=1.0,\n",
       "                                                  max_depth=1, random_state=0),\n",
       "             param_grid={'learning_rate': [0.01, 0.1, 1],\n",
       "                         'n_estimators': [50, 100, 150]},\n",
       "             scoring='accuracy')"
      ]
     },
     "execution_count": 22,
     "metadata": {},
     "output_type": "execute_result"
    }
   ],
   "source": [
    "from sklearn.model_selection import GridSearchCV\n",
    "param={ 'n_estimators': [50, 100, 150],'learning_rate': [0.01, 0.1, 1]}\n",
    "                  #'max_depth': [3, 5, 7],'subsample': [0.5, 0.7, 1],'max_features': ['auto', 'sqrt', 'log2']\n",
    "gb_hpt=GridSearchCV(clf,param,cv=5,scoring='accuracy')\n",
    "gb_hpt.fit(x_train,y_train)"
   ]
  },
  {
   "cell_type": "code",
   "execution_count": 23,
   "id": "fbc82477",
   "metadata": {},
   "outputs": [
    {
     "data": {
      "text/plain": [
       "GradientBoostingClassifier(learning_rate=1, max_depth=1, n_estimators=150,\n",
       "                           random_state=0)"
      ]
     },
     "execution_count": 23,
     "metadata": {},
     "output_type": "execute_result"
    }
   ],
   "source": [
    "gb_hpt.best_estimator_"
   ]
  },
  {
   "cell_type": "code",
   "execution_count": 24,
   "id": "00e259aa",
   "metadata": {},
   "outputs": [
    {
     "data": {
      "text/plain": [
       "8"
      ]
     },
     "execution_count": 24,
     "metadata": {},
     "output_type": "execute_result"
    }
   ],
   "source": [
    "gb_hpt.best_index_"
   ]
  },
  {
   "cell_type": "code",
   "execution_count": 25,
   "id": "c47abb84",
   "metadata": {},
   "outputs": [
    {
     "data": {
      "text/plain": [
       "{'learning_rate': 1, 'n_estimators': 150}"
      ]
     },
     "execution_count": 25,
     "metadata": {},
     "output_type": "execute_result"
    }
   ],
   "source": [
    "gb_hpt.best_params_"
   ]
  },
  {
   "cell_type": "code",
   "execution_count": 26,
   "id": "731ce1a4",
   "metadata": {},
   "outputs": [
    {
     "data": {
      "text/plain": [
       "0.9279999999999999"
      ]
     },
     "execution_count": 26,
     "metadata": {},
     "output_type": "execute_result"
    }
   ],
   "source": [
    "gb_hpt.best_score_"
   ]
  },
  {
   "cell_type": "code",
   "execution_count": 27,
   "id": "6b65007a",
   "metadata": {},
   "outputs": [
    {
     "data": {
      "text/plain": [
       "{'mean_fit_time': array([0.2149682 , 0.43288875, 0.64303236, 0.21127486, 0.4440331 ,\n",
       "        0.66105561, 0.23067775, 0.43526249, 0.68083014]),\n",
       " 'std_fit_time': array([0.00694552, 0.00533132, 0.01835879, 0.01612424, 0.005432  ,\n",
       "        0.01274041, 0.0050277 , 0.00680344, 0.00611431]),\n",
       " 'mean_score_time': array([0.00162783, 0.00181689, 0.00219922, 0.0014451 , 0.00201812,\n",
       "        0.00190969, 0.00160265, 0.00198507, 0.00221539]),\n",
       " 'std_score_time': array([5.07309126e-04, 4.09971062e-04, 4.46504810e-04, 8.36035305e-04,\n",
       "        6.14279602e-04, 1.82481562e-04, 4.89502572e-04, 2.37242660e-05,\n",
       "        3.50460130e-04]),\n",
       " 'param_learning_rate': masked_array(data=[0.01, 0.01, 0.01, 0.1, 0.1, 0.1, 1, 1, 1],\n",
       "              mask=[False, False, False, False, False, False, False, False,\n",
       "                    False],\n",
       "        fill_value='?',\n",
       "             dtype=object),\n",
       " 'param_n_estimators': masked_array(data=[50, 100, 150, 50, 100, 150, 50, 100, 150],\n",
       "              mask=[False, False, False, False, False, False, False, False,\n",
       "                    False],\n",
       "        fill_value='?',\n",
       "             dtype=object),\n",
       " 'params': [{'learning_rate': 0.01, 'n_estimators': 50},\n",
       "  {'learning_rate': 0.01, 'n_estimators': 100},\n",
       "  {'learning_rate': 0.01, 'n_estimators': 150},\n",
       "  {'learning_rate': 0.1, 'n_estimators': 50},\n",
       "  {'learning_rate': 0.1, 'n_estimators': 100},\n",
       "  {'learning_rate': 0.1, 'n_estimators': 150},\n",
       "  {'learning_rate': 1, 'n_estimators': 50},\n",
       "  {'learning_rate': 1, 'n_estimators': 100},\n",
       "  {'learning_rate': 1, 'n_estimators': 150}],\n",
       " 'split0_test_score': array([0.6225, 0.6575, 0.6875, 0.7675, 0.815 , 0.815 , 0.8975, 0.9025,\n",
       "        0.92  ]),\n",
       " 'split1_test_score': array([0.615 , 0.645 , 0.6875, 0.8025, 0.845 , 0.8575, 0.885 , 0.92  ,\n",
       "        0.9375]),\n",
       " 'split2_test_score': array([0.6225, 0.655 , 0.6675, 0.735 , 0.7975, 0.8475, 0.875 , 0.9125,\n",
       "        0.9375]),\n",
       " 'split3_test_score': array([0.605 , 0.6625, 0.705 , 0.7725, 0.8175, 0.855 , 0.89  , 0.9075,\n",
       "        0.925 ]),\n",
       " 'split4_test_score': array([0.6275, 0.645 , 0.6475, 0.7625, 0.8175, 0.8525, 0.905 , 0.915 ,\n",
       "        0.92  ]),\n",
       " 'mean_test_score': array([0.6185, 0.653 , 0.679 , 0.768 , 0.8185, 0.8455, 0.8905, 0.9115,\n",
       "        0.928 ]),\n",
       " 'std_test_score': array([0.00784219, 0.00696419, 0.01972308, 0.02158703, 0.01521512,\n",
       "        0.01560449, 0.01029563, 0.00604152, 0.00796869]),\n",
       " 'rank_test_score': array([9, 8, 7, 6, 5, 4, 3, 2, 1])}"
      ]
     },
     "execution_count": 27,
     "metadata": {},
     "output_type": "execute_result"
    }
   ],
   "source": [
    "gb_hpt.cv_results_"
   ]
  },
  {
   "cell_type": "code",
   "execution_count": 28,
   "id": "9beabe9d",
   "metadata": {},
   "outputs": [
    {
     "data": {
      "text/html": [
       "<div>\n",
       "<style scoped>\n",
       "    .dataframe tbody tr th:only-of-type {\n",
       "        vertical-align: middle;\n",
       "    }\n",
       "\n",
       "    .dataframe tbody tr th {\n",
       "        vertical-align: top;\n",
       "    }\n",
       "\n",
       "    .dataframe thead th {\n",
       "        text-align: right;\n",
       "    }\n",
       "</style>\n",
       "<table border=\"1\" class=\"dataframe\">\n",
       "  <thead>\n",
       "    <tr style=\"text-align: right;\">\n",
       "      <th></th>\n",
       "      <th>mean_fit_time</th>\n",
       "      <th>std_fit_time</th>\n",
       "      <th>mean_score_time</th>\n",
       "      <th>std_score_time</th>\n",
       "      <th>param_learning_rate</th>\n",
       "      <th>param_n_estimators</th>\n",
       "      <th>params</th>\n",
       "      <th>split0_test_score</th>\n",
       "      <th>split1_test_score</th>\n",
       "      <th>split2_test_score</th>\n",
       "      <th>split3_test_score</th>\n",
       "      <th>split4_test_score</th>\n",
       "      <th>mean_test_score</th>\n",
       "      <th>std_test_score</th>\n",
       "      <th>rank_test_score</th>\n",
       "    </tr>\n",
       "  </thead>\n",
       "  <tbody>\n",
       "    <tr>\n",
       "      <th>0</th>\n",
       "      <td>0.214968</td>\n",
       "      <td>0.006946</td>\n",
       "      <td>0.001628</td>\n",
       "      <td>0.000507</td>\n",
       "      <td>0.01</td>\n",
       "      <td>50</td>\n",
       "      <td>{'learning_rate': 0.01, 'n_estimators': 50}</td>\n",
       "      <td>0.6225</td>\n",
       "      <td>0.6150</td>\n",
       "      <td>0.6225</td>\n",
       "      <td>0.6050</td>\n",
       "      <td>0.6275</td>\n",
       "      <td>0.6185</td>\n",
       "      <td>0.007842</td>\n",
       "      <td>9</td>\n",
       "    </tr>\n",
       "    <tr>\n",
       "      <th>1</th>\n",
       "      <td>0.432889</td>\n",
       "      <td>0.005331</td>\n",
       "      <td>0.001817</td>\n",
       "      <td>0.000410</td>\n",
       "      <td>0.01</td>\n",
       "      <td>100</td>\n",
       "      <td>{'learning_rate': 0.01, 'n_estimators': 100}</td>\n",
       "      <td>0.6575</td>\n",
       "      <td>0.6450</td>\n",
       "      <td>0.6550</td>\n",
       "      <td>0.6625</td>\n",
       "      <td>0.6450</td>\n",
       "      <td>0.6530</td>\n",
       "      <td>0.006964</td>\n",
       "      <td>8</td>\n",
       "    </tr>\n",
       "    <tr>\n",
       "      <th>2</th>\n",
       "      <td>0.643032</td>\n",
       "      <td>0.018359</td>\n",
       "      <td>0.002199</td>\n",
       "      <td>0.000447</td>\n",
       "      <td>0.01</td>\n",
       "      <td>150</td>\n",
       "      <td>{'learning_rate': 0.01, 'n_estimators': 150}</td>\n",
       "      <td>0.6875</td>\n",
       "      <td>0.6875</td>\n",
       "      <td>0.6675</td>\n",
       "      <td>0.7050</td>\n",
       "      <td>0.6475</td>\n",
       "      <td>0.6790</td>\n",
       "      <td>0.019723</td>\n",
       "      <td>7</td>\n",
       "    </tr>\n",
       "    <tr>\n",
       "      <th>3</th>\n",
       "      <td>0.211275</td>\n",
       "      <td>0.016124</td>\n",
       "      <td>0.001445</td>\n",
       "      <td>0.000836</td>\n",
       "      <td>0.1</td>\n",
       "      <td>50</td>\n",
       "      <td>{'learning_rate': 0.1, 'n_estimators': 50}</td>\n",
       "      <td>0.7675</td>\n",
       "      <td>0.8025</td>\n",
       "      <td>0.7350</td>\n",
       "      <td>0.7725</td>\n",
       "      <td>0.7625</td>\n",
       "      <td>0.7680</td>\n",
       "      <td>0.021587</td>\n",
       "      <td>6</td>\n",
       "    </tr>\n",
       "    <tr>\n",
       "      <th>4</th>\n",
       "      <td>0.444033</td>\n",
       "      <td>0.005432</td>\n",
       "      <td>0.002018</td>\n",
       "      <td>0.000614</td>\n",
       "      <td>0.1</td>\n",
       "      <td>100</td>\n",
       "      <td>{'learning_rate': 0.1, 'n_estimators': 100}</td>\n",
       "      <td>0.8150</td>\n",
       "      <td>0.8450</td>\n",
       "      <td>0.7975</td>\n",
       "      <td>0.8175</td>\n",
       "      <td>0.8175</td>\n",
       "      <td>0.8185</td>\n",
       "      <td>0.015215</td>\n",
       "      <td>5</td>\n",
       "    </tr>\n",
       "    <tr>\n",
       "      <th>5</th>\n",
       "      <td>0.661056</td>\n",
       "      <td>0.012740</td>\n",
       "      <td>0.001910</td>\n",
       "      <td>0.000182</td>\n",
       "      <td>0.1</td>\n",
       "      <td>150</td>\n",
       "      <td>{'learning_rate': 0.1, 'n_estimators': 150}</td>\n",
       "      <td>0.8150</td>\n",
       "      <td>0.8575</td>\n",
       "      <td>0.8475</td>\n",
       "      <td>0.8550</td>\n",
       "      <td>0.8525</td>\n",
       "      <td>0.8455</td>\n",
       "      <td>0.015604</td>\n",
       "      <td>4</td>\n",
       "    </tr>\n",
       "    <tr>\n",
       "      <th>6</th>\n",
       "      <td>0.230678</td>\n",
       "      <td>0.005028</td>\n",
       "      <td>0.001603</td>\n",
       "      <td>0.000490</td>\n",
       "      <td>1</td>\n",
       "      <td>50</td>\n",
       "      <td>{'learning_rate': 1, 'n_estimators': 50}</td>\n",
       "      <td>0.8975</td>\n",
       "      <td>0.8850</td>\n",
       "      <td>0.8750</td>\n",
       "      <td>0.8900</td>\n",
       "      <td>0.9050</td>\n",
       "      <td>0.8905</td>\n",
       "      <td>0.010296</td>\n",
       "      <td>3</td>\n",
       "    </tr>\n",
       "    <tr>\n",
       "      <th>7</th>\n",
       "      <td>0.435262</td>\n",
       "      <td>0.006803</td>\n",
       "      <td>0.001985</td>\n",
       "      <td>0.000024</td>\n",
       "      <td>1</td>\n",
       "      <td>100</td>\n",
       "      <td>{'learning_rate': 1, 'n_estimators': 100}</td>\n",
       "      <td>0.9025</td>\n",
       "      <td>0.9200</td>\n",
       "      <td>0.9125</td>\n",
       "      <td>0.9075</td>\n",
       "      <td>0.9150</td>\n",
       "      <td>0.9115</td>\n",
       "      <td>0.006042</td>\n",
       "      <td>2</td>\n",
       "    </tr>\n",
       "    <tr>\n",
       "      <th>8</th>\n",
       "      <td>0.680830</td>\n",
       "      <td>0.006114</td>\n",
       "      <td>0.002215</td>\n",
       "      <td>0.000350</td>\n",
       "      <td>1</td>\n",
       "      <td>150</td>\n",
       "      <td>{'learning_rate': 1, 'n_estimators': 150}</td>\n",
       "      <td>0.9200</td>\n",
       "      <td>0.9375</td>\n",
       "      <td>0.9375</td>\n",
       "      <td>0.9250</td>\n",
       "      <td>0.9200</td>\n",
       "      <td>0.9280</td>\n",
       "      <td>0.007969</td>\n",
       "      <td>1</td>\n",
       "    </tr>\n",
       "  </tbody>\n",
       "</table>\n",
       "</div>"
      ],
      "text/plain": [
       "   mean_fit_time  std_fit_time  mean_score_time  std_score_time  \\\n",
       "0       0.214968      0.006946         0.001628        0.000507   \n",
       "1       0.432889      0.005331         0.001817        0.000410   \n",
       "2       0.643032      0.018359         0.002199        0.000447   \n",
       "3       0.211275      0.016124         0.001445        0.000836   \n",
       "4       0.444033      0.005432         0.002018        0.000614   \n",
       "5       0.661056      0.012740         0.001910        0.000182   \n",
       "6       0.230678      0.005028         0.001603        0.000490   \n",
       "7       0.435262      0.006803         0.001985        0.000024   \n",
       "8       0.680830      0.006114         0.002215        0.000350   \n",
       "\n",
       "  param_learning_rate param_n_estimators  \\\n",
       "0                0.01                 50   \n",
       "1                0.01                100   \n",
       "2                0.01                150   \n",
       "3                 0.1                 50   \n",
       "4                 0.1                100   \n",
       "5                 0.1                150   \n",
       "6                   1                 50   \n",
       "7                   1                100   \n",
       "8                   1                150   \n",
       "\n",
       "                                         params  split0_test_score  \\\n",
       "0   {'learning_rate': 0.01, 'n_estimators': 50}             0.6225   \n",
       "1  {'learning_rate': 0.01, 'n_estimators': 100}             0.6575   \n",
       "2  {'learning_rate': 0.01, 'n_estimators': 150}             0.6875   \n",
       "3    {'learning_rate': 0.1, 'n_estimators': 50}             0.7675   \n",
       "4   {'learning_rate': 0.1, 'n_estimators': 100}             0.8150   \n",
       "5   {'learning_rate': 0.1, 'n_estimators': 150}             0.8150   \n",
       "6      {'learning_rate': 1, 'n_estimators': 50}             0.8975   \n",
       "7     {'learning_rate': 1, 'n_estimators': 100}             0.9025   \n",
       "8     {'learning_rate': 1, 'n_estimators': 150}             0.9200   \n",
       "\n",
       "   split1_test_score  split2_test_score  split3_test_score  split4_test_score  \\\n",
       "0             0.6150             0.6225             0.6050             0.6275   \n",
       "1             0.6450             0.6550             0.6625             0.6450   \n",
       "2             0.6875             0.6675             0.7050             0.6475   \n",
       "3             0.8025             0.7350             0.7725             0.7625   \n",
       "4             0.8450             0.7975             0.8175             0.8175   \n",
       "5             0.8575             0.8475             0.8550             0.8525   \n",
       "6             0.8850             0.8750             0.8900             0.9050   \n",
       "7             0.9200             0.9125             0.9075             0.9150   \n",
       "8             0.9375             0.9375             0.9250             0.9200   \n",
       "\n",
       "   mean_test_score  std_test_score  rank_test_score  \n",
       "0           0.6185        0.007842                9  \n",
       "1           0.6530        0.006964                8  \n",
       "2           0.6790        0.019723                7  \n",
       "3           0.7680        0.021587                6  \n",
       "4           0.8185        0.015215                5  \n",
       "5           0.8455        0.015604                4  \n",
       "6           0.8905        0.010296                3  \n",
       "7           0.9115        0.006042                2  \n",
       "8           0.9280        0.007969                1  "
      ]
     },
     "execution_count": 28,
     "metadata": {},
     "output_type": "execute_result"
    }
   ],
   "source": [
    "import pandas as pd\n",
    "data=pd.DataFrame(gb_hpt.cv_results_)\n",
    "data"
   ]
  },
  {
   "cell_type": "code",
   "execution_count": 29,
   "id": "5d4039ac",
   "metadata": {},
   "outputs": [
    {
     "data": {
      "text/html": [
       "<div>\n",
       "<style scoped>\n",
       "    .dataframe tbody tr th:only-of-type {\n",
       "        vertical-align: middle;\n",
       "    }\n",
       "\n",
       "    .dataframe tbody tr th {\n",
       "        vertical-align: top;\n",
       "    }\n",
       "\n",
       "    .dataframe thead th {\n",
       "        text-align: right;\n",
       "    }\n",
       "</style>\n",
       "<table border=\"1\" class=\"dataframe\">\n",
       "  <thead>\n",
       "    <tr style=\"text-align: right;\">\n",
       "      <th></th>\n",
       "      <th>mean_fit_time</th>\n",
       "      <th>std_fit_time</th>\n",
       "      <th>mean_score_time</th>\n",
       "      <th>std_score_time</th>\n",
       "      <th>param_learning_rate</th>\n",
       "      <th>param_n_estimators</th>\n",
       "      <th>params</th>\n",
       "      <th>split0_test_score</th>\n",
       "      <th>split1_test_score</th>\n",
       "      <th>split2_test_score</th>\n",
       "      <th>split3_test_score</th>\n",
       "      <th>split4_test_score</th>\n",
       "      <th>mean_test_score</th>\n",
       "      <th>std_test_score</th>\n",
       "      <th>rank_test_score</th>\n",
       "    </tr>\n",
       "  </thead>\n",
       "  <tbody>\n",
       "    <tr>\n",
       "      <th>0</th>\n",
       "      <td>0.214968</td>\n",
       "      <td>0.006946</td>\n",
       "      <td>0.001628</td>\n",
       "      <td>0.000507</td>\n",
       "      <td>0.01</td>\n",
       "      <td>50</td>\n",
       "      <td>{'learning_rate': 0.01, 'n_estimators': 50}</td>\n",
       "      <td>0.6225</td>\n",
       "      <td>0.6150</td>\n",
       "      <td>0.6225</td>\n",
       "      <td>0.6050</td>\n",
       "      <td>0.6275</td>\n",
       "      <td>0.6185</td>\n",
       "      <td>0.007842</td>\n",
       "      <td>9</td>\n",
       "    </tr>\n",
       "    <tr>\n",
       "      <th>1</th>\n",
       "      <td>0.432889</td>\n",
       "      <td>0.005331</td>\n",
       "      <td>0.001817</td>\n",
       "      <td>0.000410</td>\n",
       "      <td>0.01</td>\n",
       "      <td>100</td>\n",
       "      <td>{'learning_rate': 0.01, 'n_estimators': 100}</td>\n",
       "      <td>0.6575</td>\n",
       "      <td>0.6450</td>\n",
       "      <td>0.6550</td>\n",
       "      <td>0.6625</td>\n",
       "      <td>0.6450</td>\n",
       "      <td>0.6530</td>\n",
       "      <td>0.006964</td>\n",
       "      <td>8</td>\n",
       "    </tr>\n",
       "    <tr>\n",
       "      <th>2</th>\n",
       "      <td>0.643032</td>\n",
       "      <td>0.018359</td>\n",
       "      <td>0.002199</td>\n",
       "      <td>0.000447</td>\n",
       "      <td>0.01</td>\n",
       "      <td>150</td>\n",
       "      <td>{'learning_rate': 0.01, 'n_estimators': 150}</td>\n",
       "      <td>0.6875</td>\n",
       "      <td>0.6875</td>\n",
       "      <td>0.6675</td>\n",
       "      <td>0.7050</td>\n",
       "      <td>0.6475</td>\n",
       "      <td>0.6790</td>\n",
       "      <td>0.019723</td>\n",
       "      <td>7</td>\n",
       "    </tr>\n",
       "    <tr>\n",
       "      <th>3</th>\n",
       "      <td>0.211275</td>\n",
       "      <td>0.016124</td>\n",
       "      <td>0.001445</td>\n",
       "      <td>0.000836</td>\n",
       "      <td>0.1</td>\n",
       "      <td>50</td>\n",
       "      <td>{'learning_rate': 0.1, 'n_estimators': 50}</td>\n",
       "      <td>0.7675</td>\n",
       "      <td>0.8025</td>\n",
       "      <td>0.7350</td>\n",
       "      <td>0.7725</td>\n",
       "      <td>0.7625</td>\n",
       "      <td>0.7680</td>\n",
       "      <td>0.021587</td>\n",
       "      <td>6</td>\n",
       "    </tr>\n",
       "    <tr>\n",
       "      <th>4</th>\n",
       "      <td>0.444033</td>\n",
       "      <td>0.005432</td>\n",
       "      <td>0.002018</td>\n",
       "      <td>0.000614</td>\n",
       "      <td>0.1</td>\n",
       "      <td>100</td>\n",
       "      <td>{'learning_rate': 0.1, 'n_estimators': 100}</td>\n",
       "      <td>0.8150</td>\n",
       "      <td>0.8450</td>\n",
       "      <td>0.7975</td>\n",
       "      <td>0.8175</td>\n",
       "      <td>0.8175</td>\n",
       "      <td>0.8185</td>\n",
       "      <td>0.015215</td>\n",
       "      <td>5</td>\n",
       "    </tr>\n",
       "  </tbody>\n",
       "</table>\n",
       "</div>"
      ],
      "text/plain": [
       "   mean_fit_time  std_fit_time  mean_score_time  std_score_time  \\\n",
       "0       0.214968      0.006946         0.001628        0.000507   \n",
       "1       0.432889      0.005331         0.001817        0.000410   \n",
       "2       0.643032      0.018359         0.002199        0.000447   \n",
       "3       0.211275      0.016124         0.001445        0.000836   \n",
       "4       0.444033      0.005432         0.002018        0.000614   \n",
       "\n",
       "  param_learning_rate param_n_estimators  \\\n",
       "0                0.01                 50   \n",
       "1                0.01                100   \n",
       "2                0.01                150   \n",
       "3                 0.1                 50   \n",
       "4                 0.1                100   \n",
       "\n",
       "                                         params  split0_test_score  \\\n",
       "0   {'learning_rate': 0.01, 'n_estimators': 50}             0.6225   \n",
       "1  {'learning_rate': 0.01, 'n_estimators': 100}             0.6575   \n",
       "2  {'learning_rate': 0.01, 'n_estimators': 150}             0.6875   \n",
       "3    {'learning_rate': 0.1, 'n_estimators': 50}             0.7675   \n",
       "4   {'learning_rate': 0.1, 'n_estimators': 100}             0.8150   \n",
       "\n",
       "   split1_test_score  split2_test_score  split3_test_score  split4_test_score  \\\n",
       "0             0.6150             0.6225             0.6050             0.6275   \n",
       "1             0.6450             0.6550             0.6625             0.6450   \n",
       "2             0.6875             0.6675             0.7050             0.6475   \n",
       "3             0.8025             0.7350             0.7725             0.7625   \n",
       "4             0.8450             0.7975             0.8175             0.8175   \n",
       "\n",
       "   mean_test_score  std_test_score  rank_test_score  \n",
       "0           0.6185        0.007842                9  \n",
       "1           0.6530        0.006964                8  \n",
       "2           0.6790        0.019723                7  \n",
       "3           0.7680        0.021587                6  \n",
       "4           0.8185        0.015215                5  "
      ]
     },
     "execution_count": 29,
     "metadata": {},
     "output_type": "execute_result"
    }
   ],
   "source": [
    "data.head()"
   ]
  },
  {
   "cell_type": "code",
   "execution_count": null,
   "id": "93817f7d",
   "metadata": {},
   "outputs": [],
   "source": []
  },
  {
   "cell_type": "code",
   "execution_count": null,
   "id": "2ac2a7fc",
   "metadata": {},
   "outputs": [],
   "source": []
  },
  {
   "cell_type": "code",
   "execution_count": null,
   "id": "13a132cd",
   "metadata": {},
   "outputs": [],
   "source": []
  },
  {
   "cell_type": "code",
   "execution_count": null,
   "id": "b999115b",
   "metadata": {},
   "outputs": [],
   "source": []
  },
  {
   "cell_type": "code",
   "execution_count": null,
   "id": "f3d0bd05",
   "metadata": {},
   "outputs": [],
   "source": []
  },
  {
   "cell_type": "code",
   "execution_count": null,
   "id": "72d0c74e",
   "metadata": {},
   "outputs": [],
   "source": []
  },
  {
   "cell_type": "code",
   "execution_count": null,
   "id": "c5a612d9",
   "metadata": {},
   "outputs": [],
   "source": []
  },
  {
   "cell_type": "code",
   "execution_count": null,
   "id": "6c190972",
   "metadata": {},
   "outputs": [],
   "source": []
  },
  {
   "cell_type": "code",
   "execution_count": null,
   "id": "20c6162f",
   "metadata": {},
   "outputs": [],
   "source": []
  },
  {
   "cell_type": "code",
   "execution_count": null,
   "id": "724101ae",
   "metadata": {},
   "outputs": [],
   "source": []
  },
  {
   "cell_type": "code",
   "execution_count": null,
   "id": "83043ef2",
   "metadata": {},
   "outputs": [],
   "source": []
  },
  {
   "cell_type": "code",
   "execution_count": null,
   "id": "8c603481",
   "metadata": {},
   "outputs": [],
   "source": []
  },
  {
   "cell_type": "code",
   "execution_count": null,
   "id": "b433c2d6",
   "metadata": {},
   "outputs": [],
   "source": []
  }
 ],
 "metadata": {
  "kernelspec": {
   "display_name": "Python 3 (ipykernel)",
   "language": "python",
   "name": "python3"
  },
  "language_info": {
   "codemirror_mode": {
    "name": "ipython",
    "version": 3
   },
   "file_extension": ".py",
   "mimetype": "text/x-python",
   "name": "python",
   "nbconvert_exporter": "python",
   "pygments_lexer": "ipython3",
   "version": "3.9.12"
  }
 },
 "nbformat": 4,
 "nbformat_minor": 5
}

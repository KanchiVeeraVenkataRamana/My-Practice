{
 "cells": [
  {
   "cell_type": "code",
   "execution_count": 3,
   "id": "6b618cd9",
   "metadata": {},
   "outputs": [
    {
     "data": {
      "text/plain": [
       "{'data': array([[1.423e+01, 1.710e+00, 2.430e+00, ..., 1.040e+00, 3.920e+00,\n",
       "         1.065e+03],\n",
       "        [1.320e+01, 1.780e+00, 2.140e+00, ..., 1.050e+00, 3.400e+00,\n",
       "         1.050e+03],\n",
       "        [1.316e+01, 2.360e+00, 2.670e+00, ..., 1.030e+00, 3.170e+00,\n",
       "         1.185e+03],\n",
       "        ...,\n",
       "        [1.327e+01, 4.280e+00, 2.260e+00, ..., 5.900e-01, 1.560e+00,\n",
       "         8.350e+02],\n",
       "        [1.317e+01, 2.590e+00, 2.370e+00, ..., 6.000e-01, 1.620e+00,\n",
       "         8.400e+02],\n",
       "        [1.413e+01, 4.100e+00, 2.740e+00, ..., 6.100e-01, 1.600e+00,\n",
       "         5.600e+02]]),\n",
       " 'target': array([0, 0, 0, 0, 0, 0, 0, 0, 0, 0, 0, 0, 0, 0, 0, 0, 0, 0, 0, 0, 0, 0,\n",
       "        0, 0, 0, 0, 0, 0, 0, 0, 0, 0, 0, 0, 0, 0, 0, 0, 0, 0, 0, 0, 0, 0,\n",
       "        0, 0, 0, 0, 0, 0, 0, 0, 0, 0, 0, 0, 0, 0, 0, 1, 1, 1, 1, 1, 1, 1,\n",
       "        1, 1, 1, 1, 1, 1, 1, 1, 1, 1, 1, 1, 1, 1, 1, 1, 1, 1, 1, 1, 1, 1,\n",
       "        1, 1, 1, 1, 1, 1, 1, 1, 1, 1, 1, 1, 1, 1, 1, 1, 1, 1, 1, 1, 1, 1,\n",
       "        1, 1, 1, 1, 1, 1, 1, 1, 1, 1, 1, 1, 1, 1, 1, 1, 1, 1, 1, 1, 2, 2,\n",
       "        2, 2, 2, 2, 2, 2, 2, 2, 2, 2, 2, 2, 2, 2, 2, 2, 2, 2, 2, 2, 2, 2,\n",
       "        2, 2, 2, 2, 2, 2, 2, 2, 2, 2, 2, 2, 2, 2, 2, 2, 2, 2, 2, 2, 2, 2,\n",
       "        2, 2]),\n",
       " 'frame': None,\n",
       " 'target_names': array(['class_0', 'class_1', 'class_2'], dtype='<U7'),\n",
       " 'DESCR': '.. _wine_dataset:\\n\\nWine recognition dataset\\n------------------------\\n\\n**Data Set Characteristics:**\\n\\n    :Number of Instances: 178 (50 in each of three classes)\\n    :Number of Attributes: 13 numeric, predictive attributes and the class\\n    :Attribute Information:\\n \\t\\t- Alcohol\\n \\t\\t- Malic acid\\n \\t\\t- Ash\\n\\t\\t- Alcalinity of ash  \\n \\t\\t- Magnesium\\n\\t\\t- Total phenols\\n \\t\\t- Flavanoids\\n \\t\\t- Nonflavanoid phenols\\n \\t\\t- Proanthocyanins\\n\\t\\t- Color intensity\\n \\t\\t- Hue\\n \\t\\t- OD280/OD315 of diluted wines\\n \\t\\t- Proline\\n\\n    - class:\\n            - class_0\\n            - class_1\\n            - class_2\\n\\t\\t\\n    :Summary Statistics:\\n    \\n    ============================= ==== ===== ======= =====\\n                                   Min   Max   Mean     SD\\n    ============================= ==== ===== ======= =====\\n    Alcohol:                      11.0  14.8    13.0   0.8\\n    Malic Acid:                   0.74  5.80    2.34  1.12\\n    Ash:                          1.36  3.23    2.36  0.27\\n    Alcalinity of Ash:            10.6  30.0    19.5   3.3\\n    Magnesium:                    70.0 162.0    99.7  14.3\\n    Total Phenols:                0.98  3.88    2.29  0.63\\n    Flavanoids:                   0.34  5.08    2.03  1.00\\n    Nonflavanoid Phenols:         0.13  0.66    0.36  0.12\\n    Proanthocyanins:              0.41  3.58    1.59  0.57\\n    Colour Intensity:              1.3  13.0     5.1   2.3\\n    Hue:                          0.48  1.71    0.96  0.23\\n    OD280/OD315 of diluted wines: 1.27  4.00    2.61  0.71\\n    Proline:                       278  1680     746   315\\n    ============================= ==== ===== ======= =====\\n\\n    :Missing Attribute Values: None\\n    :Class Distribution: class_0 (59), class_1 (71), class_2 (48)\\n    :Creator: R.A. Fisher\\n    :Donor: Michael Marshall (MARSHALL%PLU@io.arc.nasa.gov)\\n    :Date: July, 1988\\n\\nThis is a copy of UCI ML Wine recognition datasets.\\nhttps://archive.ics.uci.edu/ml/machine-learning-databases/wine/wine.data\\n\\nThe data is the results of a chemical analysis of wines grown in the same\\nregion in Italy by three different cultivators. There are thirteen different\\nmeasurements taken for different constituents found in the three types of\\nwine.\\n\\nOriginal Owners: \\n\\nForina, M. et al, PARVUS - \\nAn Extendible Package for Data Exploration, Classification and Correlation. \\nInstitute of Pharmaceutical and Food Analysis and Technologies,\\nVia Brigata Salerno, 16147 Genoa, Italy.\\n\\nCitation:\\n\\nLichman, M. (2013). UCI Machine Learning Repository\\n[https://archive.ics.uci.edu/ml]. Irvine, CA: University of California,\\nSchool of Information and Computer Science. \\n\\n.. topic:: References\\n\\n  (1) S. Aeberhard, D. Coomans and O. de Vel, \\n  Comparison of Classifiers in High Dimensional Settings, \\n  Tech. Rep. no. 92-02, (1992), Dept. of Computer Science and Dept. of  \\n  Mathematics and Statistics, James Cook University of North Queensland. \\n  (Also submitted to Technometrics). \\n\\n  The data was used with many others for comparing various \\n  classifiers. The classes are separable, though only RDA \\n  has achieved 100% correct classification. \\n  (RDA : 100%, QDA 99.4%, LDA 98.9%, 1NN 96.1% (z-transformed data)) \\n  (All results using the leave-one-out technique) \\n\\n  (2) S. Aeberhard, D. Coomans and O. de Vel, \\n  \"THE CLASSIFICATION PERFORMANCE OF RDA\" \\n  Tech. Rep. no. 92-01, (1992), Dept. of Computer Science and Dept. of \\n  Mathematics and Statistics, James Cook University of North Queensland. \\n  (Also submitted to Journal of Chemometrics).\\n',\n",
       " 'feature_names': ['alcohol',\n",
       "  'malic_acid',\n",
       "  'ash',\n",
       "  'alcalinity_of_ash',\n",
       "  'magnesium',\n",
       "  'total_phenols',\n",
       "  'flavanoids',\n",
       "  'nonflavanoid_phenols',\n",
       "  'proanthocyanins',\n",
       "  'color_intensity',\n",
       "  'hue',\n",
       "  'od280/od315_of_diluted_wines',\n",
       "  'proline']}"
      ]
     },
     "execution_count": 3,
     "metadata": {},
     "output_type": "execute_result"
    }
   ],
   "source": [
    "from sklearn import datasets\n",
    "df=datasets.load_wine()\n",
    "df"
   ]
  },
  {
   "cell_type": "code",
   "execution_count": 5,
   "id": "6847407a",
   "metadata": {},
   "outputs": [
    {
     "data": {
      "text/html": [
       "<div>\n",
       "<style scoped>\n",
       "    .dataframe tbody tr th:only-of-type {\n",
       "        vertical-align: middle;\n",
       "    }\n",
       "\n",
       "    .dataframe tbody tr th {\n",
       "        vertical-align: top;\n",
       "    }\n",
       "\n",
       "    .dataframe thead th {\n",
       "        text-align: right;\n",
       "    }\n",
       "</style>\n",
       "<table border=\"1\" class=\"dataframe\">\n",
       "  <thead>\n",
       "    <tr style=\"text-align: right;\">\n",
       "      <th></th>\n",
       "      <th>alcohol</th>\n",
       "      <th>malic_acid</th>\n",
       "      <th>ash</th>\n",
       "      <th>alcalinity_of_ash</th>\n",
       "      <th>magnesium</th>\n",
       "      <th>total_phenols</th>\n",
       "      <th>flavanoids</th>\n",
       "      <th>nonflavanoid_phenols</th>\n",
       "      <th>proanthocyanins</th>\n",
       "      <th>color_intensity</th>\n",
       "      <th>hue</th>\n",
       "      <th>od280/od315_of_diluted_wines</th>\n",
       "      <th>proline</th>\n",
       "    </tr>\n",
       "  </thead>\n",
       "  <tbody>\n",
       "    <tr>\n",
       "      <th>0</th>\n",
       "      <td>14.23</td>\n",
       "      <td>1.71</td>\n",
       "      <td>2.43</td>\n",
       "      <td>15.6</td>\n",
       "      <td>127.0</td>\n",
       "      <td>2.80</td>\n",
       "      <td>3.06</td>\n",
       "      <td>0.28</td>\n",
       "      <td>2.29</td>\n",
       "      <td>5.64</td>\n",
       "      <td>1.04</td>\n",
       "      <td>3.92</td>\n",
       "      <td>1065.0</td>\n",
       "    </tr>\n",
       "    <tr>\n",
       "      <th>1</th>\n",
       "      <td>13.20</td>\n",
       "      <td>1.78</td>\n",
       "      <td>2.14</td>\n",
       "      <td>11.2</td>\n",
       "      <td>100.0</td>\n",
       "      <td>2.65</td>\n",
       "      <td>2.76</td>\n",
       "      <td>0.26</td>\n",
       "      <td>1.28</td>\n",
       "      <td>4.38</td>\n",
       "      <td>1.05</td>\n",
       "      <td>3.40</td>\n",
       "      <td>1050.0</td>\n",
       "    </tr>\n",
       "    <tr>\n",
       "      <th>2</th>\n",
       "      <td>13.16</td>\n",
       "      <td>2.36</td>\n",
       "      <td>2.67</td>\n",
       "      <td>18.6</td>\n",
       "      <td>101.0</td>\n",
       "      <td>2.80</td>\n",
       "      <td>3.24</td>\n",
       "      <td>0.30</td>\n",
       "      <td>2.81</td>\n",
       "      <td>5.68</td>\n",
       "      <td>1.03</td>\n",
       "      <td>3.17</td>\n",
       "      <td>1185.0</td>\n",
       "    </tr>\n",
       "    <tr>\n",
       "      <th>3</th>\n",
       "      <td>14.37</td>\n",
       "      <td>1.95</td>\n",
       "      <td>2.50</td>\n",
       "      <td>16.8</td>\n",
       "      <td>113.0</td>\n",
       "      <td>3.85</td>\n",
       "      <td>3.49</td>\n",
       "      <td>0.24</td>\n",
       "      <td>2.18</td>\n",
       "      <td>7.80</td>\n",
       "      <td>0.86</td>\n",
       "      <td>3.45</td>\n",
       "      <td>1480.0</td>\n",
       "    </tr>\n",
       "    <tr>\n",
       "      <th>4</th>\n",
       "      <td>13.24</td>\n",
       "      <td>2.59</td>\n",
       "      <td>2.87</td>\n",
       "      <td>21.0</td>\n",
       "      <td>118.0</td>\n",
       "      <td>2.80</td>\n",
       "      <td>2.69</td>\n",
       "      <td>0.39</td>\n",
       "      <td>1.82</td>\n",
       "      <td>4.32</td>\n",
       "      <td>1.04</td>\n",
       "      <td>2.93</td>\n",
       "      <td>735.0</td>\n",
       "    </tr>\n",
       "  </tbody>\n",
       "</table>\n",
       "</div>"
      ],
      "text/plain": [
       "   alcohol  malic_acid   ash  alcalinity_of_ash  magnesium  total_phenols  \\\n",
       "0    14.23        1.71  2.43               15.6      127.0           2.80   \n",
       "1    13.20        1.78  2.14               11.2      100.0           2.65   \n",
       "2    13.16        2.36  2.67               18.6      101.0           2.80   \n",
       "3    14.37        1.95  2.50               16.8      113.0           3.85   \n",
       "4    13.24        2.59  2.87               21.0      118.0           2.80   \n",
       "\n",
       "   flavanoids  nonflavanoid_phenols  proanthocyanins  color_intensity   hue  \\\n",
       "0        3.06                  0.28             2.29             5.64  1.04   \n",
       "1        2.76                  0.26             1.28             4.38  1.05   \n",
       "2        3.24                  0.30             2.81             5.68  1.03   \n",
       "3        3.49                  0.24             2.18             7.80  0.86   \n",
       "4        2.69                  0.39             1.82             4.32  1.04   \n",
       "\n",
       "   od280/od315_of_diluted_wines  proline  \n",
       "0                          3.92   1065.0  \n",
       "1                          3.40   1050.0  \n",
       "2                          3.17   1185.0  \n",
       "3                          3.45   1480.0  \n",
       "4                          2.93    735.0  "
      ]
     },
     "execution_count": 5,
     "metadata": {},
     "output_type": "execute_result"
    }
   ],
   "source": [
    "import pandas as pd\n",
    "x=pd.DataFrame(df.data,columns=df.feature_names)\n",
    "y=pd.Series(df.target)\n",
    "x.head()"
   ]
  },
  {
   "cell_type": "code",
   "execution_count": 6,
   "id": "c3ebc9c0",
   "metadata": {},
   "outputs": [
    {
     "data": {
      "text/plain": [
       "0    0\n",
       "1    0\n",
       "2    0\n",
       "3    0\n",
       "4    0\n",
       "dtype: int32"
      ]
     },
     "execution_count": 6,
     "metadata": {},
     "output_type": "execute_result"
    }
   ],
   "source": [
    "y.head()"
   ]
  },
  {
   "cell_type": "code",
   "execution_count": 13,
   "id": "4094f995",
   "metadata": {},
   "outputs": [],
   "source": [
    "from sklearn.model_selection import train_test_split\n",
    "x_train,x_test,y_train,y_test=train_test_split(x,y,test_size=0.2,random_state=0)"
   ]
  },
  {
   "cell_type": "code",
   "execution_count": 14,
   "id": "dbca3d65",
   "metadata": {},
   "outputs": [
    {
     "name": "stdout",
     "output_type": "stream",
     "text": [
      "(142, 12)\n",
      "1704\n"
     ]
    },
    {
     "data": {
      "text/html": [
       "<div>\n",
       "<style scoped>\n",
       "    .dataframe tbody tr th:only-of-type {\n",
       "        vertical-align: middle;\n",
       "    }\n",
       "\n",
       "    .dataframe tbody tr th {\n",
       "        vertical-align: top;\n",
       "    }\n",
       "\n",
       "    .dataframe thead th {\n",
       "        text-align: right;\n",
       "    }\n",
       "</style>\n",
       "<table border=\"1\" class=\"dataframe\">\n",
       "  <thead>\n",
       "    <tr style=\"text-align: right;\">\n",
       "      <th></th>\n",
       "      <th>alcohol</th>\n",
       "      <th>malic_acid</th>\n",
       "      <th>ash</th>\n",
       "      <th>alcalinity_of_ash</th>\n",
       "      <th>total_phenols</th>\n",
       "      <th>flavanoids</th>\n",
       "      <th>nonflavanoid_phenols</th>\n",
       "      <th>proanthocyanins</th>\n",
       "      <th>color_intensity</th>\n",
       "      <th>hue</th>\n",
       "      <th>od280/od315_of_diluted_wines</th>\n",
       "      <th>proline</th>\n",
       "    </tr>\n",
       "  </thead>\n",
       "  <tbody>\n",
       "    <tr>\n",
       "      <th>161</th>\n",
       "      <td>13.69</td>\n",
       "      <td>3.26</td>\n",
       "      <td>2.54</td>\n",
       "      <td>20.0</td>\n",
       "      <td>1.83</td>\n",
       "      <td>0.56</td>\n",
       "      <td>0.50</td>\n",
       "      <td>0.80</td>\n",
       "      <td>5.88</td>\n",
       "      <td>0.96</td>\n",
       "      <td>1.82</td>\n",
       "      <td>680.0</td>\n",
       "    </tr>\n",
       "    <tr>\n",
       "      <th>92</th>\n",
       "      <td>12.69</td>\n",
       "      <td>1.53</td>\n",
       "      <td>2.26</td>\n",
       "      <td>20.7</td>\n",
       "      <td>1.38</td>\n",
       "      <td>1.46</td>\n",
       "      <td>0.58</td>\n",
       "      <td>1.62</td>\n",
       "      <td>3.05</td>\n",
       "      <td>0.96</td>\n",
       "      <td>2.06</td>\n",
       "      <td>495.0</td>\n",
       "    </tr>\n",
       "    <tr>\n",
       "      <th>94</th>\n",
       "      <td>11.62</td>\n",
       "      <td>1.99</td>\n",
       "      <td>2.28</td>\n",
       "      <td>18.0</td>\n",
       "      <td>3.02</td>\n",
       "      <td>2.26</td>\n",
       "      <td>0.17</td>\n",
       "      <td>1.35</td>\n",
       "      <td>3.25</td>\n",
       "      <td>1.16</td>\n",
       "      <td>2.96</td>\n",
       "      <td>345.0</td>\n",
       "    </tr>\n",
       "    <tr>\n",
       "      <th>174</th>\n",
       "      <td>13.40</td>\n",
       "      <td>3.91</td>\n",
       "      <td>2.48</td>\n",
       "      <td>23.0</td>\n",
       "      <td>1.80</td>\n",
       "      <td>0.75</td>\n",
       "      <td>0.43</td>\n",
       "      <td>1.41</td>\n",
       "      <td>7.30</td>\n",
       "      <td>0.70</td>\n",
       "      <td>1.56</td>\n",
       "      <td>750.0</td>\n",
       "    </tr>\n",
       "    <tr>\n",
       "      <th>24</th>\n",
       "      <td>13.50</td>\n",
       "      <td>1.81</td>\n",
       "      <td>2.61</td>\n",
       "      <td>20.0</td>\n",
       "      <td>2.53</td>\n",
       "      <td>2.61</td>\n",
       "      <td>0.28</td>\n",
       "      <td>1.66</td>\n",
       "      <td>3.52</td>\n",
       "      <td>1.12</td>\n",
       "      <td>3.82</td>\n",
       "      <td>845.0</td>\n",
       "    </tr>\n",
       "  </tbody>\n",
       "</table>\n",
       "</div>"
      ],
      "text/plain": [
       "     alcohol  malic_acid   ash  alcalinity_of_ash  total_phenols  flavanoids  \\\n",
       "161    13.69        3.26  2.54               20.0           1.83        0.56   \n",
       "92     12.69        1.53  2.26               20.7           1.38        1.46   \n",
       "94     11.62        1.99  2.28               18.0           3.02        2.26   \n",
       "174    13.40        3.91  2.48               23.0           1.80        0.75   \n",
       "24     13.50        1.81  2.61               20.0           2.53        2.61   \n",
       "\n",
       "     nonflavanoid_phenols  proanthocyanins  color_intensity   hue  \\\n",
       "161                  0.50             0.80             5.88  0.96   \n",
       "92                   0.58             1.62             3.05  0.96   \n",
       "94                   0.17             1.35             3.25  1.16   \n",
       "174                  0.43             1.41             7.30  0.70   \n",
       "24                   0.28             1.66             3.52  1.12   \n",
       "\n",
       "     od280/od315_of_diluted_wines  proline  \n",
       "161                          1.82    680.0  \n",
       "92                           2.06    495.0  \n",
       "94                           2.96    345.0  \n",
       "174                          1.56    750.0  \n",
       "24                           3.82    845.0  "
      ]
     },
     "execution_count": 14,
     "metadata": {},
     "output_type": "execute_result"
    }
   ],
   "source": [
    "print(x_train.shape)\n",
    "print(x_train.size)\n",
    "x_train.head()"
   ]
  },
  {
   "cell_type": "code",
   "execution_count": 15,
   "id": "6bfaf90a",
   "metadata": {},
   "outputs": [
    {
     "name": "stdout",
     "output_type": "stream",
     "text": [
      "(36, 12)\n",
      "432\n"
     ]
    },
    {
     "data": {
      "text/html": [
       "<div>\n",
       "<style scoped>\n",
       "    .dataframe tbody tr th:only-of-type {\n",
       "        vertical-align: middle;\n",
       "    }\n",
       "\n",
       "    .dataframe tbody tr th {\n",
       "        vertical-align: top;\n",
       "    }\n",
       "\n",
       "    .dataframe thead th {\n",
       "        text-align: right;\n",
       "    }\n",
       "</style>\n",
       "<table border=\"1\" class=\"dataframe\">\n",
       "  <thead>\n",
       "    <tr style=\"text-align: right;\">\n",
       "      <th></th>\n",
       "      <th>alcohol</th>\n",
       "      <th>malic_acid</th>\n",
       "      <th>ash</th>\n",
       "      <th>alcalinity_of_ash</th>\n",
       "      <th>total_phenols</th>\n",
       "      <th>flavanoids</th>\n",
       "      <th>nonflavanoid_phenols</th>\n",
       "      <th>proanthocyanins</th>\n",
       "      <th>color_intensity</th>\n",
       "      <th>hue</th>\n",
       "      <th>od280/od315_of_diluted_wines</th>\n",
       "      <th>proline</th>\n",
       "    </tr>\n",
       "  </thead>\n",
       "  <tbody>\n",
       "    <tr>\n",
       "      <th>54</th>\n",
       "      <td>13.74</td>\n",
       "      <td>1.67</td>\n",
       "      <td>2.25</td>\n",
       "      <td>16.4</td>\n",
       "      <td>2.60</td>\n",
       "      <td>2.90</td>\n",
       "      <td>0.21</td>\n",
       "      <td>1.62</td>\n",
       "      <td>5.85</td>\n",
       "      <td>0.92</td>\n",
       "      <td>3.20</td>\n",
       "      <td>1060.0</td>\n",
       "    </tr>\n",
       "    <tr>\n",
       "      <th>151</th>\n",
       "      <td>12.79</td>\n",
       "      <td>2.67</td>\n",
       "      <td>2.48</td>\n",
       "      <td>22.0</td>\n",
       "      <td>1.48</td>\n",
       "      <td>1.36</td>\n",
       "      <td>0.24</td>\n",
       "      <td>1.26</td>\n",
       "      <td>10.80</td>\n",
       "      <td>0.48</td>\n",
       "      <td>1.47</td>\n",
       "      <td>480.0</td>\n",
       "    </tr>\n",
       "    <tr>\n",
       "      <th>63</th>\n",
       "      <td>12.37</td>\n",
       "      <td>1.13</td>\n",
       "      <td>2.16</td>\n",
       "      <td>19.0</td>\n",
       "      <td>3.50</td>\n",
       "      <td>3.10</td>\n",
       "      <td>0.19</td>\n",
       "      <td>1.87</td>\n",
       "      <td>4.45</td>\n",
       "      <td>1.22</td>\n",
       "      <td>2.87</td>\n",
       "      <td>420.0</td>\n",
       "    </tr>\n",
       "    <tr>\n",
       "      <th>55</th>\n",
       "      <td>13.56</td>\n",
       "      <td>1.73</td>\n",
       "      <td>2.46</td>\n",
       "      <td>20.5</td>\n",
       "      <td>2.96</td>\n",
       "      <td>2.78</td>\n",
       "      <td>0.20</td>\n",
       "      <td>2.45</td>\n",
       "      <td>6.25</td>\n",
       "      <td>0.98</td>\n",
       "      <td>3.03</td>\n",
       "      <td>1120.0</td>\n",
       "    </tr>\n",
       "    <tr>\n",
       "      <th>123</th>\n",
       "      <td>13.05</td>\n",
       "      <td>5.80</td>\n",
       "      <td>2.13</td>\n",
       "      <td>21.5</td>\n",
       "      <td>2.62</td>\n",
       "      <td>2.65</td>\n",
       "      <td>0.30</td>\n",
       "      <td>2.01</td>\n",
       "      <td>2.60</td>\n",
       "      <td>0.73</td>\n",
       "      <td>3.10</td>\n",
       "      <td>380.0</td>\n",
       "    </tr>\n",
       "  </tbody>\n",
       "</table>\n",
       "</div>"
      ],
      "text/plain": [
       "     alcohol  malic_acid   ash  alcalinity_of_ash  total_phenols  flavanoids  \\\n",
       "54     13.74        1.67  2.25               16.4           2.60        2.90   \n",
       "151    12.79        2.67  2.48               22.0           1.48        1.36   \n",
       "63     12.37        1.13  2.16               19.0           3.50        3.10   \n",
       "55     13.56        1.73  2.46               20.5           2.96        2.78   \n",
       "123    13.05        5.80  2.13               21.5           2.62        2.65   \n",
       "\n",
       "     nonflavanoid_phenols  proanthocyanins  color_intensity   hue  \\\n",
       "54                   0.21             1.62             5.85  0.92   \n",
       "151                  0.24             1.26            10.80  0.48   \n",
       "63                   0.19             1.87             4.45  1.22   \n",
       "55                   0.20             2.45             6.25  0.98   \n",
       "123                  0.30             2.01             2.60  0.73   \n",
       "\n",
       "     od280/od315_of_diluted_wines  proline  \n",
       "54                           3.20   1060.0  \n",
       "151                          1.47    480.0  \n",
       "63                           2.87    420.0  \n",
       "55                           3.03   1120.0  \n",
       "123                          3.10    380.0  "
      ]
     },
     "execution_count": 15,
     "metadata": {},
     "output_type": "execute_result"
    }
   ],
   "source": [
    "print(x_test.shape)\n",
    "print(x_test.size)\n",
    "x_test.head()"
   ]
  },
  {
   "cell_type": "code",
   "execution_count": 16,
   "id": "bc87543c",
   "metadata": {},
   "outputs": [
    {
     "name": "stdout",
     "output_type": "stream",
     "text": [
      "(142,)\n",
      "142\n"
     ]
    },
    {
     "data": {
      "text/plain": [
       "161    2\n",
       "92     1\n",
       "94     1\n",
       "174    2\n",
       "24     0\n",
       "dtype: int32"
      ]
     },
     "execution_count": 16,
     "metadata": {},
     "output_type": "execute_result"
    }
   ],
   "source": [
    "print(y_train.shape)\n",
    "print(y_train.size)\n",
    "y_train.head()"
   ]
  },
  {
   "cell_type": "code",
   "execution_count": 17,
   "id": "74bf68d1",
   "metadata": {},
   "outputs": [
    {
     "name": "stdout",
     "output_type": "stream",
     "text": [
      "(36,)\n",
      "36\n"
     ]
    },
    {
     "data": {
      "text/plain": [
       "54     0\n",
       "151    2\n",
       "63     1\n",
       "55     0\n",
       "123    1\n",
       "dtype: int32"
      ]
     },
     "execution_count": 17,
     "metadata": {},
     "output_type": "execute_result"
    }
   ],
   "source": [
    "print(y_test.shape)\n",
    "print(y_test.size)\n",
    "y_test.head()"
   ]
  },
  {
   "cell_type": "code",
   "execution_count": 19,
   "id": "eb6d4e9d",
   "metadata": {},
   "outputs": [
    {
     "data": {
      "text/plain": [
       "array([[ 0.87668336,  0.79842885,  0.64412971, ...,  0.0290166 ,\n",
       "        -1.06412236, -0.2059076 ],\n",
       "       [-0.36659076, -0.7581304 , -0.39779858, ...,  0.0290166 ,\n",
       "        -0.73083231, -0.81704676],\n",
       "       [-1.69689407, -0.34424759, -0.32337513, ...,  0.90197362,\n",
       "         0.51900537, -1.31256499],\n",
       "       ...,\n",
       "       [-0.70227477, -0.68615078, -0.65828065, ...,  0.46549511,\n",
       "         0.51900537, -1.31256499],\n",
       "       [ 1.13777093, -0.62316862, -0.91876272, ..., -0.18922266,\n",
       "         1.03282752,  0.80164614],\n",
       "       [ 1.4610222 ,  0.12361993,  0.42085937, ..., -1.45501034,\n",
       "        -1.2168803 , -0.2719767 ]])"
      ]
     },
     "execution_count": 19,
     "metadata": {},
     "output_type": "execute_result"
    }
   ],
   "source": [
    "from sklearn.preprocessing import StandardScaler\n",
    "sc=StandardScaler()\n",
    "x_train=sc.fit_transform(x_train)\n",
    "x_test=sc.transform(x_test)\n",
    "x_train"
   ]
  },
  {
   "cell_type": "code",
   "execution_count": 20,
   "id": "c1dd2686",
   "metadata": {},
   "outputs": [
    {
     "data": {
      "text/plain": [
       "array([[ 9.38847070e-01, -6.32166068e-01, -4.35010303e-01,\n",
       "        -9.19695615e-01,  5.59998633e-01,  9.77754158e-01,\n",
       "        -1.20637533e+00,  2.36680192e-02,  3.39284695e-01,\n",
       "        -1.45574805e-01,  8.52295413e-01,  1.04940526e+00],\n",
       "       [-2.42263344e-01,  2.67579163e-01,  4.20859365e-01,\n",
       "         7.12764102e-01, -1.27747161e+00, -6.05828120e-01,\n",
       "        -9.70634096e-01, -5.87397203e-01,  2.42611713e+00,\n",
       "        -2.06608025e+00, -1.55017035e+00, -8.66598582e-01],\n",
       "       [-7.64438475e-01, -1.11802849e+00, -7.69915825e-01,\n",
       "        -1.61767889e-01,  2.03653722e+00,  1.18341419e+00,\n",
       "        -1.36353615e+00,  4.48018868e-01, -2.50930538e-01,\n",
       "         1.16386073e+00,  3.94021597e-01, -1.06480588e+00],\n",
       "       [ 7.15057728e-01, -5.78181354e-01,  3.46435916e-01,\n",
       "         2.75498106e-01,  1.15061407e+00,  8.54358136e-01,\n",
       "        -1.28495574e+00,  1.43251284e+00,  5.07917619e-01,\n",
       "         1.16312302e-01,  6.16214963e-01,  1.24761256e+00],\n",
       "       [ 8.09879269e-02,  3.08378173e+00, -8.81550999e-01,\n",
       "         5.67008770e-01,  5.92810602e-01,  7.20679112e-01,\n",
       "        -4.99151627e-01,  6.85655343e-01, -1.03085781e+00,\n",
       "        -9.74883977e-01,  7.13424560e-01, -1.19694407e+00],\n",
       "       [-1.77149051e+00, -2.90262880e-01,  3.21173872e+00,\n",
       "         2.60758342e+00,  1.51154572e+00,  3.21944855e+00,\n",
       "         8.36715367e-01,  4.48018868e-01,  4.02522042e-01,\n",
       "        -1.01926954e-01,  1.53276259e+00, -9.16150406e-01],\n",
       "       [ 1.33669479e+00, -2.00288357e-01,  9.04611787e-01,\n",
       "        -5.69882819e-01,  5.59998633e-01,  5.76717087e-01,\n",
       "        -4.20571216e-01, -6.04371237e-01,  2.01884783e-03,\n",
       "         4.65495111e-01,  1.38000466e+00,  1.82571717e+00],\n",
       "       [-7.76871216e-01,  1.31128363e+00,  4.87421183e-02,\n",
       "         4.21253438e-01,  6.78191041e-02, -1.05828020e+00,\n",
       "         1.07245660e+00, -9.60825950e-01,  1.09813285e+00,\n",
       "        -1.71689745e+00, -1.39741241e+00, -7.34460386e-01],\n",
       "       [-9.13631369e-01, -5.78181354e-01, -9.18762724e-01,\n",
       "        -1.61767889e-01, -9.98569875e-01,  8.31330005e-02,\n",
       "         5.09112525e-02,  4.06420531e-02, -6.93591962e-01,\n",
       "         2.03608004e-01,  8.10634157e-01, -7.67494935e-01],\n",
       "       [-1.12498797e+00, -4.88206831e-01, -1.74528230e-01,\n",
       "        -3.07523221e-01, -1.08059980e+00, -4.61866095e-01,\n",
       "         1.22961742e+00,  5.76160871e-02, -1.11517427e+00,\n",
       "         5.52790813e-01, -4.39203523e-01, -8.66598582e-01],\n",
       "       [ 4.66402904e-01,  1.68607187e-01, -6.28930558e-02,\n",
       "         1.29742774e-01, -1.40871948e+00, -1.49016628e+00,\n",
       "         5.09112525e-02, -1.63978731e+00,  2.33889118e-01,\n",
       "        -1.10582753e+00, -1.61461816e-01,  1.24437889e-01],\n",
       "       [ 1.11290545e+00,  2.39997536e+00, -5.09433752e-01,\n",
       "         1.29742774e-01, -2.09777082e+00, -1.65469430e+00,\n",
       "         2.86652487e-01, -1.57189117e+00, -6.12184986e-02,\n",
       "        -1.62960174e+00, -1.74458954e+00, -1.08132315e+00],\n",
       "       [ 1.51075317e+00, -5.51188997e-01,  3.09224191e-01,\n",
       "        -1.26950841e+00,  1.65919958e+00,  1.48162125e+00,\n",
       "        -1.84829982e-01,  6.17759208e-01,  7.18708773e-01,\n",
       "         4.21847260e-01,  3.66247427e-01,  2.33775268e+00],\n",
       "       [-7.64438475e-01, -1.17201321e+00, -9.93186174e-01,\n",
       "        -3.07523221e-01,  2.06934919e+00,  1.85180931e+00,\n",
       "        -9.70634096e-01,  5.83811140e-01, -2.29851422e-01,\n",
       "         3.78199409e-01,  2.55150744e-01, -2.71976699e-01],\n",
       "       [ 7.39923211e-01,  1.86602092e-01,  1.20230558e+00,\n",
       "         1.44154076e+00, -1.16262972e+00, -1.14054421e+00,\n",
       "         2.08072075e-01, -1.12124252e-01,  1.52393098e+00,\n",
       "        -9.31236125e-01, -1.09189653e+00,  2.53342422e-02],\n",
       "       [-1.22444990e+00, -1.30697499e+00, -1.36530342e+00,\n",
       "        -1.61767889e-01,  2.64690916e-01,  3.19642042e-01,\n",
       "        -4.99151627e-01, -2.98838626e-01, -1.07301604e+00,\n",
       "         1.86222635e+00,  7.41198731e-01, -1.53389647e+00],\n",
       "       [ 9.63712552e-01, -7.58130400e-01,  1.23951731e+00,\n",
       "        -1.60125576e-02,  1.13420808e+00,  8.13226129e-01,\n",
       "         1.07245660e+00, -4.34630898e-01,  1.49572656e-01,\n",
       "         1.29480428e+00,  5.74553707e-01,  1.62750987e+00],\n",
       "       [ 1.49832042e+00, -7.04145686e-01,  4.20859365e-01,\n",
       "        -8.90544549e-01,  1.70841753e+00,  2.03690334e+00,\n",
       "        -3.41990805e-01,  4.31044834e-01,  1.54079428e+00,\n",
       "         1.20750858e+00,  3.24586171e-01,  3.09754730e+00],\n",
       "       [-4.28754462e-01, -9.11087089e-01, -1.29087997e+00,\n",
       "        -8.03091350e-01, -3.91548456e-01, -5.54413111e-01,\n",
       "         1.30819784e+00, -1.67373538e+00,  2.97126464e-01,\n",
       "         1.16312302e-01, -1.38352533e+00, -9.65702229e-01],\n",
       "       [ 1.05074174e+00, -6.50160973e-01,  8.67400062e-01,\n",
       "        -6.86487084e-01,  3.13908869e-01,  1.07030117e+00,\n",
       "        -1.12779492e+00,  1.16092829e+00,  2.33889118e-01,\n",
       "         1.25115643e+00,  1.08837586e+00,  1.72661352e+00],\n",
       "       [ 1.55584374e-01, -1.22599792e+00, -2.48165516e+00,\n",
       "        -1.32781054e+00,  1.18342604e+00,  1.26567821e+00,\n",
       "        -8.13473273e-01,  1.14395426e+00,  1.07414425e-01,\n",
       "         7.27382218e-01,  8.24521243e-01, -7.93922574e-01],\n",
       "       [ 8.09879269e-02, -6.50160973e-01,  6.81341438e-01,\n",
       "        -4.53278553e-01,  3.13908869e-01,  4.94453073e-01,\n",
       "        -5.77732039e-01, -2.81864592e-01, -3.35247000e-01,\n",
       "         7.27382218e-01, -1.05913475e-01,  1.19806073e+00],\n",
       "       [ 3.17210010e-01,  1.95599544e-01,  1.87211663e+00,\n",
       "         4.21253438e-01,  8.88118319e-01,  7.61811120e-01,\n",
       "         2.08072075e-01,  3.63148698e-01, -3.05736238e-01,\n",
       "         3.78199409e-01,  4.77344109e-01, -2.42175814e-02],\n",
       "       [-5.90380098e-01, -5.78181354e-01, -1.43972687e+00,\n",
       "         2.75498106e-01, -9.62407389e-02, -2.99800193e-02,\n",
       "        -3.41990805e-01, -2.13968456e-01, -8.87519825e-01,\n",
       "         3.78199409e-01,  1.36611757e+00, -2.32335240e-01],\n",
       "       [-8.14169440e-01, -1.14502085e+00, -3.23375129e-01,\n",
       "        -1.03629988e+00, -3.42330503e-01, -8.83469169e-01,\n",
       "         2.09400195e+00, -2.03019009e+00, -7.48397663e-01,\n",
       "         1.29480428e+00, -1.27242864e+00, -2.05907601e-01],\n",
       "       [-5.77947357e-01,  5.16403072e-02, -7.32704101e-01,\n",
       "         4.21253438e-01,  4.77968712e-01,  3.29925044e-01,\n",
       "        -8.13473273e-01, -6.55293339e-01, -1.28380720e+00,\n",
       "        -2.32870507e-01,  2.69037829e-01, -1.37863409e+00],\n",
       "       [-6.89842028e-01, -7.58130400e-01, -2.86163404e-01,\n",
       "         5.67008770e-01,  7.89682413e-01,  1.23482920e+00,\n",
       "         2.08072075e-01,  2.78278529e-01, -4.65937515e-01,\n",
       "        -1.14947538e+00,  3.52360341e-01, -1.28944081e+00],\n",
       "       [-1.02552604e+00, -6.86150782e-01, -2.11739955e-01,\n",
       "         9.45972633e-01, -7.85292079e-01, -2.66489061e-01,\n",
       "         5.22393721e-01, -7.81761846e-02, -1.09409516e+00,\n",
       "         1.64398709e+00, -4.53090608e-01, -8.17046759e-01],\n",
       "       [-1.52283569e+00,  2.76576615e-01,  2.05817525e+00,\n",
       "         1.29742774e-01, -8.34510032e-01,  8.31330005e-02,\n",
       "         1.85826072e+00, -9.43851916e-01, -5.24959039e-01,\n",
       "         1.20750858e+00, -1.19800560e-01, -4.47059809e-01],\n",
       "       [ 9.88578035e-01,  3.48556233e-01, -2.48951679e-01,\n",
       "         7.12764102e-01, -1.49074940e+00, -1.30507224e+00,\n",
       "         3.65232898e-01, -9.77799984e-01,  1.91178671e+00,\n",
       "        -1.10582753e+00, -1.25854156e+00, -4.20632170e-01],\n",
       "       [ 5.03701128e-01, -5.42191545e-01,  9.41823511e-01,\n",
       "        -1.00714881e+00,  9.70148241e-01,  1.01888616e+00,\n",
       "        -1.84829982e-01, -2.64890558e-01, -1.03376729e-01,\n",
       "        -1.45574805e-01,  8.80069584e-01,  1.49537167e+00],\n",
       "       [ 1.53561865e+00, -6.05173711e-01, -2.48951679e-01,\n",
       "        -9.48846682e-01,  1.54435769e+00,  1.08058418e+00,\n",
       "        -8.13473273e-01,  7.19603411e-01,  5.62723319e-01,\n",
       "        -5.82791026e-02,  1.00505335e+00,  7.52094321e-01],\n",
       "       [-1.17471893e+00,  1.73416389e+00,  4.87421183e-02,\n",
       "         7.12764102e-01, -2.60300582e-01, -2.04791050e-01,\n",
       "         4.43813310e-01, -4.34630898e-01, -1.03085781e+00,\n",
       "        -7.12996870e-01, -2.25909628e-02, -5.36253092e-01],\n",
       "       [ 1.52318591e+00,  1.50023013e+00,  2.72012467e-01,\n",
       "        -1.90918956e-01,  9.70148241e-01,  7.20679112e-01,\n",
       "        -4.99151627e-01, -6.04371237e-01,  8.21194866e-02,\n",
       "        -3.63814061e-01,  1.03282752e+00,  1.11547436e+00],\n",
       "       [ 2.29401586e+00, -6.59158425e-01, -7.32704101e-01,\n",
       "        -1.61932121e+00,  8.88118319e-01,  1.06001817e+00,\n",
       "        -5.77732039e-01,  6.34733242e-01,  6.52561942e-02,\n",
       "         5.52790813e-01,  3.66247427e-01,  9.99853439e-01],\n",
       "       [ 8.09879269e-02, -5.42191545e-01, -9.93186174e-01,\n",
       "        -7.44789217e-01,  1.21623801e+00,  1.08058418e+00,\n",
       "        -6.56312450e-01,  7.19603411e-01, -2.19697526e-03,\n",
       "        -3.20166209e-01,  1.06060169e+00,  4.71300654e-01]])"
      ]
     },
     "execution_count": 20,
     "metadata": {},
     "output_type": "execute_result"
    }
   ],
   "source": [
    "x_test"
   ]
  },
  {
   "cell_type": "code",
   "execution_count": 21,
   "id": "14809af0",
   "metadata": {},
   "outputs": [
    {
     "data": {
      "text/plain": [
       "SVR(kernel='linear')"
      ]
     },
     "execution_count": 21,
     "metadata": {},
     "output_type": "execute_result"
    }
   ],
   "source": [
    "from sklearn.svm import SVR\n",
    "rg=SVR(kernel='linear')\n",
    "rg.fit(x_train,y_train)"
   ]
  },
  {
   "cell_type": "code",
   "execution_count": 22,
   "id": "9012d783",
   "metadata": {},
   "outputs": [
    {
     "data": {
      "text/plain": [
       "0.7631728285076228"
      ]
     },
     "execution_count": 22,
     "metadata": {},
     "output_type": "execute_result"
    }
   ],
   "source": [
    "rg.score(x_test,y_test)"
   ]
  },
  {
   "cell_type": "code",
   "execution_count": 24,
   "id": "6c2e636b",
   "metadata": {},
   "outputs": [
    {
     "data": {
      "text/plain": [
       "array([ 0.18321029,  2.13568926,  0.86210192,  0.48560276,  1.01972537,\n",
       "       -0.16830008, -0.04708356,  2.21275189,  0.77181229,  1.10594203,\n",
       "        1.54399237,  2.12010358, -0.20267739,  0.42653914,  1.86669646,\n",
       "        0.89427688,  0.04316003, -0.49812829,  1.52293557, -0.16500918,\n",
       "        0.50155821,  0.41812823,  0.55572016,  0.75502421,  1.21320292,\n",
       "        1.10908088,  0.76885688,  1.14603776,  0.74472278,  2.02217404,\n",
       "       -0.03230955,  0.26230657,  1.25951764,  0.33179191,  0.03503724,\n",
       "        0.34971404])"
      ]
     },
     "execution_count": 24,
     "metadata": {},
     "output_type": "execute_result"
    }
   ],
   "source": [
    "y_pred=rg.predict(x_test)\n",
    "y_pred"
   ]
  },
  {
   "cell_type": "code",
   "execution_count": 26,
   "id": "fd03f4be",
   "metadata": {},
   "outputs": [
    {
     "data": {
      "text/plain": [
       "0.7631728285076228"
      ]
     },
     "execution_count": 26,
     "metadata": {},
     "output_type": "execute_result"
    }
   ],
   "source": [
    "from sklearn import metrics\n",
    "metrics.r2_score(y_test,y_pred)"
   ]
  },
  {
   "cell_type": "code",
   "execution_count": 27,
   "id": "6b6316e5",
   "metadata": {},
   "outputs": [
    {
     "data": {
      "text/plain": [
       "0.11987548186651191"
      ]
     },
     "execution_count": 27,
     "metadata": {},
     "output_type": "execute_result"
    }
   ],
   "source": [
    "metrics.mean_squared_error(y_test,y_pred)"
   ]
  },
  {
   "cell_type": "code",
   "execution_count": null,
   "id": "1478dba7",
   "metadata": {},
   "outputs": [],
   "source": []
  },
  {
   "cell_type": "code",
   "execution_count": null,
   "id": "35c39c49",
   "metadata": {},
   "outputs": [],
   "source": []
  }
 ],
 "metadata": {
  "kernelspec": {
   "display_name": "Python 3 (ipykernel)",
   "language": "python",
   "name": "python3"
  },
  "language_info": {
   "codemirror_mode": {
    "name": "ipython",
    "version": 3
   },
   "file_extension": ".py",
   "mimetype": "text/x-python",
   "name": "python",
   "nbconvert_exporter": "python",
   "pygments_lexer": "ipython3",
   "version": "3.9.12"
  }
 },
 "nbformat": 4,
 "nbformat_minor": 5
}

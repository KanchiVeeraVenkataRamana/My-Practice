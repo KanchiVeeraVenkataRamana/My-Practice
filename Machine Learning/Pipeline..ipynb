{
 "cells": [
  {
   "cell_type": "code",
   "execution_count": 39,
   "id": "d3d97af8",
   "metadata": {},
   "outputs": [],
   "source": [
    "from sklearn.pipeline import Pipeline\n",
    "from sklearn.preprocessing import StandardScaler\n",
    "from sklearn.linear_model import LogisticRegression"
   ]
  },
  {
   "cell_type": "code",
   "execution_count": 40,
   "id": "085c645d",
   "metadata": {},
   "outputs": [],
   "source": [
    "steps=[('Standard_scaler',StandardScaler()),('Classifier',LogisticRegression())]"
   ]
  },
  {
   "cell_type": "code",
   "execution_count": 41,
   "id": "6cbac4c0",
   "metadata": {},
   "outputs": [
    {
     "data": {
      "text/plain": [
       "[('Standard_scaler', StandardScaler()), ('Classifier', LogisticRegression())]"
      ]
     },
     "execution_count": 41,
     "metadata": {},
     "output_type": "execute_result"
    }
   ],
   "source": [
    "steps"
   ]
  },
  {
   "cell_type": "code",
   "execution_count": 42,
   "id": "34804b51",
   "metadata": {},
   "outputs": [
    {
     "data": {
      "text/plain": [
       "Pipeline(steps=[('Standard_scaler', StandardScaler()),\n",
       "                ('Classifier', LogisticRegression())])"
      ]
     },
     "execution_count": 42,
     "metadata": {},
     "output_type": "execute_result"
    }
   ],
   "source": [
    "Pipeline(steps)"
   ]
  },
  {
   "cell_type": "code",
   "execution_count": 46,
   "id": "38dbbe0c",
   "metadata": {},
   "outputs": [
    {
     "data": {
      "text/html": [
       "<style>#sk-9a8602c1-9c5b-4ccc-9721-99990319ce19 {color: black;background-color: white;}#sk-9a8602c1-9c5b-4ccc-9721-99990319ce19 pre{padding: 0;}#sk-9a8602c1-9c5b-4ccc-9721-99990319ce19 div.sk-toggleable {background-color: white;}#sk-9a8602c1-9c5b-4ccc-9721-99990319ce19 label.sk-toggleable__label {cursor: pointer;display: block;width: 100%;margin-bottom: 0;padding: 0.3em;box-sizing: border-box;text-align: center;}#sk-9a8602c1-9c5b-4ccc-9721-99990319ce19 label.sk-toggleable__label-arrow:before {content: \"▸\";float: left;margin-right: 0.25em;color: #696969;}#sk-9a8602c1-9c5b-4ccc-9721-99990319ce19 label.sk-toggleable__label-arrow:hover:before {color: black;}#sk-9a8602c1-9c5b-4ccc-9721-99990319ce19 div.sk-estimator:hover label.sk-toggleable__label-arrow:before {color: black;}#sk-9a8602c1-9c5b-4ccc-9721-99990319ce19 div.sk-toggleable__content {max-height: 0;max-width: 0;overflow: hidden;text-align: left;background-color: #f0f8ff;}#sk-9a8602c1-9c5b-4ccc-9721-99990319ce19 div.sk-toggleable__content pre {margin: 0.2em;color: black;border-radius: 0.25em;background-color: #f0f8ff;}#sk-9a8602c1-9c5b-4ccc-9721-99990319ce19 input.sk-toggleable__control:checked~div.sk-toggleable__content {max-height: 200px;max-width: 100%;overflow: auto;}#sk-9a8602c1-9c5b-4ccc-9721-99990319ce19 input.sk-toggleable__control:checked~label.sk-toggleable__label-arrow:before {content: \"▾\";}#sk-9a8602c1-9c5b-4ccc-9721-99990319ce19 div.sk-estimator input.sk-toggleable__control:checked~label.sk-toggleable__label {background-color: #d4ebff;}#sk-9a8602c1-9c5b-4ccc-9721-99990319ce19 div.sk-label input.sk-toggleable__control:checked~label.sk-toggleable__label {background-color: #d4ebff;}#sk-9a8602c1-9c5b-4ccc-9721-99990319ce19 input.sk-hidden--visually {border: 0;clip: rect(1px 1px 1px 1px);clip: rect(1px, 1px, 1px, 1px);height: 1px;margin: -1px;overflow: hidden;padding: 0;position: absolute;width: 1px;}#sk-9a8602c1-9c5b-4ccc-9721-99990319ce19 div.sk-estimator {font-family: monospace;background-color: #f0f8ff;border: 1px dotted black;border-radius: 0.25em;box-sizing: border-box;margin-bottom: 0.5em;}#sk-9a8602c1-9c5b-4ccc-9721-99990319ce19 div.sk-estimator:hover {background-color: #d4ebff;}#sk-9a8602c1-9c5b-4ccc-9721-99990319ce19 div.sk-parallel-item::after {content: \"\";width: 100%;border-bottom: 1px solid gray;flex-grow: 1;}#sk-9a8602c1-9c5b-4ccc-9721-99990319ce19 div.sk-label:hover label.sk-toggleable__label {background-color: #d4ebff;}#sk-9a8602c1-9c5b-4ccc-9721-99990319ce19 div.sk-serial::before {content: \"\";position: absolute;border-left: 1px solid gray;box-sizing: border-box;top: 2em;bottom: 0;left: 50%;}#sk-9a8602c1-9c5b-4ccc-9721-99990319ce19 div.sk-serial {display: flex;flex-direction: column;align-items: center;background-color: white;padding-right: 0.2em;padding-left: 0.2em;}#sk-9a8602c1-9c5b-4ccc-9721-99990319ce19 div.sk-item {z-index: 1;}#sk-9a8602c1-9c5b-4ccc-9721-99990319ce19 div.sk-parallel {display: flex;align-items: stretch;justify-content: center;background-color: white;}#sk-9a8602c1-9c5b-4ccc-9721-99990319ce19 div.sk-parallel::before {content: \"\";position: absolute;border-left: 1px solid gray;box-sizing: border-box;top: 2em;bottom: 0;left: 50%;}#sk-9a8602c1-9c5b-4ccc-9721-99990319ce19 div.sk-parallel-item {display: flex;flex-direction: column;position: relative;background-color: white;}#sk-9a8602c1-9c5b-4ccc-9721-99990319ce19 div.sk-parallel-item:first-child::after {align-self: flex-end;width: 50%;}#sk-9a8602c1-9c5b-4ccc-9721-99990319ce19 div.sk-parallel-item:last-child::after {align-self: flex-start;width: 50%;}#sk-9a8602c1-9c5b-4ccc-9721-99990319ce19 div.sk-parallel-item:only-child::after {width: 0;}#sk-9a8602c1-9c5b-4ccc-9721-99990319ce19 div.sk-dashed-wrapped {border: 1px dashed gray;margin: 0 0.4em 0.5em 0.4em;box-sizing: border-box;padding-bottom: 0.4em;background-color: white;position: relative;}#sk-9a8602c1-9c5b-4ccc-9721-99990319ce19 div.sk-label label {font-family: monospace;font-weight: bold;background-color: white;display: inline-block;line-height: 1.2em;}#sk-9a8602c1-9c5b-4ccc-9721-99990319ce19 div.sk-label-container {position: relative;z-index: 2;text-align: center;}#sk-9a8602c1-9c5b-4ccc-9721-99990319ce19 div.sk-container {/* jupyter's `normalize.less` sets `[hidden] { display: none; }` but bootstrap.min.css set `[hidden] { display: none !important; }` so we also need the `!important` here to be able to override the default hidden behavior on the sphinx rendered scikit-learn.org. See: https://github.com/scikit-learn/scikit-learn/issues/21755 */display: inline-block !important;position: relative;}#sk-9a8602c1-9c5b-4ccc-9721-99990319ce19 div.sk-text-repr-fallback {display: none;}</style><div id=\"sk-9a8602c1-9c5b-4ccc-9721-99990319ce19\" class=\"sk-top-container\"><div class=\"sk-text-repr-fallback\"><pre>Pipeline(steps=[(&#x27;Standard_scaler&#x27;, StandardScaler()),\n",
       "                (&#x27;Classifier&#x27;, LogisticRegression())])</pre><b>Please rerun this cell to show the HTML repr or trust the notebook.</b></div><div class=\"sk-container\" hidden><div class=\"sk-item sk-dashed-wrapped\"><div class=\"sk-label-container\"><div class=\"sk-label sk-toggleable\"><input class=\"sk-toggleable__control sk-hidden--visually\" id=\"dfa942fe-25c6-42dc-9216-97eb5c70b628\" type=\"checkbox\" ><label for=\"dfa942fe-25c6-42dc-9216-97eb5c70b628\" class=\"sk-toggleable__label sk-toggleable__label-arrow\">Pipeline</label><div class=\"sk-toggleable__content\"><pre>Pipeline(steps=[(&#x27;Standard_scaler&#x27;, StandardScaler()),\n",
       "                (&#x27;Classifier&#x27;, LogisticRegression())])</pre></div></div></div><div class=\"sk-serial\"><div class=\"sk-item\"><div class=\"sk-estimator sk-toggleable\"><input class=\"sk-toggleable__control sk-hidden--visually\" id=\"0b240e7e-9388-4e85-8d53-0021504cd480\" type=\"checkbox\" ><label for=\"0b240e7e-9388-4e85-8d53-0021504cd480\" class=\"sk-toggleable__label sk-toggleable__label-arrow\">StandardScaler</label><div class=\"sk-toggleable__content\"><pre>StandardScaler()</pre></div></div></div><div class=\"sk-item\"><div class=\"sk-estimator sk-toggleable\"><input class=\"sk-toggleable__control sk-hidden--visually\" id=\"0efe3869-15a5-4516-9665-c5420e3588e3\" type=\"checkbox\" ><label for=\"0efe3869-15a5-4516-9665-c5420e3588e3\" class=\"sk-toggleable__label sk-toggleable__label-arrow\">LogisticRegression</label><div class=\"sk-toggleable__content\"><pre>LogisticRegression()</pre></div></div></div></div></div></div></div>"
      ],
      "text/plain": [
       "Pipeline(steps=[('Standard_scaler', StandardScaler()),\n",
       "                ('Classifier', LogisticRegression())])"
      ]
     },
     "execution_count": 46,
     "metadata": {},
     "output_type": "execute_result"
    }
   ],
   "source": [
    "pipe=Pipeline(steps)\n",
    "pipe"
   ]
  },
  {
   "cell_type": "code",
   "execution_count": 44,
   "id": "50d9bcf3",
   "metadata": {},
   "outputs": [
    {
     "data": {
      "text/html": [
       "<style>#sk-19539796-fe87-4838-85db-dfa97e46335b {color: black;background-color: white;}#sk-19539796-fe87-4838-85db-dfa97e46335b pre{padding: 0;}#sk-19539796-fe87-4838-85db-dfa97e46335b div.sk-toggleable {background-color: white;}#sk-19539796-fe87-4838-85db-dfa97e46335b label.sk-toggleable__label {cursor: pointer;display: block;width: 100%;margin-bottom: 0;padding: 0.3em;box-sizing: border-box;text-align: center;}#sk-19539796-fe87-4838-85db-dfa97e46335b label.sk-toggleable__label-arrow:before {content: \"▸\";float: left;margin-right: 0.25em;color: #696969;}#sk-19539796-fe87-4838-85db-dfa97e46335b label.sk-toggleable__label-arrow:hover:before {color: black;}#sk-19539796-fe87-4838-85db-dfa97e46335b div.sk-estimator:hover label.sk-toggleable__label-arrow:before {color: black;}#sk-19539796-fe87-4838-85db-dfa97e46335b div.sk-toggleable__content {max-height: 0;max-width: 0;overflow: hidden;text-align: left;background-color: #f0f8ff;}#sk-19539796-fe87-4838-85db-dfa97e46335b div.sk-toggleable__content pre {margin: 0.2em;color: black;border-radius: 0.25em;background-color: #f0f8ff;}#sk-19539796-fe87-4838-85db-dfa97e46335b input.sk-toggleable__control:checked~div.sk-toggleable__content {max-height: 200px;max-width: 100%;overflow: auto;}#sk-19539796-fe87-4838-85db-dfa97e46335b input.sk-toggleable__control:checked~label.sk-toggleable__label-arrow:before {content: \"▾\";}#sk-19539796-fe87-4838-85db-dfa97e46335b div.sk-estimator input.sk-toggleable__control:checked~label.sk-toggleable__label {background-color: #d4ebff;}#sk-19539796-fe87-4838-85db-dfa97e46335b div.sk-label input.sk-toggleable__control:checked~label.sk-toggleable__label {background-color: #d4ebff;}#sk-19539796-fe87-4838-85db-dfa97e46335b input.sk-hidden--visually {border: 0;clip: rect(1px 1px 1px 1px);clip: rect(1px, 1px, 1px, 1px);height: 1px;margin: -1px;overflow: hidden;padding: 0;position: absolute;width: 1px;}#sk-19539796-fe87-4838-85db-dfa97e46335b div.sk-estimator {font-family: monospace;background-color: #f0f8ff;border: 1px dotted black;border-radius: 0.25em;box-sizing: border-box;margin-bottom: 0.5em;}#sk-19539796-fe87-4838-85db-dfa97e46335b div.sk-estimator:hover {background-color: #d4ebff;}#sk-19539796-fe87-4838-85db-dfa97e46335b div.sk-parallel-item::after {content: \"\";width: 100%;border-bottom: 1px solid gray;flex-grow: 1;}#sk-19539796-fe87-4838-85db-dfa97e46335b div.sk-label:hover label.sk-toggleable__label {background-color: #d4ebff;}#sk-19539796-fe87-4838-85db-dfa97e46335b div.sk-serial::before {content: \"\";position: absolute;border-left: 1px solid gray;box-sizing: border-box;top: 2em;bottom: 0;left: 50%;}#sk-19539796-fe87-4838-85db-dfa97e46335b div.sk-serial {display: flex;flex-direction: column;align-items: center;background-color: white;padding-right: 0.2em;padding-left: 0.2em;}#sk-19539796-fe87-4838-85db-dfa97e46335b div.sk-item {z-index: 1;}#sk-19539796-fe87-4838-85db-dfa97e46335b div.sk-parallel {display: flex;align-items: stretch;justify-content: center;background-color: white;}#sk-19539796-fe87-4838-85db-dfa97e46335b div.sk-parallel::before {content: \"\";position: absolute;border-left: 1px solid gray;box-sizing: border-box;top: 2em;bottom: 0;left: 50%;}#sk-19539796-fe87-4838-85db-dfa97e46335b div.sk-parallel-item {display: flex;flex-direction: column;position: relative;background-color: white;}#sk-19539796-fe87-4838-85db-dfa97e46335b div.sk-parallel-item:first-child::after {align-self: flex-end;width: 50%;}#sk-19539796-fe87-4838-85db-dfa97e46335b div.sk-parallel-item:last-child::after {align-self: flex-start;width: 50%;}#sk-19539796-fe87-4838-85db-dfa97e46335b div.sk-parallel-item:only-child::after {width: 0;}#sk-19539796-fe87-4838-85db-dfa97e46335b div.sk-dashed-wrapped {border: 1px dashed gray;margin: 0 0.4em 0.5em 0.4em;box-sizing: border-box;padding-bottom: 0.4em;background-color: white;position: relative;}#sk-19539796-fe87-4838-85db-dfa97e46335b div.sk-label label {font-family: monospace;font-weight: bold;background-color: white;display: inline-block;line-height: 1.2em;}#sk-19539796-fe87-4838-85db-dfa97e46335b div.sk-label-container {position: relative;z-index: 2;text-align: center;}#sk-19539796-fe87-4838-85db-dfa97e46335b div.sk-container {/* jupyter's `normalize.less` sets `[hidden] { display: none; }` but bootstrap.min.css set `[hidden] { display: none !important; }` so we also need the `!important` here to be able to override the default hidden behavior on the sphinx rendered scikit-learn.org. See: https://github.com/scikit-learn/scikit-learn/issues/21755 */display: inline-block !important;position: relative;}#sk-19539796-fe87-4838-85db-dfa97e46335b div.sk-text-repr-fallback {display: none;}</style><div id=\"sk-19539796-fe87-4838-85db-dfa97e46335b\" class=\"sk-top-container\"><div class=\"sk-text-repr-fallback\"><pre>Pipeline(steps=[(&#x27;Standard_scaler&#x27;, StandardScaler()),\n",
       "                (&#x27;Classifier&#x27;, LogisticRegression())])</pre><b>Please rerun this cell to show the HTML repr or trust the notebook.</b></div><div class=\"sk-container\" hidden><div class=\"sk-item sk-dashed-wrapped\"><div class=\"sk-label-container\"><div class=\"sk-label sk-toggleable\"><input class=\"sk-toggleable__control sk-hidden--visually\" id=\"954f7720-d7a3-4c91-99a2-3098cbc13837\" type=\"checkbox\" ><label for=\"954f7720-d7a3-4c91-99a2-3098cbc13837\" class=\"sk-toggleable__label sk-toggleable__label-arrow\">Pipeline</label><div class=\"sk-toggleable__content\"><pre>Pipeline(steps=[(&#x27;Standard_scaler&#x27;, StandardScaler()),\n",
       "                (&#x27;Classifier&#x27;, LogisticRegression())])</pre></div></div></div><div class=\"sk-serial\"><div class=\"sk-item\"><div class=\"sk-estimator sk-toggleable\"><input class=\"sk-toggleable__control sk-hidden--visually\" id=\"5e0a297a-9730-4a5f-89f4-b78fb3b2fa98\" type=\"checkbox\" ><label for=\"5e0a297a-9730-4a5f-89f4-b78fb3b2fa98\" class=\"sk-toggleable__label sk-toggleable__label-arrow\">StandardScaler</label><div class=\"sk-toggleable__content\"><pre>StandardScaler()</pre></div></div></div><div class=\"sk-item\"><div class=\"sk-estimator sk-toggleable\"><input class=\"sk-toggleable__control sk-hidden--visually\" id=\"0288318a-5894-4a24-a06b-e2ef544c1e68\" type=\"checkbox\" ><label for=\"0288318a-5894-4a24-a06b-e2ef544c1e68\" class=\"sk-toggleable__label sk-toggleable__label-arrow\">LogisticRegression</label><div class=\"sk-toggleable__content\"><pre>LogisticRegression()</pre></div></div></div></div></div></div></div>"
      ],
      "text/plain": [
       "Pipeline(steps=[('Standard_scaler', StandardScaler()),\n",
       "                ('Classifier', LogisticRegression())])"
      ]
     },
     "execution_count": 44,
     "metadata": {},
     "output_type": "execute_result"
    }
   ],
   "source": [
    "#visalize the pipelines\n",
    "from sklearn import set_config\n",
    "set_config(display='diagram')\n",
    "pipe"
   ]
  },
  {
   "cell_type": "code",
   "execution_count": null,
   "id": "249cba27",
   "metadata": {},
   "outputs": [],
   "source": []
  },
  {
   "cell_type": "code",
   "execution_count": 18,
   "id": "579bbf10",
   "metadata": {},
   "outputs": [
    {
     "data": {
      "text/plain": [
       "(1000, 20)"
      ]
     },
     "execution_count": 18,
     "metadata": {},
     "output_type": "execute_result"
    }
   ],
   "source": [
    "#creating a dataset\n",
    "from sklearn.datasets import make_classification\n",
    "x,y=make_classification(n_samples=1000)\n",
    "x.shape"
   ]
  },
  {
   "cell_type": "code",
   "execution_count": 20,
   "id": "aa50f329",
   "metadata": {},
   "outputs": [
    {
     "data": {
      "text/plain": [
       "array([[ 0.54319334, -0.13956837,  0.69738177, ..., -0.52172049,\n",
       "         0.79628794,  0.48603814],\n",
       "       [ 0.76278101,  0.57309959,  1.22828691, ..., -0.72192639,\n",
       "        -0.54300489, -0.33777545],\n",
       "       [-0.38413932,  0.82086323, -0.90144775, ..., -0.9268574 ,\n",
       "         0.19064004,  1.7338743 ],\n",
       "       ...,\n",
       "       [-0.35136168,  0.89395555, -1.08346534, ...,  0.1774577 ,\n",
       "        -0.40800667,  1.16269118],\n",
       "       [ 0.14001674, -0.64887523,  0.92057981, ..., -1.11926269,\n",
       "        -0.0798119 ,  1.11013795],\n",
       "       [-0.46597239, -0.70475851, -1.02165236, ..., -0.37887774,\n",
       "        -0.72660157, -0.58004604]])"
      ]
     },
     "execution_count": 20,
     "metadata": {},
     "output_type": "execute_result"
    }
   ],
   "source": [
    "from sklearn.model_selection import train_test_split\n",
    "x_train,x_test,y_train,y_test=train_test_split(x,y,test_size=0.33,random_state=42)\n",
    "x_train"
   ]
  },
  {
   "cell_type": "code",
   "execution_count": 21,
   "id": "85a36387",
   "metadata": {},
   "outputs": [
    {
     "data": {
      "text/html": [
       "<style>#sk-75378a18-9ce6-4d8f-9906-b9b55890aaea {color: black;background-color: white;}#sk-75378a18-9ce6-4d8f-9906-b9b55890aaea pre{padding: 0;}#sk-75378a18-9ce6-4d8f-9906-b9b55890aaea div.sk-toggleable {background-color: white;}#sk-75378a18-9ce6-4d8f-9906-b9b55890aaea label.sk-toggleable__label {cursor: pointer;display: block;width: 100%;margin-bottom: 0;padding: 0.3em;box-sizing: border-box;text-align: center;}#sk-75378a18-9ce6-4d8f-9906-b9b55890aaea label.sk-toggleable__label-arrow:before {content: \"▸\";float: left;margin-right: 0.25em;color: #696969;}#sk-75378a18-9ce6-4d8f-9906-b9b55890aaea label.sk-toggleable__label-arrow:hover:before {color: black;}#sk-75378a18-9ce6-4d8f-9906-b9b55890aaea div.sk-estimator:hover label.sk-toggleable__label-arrow:before {color: black;}#sk-75378a18-9ce6-4d8f-9906-b9b55890aaea div.sk-toggleable__content {max-height: 0;max-width: 0;overflow: hidden;text-align: left;background-color: #f0f8ff;}#sk-75378a18-9ce6-4d8f-9906-b9b55890aaea div.sk-toggleable__content pre {margin: 0.2em;color: black;border-radius: 0.25em;background-color: #f0f8ff;}#sk-75378a18-9ce6-4d8f-9906-b9b55890aaea input.sk-toggleable__control:checked~div.sk-toggleable__content {max-height: 200px;max-width: 100%;overflow: auto;}#sk-75378a18-9ce6-4d8f-9906-b9b55890aaea input.sk-toggleable__control:checked~label.sk-toggleable__label-arrow:before {content: \"▾\";}#sk-75378a18-9ce6-4d8f-9906-b9b55890aaea div.sk-estimator input.sk-toggleable__control:checked~label.sk-toggleable__label {background-color: #d4ebff;}#sk-75378a18-9ce6-4d8f-9906-b9b55890aaea div.sk-label input.sk-toggleable__control:checked~label.sk-toggleable__label {background-color: #d4ebff;}#sk-75378a18-9ce6-4d8f-9906-b9b55890aaea input.sk-hidden--visually {border: 0;clip: rect(1px 1px 1px 1px);clip: rect(1px, 1px, 1px, 1px);height: 1px;margin: -1px;overflow: hidden;padding: 0;position: absolute;width: 1px;}#sk-75378a18-9ce6-4d8f-9906-b9b55890aaea div.sk-estimator {font-family: monospace;background-color: #f0f8ff;border: 1px dotted black;border-radius: 0.25em;box-sizing: border-box;margin-bottom: 0.5em;}#sk-75378a18-9ce6-4d8f-9906-b9b55890aaea div.sk-estimator:hover {background-color: #d4ebff;}#sk-75378a18-9ce6-4d8f-9906-b9b55890aaea div.sk-parallel-item::after {content: \"\";width: 100%;border-bottom: 1px solid gray;flex-grow: 1;}#sk-75378a18-9ce6-4d8f-9906-b9b55890aaea div.sk-label:hover label.sk-toggleable__label {background-color: #d4ebff;}#sk-75378a18-9ce6-4d8f-9906-b9b55890aaea div.sk-serial::before {content: \"\";position: absolute;border-left: 1px solid gray;box-sizing: border-box;top: 2em;bottom: 0;left: 50%;}#sk-75378a18-9ce6-4d8f-9906-b9b55890aaea div.sk-serial {display: flex;flex-direction: column;align-items: center;background-color: white;padding-right: 0.2em;padding-left: 0.2em;}#sk-75378a18-9ce6-4d8f-9906-b9b55890aaea div.sk-item {z-index: 1;}#sk-75378a18-9ce6-4d8f-9906-b9b55890aaea div.sk-parallel {display: flex;align-items: stretch;justify-content: center;background-color: white;}#sk-75378a18-9ce6-4d8f-9906-b9b55890aaea div.sk-parallel::before {content: \"\";position: absolute;border-left: 1px solid gray;box-sizing: border-box;top: 2em;bottom: 0;left: 50%;}#sk-75378a18-9ce6-4d8f-9906-b9b55890aaea div.sk-parallel-item {display: flex;flex-direction: column;position: relative;background-color: white;}#sk-75378a18-9ce6-4d8f-9906-b9b55890aaea div.sk-parallel-item:first-child::after {align-self: flex-end;width: 50%;}#sk-75378a18-9ce6-4d8f-9906-b9b55890aaea div.sk-parallel-item:last-child::after {align-self: flex-start;width: 50%;}#sk-75378a18-9ce6-4d8f-9906-b9b55890aaea div.sk-parallel-item:only-child::after {width: 0;}#sk-75378a18-9ce6-4d8f-9906-b9b55890aaea div.sk-dashed-wrapped {border: 1px dashed gray;margin: 0 0.4em 0.5em 0.4em;box-sizing: border-box;padding-bottom: 0.4em;background-color: white;position: relative;}#sk-75378a18-9ce6-4d8f-9906-b9b55890aaea div.sk-label label {font-family: monospace;font-weight: bold;background-color: white;display: inline-block;line-height: 1.2em;}#sk-75378a18-9ce6-4d8f-9906-b9b55890aaea div.sk-label-container {position: relative;z-index: 2;text-align: center;}#sk-75378a18-9ce6-4d8f-9906-b9b55890aaea div.sk-container {/* jupyter's `normalize.less` sets `[hidden] { display: none; }` but bootstrap.min.css set `[hidden] { display: none !important; }` so we also need the `!important` here to be able to override the default hidden behavior on the sphinx rendered scikit-learn.org. See: https://github.com/scikit-learn/scikit-learn/issues/21755 */display: inline-block !important;position: relative;}#sk-75378a18-9ce6-4d8f-9906-b9b55890aaea div.sk-text-repr-fallback {display: none;}</style><div id=\"sk-75378a18-9ce6-4d8f-9906-b9b55890aaea\" class=\"sk-top-container\"><div class=\"sk-text-repr-fallback\"><pre>Pipeline(steps=[(&#x27;Standard_scaler&#x27;, StandardScaler()),\n",
       "                (&#x27;Classifier&#x27;, LogisticRegression())])</pre><b>Please rerun this cell to show the HTML repr or trust the notebook.</b></div><div class=\"sk-container\" hidden><div class=\"sk-item sk-dashed-wrapped\"><div class=\"sk-label-container\"><div class=\"sk-label sk-toggleable\"><input class=\"sk-toggleable__control sk-hidden--visually\" id=\"fc3656ec-ba01-41aa-80c2-94959924e2c9\" type=\"checkbox\" ><label for=\"fc3656ec-ba01-41aa-80c2-94959924e2c9\" class=\"sk-toggleable__label sk-toggleable__label-arrow\">Pipeline</label><div class=\"sk-toggleable__content\"><pre>Pipeline(steps=[(&#x27;Standard_scaler&#x27;, StandardScaler()),\n",
       "                (&#x27;Classifier&#x27;, LogisticRegression())])</pre></div></div></div><div class=\"sk-serial\"><div class=\"sk-item\"><div class=\"sk-estimator sk-toggleable\"><input class=\"sk-toggleable__control sk-hidden--visually\" id=\"cb373198-5f0a-4e36-9691-0a9fb2557557\" type=\"checkbox\" ><label for=\"cb373198-5f0a-4e36-9691-0a9fb2557557\" class=\"sk-toggleable__label sk-toggleable__label-arrow\">StandardScaler</label><div class=\"sk-toggleable__content\"><pre>StandardScaler()</pre></div></div></div><div class=\"sk-item\"><div class=\"sk-estimator sk-toggleable\"><input class=\"sk-toggleable__control sk-hidden--visually\" id=\"8e9ac39a-eabb-4b4b-89c6-7c3e42203ec7\" type=\"checkbox\" ><label for=\"8e9ac39a-eabb-4b4b-89c6-7c3e42203ec7\" class=\"sk-toggleable__label sk-toggleable__label-arrow\">LogisticRegression</label><div class=\"sk-toggleable__content\"><pre>LogisticRegression()</pre></div></div></div></div></div></div></div>"
      ],
      "text/plain": [
       "Pipeline(steps=[('Standard_scaler', StandardScaler()),\n",
       "                ('Classifier', LogisticRegression())])"
      ]
     },
     "execution_count": 21,
     "metadata": {},
     "output_type": "execute_result"
    }
   ],
   "source": [
    "pipe.fit(x_train,y_train)"
   ]
  },
  {
   "cell_type": "code",
   "execution_count": 22,
   "id": "0ea65421",
   "metadata": {},
   "outputs": [
    {
     "data": {
      "text/plain": [
       "array([0, 0, 1, 1, 1, 1, 0, 0, 0, 0, 0, 1, 1, 0, 0, 0, 0, 0, 1, 1, 0, 1,\n",
       "       1, 0, 1, 0, 0, 1, 1, 0, 1, 1, 1, 1, 1, 1, 1, 1, 1, 1, 1, 1, 0, 1,\n",
       "       0, 1, 0, 1, 1, 1, 1, 1, 0, 1, 0, 0, 0, 0, 1, 0, 0, 1, 1, 1, 1, 1,\n",
       "       0, 0, 0, 1, 1, 0, 0, 0, 1, 0, 1, 1, 1, 0, 0, 1, 0, 0, 0, 1, 1, 1,\n",
       "       1, 0, 0, 0, 1, 1, 0, 1, 1, 0, 1, 0, 1, 0, 0, 1, 0, 0, 1, 1, 0, 0,\n",
       "       1, 0, 0, 0, 1, 1, 0, 1, 1, 0, 1, 1, 0, 0, 1, 1, 0, 1, 0, 1, 1, 0,\n",
       "       1, 0, 1, 0, 0, 0, 1, 0, 0, 1, 0, 1, 0, 0, 0, 0, 1, 1, 1, 1, 0, 1,\n",
       "       0, 1, 1, 1, 0, 1, 1, 0, 0, 1, 1, 0, 1, 1, 0, 0, 0, 1, 0, 1, 1, 0,\n",
       "       0, 0, 0, 1, 0, 0, 0, 0, 1, 0, 0, 1, 0, 1, 0, 1, 0, 1, 1, 0, 1, 1,\n",
       "       1, 0, 0, 1, 0, 0, 0, 0, 1, 0, 1, 0, 0, 0, 1, 0, 0, 0, 0, 1, 1, 0,\n",
       "       0, 1, 0, 1, 1, 0, 1, 1, 1, 1, 1, 1, 1, 1, 1, 1, 1, 1, 1, 1, 0, 1,\n",
       "       1, 0, 1, 0, 0, 1, 0, 0, 1, 0, 0, 1, 1, 0, 1, 0, 0, 1, 1, 1, 1, 1,\n",
       "       1, 0, 1, 0, 1, 1, 0, 1, 0, 1, 1, 1, 0, 1, 1, 0, 0, 0, 1, 0, 1, 1,\n",
       "       1, 1, 0, 1, 0, 0, 1, 0, 1, 0, 1, 1, 0, 0, 0, 0, 0, 1, 0, 0, 0, 0,\n",
       "       1, 0, 0, 0, 0, 0, 0, 1, 1, 0, 1, 1, 1, 0, 1, 1, 1, 0, 1, 0, 1, 1])"
      ]
     },
     "execution_count": 22,
     "metadata": {},
     "output_type": "execute_result"
    }
   ],
   "source": [
    "y_pred=pipe.predict(x_test)\n",
    "y_pred"
   ]
  },
  {
   "cell_type": "code",
   "execution_count": null,
   "id": "87e95818",
   "metadata": {},
   "outputs": [],
   "source": []
  },
  {
   "cell_type": "code",
   "execution_count": 29,
   "id": "e04c2b17",
   "metadata": {},
   "outputs": [
    {
     "data": {
      "text/html": [
       "<style>#sk-6e62cec0-5c12-4be7-912a-29737afebee5 {color: black;background-color: white;}#sk-6e62cec0-5c12-4be7-912a-29737afebee5 pre{padding: 0;}#sk-6e62cec0-5c12-4be7-912a-29737afebee5 div.sk-toggleable {background-color: white;}#sk-6e62cec0-5c12-4be7-912a-29737afebee5 label.sk-toggleable__label {cursor: pointer;display: block;width: 100%;margin-bottom: 0;padding: 0.3em;box-sizing: border-box;text-align: center;}#sk-6e62cec0-5c12-4be7-912a-29737afebee5 label.sk-toggleable__label-arrow:before {content: \"▸\";float: left;margin-right: 0.25em;color: #696969;}#sk-6e62cec0-5c12-4be7-912a-29737afebee5 label.sk-toggleable__label-arrow:hover:before {color: black;}#sk-6e62cec0-5c12-4be7-912a-29737afebee5 div.sk-estimator:hover label.sk-toggleable__label-arrow:before {color: black;}#sk-6e62cec0-5c12-4be7-912a-29737afebee5 div.sk-toggleable__content {max-height: 0;max-width: 0;overflow: hidden;text-align: left;background-color: #f0f8ff;}#sk-6e62cec0-5c12-4be7-912a-29737afebee5 div.sk-toggleable__content pre {margin: 0.2em;color: black;border-radius: 0.25em;background-color: #f0f8ff;}#sk-6e62cec0-5c12-4be7-912a-29737afebee5 input.sk-toggleable__control:checked~div.sk-toggleable__content {max-height: 200px;max-width: 100%;overflow: auto;}#sk-6e62cec0-5c12-4be7-912a-29737afebee5 input.sk-toggleable__control:checked~label.sk-toggleable__label-arrow:before {content: \"▾\";}#sk-6e62cec0-5c12-4be7-912a-29737afebee5 div.sk-estimator input.sk-toggleable__control:checked~label.sk-toggleable__label {background-color: #d4ebff;}#sk-6e62cec0-5c12-4be7-912a-29737afebee5 div.sk-label input.sk-toggleable__control:checked~label.sk-toggleable__label {background-color: #d4ebff;}#sk-6e62cec0-5c12-4be7-912a-29737afebee5 input.sk-hidden--visually {border: 0;clip: rect(1px 1px 1px 1px);clip: rect(1px, 1px, 1px, 1px);height: 1px;margin: -1px;overflow: hidden;padding: 0;position: absolute;width: 1px;}#sk-6e62cec0-5c12-4be7-912a-29737afebee5 div.sk-estimator {font-family: monospace;background-color: #f0f8ff;border: 1px dotted black;border-radius: 0.25em;box-sizing: border-box;margin-bottom: 0.5em;}#sk-6e62cec0-5c12-4be7-912a-29737afebee5 div.sk-estimator:hover {background-color: #d4ebff;}#sk-6e62cec0-5c12-4be7-912a-29737afebee5 div.sk-parallel-item::after {content: \"\";width: 100%;border-bottom: 1px solid gray;flex-grow: 1;}#sk-6e62cec0-5c12-4be7-912a-29737afebee5 div.sk-label:hover label.sk-toggleable__label {background-color: #d4ebff;}#sk-6e62cec0-5c12-4be7-912a-29737afebee5 div.sk-serial::before {content: \"\";position: absolute;border-left: 1px solid gray;box-sizing: border-box;top: 2em;bottom: 0;left: 50%;}#sk-6e62cec0-5c12-4be7-912a-29737afebee5 div.sk-serial {display: flex;flex-direction: column;align-items: center;background-color: white;padding-right: 0.2em;padding-left: 0.2em;}#sk-6e62cec0-5c12-4be7-912a-29737afebee5 div.sk-item {z-index: 1;}#sk-6e62cec0-5c12-4be7-912a-29737afebee5 div.sk-parallel {display: flex;align-items: stretch;justify-content: center;background-color: white;}#sk-6e62cec0-5c12-4be7-912a-29737afebee5 div.sk-parallel::before {content: \"\";position: absolute;border-left: 1px solid gray;box-sizing: border-box;top: 2em;bottom: 0;left: 50%;}#sk-6e62cec0-5c12-4be7-912a-29737afebee5 div.sk-parallel-item {display: flex;flex-direction: column;position: relative;background-color: white;}#sk-6e62cec0-5c12-4be7-912a-29737afebee5 div.sk-parallel-item:first-child::after {align-self: flex-end;width: 50%;}#sk-6e62cec0-5c12-4be7-912a-29737afebee5 div.sk-parallel-item:last-child::after {align-self: flex-start;width: 50%;}#sk-6e62cec0-5c12-4be7-912a-29737afebee5 div.sk-parallel-item:only-child::after {width: 0;}#sk-6e62cec0-5c12-4be7-912a-29737afebee5 div.sk-dashed-wrapped {border: 1px dashed gray;margin: 0 0.4em 0.5em 0.4em;box-sizing: border-box;padding-bottom: 0.4em;background-color: white;position: relative;}#sk-6e62cec0-5c12-4be7-912a-29737afebee5 div.sk-label label {font-family: monospace;font-weight: bold;background-color: white;display: inline-block;line-height: 1.2em;}#sk-6e62cec0-5c12-4be7-912a-29737afebee5 div.sk-label-container {position: relative;z-index: 2;text-align: center;}#sk-6e62cec0-5c12-4be7-912a-29737afebee5 div.sk-container {/* jupyter's `normalize.less` sets `[hidden] { display: none; }` but bootstrap.min.css set `[hidden] { display: none !important; }` so we also need the `!important` here to be able to override the default hidden behavior on the sphinx rendered scikit-learn.org. See: https://github.com/scikit-learn/scikit-learn/issues/21755 */display: inline-block !important;position: relative;}#sk-6e62cec0-5c12-4be7-912a-29737afebee5 div.sk-text-repr-fallback {display: none;}</style><div id=\"sk-6e62cec0-5c12-4be7-912a-29737afebee5\" class=\"sk-top-container\"><div class=\"sk-text-repr-fallback\"><pre>Pipeline(steps=[(&#x27;scaling&#x27;, StandardScaler()), (&#x27;PCA&#x27;, PCA(n_components=3)),\n",
       "                (&#x27;SVC&#x27;, SVC())])</pre><b>Please rerun this cell to show the HTML repr or trust the notebook.</b></div><div class=\"sk-container\" hidden><div class=\"sk-item sk-dashed-wrapped\"><div class=\"sk-label-container\"><div class=\"sk-label sk-toggleable\"><input class=\"sk-toggleable__control sk-hidden--visually\" id=\"62569b3a-ddab-4c9e-8b86-e91be12204f4\" type=\"checkbox\" ><label for=\"62569b3a-ddab-4c9e-8b86-e91be12204f4\" class=\"sk-toggleable__label sk-toggleable__label-arrow\">Pipeline</label><div class=\"sk-toggleable__content\"><pre>Pipeline(steps=[(&#x27;scaling&#x27;, StandardScaler()), (&#x27;PCA&#x27;, PCA(n_components=3)),\n",
       "                (&#x27;SVC&#x27;, SVC())])</pre></div></div></div><div class=\"sk-serial\"><div class=\"sk-item\"><div class=\"sk-estimator sk-toggleable\"><input class=\"sk-toggleable__control sk-hidden--visually\" id=\"98901134-ead9-4588-bd87-4c392682c4a9\" type=\"checkbox\" ><label for=\"98901134-ead9-4588-bd87-4c392682c4a9\" class=\"sk-toggleable__label sk-toggleable__label-arrow\">StandardScaler</label><div class=\"sk-toggleable__content\"><pre>StandardScaler()</pre></div></div></div><div class=\"sk-item\"><div class=\"sk-estimator sk-toggleable\"><input class=\"sk-toggleable__control sk-hidden--visually\" id=\"32978e35-6f51-4aea-a285-d8778e050608\" type=\"checkbox\" ><label for=\"32978e35-6f51-4aea-a285-d8778e050608\" class=\"sk-toggleable__label sk-toggleable__label-arrow\">PCA</label><div class=\"sk-toggleable__content\"><pre>PCA(n_components=3)</pre></div></div></div><div class=\"sk-item\"><div class=\"sk-estimator sk-toggleable\"><input class=\"sk-toggleable__control sk-hidden--visually\" id=\"124bdf1c-6687-4b57-af8a-fcf4d33b16f8\" type=\"checkbox\" ><label for=\"124bdf1c-6687-4b57-af8a-fcf4d33b16f8\" class=\"sk-toggleable__label sk-toggleable__label-arrow\">SVC</label><div class=\"sk-toggleable__content\"><pre>SVC()</pre></div></div></div></div></div></div></div>"
      ],
      "text/plain": [
       "Pipeline(steps=[('scaling', StandardScaler()), ('PCA', PCA(n_components=3)),\n",
       "                ('SVC', SVC())])"
      ]
     },
     "execution_count": 29,
     "metadata": {},
     "output_type": "execute_result"
    }
   ],
   "source": [
    "#Display a pipeline with standard scaler, dimensionality reduction and then estimator\n",
    "from sklearn.preprocessing import StandardScaler\n",
    "from sklearn.decomposition import PCA\n",
    "from sklearn.svm import SVC\n",
    "steps=[('scaling',StandardScaler()),('PCA',PCA(n_components=3)),('SVC',SVC())]\n",
    "Pipeline(steps)"
   ]
  },
  {
   "cell_type": "code",
   "execution_count": 31,
   "id": "77a9f68e",
   "metadata": {},
   "outputs": [
    {
     "data": {
      "text/plain": [
       "array([[ 0.54887757, -0.09742168,  0.57922553, ..., -0.84207427,\n",
       "         0.80082427,  0.48765508],\n",
       "       [ 0.7705309 ,  0.61366079,  0.97492118, ..., -1.16801727,\n",
       "        -0.54792824, -0.34604446],\n",
       "       [-0.38717851,  0.86087322, -0.61241839, ..., -1.50165295,\n",
       "         0.19089856,  1.75046558],\n",
       "       ...,\n",
       "       [-0.35409254,  0.93380293, -0.74808022, ...,  0.29621508,\n",
       "        -0.41197651,  1.17242813],\n",
       "       [ 0.14190828, -0.60559547,  0.7455801 , ..., -1.81489627,\n",
       "        -0.08146364,  1.11924424],\n",
       "       [-0.46978139, -0.66135442, -0.70200961, ..., -0.60952071,\n",
       "        -0.7328217 , -0.59122236]])"
      ]
     },
     "execution_count": 31,
     "metadata": {},
     "output_type": "execute_result"
    }
   ],
   "source": [
    "pipe2=Pipeline(steps)\n",
    "pipe2['scaling'].fit_transform(x_train)"
   ]
  },
  {
   "cell_type": "code",
   "execution_count": 32,
   "id": "727fe46b",
   "metadata": {},
   "outputs": [
    {
     "data": {
      "text/html": [
       "<style>#sk-d3bdd4fe-1640-48c8-acfa-db7855574cdc {color: black;background-color: white;}#sk-d3bdd4fe-1640-48c8-acfa-db7855574cdc pre{padding: 0;}#sk-d3bdd4fe-1640-48c8-acfa-db7855574cdc div.sk-toggleable {background-color: white;}#sk-d3bdd4fe-1640-48c8-acfa-db7855574cdc label.sk-toggleable__label {cursor: pointer;display: block;width: 100%;margin-bottom: 0;padding: 0.3em;box-sizing: border-box;text-align: center;}#sk-d3bdd4fe-1640-48c8-acfa-db7855574cdc label.sk-toggleable__label-arrow:before {content: \"▸\";float: left;margin-right: 0.25em;color: #696969;}#sk-d3bdd4fe-1640-48c8-acfa-db7855574cdc label.sk-toggleable__label-arrow:hover:before {color: black;}#sk-d3bdd4fe-1640-48c8-acfa-db7855574cdc div.sk-estimator:hover label.sk-toggleable__label-arrow:before {color: black;}#sk-d3bdd4fe-1640-48c8-acfa-db7855574cdc div.sk-toggleable__content {max-height: 0;max-width: 0;overflow: hidden;text-align: left;background-color: #f0f8ff;}#sk-d3bdd4fe-1640-48c8-acfa-db7855574cdc div.sk-toggleable__content pre {margin: 0.2em;color: black;border-radius: 0.25em;background-color: #f0f8ff;}#sk-d3bdd4fe-1640-48c8-acfa-db7855574cdc input.sk-toggleable__control:checked~div.sk-toggleable__content {max-height: 200px;max-width: 100%;overflow: auto;}#sk-d3bdd4fe-1640-48c8-acfa-db7855574cdc input.sk-toggleable__control:checked~label.sk-toggleable__label-arrow:before {content: \"▾\";}#sk-d3bdd4fe-1640-48c8-acfa-db7855574cdc div.sk-estimator input.sk-toggleable__control:checked~label.sk-toggleable__label {background-color: #d4ebff;}#sk-d3bdd4fe-1640-48c8-acfa-db7855574cdc div.sk-label input.sk-toggleable__control:checked~label.sk-toggleable__label {background-color: #d4ebff;}#sk-d3bdd4fe-1640-48c8-acfa-db7855574cdc input.sk-hidden--visually {border: 0;clip: rect(1px 1px 1px 1px);clip: rect(1px, 1px, 1px, 1px);height: 1px;margin: -1px;overflow: hidden;padding: 0;position: absolute;width: 1px;}#sk-d3bdd4fe-1640-48c8-acfa-db7855574cdc div.sk-estimator {font-family: monospace;background-color: #f0f8ff;border: 1px dotted black;border-radius: 0.25em;box-sizing: border-box;margin-bottom: 0.5em;}#sk-d3bdd4fe-1640-48c8-acfa-db7855574cdc div.sk-estimator:hover {background-color: #d4ebff;}#sk-d3bdd4fe-1640-48c8-acfa-db7855574cdc div.sk-parallel-item::after {content: \"\";width: 100%;border-bottom: 1px solid gray;flex-grow: 1;}#sk-d3bdd4fe-1640-48c8-acfa-db7855574cdc div.sk-label:hover label.sk-toggleable__label {background-color: #d4ebff;}#sk-d3bdd4fe-1640-48c8-acfa-db7855574cdc div.sk-serial::before {content: \"\";position: absolute;border-left: 1px solid gray;box-sizing: border-box;top: 2em;bottom: 0;left: 50%;}#sk-d3bdd4fe-1640-48c8-acfa-db7855574cdc div.sk-serial {display: flex;flex-direction: column;align-items: center;background-color: white;padding-right: 0.2em;padding-left: 0.2em;}#sk-d3bdd4fe-1640-48c8-acfa-db7855574cdc div.sk-item {z-index: 1;}#sk-d3bdd4fe-1640-48c8-acfa-db7855574cdc div.sk-parallel {display: flex;align-items: stretch;justify-content: center;background-color: white;}#sk-d3bdd4fe-1640-48c8-acfa-db7855574cdc div.sk-parallel::before {content: \"\";position: absolute;border-left: 1px solid gray;box-sizing: border-box;top: 2em;bottom: 0;left: 50%;}#sk-d3bdd4fe-1640-48c8-acfa-db7855574cdc div.sk-parallel-item {display: flex;flex-direction: column;position: relative;background-color: white;}#sk-d3bdd4fe-1640-48c8-acfa-db7855574cdc div.sk-parallel-item:first-child::after {align-self: flex-end;width: 50%;}#sk-d3bdd4fe-1640-48c8-acfa-db7855574cdc div.sk-parallel-item:last-child::after {align-self: flex-start;width: 50%;}#sk-d3bdd4fe-1640-48c8-acfa-db7855574cdc div.sk-parallel-item:only-child::after {width: 0;}#sk-d3bdd4fe-1640-48c8-acfa-db7855574cdc div.sk-dashed-wrapped {border: 1px dashed gray;margin: 0 0.4em 0.5em 0.4em;box-sizing: border-box;padding-bottom: 0.4em;background-color: white;position: relative;}#sk-d3bdd4fe-1640-48c8-acfa-db7855574cdc div.sk-label label {font-family: monospace;font-weight: bold;background-color: white;display: inline-block;line-height: 1.2em;}#sk-d3bdd4fe-1640-48c8-acfa-db7855574cdc div.sk-label-container {position: relative;z-index: 2;text-align: center;}#sk-d3bdd4fe-1640-48c8-acfa-db7855574cdc div.sk-container {/* jupyter's `normalize.less` sets `[hidden] { display: none; }` but bootstrap.min.css set `[hidden] { display: none !important; }` so we also need the `!important` here to be able to override the default hidden behavior on the sphinx rendered scikit-learn.org. See: https://github.com/scikit-learn/scikit-learn/issues/21755 */display: inline-block !important;position: relative;}#sk-d3bdd4fe-1640-48c8-acfa-db7855574cdc div.sk-text-repr-fallback {display: none;}</style><div id=\"sk-d3bdd4fe-1640-48c8-acfa-db7855574cdc\" class=\"sk-top-container\"><div class=\"sk-text-repr-fallback\"><pre>Pipeline(steps=[(&#x27;scaling&#x27;, StandardScaler()), (&#x27;PCA&#x27;, PCA(n_components=3)),\n",
       "                (&#x27;SVC&#x27;, SVC())])</pre><b>Please rerun this cell to show the HTML repr or trust the notebook.</b></div><div class=\"sk-container\" hidden><div class=\"sk-item sk-dashed-wrapped\"><div class=\"sk-label-container\"><div class=\"sk-label sk-toggleable\"><input class=\"sk-toggleable__control sk-hidden--visually\" id=\"5a68d737-36c4-4e0b-bf25-87a3c55a10d4\" type=\"checkbox\" ><label for=\"5a68d737-36c4-4e0b-bf25-87a3c55a10d4\" class=\"sk-toggleable__label sk-toggleable__label-arrow\">Pipeline</label><div class=\"sk-toggleable__content\"><pre>Pipeline(steps=[(&#x27;scaling&#x27;, StandardScaler()), (&#x27;PCA&#x27;, PCA(n_components=3)),\n",
       "                (&#x27;SVC&#x27;, SVC())])</pre></div></div></div><div class=\"sk-serial\"><div class=\"sk-item\"><div class=\"sk-estimator sk-toggleable\"><input class=\"sk-toggleable__control sk-hidden--visually\" id=\"2210b09d-221e-4063-a739-055b196083d1\" type=\"checkbox\" ><label for=\"2210b09d-221e-4063-a739-055b196083d1\" class=\"sk-toggleable__label sk-toggleable__label-arrow\">StandardScaler</label><div class=\"sk-toggleable__content\"><pre>StandardScaler()</pre></div></div></div><div class=\"sk-item\"><div class=\"sk-estimator sk-toggleable\"><input class=\"sk-toggleable__control sk-hidden--visually\" id=\"a5ecb6b7-2978-486f-804f-3102c787077e\" type=\"checkbox\" ><label for=\"a5ecb6b7-2978-486f-804f-3102c787077e\" class=\"sk-toggleable__label sk-toggleable__label-arrow\">PCA</label><div class=\"sk-toggleable__content\"><pre>PCA(n_components=3)</pre></div></div></div><div class=\"sk-item\"><div class=\"sk-estimator sk-toggleable\"><input class=\"sk-toggleable__control sk-hidden--visually\" id=\"6aea8db5-a127-4e0a-b87b-9220332b3e7b\" type=\"checkbox\" ><label for=\"6aea8db5-a127-4e0a-b87b-9220332b3e7b\" class=\"sk-toggleable__label sk-toggleable__label-arrow\">SVC</label><div class=\"sk-toggleable__content\"><pre>SVC()</pre></div></div></div></div></div></div></div>"
      ],
      "text/plain": [
       "Pipeline(steps=[('scaling', StandardScaler()), ('PCA', PCA(n_components=3)),\n",
       "                ('SVC', SVC())])"
      ]
     },
     "execution_count": 32,
     "metadata": {},
     "output_type": "execute_result"
    }
   ],
   "source": [
    "pipe2.fit(x_train,y_train)"
   ]
  },
  {
   "cell_type": "code",
   "execution_count": 33,
   "id": "4802f012",
   "metadata": {},
   "outputs": [
    {
     "data": {
      "text/plain": [
       "array([0, 0, 1, 1, 1, 1, 0, 0, 0, 0, 1, 1, 1, 0, 0, 0, 1, 0, 1, 0, 0, 1,\n",
       "       1, 0, 0, 0, 0, 1, 1, 0, 1, 1, 1, 1, 1, 0, 0, 1, 0, 1, 1, 1, 0, 1,\n",
       "       0, 1, 0, 1, 1, 1, 0, 0, 0, 0, 0, 0, 0, 0, 0, 0, 0, 0, 0, 1, 1, 0,\n",
       "       1, 0, 0, 0, 1, 0, 0, 1, 1, 0, 1, 1, 1, 0, 0, 1, 0, 0, 0, 1, 1, 1,\n",
       "       0, 1, 0, 0, 1, 1, 0, 1, 1, 1, 0, 0, 1, 0, 0, 0, 0, 0, 1, 1, 0, 0,\n",
       "       1, 1, 0, 0, 1, 1, 0, 1, 1, 0, 1, 1, 0, 0, 1, 1, 0, 0, 0, 1, 1, 0,\n",
       "       1, 0, 1, 0, 0, 0, 0, 0, 0, 1, 0, 1, 0, 0, 0, 0, 1, 0, 1, 0, 0, 1,\n",
       "       0, 1, 0, 1, 0, 1, 1, 0, 0, 1, 1, 0, 1, 1, 1, 1, 0, 0, 0, 0, 0, 0,\n",
       "       0, 0, 1, 1, 0, 0, 0, 0, 0, 0, 0, 1, 0, 0, 0, 1, 0, 1, 1, 0, 0, 0,\n",
       "       0, 1, 1, 1, 0, 0, 0, 1, 1, 0, 1, 0, 0, 0, 1, 0, 0, 1, 0, 0, 1, 0,\n",
       "       0, 0, 0, 0, 1, 0, 1, 1, 1, 1, 0, 1, 1, 1, 0, 1, 0, 1, 0, 1, 0, 1,\n",
       "       1, 0, 0, 0, 0, 1, 0, 0, 1, 0, 0, 1, 1, 0, 0, 0, 1, 0, 1, 1, 1, 1,\n",
       "       1, 0, 1, 1, 1, 1, 0, 1, 1, 1, 1, 1, 1, 1, 1, 0, 1, 0, 1, 0, 1, 0,\n",
       "       1, 1, 0, 1, 1, 0, 1, 0, 0, 0, 0, 1, 0, 0, 0, 0, 1, 0, 0, 1, 1, 0,\n",
       "       1, 1, 1, 0, 0, 0, 1, 1, 1, 0, 1, 0, 1, 0, 0, 0, 1, 0, 1, 0, 0, 1])"
      ]
     },
     "execution_count": 33,
     "metadata": {},
     "output_type": "execute_result"
    }
   ],
   "source": [
    "pipe2.predict(x_test)"
   ]
  },
  {
   "cell_type": "code",
   "execution_count": null,
   "id": "f6d5362b",
   "metadata": {},
   "outputs": [],
   "source": []
  },
  {
   "cell_type": "code",
   "execution_count": 37,
   "id": "2070208c",
   "metadata": {},
   "outputs": [
    {
     "data": {
      "text/html": [
       "<style>#sk-ba7363c8-6753-41d6-beec-96793a64e04e {color: black;background-color: white;}#sk-ba7363c8-6753-41d6-beec-96793a64e04e pre{padding: 0;}#sk-ba7363c8-6753-41d6-beec-96793a64e04e div.sk-toggleable {background-color: white;}#sk-ba7363c8-6753-41d6-beec-96793a64e04e label.sk-toggleable__label {cursor: pointer;display: block;width: 100%;margin-bottom: 0;padding: 0.3em;box-sizing: border-box;text-align: center;}#sk-ba7363c8-6753-41d6-beec-96793a64e04e label.sk-toggleable__label-arrow:before {content: \"▸\";float: left;margin-right: 0.25em;color: #696969;}#sk-ba7363c8-6753-41d6-beec-96793a64e04e label.sk-toggleable__label-arrow:hover:before {color: black;}#sk-ba7363c8-6753-41d6-beec-96793a64e04e div.sk-estimator:hover label.sk-toggleable__label-arrow:before {color: black;}#sk-ba7363c8-6753-41d6-beec-96793a64e04e div.sk-toggleable__content {max-height: 0;max-width: 0;overflow: hidden;text-align: left;background-color: #f0f8ff;}#sk-ba7363c8-6753-41d6-beec-96793a64e04e div.sk-toggleable__content pre {margin: 0.2em;color: black;border-radius: 0.25em;background-color: #f0f8ff;}#sk-ba7363c8-6753-41d6-beec-96793a64e04e input.sk-toggleable__control:checked~div.sk-toggleable__content {max-height: 200px;max-width: 100%;overflow: auto;}#sk-ba7363c8-6753-41d6-beec-96793a64e04e input.sk-toggleable__control:checked~label.sk-toggleable__label-arrow:before {content: \"▾\";}#sk-ba7363c8-6753-41d6-beec-96793a64e04e div.sk-estimator input.sk-toggleable__control:checked~label.sk-toggleable__label {background-color: #d4ebff;}#sk-ba7363c8-6753-41d6-beec-96793a64e04e div.sk-label input.sk-toggleable__control:checked~label.sk-toggleable__label {background-color: #d4ebff;}#sk-ba7363c8-6753-41d6-beec-96793a64e04e input.sk-hidden--visually {border: 0;clip: rect(1px 1px 1px 1px);clip: rect(1px, 1px, 1px, 1px);height: 1px;margin: -1px;overflow: hidden;padding: 0;position: absolute;width: 1px;}#sk-ba7363c8-6753-41d6-beec-96793a64e04e div.sk-estimator {font-family: monospace;background-color: #f0f8ff;border: 1px dotted black;border-radius: 0.25em;box-sizing: border-box;margin-bottom: 0.5em;}#sk-ba7363c8-6753-41d6-beec-96793a64e04e div.sk-estimator:hover {background-color: #d4ebff;}#sk-ba7363c8-6753-41d6-beec-96793a64e04e div.sk-parallel-item::after {content: \"\";width: 100%;border-bottom: 1px solid gray;flex-grow: 1;}#sk-ba7363c8-6753-41d6-beec-96793a64e04e div.sk-label:hover label.sk-toggleable__label {background-color: #d4ebff;}#sk-ba7363c8-6753-41d6-beec-96793a64e04e div.sk-serial::before {content: \"\";position: absolute;border-left: 1px solid gray;box-sizing: border-box;top: 2em;bottom: 0;left: 50%;}#sk-ba7363c8-6753-41d6-beec-96793a64e04e div.sk-serial {display: flex;flex-direction: column;align-items: center;background-color: white;padding-right: 0.2em;padding-left: 0.2em;}#sk-ba7363c8-6753-41d6-beec-96793a64e04e div.sk-item {z-index: 1;}#sk-ba7363c8-6753-41d6-beec-96793a64e04e div.sk-parallel {display: flex;align-items: stretch;justify-content: center;background-color: white;}#sk-ba7363c8-6753-41d6-beec-96793a64e04e div.sk-parallel::before {content: \"\";position: absolute;border-left: 1px solid gray;box-sizing: border-box;top: 2em;bottom: 0;left: 50%;}#sk-ba7363c8-6753-41d6-beec-96793a64e04e div.sk-parallel-item {display: flex;flex-direction: column;position: relative;background-color: white;}#sk-ba7363c8-6753-41d6-beec-96793a64e04e div.sk-parallel-item:first-child::after {align-self: flex-end;width: 50%;}#sk-ba7363c8-6753-41d6-beec-96793a64e04e div.sk-parallel-item:last-child::after {align-self: flex-start;width: 50%;}#sk-ba7363c8-6753-41d6-beec-96793a64e04e div.sk-parallel-item:only-child::after {width: 0;}#sk-ba7363c8-6753-41d6-beec-96793a64e04e div.sk-dashed-wrapped {border: 1px dashed gray;margin: 0 0.4em 0.5em 0.4em;box-sizing: border-box;padding-bottom: 0.4em;background-color: white;position: relative;}#sk-ba7363c8-6753-41d6-beec-96793a64e04e div.sk-label label {font-family: monospace;font-weight: bold;background-color: white;display: inline-block;line-height: 1.2em;}#sk-ba7363c8-6753-41d6-beec-96793a64e04e div.sk-label-container {position: relative;z-index: 2;text-align: center;}#sk-ba7363c8-6753-41d6-beec-96793a64e04e div.sk-container {/* jupyter's `normalize.less` sets `[hidden] { display: none; }` but bootstrap.min.css set `[hidden] { display: none !important; }` so we also need the `!important` here to be able to override the default hidden behavior on the sphinx rendered scikit-learn.org. See: https://github.com/scikit-learn/scikit-learn/issues/21755 */display: inline-block !important;position: relative;}#sk-ba7363c8-6753-41d6-beec-96793a64e04e div.sk-text-repr-fallback {display: none;}</style><div id=\"sk-ba7363c8-6753-41d6-beec-96793a64e04e\" class=\"sk-top-container\"><div class=\"sk-text-repr-fallback\"><pre>Pipeline(steps=[(&#x27;imputation_mean&#x27;,\n",
       "                 SimpleImputer(missing_values=&lt;function mean at 0x000001E3C1482280&gt;)),\n",
       "                (&#x27;scaler&#x27;, StandardScaler())])</pre><b>Please rerun this cell to show the HTML repr or trust the notebook.</b></div><div class=\"sk-container\" hidden><div class=\"sk-item sk-dashed-wrapped\"><div class=\"sk-label-container\"><div class=\"sk-label sk-toggleable\"><input class=\"sk-toggleable__control sk-hidden--visually\" id=\"8c58afac-784f-4ec3-b2a1-271f1ab1676b\" type=\"checkbox\" ><label for=\"8c58afac-784f-4ec3-b2a1-271f1ab1676b\" class=\"sk-toggleable__label sk-toggleable__label-arrow\">Pipeline</label><div class=\"sk-toggleable__content\"><pre>Pipeline(steps=[(&#x27;imputation_mean&#x27;,\n",
       "                 SimpleImputer(missing_values=&lt;function mean at 0x000001E3C1482280&gt;)),\n",
       "                (&#x27;scaler&#x27;, StandardScaler())])</pre></div></div></div><div class=\"sk-serial\"><div class=\"sk-item\"><div class=\"sk-estimator sk-toggleable\"><input class=\"sk-toggleable__control sk-hidden--visually\" id=\"4809994c-0a66-4117-8cce-90e5876c2350\" type=\"checkbox\" ><label for=\"4809994c-0a66-4117-8cce-90e5876c2350\" class=\"sk-toggleable__label sk-toggleable__label-arrow\">SimpleImputer</label><div class=\"sk-toggleable__content\"><pre>SimpleImputer(missing_values=&lt;function mean at 0x000001E3C1482280&gt;)</pre></div></div></div><div class=\"sk-item\"><div class=\"sk-estimator sk-toggleable\"><input class=\"sk-toggleable__control sk-hidden--visually\" id=\"63e1f599-e217-4186-ad71-e82bc6fdc8e8\" type=\"checkbox\" ><label for=\"63e1f599-e217-4186-ad71-e82bc6fdc8e8\" class=\"sk-toggleable__label sk-toggleable__label-arrow\">StandardScaler</label><div class=\"sk-toggleable__content\"><pre>StandardScaler()</pre></div></div></div></div></div></div></div>"
      ],
      "text/plain": [
       "Pipeline(steps=[('imputation_mean',\n",
       "                 SimpleImputer(missing_values=<function mean at 0x000001E3C1482280>)),\n",
       "                ('scaler', StandardScaler())])"
      ]
     },
     "execution_count": 37,
     "metadata": {},
     "output_type": "execute_result"
    }
   ],
   "source": [
    "#Complex examples of columns transformer\n",
    "from sklearn.impute import SimpleImputer\n",
    "import numpy as np\n",
    "numeric_processor=Pipeline(steps=[('imputation_mean',SimpleImputer(missing_values=np.mean,strategy='mean')),\n",
    "                                 ('scaler',StandardScaler())])\n",
    "numeric_processor"
   ]
  },
  {
   "cell_type": "code",
   "execution_count": 39,
   "id": "9837bd68",
   "metadata": {},
   "outputs": [
    {
     "data": {
      "text/html": [
       "<style>#sk-148d0811-9801-45dd-948b-20eff9bed0d9 {color: black;background-color: white;}#sk-148d0811-9801-45dd-948b-20eff9bed0d9 pre{padding: 0;}#sk-148d0811-9801-45dd-948b-20eff9bed0d9 div.sk-toggleable {background-color: white;}#sk-148d0811-9801-45dd-948b-20eff9bed0d9 label.sk-toggleable__label {cursor: pointer;display: block;width: 100%;margin-bottom: 0;padding: 0.3em;box-sizing: border-box;text-align: center;}#sk-148d0811-9801-45dd-948b-20eff9bed0d9 label.sk-toggleable__label-arrow:before {content: \"▸\";float: left;margin-right: 0.25em;color: #696969;}#sk-148d0811-9801-45dd-948b-20eff9bed0d9 label.sk-toggleable__label-arrow:hover:before {color: black;}#sk-148d0811-9801-45dd-948b-20eff9bed0d9 div.sk-estimator:hover label.sk-toggleable__label-arrow:before {color: black;}#sk-148d0811-9801-45dd-948b-20eff9bed0d9 div.sk-toggleable__content {max-height: 0;max-width: 0;overflow: hidden;text-align: left;background-color: #f0f8ff;}#sk-148d0811-9801-45dd-948b-20eff9bed0d9 div.sk-toggleable__content pre {margin: 0.2em;color: black;border-radius: 0.25em;background-color: #f0f8ff;}#sk-148d0811-9801-45dd-948b-20eff9bed0d9 input.sk-toggleable__control:checked~div.sk-toggleable__content {max-height: 200px;max-width: 100%;overflow: auto;}#sk-148d0811-9801-45dd-948b-20eff9bed0d9 input.sk-toggleable__control:checked~label.sk-toggleable__label-arrow:before {content: \"▾\";}#sk-148d0811-9801-45dd-948b-20eff9bed0d9 div.sk-estimator input.sk-toggleable__control:checked~label.sk-toggleable__label {background-color: #d4ebff;}#sk-148d0811-9801-45dd-948b-20eff9bed0d9 div.sk-label input.sk-toggleable__control:checked~label.sk-toggleable__label {background-color: #d4ebff;}#sk-148d0811-9801-45dd-948b-20eff9bed0d9 input.sk-hidden--visually {border: 0;clip: rect(1px 1px 1px 1px);clip: rect(1px, 1px, 1px, 1px);height: 1px;margin: -1px;overflow: hidden;padding: 0;position: absolute;width: 1px;}#sk-148d0811-9801-45dd-948b-20eff9bed0d9 div.sk-estimator {font-family: monospace;background-color: #f0f8ff;border: 1px dotted black;border-radius: 0.25em;box-sizing: border-box;margin-bottom: 0.5em;}#sk-148d0811-9801-45dd-948b-20eff9bed0d9 div.sk-estimator:hover {background-color: #d4ebff;}#sk-148d0811-9801-45dd-948b-20eff9bed0d9 div.sk-parallel-item::after {content: \"\";width: 100%;border-bottom: 1px solid gray;flex-grow: 1;}#sk-148d0811-9801-45dd-948b-20eff9bed0d9 div.sk-label:hover label.sk-toggleable__label {background-color: #d4ebff;}#sk-148d0811-9801-45dd-948b-20eff9bed0d9 div.sk-serial::before {content: \"\";position: absolute;border-left: 1px solid gray;box-sizing: border-box;top: 2em;bottom: 0;left: 50%;}#sk-148d0811-9801-45dd-948b-20eff9bed0d9 div.sk-serial {display: flex;flex-direction: column;align-items: center;background-color: white;padding-right: 0.2em;padding-left: 0.2em;}#sk-148d0811-9801-45dd-948b-20eff9bed0d9 div.sk-item {z-index: 1;}#sk-148d0811-9801-45dd-948b-20eff9bed0d9 div.sk-parallel {display: flex;align-items: stretch;justify-content: center;background-color: white;}#sk-148d0811-9801-45dd-948b-20eff9bed0d9 div.sk-parallel::before {content: \"\";position: absolute;border-left: 1px solid gray;box-sizing: border-box;top: 2em;bottom: 0;left: 50%;}#sk-148d0811-9801-45dd-948b-20eff9bed0d9 div.sk-parallel-item {display: flex;flex-direction: column;position: relative;background-color: white;}#sk-148d0811-9801-45dd-948b-20eff9bed0d9 div.sk-parallel-item:first-child::after {align-self: flex-end;width: 50%;}#sk-148d0811-9801-45dd-948b-20eff9bed0d9 div.sk-parallel-item:last-child::after {align-self: flex-start;width: 50%;}#sk-148d0811-9801-45dd-948b-20eff9bed0d9 div.sk-parallel-item:only-child::after {width: 0;}#sk-148d0811-9801-45dd-948b-20eff9bed0d9 div.sk-dashed-wrapped {border: 1px dashed gray;margin: 0 0.4em 0.5em 0.4em;box-sizing: border-box;padding-bottom: 0.4em;background-color: white;position: relative;}#sk-148d0811-9801-45dd-948b-20eff9bed0d9 div.sk-label label {font-family: monospace;font-weight: bold;background-color: white;display: inline-block;line-height: 1.2em;}#sk-148d0811-9801-45dd-948b-20eff9bed0d9 div.sk-label-container {position: relative;z-index: 2;text-align: center;}#sk-148d0811-9801-45dd-948b-20eff9bed0d9 div.sk-container {/* jupyter's `normalize.less` sets `[hidden] { display: none; }` but bootstrap.min.css set `[hidden] { display: none !important; }` so we also need the `!important` here to be able to override the default hidden behavior on the sphinx rendered scikit-learn.org. See: https://github.com/scikit-learn/scikit-learn/issues/21755 */display: inline-block !important;position: relative;}#sk-148d0811-9801-45dd-948b-20eff9bed0d9 div.sk-text-repr-fallback {display: none;}</style><div id=\"sk-148d0811-9801-45dd-948b-20eff9bed0d9\" class=\"sk-top-container\"><div class=\"sk-text-repr-fallback\"><pre>Pipeline(steps=[(&#x27;Imputation_constant&#x27;,\n",
       "                 SimpleImputer(fill_value=&#x27;missing&#x27;, strategy=&#x27;constant&#x27;)),\n",
       "                (&#x27;onehot&#x27;, OneHotEncoder(handle_unknown=&#x27;ignore&#x27;))])</pre><b>Please rerun this cell to show the HTML repr or trust the notebook.</b></div><div class=\"sk-container\" hidden><div class=\"sk-item sk-dashed-wrapped\"><div class=\"sk-label-container\"><div class=\"sk-label sk-toggleable\"><input class=\"sk-toggleable__control sk-hidden--visually\" id=\"f6a18f89-a11a-40e7-a745-4ac9424bd53a\" type=\"checkbox\" ><label for=\"f6a18f89-a11a-40e7-a745-4ac9424bd53a\" class=\"sk-toggleable__label sk-toggleable__label-arrow\">Pipeline</label><div class=\"sk-toggleable__content\"><pre>Pipeline(steps=[(&#x27;Imputation_constant&#x27;,\n",
       "                 SimpleImputer(fill_value=&#x27;missing&#x27;, strategy=&#x27;constant&#x27;)),\n",
       "                (&#x27;onehot&#x27;, OneHotEncoder(handle_unknown=&#x27;ignore&#x27;))])</pre></div></div></div><div class=\"sk-serial\"><div class=\"sk-item\"><div class=\"sk-estimator sk-toggleable\"><input class=\"sk-toggleable__control sk-hidden--visually\" id=\"34284fa0-9ea2-456a-afbb-2aea8ef8196d\" type=\"checkbox\" ><label for=\"34284fa0-9ea2-456a-afbb-2aea8ef8196d\" class=\"sk-toggleable__label sk-toggleable__label-arrow\">SimpleImputer</label><div class=\"sk-toggleable__content\"><pre>SimpleImputer(fill_value=&#x27;missing&#x27;, strategy=&#x27;constant&#x27;)</pre></div></div></div><div class=\"sk-item\"><div class=\"sk-estimator sk-toggleable\"><input class=\"sk-toggleable__control sk-hidden--visually\" id=\"4894fba8-a6db-40e6-8f29-77767046dd47\" type=\"checkbox\" ><label for=\"4894fba8-a6db-40e6-8f29-77767046dd47\" class=\"sk-toggleable__label sk-toggleable__label-arrow\">OneHotEncoder</label><div class=\"sk-toggleable__content\"><pre>OneHotEncoder(handle_unknown=&#x27;ignore&#x27;)</pre></div></div></div></div></div></div></div>"
      ],
      "text/plain": [
       "Pipeline(steps=[('Imputation_constant',\n",
       "                 SimpleImputer(fill_value='missing', strategy='constant')),\n",
       "                ('onehot', OneHotEncoder(handle_unknown='ignore'))])"
      ]
     },
     "execution_count": 39,
     "metadata": {},
     "output_type": "execute_result"
    }
   ],
   "source": [
    "#categorical preprocessing pipeline\n",
    "from sklearn.preprocessing import OneHotEncoder\n",
    "categorical_processor=Pipeline(steps=[('Imputation_constant',SimpleImputer(fill_value='missing',strategy='constant')),\n",
    "                                         ('onehot',OneHotEncoder(handle_unknown='ignore'))])\n",
    "categorical_processor"
   ]
  },
  {
   "cell_type": "code",
   "execution_count": 43,
   "id": "a9694d07",
   "metadata": {},
   "outputs": [
    {
     "data": {
      "text/html": [
       "<style>#sk-a47b6975-9b09-4152-87af-7bafc3a49f65 {color: black;background-color: white;}#sk-a47b6975-9b09-4152-87af-7bafc3a49f65 pre{padding: 0;}#sk-a47b6975-9b09-4152-87af-7bafc3a49f65 div.sk-toggleable {background-color: white;}#sk-a47b6975-9b09-4152-87af-7bafc3a49f65 label.sk-toggleable__label {cursor: pointer;display: block;width: 100%;margin-bottom: 0;padding: 0.3em;box-sizing: border-box;text-align: center;}#sk-a47b6975-9b09-4152-87af-7bafc3a49f65 label.sk-toggleable__label-arrow:before {content: \"▸\";float: left;margin-right: 0.25em;color: #696969;}#sk-a47b6975-9b09-4152-87af-7bafc3a49f65 label.sk-toggleable__label-arrow:hover:before {color: black;}#sk-a47b6975-9b09-4152-87af-7bafc3a49f65 div.sk-estimator:hover label.sk-toggleable__label-arrow:before {color: black;}#sk-a47b6975-9b09-4152-87af-7bafc3a49f65 div.sk-toggleable__content {max-height: 0;max-width: 0;overflow: hidden;text-align: left;background-color: #f0f8ff;}#sk-a47b6975-9b09-4152-87af-7bafc3a49f65 div.sk-toggleable__content pre {margin: 0.2em;color: black;border-radius: 0.25em;background-color: #f0f8ff;}#sk-a47b6975-9b09-4152-87af-7bafc3a49f65 input.sk-toggleable__control:checked~div.sk-toggleable__content {max-height: 200px;max-width: 100%;overflow: auto;}#sk-a47b6975-9b09-4152-87af-7bafc3a49f65 input.sk-toggleable__control:checked~label.sk-toggleable__label-arrow:before {content: \"▾\";}#sk-a47b6975-9b09-4152-87af-7bafc3a49f65 div.sk-estimator input.sk-toggleable__control:checked~label.sk-toggleable__label {background-color: #d4ebff;}#sk-a47b6975-9b09-4152-87af-7bafc3a49f65 div.sk-label input.sk-toggleable__control:checked~label.sk-toggleable__label {background-color: #d4ebff;}#sk-a47b6975-9b09-4152-87af-7bafc3a49f65 input.sk-hidden--visually {border: 0;clip: rect(1px 1px 1px 1px);clip: rect(1px, 1px, 1px, 1px);height: 1px;margin: -1px;overflow: hidden;padding: 0;position: absolute;width: 1px;}#sk-a47b6975-9b09-4152-87af-7bafc3a49f65 div.sk-estimator {font-family: monospace;background-color: #f0f8ff;border: 1px dotted black;border-radius: 0.25em;box-sizing: border-box;margin-bottom: 0.5em;}#sk-a47b6975-9b09-4152-87af-7bafc3a49f65 div.sk-estimator:hover {background-color: #d4ebff;}#sk-a47b6975-9b09-4152-87af-7bafc3a49f65 div.sk-parallel-item::after {content: \"\";width: 100%;border-bottom: 1px solid gray;flex-grow: 1;}#sk-a47b6975-9b09-4152-87af-7bafc3a49f65 div.sk-label:hover label.sk-toggleable__label {background-color: #d4ebff;}#sk-a47b6975-9b09-4152-87af-7bafc3a49f65 div.sk-serial::before {content: \"\";position: absolute;border-left: 1px solid gray;box-sizing: border-box;top: 2em;bottom: 0;left: 50%;}#sk-a47b6975-9b09-4152-87af-7bafc3a49f65 div.sk-serial {display: flex;flex-direction: column;align-items: center;background-color: white;padding-right: 0.2em;padding-left: 0.2em;}#sk-a47b6975-9b09-4152-87af-7bafc3a49f65 div.sk-item {z-index: 1;}#sk-a47b6975-9b09-4152-87af-7bafc3a49f65 div.sk-parallel {display: flex;align-items: stretch;justify-content: center;background-color: white;}#sk-a47b6975-9b09-4152-87af-7bafc3a49f65 div.sk-parallel::before {content: \"\";position: absolute;border-left: 1px solid gray;box-sizing: border-box;top: 2em;bottom: 0;left: 50%;}#sk-a47b6975-9b09-4152-87af-7bafc3a49f65 div.sk-parallel-item {display: flex;flex-direction: column;position: relative;background-color: white;}#sk-a47b6975-9b09-4152-87af-7bafc3a49f65 div.sk-parallel-item:first-child::after {align-self: flex-end;width: 50%;}#sk-a47b6975-9b09-4152-87af-7bafc3a49f65 div.sk-parallel-item:last-child::after {align-self: flex-start;width: 50%;}#sk-a47b6975-9b09-4152-87af-7bafc3a49f65 div.sk-parallel-item:only-child::after {width: 0;}#sk-a47b6975-9b09-4152-87af-7bafc3a49f65 div.sk-dashed-wrapped {border: 1px dashed gray;margin: 0 0.4em 0.5em 0.4em;box-sizing: border-box;padding-bottom: 0.4em;background-color: white;position: relative;}#sk-a47b6975-9b09-4152-87af-7bafc3a49f65 div.sk-label label {font-family: monospace;font-weight: bold;background-color: white;display: inline-block;line-height: 1.2em;}#sk-a47b6975-9b09-4152-87af-7bafc3a49f65 div.sk-label-container {position: relative;z-index: 2;text-align: center;}#sk-a47b6975-9b09-4152-87af-7bafc3a49f65 div.sk-container {/* jupyter's `normalize.less` sets `[hidden] { display: none; }` but bootstrap.min.css set `[hidden] { display: none !important; }` so we also need the `!important` here to be able to override the default hidden behavior on the sphinx rendered scikit-learn.org. See: https://github.com/scikit-learn/scikit-learn/issues/21755 */display: inline-block !important;position: relative;}#sk-a47b6975-9b09-4152-87af-7bafc3a49f65 div.sk-text-repr-fallback {display: none;}</style><div id=\"sk-a47b6975-9b09-4152-87af-7bafc3a49f65\" class=\"sk-top-container\"><div class=\"sk-text-repr-fallback\"><pre>ColumnTransformer(transformers=[(&#x27;Categorical&#x27;,\n",
       "                                 Pipeline(steps=[(&#x27;Imputation_constant&#x27;,\n",
       "                                                  SimpleImputer(fill_value=&#x27;missing&#x27;,\n",
       "                                                                strategy=&#x27;constant&#x27;)),\n",
       "                                                 (&#x27;onehot&#x27;,\n",
       "                                                  OneHotEncoder(handle_unknown=&#x27;ignore&#x27;))]),\n",
       "                                 [&#x27;gender&#x27;, &#x27;city&#x27;]),\n",
       "                                (&#x27;numeric&#x27;,\n",
       "                                 Pipeline(steps=[(&#x27;imputation_mean&#x27;,\n",
       "                                                  SimpleImputer(missing_values=&lt;function mean at 0x000001E3C1482280&gt;)),\n",
       "                                                 (&#x27;scaler&#x27;, StandardScaler())]),\n",
       "                                 [&#x27;age&#x27;, &#x27;height&#x27;])])</pre><b>Please rerun this cell to show the HTML repr or trust the notebook.</b></div><div class=\"sk-container\" hidden><div class=\"sk-item sk-dashed-wrapped\"><div class=\"sk-label-container\"><div class=\"sk-label sk-toggleable\"><input class=\"sk-toggleable__control sk-hidden--visually\" id=\"9257a4d3-98b3-4cb0-b0fe-6e89da9b2173\" type=\"checkbox\" ><label for=\"9257a4d3-98b3-4cb0-b0fe-6e89da9b2173\" class=\"sk-toggleable__label sk-toggleable__label-arrow\">ColumnTransformer</label><div class=\"sk-toggleable__content\"><pre>ColumnTransformer(transformers=[(&#x27;Categorical&#x27;,\n",
       "                                 Pipeline(steps=[(&#x27;Imputation_constant&#x27;,\n",
       "                                                  SimpleImputer(fill_value=&#x27;missing&#x27;,\n",
       "                                                                strategy=&#x27;constant&#x27;)),\n",
       "                                                 (&#x27;onehot&#x27;,\n",
       "                                                  OneHotEncoder(handle_unknown=&#x27;ignore&#x27;))]),\n",
       "                                 [&#x27;gender&#x27;, &#x27;city&#x27;]),\n",
       "                                (&#x27;numeric&#x27;,\n",
       "                                 Pipeline(steps=[(&#x27;imputation_mean&#x27;,\n",
       "                                                  SimpleImputer(missing_values=&lt;function mean at 0x000001E3C1482280&gt;)),\n",
       "                                                 (&#x27;scaler&#x27;, StandardScaler())]),\n",
       "                                 [&#x27;age&#x27;, &#x27;height&#x27;])])</pre></div></div></div><div class=\"sk-parallel\"><div class=\"sk-parallel-item\"><div class=\"sk-item\"><div class=\"sk-label-container\"><div class=\"sk-label sk-toggleable\"><input class=\"sk-toggleable__control sk-hidden--visually\" id=\"351e1c4e-aba7-4803-ba2f-57ad3e6fcc8a\" type=\"checkbox\" ><label for=\"351e1c4e-aba7-4803-ba2f-57ad3e6fcc8a\" class=\"sk-toggleable__label sk-toggleable__label-arrow\">Categorical</label><div class=\"sk-toggleable__content\"><pre>[&#x27;gender&#x27;, &#x27;city&#x27;]</pre></div></div></div><div class=\"sk-serial\"><div class=\"sk-item\"><div class=\"sk-serial\"><div class=\"sk-item\"><div class=\"sk-estimator sk-toggleable\"><input class=\"sk-toggleable__control sk-hidden--visually\" id=\"c656fccc-c6b8-4c51-b67a-42000d12ad2b\" type=\"checkbox\" ><label for=\"c656fccc-c6b8-4c51-b67a-42000d12ad2b\" class=\"sk-toggleable__label sk-toggleable__label-arrow\">SimpleImputer</label><div class=\"sk-toggleable__content\"><pre>SimpleImputer(fill_value=&#x27;missing&#x27;, strategy=&#x27;constant&#x27;)</pre></div></div></div><div class=\"sk-item\"><div class=\"sk-estimator sk-toggleable\"><input class=\"sk-toggleable__control sk-hidden--visually\" id=\"a1a3eb54-5f4b-4ea0-8c3d-3403ef5d8a36\" type=\"checkbox\" ><label for=\"a1a3eb54-5f4b-4ea0-8c3d-3403ef5d8a36\" class=\"sk-toggleable__label sk-toggleable__label-arrow\">OneHotEncoder</label><div class=\"sk-toggleable__content\"><pre>OneHotEncoder(handle_unknown=&#x27;ignore&#x27;)</pre></div></div></div></div></div></div></div></div><div class=\"sk-parallel-item\"><div class=\"sk-item\"><div class=\"sk-label-container\"><div class=\"sk-label sk-toggleable\"><input class=\"sk-toggleable__control sk-hidden--visually\" id=\"938203a8-4469-4cd9-9bef-ed0e791f81ab\" type=\"checkbox\" ><label for=\"938203a8-4469-4cd9-9bef-ed0e791f81ab\" class=\"sk-toggleable__label sk-toggleable__label-arrow\">numeric</label><div class=\"sk-toggleable__content\"><pre>[&#x27;age&#x27;, &#x27;height&#x27;]</pre></div></div></div><div class=\"sk-serial\"><div class=\"sk-item\"><div class=\"sk-serial\"><div class=\"sk-item\"><div class=\"sk-estimator sk-toggleable\"><input class=\"sk-toggleable__control sk-hidden--visually\" id=\"cbe0134e-55cb-466e-8f9a-60475d2591db\" type=\"checkbox\" ><label for=\"cbe0134e-55cb-466e-8f9a-60475d2591db\" class=\"sk-toggleable__label sk-toggleable__label-arrow\">SimpleImputer</label><div class=\"sk-toggleable__content\"><pre>SimpleImputer(missing_values=&lt;function mean at 0x000001E3C1482280&gt;)</pre></div></div></div><div class=\"sk-item\"><div class=\"sk-estimator sk-toggleable\"><input class=\"sk-toggleable__control sk-hidden--visually\" id=\"1af78294-4c16-464b-884e-c210264c68dd\" type=\"checkbox\" ><label for=\"1af78294-4c16-464b-884e-c210264c68dd\" class=\"sk-toggleable__label sk-toggleable__label-arrow\">StandardScaler</label><div class=\"sk-toggleable__content\"><pre>StandardScaler()</pre></div></div></div></div></div></div></div></div></div></div></div></div>"
      ],
      "text/plain": [
       "ColumnTransformer(transformers=[('Categorical',\n",
       "                                 Pipeline(steps=[('Imputation_constant',\n",
       "                                                  SimpleImputer(fill_value='missing',\n",
       "                                                                strategy='constant')),\n",
       "                                                 ('onehot',\n",
       "                                                  OneHotEncoder(handle_unknown='ignore'))]),\n",
       "                                 ['gender', 'city']),\n",
       "                                ('numeric',\n",
       "                                 Pipeline(steps=[('imputation_mean',\n",
       "                                                  SimpleImputer(missing_values=<function mean at 0x000001E3C1482280>)),\n",
       "                                                 ('scaler', StandardScaler())]),\n",
       "                                 ['age', 'height'])])"
      ]
     },
     "execution_count": 43,
     "metadata": {},
     "output_type": "execute_result"
    }
   ],
   "source": [
    "#combien processing techniques\n",
    "from sklearn.compose import ColumnTransformer\n",
    "ColumnTransformer([\n",
    "    ('Categorical',categorical_processor,['gender','city']),\n",
    "    ('numeric',numeric_processor,['age','height'])])"
   ]
  },
  {
   "cell_type": "code",
   "execution_count": 45,
   "id": "a0f19089",
   "metadata": {},
   "outputs": [
    {
     "data": {
      "text/html": [
       "<style>#sk-bf29e7ce-8e35-4e0e-ab41-73c8bb8f7a22 {color: black;background-color: white;}#sk-bf29e7ce-8e35-4e0e-ab41-73c8bb8f7a22 pre{padding: 0;}#sk-bf29e7ce-8e35-4e0e-ab41-73c8bb8f7a22 div.sk-toggleable {background-color: white;}#sk-bf29e7ce-8e35-4e0e-ab41-73c8bb8f7a22 label.sk-toggleable__label {cursor: pointer;display: block;width: 100%;margin-bottom: 0;padding: 0.3em;box-sizing: border-box;text-align: center;}#sk-bf29e7ce-8e35-4e0e-ab41-73c8bb8f7a22 label.sk-toggleable__label-arrow:before {content: \"▸\";float: left;margin-right: 0.25em;color: #696969;}#sk-bf29e7ce-8e35-4e0e-ab41-73c8bb8f7a22 label.sk-toggleable__label-arrow:hover:before {color: black;}#sk-bf29e7ce-8e35-4e0e-ab41-73c8bb8f7a22 div.sk-estimator:hover label.sk-toggleable__label-arrow:before {color: black;}#sk-bf29e7ce-8e35-4e0e-ab41-73c8bb8f7a22 div.sk-toggleable__content {max-height: 0;max-width: 0;overflow: hidden;text-align: left;background-color: #f0f8ff;}#sk-bf29e7ce-8e35-4e0e-ab41-73c8bb8f7a22 div.sk-toggleable__content pre {margin: 0.2em;color: black;border-radius: 0.25em;background-color: #f0f8ff;}#sk-bf29e7ce-8e35-4e0e-ab41-73c8bb8f7a22 input.sk-toggleable__control:checked~div.sk-toggleable__content {max-height: 200px;max-width: 100%;overflow: auto;}#sk-bf29e7ce-8e35-4e0e-ab41-73c8bb8f7a22 input.sk-toggleable__control:checked~label.sk-toggleable__label-arrow:before {content: \"▾\";}#sk-bf29e7ce-8e35-4e0e-ab41-73c8bb8f7a22 div.sk-estimator input.sk-toggleable__control:checked~label.sk-toggleable__label {background-color: #d4ebff;}#sk-bf29e7ce-8e35-4e0e-ab41-73c8bb8f7a22 div.sk-label input.sk-toggleable__control:checked~label.sk-toggleable__label {background-color: #d4ebff;}#sk-bf29e7ce-8e35-4e0e-ab41-73c8bb8f7a22 input.sk-hidden--visually {border: 0;clip: rect(1px 1px 1px 1px);clip: rect(1px, 1px, 1px, 1px);height: 1px;margin: -1px;overflow: hidden;padding: 0;position: absolute;width: 1px;}#sk-bf29e7ce-8e35-4e0e-ab41-73c8bb8f7a22 div.sk-estimator {font-family: monospace;background-color: #f0f8ff;border: 1px dotted black;border-radius: 0.25em;box-sizing: border-box;margin-bottom: 0.5em;}#sk-bf29e7ce-8e35-4e0e-ab41-73c8bb8f7a22 div.sk-estimator:hover {background-color: #d4ebff;}#sk-bf29e7ce-8e35-4e0e-ab41-73c8bb8f7a22 div.sk-parallel-item::after {content: \"\";width: 100%;border-bottom: 1px solid gray;flex-grow: 1;}#sk-bf29e7ce-8e35-4e0e-ab41-73c8bb8f7a22 div.sk-label:hover label.sk-toggleable__label {background-color: #d4ebff;}#sk-bf29e7ce-8e35-4e0e-ab41-73c8bb8f7a22 div.sk-serial::before {content: \"\";position: absolute;border-left: 1px solid gray;box-sizing: border-box;top: 2em;bottom: 0;left: 50%;}#sk-bf29e7ce-8e35-4e0e-ab41-73c8bb8f7a22 div.sk-serial {display: flex;flex-direction: column;align-items: center;background-color: white;padding-right: 0.2em;padding-left: 0.2em;}#sk-bf29e7ce-8e35-4e0e-ab41-73c8bb8f7a22 div.sk-item {z-index: 1;}#sk-bf29e7ce-8e35-4e0e-ab41-73c8bb8f7a22 div.sk-parallel {display: flex;align-items: stretch;justify-content: center;background-color: white;}#sk-bf29e7ce-8e35-4e0e-ab41-73c8bb8f7a22 div.sk-parallel::before {content: \"\";position: absolute;border-left: 1px solid gray;box-sizing: border-box;top: 2em;bottom: 0;left: 50%;}#sk-bf29e7ce-8e35-4e0e-ab41-73c8bb8f7a22 div.sk-parallel-item {display: flex;flex-direction: column;position: relative;background-color: white;}#sk-bf29e7ce-8e35-4e0e-ab41-73c8bb8f7a22 div.sk-parallel-item:first-child::after {align-self: flex-end;width: 50%;}#sk-bf29e7ce-8e35-4e0e-ab41-73c8bb8f7a22 div.sk-parallel-item:last-child::after {align-self: flex-start;width: 50%;}#sk-bf29e7ce-8e35-4e0e-ab41-73c8bb8f7a22 div.sk-parallel-item:only-child::after {width: 0;}#sk-bf29e7ce-8e35-4e0e-ab41-73c8bb8f7a22 div.sk-dashed-wrapped {border: 1px dashed gray;margin: 0 0.4em 0.5em 0.4em;box-sizing: border-box;padding-bottom: 0.4em;background-color: white;position: relative;}#sk-bf29e7ce-8e35-4e0e-ab41-73c8bb8f7a22 div.sk-label label {font-family: monospace;font-weight: bold;background-color: white;display: inline-block;line-height: 1.2em;}#sk-bf29e7ce-8e35-4e0e-ab41-73c8bb8f7a22 div.sk-label-container {position: relative;z-index: 2;text-align: center;}#sk-bf29e7ce-8e35-4e0e-ab41-73c8bb8f7a22 div.sk-container {/* jupyter's `normalize.less` sets `[hidden] { display: none; }` but bootstrap.min.css set `[hidden] { display: none !important; }` so we also need the `!important` here to be able to override the default hidden behavior on the sphinx rendered scikit-learn.org. See: https://github.com/scikit-learn/scikit-learn/issues/21755 */display: inline-block !important;position: relative;}#sk-bf29e7ce-8e35-4e0e-ab41-73c8bb8f7a22 div.sk-text-repr-fallback {display: none;}</style><div id=\"sk-bf29e7ce-8e35-4e0e-ab41-73c8bb8f7a22\" class=\"sk-top-container\"><div class=\"sk-text-repr-fallback\"><pre>ColumnTransformer(transformers=[(&#x27;Categorical&#x27;,\n",
       "                                 Pipeline(steps=[(&#x27;Imputation_constant&#x27;,\n",
       "                                                  SimpleImputer(fill_value=&#x27;missing&#x27;,\n",
       "                                                                strategy=&#x27;constant&#x27;)),\n",
       "                                                 (&#x27;onehot&#x27;,\n",
       "                                                  OneHotEncoder(handle_unknown=&#x27;ignore&#x27;))]),\n",
       "                                 [&#x27;gender&#x27;, &#x27;city&#x27;]),\n",
       "                                (&#x27;numeric&#x27;,\n",
       "                                 Pipeline(steps=[(&#x27;imputation_mean&#x27;,\n",
       "                                                  SimpleImputer(missing_values=&lt;function mean at 0x000001E3C1482280&gt;)),\n",
       "                                                 (&#x27;scaler&#x27;, StandardScaler())]),\n",
       "                                 [&#x27;age&#x27;, &#x27;height&#x27;])])</pre><b>Please rerun this cell to show the HTML repr or trust the notebook.</b></div><div class=\"sk-container\" hidden><div class=\"sk-item sk-dashed-wrapped\"><div class=\"sk-label-container\"><div class=\"sk-label sk-toggleable\"><input class=\"sk-toggleable__control sk-hidden--visually\" id=\"733eb2d2-ce27-4ca9-8e74-cae98de4a9b2\" type=\"checkbox\" ><label for=\"733eb2d2-ce27-4ca9-8e74-cae98de4a9b2\" class=\"sk-toggleable__label sk-toggleable__label-arrow\">ColumnTransformer</label><div class=\"sk-toggleable__content\"><pre>ColumnTransformer(transformers=[(&#x27;Categorical&#x27;,\n",
       "                                 Pipeline(steps=[(&#x27;Imputation_constant&#x27;,\n",
       "                                                  SimpleImputer(fill_value=&#x27;missing&#x27;,\n",
       "                                                                strategy=&#x27;constant&#x27;)),\n",
       "                                                 (&#x27;onehot&#x27;,\n",
       "                                                  OneHotEncoder(handle_unknown=&#x27;ignore&#x27;))]),\n",
       "                                 [&#x27;gender&#x27;, &#x27;city&#x27;]),\n",
       "                                (&#x27;numeric&#x27;,\n",
       "                                 Pipeline(steps=[(&#x27;imputation_mean&#x27;,\n",
       "                                                  SimpleImputer(missing_values=&lt;function mean at 0x000001E3C1482280&gt;)),\n",
       "                                                 (&#x27;scaler&#x27;, StandardScaler())]),\n",
       "                                 [&#x27;age&#x27;, &#x27;height&#x27;])])</pre></div></div></div><div class=\"sk-parallel\"><div class=\"sk-parallel-item\"><div class=\"sk-item\"><div class=\"sk-label-container\"><div class=\"sk-label sk-toggleable\"><input class=\"sk-toggleable__control sk-hidden--visually\" id=\"085afafb-dea5-4414-b325-000fab9a9456\" type=\"checkbox\" ><label for=\"085afafb-dea5-4414-b325-000fab9a9456\" class=\"sk-toggleable__label sk-toggleable__label-arrow\">Categorical</label><div class=\"sk-toggleable__content\"><pre>[&#x27;gender&#x27;, &#x27;city&#x27;]</pre></div></div></div><div class=\"sk-serial\"><div class=\"sk-item\"><div class=\"sk-serial\"><div class=\"sk-item\"><div class=\"sk-estimator sk-toggleable\"><input class=\"sk-toggleable__control sk-hidden--visually\" id=\"520a15b6-da4d-4eee-a84b-4a7ec2cd0136\" type=\"checkbox\" ><label for=\"520a15b6-da4d-4eee-a84b-4a7ec2cd0136\" class=\"sk-toggleable__label sk-toggleable__label-arrow\">SimpleImputer</label><div class=\"sk-toggleable__content\"><pre>SimpleImputer(fill_value=&#x27;missing&#x27;, strategy=&#x27;constant&#x27;)</pre></div></div></div><div class=\"sk-item\"><div class=\"sk-estimator sk-toggleable\"><input class=\"sk-toggleable__control sk-hidden--visually\" id=\"9b48e4ea-acee-4fa5-95b6-57e749450536\" type=\"checkbox\" ><label for=\"9b48e4ea-acee-4fa5-95b6-57e749450536\" class=\"sk-toggleable__label sk-toggleable__label-arrow\">OneHotEncoder</label><div class=\"sk-toggleable__content\"><pre>OneHotEncoder(handle_unknown=&#x27;ignore&#x27;)</pre></div></div></div></div></div></div></div></div><div class=\"sk-parallel-item\"><div class=\"sk-item\"><div class=\"sk-label-container\"><div class=\"sk-label sk-toggleable\"><input class=\"sk-toggleable__control sk-hidden--visually\" id=\"1956d103-f8a2-4820-816d-337f284ff772\" type=\"checkbox\" ><label for=\"1956d103-f8a2-4820-816d-337f284ff772\" class=\"sk-toggleable__label sk-toggleable__label-arrow\">numeric</label><div class=\"sk-toggleable__content\"><pre>[&#x27;age&#x27;, &#x27;height&#x27;]</pre></div></div></div><div class=\"sk-serial\"><div class=\"sk-item\"><div class=\"sk-serial\"><div class=\"sk-item\"><div class=\"sk-estimator sk-toggleable\"><input class=\"sk-toggleable__control sk-hidden--visually\" id=\"0ae14224-83e4-43c5-a7dc-a0cacffdb399\" type=\"checkbox\" ><label for=\"0ae14224-83e4-43c5-a7dc-a0cacffdb399\" class=\"sk-toggleable__label sk-toggleable__label-arrow\">SimpleImputer</label><div class=\"sk-toggleable__content\"><pre>SimpleImputer(missing_values=&lt;function mean at 0x000001E3C1482280&gt;)</pre></div></div></div><div class=\"sk-item\"><div class=\"sk-estimator sk-toggleable\"><input class=\"sk-toggleable__control sk-hidden--visually\" id=\"e2a88698-9e16-4d6b-9833-9c7f70227de3\" type=\"checkbox\" ><label for=\"e2a88698-9e16-4d6b-9833-9c7f70227de3\" class=\"sk-toggleable__label sk-toggleable__label-arrow\">StandardScaler</label><div class=\"sk-toggleable__content\"><pre>StandardScaler()</pre></div></div></div></div></div></div></div></div></div></div></div></div>"
      ],
      "text/plain": [
       "ColumnTransformer(transformers=[('Categorical',\n",
       "                                 Pipeline(steps=[('Imputation_constant',\n",
       "                                                  SimpleImputer(fill_value='missing',\n",
       "                                                                strategy='constant')),\n",
       "                                                 ('onehot',\n",
       "                                                  OneHotEncoder(handle_unknown='ignore'))]),\n",
       "                                 ['gender', 'city']),\n",
       "                                ('numeric',\n",
       "                                 Pipeline(steps=[('imputation_mean',\n",
       "                                                  SimpleImputer(missing_values=<function mean at 0x000001E3C1482280>)),\n",
       "                                                 ('scaler', StandardScaler())]),\n",
       "                                 ['age', 'height'])])"
      ]
     },
     "execution_count": 45,
     "metadata": {},
     "output_type": "execute_result"
    }
   ],
   "source": [
    "preprocessor=ColumnTransformer([\n",
    "    ('Categorical',categorical_processor,['gender','city']),\n",
    "    ('numeric',numeric_processor,['age','height'])])\n",
    "preprocessor"
   ]
  },
  {
   "cell_type": "code",
   "execution_count": 46,
   "id": "8975622b",
   "metadata": {},
   "outputs": [
    {
     "data": {
      "text/html": [
       "<style>#sk-677cf9d5-8778-48ea-b548-91bf7a358aff {color: black;background-color: white;}#sk-677cf9d5-8778-48ea-b548-91bf7a358aff pre{padding: 0;}#sk-677cf9d5-8778-48ea-b548-91bf7a358aff div.sk-toggleable {background-color: white;}#sk-677cf9d5-8778-48ea-b548-91bf7a358aff label.sk-toggleable__label {cursor: pointer;display: block;width: 100%;margin-bottom: 0;padding: 0.3em;box-sizing: border-box;text-align: center;}#sk-677cf9d5-8778-48ea-b548-91bf7a358aff label.sk-toggleable__label-arrow:before {content: \"▸\";float: left;margin-right: 0.25em;color: #696969;}#sk-677cf9d5-8778-48ea-b548-91bf7a358aff label.sk-toggleable__label-arrow:hover:before {color: black;}#sk-677cf9d5-8778-48ea-b548-91bf7a358aff div.sk-estimator:hover label.sk-toggleable__label-arrow:before {color: black;}#sk-677cf9d5-8778-48ea-b548-91bf7a358aff div.sk-toggleable__content {max-height: 0;max-width: 0;overflow: hidden;text-align: left;background-color: #f0f8ff;}#sk-677cf9d5-8778-48ea-b548-91bf7a358aff div.sk-toggleable__content pre {margin: 0.2em;color: black;border-radius: 0.25em;background-color: #f0f8ff;}#sk-677cf9d5-8778-48ea-b548-91bf7a358aff input.sk-toggleable__control:checked~div.sk-toggleable__content {max-height: 200px;max-width: 100%;overflow: auto;}#sk-677cf9d5-8778-48ea-b548-91bf7a358aff input.sk-toggleable__control:checked~label.sk-toggleable__label-arrow:before {content: \"▾\";}#sk-677cf9d5-8778-48ea-b548-91bf7a358aff div.sk-estimator input.sk-toggleable__control:checked~label.sk-toggleable__label {background-color: #d4ebff;}#sk-677cf9d5-8778-48ea-b548-91bf7a358aff div.sk-label input.sk-toggleable__control:checked~label.sk-toggleable__label {background-color: #d4ebff;}#sk-677cf9d5-8778-48ea-b548-91bf7a358aff input.sk-hidden--visually {border: 0;clip: rect(1px 1px 1px 1px);clip: rect(1px, 1px, 1px, 1px);height: 1px;margin: -1px;overflow: hidden;padding: 0;position: absolute;width: 1px;}#sk-677cf9d5-8778-48ea-b548-91bf7a358aff div.sk-estimator {font-family: monospace;background-color: #f0f8ff;border: 1px dotted black;border-radius: 0.25em;box-sizing: border-box;margin-bottom: 0.5em;}#sk-677cf9d5-8778-48ea-b548-91bf7a358aff div.sk-estimator:hover {background-color: #d4ebff;}#sk-677cf9d5-8778-48ea-b548-91bf7a358aff div.sk-parallel-item::after {content: \"\";width: 100%;border-bottom: 1px solid gray;flex-grow: 1;}#sk-677cf9d5-8778-48ea-b548-91bf7a358aff div.sk-label:hover label.sk-toggleable__label {background-color: #d4ebff;}#sk-677cf9d5-8778-48ea-b548-91bf7a358aff div.sk-serial::before {content: \"\";position: absolute;border-left: 1px solid gray;box-sizing: border-box;top: 2em;bottom: 0;left: 50%;}#sk-677cf9d5-8778-48ea-b548-91bf7a358aff div.sk-serial {display: flex;flex-direction: column;align-items: center;background-color: white;padding-right: 0.2em;padding-left: 0.2em;}#sk-677cf9d5-8778-48ea-b548-91bf7a358aff div.sk-item {z-index: 1;}#sk-677cf9d5-8778-48ea-b548-91bf7a358aff div.sk-parallel {display: flex;align-items: stretch;justify-content: center;background-color: white;}#sk-677cf9d5-8778-48ea-b548-91bf7a358aff div.sk-parallel::before {content: \"\";position: absolute;border-left: 1px solid gray;box-sizing: border-box;top: 2em;bottom: 0;left: 50%;}#sk-677cf9d5-8778-48ea-b548-91bf7a358aff div.sk-parallel-item {display: flex;flex-direction: column;position: relative;background-color: white;}#sk-677cf9d5-8778-48ea-b548-91bf7a358aff div.sk-parallel-item:first-child::after {align-self: flex-end;width: 50%;}#sk-677cf9d5-8778-48ea-b548-91bf7a358aff div.sk-parallel-item:last-child::after {align-self: flex-start;width: 50%;}#sk-677cf9d5-8778-48ea-b548-91bf7a358aff div.sk-parallel-item:only-child::after {width: 0;}#sk-677cf9d5-8778-48ea-b548-91bf7a358aff div.sk-dashed-wrapped {border: 1px dashed gray;margin: 0 0.4em 0.5em 0.4em;box-sizing: border-box;padding-bottom: 0.4em;background-color: white;position: relative;}#sk-677cf9d5-8778-48ea-b548-91bf7a358aff div.sk-label label {font-family: monospace;font-weight: bold;background-color: white;display: inline-block;line-height: 1.2em;}#sk-677cf9d5-8778-48ea-b548-91bf7a358aff div.sk-label-container {position: relative;z-index: 2;text-align: center;}#sk-677cf9d5-8778-48ea-b548-91bf7a358aff div.sk-container {/* jupyter's `normalize.less` sets `[hidden] { display: none; }` but bootstrap.min.css set `[hidden] { display: none !important; }` so we also need the `!important` here to be able to override the default hidden behavior on the sphinx rendered scikit-learn.org. See: https://github.com/scikit-learn/scikit-learn/issues/21755 */display: inline-block !important;position: relative;}#sk-677cf9d5-8778-48ea-b548-91bf7a358aff div.sk-text-repr-fallback {display: none;}</style><div id=\"sk-677cf9d5-8778-48ea-b548-91bf7a358aff\" class=\"sk-top-container\"><div class=\"sk-text-repr-fallback\"><pre>Pipeline(steps=[(&#x27;columntransformer&#x27;,\n",
       "                 ColumnTransformer(transformers=[(&#x27;Categorical&#x27;,\n",
       "                                                  Pipeline(steps=[(&#x27;Imputation_constant&#x27;,\n",
       "                                                                   SimpleImputer(fill_value=&#x27;missing&#x27;,\n",
       "                                                                                 strategy=&#x27;constant&#x27;)),\n",
       "                                                                  (&#x27;onehot&#x27;,\n",
       "                                                                   OneHotEncoder(handle_unknown=&#x27;ignore&#x27;))]),\n",
       "                                                  [&#x27;gender&#x27;, &#x27;city&#x27;]),\n",
       "                                                 (&#x27;numeric&#x27;,\n",
       "                                                  Pipeline(steps=[(&#x27;imputation_mean&#x27;,\n",
       "                                                                   SimpleImputer(missing_values=&lt;function mean at 0x000001E3C1482280&gt;)),\n",
       "                                                                  (&#x27;scaler&#x27;,\n",
       "                                                                   StandardScaler())]),\n",
       "                                                  [&#x27;age&#x27;, &#x27;height&#x27;])])),\n",
       "                (&#x27;logisticregression&#x27;, LogisticRegression())])</pre><b>Please rerun this cell to show the HTML repr or trust the notebook.</b></div><div class=\"sk-container\" hidden><div class=\"sk-item sk-dashed-wrapped\"><div class=\"sk-label-container\"><div class=\"sk-label sk-toggleable\"><input class=\"sk-toggleable__control sk-hidden--visually\" id=\"8394111d-6955-4f04-8adf-23fabbf37fe9\" type=\"checkbox\" ><label for=\"8394111d-6955-4f04-8adf-23fabbf37fe9\" class=\"sk-toggleable__label sk-toggleable__label-arrow\">Pipeline</label><div class=\"sk-toggleable__content\"><pre>Pipeline(steps=[(&#x27;columntransformer&#x27;,\n",
       "                 ColumnTransformer(transformers=[(&#x27;Categorical&#x27;,\n",
       "                                                  Pipeline(steps=[(&#x27;Imputation_constant&#x27;,\n",
       "                                                                   SimpleImputer(fill_value=&#x27;missing&#x27;,\n",
       "                                                                                 strategy=&#x27;constant&#x27;)),\n",
       "                                                                  (&#x27;onehot&#x27;,\n",
       "                                                                   OneHotEncoder(handle_unknown=&#x27;ignore&#x27;))]),\n",
       "                                                  [&#x27;gender&#x27;, &#x27;city&#x27;]),\n",
       "                                                 (&#x27;numeric&#x27;,\n",
       "                                                  Pipeline(steps=[(&#x27;imputation_mean&#x27;,\n",
       "                                                                   SimpleImputer(missing_values=&lt;function mean at 0x000001E3C1482280&gt;)),\n",
       "                                                                  (&#x27;scaler&#x27;,\n",
       "                                                                   StandardScaler())]),\n",
       "                                                  [&#x27;age&#x27;, &#x27;height&#x27;])])),\n",
       "                (&#x27;logisticregression&#x27;, LogisticRegression())])</pre></div></div></div><div class=\"sk-serial\"><div class=\"sk-item sk-dashed-wrapped\"><div class=\"sk-label-container\"><div class=\"sk-label sk-toggleable\"><input class=\"sk-toggleable__control sk-hidden--visually\" id=\"7c18f5e7-7995-4371-bb6f-e7e077ba08e6\" type=\"checkbox\" ><label for=\"7c18f5e7-7995-4371-bb6f-e7e077ba08e6\" class=\"sk-toggleable__label sk-toggleable__label-arrow\">columntransformer: ColumnTransformer</label><div class=\"sk-toggleable__content\"><pre>ColumnTransformer(transformers=[(&#x27;Categorical&#x27;,\n",
       "                                 Pipeline(steps=[(&#x27;Imputation_constant&#x27;,\n",
       "                                                  SimpleImputer(fill_value=&#x27;missing&#x27;,\n",
       "                                                                strategy=&#x27;constant&#x27;)),\n",
       "                                                 (&#x27;onehot&#x27;,\n",
       "                                                  OneHotEncoder(handle_unknown=&#x27;ignore&#x27;))]),\n",
       "                                 [&#x27;gender&#x27;, &#x27;city&#x27;]),\n",
       "                                (&#x27;numeric&#x27;,\n",
       "                                 Pipeline(steps=[(&#x27;imputation_mean&#x27;,\n",
       "                                                  SimpleImputer(missing_values=&lt;function mean at 0x000001E3C1482280&gt;)),\n",
       "                                                 (&#x27;scaler&#x27;, StandardScaler())]),\n",
       "                                 [&#x27;age&#x27;, &#x27;height&#x27;])])</pre></div></div></div><div class=\"sk-parallel\"><div class=\"sk-parallel-item\"><div class=\"sk-item\"><div class=\"sk-label-container\"><div class=\"sk-label sk-toggleable\"><input class=\"sk-toggleable__control sk-hidden--visually\" id=\"d586b968-2f5b-4070-aeb7-495f9502f997\" type=\"checkbox\" ><label for=\"d586b968-2f5b-4070-aeb7-495f9502f997\" class=\"sk-toggleable__label sk-toggleable__label-arrow\">Categorical</label><div class=\"sk-toggleable__content\"><pre>[&#x27;gender&#x27;, &#x27;city&#x27;]</pre></div></div></div><div class=\"sk-serial\"><div class=\"sk-item\"><div class=\"sk-serial\"><div class=\"sk-item\"><div class=\"sk-estimator sk-toggleable\"><input class=\"sk-toggleable__control sk-hidden--visually\" id=\"ad985a20-0c81-476b-af6d-7e7b28d9df0e\" type=\"checkbox\" ><label for=\"ad985a20-0c81-476b-af6d-7e7b28d9df0e\" class=\"sk-toggleable__label sk-toggleable__label-arrow\">SimpleImputer</label><div class=\"sk-toggleable__content\"><pre>SimpleImputer(fill_value=&#x27;missing&#x27;, strategy=&#x27;constant&#x27;)</pre></div></div></div><div class=\"sk-item\"><div class=\"sk-estimator sk-toggleable\"><input class=\"sk-toggleable__control sk-hidden--visually\" id=\"146dc7c9-b3a8-431a-b3a2-2681149d34cc\" type=\"checkbox\" ><label for=\"146dc7c9-b3a8-431a-b3a2-2681149d34cc\" class=\"sk-toggleable__label sk-toggleable__label-arrow\">OneHotEncoder</label><div class=\"sk-toggleable__content\"><pre>OneHotEncoder(handle_unknown=&#x27;ignore&#x27;)</pre></div></div></div></div></div></div></div></div><div class=\"sk-parallel-item\"><div class=\"sk-item\"><div class=\"sk-label-container\"><div class=\"sk-label sk-toggleable\"><input class=\"sk-toggleable__control sk-hidden--visually\" id=\"e967d9b8-2924-4686-8764-b081649920fd\" type=\"checkbox\" ><label for=\"e967d9b8-2924-4686-8764-b081649920fd\" class=\"sk-toggleable__label sk-toggleable__label-arrow\">numeric</label><div class=\"sk-toggleable__content\"><pre>[&#x27;age&#x27;, &#x27;height&#x27;]</pre></div></div></div><div class=\"sk-serial\"><div class=\"sk-item\"><div class=\"sk-serial\"><div class=\"sk-item\"><div class=\"sk-estimator sk-toggleable\"><input class=\"sk-toggleable__control sk-hidden--visually\" id=\"263d2e23-fb86-4dfc-aed9-6569dc0c53f5\" type=\"checkbox\" ><label for=\"263d2e23-fb86-4dfc-aed9-6569dc0c53f5\" class=\"sk-toggleable__label sk-toggleable__label-arrow\">SimpleImputer</label><div class=\"sk-toggleable__content\"><pre>SimpleImputer(missing_values=&lt;function mean at 0x000001E3C1482280&gt;)</pre></div></div></div><div class=\"sk-item\"><div class=\"sk-estimator sk-toggleable\"><input class=\"sk-toggleable__control sk-hidden--visually\" id=\"e99e7e03-6e86-478e-b3cc-b8c2bdd95d37\" type=\"checkbox\" ><label for=\"e99e7e03-6e86-478e-b3cc-b8c2bdd95d37\" class=\"sk-toggleable__label sk-toggleable__label-arrow\">StandardScaler</label><div class=\"sk-toggleable__content\"><pre>StandardScaler()</pre></div></div></div></div></div></div></div></div></div></div><div class=\"sk-item\"><div class=\"sk-estimator sk-toggleable\"><input class=\"sk-toggleable__control sk-hidden--visually\" id=\"e27677ca-c0f4-4f61-b167-149f8f588cd4\" type=\"checkbox\" ><label for=\"e27677ca-c0f4-4f61-b167-149f8f588cd4\" class=\"sk-toggleable__label sk-toggleable__label-arrow\">LogisticRegression</label><div class=\"sk-toggleable__content\"><pre>LogisticRegression()</pre></div></div></div></div></div></div></div>"
      ],
      "text/plain": [
       "Pipeline(steps=[('columntransformer',\n",
       "                 ColumnTransformer(transformers=[('Categorical',\n",
       "                                                  Pipeline(steps=[('Imputation_constant',\n",
       "                                                                   SimpleImputer(fill_value='missing',\n",
       "                                                                                 strategy='constant')),\n",
       "                                                                  ('onehot',\n",
       "                                                                   OneHotEncoder(handle_unknown='ignore'))]),\n",
       "                                                  ['gender', 'city']),\n",
       "                                                 ('numeric',\n",
       "                                                  Pipeline(steps=[('imputation_mean',\n",
       "                                                                   SimpleImputer(missing_values=<function mean at 0x000001E3C1482280>)),\n",
       "                                                                  ('scaler',\n",
       "                                                                   StandardScaler())]),\n",
       "                                                  ['age', 'height'])])),\n",
       "                ('logisticregression', LogisticRegression())])"
      ]
     },
     "execution_count": 46,
     "metadata": {},
     "output_type": "execute_result"
    }
   ],
   "source": [
    "from sklearn.pipeline import make_pipeline\n",
    "make_pipeline(preprocessor,LogisticRegression())"
   ]
  },
  {
   "cell_type": "code",
   "execution_count": 47,
   "id": "76338b8b",
   "metadata": {},
   "outputs": [
    {
     "data": {
      "text/html": [
       "<style>#sk-1e504e8d-4e44-46b0-ac53-e0d78d92e879 {color: black;background-color: white;}#sk-1e504e8d-4e44-46b0-ac53-e0d78d92e879 pre{padding: 0;}#sk-1e504e8d-4e44-46b0-ac53-e0d78d92e879 div.sk-toggleable {background-color: white;}#sk-1e504e8d-4e44-46b0-ac53-e0d78d92e879 label.sk-toggleable__label {cursor: pointer;display: block;width: 100%;margin-bottom: 0;padding: 0.3em;box-sizing: border-box;text-align: center;}#sk-1e504e8d-4e44-46b0-ac53-e0d78d92e879 label.sk-toggleable__label-arrow:before {content: \"▸\";float: left;margin-right: 0.25em;color: #696969;}#sk-1e504e8d-4e44-46b0-ac53-e0d78d92e879 label.sk-toggleable__label-arrow:hover:before {color: black;}#sk-1e504e8d-4e44-46b0-ac53-e0d78d92e879 div.sk-estimator:hover label.sk-toggleable__label-arrow:before {color: black;}#sk-1e504e8d-4e44-46b0-ac53-e0d78d92e879 div.sk-toggleable__content {max-height: 0;max-width: 0;overflow: hidden;text-align: left;background-color: #f0f8ff;}#sk-1e504e8d-4e44-46b0-ac53-e0d78d92e879 div.sk-toggleable__content pre {margin: 0.2em;color: black;border-radius: 0.25em;background-color: #f0f8ff;}#sk-1e504e8d-4e44-46b0-ac53-e0d78d92e879 input.sk-toggleable__control:checked~div.sk-toggleable__content {max-height: 200px;max-width: 100%;overflow: auto;}#sk-1e504e8d-4e44-46b0-ac53-e0d78d92e879 input.sk-toggleable__control:checked~label.sk-toggleable__label-arrow:before {content: \"▾\";}#sk-1e504e8d-4e44-46b0-ac53-e0d78d92e879 div.sk-estimator input.sk-toggleable__control:checked~label.sk-toggleable__label {background-color: #d4ebff;}#sk-1e504e8d-4e44-46b0-ac53-e0d78d92e879 div.sk-label input.sk-toggleable__control:checked~label.sk-toggleable__label {background-color: #d4ebff;}#sk-1e504e8d-4e44-46b0-ac53-e0d78d92e879 input.sk-hidden--visually {border: 0;clip: rect(1px 1px 1px 1px);clip: rect(1px, 1px, 1px, 1px);height: 1px;margin: -1px;overflow: hidden;padding: 0;position: absolute;width: 1px;}#sk-1e504e8d-4e44-46b0-ac53-e0d78d92e879 div.sk-estimator {font-family: monospace;background-color: #f0f8ff;border: 1px dotted black;border-radius: 0.25em;box-sizing: border-box;margin-bottom: 0.5em;}#sk-1e504e8d-4e44-46b0-ac53-e0d78d92e879 div.sk-estimator:hover {background-color: #d4ebff;}#sk-1e504e8d-4e44-46b0-ac53-e0d78d92e879 div.sk-parallel-item::after {content: \"\";width: 100%;border-bottom: 1px solid gray;flex-grow: 1;}#sk-1e504e8d-4e44-46b0-ac53-e0d78d92e879 div.sk-label:hover label.sk-toggleable__label {background-color: #d4ebff;}#sk-1e504e8d-4e44-46b0-ac53-e0d78d92e879 div.sk-serial::before {content: \"\";position: absolute;border-left: 1px solid gray;box-sizing: border-box;top: 2em;bottom: 0;left: 50%;}#sk-1e504e8d-4e44-46b0-ac53-e0d78d92e879 div.sk-serial {display: flex;flex-direction: column;align-items: center;background-color: white;padding-right: 0.2em;padding-left: 0.2em;}#sk-1e504e8d-4e44-46b0-ac53-e0d78d92e879 div.sk-item {z-index: 1;}#sk-1e504e8d-4e44-46b0-ac53-e0d78d92e879 div.sk-parallel {display: flex;align-items: stretch;justify-content: center;background-color: white;}#sk-1e504e8d-4e44-46b0-ac53-e0d78d92e879 div.sk-parallel::before {content: \"\";position: absolute;border-left: 1px solid gray;box-sizing: border-box;top: 2em;bottom: 0;left: 50%;}#sk-1e504e8d-4e44-46b0-ac53-e0d78d92e879 div.sk-parallel-item {display: flex;flex-direction: column;position: relative;background-color: white;}#sk-1e504e8d-4e44-46b0-ac53-e0d78d92e879 div.sk-parallel-item:first-child::after {align-self: flex-end;width: 50%;}#sk-1e504e8d-4e44-46b0-ac53-e0d78d92e879 div.sk-parallel-item:last-child::after {align-self: flex-start;width: 50%;}#sk-1e504e8d-4e44-46b0-ac53-e0d78d92e879 div.sk-parallel-item:only-child::after {width: 0;}#sk-1e504e8d-4e44-46b0-ac53-e0d78d92e879 div.sk-dashed-wrapped {border: 1px dashed gray;margin: 0 0.4em 0.5em 0.4em;box-sizing: border-box;padding-bottom: 0.4em;background-color: white;position: relative;}#sk-1e504e8d-4e44-46b0-ac53-e0d78d92e879 div.sk-label label {font-family: monospace;font-weight: bold;background-color: white;display: inline-block;line-height: 1.2em;}#sk-1e504e8d-4e44-46b0-ac53-e0d78d92e879 div.sk-label-container {position: relative;z-index: 2;text-align: center;}#sk-1e504e8d-4e44-46b0-ac53-e0d78d92e879 div.sk-container {/* jupyter's `normalize.less` sets `[hidden] { display: none; }` but bootstrap.min.css set `[hidden] { display: none !important; }` so we also need the `!important` here to be able to override the default hidden behavior on the sphinx rendered scikit-learn.org. See: https://github.com/scikit-learn/scikit-learn/issues/21755 */display: inline-block !important;position: relative;}#sk-1e504e8d-4e44-46b0-ac53-e0d78d92e879 div.sk-text-repr-fallback {display: none;}</style><div id=\"sk-1e504e8d-4e44-46b0-ac53-e0d78d92e879\" class=\"sk-top-container\"><div class=\"sk-text-repr-fallback\"><pre>Pipeline(steps=[(&#x27;columntransformer&#x27;,\n",
       "                 ColumnTransformer(transformers=[(&#x27;Categorical&#x27;,\n",
       "                                                  Pipeline(steps=[(&#x27;Imputation_constant&#x27;,\n",
       "                                                                   SimpleImputer(fill_value=&#x27;missing&#x27;,\n",
       "                                                                                 strategy=&#x27;constant&#x27;)),\n",
       "                                                                  (&#x27;onehot&#x27;,\n",
       "                                                                   OneHotEncoder(handle_unknown=&#x27;ignore&#x27;))]),\n",
       "                                                  [&#x27;gender&#x27;, &#x27;city&#x27;]),\n",
       "                                                 (&#x27;numeric&#x27;,\n",
       "                                                  Pipeline(steps=[(&#x27;imputation_mean&#x27;,\n",
       "                                                                   SimpleImputer(missing_values=&lt;function mean at 0x000001E3C1482280&gt;)),\n",
       "                                                                  (&#x27;scaler&#x27;,\n",
       "                                                                   StandardScaler())]),\n",
       "                                                  [&#x27;age&#x27;, &#x27;height&#x27;])])),\n",
       "                (&#x27;logisticregression&#x27;, LogisticRegression())])</pre><b>Please rerun this cell to show the HTML repr or trust the notebook.</b></div><div class=\"sk-container\" hidden><div class=\"sk-item sk-dashed-wrapped\"><div class=\"sk-label-container\"><div class=\"sk-label sk-toggleable\"><input class=\"sk-toggleable__control sk-hidden--visually\" id=\"a8fa253f-d6b2-425b-a743-94fe3835b92c\" type=\"checkbox\" ><label for=\"a8fa253f-d6b2-425b-a743-94fe3835b92c\" class=\"sk-toggleable__label sk-toggleable__label-arrow\">Pipeline</label><div class=\"sk-toggleable__content\"><pre>Pipeline(steps=[(&#x27;columntransformer&#x27;,\n",
       "                 ColumnTransformer(transformers=[(&#x27;Categorical&#x27;,\n",
       "                                                  Pipeline(steps=[(&#x27;Imputation_constant&#x27;,\n",
       "                                                                   SimpleImputer(fill_value=&#x27;missing&#x27;,\n",
       "                                                                                 strategy=&#x27;constant&#x27;)),\n",
       "                                                                  (&#x27;onehot&#x27;,\n",
       "                                                                   OneHotEncoder(handle_unknown=&#x27;ignore&#x27;))]),\n",
       "                                                  [&#x27;gender&#x27;, &#x27;city&#x27;]),\n",
       "                                                 (&#x27;numeric&#x27;,\n",
       "                                                  Pipeline(steps=[(&#x27;imputation_mean&#x27;,\n",
       "                                                                   SimpleImputer(missing_values=&lt;function mean at 0x000001E3C1482280&gt;)),\n",
       "                                                                  (&#x27;scaler&#x27;,\n",
       "                                                                   StandardScaler())]),\n",
       "                                                  [&#x27;age&#x27;, &#x27;height&#x27;])])),\n",
       "                (&#x27;logisticregression&#x27;, LogisticRegression())])</pre></div></div></div><div class=\"sk-serial\"><div class=\"sk-item sk-dashed-wrapped\"><div class=\"sk-label-container\"><div class=\"sk-label sk-toggleable\"><input class=\"sk-toggleable__control sk-hidden--visually\" id=\"39996aa2-9693-41dd-8778-9773a0c64323\" type=\"checkbox\" ><label for=\"39996aa2-9693-41dd-8778-9773a0c64323\" class=\"sk-toggleable__label sk-toggleable__label-arrow\">columntransformer: ColumnTransformer</label><div class=\"sk-toggleable__content\"><pre>ColumnTransformer(transformers=[(&#x27;Categorical&#x27;,\n",
       "                                 Pipeline(steps=[(&#x27;Imputation_constant&#x27;,\n",
       "                                                  SimpleImputer(fill_value=&#x27;missing&#x27;,\n",
       "                                                                strategy=&#x27;constant&#x27;)),\n",
       "                                                 (&#x27;onehot&#x27;,\n",
       "                                                  OneHotEncoder(handle_unknown=&#x27;ignore&#x27;))]),\n",
       "                                 [&#x27;gender&#x27;, &#x27;city&#x27;]),\n",
       "                                (&#x27;numeric&#x27;,\n",
       "                                 Pipeline(steps=[(&#x27;imputation_mean&#x27;,\n",
       "                                                  SimpleImputer(missing_values=&lt;function mean at 0x000001E3C1482280&gt;)),\n",
       "                                                 (&#x27;scaler&#x27;, StandardScaler())]),\n",
       "                                 [&#x27;age&#x27;, &#x27;height&#x27;])])</pre></div></div></div><div class=\"sk-parallel\"><div class=\"sk-parallel-item\"><div class=\"sk-item\"><div class=\"sk-label-container\"><div class=\"sk-label sk-toggleable\"><input class=\"sk-toggleable__control sk-hidden--visually\" id=\"e3ad6eb1-e912-4476-89ad-2d5534190a98\" type=\"checkbox\" ><label for=\"e3ad6eb1-e912-4476-89ad-2d5534190a98\" class=\"sk-toggleable__label sk-toggleable__label-arrow\">Categorical</label><div class=\"sk-toggleable__content\"><pre>[&#x27;gender&#x27;, &#x27;city&#x27;]</pre></div></div></div><div class=\"sk-serial\"><div class=\"sk-item\"><div class=\"sk-serial\"><div class=\"sk-item\"><div class=\"sk-estimator sk-toggleable\"><input class=\"sk-toggleable__control sk-hidden--visually\" id=\"68f71e24-17a8-494e-90e7-8e9655651cc1\" type=\"checkbox\" ><label for=\"68f71e24-17a8-494e-90e7-8e9655651cc1\" class=\"sk-toggleable__label sk-toggleable__label-arrow\">SimpleImputer</label><div class=\"sk-toggleable__content\"><pre>SimpleImputer(fill_value=&#x27;missing&#x27;, strategy=&#x27;constant&#x27;)</pre></div></div></div><div class=\"sk-item\"><div class=\"sk-estimator sk-toggleable\"><input class=\"sk-toggleable__control sk-hidden--visually\" id=\"ab73b581-0ff2-48a1-9d5b-9e9b7f48e94d\" type=\"checkbox\" ><label for=\"ab73b581-0ff2-48a1-9d5b-9e9b7f48e94d\" class=\"sk-toggleable__label sk-toggleable__label-arrow\">OneHotEncoder</label><div class=\"sk-toggleable__content\"><pre>OneHotEncoder(handle_unknown=&#x27;ignore&#x27;)</pre></div></div></div></div></div></div></div></div><div class=\"sk-parallel-item\"><div class=\"sk-item\"><div class=\"sk-label-container\"><div class=\"sk-label sk-toggleable\"><input class=\"sk-toggleable__control sk-hidden--visually\" id=\"5c159107-63bd-4dde-a558-eb28bdf20089\" type=\"checkbox\" ><label for=\"5c159107-63bd-4dde-a558-eb28bdf20089\" class=\"sk-toggleable__label sk-toggleable__label-arrow\">numeric</label><div class=\"sk-toggleable__content\"><pre>[&#x27;age&#x27;, &#x27;height&#x27;]</pre></div></div></div><div class=\"sk-serial\"><div class=\"sk-item\"><div class=\"sk-serial\"><div class=\"sk-item\"><div class=\"sk-estimator sk-toggleable\"><input class=\"sk-toggleable__control sk-hidden--visually\" id=\"cf198e74-2912-4ba3-afe8-2f7de79b0076\" type=\"checkbox\" ><label for=\"cf198e74-2912-4ba3-afe8-2f7de79b0076\" class=\"sk-toggleable__label sk-toggleable__label-arrow\">SimpleImputer</label><div class=\"sk-toggleable__content\"><pre>SimpleImputer(missing_values=&lt;function mean at 0x000001E3C1482280&gt;)</pre></div></div></div><div class=\"sk-item\"><div class=\"sk-estimator sk-toggleable\"><input class=\"sk-toggleable__control sk-hidden--visually\" id=\"fbbf03b6-69cd-4ecb-925d-7adc0f6de408\" type=\"checkbox\" ><label for=\"fbbf03b6-69cd-4ecb-925d-7adc0f6de408\" class=\"sk-toggleable__label sk-toggleable__label-arrow\">StandardScaler</label><div class=\"sk-toggleable__content\"><pre>StandardScaler()</pre></div></div></div></div></div></div></div></div></div></div><div class=\"sk-item\"><div class=\"sk-estimator sk-toggleable\"><input class=\"sk-toggleable__control sk-hidden--visually\" id=\"bf96517c-6a71-4ab8-a7c3-1ff1e792c83d\" type=\"checkbox\" ><label for=\"bf96517c-6a71-4ab8-a7c3-1ff1e792c83d\" class=\"sk-toggleable__label sk-toggleable__label-arrow\">LogisticRegression</label><div class=\"sk-toggleable__content\"><pre>LogisticRegression()</pre></div></div></div></div></div></div></div>"
      ],
      "text/plain": [
       "Pipeline(steps=[('columntransformer',\n",
       "                 ColumnTransformer(transformers=[('Categorical',\n",
       "                                                  Pipeline(steps=[('Imputation_constant',\n",
       "                                                                   SimpleImputer(fill_value='missing',\n",
       "                                                                                 strategy='constant')),\n",
       "                                                                  ('onehot',\n",
       "                                                                   OneHotEncoder(handle_unknown='ignore'))]),\n",
       "                                                  ['gender', 'city']),\n",
       "                                                 ('numeric',\n",
       "                                                  Pipeline(steps=[('imputation_mean',\n",
       "                                                                   SimpleImputer(missing_values=<function mean at 0x000001E3C1482280>)),\n",
       "                                                                  ('scaler',\n",
       "                                                                   StandardScaler())]),\n",
       "                                                  ['age', 'height'])])),\n",
       "                ('logisticregression', LogisticRegression())])"
      ]
     },
     "execution_count": 47,
     "metadata": {},
     "output_type": "execute_result"
    }
   ],
   "source": [
    "pipe=make_pipeline(preprocessor,LogisticRegression())\n",
    "pipe"
   ]
  },
  {
   "cell_type": "code",
   "execution_count": null,
   "id": "062fc997",
   "metadata": {},
   "outputs": [],
   "source": []
  },
  {
   "cell_type": "code",
   "execution_count": null,
   "id": "f5fe08eb",
   "metadata": {},
   "outputs": [],
   "source": []
  },
  {
   "cell_type": "code",
   "execution_count": 19,
   "id": "64fda56f",
   "metadata": {},
   "outputs": [],
   "source": [
    "import warnings\n",
    "warnings.filterwarnings('ignore')"
   ]
  },
  {
   "cell_type": "code",
   "execution_count": 20,
   "id": "e678c237",
   "metadata": {
    "scrolled": true
   },
   "outputs": [],
   "source": [
    "import pandas as pd\n",
    "import numpy as np\n",
    "from sklearn.preprocessing import MinMaxScaler\n",
    "from sklearn.model_selection import train_test_split\n",
    "from sklearn.decomposition import PCA\n",
    "from sklearn.linear_model import LogisticRegression\n",
    "from sklearn.tree import DecisionTreeClassifier\n",
    "from sklearn.ensemble import RandomForestClassifier\n",
    "from sklearn.pipeline import Pipeline"
   ]
  },
  {
   "cell_type": "code",
   "execution_count": 22,
   "id": "b6532562",
   "metadata": {},
   "outputs": [
    {
     "data": {
      "text/html": [
       "<div>\n",
       "<style scoped>\n",
       "    .dataframe tbody tr th:only-of-type {\n",
       "        vertical-align: middle;\n",
       "    }\n",
       "\n",
       "    .dataframe tbody tr th {\n",
       "        vertical-align: top;\n",
       "    }\n",
       "\n",
       "    .dataframe thead th {\n",
       "        text-align: right;\n",
       "    }\n",
       "</style>\n",
       "<table border=\"1\" class=\"dataframe\">\n",
       "  <thead>\n",
       "    <tr style=\"text-align: right;\">\n",
       "      <th></th>\n",
       "      <th>Pregnancies</th>\n",
       "      <th>Glucose</th>\n",
       "      <th>BloodPressure</th>\n",
       "      <th>SkinThickness</th>\n",
       "      <th>Insulin</th>\n",
       "      <th>BMI</th>\n",
       "      <th>DiabetesPedigreeFunction</th>\n",
       "      <th>Age</th>\n",
       "      <th>Outcome</th>\n",
       "    </tr>\n",
       "  </thead>\n",
       "  <tbody>\n",
       "    <tr>\n",
       "      <th>0</th>\n",
       "      <td>6</td>\n",
       "      <td>148</td>\n",
       "      <td>72</td>\n",
       "      <td>35</td>\n",
       "      <td>0</td>\n",
       "      <td>33.6</td>\n",
       "      <td>0.627</td>\n",
       "      <td>50</td>\n",
       "      <td>1</td>\n",
       "    </tr>\n",
       "    <tr>\n",
       "      <th>1</th>\n",
       "      <td>1</td>\n",
       "      <td>85</td>\n",
       "      <td>66</td>\n",
       "      <td>29</td>\n",
       "      <td>0</td>\n",
       "      <td>26.6</td>\n",
       "      <td>0.351</td>\n",
       "      <td>31</td>\n",
       "      <td>0</td>\n",
       "    </tr>\n",
       "    <tr>\n",
       "      <th>2</th>\n",
       "      <td>8</td>\n",
       "      <td>183</td>\n",
       "      <td>64</td>\n",
       "      <td>0</td>\n",
       "      <td>0</td>\n",
       "      <td>23.3</td>\n",
       "      <td>0.672</td>\n",
       "      <td>32</td>\n",
       "      <td>1</td>\n",
       "    </tr>\n",
       "    <tr>\n",
       "      <th>3</th>\n",
       "      <td>1</td>\n",
       "      <td>89</td>\n",
       "      <td>66</td>\n",
       "      <td>23</td>\n",
       "      <td>94</td>\n",
       "      <td>28.1</td>\n",
       "      <td>0.167</td>\n",
       "      <td>21</td>\n",
       "      <td>0</td>\n",
       "    </tr>\n",
       "    <tr>\n",
       "      <th>4</th>\n",
       "      <td>0</td>\n",
       "      <td>137</td>\n",
       "      <td>40</td>\n",
       "      <td>35</td>\n",
       "      <td>168</td>\n",
       "      <td>43.1</td>\n",
       "      <td>2.288</td>\n",
       "      <td>33</td>\n",
       "      <td>1</td>\n",
       "    </tr>\n",
       "  </tbody>\n",
       "</table>\n",
       "</div>"
      ],
      "text/plain": [
       "   Pregnancies  Glucose  BloodPressure  SkinThickness  Insulin   BMI  \\\n",
       "0            6      148             72             35        0  33.6   \n",
       "1            1       85             66             29        0  26.6   \n",
       "2            8      183             64              0        0  23.3   \n",
       "3            1       89             66             23       94  28.1   \n",
       "4            0      137             40             35      168  43.1   \n",
       "\n",
       "   DiabetesPedigreeFunction  Age  Outcome  \n",
       "0                     0.627   50        1  \n",
       "1                     0.351   31        0  \n",
       "2                     0.672   32        1  \n",
       "3                     0.167   21        0  \n",
       "4                     2.288   33        1  "
      ]
     },
     "execution_count": 22,
     "metadata": {},
     "output_type": "execute_result"
    }
   ],
   "source": [
    "df=pd.read_csv('diabetes.csv')\n",
    "df.head()"
   ]
  },
  {
   "cell_type": "code",
   "execution_count": 23,
   "id": "5f918418",
   "metadata": {},
   "outputs": [
    {
     "data": {
      "text/plain": [
       "Index(['Pregnancies', 'Glucose', 'BloodPressure', 'SkinThickness', 'Insulin',\n",
       "       'BMI', 'DiabetesPedigreeFunction', 'Age', 'Outcome'],\n",
       "      dtype='object')"
      ]
     },
     "execution_count": 23,
     "metadata": {},
     "output_type": "execute_result"
    }
   ],
   "source": [
    "df.columns"
   ]
  },
  {
   "cell_type": "code",
   "execution_count": 30,
   "id": "cf221de8",
   "metadata": {},
   "outputs": [],
   "source": [
    "x_train,x_test,y_train,y_test=train_test_split(df.iloc[:,[0,1,2,3,4,5,6,7]],df.iloc[:,[8]],test_size=0.2,random_state=1)"
   ]
  },
  {
   "cell_type": "code",
   "execution_count": 33,
   "id": "6b8f1a59",
   "metadata": {},
   "outputs": [
    {
     "data": {
      "text/plain": [
       "(614, 8)"
      ]
     },
     "execution_count": 33,
     "metadata": {},
     "output_type": "execute_result"
    }
   ],
   "source": [
    "x_train.shape"
   ]
  },
  {
   "cell_type": "code",
   "execution_count": 34,
   "id": "a725547c",
   "metadata": {},
   "outputs": [
    {
     "data": {
      "text/plain": [
       "(614, 1)"
      ]
     },
     "execution_count": 34,
     "metadata": {},
     "output_type": "execute_result"
    }
   ],
   "source": [
    "y_train.shape"
   ]
  },
  {
   "cell_type": "code",
   "execution_count": 37,
   "id": "e8ff25ae",
   "metadata": {},
   "outputs": [],
   "source": [
    "LogisticRegressionPipeline=Pipeline([('my scaler',MinMaxScaler()),('my PCA',PCA(n_components=3)),\n",
    "                                     ('logisitic_Regression',LogisticRegression())])\n"
   ]
  },
  {
   "cell_type": "code",
   "execution_count": 49,
   "id": "394841c4",
   "metadata": {},
   "outputs": [],
   "source": [
    "DecisionTreePipeline=Pipeline([('my scaler',MinMaxScaler()),('my PCA',PCA(n_components=3)),\n",
    "                                     ('logisitic_Regression',DecisionTreeClassifier())])"
   ]
  },
  {
   "cell_type": "code",
   "execution_count": 50,
   "id": "807ed18c",
   "metadata": {},
   "outputs": [],
   "source": [
    "RandomForestPipeline=Pipeline([('my scaler',MinMaxScaler()),('my PCA',PCA(n_components=3)),\n",
    "                                     ('logisitic_Regression',RandomForestClassifier())])"
   ]
  },
  {
   "cell_type": "code",
   "execution_count": 51,
   "id": "76fe05c9",
   "metadata": {},
   "outputs": [],
   "source": [
    "mypipeline=[LogisticRegressionPipeline,DecisionTreePipeline,RandomForestPipeline]"
   ]
  },
  {
   "cell_type": "code",
   "execution_count": 52,
   "id": "6d7a8bb5",
   "metadata": {},
   "outputs": [],
   "source": [
    "accuracy=0.0\n",
    "classifier=0\n",
    "pipeline=\"\""
   ]
  },
  {
   "cell_type": "code",
   "execution_count": 53,
   "id": "91d8e5e9",
   "metadata": {},
   "outputs": [],
   "source": [
    "PipelineDict={0:'Logistic Regression',1:'Decision Tree',2:'Random Forest'}"
   ]
  },
  {
   "cell_type": "code",
   "execution_count": 54,
   "id": "490ef8f7",
   "metadata": {},
   "outputs": [],
   "source": [
    "for mypipe in mypipeline:\n",
    "    mypipe.fit(x_train,y_train)"
   ]
  },
  {
   "cell_type": "code",
   "execution_count": null,
   "id": "f5078b13",
   "metadata": {},
   "outputs": [],
   "source": []
  },
  {
   "cell_type": "code",
   "execution_count": null,
   "id": "6081e387",
   "metadata": {},
   "outputs": [],
   "source": []
  },
  {
   "cell_type": "code",
   "execution_count": null,
   "id": "0148ce17",
   "metadata": {},
   "outputs": [],
   "source": []
  },
  {
   "cell_type": "code",
   "execution_count": null,
   "id": "76caa027",
   "metadata": {},
   "outputs": [],
   "source": []
  },
  {
   "cell_type": "code",
   "execution_count": null,
   "id": "cc22953d",
   "metadata": {},
   "outputs": [],
   "source": []
  },
  {
   "cell_type": "code",
   "execution_count": null,
   "id": "1febf93c",
   "metadata": {},
   "outputs": [],
   "source": []
  },
  {
   "cell_type": "code",
   "execution_count": null,
   "id": "48042288",
   "metadata": {},
   "outputs": [],
   "source": []
  },
  {
   "cell_type": "code",
   "execution_count": null,
   "id": "f490820b",
   "metadata": {},
   "outputs": [],
   "source": []
  },
  {
   "cell_type": "code",
   "execution_count": null,
   "id": "ee165faf",
   "metadata": {},
   "outputs": [],
   "source": []
  },
  {
   "cell_type": "code",
   "execution_count": null,
   "id": "5c05c1dc",
   "metadata": {},
   "outputs": [],
   "source": []
  },
  {
   "cell_type": "code",
   "execution_count": null,
   "id": "91ff24e5",
   "metadata": {},
   "outputs": [],
   "source": []
  },
  {
   "cell_type": "code",
   "execution_count": null,
   "id": "d7f5e9ec",
   "metadata": {},
   "outputs": [],
   "source": []
  },
  {
   "cell_type": "code",
   "execution_count": null,
   "id": "754aa92e",
   "metadata": {},
   "outputs": [],
   "source": []
  },
  {
   "cell_type": "code",
   "execution_count": null,
   "id": "a02c607f",
   "metadata": {},
   "outputs": [],
   "source": []
  },
  {
   "cell_type": "code",
   "execution_count": null,
   "id": "e584b1cb",
   "metadata": {},
   "outputs": [],
   "source": []
  }
 ],
 "metadata": {
  "kernelspec": {
   "display_name": "Python 3 (ipykernel)",
   "language": "python",
   "name": "python3"
  },
  "language_info": {
   "codemirror_mode": {
    "name": "ipython",
    "version": 3
   },
   "file_extension": ".py",
   "mimetype": "text/x-python",
   "name": "python",
   "nbconvert_exporter": "python",
   "pygments_lexer": "ipython3",
   "version": "3.9.12"
  }
 },
 "nbformat": 4,
 "nbformat_minor": 5
}

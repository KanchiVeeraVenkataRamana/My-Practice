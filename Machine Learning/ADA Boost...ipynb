{
 "cells": [
  {
   "cell_type": "code",
   "execution_count": 2,
   "id": "624aba41",
   "metadata": {},
   "outputs": [
    {
     "data": {
      "text/plain": [
       "['anagrams',\n",
       " 'anscombe',\n",
       " 'attention',\n",
       " 'brain_networks',\n",
       " 'car_crashes',\n",
       " 'diamonds',\n",
       " 'dots',\n",
       " 'dowjones',\n",
       " 'exercise',\n",
       " 'flights',\n",
       " 'fmri',\n",
       " 'geyser',\n",
       " 'glue',\n",
       " 'healthexp',\n",
       " 'iris',\n",
       " 'mpg',\n",
       " 'penguins',\n",
       " 'planets',\n",
       " 'seaice',\n",
       " 'taxis',\n",
       " 'tips',\n",
       " 'titanic']"
      ]
     },
     "execution_count": 2,
     "metadata": {},
     "output_type": "execute_result"
    }
   ],
   "source": [
    "import seaborn as sn\n",
    "import numpy as np\n",
    "sn.get_dataset_names()"
   ]
  },
  {
   "cell_type": "code",
   "execution_count": 3,
   "id": "e34a0526",
   "metadata": {},
   "outputs": [
    {
     "data": {
      "text/html": [
       "<div>\n",
       "<style scoped>\n",
       "    .dataframe tbody tr th:only-of-type {\n",
       "        vertical-align: middle;\n",
       "    }\n",
       "\n",
       "    .dataframe tbody tr th {\n",
       "        vertical-align: top;\n",
       "    }\n",
       "\n",
       "    .dataframe thead th {\n",
       "        text-align: right;\n",
       "    }\n",
       "</style>\n",
       "<table border=\"1\" class=\"dataframe\">\n",
       "  <thead>\n",
       "    <tr style=\"text-align: right;\">\n",
       "      <th></th>\n",
       "      <th>species</th>\n",
       "      <th>island</th>\n",
       "      <th>bill_length_mm</th>\n",
       "      <th>bill_depth_mm</th>\n",
       "      <th>flipper_length_mm</th>\n",
       "      <th>body_mass_g</th>\n",
       "      <th>sex</th>\n",
       "    </tr>\n",
       "  </thead>\n",
       "  <tbody>\n",
       "    <tr>\n",
       "      <th>0</th>\n",
       "      <td>Adelie</td>\n",
       "      <td>Torgersen</td>\n",
       "      <td>39.1</td>\n",
       "      <td>18.7</td>\n",
       "      <td>181.0</td>\n",
       "      <td>3750.0</td>\n",
       "      <td>Male</td>\n",
       "    </tr>\n",
       "    <tr>\n",
       "      <th>1</th>\n",
       "      <td>Adelie</td>\n",
       "      <td>Torgersen</td>\n",
       "      <td>39.5</td>\n",
       "      <td>17.4</td>\n",
       "      <td>186.0</td>\n",
       "      <td>3800.0</td>\n",
       "      <td>Female</td>\n",
       "    </tr>\n",
       "    <tr>\n",
       "      <th>2</th>\n",
       "      <td>Adelie</td>\n",
       "      <td>Torgersen</td>\n",
       "      <td>40.3</td>\n",
       "      <td>18.0</td>\n",
       "      <td>195.0</td>\n",
       "      <td>3250.0</td>\n",
       "      <td>Female</td>\n",
       "    </tr>\n",
       "    <tr>\n",
       "      <th>3</th>\n",
       "      <td>Adelie</td>\n",
       "      <td>Torgersen</td>\n",
       "      <td>NaN</td>\n",
       "      <td>NaN</td>\n",
       "      <td>NaN</td>\n",
       "      <td>NaN</td>\n",
       "      <td>NaN</td>\n",
       "    </tr>\n",
       "    <tr>\n",
       "      <th>4</th>\n",
       "      <td>Adelie</td>\n",
       "      <td>Torgersen</td>\n",
       "      <td>36.7</td>\n",
       "      <td>19.3</td>\n",
       "      <td>193.0</td>\n",
       "      <td>3450.0</td>\n",
       "      <td>Female</td>\n",
       "    </tr>\n",
       "    <tr>\n",
       "      <th>...</th>\n",
       "      <td>...</td>\n",
       "      <td>...</td>\n",
       "      <td>...</td>\n",
       "      <td>...</td>\n",
       "      <td>...</td>\n",
       "      <td>...</td>\n",
       "      <td>...</td>\n",
       "    </tr>\n",
       "    <tr>\n",
       "      <th>339</th>\n",
       "      <td>Gentoo</td>\n",
       "      <td>Biscoe</td>\n",
       "      <td>NaN</td>\n",
       "      <td>NaN</td>\n",
       "      <td>NaN</td>\n",
       "      <td>NaN</td>\n",
       "      <td>NaN</td>\n",
       "    </tr>\n",
       "    <tr>\n",
       "      <th>340</th>\n",
       "      <td>Gentoo</td>\n",
       "      <td>Biscoe</td>\n",
       "      <td>46.8</td>\n",
       "      <td>14.3</td>\n",
       "      <td>215.0</td>\n",
       "      <td>4850.0</td>\n",
       "      <td>Female</td>\n",
       "    </tr>\n",
       "    <tr>\n",
       "      <th>341</th>\n",
       "      <td>Gentoo</td>\n",
       "      <td>Biscoe</td>\n",
       "      <td>50.4</td>\n",
       "      <td>15.7</td>\n",
       "      <td>222.0</td>\n",
       "      <td>5750.0</td>\n",
       "      <td>Male</td>\n",
       "    </tr>\n",
       "    <tr>\n",
       "      <th>342</th>\n",
       "      <td>Gentoo</td>\n",
       "      <td>Biscoe</td>\n",
       "      <td>45.2</td>\n",
       "      <td>14.8</td>\n",
       "      <td>212.0</td>\n",
       "      <td>5200.0</td>\n",
       "      <td>Female</td>\n",
       "    </tr>\n",
       "    <tr>\n",
       "      <th>343</th>\n",
       "      <td>Gentoo</td>\n",
       "      <td>Biscoe</td>\n",
       "      <td>49.9</td>\n",
       "      <td>16.1</td>\n",
       "      <td>213.0</td>\n",
       "      <td>5400.0</td>\n",
       "      <td>Male</td>\n",
       "    </tr>\n",
       "  </tbody>\n",
       "</table>\n",
       "<p>344 rows × 7 columns</p>\n",
       "</div>"
      ],
      "text/plain": [
       "    species     island  bill_length_mm  bill_depth_mm  flipper_length_mm  \\\n",
       "0    Adelie  Torgersen            39.1           18.7              181.0   \n",
       "1    Adelie  Torgersen            39.5           17.4              186.0   \n",
       "2    Adelie  Torgersen            40.3           18.0              195.0   \n",
       "3    Adelie  Torgersen             NaN            NaN                NaN   \n",
       "4    Adelie  Torgersen            36.7           19.3              193.0   \n",
       "..      ...        ...             ...            ...                ...   \n",
       "339  Gentoo     Biscoe             NaN            NaN                NaN   \n",
       "340  Gentoo     Biscoe            46.8           14.3              215.0   \n",
       "341  Gentoo     Biscoe            50.4           15.7              222.0   \n",
       "342  Gentoo     Biscoe            45.2           14.8              212.0   \n",
       "343  Gentoo     Biscoe            49.9           16.1              213.0   \n",
       "\n",
       "     body_mass_g     sex  \n",
       "0         3750.0    Male  \n",
       "1         3800.0  Female  \n",
       "2         3250.0  Female  \n",
       "3            NaN     NaN  \n",
       "4         3450.0  Female  \n",
       "..           ...     ...  \n",
       "339          NaN     NaN  \n",
       "340       4850.0  Female  \n",
       "341       5750.0    Male  \n",
       "342       5200.0  Female  \n",
       "343       5400.0    Male  \n",
       "\n",
       "[344 rows x 7 columns]"
      ]
     },
     "execution_count": 3,
     "metadata": {},
     "output_type": "execute_result"
    }
   ],
   "source": [
    "data=sn.load_dataset('penguins')\n",
    "data"
   ]
  },
  {
   "cell_type": "code",
   "execution_count": 4,
   "id": "efb9bd87",
   "metadata": {},
   "outputs": [
    {
     "data": {
      "text/html": [
       "<div>\n",
       "<style scoped>\n",
       "    .dataframe tbody tr th:only-of-type {\n",
       "        vertical-align: middle;\n",
       "    }\n",
       "\n",
       "    .dataframe tbody tr th {\n",
       "        vertical-align: top;\n",
       "    }\n",
       "\n",
       "    .dataframe thead th {\n",
       "        text-align: right;\n",
       "    }\n",
       "</style>\n",
       "<table border=\"1\" class=\"dataframe\">\n",
       "  <thead>\n",
       "    <tr style=\"text-align: right;\">\n",
       "      <th></th>\n",
       "      <th>species</th>\n",
       "      <th>island</th>\n",
       "      <th>bill_length_mm</th>\n",
       "      <th>bill_depth_mm</th>\n",
       "      <th>flipper_length_mm</th>\n",
       "      <th>body_mass_g</th>\n",
       "      <th>sex</th>\n",
       "    </tr>\n",
       "  </thead>\n",
       "  <tbody>\n",
       "    <tr>\n",
       "      <th>0</th>\n",
       "      <td>Adelie</td>\n",
       "      <td>Torgersen</td>\n",
       "      <td>39.1</td>\n",
       "      <td>18.7</td>\n",
       "      <td>181.0</td>\n",
       "      <td>3750.0</td>\n",
       "      <td>Male</td>\n",
       "    </tr>\n",
       "    <tr>\n",
       "      <th>1</th>\n",
       "      <td>Adelie</td>\n",
       "      <td>Torgersen</td>\n",
       "      <td>39.5</td>\n",
       "      <td>17.4</td>\n",
       "      <td>186.0</td>\n",
       "      <td>3800.0</td>\n",
       "      <td>Female</td>\n",
       "    </tr>\n",
       "    <tr>\n",
       "      <th>2</th>\n",
       "      <td>Adelie</td>\n",
       "      <td>Torgersen</td>\n",
       "      <td>40.3</td>\n",
       "      <td>18.0</td>\n",
       "      <td>195.0</td>\n",
       "      <td>3250.0</td>\n",
       "      <td>Female</td>\n",
       "    </tr>\n",
       "    <tr>\n",
       "      <th>3</th>\n",
       "      <td>Adelie</td>\n",
       "      <td>Torgersen</td>\n",
       "      <td>NaN</td>\n",
       "      <td>NaN</td>\n",
       "      <td>NaN</td>\n",
       "      <td>NaN</td>\n",
       "      <td>NaN</td>\n",
       "    </tr>\n",
       "    <tr>\n",
       "      <th>4</th>\n",
       "      <td>Adelie</td>\n",
       "      <td>Torgersen</td>\n",
       "      <td>36.7</td>\n",
       "      <td>19.3</td>\n",
       "      <td>193.0</td>\n",
       "      <td>3450.0</td>\n",
       "      <td>Female</td>\n",
       "    </tr>\n",
       "  </tbody>\n",
       "</table>\n",
       "</div>"
      ],
      "text/plain": [
       "  species     island  bill_length_mm  bill_depth_mm  flipper_length_mm  \\\n",
       "0  Adelie  Torgersen            39.1           18.7              181.0   \n",
       "1  Adelie  Torgersen            39.5           17.4              186.0   \n",
       "2  Adelie  Torgersen            40.3           18.0              195.0   \n",
       "3  Adelie  Torgersen             NaN            NaN                NaN   \n",
       "4  Adelie  Torgersen            36.7           19.3              193.0   \n",
       "\n",
       "   body_mass_g     sex  \n",
       "0       3750.0    Male  \n",
       "1       3800.0  Female  \n",
       "2       3250.0  Female  \n",
       "3          NaN     NaN  \n",
       "4       3450.0  Female  "
      ]
     },
     "execution_count": 4,
     "metadata": {},
     "output_type": "execute_result"
    }
   ],
   "source": [
    "data.head()"
   ]
  },
  {
   "cell_type": "code",
   "execution_count": 5,
   "id": "95f22a67",
   "metadata": {},
   "outputs": [
    {
     "data": {
      "text/html": [
       "<div>\n",
       "<style scoped>\n",
       "    .dataframe tbody tr th:only-of-type {\n",
       "        vertical-align: middle;\n",
       "    }\n",
       "\n",
       "    .dataframe tbody tr th {\n",
       "        vertical-align: top;\n",
       "    }\n",
       "\n",
       "    .dataframe thead th {\n",
       "        text-align: right;\n",
       "    }\n",
       "</style>\n",
       "<table border=\"1\" class=\"dataframe\">\n",
       "  <thead>\n",
       "    <tr style=\"text-align: right;\">\n",
       "      <th></th>\n",
       "      <th>species</th>\n",
       "      <th>island</th>\n",
       "      <th>bill_length_mm</th>\n",
       "      <th>bill_depth_mm</th>\n",
       "      <th>flipper_length_mm</th>\n",
       "      <th>body_mass_g</th>\n",
       "      <th>sex</th>\n",
       "    </tr>\n",
       "  </thead>\n",
       "  <tbody>\n",
       "    <tr>\n",
       "      <th>count</th>\n",
       "      <td>344</td>\n",
       "      <td>344</td>\n",
       "      <td>342.000000</td>\n",
       "      <td>342.000000</td>\n",
       "      <td>342.000000</td>\n",
       "      <td>342.000000</td>\n",
       "      <td>333</td>\n",
       "    </tr>\n",
       "    <tr>\n",
       "      <th>unique</th>\n",
       "      <td>3</td>\n",
       "      <td>3</td>\n",
       "      <td>NaN</td>\n",
       "      <td>NaN</td>\n",
       "      <td>NaN</td>\n",
       "      <td>NaN</td>\n",
       "      <td>2</td>\n",
       "    </tr>\n",
       "    <tr>\n",
       "      <th>top</th>\n",
       "      <td>Adelie</td>\n",
       "      <td>Biscoe</td>\n",
       "      <td>NaN</td>\n",
       "      <td>NaN</td>\n",
       "      <td>NaN</td>\n",
       "      <td>NaN</td>\n",
       "      <td>Male</td>\n",
       "    </tr>\n",
       "    <tr>\n",
       "      <th>freq</th>\n",
       "      <td>152</td>\n",
       "      <td>168</td>\n",
       "      <td>NaN</td>\n",
       "      <td>NaN</td>\n",
       "      <td>NaN</td>\n",
       "      <td>NaN</td>\n",
       "      <td>168</td>\n",
       "    </tr>\n",
       "    <tr>\n",
       "      <th>mean</th>\n",
       "      <td>NaN</td>\n",
       "      <td>NaN</td>\n",
       "      <td>43.921930</td>\n",
       "      <td>17.151170</td>\n",
       "      <td>200.915205</td>\n",
       "      <td>4201.754386</td>\n",
       "      <td>NaN</td>\n",
       "    </tr>\n",
       "    <tr>\n",
       "      <th>std</th>\n",
       "      <td>NaN</td>\n",
       "      <td>NaN</td>\n",
       "      <td>5.459584</td>\n",
       "      <td>1.974793</td>\n",
       "      <td>14.061714</td>\n",
       "      <td>801.954536</td>\n",
       "      <td>NaN</td>\n",
       "    </tr>\n",
       "    <tr>\n",
       "      <th>min</th>\n",
       "      <td>NaN</td>\n",
       "      <td>NaN</td>\n",
       "      <td>32.100000</td>\n",
       "      <td>13.100000</td>\n",
       "      <td>172.000000</td>\n",
       "      <td>2700.000000</td>\n",
       "      <td>NaN</td>\n",
       "    </tr>\n",
       "    <tr>\n",
       "      <th>25%</th>\n",
       "      <td>NaN</td>\n",
       "      <td>NaN</td>\n",
       "      <td>39.225000</td>\n",
       "      <td>15.600000</td>\n",
       "      <td>190.000000</td>\n",
       "      <td>3550.000000</td>\n",
       "      <td>NaN</td>\n",
       "    </tr>\n",
       "    <tr>\n",
       "      <th>50%</th>\n",
       "      <td>NaN</td>\n",
       "      <td>NaN</td>\n",
       "      <td>44.450000</td>\n",
       "      <td>17.300000</td>\n",
       "      <td>197.000000</td>\n",
       "      <td>4050.000000</td>\n",
       "      <td>NaN</td>\n",
       "    </tr>\n",
       "    <tr>\n",
       "      <th>75%</th>\n",
       "      <td>NaN</td>\n",
       "      <td>NaN</td>\n",
       "      <td>48.500000</td>\n",
       "      <td>18.700000</td>\n",
       "      <td>213.000000</td>\n",
       "      <td>4750.000000</td>\n",
       "      <td>NaN</td>\n",
       "    </tr>\n",
       "    <tr>\n",
       "      <th>max</th>\n",
       "      <td>NaN</td>\n",
       "      <td>NaN</td>\n",
       "      <td>59.600000</td>\n",
       "      <td>21.500000</td>\n",
       "      <td>231.000000</td>\n",
       "      <td>6300.000000</td>\n",
       "      <td>NaN</td>\n",
       "    </tr>\n",
       "  </tbody>\n",
       "</table>\n",
       "</div>"
      ],
      "text/plain": [
       "       species  island  bill_length_mm  bill_depth_mm  flipper_length_mm  \\\n",
       "count      344     344      342.000000     342.000000         342.000000   \n",
       "unique       3       3             NaN            NaN                NaN   \n",
       "top     Adelie  Biscoe             NaN            NaN                NaN   \n",
       "freq       152     168             NaN            NaN                NaN   \n",
       "mean       NaN     NaN       43.921930      17.151170         200.915205   \n",
       "std        NaN     NaN        5.459584       1.974793          14.061714   \n",
       "min        NaN     NaN       32.100000      13.100000         172.000000   \n",
       "25%        NaN     NaN       39.225000      15.600000         190.000000   \n",
       "50%        NaN     NaN       44.450000      17.300000         197.000000   \n",
       "75%        NaN     NaN       48.500000      18.700000         213.000000   \n",
       "max        NaN     NaN       59.600000      21.500000         231.000000   \n",
       "\n",
       "        body_mass_g   sex  \n",
       "count    342.000000   333  \n",
       "unique          NaN     2  \n",
       "top             NaN  Male  \n",
       "freq            NaN   168  \n",
       "mean    4201.754386   NaN  \n",
       "std      801.954536   NaN  \n",
       "min     2700.000000   NaN  \n",
       "25%     3550.000000   NaN  \n",
       "50%     4050.000000   NaN  \n",
       "75%     4750.000000   NaN  \n",
       "max     6300.000000   NaN  "
      ]
     },
     "execution_count": 5,
     "metadata": {},
     "output_type": "execute_result"
    }
   ],
   "source": [
    "data.describe(include='all')"
   ]
  },
  {
   "cell_type": "code",
   "execution_count": 6,
   "id": "ce27d8b6",
   "metadata": {},
   "outputs": [
    {
     "data": {
      "text/plain": [
       "19"
      ]
     },
     "execution_count": 6,
     "metadata": {},
     "output_type": "execute_result"
    }
   ],
   "source": [
    "data.isna().sum().sum()"
   ]
  },
  {
   "cell_type": "code",
   "execution_count": 7,
   "id": "8f44c014",
   "metadata": {},
   "outputs": [
    {
     "data": {
      "text/plain": [
       "species               0\n",
       "island                0\n",
       "bill_length_mm        2\n",
       "bill_depth_mm         2\n",
       "flipper_length_mm     2\n",
       "body_mass_g           2\n",
       "sex                  11\n",
       "dtype: int64"
      ]
     },
     "execution_count": 7,
     "metadata": {},
     "output_type": "execute_result"
    }
   ],
   "source": [
    "data.isna().sum()"
   ]
  },
  {
   "cell_type": "code",
   "execution_count": 8,
   "id": "9a7dd4b5",
   "metadata": {},
   "outputs": [
    {
     "data": {
      "text/html": [
       "<div>\n",
       "<style scoped>\n",
       "    .dataframe tbody tr th:only-of-type {\n",
       "        vertical-align: middle;\n",
       "    }\n",
       "\n",
       "    .dataframe tbody tr th {\n",
       "        vertical-align: top;\n",
       "    }\n",
       "\n",
       "    .dataframe thead th {\n",
       "        text-align: right;\n",
       "    }\n",
       "</style>\n",
       "<table border=\"1\" class=\"dataframe\">\n",
       "  <thead>\n",
       "    <tr style=\"text-align: right;\">\n",
       "      <th></th>\n",
       "      <th>species</th>\n",
       "      <th>island</th>\n",
       "      <th>bill_length_mm</th>\n",
       "      <th>bill_depth_mm</th>\n",
       "      <th>flipper_length_mm</th>\n",
       "      <th>body_mass_g</th>\n",
       "      <th>sex</th>\n",
       "    </tr>\n",
       "  </thead>\n",
       "  <tbody>\n",
       "    <tr>\n",
       "      <th>0</th>\n",
       "      <td>Adelie</td>\n",
       "      <td>Torgersen</td>\n",
       "      <td>39.10</td>\n",
       "      <td>18.7</td>\n",
       "      <td>181.0</td>\n",
       "      <td>3750.0</td>\n",
       "      <td>Male</td>\n",
       "    </tr>\n",
       "    <tr>\n",
       "      <th>1</th>\n",
       "      <td>Adelie</td>\n",
       "      <td>Torgersen</td>\n",
       "      <td>39.50</td>\n",
       "      <td>17.4</td>\n",
       "      <td>186.0</td>\n",
       "      <td>3800.0</td>\n",
       "      <td>Female</td>\n",
       "    </tr>\n",
       "    <tr>\n",
       "      <th>2</th>\n",
       "      <td>Adelie</td>\n",
       "      <td>Torgersen</td>\n",
       "      <td>40.30</td>\n",
       "      <td>18.0</td>\n",
       "      <td>195.0</td>\n",
       "      <td>3250.0</td>\n",
       "      <td>Female</td>\n",
       "    </tr>\n",
       "    <tr>\n",
       "      <th>3</th>\n",
       "      <td>Adelie</td>\n",
       "      <td>Torgersen</td>\n",
       "      <td>44.45</td>\n",
       "      <td>NaN</td>\n",
       "      <td>NaN</td>\n",
       "      <td>NaN</td>\n",
       "      <td>NaN</td>\n",
       "    </tr>\n",
       "    <tr>\n",
       "      <th>4</th>\n",
       "      <td>Adelie</td>\n",
       "      <td>Torgersen</td>\n",
       "      <td>36.70</td>\n",
       "      <td>19.3</td>\n",
       "      <td>193.0</td>\n",
       "      <td>3450.0</td>\n",
       "      <td>Female</td>\n",
       "    </tr>\n",
       "  </tbody>\n",
       "</table>\n",
       "</div>"
      ],
      "text/plain": [
       "  species     island  bill_length_mm  bill_depth_mm  flipper_length_mm  \\\n",
       "0  Adelie  Torgersen           39.10           18.7              181.0   \n",
       "1  Adelie  Torgersen           39.50           17.4              186.0   \n",
       "2  Adelie  Torgersen           40.30           18.0              195.0   \n",
       "3  Adelie  Torgersen           44.45            NaN                NaN   \n",
       "4  Adelie  Torgersen           36.70           19.3              193.0   \n",
       "\n",
       "   body_mass_g     sex  \n",
       "0       3750.0    Male  \n",
       "1       3800.0  Female  \n",
       "2       3250.0  Female  \n",
       "3          NaN     NaN  \n",
       "4       3450.0  Female  "
      ]
     },
     "execution_count": 8,
     "metadata": {},
     "output_type": "execute_result"
    }
   ],
   "source": [
    "data['bill_length_mm'].replace(np.nan,data['bill_length_mm'].median(),inplace=True)\n",
    "data.head()"
   ]
  },
  {
   "cell_type": "code",
   "execution_count": 9,
   "id": "325c1f64",
   "metadata": {},
   "outputs": [
    {
     "data": {
      "text/plain": [
       "species               0\n",
       "island                0\n",
       "bill_length_mm        0\n",
       "bill_depth_mm         2\n",
       "flipper_length_mm     2\n",
       "body_mass_g           2\n",
       "sex                  11\n",
       "dtype: int64"
      ]
     },
     "execution_count": 9,
     "metadata": {},
     "output_type": "execute_result"
    }
   ],
   "source": [
    "data.isna().sum()"
   ]
  },
  {
   "cell_type": "code",
   "execution_count": 10,
   "id": "d4150c38",
   "metadata": {},
   "outputs": [
    {
     "data": {
      "text/html": [
       "<div>\n",
       "<style scoped>\n",
       "    .dataframe tbody tr th:only-of-type {\n",
       "        vertical-align: middle;\n",
       "    }\n",
       "\n",
       "    .dataframe tbody tr th {\n",
       "        vertical-align: top;\n",
       "    }\n",
       "\n",
       "    .dataframe thead th {\n",
       "        text-align: right;\n",
       "    }\n",
       "</style>\n",
       "<table border=\"1\" class=\"dataframe\">\n",
       "  <thead>\n",
       "    <tr style=\"text-align: right;\">\n",
       "      <th></th>\n",
       "      <th>species</th>\n",
       "      <th>island</th>\n",
       "      <th>bill_length_mm</th>\n",
       "      <th>bill_depth_mm</th>\n",
       "      <th>flipper_length_mm</th>\n",
       "      <th>body_mass_g</th>\n",
       "      <th>sex</th>\n",
       "    </tr>\n",
       "  </thead>\n",
       "  <tbody>\n",
       "    <tr>\n",
       "      <th>0</th>\n",
       "      <td>Adelie</td>\n",
       "      <td>Torgersen</td>\n",
       "      <td>39.10</td>\n",
       "      <td>18.7</td>\n",
       "      <td>181.000000</td>\n",
       "      <td>3750.0</td>\n",
       "      <td>Male</td>\n",
       "    </tr>\n",
       "    <tr>\n",
       "      <th>1</th>\n",
       "      <td>Adelie</td>\n",
       "      <td>Torgersen</td>\n",
       "      <td>39.50</td>\n",
       "      <td>17.4</td>\n",
       "      <td>186.000000</td>\n",
       "      <td>3800.0</td>\n",
       "      <td>Female</td>\n",
       "    </tr>\n",
       "    <tr>\n",
       "      <th>2</th>\n",
       "      <td>Adelie</td>\n",
       "      <td>Torgersen</td>\n",
       "      <td>40.30</td>\n",
       "      <td>18.0</td>\n",
       "      <td>195.000000</td>\n",
       "      <td>3250.0</td>\n",
       "      <td>Female</td>\n",
       "    </tr>\n",
       "    <tr>\n",
       "      <th>3</th>\n",
       "      <td>Adelie</td>\n",
       "      <td>Torgersen</td>\n",
       "      <td>44.45</td>\n",
       "      <td>NaN</td>\n",
       "      <td>200.915205</td>\n",
       "      <td>NaN</td>\n",
       "      <td>NaN</td>\n",
       "    </tr>\n",
       "    <tr>\n",
       "      <th>4</th>\n",
       "      <td>Adelie</td>\n",
       "      <td>Torgersen</td>\n",
       "      <td>36.70</td>\n",
       "      <td>19.3</td>\n",
       "      <td>193.000000</td>\n",
       "      <td>3450.0</td>\n",
       "      <td>Female</td>\n",
       "    </tr>\n",
       "  </tbody>\n",
       "</table>\n",
       "</div>"
      ],
      "text/plain": [
       "  species     island  bill_length_mm  bill_depth_mm  flipper_length_mm  \\\n",
       "0  Adelie  Torgersen           39.10           18.7         181.000000   \n",
       "1  Adelie  Torgersen           39.50           17.4         186.000000   \n",
       "2  Adelie  Torgersen           40.30           18.0         195.000000   \n",
       "3  Adelie  Torgersen           44.45            NaN         200.915205   \n",
       "4  Adelie  Torgersen           36.70           19.3         193.000000   \n",
       "\n",
       "   body_mass_g     sex  \n",
       "0       3750.0    Male  \n",
       "1       3800.0  Female  \n",
       "2       3250.0  Female  \n",
       "3          NaN     NaN  \n",
       "4       3450.0  Female  "
      ]
     },
     "execution_count": 10,
     "metadata": {},
     "output_type": "execute_result"
    }
   ],
   "source": [
    "data['flipper_length_mm'].replace(np.nan,data['flipper_length_mm'].mean(),inplace=True)\n",
    "data.head()"
   ]
  },
  {
   "cell_type": "code",
   "execution_count": 11,
   "id": "07a63fab",
   "metadata": {},
   "outputs": [
    {
     "data": {
      "text/plain": [
       "species               0\n",
       "island                0\n",
       "bill_length_mm        0\n",
       "bill_depth_mm         2\n",
       "flipper_length_mm     0\n",
       "body_mass_g           2\n",
       "sex                  11\n",
       "dtype: int64"
      ]
     },
     "execution_count": 11,
     "metadata": {},
     "output_type": "execute_result"
    }
   ],
   "source": [
    "data.isna().sum()"
   ]
  },
  {
   "cell_type": "code",
   "execution_count": 12,
   "id": "f6bf9e58",
   "metadata": {},
   "outputs": [
    {
     "data": {
      "text/html": [
       "<div>\n",
       "<style scoped>\n",
       "    .dataframe tbody tr th:only-of-type {\n",
       "        vertical-align: middle;\n",
       "    }\n",
       "\n",
       "    .dataframe tbody tr th {\n",
       "        vertical-align: top;\n",
       "    }\n",
       "\n",
       "    .dataframe thead th {\n",
       "        text-align: right;\n",
       "    }\n",
       "</style>\n",
       "<table border=\"1\" class=\"dataframe\">\n",
       "  <thead>\n",
       "    <tr style=\"text-align: right;\">\n",
       "      <th></th>\n",
       "      <th>species</th>\n",
       "      <th>island</th>\n",
       "      <th>bill_length_mm</th>\n",
       "      <th>bill_depth_mm</th>\n",
       "      <th>flipper_length_mm</th>\n",
       "      <th>body_mass_g</th>\n",
       "      <th>sex</th>\n",
       "    </tr>\n",
       "  </thead>\n",
       "  <tbody>\n",
       "    <tr>\n",
       "      <th>0</th>\n",
       "      <td>Adelie</td>\n",
       "      <td>Torgersen</td>\n",
       "      <td>39.10</td>\n",
       "      <td>18.700000</td>\n",
       "      <td>181.000000</td>\n",
       "      <td>3750.0</td>\n",
       "      <td>Male</td>\n",
       "    </tr>\n",
       "    <tr>\n",
       "      <th>1</th>\n",
       "      <td>Adelie</td>\n",
       "      <td>Torgersen</td>\n",
       "      <td>39.50</td>\n",
       "      <td>17.400000</td>\n",
       "      <td>186.000000</td>\n",
       "      <td>3800.0</td>\n",
       "      <td>Female</td>\n",
       "    </tr>\n",
       "    <tr>\n",
       "      <th>2</th>\n",
       "      <td>Adelie</td>\n",
       "      <td>Torgersen</td>\n",
       "      <td>40.30</td>\n",
       "      <td>18.000000</td>\n",
       "      <td>195.000000</td>\n",
       "      <td>3250.0</td>\n",
       "      <td>Female</td>\n",
       "    </tr>\n",
       "    <tr>\n",
       "      <th>3</th>\n",
       "      <td>Adelie</td>\n",
       "      <td>Torgersen</td>\n",
       "      <td>44.45</td>\n",
       "      <td>1.974793</td>\n",
       "      <td>200.915205</td>\n",
       "      <td>NaN</td>\n",
       "      <td>NaN</td>\n",
       "    </tr>\n",
       "    <tr>\n",
       "      <th>4</th>\n",
       "      <td>Adelie</td>\n",
       "      <td>Torgersen</td>\n",
       "      <td>36.70</td>\n",
       "      <td>19.300000</td>\n",
       "      <td>193.000000</td>\n",
       "      <td>3450.0</td>\n",
       "      <td>Female</td>\n",
       "    </tr>\n",
       "  </tbody>\n",
       "</table>\n",
       "</div>"
      ],
      "text/plain": [
       "  species     island  bill_length_mm  bill_depth_mm  flipper_length_mm  \\\n",
       "0  Adelie  Torgersen           39.10      18.700000         181.000000   \n",
       "1  Adelie  Torgersen           39.50      17.400000         186.000000   \n",
       "2  Adelie  Torgersen           40.30      18.000000         195.000000   \n",
       "3  Adelie  Torgersen           44.45       1.974793         200.915205   \n",
       "4  Adelie  Torgersen           36.70      19.300000         193.000000   \n",
       "\n",
       "   body_mass_g     sex  \n",
       "0       3750.0    Male  \n",
       "1       3800.0  Female  \n",
       "2       3250.0  Female  \n",
       "3          NaN     NaN  \n",
       "4       3450.0  Female  "
      ]
     },
     "execution_count": 12,
     "metadata": {},
     "output_type": "execute_result"
    }
   ],
   "source": [
    "data['bill_depth_mm'].replace(np.nan,data['bill_depth_mm'].std(),inplace=True)\n",
    "data.head()"
   ]
  },
  {
   "cell_type": "code",
   "execution_count": 13,
   "id": "afba2e49",
   "metadata": {},
   "outputs": [
    {
     "data": {
      "text/plain": [
       "species               0\n",
       "island                0\n",
       "bill_length_mm        0\n",
       "bill_depth_mm         0\n",
       "flipper_length_mm     0\n",
       "body_mass_g           2\n",
       "sex                  11\n",
       "dtype: int64"
      ]
     },
     "execution_count": 13,
     "metadata": {},
     "output_type": "execute_result"
    }
   ],
   "source": [
    "data.isna().sum()"
   ]
  },
  {
   "cell_type": "code",
   "execution_count": 14,
   "id": "ba5f3914",
   "metadata": {},
   "outputs": [
    {
     "data": {
      "text/html": [
       "<div>\n",
       "<style scoped>\n",
       "    .dataframe tbody tr th:only-of-type {\n",
       "        vertical-align: middle;\n",
       "    }\n",
       "\n",
       "    .dataframe tbody tr th {\n",
       "        vertical-align: top;\n",
       "    }\n",
       "\n",
       "    .dataframe thead th {\n",
       "        text-align: right;\n",
       "    }\n",
       "</style>\n",
       "<table border=\"1\" class=\"dataframe\">\n",
       "  <thead>\n",
       "    <tr style=\"text-align: right;\">\n",
       "      <th></th>\n",
       "      <th>species</th>\n",
       "      <th>island</th>\n",
       "      <th>bill_length_mm</th>\n",
       "      <th>bill_depth_mm</th>\n",
       "      <th>flipper_length_mm</th>\n",
       "      <th>body_mass_g</th>\n",
       "      <th>sex</th>\n",
       "    </tr>\n",
       "  </thead>\n",
       "  <tbody>\n",
       "    <tr>\n",
       "      <th>0</th>\n",
       "      <td>Adelie</td>\n",
       "      <td>Torgersen</td>\n",
       "      <td>39.10</td>\n",
       "      <td>18.700000</td>\n",
       "      <td>181.000000</td>\n",
       "      <td>3750.0</td>\n",
       "      <td>Male</td>\n",
       "    </tr>\n",
       "    <tr>\n",
       "      <th>1</th>\n",
       "      <td>Adelie</td>\n",
       "      <td>Torgersen</td>\n",
       "      <td>39.50</td>\n",
       "      <td>17.400000</td>\n",
       "      <td>186.000000</td>\n",
       "      <td>3800.0</td>\n",
       "      <td>Female</td>\n",
       "    </tr>\n",
       "    <tr>\n",
       "      <th>2</th>\n",
       "      <td>Adelie</td>\n",
       "      <td>Torgersen</td>\n",
       "      <td>40.30</td>\n",
       "      <td>18.000000</td>\n",
       "      <td>195.000000</td>\n",
       "      <td>3250.0</td>\n",
       "      <td>Female</td>\n",
       "    </tr>\n",
       "    <tr>\n",
       "      <th>3</th>\n",
       "      <td>Adelie</td>\n",
       "      <td>Torgersen</td>\n",
       "      <td>44.45</td>\n",
       "      <td>1.974793</td>\n",
       "      <td>200.915205</td>\n",
       "      <td>6300.0</td>\n",
       "      <td>NaN</td>\n",
       "    </tr>\n",
       "    <tr>\n",
       "      <th>4</th>\n",
       "      <td>Adelie</td>\n",
       "      <td>Torgersen</td>\n",
       "      <td>36.70</td>\n",
       "      <td>19.300000</td>\n",
       "      <td>193.000000</td>\n",
       "      <td>3450.0</td>\n",
       "      <td>Female</td>\n",
       "    </tr>\n",
       "  </tbody>\n",
       "</table>\n",
       "</div>"
      ],
      "text/plain": [
       "  species     island  bill_length_mm  bill_depth_mm  flipper_length_mm  \\\n",
       "0  Adelie  Torgersen           39.10      18.700000         181.000000   \n",
       "1  Adelie  Torgersen           39.50      17.400000         186.000000   \n",
       "2  Adelie  Torgersen           40.30      18.000000         195.000000   \n",
       "3  Adelie  Torgersen           44.45       1.974793         200.915205   \n",
       "4  Adelie  Torgersen           36.70      19.300000         193.000000   \n",
       "\n",
       "   body_mass_g     sex  \n",
       "0       3750.0    Male  \n",
       "1       3800.0  Female  \n",
       "2       3250.0  Female  \n",
       "3       6300.0     NaN  \n",
       "4       3450.0  Female  "
      ]
     },
     "execution_count": 14,
     "metadata": {},
     "output_type": "execute_result"
    }
   ],
   "source": [
    "data['body_mass_g'].replace(np.nan,data['body_mass_g'].max(),inplace=True)\n",
    "data.head()"
   ]
  },
  {
   "cell_type": "code",
   "execution_count": 15,
   "id": "179b484d",
   "metadata": {},
   "outputs": [
    {
     "data": {
      "text/plain": [
       "species               0\n",
       "island                0\n",
       "bill_length_mm        0\n",
       "bill_depth_mm         0\n",
       "flipper_length_mm     0\n",
       "body_mass_g           0\n",
       "sex                  11\n",
       "dtype: int64"
      ]
     },
     "execution_count": 15,
     "metadata": {},
     "output_type": "execute_result"
    }
   ],
   "source": [
    "data.isna().sum()"
   ]
  },
  {
   "cell_type": "code",
   "execution_count": 16,
   "id": "0905c532",
   "metadata": {},
   "outputs": [
    {
     "data": {
      "text/html": [
       "<div>\n",
       "<style scoped>\n",
       "    .dataframe tbody tr th:only-of-type {\n",
       "        vertical-align: middle;\n",
       "    }\n",
       "\n",
       "    .dataframe tbody tr th {\n",
       "        vertical-align: top;\n",
       "    }\n",
       "\n",
       "    .dataframe thead th {\n",
       "        text-align: right;\n",
       "    }\n",
       "</style>\n",
       "<table border=\"1\" class=\"dataframe\">\n",
       "  <thead>\n",
       "    <tr style=\"text-align: right;\">\n",
       "      <th></th>\n",
       "      <th>species</th>\n",
       "      <th>island</th>\n",
       "      <th>bill_length_mm</th>\n",
       "      <th>bill_depth_mm</th>\n",
       "      <th>flipper_length_mm</th>\n",
       "      <th>body_mass_g</th>\n",
       "      <th>sex</th>\n",
       "    </tr>\n",
       "  </thead>\n",
       "  <tbody>\n",
       "    <tr>\n",
       "      <th>0</th>\n",
       "      <td>Adelie</td>\n",
       "      <td>Torgersen</td>\n",
       "      <td>39.10</td>\n",
       "      <td>18.700000</td>\n",
       "      <td>181.000000</td>\n",
       "      <td>3750.0</td>\n",
       "      <td>Male</td>\n",
       "    </tr>\n",
       "    <tr>\n",
       "      <th>1</th>\n",
       "      <td>Adelie</td>\n",
       "      <td>Torgersen</td>\n",
       "      <td>39.50</td>\n",
       "      <td>17.400000</td>\n",
       "      <td>186.000000</td>\n",
       "      <td>3800.0</td>\n",
       "      <td>Female</td>\n",
       "    </tr>\n",
       "    <tr>\n",
       "      <th>2</th>\n",
       "      <td>Adelie</td>\n",
       "      <td>Torgersen</td>\n",
       "      <td>40.30</td>\n",
       "      <td>18.000000</td>\n",
       "      <td>195.000000</td>\n",
       "      <td>3250.0</td>\n",
       "      <td>Female</td>\n",
       "    </tr>\n",
       "    <tr>\n",
       "      <th>3</th>\n",
       "      <td>Adelie</td>\n",
       "      <td>Torgersen</td>\n",
       "      <td>44.45</td>\n",
       "      <td>1.974793</td>\n",
       "      <td>200.915205</td>\n",
       "      <td>6300.0</td>\n",
       "      <td>Female</td>\n",
       "    </tr>\n",
       "    <tr>\n",
       "      <th>4</th>\n",
       "      <td>Adelie</td>\n",
       "      <td>Torgersen</td>\n",
       "      <td>36.70</td>\n",
       "      <td>19.300000</td>\n",
       "      <td>193.000000</td>\n",
       "      <td>3450.0</td>\n",
       "      <td>Female</td>\n",
       "    </tr>\n",
       "  </tbody>\n",
       "</table>\n",
       "</div>"
      ],
      "text/plain": [
       "  species     island  bill_length_mm  bill_depth_mm  flipper_length_mm  \\\n",
       "0  Adelie  Torgersen           39.10      18.700000         181.000000   \n",
       "1  Adelie  Torgersen           39.50      17.400000         186.000000   \n",
       "2  Adelie  Torgersen           40.30      18.000000         195.000000   \n",
       "3  Adelie  Torgersen           44.45       1.974793         200.915205   \n",
       "4  Adelie  Torgersen           36.70      19.300000         193.000000   \n",
       "\n",
       "   body_mass_g     sex  \n",
       "0       3750.0    Male  \n",
       "1       3800.0  Female  \n",
       "2       3250.0  Female  \n",
       "3       6300.0  Female  \n",
       "4       3450.0  Female  "
      ]
     },
     "execution_count": 16,
     "metadata": {},
     "output_type": "execute_result"
    }
   ],
   "source": [
    "data['sex'].fillna(method='ffill',inplace=True)\n",
    "data.head()"
   ]
  },
  {
   "cell_type": "code",
   "execution_count": 17,
   "id": "8c3281f5",
   "metadata": {},
   "outputs": [
    {
     "data": {
      "text/plain": [
       "species              0\n",
       "island               0\n",
       "bill_length_mm       0\n",
       "bill_depth_mm        0\n",
       "flipper_length_mm    0\n",
       "body_mass_g          0\n",
       "sex                  0\n",
       "dtype: int64"
      ]
     },
     "execution_count": 17,
     "metadata": {},
     "output_type": "execute_result"
    }
   ],
   "source": [
    "data.isna().sum()"
   ]
  },
  {
   "cell_type": "code",
   "execution_count": 18,
   "id": "612764c2",
   "metadata": {},
   "outputs": [
    {
     "data": {
      "text/plain": [
       "0"
      ]
     },
     "execution_count": 18,
     "metadata": {},
     "output_type": "execute_result"
    }
   ],
   "source": [
    "data.isna().sum().sum()"
   ]
  },
  {
   "cell_type": "code",
   "execution_count": 19,
   "id": "7895bb3b",
   "metadata": {},
   "outputs": [],
   "source": [
    "x=data[['bill_length_mm','bill_depth_mm','flipper_length_mm','body_mass_g']]\n",
    "y=data['sex']"
   ]
  },
  {
   "cell_type": "code",
   "execution_count": 20,
   "id": "ee9354fa",
   "metadata": {},
   "outputs": [
    {
     "data": {
      "text/html": [
       "<div>\n",
       "<style scoped>\n",
       "    .dataframe tbody tr th:only-of-type {\n",
       "        vertical-align: middle;\n",
       "    }\n",
       "\n",
       "    .dataframe tbody tr th {\n",
       "        vertical-align: top;\n",
       "    }\n",
       "\n",
       "    .dataframe thead th {\n",
       "        text-align: right;\n",
       "    }\n",
       "</style>\n",
       "<table border=\"1\" class=\"dataframe\">\n",
       "  <thead>\n",
       "    <tr style=\"text-align: right;\">\n",
       "      <th></th>\n",
       "      <th>bill_length_mm</th>\n",
       "      <th>bill_depth_mm</th>\n",
       "      <th>flipper_length_mm</th>\n",
       "      <th>body_mass_g</th>\n",
       "    </tr>\n",
       "  </thead>\n",
       "  <tbody>\n",
       "    <tr>\n",
       "      <th>0</th>\n",
       "      <td>39.10</td>\n",
       "      <td>18.700000</td>\n",
       "      <td>181.000000</td>\n",
       "      <td>3750.0</td>\n",
       "    </tr>\n",
       "    <tr>\n",
       "      <th>1</th>\n",
       "      <td>39.50</td>\n",
       "      <td>17.400000</td>\n",
       "      <td>186.000000</td>\n",
       "      <td>3800.0</td>\n",
       "    </tr>\n",
       "    <tr>\n",
       "      <th>2</th>\n",
       "      <td>40.30</td>\n",
       "      <td>18.000000</td>\n",
       "      <td>195.000000</td>\n",
       "      <td>3250.0</td>\n",
       "    </tr>\n",
       "    <tr>\n",
       "      <th>3</th>\n",
       "      <td>44.45</td>\n",
       "      <td>1.974793</td>\n",
       "      <td>200.915205</td>\n",
       "      <td>6300.0</td>\n",
       "    </tr>\n",
       "    <tr>\n",
       "      <th>4</th>\n",
       "      <td>36.70</td>\n",
       "      <td>19.300000</td>\n",
       "      <td>193.000000</td>\n",
       "      <td>3450.0</td>\n",
       "    </tr>\n",
       "  </tbody>\n",
       "</table>\n",
       "</div>"
      ],
      "text/plain": [
       "   bill_length_mm  bill_depth_mm  flipper_length_mm  body_mass_g\n",
       "0           39.10      18.700000         181.000000       3750.0\n",
       "1           39.50      17.400000         186.000000       3800.0\n",
       "2           40.30      18.000000         195.000000       3250.0\n",
       "3           44.45       1.974793         200.915205       6300.0\n",
       "4           36.70      19.300000         193.000000       3450.0"
      ]
     },
     "execution_count": 20,
     "metadata": {},
     "output_type": "execute_result"
    }
   ],
   "source": [
    "x.head()"
   ]
  },
  {
   "cell_type": "code",
   "execution_count": 21,
   "id": "a9630542",
   "metadata": {},
   "outputs": [
    {
     "data": {
      "text/plain": [
       "0        Male\n",
       "1      Female\n",
       "2      Female\n",
       "3      Female\n",
       "4      Female\n",
       "        ...  \n",
       "339    Female\n",
       "340    Female\n",
       "341      Male\n",
       "342    Female\n",
       "343      Male\n",
       "Name: sex, Length: 344, dtype: object"
      ]
     },
     "execution_count": 21,
     "metadata": {},
     "output_type": "execute_result"
    }
   ],
   "source": [
    "y"
   ]
  },
  {
   "cell_type": "code",
   "execution_count": 22,
   "id": "abb5fdbc",
   "metadata": {},
   "outputs": [
    {
     "data": {
      "text/plain": [
       "array([1, 0, 0, 0, 0, 1, 0, 1, 1, 1, 1, 1, 0, 1, 1, 0, 0, 1, 0, 1, 0, 1,\n",
       "       0, 1, 1, 0, 1, 0, 0, 1, 0, 1, 0, 1, 0, 1, 1, 0, 0, 1, 0, 1, 0, 1,\n",
       "       0, 1, 1, 1, 0, 1, 0, 1, 0, 1, 0, 1, 0, 1, 0, 1, 0, 1, 0, 1, 0, 1,\n",
       "       0, 1, 0, 1, 0, 1, 0, 1, 0, 1, 0, 1, 0, 1, 0, 1, 0, 1, 0, 1, 1, 0,\n",
       "       1, 0, 0, 1, 0, 1, 0, 1, 0, 1, 0, 1, 0, 1, 0, 1, 0, 1, 0, 1, 0, 1,\n",
       "       0, 1, 0, 1, 0, 1, 0, 1, 0, 1, 0, 1, 0, 1, 0, 1, 0, 1, 0, 1, 0, 1,\n",
       "       0, 1, 0, 1, 0, 1, 0, 1, 0, 1, 0, 1, 0, 1, 1, 0, 0, 1, 0, 1, 0, 1,\n",
       "       1, 0, 1, 0, 0, 1, 0, 1, 0, 1, 0, 1, 0, 1, 1, 0, 0, 1, 0, 1, 0, 1,\n",
       "       0, 1, 0, 1, 0, 1, 0, 1, 0, 1, 1, 0, 0, 1, 0, 1, 1, 0, 1, 0, 0, 1,\n",
       "       0, 1, 1, 0, 0, 1, 0, 1, 0, 1, 0, 1, 1, 0, 1, 0, 0, 1, 0, 1, 1, 0,\n",
       "       0, 1, 0, 1, 1, 0, 0, 1, 0, 1, 0, 1, 0, 1, 0, 1, 0, 1, 0, 1, 1, 0,\n",
       "       0, 1, 0, 1, 1, 1, 0, 1, 1, 0, 0, 1, 0, 1, 0, 1, 0, 1, 0, 1, 0, 1,\n",
       "       1, 0, 0, 1, 0, 1, 0, 1, 0, 1, 0, 1, 0, 1, 0, 1, 0, 1, 0, 1, 0, 1,\n",
       "       1, 1, 0, 1, 0, 1, 1, 0, 0, 1, 0, 1, 0, 1, 0, 1, 0, 1, 0, 1, 0, 1,\n",
       "       0, 1, 0, 1, 0, 1, 0, 1, 1, 0, 0, 1, 0, 1, 0, 1, 1, 1, 0, 1, 0, 1,\n",
       "       0, 1, 0, 1, 0, 1, 1, 1, 0, 0, 0, 1, 0, 1])"
      ]
     },
     "execution_count": 22,
     "metadata": {},
     "output_type": "execute_result"
    }
   ],
   "source": [
    "from sklearn.preprocessing import LabelEncoder\n",
    "le=LabelEncoder()\n",
    "y=le.fit_transform(data['sex'])\n",
    "y"
   ]
  },
  {
   "cell_type": "code",
   "execution_count": 23,
   "id": "ef024d50",
   "metadata": {},
   "outputs": [],
   "source": [
    "from sklearn.model_selection import train_test_split\n",
    "x_train,x_test,y_train,y_test=train_test_split(x,y,test_size=0.2,random_state=12)"
   ]
  },
  {
   "cell_type": "code",
   "execution_count": 51,
   "id": "d15e422b",
   "metadata": {},
   "outputs": [
    {
     "data": {
      "text/plain": [
       "DecisionTreeClassifier(random_state=12)"
      ]
     },
     "execution_count": 51,
     "metadata": {},
     "output_type": "execute_result"
    }
   ],
   "source": [
    "from sklearn.tree import DecisionTreeClassifier\n",
    "from sklearn.ensemble import AdaBoostClassifier\n",
    "ml=DecisionTreeClassifier(criterion='gini',random_state=12)\n",
    "clf=ml.fit(x_train,y_train)\n",
    "clf"
   ]
  },
  {
   "cell_type": "code",
   "execution_count": 52,
   "id": "e4fbbd9a",
   "metadata": {},
   "outputs": [
    {
     "data": {
      "text/plain": [
       "0.8695652173913043"
      ]
     },
     "execution_count": 52,
     "metadata": {},
     "output_type": "execute_result"
    }
   ],
   "source": [
    "clf.score(x_test,y_test)"
   ]
  },
  {
   "cell_type": "code",
   "execution_count": 53,
   "id": "e47e71bf",
   "metadata": {},
   "outputs": [
    {
     "data": {
      "text/plain": [
       "array([1, 1, 1, 1, 0, 1, 0, 1, 0, 0, 1, 1, 0, 0, 1, 1, 0, 1, 1, 1, 0, 1,\n",
       "       1, 0, 1, 0, 0, 0, 0, 1, 0, 1, 0, 0, 1, 0, 0, 1, 1, 1, 1, 1, 1, 1,\n",
       "       0, 0, 1, 0, 0, 1, 0, 1, 1, 1, 0, 1, 1, 1, 1, 0, 1, 0, 1, 0, 0, 1,\n",
       "       1, 0, 0])"
      ]
     },
     "execution_count": 53,
     "metadata": {},
     "output_type": "execute_result"
    }
   ],
   "source": [
    "y_pred=clf.predict(x_test)\n",
    "y_pred"
   ]
  },
  {
   "cell_type": "code",
   "execution_count": null,
   "id": "93fe5868",
   "metadata": {},
   "outputs": [],
   "source": []
  },
  {
   "cell_type": "code",
   "execution_count": 54,
   "id": "f6b7ae31",
   "metadata": {},
   "outputs": [
    {
     "data": {
      "text/plain": [
       "AdaBoostClassifier(base_estimator=DecisionTreeClassifier(random_state=12),\n",
       "                   learning_rate=1, n_estimators=100, random_state=0)"
      ]
     },
     "execution_count": 54,
     "metadata": {},
     "output_type": "execute_result"
    }
   ],
   "source": [
    "dct=DecisionTreeClassifier(criterion='gini',random_state=12)\n",
    "adaboost=AdaBoostClassifier(n_estimators=100,base_estimator=dct,learning_rate=1,random_state=0)\n",
    "clf=adaboost.fit(x_train,y_train)\n",
    "clf"
   ]
  },
  {
   "cell_type": "code",
   "execution_count": 55,
   "id": "60b1cf05",
   "metadata": {},
   "outputs": [
    {
     "data": {
      "text/plain": [
       "0.8840579710144928"
      ]
     },
     "execution_count": 55,
     "metadata": {},
     "output_type": "execute_result"
    }
   ],
   "source": [
    "clf.score(x_test,y_test)"
   ]
  },
  {
   "cell_type": "code",
   "execution_count": 56,
   "id": "80f298b7",
   "metadata": {},
   "outputs": [
    {
     "data": {
      "text/plain": [
       "array([1, 1, 1, 1, 0, 1, 0, 1, 0, 0, 1, 1, 0, 0, 1, 1, 0, 1, 1, 1, 0, 1,\n",
       "       1, 0, 1, 0, 0, 0, 0, 1, 0, 1, 0, 0, 1, 0, 0, 1, 1, 0, 1, 1, 1, 1,\n",
       "       0, 0, 1, 0, 0, 1, 1, 1, 1, 1, 1, 1, 1, 1, 1, 0, 1, 0, 1, 0, 0, 1,\n",
       "       1, 0, 0])"
      ]
     },
     "execution_count": 56,
     "metadata": {},
     "output_type": "execute_result"
    }
   ],
   "source": [
    "y_pred=clf.predict(x_test)\n",
    "y_pred"
   ]
  },
  {
   "cell_type": "code",
   "execution_count": 57,
   "id": "d449fac3",
   "metadata": {},
   "outputs": [
    {
     "name": "stdout",
     "output_type": "stream",
     "text": [
      "              precision    recall  f1-score   support\n",
      "\n",
      "           0       0.84      0.90      0.87        29\n",
      "           1       0.92      0.88      0.90        40\n",
      "\n",
      "    accuracy                           0.88        69\n",
      "   macro avg       0.88      0.89      0.88        69\n",
      "weighted avg       0.89      0.88      0.88        69\n",
      "\n"
     ]
    }
   ],
   "source": [
    "from sklearn import metrics\n",
    "print(metrics.classification_report(y_pred,y_test))"
   ]
  },
  {
   "cell_type": "code",
   "execution_count": 58,
   "id": "f2b0b392",
   "metadata": {},
   "outputs": [
    {
     "data": {
      "text/plain": [
       "array([[26,  3],\n",
       "       [ 5, 35]], dtype=int64)"
      ]
     },
     "execution_count": 58,
     "metadata": {},
     "output_type": "execute_result"
    }
   ],
   "source": [
    "metrics.confusion_matrix(y_pred,y_test)"
   ]
  },
  {
   "cell_type": "code",
   "execution_count": 59,
   "id": "a7cc043a",
   "metadata": {},
   "outputs": [
    {
     "data": {
      "text/plain": [
       "<AxesSubplot:>"
      ]
     },
     "execution_count": 59,
     "metadata": {},
     "output_type": "execute_result"
    },
    {
     "data": {
      "image/png": "[encoded data removed]",
      "text/plain": [
       "<Figure size 432x288 with 2 Axes>"
      ]
     },
     "metadata": {
      "needs_background": "light"
     },
     "output_type": "display_data"
    }
   ],
   "source": [
    "cm=metrics.confusion_matrix(y_pred,y_test)\n",
    "sn.heatmap(cm,annot=True)"
   ]
  },
  {
   "cell_type": "code",
   "execution_count": 60,
   "id": "bc9b2c77",
   "metadata": {},
   "outputs": [
    {
     "data": {
      "text/plain": [
       "0.8840579710144928"
      ]
     },
     "execution_count": 60,
     "metadata": {},
     "output_type": "execute_result"
    }
   ],
   "source": [
    "metrics.accuracy_score(y_pred,y_test)"
   ]
  },
  {
   "cell_type": "code",
   "execution_count": 61,
   "id": "0675a9c3",
   "metadata": {},
   "outputs": [
    {
     "data": {
      "text/plain": [
       "0.9210526315789473"
      ]
     },
     "execution_count": 61,
     "metadata": {},
     "output_type": "execute_result"
    }
   ],
   "source": [
    "metrics.precision_score(y_pred,y_test)"
   ]
  },
  {
   "cell_type": "code",
   "execution_count": 62,
   "id": "4dfe242c",
   "metadata": {},
   "outputs": [
    {
     "data": {
      "text/plain": [
       "0.8974358974358975"
      ]
     },
     "execution_count": 62,
     "metadata": {},
     "output_type": "execute_result"
    }
   ],
   "source": [
    "metrics.f1_score(y_pred,y_test)"
   ]
  },
  {
   "cell_type": "code",
   "execution_count": 63,
   "id": "cb7a1ca9",
   "metadata": {},
   "outputs": [
    {
     "data": {
      "text/plain": [
       "0.875"
      ]
     },
     "execution_count": 63,
     "metadata": {},
     "output_type": "execute_result"
    }
   ],
   "source": [
    "metrics.recall_score(y_pred,y_test)"
   ]
  },
  {
   "cell_type": "code",
   "execution_count": 64,
   "id": "384d9862",
   "metadata": {},
   "outputs": [
    {
     "data": {
      "text/plain": [
       "0.5241379310344827"
      ]
     },
     "execution_count": 64,
     "metadata": {},
     "output_type": "execute_result"
    }
   ],
   "source": [
    "metrics.r2_score(y_pred,y_test)"
   ]
  },
  {
   "cell_type": "code",
   "execution_count": 65,
   "id": "1f602402",
   "metadata": {},
   "outputs": [
    {
     "data": {
      "text/plain": [
       "0.11594202898550725"
      ]
     },
     "execution_count": 65,
     "metadata": {},
     "output_type": "execute_result"
    }
   ],
   "source": [
    "metrics.mean_squared_error(y_pred,y_test)"
   ]
  },
  {
   "cell_type": "code",
   "execution_count": 66,
   "id": "d3b56a0a",
   "metadata": {},
   "outputs": [
    {
     "data": {
      "text/plain": [
       "0.11594202898550725"
      ]
     },
     "execution_count": 66,
     "metadata": {},
     "output_type": "execute_result"
    }
   ],
   "source": [
    "metrics.mean_absolute_error(y_pred,y_test)"
   ]
  },
  {
   "cell_type": "code",
   "execution_count": 67,
   "id": "ecc6b39c",
   "metadata": {},
   "outputs": [
    {
     "data": {
      "text/plain": [
       "0.34050261230349943"
      ]
     },
     "execution_count": 67,
     "metadata": {},
     "output_type": "execute_result"
    }
   ],
   "source": [
    "#root mean square error\n",
    "import math\n",
    "import numpy as np\n",
    "MSE=metrics.mean_squared_error(y_test,y_pred)\n",
    "RMSE=math.sqrt(MSE)\n",
    "RMSE"
   ]
  },
  {
   "cell_type": "code",
   "execution_count": 68,
   "id": "903bc2cd",
   "metadata": {},
   "outputs": [
    {
     "name": "stdout",
     "output_type": "stream",
     "text": [
      "Adjusted_R2: 0.5097818989160244\n"
     ]
    }
   ],
   "source": [
    "#Adjusted R2 score\n",
    "import numpy as np\n",
    "r2_score=metrics.r2_score(y_test,y_pred)\n",
    "n=y_test.shape[0]\n",
    "p=3\n",
    "x=(1-r2_score)\n",
    "y=(n-1)/(n-p-1)\n",
    "adj_r2=(1-(x*y))\n",
    "print('Adjusted_R2:',adj_r2)"
   ]
  },
  {
   "cell_type": "code",
   "execution_count": 69,
   "id": "cb8bacfa",
   "metadata": {},
   "outputs": [
    {
     "data": {
      "text/plain": [
       "array([0.81818182, 0.8       , 0.8       , 0.83636364, 0.8       ])"
      ]
     },
     "execution_count": 69,
     "metadata": {},
     "output_type": "execute_result"
    }
   ],
   "source": [
    "from sklearn.model_selection import cross_val_score\n",
    "cvs1=cross_val_score(clf,x_train,y_train,cv=5)\n",
    "cvs1"
   ]
  },
  {
   "cell_type": "code",
   "execution_count": 70,
   "id": "ac6943a5",
   "metadata": {},
   "outputs": [
    {
     "data": {
      "text/plain": [
       "0.8109090909090909"
      ]
     },
     "execution_count": 70,
     "metadata": {},
     "output_type": "execute_result"
    }
   ],
   "source": [
    "cvs1.mean()"
   ]
  },
  {
   "cell_type": "code",
   "execution_count": 71,
   "id": "6e4de6e1",
   "metadata": {},
   "outputs": [
    {
     "data": {
      "text/plain": [
       "0.02909090909090902"
      ]
     },
     "execution_count": 71,
     "metadata": {},
     "output_type": "execute_result"
    }
   ],
   "source": [
    "cvs1.std()*2"
   ]
  },
  {
   "cell_type": "code",
   "execution_count": 74,
   "id": "ce5d2440",
   "metadata": {},
   "outputs": [
    {
     "data": {
      "text/plain": [
       "GridSearchCV(cv=5,\n",
       "             estimator=AdaBoostClassifier(base_estimator=DecisionTreeClassifier(random_state=12),\n",
       "                                          learning_rate=1, n_estimators=100,\n",
       "                                          random_state=0),\n",
       "             param_grid={'base_estimator__max_depth': [1, 2, 3],\n",
       "                         'learning_rate': [0.1, 0.5, 1.0],\n",
       "                         'n_estimators': [50, 100, 200]},\n",
       "             scoring='accuracy')"
      ]
     },
     "execution_count": 74,
     "metadata": {},
     "output_type": "execute_result"
    }
   ],
   "source": [
    "from sklearn.model_selection import GridSearchCV\n",
    "params={'n_estimators': [50, 100, 200],'learning_rate': [0.1, 0.5, 1.0],'base_estimator__max_depth': [1, 2, 3]}\n",
    "gsc=GridSearchCV(clf,params,cv=5,scoring='accuracy')\n",
    "gsc.fit(x_train,y_train)"
   ]
  },
  {
   "cell_type": "code",
   "execution_count": 75,
   "id": "ea5423be",
   "metadata": {},
   "outputs": [
    {
     "data": {
      "text/plain": [
       "AdaBoostClassifier(base_estimator=DecisionTreeClassifier(max_depth=2,\n",
       "                                                         random_state=12),\n",
       "                   n_estimators=200, random_state=0)"
      ]
     },
     "execution_count": 75,
     "metadata": {},
     "output_type": "execute_result"
    }
   ],
   "source": [
    "gsc.best_estimator_"
   ]
  },
  {
   "cell_type": "code",
   "execution_count": 76,
   "id": "ed4be136",
   "metadata": {},
   "outputs": [
    {
     "data": {
      "text/plain": [
       "17"
      ]
     },
     "execution_count": 76,
     "metadata": {},
     "output_type": "execute_result"
    }
   ],
   "source": [
    "gsc.best_index_"
   ]
  },
  {
   "cell_type": "code",
   "execution_count": 77,
   "id": "f6692346",
   "metadata": {},
   "outputs": [
    {
     "data": {
      "text/plain": [
       "{'base_estimator__max_depth': 2, 'learning_rate': 1.0, 'n_estimators': 200}"
      ]
     },
     "execution_count": 77,
     "metadata": {},
     "output_type": "execute_result"
    }
   ],
   "source": [
    "gsc.best_params_"
   ]
  },
  {
   "cell_type": "code",
   "execution_count": 78,
   "id": "4d35993f",
   "metadata": {},
   "outputs": [
    {
     "data": {
      "text/plain": [
       "0.8799999999999999"
      ]
     },
     "execution_count": 78,
     "metadata": {},
     "output_type": "execute_result"
    }
   ],
   "source": [
    "gsc.best_score_"
   ]
  },
  {
   "cell_type": "code",
   "execution_count": 79,
   "id": "fdeb85a4",
   "metadata": {},
   "outputs": [
    {
     "data": {
      "text/plain": [
       "5"
      ]
     },
     "execution_count": 79,
     "metadata": {},
     "output_type": "execute_result"
    }
   ],
   "source": [
    "gsc.cv"
   ]
  },
  {
   "cell_type": "code",
   "execution_count": 80,
   "id": "168720f4",
   "metadata": {},
   "outputs": [
    {
     "data": {
      "text/plain": [
       "{'mean_fit_time': array([0.04293132, 0.0692275 , 0.1412045 , 0.03420739, 0.06850729,\n",
       "        0.13628221, 0.03528924, 0.06830001, 0.13657746, 0.03760772,\n",
       "        0.07321386, 0.14529967, 0.03688745, 0.07359753, 0.1454895 ,\n",
       "        0.0368948 , 0.07318478, 0.14689217, 0.0393084 , 0.07858481,\n",
       "        0.15527949, 0.03948388, 0.07795072, 0.15636826, 0.03982348,\n",
       "        0.07867289, 0.1565556 ]),\n",
       " 'std_fit_time': array([0.01364578, 0.00171426, 0.00637163, 0.00050852, 0.00070934,\n",
       "        0.00136897, 0.0006919 , 0.00072512, 0.0019143 , 0.00058559,\n",
       "        0.00040108, 0.00076806, 0.00049019, 0.00163143, 0.0012499 ,\n",
       "        0.00014226, 0.00045119, 0.00160808, 0.00049536, 0.0004763 ,\n",
       "        0.00058623, 0.00033008, 0.00067997, 0.00113664, 0.0004957 ,\n",
       "        0.0010861 , 0.00213039]),\n",
       " 'mean_score_time': array([0.00438414, 0.00710068, 0.01395068, 0.00399909, 0.0112463 ,\n",
       "        0.0139184 , 0.00409513, 0.00754571, 0.01361451, 0.0037991 ,\n",
       "        0.00739918, 0.01355677, 0.00410204, 0.00759869, 0.01355247,\n",
       "        0.00400238, 0.00720844, 0.01372681, 0.00419621, 0.00746112,\n",
       "        0.01404757, 0.00400395, 0.00760694, 0.01403337, 0.00401602,\n",
       "        0.00783377, 0.01410208]),\n",
       " 'std_score_time': array([4.72009602e-04, 4.88260285e-04, 5.59895535e-04, 2.86102295e-07,\n",
       "        7.74946800e-03, 3.57569531e-04, 1.48062921e-04, 4.52614750e-04,\n",
       "        5.00563622e-04, 4.00018820e-04, 4.89998745e-04, 4.78313958e-04,\n",
       "        2.04424344e-04, 4.92649622e-04, 4.73961393e-04, 4.54379527e-05,\n",
       "        3.88359104e-04, 3.90401046e-04, 3.82475998e-04, 4.33144355e-04,\n",
       "        9.53959661e-05, 1.00649922e-05, 4.80263876e-04, 7.01515463e-05,\n",
       "        3.01497616e-05, 1.18881617e-03, 2.03806505e-04]),\n",
       " 'param_base_estimator__max_depth': masked_array(data=[1, 1, 1, 1, 1, 1, 1, 1, 1, 2, 2, 2, 2, 2, 2, 2, 2, 2,\n",
       "                    3, 3, 3, 3, 3, 3, 3, 3, 3],\n",
       "              mask=[False, False, False, False, False, False, False, False,\n",
       "                    False, False, False, False, False, False, False, False,\n",
       "                    False, False, False, False, False, False, False, False,\n",
       "                    False, False, False],\n",
       "        fill_value='?',\n",
       "             dtype=object),\n",
       " 'param_learning_rate': masked_array(data=[0.1, 0.1, 0.1, 0.5, 0.5, 0.5, 1.0, 1.0, 1.0, 0.1, 0.1,\n",
       "                    0.1, 0.5, 0.5, 0.5, 1.0, 1.0, 1.0, 0.1, 0.1, 0.1, 0.5,\n",
       "                    0.5, 0.5, 1.0, 1.0, 1.0],\n",
       "              mask=[False, False, False, False, False, False, False, False,\n",
       "                    False, False, False, False, False, False, False, False,\n",
       "                    False, False, False, False, False, False, False, False,\n",
       "                    False, False, False],\n",
       "        fill_value='?',\n",
       "             dtype=object),\n",
       " 'param_n_estimators': masked_array(data=[50, 100, 200, 50, 100, 200, 50, 100, 200, 50, 100, 200,\n",
       "                    50, 100, 200, 50, 100, 200, 50, 100, 200, 50, 100, 200,\n",
       "                    50, 100, 200],\n",
       "              mask=[False, False, False, False, False, False, False, False,\n",
       "                    False, False, False, False, False, False, False, False,\n",
       "                    False, False, False, False, False, False, False, False,\n",
       "                    False, False, False],\n",
       "        fill_value='?',\n",
       "             dtype=object),\n",
       " 'params': [{'base_estimator__max_depth': 1,\n",
       "   'learning_rate': 0.1,\n",
       "   'n_estimators': 50},\n",
       "  {'base_estimator__max_depth': 1, 'learning_rate': 0.1, 'n_estimators': 100},\n",
       "  {'base_estimator__max_depth': 1, 'learning_rate': 0.1, 'n_estimators': 200},\n",
       "  {'base_estimator__max_depth': 1, 'learning_rate': 0.5, 'n_estimators': 50},\n",
       "  {'base_estimator__max_depth': 1, 'learning_rate': 0.5, 'n_estimators': 100},\n",
       "  {'base_estimator__max_depth': 1, 'learning_rate': 0.5, 'n_estimators': 200},\n",
       "  {'base_estimator__max_depth': 1, 'learning_rate': 1.0, 'n_estimators': 50},\n",
       "  {'base_estimator__max_depth': 1, 'learning_rate': 1.0, 'n_estimators': 100},\n",
       "  {'base_estimator__max_depth': 1, 'learning_rate': 1.0, 'n_estimators': 200},\n",
       "  {'base_estimator__max_depth': 2, 'learning_rate': 0.1, 'n_estimators': 50},\n",
       "  {'base_estimator__max_depth': 2, 'learning_rate': 0.1, 'n_estimators': 100},\n",
       "  {'base_estimator__max_depth': 2, 'learning_rate': 0.1, 'n_estimators': 200},\n",
       "  {'base_estimator__max_depth': 2, 'learning_rate': 0.5, 'n_estimators': 50},\n",
       "  {'base_estimator__max_depth': 2, 'learning_rate': 0.5, 'n_estimators': 100},\n",
       "  {'base_estimator__max_depth': 2, 'learning_rate': 0.5, 'n_estimators': 200},\n",
       "  {'base_estimator__max_depth': 2, 'learning_rate': 1.0, 'n_estimators': 50},\n",
       "  {'base_estimator__max_depth': 2, 'learning_rate': 1.0, 'n_estimators': 100},\n",
       "  {'base_estimator__max_depth': 2, 'learning_rate': 1.0, 'n_estimators': 200},\n",
       "  {'base_estimator__max_depth': 3, 'learning_rate': 0.1, 'n_estimators': 50},\n",
       "  {'base_estimator__max_depth': 3, 'learning_rate': 0.1, 'n_estimators': 100},\n",
       "  {'base_estimator__max_depth': 3, 'learning_rate': 0.1, 'n_estimators': 200},\n",
       "  {'base_estimator__max_depth': 3, 'learning_rate': 0.5, 'n_estimators': 50},\n",
       "  {'base_estimator__max_depth': 3, 'learning_rate': 0.5, 'n_estimators': 100},\n",
       "  {'base_estimator__max_depth': 3, 'learning_rate': 0.5, 'n_estimators': 200},\n",
       "  {'base_estimator__max_depth': 3, 'learning_rate': 1.0, 'n_estimators': 50},\n",
       "  {'base_estimator__max_depth': 3, 'learning_rate': 1.0, 'n_estimators': 100},\n",
       "  {'base_estimator__max_depth': 3, 'learning_rate': 1.0, 'n_estimators': 200}],\n",
       " 'split0_test_score': array([0.85454545, 0.81818182, 0.81818182, 0.85454545, 0.8       ,\n",
       "        0.81818182, 0.74545455, 0.76363636, 0.78181818, 0.81818182,\n",
       "        0.8       , 0.81818182, 0.76363636, 0.8       , 0.8       ,\n",
       "        0.85454545, 0.85454545, 0.87272727, 0.8       , 0.83636364,\n",
       "        0.83636364, 0.81818182, 0.85454545, 0.85454545, 0.81818182,\n",
       "        0.81818182, 0.85454545]),\n",
       " 'split1_test_score': array([0.89090909, 0.85454545, 0.87272727, 0.83636364, 0.83636364,\n",
       "        0.83636364, 0.83636364, 0.83636364, 0.81818182, 0.92727273,\n",
       "        0.85454545, 0.8       , 0.83636364, 0.83636364, 0.8       ,\n",
       "        0.83636364, 0.83636364, 0.87272727, 0.83636364, 0.83636364,\n",
       "        0.81818182, 0.8       , 0.81818182, 0.81818182, 0.85454545,\n",
       "        0.85454545, 0.89090909]),\n",
       " 'split2_test_score': array([0.81818182, 0.83636364, 0.87272727, 0.85454545, 0.87272727,\n",
       "        0.83636364, 0.85454545, 0.87272727, 0.87272727, 0.81818182,\n",
       "        0.81818182, 0.83636364, 0.8       , 0.8       , 0.83636364,\n",
       "        0.87272727, 0.89090909, 0.89090909, 0.89090909, 0.81818182,\n",
       "        0.83636364, 0.87272727, 0.87272727, 0.83636364, 0.83636364,\n",
       "        0.85454545, 0.85454545]),\n",
       " 'split3_test_score': array([0.87272727, 0.90909091, 0.89090909, 0.87272727, 0.83636364,\n",
       "        0.85454545, 0.85454545, 0.83636364, 0.83636364, 0.85454545,\n",
       "        0.87272727, 0.87272727, 0.90909091, 0.90909091, 0.89090909,\n",
       "        0.87272727, 0.83636364, 0.87272727, 0.85454545, 0.85454545,\n",
       "        0.83636364, 0.89090909, 0.90909091, 0.89090909, 0.89090909,\n",
       "        0.89090909, 0.92727273]),\n",
       " 'split4_test_score': array([0.83636364, 0.85454545, 0.83636364, 0.83636364, 0.89090909,\n",
       "        0.87272727, 0.87272727, 0.89090909, 0.87272727, 0.87272727,\n",
       "        0.85454545, 0.85454545, 0.89090909, 0.90909091, 0.89090909,\n",
       "        0.90909091, 0.89090909, 0.89090909, 0.87272727, 0.87272727,\n",
       "        0.89090909, 0.85454545, 0.85454545, 0.90909091, 0.85454545,\n",
       "        0.85454545, 0.85454545]),\n",
       " 'mean_test_score': array([0.85454545, 0.85454545, 0.85818182, 0.85090909, 0.84727273,\n",
       "        0.84363636, 0.83272727, 0.84      , 0.83636364, 0.85818182,\n",
       "        0.84      , 0.83636364, 0.84      , 0.85090909, 0.84363636,\n",
       "        0.86909091, 0.86181818, 0.88      , 0.85090909, 0.84363636,\n",
       "        0.84363636, 0.84727273, 0.86181818, 0.86181818, 0.85090909,\n",
       "        0.85454545, 0.87636364]),\n",
       " 'std_test_score': array([0.02571297, 0.030424  , 0.02672171, 0.01360603, 0.03170108,\n",
       "        0.01854189, 0.04512609, 0.04363636, 0.03449757, 0.04049283,\n",
       "        0.02672171, 0.02571297, 0.05442411, 0.04932604, 0.04081808,\n",
       "        0.02412091, 0.02466302, 0.00890724, 0.03128118, 0.01854189,\n",
       "        0.02466302, 0.03372225, 0.02954196, 0.03372225, 0.02412091,\n",
       "        0.02299838, 0.02909091]),\n",
       " 'rank_test_score': array([10,  9,  8, 15, 16, 18, 27, 22, 25,  7, 24, 25, 22, 12, 18,  3,  4,\n",
       "         1, 12, 18, 18, 16,  6,  4, 12, 10,  2])}"
      ]
     },
     "execution_count": 80,
     "metadata": {},
     "output_type": "execute_result"
    }
   ],
   "source": [
    "gsc.cv_results_"
   ]
  },
  {
   "cell_type": "code",
   "execution_count": 83,
   "id": "037fa90a",
   "metadata": {},
   "outputs": [
    {
     "data": {
      "text/html": [
       "<div>\n",
       "<style scoped>\n",
       "    .dataframe tbody tr th:only-of-type {\n",
       "        vertical-align: middle;\n",
       "    }\n",
       "\n",
       "    .dataframe tbody tr th {\n",
       "        vertical-align: top;\n",
       "    }\n",
       "\n",
       "    .dataframe thead th {\n",
       "        text-align: right;\n",
       "    }\n",
       "</style>\n",
       "<table border=\"1\" class=\"dataframe\">\n",
       "  <thead>\n",
       "    <tr style=\"text-align: right;\">\n",
       "      <th></th>\n",
       "      <th>mean_fit_time</th>\n",
       "      <th>std_fit_time</th>\n",
       "      <th>mean_score_time</th>\n",
       "      <th>std_score_time</th>\n",
       "      <th>param_base_estimator__max_depth</th>\n",
       "      <th>param_learning_rate</th>\n",
       "      <th>param_n_estimators</th>\n",
       "      <th>params</th>\n",
       "      <th>split0_test_score</th>\n",
       "      <th>split1_test_score</th>\n",
       "      <th>split2_test_score</th>\n",
       "      <th>split3_test_score</th>\n",
       "      <th>split4_test_score</th>\n",
       "      <th>mean_test_score</th>\n",
       "      <th>std_test_score</th>\n",
       "      <th>rank_test_score</th>\n",
       "    </tr>\n",
       "  </thead>\n",
       "  <tbody>\n",
       "    <tr>\n",
       "      <th>0</th>\n",
       "      <td>0.042931</td>\n",
       "      <td>0.013646</td>\n",
       "      <td>0.004384</td>\n",
       "      <td>4.720096e-04</td>\n",
       "      <td>1</td>\n",
       "      <td>0.1</td>\n",
       "      <td>50</td>\n",
       "      <td>{'base_estimator__max_depth': 1, 'learning_rat...</td>\n",
       "      <td>0.854545</td>\n",
       "      <td>0.890909</td>\n",
       "      <td>0.818182</td>\n",
       "      <td>0.872727</td>\n",
       "      <td>0.836364</td>\n",
       "      <td>0.854545</td>\n",
       "      <td>0.025713</td>\n",
       "      <td>10</td>\n",
       "    </tr>\n",
       "    <tr>\n",
       "      <th>1</th>\n",
       "      <td>0.069228</td>\n",
       "      <td>0.001714</td>\n",
       "      <td>0.007101</td>\n",
       "      <td>4.882603e-04</td>\n",
       "      <td>1</td>\n",
       "      <td>0.1</td>\n",
       "      <td>100</td>\n",
       "      <td>{'base_estimator__max_depth': 1, 'learning_rat...</td>\n",
       "      <td>0.818182</td>\n",
       "      <td>0.854545</td>\n",
       "      <td>0.836364</td>\n",
       "      <td>0.909091</td>\n",
       "      <td>0.854545</td>\n",
       "      <td>0.854545</td>\n",
       "      <td>0.030424</td>\n",
       "      <td>9</td>\n",
       "    </tr>\n",
       "    <tr>\n",
       "      <th>2</th>\n",
       "      <td>0.141205</td>\n",
       "      <td>0.006372</td>\n",
       "      <td>0.013951</td>\n",
       "      <td>5.598955e-04</td>\n",
       "      <td>1</td>\n",
       "      <td>0.1</td>\n",
       "      <td>200</td>\n",
       "      <td>{'base_estimator__max_depth': 1, 'learning_rat...</td>\n",
       "      <td>0.818182</td>\n",
       "      <td>0.872727</td>\n",
       "      <td>0.872727</td>\n",
       "      <td>0.890909</td>\n",
       "      <td>0.836364</td>\n",
       "      <td>0.858182</td>\n",
       "      <td>0.026722</td>\n",
       "      <td>8</td>\n",
       "    </tr>\n",
       "    <tr>\n",
       "      <th>3</th>\n",
       "      <td>0.034207</td>\n",
       "      <td>0.000509</td>\n",
       "      <td>0.003999</td>\n",
       "      <td>2.861023e-07</td>\n",
       "      <td>1</td>\n",
       "      <td>0.5</td>\n",
       "      <td>50</td>\n",
       "      <td>{'base_estimator__max_depth': 1, 'learning_rat...</td>\n",
       "      <td>0.854545</td>\n",
       "      <td>0.836364</td>\n",
       "      <td>0.854545</td>\n",
       "      <td>0.872727</td>\n",
       "      <td>0.836364</td>\n",
       "      <td>0.850909</td>\n",
       "      <td>0.013606</td>\n",
       "      <td>15</td>\n",
       "    </tr>\n",
       "    <tr>\n",
       "      <th>4</th>\n",
       "      <td>0.068507</td>\n",
       "      <td>0.000709</td>\n",
       "      <td>0.011246</td>\n",
       "      <td>7.749468e-03</td>\n",
       "      <td>1</td>\n",
       "      <td>0.5</td>\n",
       "      <td>100</td>\n",
       "      <td>{'base_estimator__max_depth': 1, 'learning_rat...</td>\n",
       "      <td>0.800000</td>\n",
       "      <td>0.836364</td>\n",
       "      <td>0.872727</td>\n",
       "      <td>0.836364</td>\n",
       "      <td>0.890909</td>\n",
       "      <td>0.847273</td>\n",
       "      <td>0.031701</td>\n",
       "      <td>16</td>\n",
       "    </tr>\n",
       "    <tr>\n",
       "      <th>5</th>\n",
       "      <td>0.136282</td>\n",
       "      <td>0.001369</td>\n",
       "      <td>0.013918</td>\n",
       "      <td>3.575695e-04</td>\n",
       "      <td>1</td>\n",
       "      <td>0.5</td>\n",
       "      <td>200</td>\n",
       "      <td>{'base_estimator__max_depth': 1, 'learning_rat...</td>\n",
       "      <td>0.818182</td>\n",
       "      <td>0.836364</td>\n",
       "      <td>0.836364</td>\n",
       "      <td>0.854545</td>\n",
       "      <td>0.872727</td>\n",
       "      <td>0.843636</td>\n",
       "      <td>0.018542</td>\n",
       "      <td>18</td>\n",
       "    </tr>\n",
       "    <tr>\n",
       "      <th>6</th>\n",
       "      <td>0.035289</td>\n",
       "      <td>0.000692</td>\n",
       "      <td>0.004095</td>\n",
       "      <td>1.480629e-04</td>\n",
       "      <td>1</td>\n",
       "      <td>1.0</td>\n",
       "      <td>50</td>\n",
       "      <td>{'base_estimator__max_depth': 1, 'learning_rat...</td>\n",
       "      <td>0.745455</td>\n",
       "      <td>0.836364</td>\n",
       "      <td>0.854545</td>\n",
       "      <td>0.854545</td>\n",
       "      <td>0.872727</td>\n",
       "      <td>0.832727</td>\n",
       "      <td>0.045126</td>\n",
       "      <td>27</td>\n",
       "    </tr>\n",
       "    <tr>\n",
       "      <th>7</th>\n",
       "      <td>0.068300</td>\n",
       "      <td>0.000725</td>\n",
       "      <td>0.007546</td>\n",
       "      <td>4.526147e-04</td>\n",
       "      <td>1</td>\n",
       "      <td>1.0</td>\n",
       "      <td>100</td>\n",
       "      <td>{'base_estimator__max_depth': 1, 'learning_rat...</td>\n",
       "      <td>0.763636</td>\n",
       "      <td>0.836364</td>\n",
       "      <td>0.872727</td>\n",
       "      <td>0.836364</td>\n",
       "      <td>0.890909</td>\n",
       "      <td>0.840000</td>\n",
       "      <td>0.043636</td>\n",
       "      <td>22</td>\n",
       "    </tr>\n",
       "    <tr>\n",
       "      <th>8</th>\n",
       "      <td>0.136577</td>\n",
       "      <td>0.001914</td>\n",
       "      <td>0.013615</td>\n",
       "      <td>5.005636e-04</td>\n",
       "      <td>1</td>\n",
       "      <td>1.0</td>\n",
       "      <td>200</td>\n",
       "      <td>{'base_estimator__max_depth': 1, 'learning_rat...</td>\n",
       "      <td>0.781818</td>\n",
       "      <td>0.818182</td>\n",
       "      <td>0.872727</td>\n",
       "      <td>0.836364</td>\n",
       "      <td>0.872727</td>\n",
       "      <td>0.836364</td>\n",
       "      <td>0.034498</td>\n",
       "      <td>25</td>\n",
       "    </tr>\n",
       "    <tr>\n",
       "      <th>9</th>\n",
       "      <td>0.037608</td>\n",
       "      <td>0.000586</td>\n",
       "      <td>0.003799</td>\n",
       "      <td>4.000188e-04</td>\n",
       "      <td>2</td>\n",
       "      <td>0.1</td>\n",
       "      <td>50</td>\n",
       "      <td>{'base_estimator__max_depth': 2, 'learning_rat...</td>\n",
       "      <td>0.818182</td>\n",
       "      <td>0.927273</td>\n",
       "      <td>0.818182</td>\n",
       "      <td>0.854545</td>\n",
       "      <td>0.872727</td>\n",
       "      <td>0.858182</td>\n",
       "      <td>0.040493</td>\n",
       "      <td>7</td>\n",
       "    </tr>\n",
       "    <tr>\n",
       "      <th>10</th>\n",
       "      <td>0.073214</td>\n",
       "      <td>0.000401</td>\n",
       "      <td>0.007399</td>\n",
       "      <td>4.899987e-04</td>\n",
       "      <td>2</td>\n",
       "      <td>0.1</td>\n",
       "      <td>100</td>\n",
       "      <td>{'base_estimator__max_depth': 2, 'learning_rat...</td>\n",
       "      <td>0.800000</td>\n",
       "      <td>0.854545</td>\n",
       "      <td>0.818182</td>\n",
       "      <td>0.872727</td>\n",
       "      <td>0.854545</td>\n",
       "      <td>0.840000</td>\n",
       "      <td>0.026722</td>\n",
       "      <td>24</td>\n",
       "    </tr>\n",
       "    <tr>\n",
       "      <th>11</th>\n",
       "      <td>0.145300</td>\n",
       "      <td>0.000768</td>\n",
       "      <td>0.013557</td>\n",
       "      <td>4.783140e-04</td>\n",
       "      <td>2</td>\n",
       "      <td>0.1</td>\n",
       "      <td>200</td>\n",
       "      <td>{'base_estimator__max_depth': 2, 'learning_rat...</td>\n",
       "      <td>0.818182</td>\n",
       "      <td>0.800000</td>\n",
       "      <td>0.836364</td>\n",
       "      <td>0.872727</td>\n",
       "      <td>0.854545</td>\n",
       "      <td>0.836364</td>\n",
       "      <td>0.025713</td>\n",
       "      <td>25</td>\n",
       "    </tr>\n",
       "    <tr>\n",
       "      <th>12</th>\n",
       "      <td>0.036887</td>\n",
       "      <td>0.000490</td>\n",
       "      <td>0.004102</td>\n",
       "      <td>2.044243e-04</td>\n",
       "      <td>2</td>\n",
       "      <td>0.5</td>\n",
       "      <td>50</td>\n",
       "      <td>{'base_estimator__max_depth': 2, 'learning_rat...</td>\n",
       "      <td>0.763636</td>\n",
       "      <td>0.836364</td>\n",
       "      <td>0.800000</td>\n",
       "      <td>0.909091</td>\n",
       "      <td>0.890909</td>\n",
       "      <td>0.840000</td>\n",
       "      <td>0.054424</td>\n",
       "      <td>22</td>\n",
       "    </tr>\n",
       "    <tr>\n",
       "      <th>13</th>\n",
       "      <td>0.073598</td>\n",
       "      <td>0.001631</td>\n",
       "      <td>0.007599</td>\n",
       "      <td>4.926496e-04</td>\n",
       "      <td>2</td>\n",
       "      <td>0.5</td>\n",
       "      <td>100</td>\n",
       "      <td>{'base_estimator__max_depth': 2, 'learning_rat...</td>\n",
       "      <td>0.800000</td>\n",
       "      <td>0.836364</td>\n",
       "      <td>0.800000</td>\n",
       "      <td>0.909091</td>\n",
       "      <td>0.909091</td>\n",
       "      <td>0.850909</td>\n",
       "      <td>0.049326</td>\n",
       "      <td>12</td>\n",
       "    </tr>\n",
       "    <tr>\n",
       "      <th>14</th>\n",
       "      <td>0.145490</td>\n",
       "      <td>0.001250</td>\n",
       "      <td>0.013552</td>\n",
       "      <td>4.739614e-04</td>\n",
       "      <td>2</td>\n",
       "      <td>0.5</td>\n",
       "      <td>200</td>\n",
       "      <td>{'base_estimator__max_depth': 2, 'learning_rat...</td>\n",
       "      <td>0.800000</td>\n",
       "      <td>0.800000</td>\n",
       "      <td>0.836364</td>\n",
       "      <td>0.890909</td>\n",
       "      <td>0.890909</td>\n",
       "      <td>0.843636</td>\n",
       "      <td>0.040818</td>\n",
       "      <td>18</td>\n",
       "    </tr>\n",
       "    <tr>\n",
       "      <th>15</th>\n",
       "      <td>0.036895</td>\n",
       "      <td>0.000142</td>\n",
       "      <td>0.004002</td>\n",
       "      <td>4.543795e-05</td>\n",
       "      <td>2</td>\n",
       "      <td>1.0</td>\n",
       "      <td>50</td>\n",
       "      <td>{'base_estimator__max_depth': 2, 'learning_rat...</td>\n",
       "      <td>0.854545</td>\n",
       "      <td>0.836364</td>\n",
       "      <td>0.872727</td>\n",
       "      <td>0.872727</td>\n",
       "      <td>0.909091</td>\n",
       "      <td>0.869091</td>\n",
       "      <td>0.024121</td>\n",
       "      <td>3</td>\n",
       "    </tr>\n",
       "    <tr>\n",
       "      <th>16</th>\n",
       "      <td>0.073185</td>\n",
       "      <td>0.000451</td>\n",
       "      <td>0.007208</td>\n",
       "      <td>3.883591e-04</td>\n",
       "      <td>2</td>\n",
       "      <td>1.0</td>\n",
       "      <td>100</td>\n",
       "      <td>{'base_estimator__max_depth': 2, 'learning_rat...</td>\n",
       "      <td>0.854545</td>\n",
       "      <td>0.836364</td>\n",
       "      <td>0.890909</td>\n",
       "      <td>0.836364</td>\n",
       "      <td>0.890909</td>\n",
       "      <td>0.861818</td>\n",
       "      <td>0.024663</td>\n",
       "      <td>4</td>\n",
       "    </tr>\n",
       "    <tr>\n",
       "      <th>17</th>\n",
       "      <td>0.146892</td>\n",
       "      <td>0.001608</td>\n",
       "      <td>0.013727</td>\n",
       "      <td>3.904010e-04</td>\n",
       "      <td>2</td>\n",
       "      <td>1.0</td>\n",
       "      <td>200</td>\n",
       "      <td>{'base_estimator__max_depth': 2, 'learning_rat...</td>\n",
       "      <td>0.872727</td>\n",
       "      <td>0.872727</td>\n",
       "      <td>0.890909</td>\n",
       "      <td>0.872727</td>\n",
       "      <td>0.890909</td>\n",
       "      <td>0.880000</td>\n",
       "      <td>0.008907</td>\n",
       "      <td>1</td>\n",
       "    </tr>\n",
       "    <tr>\n",
       "      <th>18</th>\n",
       "      <td>0.039308</td>\n",
       "      <td>0.000495</td>\n",
       "      <td>0.004196</td>\n",
       "      <td>3.824760e-04</td>\n",
       "      <td>3</td>\n",
       "      <td>0.1</td>\n",
       "      <td>50</td>\n",
       "      <td>{'base_estimator__max_depth': 3, 'learning_rat...</td>\n",
       "      <td>0.800000</td>\n",
       "      <td>0.836364</td>\n",
       "      <td>0.890909</td>\n",
       "      <td>0.854545</td>\n",
       "      <td>0.872727</td>\n",
       "      <td>0.850909</td>\n",
       "      <td>0.031281</td>\n",
       "      <td>12</td>\n",
       "    </tr>\n",
       "    <tr>\n",
       "      <th>19</th>\n",
       "      <td>0.078585</td>\n",
       "      <td>0.000476</td>\n",
       "      <td>0.007461</td>\n",
       "      <td>4.331444e-04</td>\n",
       "      <td>3</td>\n",
       "      <td>0.1</td>\n",
       "      <td>100</td>\n",
       "      <td>{'base_estimator__max_depth': 3, 'learning_rat...</td>\n",
       "      <td>0.836364</td>\n",
       "      <td>0.836364</td>\n",
       "      <td>0.818182</td>\n",
       "      <td>0.854545</td>\n",
       "      <td>0.872727</td>\n",
       "      <td>0.843636</td>\n",
       "      <td>0.018542</td>\n",
       "      <td>18</td>\n",
       "    </tr>\n",
       "    <tr>\n",
       "      <th>20</th>\n",
       "      <td>0.155279</td>\n",
       "      <td>0.000586</td>\n",
       "      <td>0.014048</td>\n",
       "      <td>9.539597e-05</td>\n",
       "      <td>3</td>\n",
       "      <td>0.1</td>\n",
       "      <td>200</td>\n",
       "      <td>{'base_estimator__max_depth': 3, 'learning_rat...</td>\n",
       "      <td>0.836364</td>\n",
       "      <td>0.818182</td>\n",
       "      <td>0.836364</td>\n",
       "      <td>0.836364</td>\n",
       "      <td>0.890909</td>\n",
       "      <td>0.843636</td>\n",
       "      <td>0.024663</td>\n",
       "      <td>18</td>\n",
       "    </tr>\n",
       "    <tr>\n",
       "      <th>21</th>\n",
       "      <td>0.039484</td>\n",
       "      <td>0.000330</td>\n",
       "      <td>0.004004</td>\n",
       "      <td>1.006499e-05</td>\n",
       "      <td>3</td>\n",
       "      <td>0.5</td>\n",
       "      <td>50</td>\n",
       "      <td>{'base_estimator__max_depth': 3, 'learning_rat...</td>\n",
       "      <td>0.818182</td>\n",
       "      <td>0.800000</td>\n",
       "      <td>0.872727</td>\n",
       "      <td>0.890909</td>\n",
       "      <td>0.854545</td>\n",
       "      <td>0.847273</td>\n",
       "      <td>0.033722</td>\n",
       "      <td>16</td>\n",
       "    </tr>\n",
       "    <tr>\n",
       "      <th>22</th>\n",
       "      <td>0.077951</td>\n",
       "      <td>0.000680</td>\n",
       "      <td>0.007607</td>\n",
       "      <td>4.802639e-04</td>\n",
       "      <td>3</td>\n",
       "      <td>0.5</td>\n",
       "      <td>100</td>\n",
       "      <td>{'base_estimator__max_depth': 3, 'learning_rat...</td>\n",
       "      <td>0.854545</td>\n",
       "      <td>0.818182</td>\n",
       "      <td>0.872727</td>\n",
       "      <td>0.909091</td>\n",
       "      <td>0.854545</td>\n",
       "      <td>0.861818</td>\n",
       "      <td>0.029542</td>\n",
       "      <td>6</td>\n",
       "    </tr>\n",
       "    <tr>\n",
       "      <th>23</th>\n",
       "      <td>0.156368</td>\n",
       "      <td>0.001137</td>\n",
       "      <td>0.014033</td>\n",
       "      <td>7.015155e-05</td>\n",
       "      <td>3</td>\n",
       "      <td>0.5</td>\n",
       "      <td>200</td>\n",
       "      <td>{'base_estimator__max_depth': 3, 'learning_rat...</td>\n",
       "      <td>0.854545</td>\n",
       "      <td>0.818182</td>\n",
       "      <td>0.836364</td>\n",
       "      <td>0.890909</td>\n",
       "      <td>0.909091</td>\n",
       "      <td>0.861818</td>\n",
       "      <td>0.033722</td>\n",
       "      <td>4</td>\n",
       "    </tr>\n",
       "    <tr>\n",
       "      <th>24</th>\n",
       "      <td>0.039823</td>\n",
       "      <td>0.000496</td>\n",
       "      <td>0.004016</td>\n",
       "      <td>3.014976e-05</td>\n",
       "      <td>3</td>\n",
       "      <td>1.0</td>\n",
       "      <td>50</td>\n",
       "      <td>{'base_estimator__max_depth': 3, 'learning_rat...</td>\n",
       "      <td>0.818182</td>\n",
       "      <td>0.854545</td>\n",
       "      <td>0.836364</td>\n",
       "      <td>0.890909</td>\n",
       "      <td>0.854545</td>\n",
       "      <td>0.850909</td>\n",
       "      <td>0.024121</td>\n",
       "      <td>12</td>\n",
       "    </tr>\n",
       "    <tr>\n",
       "      <th>25</th>\n",
       "      <td>0.078673</td>\n",
       "      <td>0.001086</td>\n",
       "      <td>0.007834</td>\n",
       "      <td>1.188816e-03</td>\n",
       "      <td>3</td>\n",
       "      <td>1.0</td>\n",
       "      <td>100</td>\n",
       "      <td>{'base_estimator__max_depth': 3, 'learning_rat...</td>\n",
       "      <td>0.818182</td>\n",
       "      <td>0.854545</td>\n",
       "      <td>0.854545</td>\n",
       "      <td>0.890909</td>\n",
       "      <td>0.854545</td>\n",
       "      <td>0.854545</td>\n",
       "      <td>0.022998</td>\n",
       "      <td>10</td>\n",
       "    </tr>\n",
       "    <tr>\n",
       "      <th>26</th>\n",
       "      <td>0.156556</td>\n",
       "      <td>0.002130</td>\n",
       "      <td>0.014102</td>\n",
       "      <td>2.038065e-04</td>\n",
       "      <td>3</td>\n",
       "      <td>1.0</td>\n",
       "      <td>200</td>\n",
       "      <td>{'base_estimator__max_depth': 3, 'learning_rat...</td>\n",
       "      <td>0.854545</td>\n",
       "      <td>0.890909</td>\n",
       "      <td>0.854545</td>\n",
       "      <td>0.927273</td>\n",
       "      <td>0.854545</td>\n",
       "      <td>0.876364</td>\n",
       "      <td>0.029091</td>\n",
       "      <td>2</td>\n",
       "    </tr>\n",
       "  </tbody>\n",
       "</table>\n",
       "</div>"
      ],
      "text/plain": [
       "    mean_fit_time  std_fit_time  mean_score_time  std_score_time  \\\n",
       "0        0.042931      0.013646         0.004384    4.720096e-04   \n",
       "1        0.069228      0.001714         0.007101    4.882603e-04   \n",
       "2        0.141205      0.006372         0.013951    5.598955e-04   \n",
       "3        0.034207      0.000509         0.003999    2.861023e-07   \n",
       "4        0.068507      0.000709         0.011246    7.749468e-03   \n",
       "5        0.136282      0.001369         0.013918    3.575695e-04   \n",
       "6        0.035289      0.000692         0.004095    1.480629e-04   \n",
       "7        0.068300      0.000725         0.007546    4.526147e-04   \n",
       "8        0.136577      0.001914         0.013615    5.005636e-04   \n",
       "9        0.037608      0.000586         0.003799    4.000188e-04   \n",
       "10       0.073214      0.000401         0.007399    4.899987e-04   \n",
       "11       0.145300      0.000768         0.013557    4.783140e-04   \n",
       "12       0.036887      0.000490         0.004102    2.044243e-04   \n",
       "13       0.073598      0.001631         0.007599    4.926496e-04   \n",
       "14       0.145490      0.001250         0.013552    4.739614e-04   \n",
       "15       0.036895      0.000142         0.004002    4.543795e-05   \n",
       "16       0.073185      0.000451         0.007208    3.883591e-04   \n",
       "17       0.146892      0.001608         0.013727    3.904010e-04   \n",
       "18       0.039308      0.000495         0.004196    3.824760e-04   \n",
       "19       0.078585      0.000476         0.007461    4.331444e-04   \n",
       "20       0.155279      0.000586         0.014048    9.539597e-05   \n",
       "21       0.039484      0.000330         0.004004    1.006499e-05   \n",
       "22       0.077951      0.000680         0.007607    4.802639e-04   \n",
       "23       0.156368      0.001137         0.014033    7.015155e-05   \n",
       "24       0.039823      0.000496         0.004016    3.014976e-05   \n",
       "25       0.078673      0.001086         0.007834    1.188816e-03   \n",
       "26       0.156556      0.002130         0.014102    2.038065e-04   \n",
       "\n",
       "   param_base_estimator__max_depth param_learning_rate param_n_estimators  \\\n",
       "0                                1                 0.1                 50   \n",
       "1                                1                 0.1                100   \n",
       "2                                1                 0.1                200   \n",
       "3                                1                 0.5                 50   \n",
       "4                                1                 0.5                100   \n",
       "5                                1                 0.5                200   \n",
       "6                                1                 1.0                 50   \n",
       "7                                1                 1.0                100   \n",
       "8                                1                 1.0                200   \n",
       "9                                2                 0.1                 50   \n",
       "10                               2                 0.1                100   \n",
       "11                               2                 0.1                200   \n",
       "12                               2                 0.5                 50   \n",
       "13                               2                 0.5                100   \n",
       "14                               2                 0.5                200   \n",
       "15                               2                 1.0                 50   \n",
       "16                               2                 1.0                100   \n",
       "17                               2                 1.0                200   \n",
       "18                               3                 0.1                 50   \n",
       "19                               3                 0.1                100   \n",
       "20                               3                 0.1                200   \n",
       "21                               3                 0.5                 50   \n",
       "22                               3                 0.5                100   \n",
       "23                               3                 0.5                200   \n",
       "24                               3                 1.0                 50   \n",
       "25                               3                 1.0                100   \n",
       "26                               3                 1.0                200   \n",
       "\n",
       "                                               params  split0_test_score  \\\n",
       "0   {'base_estimator__max_depth': 1, 'learning_rat...           0.854545   \n",
       "1   {'base_estimator__max_depth': 1, 'learning_rat...           0.818182   \n",
       "2   {'base_estimator__max_depth': 1, 'learning_rat...           0.818182   \n",
       "3   {'base_estimator__max_depth': 1, 'learning_rat...           0.854545   \n",
       "4   {'base_estimator__max_depth': 1, 'learning_rat...           0.800000   \n",
       "5   {'base_estimator__max_depth': 1, 'learning_rat...           0.818182   \n",
       "6   {'base_estimator__max_depth': 1, 'learning_rat...           0.745455   \n",
       "7   {'base_estimator__max_depth': 1, 'learning_rat...           0.763636   \n",
       "8   {'base_estimator__max_depth': 1, 'learning_rat...           0.781818   \n",
       "9   {'base_estimator__max_depth': 2, 'learning_rat...           0.818182   \n",
       "10  {'base_estimator__max_depth': 2, 'learning_rat...           0.800000   \n",
       "11  {'base_estimator__max_depth': 2, 'learning_rat...           0.818182   \n",
       "12  {'base_estimator__max_depth': 2, 'learning_rat...           0.763636   \n",
       "13  {'base_estimator__max_depth': 2, 'learning_rat...           0.800000   \n",
       "14  {'base_estimator__max_depth': 2, 'learning_rat...           0.800000   \n",
       "15  {'base_estimator__max_depth': 2, 'learning_rat...           0.854545   \n",
       "16  {'base_estimator__max_depth': 2, 'learning_rat...           0.854545   \n",
       "17  {'base_estimator__max_depth': 2, 'learning_rat...           0.872727   \n",
       "18  {'base_estimator__max_depth': 3, 'learning_rat...           0.800000   \n",
       "19  {'base_estimator__max_depth': 3, 'learning_rat...           0.836364   \n",
       "20  {'base_estimator__max_depth': 3, 'learning_rat...           0.836364   \n",
       "21  {'base_estimator__max_depth': 3, 'learning_rat...           0.818182   \n",
       "22  {'base_estimator__max_depth': 3, 'learning_rat...           0.854545   \n",
       "23  {'base_estimator__max_depth': 3, 'learning_rat...           0.854545   \n",
       "24  {'base_estimator__max_depth': 3, 'learning_rat...           0.818182   \n",
       "25  {'base_estimator__max_depth': 3, 'learning_rat...           0.818182   \n",
       "26  {'base_estimator__max_depth': 3, 'learning_rat...           0.854545   \n",
       "\n",
       "    split1_test_score  split2_test_score  split3_test_score  \\\n",
       "0            0.890909           0.818182           0.872727   \n",
       "1            0.854545           0.836364           0.909091   \n",
       "2            0.872727           0.872727           0.890909   \n",
       "3            0.836364           0.854545           0.872727   \n",
       "4            0.836364           0.872727           0.836364   \n",
       "5            0.836364           0.836364           0.854545   \n",
       "6            0.836364           0.854545           0.854545   \n",
       "7            0.836364           0.872727           0.836364   \n",
       "8            0.818182           0.872727           0.836364   \n",
       "9            0.927273           0.818182           0.854545   \n",
       "10           0.854545           0.818182           0.872727   \n",
       "11           0.800000           0.836364           0.872727   \n",
       "12           0.836364           0.800000           0.909091   \n",
       "13           0.836364           0.800000           0.909091   \n",
       "14           0.800000           0.836364           0.890909   \n",
       "15           0.836364           0.872727           0.872727   \n",
       "16           0.836364           0.890909           0.836364   \n",
       "17           0.872727           0.890909           0.872727   \n",
       "18           0.836364           0.890909           0.854545   \n",
       "19           0.836364           0.818182           0.854545   \n",
       "20           0.818182           0.836364           0.836364   \n",
       "21           0.800000           0.872727           0.890909   \n",
       "22           0.818182           0.872727           0.909091   \n",
       "23           0.818182           0.836364           0.890909   \n",
       "24           0.854545           0.836364           0.890909   \n",
       "25           0.854545           0.854545           0.890909   \n",
       "26           0.890909           0.854545           0.927273   \n",
       "\n",
       "    split4_test_score  mean_test_score  std_test_score  rank_test_score  \n",
       "0            0.836364         0.854545        0.025713               10  \n",
       "1            0.854545         0.854545        0.030424                9  \n",
       "2            0.836364         0.858182        0.026722                8  \n",
       "3            0.836364         0.850909        0.013606               15  \n",
       "4            0.890909         0.847273        0.031701               16  \n",
       "5            0.872727         0.843636        0.018542               18  \n",
       "6            0.872727         0.832727        0.045126               27  \n",
       "7            0.890909         0.840000        0.043636               22  \n",
       "8            0.872727         0.836364        0.034498               25  \n",
       "9            0.872727         0.858182        0.040493                7  \n",
       "10           0.854545         0.840000        0.026722               24  \n",
       "11           0.854545         0.836364        0.025713               25  \n",
       "12           0.890909         0.840000        0.054424               22  \n",
       "13           0.909091         0.850909        0.049326               12  \n",
       "14           0.890909         0.843636        0.040818               18  \n",
       "15           0.909091         0.869091        0.024121                3  \n",
       "16           0.890909         0.861818        0.024663                4  \n",
       "17           0.890909         0.880000        0.008907                1  \n",
       "18           0.872727         0.850909        0.031281               12  \n",
       "19           0.872727         0.843636        0.018542               18  \n",
       "20           0.890909         0.843636        0.024663               18  \n",
       "21           0.854545         0.847273        0.033722               16  \n",
       "22           0.854545         0.861818        0.029542                6  \n",
       "23           0.909091         0.861818        0.033722                4  \n",
       "24           0.854545         0.850909        0.024121               12  \n",
       "25           0.854545         0.854545        0.022998               10  \n",
       "26           0.854545         0.876364        0.029091                2  "
      ]
     },
     "execution_count": 83,
     "metadata": {},
     "output_type": "execute_result"
    }
   ],
   "source": [
    "import pandas as pd\n",
    "data2=pd.DataFrame(gsc.cv_results_)\n",
    "data2"
   ]
  },
  {
   "cell_type": "code",
   "execution_count": 85,
   "id": "aab61285",
   "metadata": {},
   "outputs": [
    {
     "data": {
      "text/html": [
       "<div>\n",
       "<style scoped>\n",
       "    .dataframe tbody tr th:only-of-type {\n",
       "        vertical-align: middle;\n",
       "    }\n",
       "\n",
       "    .dataframe tbody tr th {\n",
       "        vertical-align: top;\n",
       "    }\n",
       "\n",
       "    .dataframe thead th {\n",
       "        text-align: right;\n",
       "    }\n",
       "</style>\n",
       "<table border=\"1\" class=\"dataframe\">\n",
       "  <thead>\n",
       "    <tr style=\"text-align: right;\">\n",
       "      <th></th>\n",
       "      <th>mean_fit_time</th>\n",
       "      <th>std_fit_time</th>\n",
       "      <th>mean_score_time</th>\n",
       "      <th>std_score_time</th>\n",
       "      <th>param_base_estimator__max_depth</th>\n",
       "      <th>param_learning_rate</th>\n",
       "      <th>param_n_estimators</th>\n",
       "      <th>params</th>\n",
       "      <th>split0_test_score</th>\n",
       "      <th>split1_test_score</th>\n",
       "      <th>split2_test_score</th>\n",
       "      <th>split3_test_score</th>\n",
       "      <th>split4_test_score</th>\n",
       "      <th>mean_test_score</th>\n",
       "      <th>std_test_score</th>\n",
       "      <th>rank_test_score</th>\n",
       "    </tr>\n",
       "  </thead>\n",
       "  <tbody>\n",
       "    <tr>\n",
       "      <th>0</th>\n",
       "      <td>0.042931</td>\n",
       "      <td>0.013646</td>\n",
       "      <td>0.004384</td>\n",
       "      <td>4.720096e-04</td>\n",
       "      <td>1</td>\n",
       "      <td>0.1</td>\n",
       "      <td>50</td>\n",
       "      <td>{'base_estimator__max_depth': 1, 'learning_rat...</td>\n",
       "      <td>0.854545</td>\n",
       "      <td>0.890909</td>\n",
       "      <td>0.818182</td>\n",
       "      <td>0.872727</td>\n",
       "      <td>0.836364</td>\n",
       "      <td>0.854545</td>\n",
       "      <td>0.025713</td>\n",
       "      <td>10</td>\n",
       "    </tr>\n",
       "    <tr>\n",
       "      <th>1</th>\n",
       "      <td>0.069228</td>\n",
       "      <td>0.001714</td>\n",
       "      <td>0.007101</td>\n",
       "      <td>4.882603e-04</td>\n",
       "      <td>1</td>\n",
       "      <td>0.1</td>\n",
       "      <td>100</td>\n",
       "      <td>{'base_estimator__max_depth': 1, 'learning_rat...</td>\n",
       "      <td>0.818182</td>\n",
       "      <td>0.854545</td>\n",
       "      <td>0.836364</td>\n",
       "      <td>0.909091</td>\n",
       "      <td>0.854545</td>\n",
       "      <td>0.854545</td>\n",
       "      <td>0.030424</td>\n",
       "      <td>9</td>\n",
       "    </tr>\n",
       "    <tr>\n",
       "      <th>2</th>\n",
       "      <td>0.141205</td>\n",
       "      <td>0.006372</td>\n",
       "      <td>0.013951</td>\n",
       "      <td>5.598955e-04</td>\n",
       "      <td>1</td>\n",
       "      <td>0.1</td>\n",
       "      <td>200</td>\n",
       "      <td>{'base_estimator__max_depth': 1, 'learning_rat...</td>\n",
       "      <td>0.818182</td>\n",
       "      <td>0.872727</td>\n",
       "      <td>0.872727</td>\n",
       "      <td>0.890909</td>\n",
       "      <td>0.836364</td>\n",
       "      <td>0.858182</td>\n",
       "      <td>0.026722</td>\n",
       "      <td>8</td>\n",
       "    </tr>\n",
       "    <tr>\n",
       "      <th>3</th>\n",
       "      <td>0.034207</td>\n",
       "      <td>0.000509</td>\n",
       "      <td>0.003999</td>\n",
       "      <td>2.861023e-07</td>\n",
       "      <td>1</td>\n",
       "      <td>0.5</td>\n",
       "      <td>50</td>\n",
       "      <td>{'base_estimator__max_depth': 1, 'learning_rat...</td>\n",
       "      <td>0.854545</td>\n",
       "      <td>0.836364</td>\n",
       "      <td>0.854545</td>\n",
       "      <td>0.872727</td>\n",
       "      <td>0.836364</td>\n",
       "      <td>0.850909</td>\n",
       "      <td>0.013606</td>\n",
       "      <td>15</td>\n",
       "    </tr>\n",
       "    <tr>\n",
       "      <th>4</th>\n",
       "      <td>0.068507</td>\n",
       "      <td>0.000709</td>\n",
       "      <td>0.011246</td>\n",
       "      <td>7.749468e-03</td>\n",
       "      <td>1</td>\n",
       "      <td>0.5</td>\n",
       "      <td>100</td>\n",
       "      <td>{'base_estimator__max_depth': 1, 'learning_rat...</td>\n",
       "      <td>0.800000</td>\n",
       "      <td>0.836364</td>\n",
       "      <td>0.872727</td>\n",
       "      <td>0.836364</td>\n",
       "      <td>0.890909</td>\n",
       "      <td>0.847273</td>\n",
       "      <td>0.031701</td>\n",
       "      <td>16</td>\n",
       "    </tr>\n",
       "  </tbody>\n",
       "</table>\n",
       "</div>"
      ],
      "text/plain": [
       "   mean_fit_time  std_fit_time  mean_score_time  std_score_time  \\\n",
       "0       0.042931      0.013646         0.004384    4.720096e-04   \n",
       "1       0.069228      0.001714         0.007101    4.882603e-04   \n",
       "2       0.141205      0.006372         0.013951    5.598955e-04   \n",
       "3       0.034207      0.000509         0.003999    2.861023e-07   \n",
       "4       0.068507      0.000709         0.011246    7.749468e-03   \n",
       "\n",
       "  param_base_estimator__max_depth param_learning_rate param_n_estimators  \\\n",
       "0                               1                 0.1                 50   \n",
       "1                               1                 0.1                100   \n",
       "2                               1                 0.1                200   \n",
       "3                               1                 0.5                 50   \n",
       "4                               1                 0.5                100   \n",
       "\n",
       "                                              params  split0_test_score  \\\n",
       "0  {'base_estimator__max_depth': 1, 'learning_rat...           0.854545   \n",
       "1  {'base_estimator__max_depth': 1, 'learning_rat...           0.818182   \n",
       "2  {'base_estimator__max_depth': 1, 'learning_rat...           0.818182   \n",
       "3  {'base_estimator__max_depth': 1, 'learning_rat...           0.854545   \n",
       "4  {'base_estimator__max_depth': 1, 'learning_rat...           0.800000   \n",
       "\n",
       "   split1_test_score  split2_test_score  split3_test_score  split4_test_score  \\\n",
       "0           0.890909           0.818182           0.872727           0.836364   \n",
       "1           0.854545           0.836364           0.909091           0.854545   \n",
       "2           0.872727           0.872727           0.890909           0.836364   \n",
       "3           0.836364           0.854545           0.872727           0.836364   \n",
       "4           0.836364           0.872727           0.836364           0.890909   \n",
       "\n",
       "   mean_test_score  std_test_score  rank_test_score  \n",
       "0         0.854545        0.025713               10  \n",
       "1         0.854545        0.030424                9  \n",
       "2         0.858182        0.026722                8  \n",
       "3         0.850909        0.013606               15  \n",
       "4         0.847273        0.031701               16  "
      ]
     },
     "execution_count": 85,
     "metadata": {},
     "output_type": "execute_result"
    }
   ],
   "source": [
    "data2.head()"
   ]
  },
  {
   "cell_type": "code",
   "execution_count": null,
   "id": "b4bb7971",
   "metadata": {},
   "outputs": [],
   "source": []
  },
  {
   "cell_type": "code",
   "execution_count": null,
   "id": "1a389159",
   "metadata": {},
   "outputs": [],
   "source": []
  },
  {
   "cell_type": "code",
   "execution_count": null,
   "id": "7fea205e",
   "metadata": {},
   "outputs": [],
   "source": []
  },
  {
   "cell_type": "code",
   "execution_count": null,
   "id": "e207336e",
   "metadata": {},
   "outputs": [],
   "source": []
  },
  {
   "cell_type": "code",
   "execution_count": null,
   "id": "4e332379",
   "metadata": {},
   "outputs": [],
   "source": []
  },
  {
   "cell_type": "code",
   "execution_count": null,
   "id": "b0bedef5",
   "metadata": {},
   "outputs": [],
   "source": []
  }
 ],
 "metadata": {
  "kernelspec": {
   "display_name": "Python 3 (ipykernel)",
   "language": "python",
   "name": "python3"
  },
  "language_info": {
   "codemirror_mode": {
    "name": "ipython",
    "version": 3
   },
   "file_extension": ".py",
   "mimetype": "text/x-python",
   "name": "python",
   "nbconvert_exporter": "python",
   "pygments_lexer": "ipython3",
   "version": "3.9.12"
  }
 },
 "nbformat": 4,
 "nbformat_minor": 5
}

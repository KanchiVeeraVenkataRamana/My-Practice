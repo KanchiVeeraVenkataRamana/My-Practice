{
 "cells": [
  {
   "cell_type": "code",
   "execution_count": 41,
   "id": "79630823",
   "metadata": {},
   "outputs": [
    {
     "data": {
      "text/plain": [
       "array([[-5,  2,  3],\n",
       "       [-2,  5,  1],\n",
       "       [-3,  1, -5]])"
      ]
     },
     "execution_count": 41,
     "metadata": {},
     "output_type": "execute_result"
    }
   ],
   "source": [
    "import numpy as np\n",
    "from numpy.linalg import eigh,norm\n",
    "a=np.array([[-5,2,3],[-2,5,1],[-3,1,-5]])      # A= UD*VT\n",
    "a"
   ]
  },
  {
   "cell_type": "code",
   "execution_count": 5,
   "id": "26d60bf8",
   "metadata": {},
   "outputs": [
    {
     "data": {
      "text/plain": [
       "array([[ 38, -23,  -2],\n",
       "       [-23,  30,   6],\n",
       "       [ -2,   6,  35]])"
      ]
     },
     "execution_count": 5,
     "metadata": {},
     "output_type": "execute_result"
    }
   ],
   "source": [
    "a.T@a"
   ]
  },
  {
   "cell_type": "code",
   "execution_count": 6,
   "id": "f600e5d4",
   "metadata": {},
   "outputs": [
    {
     "data": {
      "text/plain": [
       "(array([10.20319535, 34.20677963, 58.59002502]),\n",
       " array([[-0.62582822,  0.25924852,  0.73561488],\n",
       "        [-0.76812136, -0.04115132, -0.63898055],\n",
       "        [ 0.13538324,  0.96493356, -0.22488798]]))"
      ]
     },
     "execution_count": 6,
     "metadata": {},
     "output_type": "execute_result"
    }
   ],
   "source": [
    "eigh(a.T@a)"
   ]
  },
  {
   "cell_type": "code",
   "execution_count": 8,
   "id": "c6bd537e",
   "metadata": {},
   "outputs": [
    {
     "data": {
      "text/plain": [
       "array([10.20319535, 34.20677963, 58.59002502])"
      ]
     },
     "execution_count": 8,
     "metadata": {},
     "output_type": "execute_result"
    }
   ],
   "source": [
    "ev,V=eigh(a.T@a)\n",
    "ev"
   ]
  },
  {
   "cell_type": "code",
   "execution_count": 9,
   "id": "04e231b6",
   "metadata": {},
   "outputs": [
    {
     "data": {
      "text/plain": [
       "array([[-0.62582822,  0.25924852,  0.73561488],\n",
       "       [-0.76812136, -0.04115132, -0.63898055],\n",
       "       [ 0.13538324,  0.96493356, -0.22488798]])"
      ]
     },
     "execution_count": 9,
     "metadata": {},
     "output_type": "execute_result"
    }
   ],
   "source": [
    "V"
   ]
  },
  {
   "cell_type": "code",
   "execution_count": 14,
   "id": "16ecb946",
   "metadata": {},
   "outputs": [
    {
     "name": "stdout",
     "output_type": "stream",
     "text": [
      "[-0.62582822 -0.76812136  0.13538324]\n",
      "[ 0.25924852 -0.04115132  0.96493356]\n",
      "[ 0.73561488 -0.63898055 -0.22488798]\n"
     ]
    }
   ],
   "source": [
    "print(V[:,0])\n",
    "print(V[:,1])\n",
    "print(V[:,2])"
   ]
  },
  {
   "cell_type": "code",
   "execution_count": 19,
   "id": "6b2adba8",
   "metadata": {},
   "outputs": [
    {
     "name": "stdout",
     "output_type": "stream",
     "text": [
      "[ 0.62582822 -0.76812136  0.13538324]\n",
      "[ 0.25924852  0.04115132 -0.96493356]\n",
      "[ 0.25924852  0.04115132 -0.96493356]\n"
     ]
    }
   ],
   "source": [
    "u0=a@V[:,0]/norm(a@V[:,0])\n",
    "u1=a@V[:,1]/norm(a@V[:,1])\n",
    "u2=a@V[:,2]/norm(a@V[:,2])\n",
    "print(u0)\n",
    "print(u1)\n",
    "print(u1)"
   ]
  },
  {
   "cell_type": "code",
   "execution_count": 20,
   "id": "e0e6ab11",
   "metadata": {},
   "outputs": [
    {
     "data": {
      "text/plain": [
       "array([[ 0.62582822,  0.25924852,  0.25924852],\n",
       "       [-0.76812136,  0.04115132,  0.04115132],\n",
       "       [ 0.13538324, -0.96493356, -0.96493356]])"
      ]
     },
     "execution_count": 20,
     "metadata": {},
     "output_type": "execute_result"
    }
   ],
   "source": [
    "u=np.array([u0,u1,u1]).T\n",
    "u"
   ]
  },
  {
   "cell_type": "code",
   "execution_count": 22,
   "id": "d7d75a8a",
   "metadata": {},
   "outputs": [
    {
     "data": {
      "text/plain": [
       "array([[ 3.19424410e+00,  4.22306026e-16,  2.15115964e-15],\n",
       "       [ 3.27752437e-16,  5.84865622e+00, -1.37625106e-15],\n",
       "       [ 3.27752437e-16,  5.84865622e+00, -1.37625106e-15]])"
      ]
     },
     "execution_count": 22,
     "metadata": {},
     "output_type": "execute_result"
    }
   ],
   "source": [
    "u.T @a @V"
   ]
  },
  {
   "cell_type": "code",
   "execution_count": 27,
   "id": "8c0f042f",
   "metadata": {},
   "outputs": [
    {
     "data": {
      "text/plain": [
       "array([[ 3.,  0.,  0.],\n",
       "       [ 0.,  6., -0.],\n",
       "       [ 0.,  6., -0.]])"
      ]
     },
     "execution_count": 27,
     "metadata": {},
     "output_type": "execute_result"
    }
   ],
   "source": [
    "np.round(u.T @a @V )"
   ]
  },
  {
   "cell_type": "code",
   "execution_count": 29,
   "id": "2bb84148",
   "metadata": {},
   "outputs": [
    {
     "data": {
      "text/plain": [
       "array([[ 3.19,  0.  ,  0.  ],\n",
       "       [ 0.  ,  5.85, -0.  ],\n",
       "       [ 0.  ,  5.85, -0.  ]])"
      ]
     },
     "execution_count": 29,
     "metadata": {},
     "output_type": "execute_result"
    }
   ],
   "source": [
    "np.round(u.T @a @V , decimals=2)"
   ]
  },
  {
   "cell_type": "code",
   "execution_count": 33,
   "id": "b6cd1923",
   "metadata": {},
   "outputs": [
    {
     "data": {
      "text/plain": [
       "array([[ 3.19424,  0.     ,  0.     ],\n",
       "       [ 0.     ,  5.84866, -0.     ],\n",
       "       [ 0.     ,  5.84866, -0.     ]])"
      ]
     },
     "execution_count": 33,
     "metadata": {},
     "output_type": "execute_result"
    }
   ],
   "source": [
    "np.round(u.T @a @V , decimals=5)"
   ]
  },
  {
   "cell_type": "code",
   "execution_count": 37,
   "id": "6ddd8e62",
   "metadata": {},
   "outputs": [
    {
     "data": {
      "text/plain": [
       "array([[ 3.19424410e+00,  0.00000000e+00,  2.00000000e-15],\n",
       "       [ 0.00000000e+00,  5.84865622e+00, -1.00000000e-15],\n",
       "       [ 0.00000000e+00,  5.84865622e+00, -1.00000000e-15]])"
      ]
     },
     "execution_count": 37,
     "metadata": {},
     "output_type": "execute_result"
    }
   ],
   "source": [
    "np.round(u.T @a @V , decimals=15)"
   ]
  },
  {
   "cell_type": "code",
   "execution_count": null,
   "id": "38495da2",
   "metadata": {},
   "outputs": [],
   "source": []
  },
  {
   "cell_type": "code",
   "execution_count": null,
   "id": "07797791",
   "metadata": {},
   "outputs": [],
   "source": []
  },
  {
   "cell_type": "code",
   "execution_count": null,
   "id": "d083a5bf",
   "metadata": {},
   "outputs": [],
   "source": []
  },
  {
   "cell_type": "code",
   "execution_count": null,
   "id": "adb88de5",
   "metadata": {},
   "outputs": [],
   "source": []
  },
  {
   "cell_type": "code",
   "execution_count": null,
   "id": "a3c89c93",
   "metadata": {},
   "outputs": [],
   "source": []
  },
  {
   "cell_type": "code",
   "execution_count": null,
   "id": "bad4f624",
   "metadata": {},
   "outputs": [],
   "source": []
  }
 ],
 "metadata": {
  "kernelspec": {
   "display_name": "Python 3 (ipykernel)",
   "language": "python",
   "name": "python3"
  },
  "language_info": {
   "codemirror_mode": {
    "name": "ipython",
    "version": 3
   },
   "file_extension": ".py",
   "mimetype": "text/x-python",
   "name": "python",
   "nbconvert_exporter": "python",
   "pygments_lexer": "ipython3",
   "version": "3.9.12"
  }
 },
 "nbformat": 4,
 "nbformat_minor": 5
}
